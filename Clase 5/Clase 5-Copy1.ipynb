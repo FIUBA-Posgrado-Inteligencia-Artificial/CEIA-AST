{
 "cells": [
  {
   "cell_type": "code",
   "execution_count": 1,
   "id": "58686746",
   "metadata": {},
   "outputs": [],
   "source": [
    "# Librerías básicas\n",
    "import pandas as pd\n",
    "import numpy as np \n",
    "import matplotlib.pyplot as plt \n",
    "%matplotlib inline\n",
    "\n",
    "import seaborn as sns\n",
    "sns.set()"
   ]
  },
  {
   "cell_type": "markdown",
   "id": "a9ad9c79",
   "metadata": {},
   "source": [
    "# El módulo Statsmodels\n",
    "\n",
    "Statsmodels es un módulo de Python que ofrece clases y funciones de varios modelos estadísticos, así como pruebas de hipótesis \n",
    "y análisis exploratorio de datos. La documentación se encuentra en <a href='https://www.statsmodels.org/stable/index.html'>statsmodels.org</a>. "
   ]
  },
  {
   "cell_type": "code",
   "execution_count": 3,
   "id": "0b5e5487",
   "metadata": {},
   "outputs": [],
   "source": [
    "import statsmodels.graphics.tsaplots as sgt \n",
    "import statsmodels.tsa.stattools as sts \n",
    "from statsmodels.tsa.seasonal import seasonal_decompose\n",
    "\n",
    "import statsmodels.graphics.tsaplots as sgt\n",
    "from statsmodels.graphics.tsaplots import plot_predict\n",
    "from statsmodels.tsa.arima.model import ARIMA\n",
    "from statsmodels.tsa.statespace.sarimax import SARIMAX\n",
    "from scipy.stats.distributions import chi2\n",
    "import statsmodels.tsa.stattools as sts "
   ]
  },
  {
   "cell_type": "markdown",
   "id": "6635c849",
   "metadata": {},
   "source": [
    "# Fuentes de datos interesantes"
   ]
  },
  {
   "cell_type": "markdown",
   "id": "57e14b0a",
   "metadata": {},
   "source": [
    "## API de Yahoo finance\n",
    "\n",
    "Yahoo Finance tiene una API que permite descargar información financiera para realizar análisis. La página web original de la documentación ya no existe. Sin embargo, existen algunas páginas de documentación no oficial como <a href= 'https://github.com/mxbi/yahoo-finance-api.git'> este repositorio en GitHub, </a> o <a href='https://python-yahoofinance.readthedocs.io/en/latest/api.html'> esta página de documentación the ReadTheDocs </a>."
   ]
  },
  {
   "cell_type": "code",
   "execution_count": 6,
   "id": "f4cfabbd",
   "metadata": {},
   "outputs": [
    {
     "name": "stdout",
     "output_type": "stream",
     "text": [
      "Defaulting to user installation because normal site-packages is not writeable\n",
      "Requirement already satisfied: yfinance in c:\\users\\lenovo\\appdata\\roaming\\python\\python39\\site-packages (0.2.54)\n",
      "Requirement already satisfied: numpy>=1.16.5 in c:\\users\\lenovo\\appdata\\roaming\\python\\python39\\site-packages (from yfinance) (1.24.3)\n",
      "Requirement already satisfied: requests>=2.31 in c:\\users\\lenovo\\appdata\\roaming\\python\\python39\\site-packages (from yfinance) (2.32.3)\n",
      "Requirement already satisfied: platformdirs>=2.0.0 in c:\\programdata\\anaconda3\\lib\\site-packages (from yfinance) (3.10.0)\n",
      "Requirement already satisfied: peewee>=3.16.2 in c:\\users\\lenovo\\appdata\\roaming\\python\\python39\\site-packages (from yfinance) (3.17.6)\n",
      "Requirement already satisfied: pytz>=2022.5 in c:\\users\\lenovo\\appdata\\roaming\\python\\python39\\site-packages (from yfinance) (2024.1)\n",
      "Requirement already satisfied: pandas>=1.3.0 in c:\\programdata\\anaconda3\\lib\\site-packages (from yfinance) (1.4.4)\n",
      "Requirement already satisfied: frozendict>=2.3.4 in c:\\users\\lenovo\\appdata\\roaming\\python\\python39\\site-packages (from yfinance) (2.4.4)\n",
      "Requirement already satisfied: multitasking>=0.0.7 in c:\\users\\lenovo\\appdata\\roaming\\python\\python39\\site-packages (from yfinance) (0.0.11)\n",
      "Requirement already satisfied: beautifulsoup4>=4.11.1 in c:\\programdata\\anaconda3\\lib\\site-packages (from yfinance) (4.11.1)\n",
      "Requirement already satisfied: soupsieve>1.2 in c:\\programdata\\anaconda3\\lib\\site-packages (from beautifulsoup4>=4.11.1->yfinance) (2.3.1)\n",
      "Requirement already satisfied: python-dateutil>=2.8.1 in c:\\programdata\\anaconda3\\lib\\site-packages (from pandas>=1.3.0->yfinance) (2.8.2)\n",
      "Requirement already satisfied: urllib3<3,>=1.21.1 in c:\\users\\lenovo\\appdata\\roaming\\python\\python39\\site-packages (from requests>=2.31->yfinance) (2.3.0)\n",
      "Requirement already satisfied: charset-normalizer<4,>=2 in c:\\programdata\\anaconda3\\lib\\site-packages (from requests>=2.31->yfinance) (2.0.4)\n",
      "Requirement already satisfied: idna<4,>=2.5 in c:\\programdata\\anaconda3\\lib\\site-packages (from requests>=2.31->yfinance) (3.3)\n",
      "Requirement already satisfied: certifi>=2017.4.17 in c:\\programdata\\anaconda3\\lib\\site-packages (from requests>=2.31->yfinance) (2024.12.14)\n",
      "Requirement already satisfied: six>=1.5 in c:\\programdata\\anaconda3\\lib\\site-packages (from python-dateutil>=2.8.1->pandas>=1.3.0->yfinance) (1.16.0)\n",
      "Note: you may need to restart the kernel to use updated packages.\n"
     ]
    }
   ],
   "source": [
    "# Instalación de yfinance\n",
    "%pip install yfinance"
   ]
  },
  {
   "cell_type": "code",
   "execution_count": 7,
   "id": "0c86c59e",
   "metadata": {},
   "outputs": [],
   "source": [
    "# Se importa la librería yfinance\n",
    "import yfinance"
   ]
  },
  {
   "cell_type": "code",
   "execution_count": 8,
   "id": "8a0f6e2c",
   "metadata": {},
   "outputs": [
    {
     "name": "stderr",
     "output_type": "stream",
     "text": [
      "[*********************100%***********************]  2 of 2 completed\n"
     ]
    }
   ],
   "source": [
    "# Se descargan los datos S&P500 y Nikkei225\n",
    "df_yfinance_raw = yfinance.download(tickers = \"^GSPC ^N225\", #Las series de tiempo de interés - (en nuestro caso, S&P500 y NIKKEI225)\n",
    "                              start = \"1994-01-07\", #Fecha inicial\n",
    "                              end = \"2024-08-27\", #Fecha final\n",
    "                              interval = \"1d\", #Frecuencia.\n",
    "                              group_by = 'ticker', #Criterio de agrupación. Usualmente \"ticker\"\n",
    "                              auto_adjust = True#,  \n",
    "                              #threads = True\n",
    "                               ) #. "
   ]
  },
  {
   "cell_type": "code",
   "execution_count": 9,
   "id": "f60158b5",
   "metadata": {},
   "outputs": [
    {
     "data": {
      "text/html": [
       "<div>\n",
       "<style scoped>\n",
       "    .dataframe tbody tr th:only-of-type {\n",
       "        vertical-align: middle;\n",
       "    }\n",
       "\n",
       "    .dataframe tbody tr th {\n",
       "        vertical-align: top;\n",
       "    }\n",
       "\n",
       "    .dataframe thead tr th {\n",
       "        text-align: left;\n",
       "    }\n",
       "\n",
       "    .dataframe thead tr:last-of-type th {\n",
       "        text-align: right;\n",
       "    }\n",
       "</style>\n",
       "<table border=\"1\" class=\"dataframe\">\n",
       "  <thead>\n",
       "    <tr>\n",
       "      <th>Ticker</th>\n",
       "      <th colspan=\"5\" halign=\"left\">^N225</th>\n",
       "      <th colspan=\"5\" halign=\"left\">^GSPC</th>\n",
       "    </tr>\n",
       "    <tr>\n",
       "      <th>Price</th>\n",
       "      <th>Open</th>\n",
       "      <th>High</th>\n",
       "      <th>Low</th>\n",
       "      <th>Close</th>\n",
       "      <th>Volume</th>\n",
       "      <th>Open</th>\n",
       "      <th>High</th>\n",
       "      <th>Low</th>\n",
       "      <th>Close</th>\n",
       "      <th>Volume</th>\n",
       "    </tr>\n",
       "    <tr>\n",
       "      <th>Date</th>\n",
       "      <th></th>\n",
       "      <th></th>\n",
       "      <th></th>\n",
       "      <th></th>\n",
       "      <th></th>\n",
       "      <th></th>\n",
       "      <th></th>\n",
       "      <th></th>\n",
       "      <th></th>\n",
       "      <th></th>\n",
       "    </tr>\n",
       "  </thead>\n",
       "  <tbody>\n",
       "    <tr>\n",
       "      <th>1994-01-07</th>\n",
       "      <td>17842.980469</td>\n",
       "      <td>18131.410156</td>\n",
       "      <td>17787.480469</td>\n",
       "      <td>18124.009766</td>\n",
       "      <td>0.0</td>\n",
       "      <td>467.089996</td>\n",
       "      <td>470.260010</td>\n",
       "      <td>467.029999</td>\n",
       "      <td>469.899994</td>\n",
       "      <td>324920000.0</td>\n",
       "    </tr>\n",
       "    <tr>\n",
       "      <th>1994-01-10</th>\n",
       "      <td>18186.519531</td>\n",
       "      <td>18567.060547</td>\n",
       "      <td>18186.519531</td>\n",
       "      <td>18443.439453</td>\n",
       "      <td>0.0</td>\n",
       "      <td>469.899994</td>\n",
       "      <td>475.269989</td>\n",
       "      <td>469.549988</td>\n",
       "      <td>475.269989</td>\n",
       "      <td>319490000.0</td>\n",
       "    </tr>\n",
       "    <tr>\n",
       "      <th>1994-01-11</th>\n",
       "      <td>18481.849609</td>\n",
       "      <td>18671.669922</td>\n",
       "      <td>18373.039062</td>\n",
       "      <td>18485.250000</td>\n",
       "      <td>0.0</td>\n",
       "      <td>475.269989</td>\n",
       "      <td>475.279999</td>\n",
       "      <td>473.269989</td>\n",
       "      <td>474.130005</td>\n",
       "      <td>305490000.0</td>\n",
       "    </tr>\n",
       "    <tr>\n",
       "      <th>1994-01-12</th>\n",
       "      <td>18447.339844</td>\n",
       "      <td>18807.080078</td>\n",
       "      <td>18301.929688</td>\n",
       "      <td>18793.880859</td>\n",
       "      <td>0.0</td>\n",
       "      <td>474.130005</td>\n",
       "      <td>475.059998</td>\n",
       "      <td>472.140015</td>\n",
       "      <td>474.170013</td>\n",
       "      <td>310690000.0</td>\n",
       "    </tr>\n",
       "    <tr>\n",
       "      <th>1994-01-13</th>\n",
       "      <td>18770.380859</td>\n",
       "      <td>18823.380859</td>\n",
       "      <td>18548.750000</td>\n",
       "      <td>18577.259766</td>\n",
       "      <td>0.0</td>\n",
       "      <td>474.170013</td>\n",
       "      <td>474.170013</td>\n",
       "      <td>471.799988</td>\n",
       "      <td>472.470001</td>\n",
       "      <td>277970000.0</td>\n",
       "    </tr>\n",
       "  </tbody>\n",
       "</table>\n",
       "</div>"
      ],
      "text/plain": [
       "Ticker             ^N225                                                   \\\n",
       "Price               Open          High           Low         Close Volume   \n",
       "Date                                                                        \n",
       "1994-01-07  17842.980469  18131.410156  17787.480469  18124.009766    0.0   \n",
       "1994-01-10  18186.519531  18567.060547  18186.519531  18443.439453    0.0   \n",
       "1994-01-11  18481.849609  18671.669922  18373.039062  18485.250000    0.0   \n",
       "1994-01-12  18447.339844  18807.080078  18301.929688  18793.880859    0.0   \n",
       "1994-01-13  18770.380859  18823.380859  18548.750000  18577.259766    0.0   \n",
       "\n",
       "Ticker           ^GSPC                                                   \n",
       "Price             Open        High         Low       Close       Volume  \n",
       "Date                                                                     \n",
       "1994-01-07  467.089996  470.260010  467.029999  469.899994  324920000.0  \n",
       "1994-01-10  469.899994  475.269989  469.549988  475.269989  319490000.0  \n",
       "1994-01-11  475.269989  475.279999  473.269989  474.130005  305490000.0  \n",
       "1994-01-12  474.130005  475.059998  472.140015  474.170013  310690000.0  \n",
       "1994-01-13  474.170013  474.170013  471.799988  472.470001  277970000.0  "
      ]
     },
     "execution_count": 9,
     "metadata": {},
     "output_type": "execute_result"
    }
   ],
   "source": [
    "df_yfinance_raw.head()"
   ]
  },
  {
   "cell_type": "code",
   "execution_count": 10,
   "id": "a99e51b2",
   "metadata": {},
   "outputs": [],
   "source": [
    "# Se crea una copia para modificar\n",
    "df_yfinance = df_yfinance_raw.copy()"
   ]
  },
  {
   "cell_type": "code",
   "execution_count": 11,
   "id": "6233f498",
   "metadata": {},
   "outputs": [],
   "source": [
    "# Se agregan columnas para el nivel de cierre de los índices S&P500 y Nikkei255\n",
    "df_yfinance['spx'] = df_yfinance['^GSPC'].Close\n",
    "df_yfinance['nikkei'] = df_yfinance['^N225'].Close"
   ]
  },
  {
   "cell_type": "code",
   "execution_count": 12,
   "id": "54c95486",
   "metadata": {},
   "outputs": [],
   "source": [
    "#f_comp = df_comp.iloc[1:] # Removing the first elements, since we always start 1 period before the first, due to time zone differences of closing prices\n",
    "del df_yfinance['^N225'] # Se retiran los grupos de columnas '^N225' y '^GSPC'\n",
    "del df_yfinance['^GSPC']\n",
    "df_yfinance=df_yfinance.asfreq('b') # Se establece la frecuencia de los datos\n",
    "df_yfinance=df_yfinance.fillna(method='ffill') # Se rellenan los datos faltantes con el método ffill que usa el último valor válido"
   ]
  },
  {
   "cell_type": "code",
   "execution_count": 13,
   "id": "0d3a20b6",
   "metadata": {},
   "outputs": [
    {
     "data": {
      "text/html": [
       "<div>\n",
       "<style scoped>\n",
       "    .dataframe tbody tr th:only-of-type {\n",
       "        vertical-align: middle;\n",
       "    }\n",
       "\n",
       "    .dataframe tbody tr th {\n",
       "        vertical-align: top;\n",
       "    }\n",
       "\n",
       "    .dataframe thead tr th {\n",
       "        text-align: left;\n",
       "    }\n",
       "\n",
       "    .dataframe thead tr:last-of-type th {\n",
       "        text-align: right;\n",
       "    }\n",
       "</style>\n",
       "<table border=\"1\" class=\"dataframe\">\n",
       "  <thead>\n",
       "    <tr>\n",
       "      <th>Ticker</th>\n",
       "      <th>spx</th>\n",
       "      <th>nikkei</th>\n",
       "    </tr>\n",
       "    <tr>\n",
       "      <th>Price</th>\n",
       "      <th></th>\n",
       "      <th></th>\n",
       "    </tr>\n",
       "    <tr>\n",
       "      <th>Date</th>\n",
       "      <th></th>\n",
       "      <th></th>\n",
       "    </tr>\n",
       "  </thead>\n",
       "  <tbody>\n",
       "    <tr>\n",
       "      <th>1994-01-07</th>\n",
       "      <td>469.899994</td>\n",
       "      <td>18124.009766</td>\n",
       "    </tr>\n",
       "    <tr>\n",
       "      <th>1994-01-10</th>\n",
       "      <td>475.269989</td>\n",
       "      <td>18443.439453</td>\n",
       "    </tr>\n",
       "    <tr>\n",
       "      <th>1994-01-11</th>\n",
       "      <td>474.130005</td>\n",
       "      <td>18485.250000</td>\n",
       "    </tr>\n",
       "    <tr>\n",
       "      <th>1994-01-12</th>\n",
       "      <td>474.170013</td>\n",
       "      <td>18793.880859</td>\n",
       "    </tr>\n",
       "    <tr>\n",
       "      <th>1994-01-13</th>\n",
       "      <td>472.470001</td>\n",
       "      <td>18577.259766</td>\n",
       "    </tr>\n",
       "  </tbody>\n",
       "</table>\n",
       "</div>"
      ],
      "text/plain": [
       "Ticker             spx        nikkei\n",
       "Price                               \n",
       "Date                                \n",
       "1994-01-07  469.899994  18124.009766\n",
       "1994-01-10  475.269989  18443.439453\n",
       "1994-01-11  474.130005  18485.250000\n",
       "1994-01-12  474.170013  18793.880859\n",
       "1994-01-13  472.470001  18577.259766"
      ]
     },
     "execution_count": 13,
     "metadata": {},
     "output_type": "execute_result"
    }
   ],
   "source": [
    "df_yfinance.head()"
   ]
  },
  {
   "cell_type": "code",
   "execution_count": 14,
   "id": "b8b1b53f",
   "metadata": {},
   "outputs": [
    {
     "data": {
      "text/plain": [
       "MultiIndex([(   'spx', ''),\n",
       "            ('nikkei', '')],\n",
       "           names=['Ticker', 'Price'])"
      ]
     },
     "execution_count": 14,
     "metadata": {},
     "output_type": "execute_result"
    }
   ],
   "source": [
    "df_yfinance.columns"
   ]
  },
  {
   "cell_type": "code",
   "execution_count": 15,
   "id": "775d4091",
   "metadata": {},
   "outputs": [],
   "source": [
    "df_yfinance.columns=['spx','nikkei']"
   ]
  },
  {
   "cell_type": "code",
   "execution_count": 16,
   "id": "22fa8adb",
   "metadata": {},
   "outputs": [
    {
     "data": {
      "text/plain": [
       "Index(['spx', 'nikkei'], dtype='object')"
      ]
     },
     "execution_count": 16,
     "metadata": {},
     "output_type": "execute_result"
    }
   ],
   "source": [
    "df_yfinance.columns"
   ]
  },
  {
   "cell_type": "code",
   "execution_count": 17,
   "id": "c3ddb053",
   "metadata": {},
   "outputs": [
    {
     "data": {
      "text/html": [
       "<div>\n",
       "<style scoped>\n",
       "    .dataframe tbody tr th:only-of-type {\n",
       "        vertical-align: middle;\n",
       "    }\n",
       "\n",
       "    .dataframe tbody tr th {\n",
       "        vertical-align: top;\n",
       "    }\n",
       "\n",
       "    .dataframe thead th {\n",
       "        text-align: right;\n",
       "    }\n",
       "</style>\n",
       "<table border=\"1\" class=\"dataframe\">\n",
       "  <thead>\n",
       "    <tr style=\"text-align: right;\">\n",
       "      <th></th>\n",
       "      <th>spx</th>\n",
       "      <th>nikkei</th>\n",
       "    </tr>\n",
       "    <tr>\n",
       "      <th>Date</th>\n",
       "      <th></th>\n",
       "      <th></th>\n",
       "    </tr>\n",
       "  </thead>\n",
       "  <tbody>\n",
       "    <tr>\n",
       "      <th>1994-01-07</th>\n",
       "      <td>469.899994</td>\n",
       "      <td>18124.009766</td>\n",
       "    </tr>\n",
       "    <tr>\n",
       "      <th>1994-01-10</th>\n",
       "      <td>475.269989</td>\n",
       "      <td>18443.439453</td>\n",
       "    </tr>\n",
       "    <tr>\n",
       "      <th>1994-01-11</th>\n",
       "      <td>474.130005</td>\n",
       "      <td>18485.250000</td>\n",
       "    </tr>\n",
       "    <tr>\n",
       "      <th>1994-01-12</th>\n",
       "      <td>474.170013</td>\n",
       "      <td>18793.880859</td>\n",
       "    </tr>\n",
       "    <tr>\n",
       "      <th>1994-01-13</th>\n",
       "      <td>472.470001</td>\n",
       "      <td>18577.259766</td>\n",
       "    </tr>\n",
       "  </tbody>\n",
       "</table>\n",
       "</div>"
      ],
      "text/plain": [
       "                   spx        nikkei\n",
       "Date                                \n",
       "1994-01-07  469.899994  18124.009766\n",
       "1994-01-10  475.269989  18443.439453\n",
       "1994-01-11  474.130005  18485.250000\n",
       "1994-01-12  474.170013  18793.880859\n",
       "1994-01-13  472.470001  18577.259766"
      ]
     },
     "execution_count": 17,
     "metadata": {},
     "output_type": "execute_result"
    }
   ],
   "source": [
    "df_yfinance.head() "
   ]
  },
  {
   "cell_type": "code",
   "execution_count": 18,
   "id": "9b5d1e61",
   "metadata": {},
   "outputs": [
    {
     "data": {
      "text/plain": [
       "Index(['spx', 'nikkei'], dtype='object')"
      ]
     },
     "execution_count": 18,
     "metadata": {},
     "output_type": "execute_result"
    }
   ],
   "source": [
    "df_yfinance.columns"
   ]
  },
  {
   "cell_type": "code",
   "execution_count": 19,
   "id": "08ad0e39",
   "metadata": {},
   "outputs": [],
   "source": [
    "df_yfinance.index = pd.to_datetime(df_yfinance.index)"
   ]
  },
  {
   "cell_type": "code",
   "execution_count": 20,
   "id": "6fc17815",
   "metadata": {},
   "outputs": [
    {
     "data": {
      "text/html": [
       "<div>\n",
       "<style scoped>\n",
       "    .dataframe tbody tr th:only-of-type {\n",
       "        vertical-align: middle;\n",
       "    }\n",
       "\n",
       "    .dataframe tbody tr th {\n",
       "        vertical-align: top;\n",
       "    }\n",
       "\n",
       "    .dataframe thead th {\n",
       "        text-align: right;\n",
       "    }\n",
       "</style>\n",
       "<table border=\"1\" class=\"dataframe\">\n",
       "  <thead>\n",
       "    <tr style=\"text-align: right;\">\n",
       "      <th></th>\n",
       "      <th>spx</th>\n",
       "      <th>nikkei</th>\n",
       "    </tr>\n",
       "    <tr>\n",
       "      <th>Date</th>\n",
       "      <th></th>\n",
       "      <th></th>\n",
       "    </tr>\n",
       "  </thead>\n",
       "  <tbody>\n",
       "    <tr>\n",
       "      <th>2024-08-20</th>\n",
       "      <td>5597.120117</td>\n",
       "      <td>38062.921875</td>\n",
       "    </tr>\n",
       "    <tr>\n",
       "      <th>2024-08-21</th>\n",
       "      <td>5620.850098</td>\n",
       "      <td>37951.800781</td>\n",
       "    </tr>\n",
       "    <tr>\n",
       "      <th>2024-08-22</th>\n",
       "      <td>5570.640137</td>\n",
       "      <td>38211.011719</td>\n",
       "    </tr>\n",
       "    <tr>\n",
       "      <th>2024-08-23</th>\n",
       "      <td>5634.609863</td>\n",
       "      <td>38364.269531</td>\n",
       "    </tr>\n",
       "    <tr>\n",
       "      <th>2024-08-26</th>\n",
       "      <td>5616.839844</td>\n",
       "      <td>38110.218750</td>\n",
       "    </tr>\n",
       "  </tbody>\n",
       "</table>\n",
       "</div>"
      ],
      "text/plain": [
       "                    spx        nikkei\n",
       "Date                                 \n",
       "2024-08-20  5597.120117  38062.921875\n",
       "2024-08-21  5620.850098  37951.800781\n",
       "2024-08-22  5570.640137  38211.011719\n",
       "2024-08-23  5634.609863  38364.269531\n",
       "2024-08-26  5616.839844  38110.218750"
      ]
     },
     "execution_count": 20,
     "metadata": {},
     "output_type": "execute_result"
    }
   ],
   "source": [
    "df_yfinance.tail() # Making sure of the last day we're including in the series"
   ]
  },
  {
   "cell_type": "code",
   "execution_count": 21,
   "id": "f0cc0c92",
   "metadata": {},
   "outputs": [],
   "source": [
    "#df_comp.date = pd.to_datetime(df_comp.date, dayfirst = True)\n",
    "#df_comp.set_index(\"date\", inplace=True)\n",
    "df_yfinance=df_yfinance.asfreq('b')\n",
    "df_yfinance=df_yfinance.fillna(method='ffill')"
   ]
  },
  {
   "cell_type": "code",
   "execution_count": 22,
   "id": "88597010",
   "metadata": {
    "scrolled": true
   },
   "outputs": [
    {
     "data": {
      "text/html": [
       "<div>\n",
       "<style scoped>\n",
       "    .dataframe tbody tr th:only-of-type {\n",
       "        vertical-align: middle;\n",
       "    }\n",
       "\n",
       "    .dataframe tbody tr th {\n",
       "        vertical-align: top;\n",
       "    }\n",
       "\n",
       "    .dataframe thead th {\n",
       "        text-align: right;\n",
       "    }\n",
       "</style>\n",
       "<table border=\"1\" class=\"dataframe\">\n",
       "  <thead>\n",
       "    <tr style=\"text-align: right;\">\n",
       "      <th></th>\n",
       "      <th>spx</th>\n",
       "      <th>nikkei</th>\n",
       "    </tr>\n",
       "    <tr>\n",
       "      <th>Date</th>\n",
       "      <th></th>\n",
       "      <th></th>\n",
       "    </tr>\n",
       "  </thead>\n",
       "  <tbody>\n",
       "    <tr>\n",
       "      <th>1994-01-07</th>\n",
       "      <td>469.899994</td>\n",
       "      <td>18124.009766</td>\n",
       "    </tr>\n",
       "    <tr>\n",
       "      <th>1994-01-10</th>\n",
       "      <td>475.269989</td>\n",
       "      <td>18443.439453</td>\n",
       "    </tr>\n",
       "    <tr>\n",
       "      <th>1994-01-11</th>\n",
       "      <td>474.130005</td>\n",
       "      <td>18485.250000</td>\n",
       "    </tr>\n",
       "    <tr>\n",
       "      <th>1994-01-12</th>\n",
       "      <td>474.170013</td>\n",
       "      <td>18793.880859</td>\n",
       "    </tr>\n",
       "    <tr>\n",
       "      <th>1994-01-13</th>\n",
       "      <td>472.470001</td>\n",
       "      <td>18577.259766</td>\n",
       "    </tr>\n",
       "  </tbody>\n",
       "</table>\n",
       "</div>"
      ],
      "text/plain": [
       "                   spx        nikkei\n",
       "Date                                \n",
       "1994-01-07  469.899994  18124.009766\n",
       "1994-01-10  475.269989  18443.439453\n",
       "1994-01-11  474.130005  18485.250000\n",
       "1994-01-12  474.170013  18793.880859\n",
       "1994-01-13  472.470001  18577.259766"
      ]
     },
     "execution_count": 22,
     "metadata": {},
     "output_type": "execute_result"
    }
   ],
   "source": [
    "df_yfinance.head()"
   ]
  },
  {
   "cell_type": "code",
   "execution_count": 23,
   "id": "9718778c",
   "metadata": {},
   "outputs": [],
   "source": [
    "df_yfinance.index = pd.to_datetime(df_yfinance.index).tz_localize(None)"
   ]
  },
  {
   "cell_type": "markdown",
   "id": "da5c39be",
   "metadata": {},
   "source": [
    "## Algunos archivos csv con datos\n",
    "\n",
    "En <a href='https://github.com/jbrownlee/Datasets.git'>este repositorio de GitHub</a> se encuentran muchos archivos .csv con datos apropiados para ejercicios de aprendizaje de máquina y series de tiempo. En este notebook utilizaremos el archivo 'airline_passengers.csv'."
   ]
  },
  {
   "cell_type": "code",
   "execution_count": 25,
   "id": "c0d228df",
   "metadata": {},
   "outputs": [],
   "source": [
    "df_airline = pd.read_csv('airline_passengers.csv',index_col='Month',parse_dates=True)"
   ]
  },
  {
   "cell_type": "code",
   "execution_count": 26,
   "id": "4a2b4e10",
   "metadata": {},
   "outputs": [
    {
     "data": {
      "text/html": [
       "<div>\n",
       "<style scoped>\n",
       "    .dataframe tbody tr th:only-of-type {\n",
       "        vertical-align: middle;\n",
       "    }\n",
       "\n",
       "    .dataframe tbody tr th {\n",
       "        vertical-align: top;\n",
       "    }\n",
       "\n",
       "    .dataframe thead th {\n",
       "        text-align: right;\n",
       "    }\n",
       "</style>\n",
       "<table border=\"1\" class=\"dataframe\">\n",
       "  <thead>\n",
       "    <tr style=\"text-align: right;\">\n",
       "      <th></th>\n",
       "      <th>Passengers</th>\n",
       "    </tr>\n",
       "    <tr>\n",
       "      <th>Month</th>\n",
       "      <th></th>\n",
       "    </tr>\n",
       "  </thead>\n",
       "  <tbody>\n",
       "    <tr>\n",
       "      <th>1949-01-01</th>\n",
       "      <td>112</td>\n",
       "    </tr>\n",
       "    <tr>\n",
       "      <th>1949-02-01</th>\n",
       "      <td>118</td>\n",
       "    </tr>\n",
       "    <tr>\n",
       "      <th>1949-03-01</th>\n",
       "      <td>132</td>\n",
       "    </tr>\n",
       "    <tr>\n",
       "      <th>1949-04-01</th>\n",
       "      <td>129</td>\n",
       "    </tr>\n",
       "    <tr>\n",
       "      <th>1949-05-01</th>\n",
       "      <td>121</td>\n",
       "    </tr>\n",
       "  </tbody>\n",
       "</table>\n",
       "</div>"
      ],
      "text/plain": [
       "            Passengers\n",
       "Month                 \n",
       "1949-01-01         112\n",
       "1949-02-01         118\n",
       "1949-03-01         132\n",
       "1949-04-01         129\n",
       "1949-05-01         121"
      ]
     },
     "execution_count": 26,
     "metadata": {},
     "output_type": "execute_result"
    }
   ],
   "source": [
    "df_airline.head()"
   ]
  },
  {
   "cell_type": "code",
   "execution_count": 27,
   "id": "95b88a81",
   "metadata": {},
   "outputs": [],
   "source": [
    "df_airline.index = pd.to_datetime(df_airline.index)"
   ]
  },
  {
   "cell_type": "markdown",
   "id": "822133c2",
   "metadata": {},
   "source": [
    "## Datos que vienen con la librería statsmodels\n",
    "La librería <a href='https://www.statsmodels.org/stable/index.html'>statsmodels</a> tiene varios conjuntos de datos incorporados.\n",
    "En este notebook, utilizaremos el dataset 'macrodata', que trae datos macroeconómicos de EEUU."
   ]
  },
  {
   "cell_type": "code",
   "execution_count": 29,
   "id": "d1aa3c16",
   "metadata": {},
   "outputs": [
    {
     "name": "stdout",
     "output_type": "stream",
     "text": [
      "::\n",
      "    Number of Observations - 203\n",
      "\n",
      "    Number of Variables - 14\n",
      "\n",
      "    Variable name definitions::\n",
      "\n",
      "        year      - 1959q1 - 2009q3\n",
      "        quarter   - 1-4\n",
      "        realgdp   - Real gross domestic product (Bil. of chained 2005 US$,\n",
      "                    seasonally adjusted annual rate)\n",
      "        realcons  - Real personal consumption expenditures (Bil. of chained\n",
      "                    2005 US$, seasonally adjusted annual rate)\n",
      "        realinv   - Real gross private domestic investment (Bil. of chained\n",
      "                    2005 US$, seasonally adjusted annual rate)\n",
      "        realgovt  - Real federal consumption expenditures & gross investment\n",
      "                    (Bil. of chained 2005 US$, seasonally adjusted annual rate)\n",
      "        realdpi   - Real private disposable income (Bil. of chained 2005\n",
      "                    US$, seasonally adjusted annual rate)\n",
      "        cpi       - End of the quarter consumer price index for all urban\n",
      "                    consumers: all items (1982-84 = 100, seasonally adjusted).\n",
      "        m1        - End of the quarter M1 nominal money stock (Seasonally\n",
      "                    adjusted)\n",
      "        tbilrate  - Quarterly monthly average of the monthly 3-month\n",
      "                    treasury bill: secondary market rate\n",
      "        unemp     - Seasonally adjusted unemployment rate (%)\n",
      "        pop       - End of the quarter total population: all ages incl. armed\n",
      "                    forces over seas\n",
      "        infl      - Inflation rate (ln(cpi_{t}/cpi_{t-1}) * 400)\n",
      "        realint   - Real interest rate (tbilrate - infl)\n",
      "\n"
     ]
    }
   ],
   "source": [
    "#import pandas as pd\n",
    "import statsmodels.api as sm\n",
    "df_macrodata = sm.datasets.macrodata.load_pandas().data\n",
    "df_macrodata.index = pd.Index(sm.tsa.datetools.dates_from_range('1959Q1', '2009Q3'))\n",
    "print(sm.datasets.macrodata.NOTE)"
   ]
  },
  {
   "cell_type": "code",
   "execution_count": 30,
   "id": "fa6026e1",
   "metadata": {},
   "outputs": [
    {
     "data": {
      "text/html": [
       "<div>\n",
       "<style scoped>\n",
       "    .dataframe tbody tr th:only-of-type {\n",
       "        vertical-align: middle;\n",
       "    }\n",
       "\n",
       "    .dataframe tbody tr th {\n",
       "        vertical-align: top;\n",
       "    }\n",
       "\n",
       "    .dataframe thead th {\n",
       "        text-align: right;\n",
       "    }\n",
       "</style>\n",
       "<table border=\"1\" class=\"dataframe\">\n",
       "  <thead>\n",
       "    <tr style=\"text-align: right;\">\n",
       "      <th></th>\n",
       "      <th>year</th>\n",
       "      <th>quarter</th>\n",
       "      <th>realgdp</th>\n",
       "      <th>realcons</th>\n",
       "      <th>realinv</th>\n",
       "      <th>realgovt</th>\n",
       "      <th>realdpi</th>\n",
       "      <th>cpi</th>\n",
       "      <th>m1</th>\n",
       "      <th>tbilrate</th>\n",
       "      <th>unemp</th>\n",
       "      <th>pop</th>\n",
       "      <th>infl</th>\n",
       "      <th>realint</th>\n",
       "    </tr>\n",
       "  </thead>\n",
       "  <tbody>\n",
       "    <tr>\n",
       "      <th>1959-03-31</th>\n",
       "      <td>1959.0</td>\n",
       "      <td>1.0</td>\n",
       "      <td>2710.349</td>\n",
       "      <td>1707.4</td>\n",
       "      <td>286.898</td>\n",
       "      <td>470.045</td>\n",
       "      <td>1886.9</td>\n",
       "      <td>28.98</td>\n",
       "      <td>139.7</td>\n",
       "      <td>2.82</td>\n",
       "      <td>5.8</td>\n",
       "      <td>177.146</td>\n",
       "      <td>0.00</td>\n",
       "      <td>0.00</td>\n",
       "    </tr>\n",
       "    <tr>\n",
       "      <th>1959-06-30</th>\n",
       "      <td>1959.0</td>\n",
       "      <td>2.0</td>\n",
       "      <td>2778.801</td>\n",
       "      <td>1733.7</td>\n",
       "      <td>310.859</td>\n",
       "      <td>481.301</td>\n",
       "      <td>1919.7</td>\n",
       "      <td>29.15</td>\n",
       "      <td>141.7</td>\n",
       "      <td>3.08</td>\n",
       "      <td>5.1</td>\n",
       "      <td>177.830</td>\n",
       "      <td>2.34</td>\n",
       "      <td>0.74</td>\n",
       "    </tr>\n",
       "    <tr>\n",
       "      <th>1959-09-30</th>\n",
       "      <td>1959.0</td>\n",
       "      <td>3.0</td>\n",
       "      <td>2775.488</td>\n",
       "      <td>1751.8</td>\n",
       "      <td>289.226</td>\n",
       "      <td>491.260</td>\n",
       "      <td>1916.4</td>\n",
       "      <td>29.35</td>\n",
       "      <td>140.5</td>\n",
       "      <td>3.82</td>\n",
       "      <td>5.3</td>\n",
       "      <td>178.657</td>\n",
       "      <td>2.74</td>\n",
       "      <td>1.09</td>\n",
       "    </tr>\n",
       "    <tr>\n",
       "      <th>1959-12-31</th>\n",
       "      <td>1959.0</td>\n",
       "      <td>4.0</td>\n",
       "      <td>2785.204</td>\n",
       "      <td>1753.7</td>\n",
       "      <td>299.356</td>\n",
       "      <td>484.052</td>\n",
       "      <td>1931.3</td>\n",
       "      <td>29.37</td>\n",
       "      <td>140.0</td>\n",
       "      <td>4.33</td>\n",
       "      <td>5.6</td>\n",
       "      <td>179.386</td>\n",
       "      <td>0.27</td>\n",
       "      <td>4.06</td>\n",
       "    </tr>\n",
       "    <tr>\n",
       "      <th>1960-03-31</th>\n",
       "      <td>1960.0</td>\n",
       "      <td>1.0</td>\n",
       "      <td>2847.699</td>\n",
       "      <td>1770.5</td>\n",
       "      <td>331.722</td>\n",
       "      <td>462.199</td>\n",
       "      <td>1955.5</td>\n",
       "      <td>29.54</td>\n",
       "      <td>139.6</td>\n",
       "      <td>3.50</td>\n",
       "      <td>5.2</td>\n",
       "      <td>180.007</td>\n",
       "      <td>2.31</td>\n",
       "      <td>1.19</td>\n",
       "    </tr>\n",
       "  </tbody>\n",
       "</table>\n",
       "</div>"
      ],
      "text/plain": [
       "              year  quarter   realgdp  realcons  realinv  realgovt  realdpi  \\\n",
       "1959-03-31  1959.0      1.0  2710.349    1707.4  286.898   470.045   1886.9   \n",
       "1959-06-30  1959.0      2.0  2778.801    1733.7  310.859   481.301   1919.7   \n",
       "1959-09-30  1959.0      3.0  2775.488    1751.8  289.226   491.260   1916.4   \n",
       "1959-12-31  1959.0      4.0  2785.204    1753.7  299.356   484.052   1931.3   \n",
       "1960-03-31  1960.0      1.0  2847.699    1770.5  331.722   462.199   1955.5   \n",
       "\n",
       "              cpi     m1  tbilrate  unemp      pop  infl  realint  \n",
       "1959-03-31  28.98  139.7      2.82    5.8  177.146  0.00     0.00  \n",
       "1959-06-30  29.15  141.7      3.08    5.1  177.830  2.34     0.74  \n",
       "1959-09-30  29.35  140.5      3.82    5.3  178.657  2.74     1.09  \n",
       "1959-12-31  29.37  140.0      4.33    5.6  179.386  0.27     4.06  \n",
       "1960-03-31  29.54  139.6      3.50    5.2  180.007  2.31     1.19  "
      ]
     },
     "execution_count": 30,
     "metadata": {},
     "output_type": "execute_result"
    }
   ],
   "source": [
    "df_macrodata.head()"
   ]
  },
  {
   "cell_type": "code",
   "execution_count": 31,
   "id": "8a7e0f9a",
   "metadata": {},
   "outputs": [],
   "source": [
    "df_macrodata.index = pd.to_datetime(df_macrodata.index)"
   ]
  },
  {
   "cell_type": "markdown",
   "id": "fe3f193c",
   "metadata": {},
   "source": [
    "## Datos de simulados de ventas"
   ]
  },
  {
   "cell_type": "code",
   "execution_count": 33,
   "id": "cda8265e",
   "metadata": {},
   "outputs": [],
   "source": [
    "df_ventas = pd.read_excel('Datos_clase_1.xlsx',index_col = 'Fecha', parse_dates = True)"
   ]
  },
  {
   "cell_type": "code",
   "execution_count": 34,
   "id": "8fd6f449",
   "metadata": {},
   "outputs": [],
   "source": [
    "df_ventas.index = pd.to_datetime(df_ventas.index)"
   ]
  },
  {
   "cell_type": "markdown",
   "id": "f4ea9913",
   "metadata": {},
   "source": [
    "# Yahoo finance"
   ]
  },
  {
   "cell_type": "markdown",
   "id": "c0d5ec91",
   "metadata": {},
   "source": [
    "## Estacionaridad"
   ]
  },
  {
   "cell_type": "code",
   "execution_count": 37,
   "id": "8ad1b770",
   "metadata": {},
   "outputs": [
    {
     "data": {
      "text/plain": [
       "(2.495421902147278,\n",
       " 0.9990483594146493,\n",
       " 32,\n",
       " 7959,\n",
       " {'1%': -3.4311718884675066,\n",
       "  '5%': -2.861903215555782,\n",
       "  '10%': -2.566963334958385},\n",
       " 72367.34132821791)"
      ]
     },
     "execution_count": 37,
     "metadata": {},
     "output_type": "execute_result"
    }
   ],
   "source": [
    "sts.adfuller(df_yfinance['spx'])"
   ]
  },
  {
   "cell_type": "markdown",
   "id": "ce2a9c2a",
   "metadata": {},
   "source": [
    "## PACF y ACF"
   ]
  },
  {
   "cell_type": "code",
   "execution_count": 39,
   "id": "3068cc15",
   "metadata": {},
   "outputs": [
    {
     "name": "stderr",
     "output_type": "stream",
     "text": [
      "C:\\ProgramData\\Anaconda3\\lib\\site-packages\\statsmodels\\graphics\\tsaplots.py:348: FutureWarning: The default method 'yw' can produce PACF values outside of the [-1,1] interval. After 0.13, the default will change tounadjusted Yule-Walker ('ywm'). You can use this method now by setting method='ywm'.\n",
      "  warnings.warn(\n"
     ]
    },
    {
     "data": {
      "image/png": "[encoded data removed]",
      "text/plain": [
       "<Figure size 640x480 with 1 Axes>"
      ]
     },
     "metadata": {},
     "output_type": "display_data"
    }
   ],
   "source": [
    "sgt.plot_pacf(df_yfinance['spx'], zero = False, lags = 40)\n",
    "plt.title(\"PACF for S&P500\", size = 20)\n",
    "plt.show()"
   ]
  },
  {
   "cell_type": "code",
   "execution_count": 40,
   "id": "20cc17b1",
   "metadata": {},
   "outputs": [
    {
     "data": {
      "image/png": "[encoded data removed]",
      "text/plain": [
       "<Figure size 640x480 with 1 Axes>"
      ]
     },
     "metadata": {},
     "output_type": "display_data"
    }
   ],
   "source": [
    "sgt.plot_acf(df_yfinance['spx'], zero = False, lags = 40)\n",
    "plt.title(\"ACF for S&P500\", size = 20)\n",
    "plt.show()"
   ]
  },
  {
   "cell_type": "markdown",
   "id": "2d4dc4e3",
   "metadata": {},
   "source": [
    "## Modelo AR(1)"
   ]
  },
  {
   "cell_type": "code",
   "execution_count": 42,
   "id": "8c16396c",
   "metadata": {},
   "outputs": [],
   "source": [
    "yfinance_model_ar_1 = ARIMA(df_yfinance['spx'], order=(1,0,0))"
   ]
  },
  {
   "cell_type": "code",
   "execution_count": 43,
   "id": "7fd5bf3b",
   "metadata": {},
   "outputs": [
    {
     "name": "stderr",
     "output_type": "stream",
     "text": [
      "C:\\ProgramData\\Anaconda3\\lib\\site-packages\\statsmodels\\tsa\\statespace\\sarimax.py:966: UserWarning: Non-stationary starting autoregressive parameters found. Using zeros as starting parameters.\n",
      "  warn('Non-stationary starting autoregressive parameters'\n"
     ]
    }
   ],
   "source": [
    "yfinance_results_ar_1 = yfinance_model_ar_1.fit()"
   ]
  },
  {
   "cell_type": "code",
   "execution_count": 44,
   "id": "a3f52d64",
   "metadata": {},
   "outputs": [
    {
     "data": {
      "text/html": [
       "<table class=\"simpletable\">\n",
       "<caption>SARIMAX Results</caption>\n",
       "<tr>\n",
       "  <th>Dep. Variable:</th>          <td>spx</td>       <th>  No. Observations:  </th>    <td>7992</td>   \n",
       "</tr>\n",
       "<tr>\n",
       "  <th>Model:</th>            <td>ARIMA(1, 0, 0)</td>  <th>  Log Likelihood     </th> <td>-36454.616</td>\n",
       "</tr>\n",
       "<tr>\n",
       "  <th>Date:</th>            <td>Mon, 31 Mar 2025</td> <th>  AIC                </th>  <td>72915.231</td>\n",
       "</tr>\n",
       "<tr>\n",
       "  <th>Time:</th>                <td>07:44:39</td>     <th>  BIC                </th>  <td>72936.190</td>\n",
       "</tr>\n",
       "<tr>\n",
       "  <th>Sample:</th>             <td>01-07-1994</td>    <th>  HQIC               </th>  <td>72922.406</td>\n",
       "</tr>\n",
       "<tr>\n",
       "  <th></th>                   <td>- 08-26-2024</td>   <th>                     </th>      <td> </td>    \n",
       "</tr>\n",
       "<tr>\n",
       "  <th>Covariance Type:</th>        <td>opg</td>       <th>                     </th>      <td> </td>    \n",
       "</tr>\n",
       "</table>\n",
       "<table class=\"simpletable\">\n",
       "<tr>\n",
       "     <td></td>       <th>coef</th>     <th>std err</th>      <th>z</th>      <th>P>|z|</th>  <th>[0.025</th>    <th>0.975]</th>  \n",
       "</tr>\n",
       "<tr>\n",
       "  <th>const</th>  <td> 1818.9555</td> <td> 1144.491</td> <td>    1.589</td> <td> 0.112</td> <td> -424.206</td> <td> 4062.117</td>\n",
       "</tr>\n",
       "<tr>\n",
       "  <th>ar.L1</th>  <td>    0.9998</td> <td>    0.000</td> <td> 6308.795</td> <td> 0.000</td> <td>    1.000</td> <td>    1.000</td>\n",
       "</tr>\n",
       "<tr>\n",
       "  <th>sigma2</th> <td>  535.8763</td> <td>    2.663</td> <td>  201.206</td> <td> 0.000</td> <td>  530.656</td> <td>  541.096</td>\n",
       "</tr>\n",
       "</table>\n",
       "<table class=\"simpletable\">\n",
       "<tr>\n",
       "  <th>Ljung-Box (L1) (Q):</th>     <td>49.71</td> <th>  Jarque-Bera (JB):  </th> <td>117805.78</td>\n",
       "</tr>\n",
       "<tr>\n",
       "  <th>Prob(Q):</th>                <td>0.00</td>  <th>  Prob(JB):          </th>   <td>0.00</td>   \n",
       "</tr>\n",
       "<tr>\n",
       "  <th>Heteroskedasticity (H):</th> <td>8.68</td>  <th>  Skew:              </th>   <td>-0.73</td>  \n",
       "</tr>\n",
       "<tr>\n",
       "  <th>Prob(H) (two-sided):</th>    <td>0.00</td>  <th>  Kurtosis:          </th>   <td>21.75</td>  \n",
       "</tr>\n",
       "</table><br/><br/>Warnings:<br/>[1] Covariance matrix calculated using the outer product of gradients (complex-step)."
      ],
      "text/plain": [
       "<class 'statsmodels.iolib.summary.Summary'>\n",
       "\"\"\"\n",
       "                               SARIMAX Results                                \n",
       "==============================================================================\n",
       "Dep. Variable:                    spx   No. Observations:                 7992\n",
       "Model:                 ARIMA(1, 0, 0)   Log Likelihood              -36454.616\n",
       "Date:                Mon, 31 Mar 2025   AIC                          72915.231\n",
       "Time:                        07:44:39   BIC                          72936.190\n",
       "Sample:                    01-07-1994   HQIC                         72922.406\n",
       "                         - 08-26-2024                                         \n",
       "Covariance Type:                  opg                                         \n",
       "==============================================================================\n",
       "                 coef    std err          z      P>|z|      [0.025      0.975]\n",
       "------------------------------------------------------------------------------\n",
       "const       1818.9555   1144.491      1.589      0.112    -424.206    4062.117\n",
       "ar.L1          0.9998      0.000   6308.795      0.000       1.000       1.000\n",
       "sigma2       535.8763      2.663    201.206      0.000     530.656     541.096\n",
       "===================================================================================\n",
       "Ljung-Box (L1) (Q):                  49.71   Jarque-Bera (JB):            117805.78\n",
       "Prob(Q):                              0.00   Prob(JB):                         0.00\n",
       "Heteroskedasticity (H):               8.68   Skew:                            -0.73\n",
       "Prob(H) (two-sided):                  0.00   Kurtosis:                        21.75\n",
       "===================================================================================\n",
       "\n",
       "Warnings:\n",
       "[1] Covariance matrix calculated using the outer product of gradients (complex-step).\n",
       "\"\"\""
      ]
     },
     "execution_count": 44,
     "metadata": {},
     "output_type": "execute_result"
    }
   ],
   "source": [
    "yfinance_results_ar_1.summary()"
   ]
  },
  {
   "cell_type": "code",
   "execution_count": 45,
   "id": "c0a0d07a",
   "metadata": {},
   "outputs": [],
   "source": [
    "#yfinance_results_ar_1['Date']"
   ]
  },
  {
   "cell_type": "code",
   "execution_count": 46,
   "id": "b701ba39",
   "metadata": {},
   "outputs": [
    {
     "data": {
      "text/plain": [
       "<statsmodels.tsa.statespace.mlemodel.PredictionResultsWrapper at 0x1eb01106a90>"
      ]
     },
     "execution_count": 46,
     "metadata": {},
     "output_type": "execute_result"
    }
   ],
   "source": [
    "yfinance_results_ar_1.get_prediction(start = '2015-01-01',end = '2016-01-01')"
   ]
  },
  {
   "cell_type": "code",
   "execution_count": 47,
   "id": "e97367aa",
   "metadata": {},
   "outputs": [],
   "source": [
    "start = pd.to_datetime('2015-01-01').tz_localize(None)\n",
    "end = pd.to_datetime('2016-01-01').tz_localize(None)"
   ]
  },
  {
   "cell_type": "code",
   "execution_count": 48,
   "id": "0ae9fc03",
   "metadata": {},
   "outputs": [
    {
     "data": {
      "image/png": "[encoded data removed]",
      "text/plain": [
       "<Figure size 1200x500 with 1 Axes>"
      ]
     },
     "metadata": {},
     "output_type": "display_data"
    }
   ],
   "source": [
    "plot_predict(yfinance_results_ar_1)\n",
    "df_yfinance['spx'].plot(figsize=(12,5));"
   ]
  },
  {
   "cell_type": "markdown",
   "id": "12b34391",
   "metadata": {},
   "source": [
    "## Modelo MA(1)"
   ]
  },
  {
   "cell_type": "code",
   "execution_count": 50,
   "id": "e5e2a39e",
   "metadata": {},
   "outputs": [],
   "source": [
    "yfinance_model_ma_1 = ARIMA(df_yfinance['spx'], order=(0,0,1))"
   ]
  },
  {
   "cell_type": "code",
   "execution_count": 51,
   "id": "d00847b0",
   "metadata": {},
   "outputs": [],
   "source": [
    "yfinance_results_ma_1 = yfinance_model_ma_1.fit()"
   ]
  },
  {
   "cell_type": "code",
   "execution_count": 52,
   "id": "2abaa46a",
   "metadata": {},
   "outputs": [
    {
     "data": {
      "text/html": [
       "<table class=\"simpletable\">\n",
       "<caption>SARIMAX Results</caption>\n",
       "<tr>\n",
       "  <th>Dep. Variable:</th>          <td>spx</td>       <th>  No. Observations:  </th>    <td>7992</td>   \n",
       "</tr>\n",
       "<tr>\n",
       "  <th>Model:</th>            <td>ARIMA(0, 0, 1)</td>  <th>  Log Likelihood     </th> <td>-62328.834</td>\n",
       "</tr>\n",
       "<tr>\n",
       "  <th>Date:</th>            <td>Mon, 31 Mar 2025</td> <th>  AIC                </th> <td>124663.668</td>\n",
       "</tr>\n",
       "<tr>\n",
       "  <th>Time:</th>                <td>07:44:46</td>     <th>  BIC                </th> <td>124684.627</td>\n",
       "</tr>\n",
       "<tr>\n",
       "  <th>Sample:</th>             <td>01-07-1994</td>    <th>  HQIC               </th> <td>124670.843</td>\n",
       "</tr>\n",
       "<tr>\n",
       "  <th></th>                   <td>- 08-26-2024</td>   <th>                     </th>      <td> </td>    \n",
       "</tr>\n",
       "<tr>\n",
       "  <th>Covariance Type:</th>        <td>opg</td>       <th>                     </th>      <td> </td>    \n",
       "</tr>\n",
       "</table>\n",
       "<table class=\"simpletable\">\n",
       "<tr>\n",
       "     <td></td>       <th>coef</th>     <th>std err</th>      <th>z</th>      <th>P>|z|</th>  <th>[0.025</th>    <th>0.975]</th>  \n",
       "</tr>\n",
       "<tr>\n",
       "  <th>const</th>  <td> 1818.9199</td> <td>   20.734</td> <td>   87.725</td> <td> 0.000</td> <td> 1778.282</td> <td> 1859.558</td>\n",
       "</tr>\n",
       "<tr>\n",
       "  <th>ma.L1</th>  <td>    0.9886</td> <td>    0.001</td> <td>  848.098</td> <td> 0.000</td> <td>    0.986</td> <td>    0.991</td>\n",
       "</tr>\n",
       "<tr>\n",
       "  <th>sigma2</th> <td> 3.478e+05</td> <td> 7271.591</td> <td>   47.834</td> <td> 0.000</td> <td> 3.34e+05</td> <td> 3.62e+05</td>\n",
       "</tr>\n",
       "</table>\n",
       "<table class=\"simpletable\">\n",
       "<tr>\n",
       "  <th>Ljung-Box (L1) (Q):</th>     <td>7626.21</td> <th>  Jarque-Bera (JB):  </th> <td>2548.71</td>\n",
       "</tr>\n",
       "<tr>\n",
       "  <th>Prob(Q):</th>                 <td>0.00</td>   <th>  Prob(JB):          </th>  <td>0.00</td>  \n",
       "</tr>\n",
       "<tr>\n",
       "  <th>Heteroskedasticity (H):</th>  <td>3.50</td>   <th>  Skew:              </th>  <td>1.31</td>  \n",
       "</tr>\n",
       "<tr>\n",
       "  <th>Prob(H) (two-sided):</th>     <td>0.00</td>   <th>  Kurtosis:          </th>  <td>3.87</td>  \n",
       "</tr>\n",
       "</table><br/><br/>Warnings:<br/>[1] Covariance matrix calculated using the outer product of gradients (complex-step)."
      ],
      "text/plain": [
       "<class 'statsmodels.iolib.summary.Summary'>\n",
       "\"\"\"\n",
       "                               SARIMAX Results                                \n",
       "==============================================================================\n",
       "Dep. Variable:                    spx   No. Observations:                 7992\n",
       "Model:                 ARIMA(0, 0, 1)   Log Likelihood              -62328.834\n",
       "Date:                Mon, 31 Mar 2025   AIC                         124663.668\n",
       "Time:                        07:44:46   BIC                         124684.627\n",
       "Sample:                    01-07-1994   HQIC                        124670.843\n",
       "                         - 08-26-2024                                         \n",
       "Covariance Type:                  opg                                         \n",
       "==============================================================================\n",
       "                 coef    std err          z      P>|z|      [0.025      0.975]\n",
       "------------------------------------------------------------------------------\n",
       "const       1818.9199     20.734     87.725      0.000    1778.282    1859.558\n",
       "ma.L1          0.9886      0.001    848.098      0.000       0.986       0.991\n",
       "sigma2      3.478e+05   7271.591     47.834      0.000    3.34e+05    3.62e+05\n",
       "===================================================================================\n",
       "Ljung-Box (L1) (Q):                7626.21   Jarque-Bera (JB):              2548.71\n",
       "Prob(Q):                              0.00   Prob(JB):                         0.00\n",
       "Heteroskedasticity (H):               3.50   Skew:                             1.31\n",
       "Prob(H) (two-sided):                  0.00   Kurtosis:                         3.87\n",
       "===================================================================================\n",
       "\n",
       "Warnings:\n",
       "[1] Covariance matrix calculated using the outer product of gradients (complex-step).\n",
       "\"\"\""
      ]
     },
     "execution_count": 52,
     "metadata": {},
     "output_type": "execute_result"
    }
   ],
   "source": [
    "yfinance_results_ma_1.summary()"
   ]
  },
  {
   "cell_type": "code",
   "execution_count": 53,
   "id": "8460cace",
   "metadata": {},
   "outputs": [
    {
     "data": {
      "image/png": "[encoded data removed]",
      "text/plain": [
       "<Figure size 1200x500 with 1 Axes>"
      ]
     },
     "metadata": {},
     "output_type": "display_data"
    }
   ],
   "source": [
    "plot_predict(yfinance_results_ma_1, start = '2015-01-01',end = '2016-01-01')\n",
    "df_yfinance['spx']['2015-01-01':'2016-01-01'].plot(figsize=(12,5));"
   ]
  },
  {
   "cell_type": "markdown",
   "id": "f4cba055",
   "metadata": {},
   "source": [
    "## AR de mayor complejidad"
   ]
  },
  {
   "cell_type": "code",
   "execution_count": null,
   "id": "3c6ac09a",
   "metadata": {},
   "outputs": [],
   "source": []
  },
  {
   "cell_type": "code",
   "execution_count": null,
   "id": "fc7c2037",
   "metadata": {},
   "outputs": [],
   "source": []
  },
  {
   "cell_type": "code",
   "execution_count": null,
   "id": "79b87e45",
   "metadata": {},
   "outputs": [],
   "source": []
  },
  {
   "cell_type": "markdown",
   "id": "e29b3b03",
   "metadata": {},
   "source": [
    "## Modelos MA más complejos"
   ]
  },
  {
   "cell_type": "code",
   "execution_count": 56,
   "id": "5549e5d2",
   "metadata": {},
   "outputs": [],
   "source": [
    "yfinance_model_ma_5 = ARIMA(df_yfinance['spx'], order=(0,0,5))"
   ]
  },
  {
   "cell_type": "code",
   "execution_count": 57,
   "id": "be278ccd",
   "metadata": {},
   "outputs": [
    {
     "name": "stderr",
     "output_type": "stream",
     "text": [
      "C:\\ProgramData\\Anaconda3\\lib\\site-packages\\statsmodels\\tsa\\statespace\\sarimax.py:978: UserWarning: Non-invertible starting MA parameters found. Using zeros as starting parameters.\n",
      "  warn('Non-invertible starting MA parameters found.'\n"
     ]
    }
   ],
   "source": [
    "yfinance_results_ma_5 = yfinance_model_ma_5.fit()"
   ]
  },
  {
   "cell_type": "code",
   "execution_count": 58,
   "id": "82531662",
   "metadata": {},
   "outputs": [
    {
     "data": {
      "text/html": [
       "<table class=\"simpletable\">\n",
       "<caption>SARIMAX Results</caption>\n",
       "<tr>\n",
       "  <th>Dep. Variable:</th>          <td>spx</td>       <th>  No. Observations:  </th>    <td>7992</td>   \n",
       "</tr>\n",
       "<tr>\n",
       "  <th>Model:</th>            <td>ARIMA(0, 0, 5)</td>  <th>  Log Likelihood     </th> <td>-57674.488</td>\n",
       "</tr>\n",
       "<tr>\n",
       "  <th>Date:</th>            <td>Mon, 31 Mar 2025</td> <th>  AIC                </th> <td>115362.976</td>\n",
       "</tr>\n",
       "<tr>\n",
       "  <th>Time:</th>                <td>07:45:12</td>     <th>  BIC                </th> <td>115411.880</td>\n",
       "</tr>\n",
       "<tr>\n",
       "  <th>Sample:</th>             <td>01-07-1994</td>    <th>  HQIC               </th> <td>115379.716</td>\n",
       "</tr>\n",
       "<tr>\n",
       "  <th></th>                   <td>- 08-26-2024</td>   <th>                     </th>      <td> </td>    \n",
       "</tr>\n",
       "<tr>\n",
       "  <th>Covariance Type:</th>        <td>opg</td>       <th>                     </th>      <td> </td>    \n",
       "</tr>\n",
       "</table>\n",
       "<table class=\"simpletable\">\n",
       "<tr>\n",
       "     <td></td>       <th>coef</th>     <th>std err</th>      <th>z</th>      <th>P>|z|</th>  <th>[0.025</th>    <th>0.975]</th>  \n",
       "</tr>\n",
       "<tr>\n",
       "  <th>const</th>  <td> 1818.8057</td> <td>   23.972</td> <td>   75.873</td> <td> 0.000</td> <td> 1771.822</td> <td> 1865.789</td>\n",
       "</tr>\n",
       "<tr>\n",
       "  <th>ma.L1</th>  <td>    0.8476</td> <td>    0.003</td> <td>  271.693</td> <td> 0.000</td> <td>    0.842</td> <td>    0.854</td>\n",
       "</tr>\n",
       "<tr>\n",
       "  <th>ma.L2</th>  <td>    0.2661</td> <td>    0.002</td> <td>  127.163</td> <td> 0.000</td> <td>    0.262</td> <td>    0.270</td>\n",
       "</tr>\n",
       "<tr>\n",
       "  <th>ma.L3</th>  <td>    0.2694</td> <td>    0.003</td> <td>   81.003</td> <td> 0.000</td> <td>    0.263</td> <td>    0.276</td>\n",
       "</tr>\n",
       "<tr>\n",
       "  <th>ma.L4</th>  <td>    0.8485</td> <td>    0.007</td> <td>  122.005</td> <td> 0.000</td> <td>    0.835</td> <td>    0.862</td>\n",
       "</tr>\n",
       "<tr>\n",
       "  <th>ma.L5</th>  <td>    0.9975</td> <td>    0.005</td> <td>  218.310</td> <td> 0.000</td> <td>    0.989</td> <td>    1.006</td>\n",
       "</tr>\n",
       "<tr>\n",
       "  <th>sigma2</th> <td> 1.102e+05</td> <td> 1896.527</td> <td>   58.115</td> <td> 0.000</td> <td> 1.06e+05</td> <td> 1.14e+05</td>\n",
       "</tr>\n",
       "</table>\n",
       "<table class=\"simpletable\">\n",
       "<tr>\n",
       "  <th>Ljung-Box (L1) (Q):</th>     <td>3156.71</td> <th>  Jarque-Bera (JB):  </th> <td>6639.37</td>\n",
       "</tr>\n",
       "<tr>\n",
       "  <th>Prob(Q):</th>                 <td>0.00</td>   <th>  Prob(JB):          </th>  <td>0.00</td>  \n",
       "</tr>\n",
       "<tr>\n",
       "  <th>Heteroskedasticity (H):</th>  <td>4.64</td>   <th>  Skew:              </th>  <td>1.67</td>  \n",
       "</tr>\n",
       "<tr>\n",
       "  <th>Prob(H) (two-sided):</th>     <td>0.00</td>   <th>  Kurtosis:          </th>  <td>5.97</td>  \n",
       "</tr>\n",
       "</table><br/><br/>Warnings:<br/>[1] Covariance matrix calculated using the outer product of gradients (complex-step)."
      ],
      "text/plain": [
       "<class 'statsmodels.iolib.summary.Summary'>\n",
       "\"\"\"\n",
       "                               SARIMAX Results                                \n",
       "==============================================================================\n",
       "Dep. Variable:                    spx   No. Observations:                 7992\n",
       "Model:                 ARIMA(0, 0, 5)   Log Likelihood              -57674.488\n",
       "Date:                Mon, 31 Mar 2025   AIC                         115362.976\n",
       "Time:                        07:45:12   BIC                         115411.880\n",
       "Sample:                    01-07-1994   HQIC                        115379.716\n",
       "                         - 08-26-2024                                         \n",
       "Covariance Type:                  opg                                         \n",
       "==============================================================================\n",
       "                 coef    std err          z      P>|z|      [0.025      0.975]\n",
       "------------------------------------------------------------------------------\n",
       "const       1818.8057     23.972     75.873      0.000    1771.822    1865.789\n",
       "ma.L1          0.8476      0.003    271.693      0.000       0.842       0.854\n",
       "ma.L2          0.2661      0.002    127.163      0.000       0.262       0.270\n",
       "ma.L3          0.2694      0.003     81.003      0.000       0.263       0.276\n",
       "ma.L4          0.8485      0.007    122.005      0.000       0.835       0.862\n",
       "ma.L5          0.9975      0.005    218.310      0.000       0.989       1.006\n",
       "sigma2      1.102e+05   1896.527     58.115      0.000    1.06e+05    1.14e+05\n",
       "===================================================================================\n",
       "Ljung-Box (L1) (Q):                3156.71   Jarque-Bera (JB):              6639.37\n",
       "Prob(Q):                              0.00   Prob(JB):                         0.00\n",
       "Heteroskedasticity (H):               4.64   Skew:                             1.67\n",
       "Prob(H) (two-sided):                  0.00   Kurtosis:                         5.97\n",
       "===================================================================================\n",
       "\n",
       "Warnings:\n",
       "[1] Covariance matrix calculated using the outer product of gradients (complex-step).\n",
       "\"\"\""
      ]
     },
     "execution_count": 58,
     "metadata": {},
     "output_type": "execute_result"
    }
   ],
   "source": [
    "yfinance_results_ma_5.summary()"
   ]
  },
  {
   "cell_type": "markdown",
   "id": "5313a415",
   "metadata": {},
   "source": [
    "## Pruebas LLR"
   ]
  },
  {
   "cell_type": "code",
   "execution_count": 60,
   "id": "67b7e5ee",
   "metadata": {},
   "outputs": [],
   "source": [
    "def LLR_test(mod_1, mod_2, DF=1):\n",
    "    L1 = mod_1.fit().llf\n",
    "    L2 = mod_2.fit().llf\n",
    "    LR = (2*(L2-L1))\n",
    "    p = chi2.sf(LR, DF)\n",
    "    return p"
   ]
  },
  {
   "cell_type": "code",
   "execution_count": 61,
   "id": "d1a418d2",
   "metadata": {},
   "outputs": [
    {
     "name": "stderr",
     "output_type": "stream",
     "text": [
      "C:\\ProgramData\\Anaconda3\\lib\\site-packages\\statsmodels\\tsa\\statespace\\sarimax.py:978: UserWarning: Non-invertible starting MA parameters found. Using zeros as starting parameters.\n",
      "  warn('Non-invertible starting MA parameters found.'\n"
     ]
    },
    {
     "data": {
      "text/plain": [
       "0.0"
      ]
     },
     "execution_count": 61,
     "metadata": {},
     "output_type": "execute_result"
    }
   ],
   "source": [
    "LLR_test(yfinance_model_ma_1, yfinance_model_ma_5,DF=4)"
   ]
  },
  {
   "cell_type": "markdown",
   "id": "8a859a6c",
   "metadata": {},
   "source": [
    "## Modelo ARMA(1,1)"
   ]
  },
  {
   "cell_type": "code",
   "execution_count": 63,
   "id": "5866f524",
   "metadata": {},
   "outputs": [],
   "source": [
    "yfinance_model_ar_1_ma_1 = ARIMA(df_yfinance['spx'], order=(1,0,1))"
   ]
  },
  {
   "cell_type": "code",
   "execution_count": 64,
   "id": "9195b896",
   "metadata": {},
   "outputs": [
    {
     "name": "stderr",
     "output_type": "stream",
     "text": [
      "C:\\ProgramData\\Anaconda3\\lib\\site-packages\\statsmodels\\tsa\\statespace\\sarimax.py:966: UserWarning: Non-stationary starting autoregressive parameters found. Using zeros as starting parameters.\n",
      "  warn('Non-stationary starting autoregressive parameters'\n"
     ]
    }
   ],
   "source": [
    "yfinance_results_ar_1_ma_1 = yfinance_model_ar_1_ma_1.fit()"
   ]
  },
  {
   "cell_type": "code",
   "execution_count": 65,
   "id": "28f89130",
   "metadata": {},
   "outputs": [
    {
     "data": {
      "text/html": [
       "<table class=\"simpletable\">\n",
       "<caption>SARIMAX Results</caption>\n",
       "<tr>\n",
       "  <th>Dep. Variable:</th>          <td>spx</td>       <th>  No. Observations:  </th>    <td>7992</td>   \n",
       "</tr>\n",
       "<tr>\n",
       "  <th>Model:</th>            <td>ARIMA(1, 0, 1)</td>  <th>  Log Likelihood     </th> <td>-36430.283</td>\n",
       "</tr>\n",
       "<tr>\n",
       "  <th>Date:</th>            <td>Mon, 31 Mar 2025</td> <th>  AIC                </th>  <td>72868.566</td>\n",
       "</tr>\n",
       "<tr>\n",
       "  <th>Time:</th>                <td>07:45:54</td>     <th>  BIC                </th>  <td>72896.511</td>\n",
       "</tr>\n",
       "<tr>\n",
       "  <th>Sample:</th>             <td>01-07-1994</td>    <th>  HQIC               </th>  <td>72878.131</td>\n",
       "</tr>\n",
       "<tr>\n",
       "  <th></th>                   <td>- 08-26-2024</td>   <th>                     </th>      <td> </td>    \n",
       "</tr>\n",
       "<tr>\n",
       "  <th>Covariance Type:</th>        <td>opg</td>       <th>                     </th>      <td> </td>    \n",
       "</tr>\n",
       "</table>\n",
       "<table class=\"simpletable\">\n",
       "<tr>\n",
       "     <td></td>       <th>coef</th>     <th>std err</th>      <th>z</th>      <th>P>|z|</th>  <th>[0.025</th>    <th>0.975]</th>  \n",
       "</tr>\n",
       "<tr>\n",
       "  <th>const</th>  <td> 1818.8521</td> <td> 6.07e-05</td> <td>    3e+07</td> <td> 0.000</td> <td> 1818.852</td> <td> 1818.852</td>\n",
       "</tr>\n",
       "<tr>\n",
       "  <th>ar.L1</th>  <td>    1.0000</td> <td> 7.79e-05</td> <td> 1.28e+04</td> <td> 0.000</td> <td>    1.000</td> <td>    1.000</td>\n",
       "</tr>\n",
       "<tr>\n",
       "  <th>ma.L1</th>  <td>   -0.0749</td> <td>    0.004</td> <td>  -18.606</td> <td> 0.000</td> <td>   -0.083</td> <td>   -0.067</td>\n",
       "</tr>\n",
       "<tr>\n",
       "  <th>sigma2</th> <td>  532.5699</td> <td>    2.777</td> <td>  191.778</td> <td> 0.000</td> <td>  527.127</td> <td>  538.013</td>\n",
       "</tr>\n",
       "</table>\n",
       "<table class=\"simpletable\">\n",
       "<tr>\n",
       "  <th>Ljung-Box (L1) (Q):</th>     <td>0.06</td> <th>  Jarque-Bera (JB):  </th> <td>106334.12</td>\n",
       "</tr>\n",
       "<tr>\n",
       "  <th>Prob(Q):</th>                <td>0.80</td> <th>  Prob(JB):          </th>   <td>0.00</td>   \n",
       "</tr>\n",
       "<tr>\n",
       "  <th>Heteroskedasticity (H):</th> <td>8.60</td> <th>  Skew:              </th>   <td>-0.82</td>  \n",
       "</tr>\n",
       "<tr>\n",
       "  <th>Prob(H) (two-sided):</th>    <td>0.00</td> <th>  Kurtosis:          </th>   <td>20.79</td>  \n",
       "</tr>\n",
       "</table><br/><br/>Warnings:<br/>[1] Covariance matrix calculated using the outer product of gradients (complex-step).<br/>[2] Covariance matrix is singular or near-singular, with condition number 5.61e+20. Standard errors may be unstable."
      ],
      "text/plain": [
       "<class 'statsmodels.iolib.summary.Summary'>\n",
       "\"\"\"\n",
       "                               SARIMAX Results                                \n",
       "==============================================================================\n",
       "Dep. Variable:                    spx   No. Observations:                 7992\n",
       "Model:                 ARIMA(1, 0, 1)   Log Likelihood              -36430.283\n",
       "Date:                Mon, 31 Mar 2025   AIC                          72868.566\n",
       "Time:                        07:45:54   BIC                          72896.511\n",
       "Sample:                    01-07-1994   HQIC                         72878.131\n",
       "                         - 08-26-2024                                         \n",
       "Covariance Type:                  opg                                         \n",
       "==============================================================================\n",
       "                 coef    std err          z      P>|z|      [0.025      0.975]\n",
       "------------------------------------------------------------------------------\n",
       "const       1818.8521   6.07e-05      3e+07      0.000    1818.852    1818.852\n",
       "ar.L1          1.0000   7.79e-05   1.28e+04      0.000       1.000       1.000\n",
       "ma.L1         -0.0749      0.004    -18.606      0.000      -0.083      -0.067\n",
       "sigma2       532.5699      2.777    191.778      0.000     527.127     538.013\n",
       "===================================================================================\n",
       "Ljung-Box (L1) (Q):                   0.06   Jarque-Bera (JB):            106334.12\n",
       "Prob(Q):                              0.80   Prob(JB):                         0.00\n",
       "Heteroskedasticity (H):               8.60   Skew:                            -0.82\n",
       "Prob(H) (two-sided):                  0.00   Kurtosis:                        20.79\n",
       "===================================================================================\n",
       "\n",
       "Warnings:\n",
       "[1] Covariance matrix calculated using the outer product of gradients (complex-step).\n",
       "[2] Covariance matrix is singular or near-singular, with condition number 5.61e+20. Standard errors may be unstable.\n",
       "\"\"\""
      ]
     },
     "execution_count": 65,
     "metadata": {},
     "output_type": "execute_result"
    }
   ],
   "source": [
    "yfinance_results_ar_1_ma_1.summary()"
   ]
  },
  {
   "cell_type": "code",
   "execution_count": 66,
   "id": "2d3d1440",
   "metadata": {},
   "outputs": [
    {
     "data": {
      "image/png": "[encoded data removed]",
      "text/plain": [
       "<Figure size 1200x500 with 1 Axes>"
      ]
     },
     "metadata": {},
     "output_type": "display_data"
    }
   ],
   "source": [
    "plot_predict(yfinance_results_ar_1_ma_1)\n",
    "df_yfinance['spx'].plot(figsize=(12,5));"
   ]
  },
  {
   "cell_type": "markdown",
   "id": "4ff90bec",
   "metadata": {},
   "source": [
    "## Modelos ARMA de mayor complejidad"
   ]
  },
  {
   "cell_type": "code",
   "execution_count": 68,
   "id": "68cbb171",
   "metadata": {},
   "outputs": [],
   "source": [
    "yfinance_model_ar_1_ma_10 = ARIMA(df_yfinance['spx'], order=(1,0,10))"
   ]
  },
  {
   "cell_type": "code",
   "execution_count": 69,
   "id": "2687960e",
   "metadata": {},
   "outputs": [
    {
     "name": "stderr",
     "output_type": "stream",
     "text": [
      "C:\\ProgramData\\Anaconda3\\lib\\site-packages\\statsmodels\\tsa\\statespace\\sarimax.py:966: UserWarning: Non-stationary starting autoregressive parameters found. Using zeros as starting parameters.\n",
      "  warn('Non-stationary starting autoregressive parameters'\n"
     ]
    }
   ],
   "source": [
    "yfinance_results_ar_1_ma_10 = yfinance_model_ar_1_ma_10.fit()"
   ]
  },
  {
   "cell_type": "code",
   "execution_count": 70,
   "id": "38c94340",
   "metadata": {},
   "outputs": [
    {
     "data": {
      "text/html": [
       "<table class=\"simpletable\">\n",
       "<caption>SARIMAX Results</caption>\n",
       "<tr>\n",
       "  <th>Dep. Variable:</th>          <td>spx</td>       <th>  No. Observations:  </th>    <td>7992</td>   \n",
       "</tr>\n",
       "<tr>\n",
       "  <th>Model:</th>            <td>ARIMA(1, 0, 10)</td> <th>  Log Likelihood     </th> <td>-36351.318</td>\n",
       "</tr>\n",
       "<tr>\n",
       "  <th>Date:</th>            <td>Mon, 31 Mar 2025</td> <th>  AIC                </th>  <td>72728.636</td>\n",
       "</tr>\n",
       "<tr>\n",
       "  <th>Time:</th>                <td>07:46:53</td>     <th>  BIC                </th>  <td>72819.456</td>\n",
       "</tr>\n",
       "<tr>\n",
       "  <th>Sample:</th>             <td>01-07-1994</td>    <th>  HQIC               </th>  <td>72759.724</td>\n",
       "</tr>\n",
       "<tr>\n",
       "  <th></th>                   <td>- 08-26-2024</td>   <th>                     </th>      <td> </td>    \n",
       "</tr>\n",
       "<tr>\n",
       "  <th>Covariance Type:</th>        <td>opg</td>       <th>                     </th>      <td> </td>    \n",
       "</tr>\n",
       "</table>\n",
       "<table class=\"simpletable\">\n",
       "<tr>\n",
       "     <td></td>       <th>coef</th>     <th>std err</th>      <th>z</th>      <th>P>|z|</th>  <th>[0.025</th>    <th>0.975]</th>  \n",
       "</tr>\n",
       "<tr>\n",
       "  <th>const</th>  <td> 1818.8105</td> <td> 3.45e-05</td> <td> 5.27e+07</td> <td> 0.000</td> <td> 1818.810</td> <td> 1818.811</td>\n",
       "</tr>\n",
       "<tr>\n",
       "  <th>ar.L1</th>  <td>    1.0000</td> <td> 7.72e-05</td> <td> 1.29e+04</td> <td> 0.000</td> <td>    1.000</td> <td>    1.000</td>\n",
       "</tr>\n",
       "<tr>\n",
       "  <th>ma.L1</th>  <td>   -0.0623</td> <td>    0.005</td> <td>  -13.317</td> <td> 0.000</td> <td>   -0.071</td> <td>   -0.053</td>\n",
       "</tr>\n",
       "<tr>\n",
       "  <th>ma.L2</th>  <td>    0.0168</td> <td>    0.004</td> <td>    3.784</td> <td> 0.000</td> <td>    0.008</td> <td>    0.026</td>\n",
       "</tr>\n",
       "<tr>\n",
       "  <th>ma.L3</th>  <td>   -0.0193</td> <td>    0.005</td> <td>   -4.290</td> <td> 0.000</td> <td>   -0.028</td> <td>   -0.010</td>\n",
       "</tr>\n",
       "<tr>\n",
       "  <th>ma.L4</th>  <td>    0.0003</td> <td>    0.005</td> <td>    0.062</td> <td> 0.950</td> <td>   -0.010</td> <td>    0.010</td>\n",
       "</tr>\n",
       "<tr>\n",
       "  <th>ma.L5</th>  <td>   -0.0046</td> <td>    0.005</td> <td>   -0.960</td> <td> 0.337</td> <td>   -0.014</td> <td>    0.005</td>\n",
       "</tr>\n",
       "<tr>\n",
       "  <th>ma.L6</th>  <td>   -0.0479</td> <td>    0.005</td> <td>  -10.004</td> <td> 0.000</td> <td>   -0.057</td> <td>   -0.039</td>\n",
       "</tr>\n",
       "<tr>\n",
       "  <th>ma.L7</th>  <td>    0.0498</td> <td>    0.005</td> <td>    9.773</td> <td> 0.000</td> <td>    0.040</td> <td>    0.060</td>\n",
       "</tr>\n",
       "<tr>\n",
       "  <th>ma.L8</th>  <td>   -0.0414</td> <td>    0.005</td> <td>   -8.425</td> <td> 0.000</td> <td>   -0.051</td> <td>   -0.032</td>\n",
       "</tr>\n",
       "<tr>\n",
       "  <th>ma.L9</th>  <td>    0.1007</td> <td>    0.005</td> <td>   19.630</td> <td> 0.000</td> <td>    0.091</td> <td>    0.111</td>\n",
       "</tr>\n",
       "<tr>\n",
       "  <th>ma.L10</th> <td>   -0.0548</td> <td>    0.005</td> <td>  -10.673</td> <td> 0.000</td> <td>   -0.065</td> <td>   -0.045</td>\n",
       "</tr>\n",
       "<tr>\n",
       "  <th>sigma2</th> <td>  522.1624</td> <td>    3.224</td> <td>  161.947</td> <td> 0.000</td> <td>  515.843</td> <td>  528.482</td>\n",
       "</tr>\n",
       "</table>\n",
       "<table class=\"simpletable\">\n",
       "<tr>\n",
       "  <th>Ljung-Box (L1) (Q):</th>     <td>0.02</td> <th>  Jarque-Bera (JB):  </th> <td>81055.96</td>\n",
       "</tr>\n",
       "<tr>\n",
       "  <th>Prob(Q):</th>                <td>0.89</td> <th>  Prob(JB):          </th>   <td>0.00</td>  \n",
       "</tr>\n",
       "<tr>\n",
       "  <th>Heteroskedasticity (H):</th> <td>8.17</td> <th>  Skew:              </th>   <td>-0.83</td> \n",
       "</tr>\n",
       "<tr>\n",
       "  <th>Prob(H) (two-sided):</th>    <td>0.00</td> <th>  Kurtosis:          </th>   <td>18.51</td> \n",
       "</tr>\n",
       "</table><br/><br/>Warnings:<br/>[1] Covariance matrix calculated using the outer product of gradients (complex-step).<br/>[2] Covariance matrix is singular or near-singular, with condition number 3.79e+20. Standard errors may be unstable."
      ],
      "text/plain": [
       "<class 'statsmodels.iolib.summary.Summary'>\n",
       "\"\"\"\n",
       "                               SARIMAX Results                                \n",
       "==============================================================================\n",
       "Dep. Variable:                    spx   No. Observations:                 7992\n",
       "Model:                ARIMA(1, 0, 10)   Log Likelihood              -36351.318\n",
       "Date:                Mon, 31 Mar 2025   AIC                          72728.636\n",
       "Time:                        07:46:53   BIC                          72819.456\n",
       "Sample:                    01-07-1994   HQIC                         72759.724\n",
       "                         - 08-26-2024                                         \n",
       "Covariance Type:                  opg                                         \n",
       "==============================================================================\n",
       "                 coef    std err          z      P>|z|      [0.025      0.975]\n",
       "------------------------------------------------------------------------------\n",
       "const       1818.8105   3.45e-05   5.27e+07      0.000    1818.810    1818.811\n",
       "ar.L1          1.0000   7.72e-05   1.29e+04      0.000       1.000       1.000\n",
       "ma.L1         -0.0623      0.005    -13.317      0.000      -0.071      -0.053\n",
       "ma.L2          0.0168      0.004      3.784      0.000       0.008       0.026\n",
       "ma.L3         -0.0193      0.005     -4.290      0.000      -0.028      -0.010\n",
       "ma.L4          0.0003      0.005      0.062      0.950      -0.010       0.010\n",
       "ma.L5         -0.0046      0.005     -0.960      0.337      -0.014       0.005\n",
       "ma.L6         -0.0479      0.005    -10.004      0.000      -0.057      -0.039\n",
       "ma.L7          0.0498      0.005      9.773      0.000       0.040       0.060\n",
       "ma.L8         -0.0414      0.005     -8.425      0.000      -0.051      -0.032\n",
       "ma.L9          0.1007      0.005     19.630      0.000       0.091       0.111\n",
       "ma.L10        -0.0548      0.005    -10.673      0.000      -0.065      -0.045\n",
       "sigma2       522.1624      3.224    161.947      0.000     515.843     528.482\n",
       "===================================================================================\n",
       "Ljung-Box (L1) (Q):                   0.02   Jarque-Bera (JB):             81055.96\n",
       "Prob(Q):                              0.89   Prob(JB):                         0.00\n",
       "Heteroskedasticity (H):               8.17   Skew:                            -0.83\n",
       "Prob(H) (two-sided):                  0.00   Kurtosis:                        18.51\n",
       "===================================================================================\n",
       "\n",
       "Warnings:\n",
       "[1] Covariance matrix calculated using the outer product of gradients (complex-step).\n",
       "[2] Covariance matrix is singular or near-singular, with condition number 3.79e+20. Standard errors may be unstable.\n",
       "\"\"\""
      ]
     },
     "execution_count": 70,
     "metadata": {},
     "output_type": "execute_result"
    }
   ],
   "source": [
    "yfinance_results_ar_1_ma_10.summary()"
   ]
  },
  {
   "cell_type": "code",
   "execution_count": 71,
   "id": "6bd437bb",
   "metadata": {},
   "outputs": [
    {
     "data": {
      "image/png": "[encoded data removed]",
      "text/plain": [
       "<Figure size 1200x500 with 1 Axes>"
      ]
     },
     "metadata": {},
     "output_type": "display_data"
    }
   ],
   "source": [
    "plot_predict(yfinance_results_ar_1_ma_10)\n",
    "df_yfinance['spx'].plot(figsize=(12,5));"
   ]
  },
  {
   "cell_type": "markdown",
   "id": "3f1e9a2a",
   "metadata": {},
   "source": [
    "## Pruebas LLR"
   ]
  },
  {
   "cell_type": "code",
   "execution_count": 73,
   "id": "6f3dd47d",
   "metadata": {},
   "outputs": [
    {
     "name": "stderr",
     "output_type": "stream",
     "text": [
      "C:\\ProgramData\\Anaconda3\\lib\\site-packages\\statsmodels\\tsa\\statespace\\sarimax.py:966: UserWarning: Non-stationary starting autoregressive parameters found. Using zeros as starting parameters.\n",
      "  warn('Non-stationary starting autoregressive parameters'\n",
      "C:\\ProgramData\\Anaconda3\\lib\\site-packages\\statsmodels\\tsa\\statespace\\sarimax.py:966: UserWarning: Non-stationary starting autoregressive parameters found. Using zeros as starting parameters.\n",
      "  warn('Non-stationary starting autoregressive parameters'\n"
     ]
    },
    {
     "name": "stdout",
     "output_type": "stream",
     "text": [
      "\n",
      "ARMA vs AR  3.035488024490658e-12\n"
     ]
    },
    {
     "name": "stderr",
     "output_type": "stream",
     "text": [
      "C:\\ProgramData\\Anaconda3\\lib\\site-packages\\statsmodels\\tsa\\statespace\\sarimax.py:966: UserWarning: Non-stationary starting autoregressive parameters found. Using zeros as starting parameters.\n",
      "  warn('Non-stationary starting autoregressive parameters'\n"
     ]
    },
    {
     "name": "stdout",
     "output_type": "stream",
     "text": [
      "\n",
      "ARMA vs MA  0.0\n"
     ]
    },
    {
     "name": "stderr",
     "output_type": "stream",
     "text": [
      "C:\\ProgramData\\Anaconda3\\lib\\site-packages\\statsmodels\\tsa\\statespace\\sarimax.py:966: UserWarning: Non-stationary starting autoregressive parameters found. Using zeros as starting parameters.\n",
      "  warn('Non-stationary starting autoregressive parameters'\n",
      "C:\\ProgramData\\Anaconda3\\lib\\site-packages\\statsmodels\\tsa\\statespace\\sarimax.py:966: UserWarning: Non-stationary starting autoregressive parameters found. Using zeros as starting parameters.\n",
      "  warn('Non-stationary starting autoregressive parameters'\n"
     ]
    },
    {
     "name": "stdout",
     "output_type": "stream",
     "text": [
      "\n",
      "ARMA vs ARMA(1,10)  1.9987439360996618e-29\n"
     ]
    }
   ],
   "source": [
    "print(\"\\nARMA vs AR \", LLR_test(yfinance_model_ar_1, yfinance_model_ar_1_ma_1))\n",
    "print(\"\\nARMA vs MA \", LLR_test(yfinance_model_ma_1, yfinance_model_ar_1_ma_1))\n",
    "print(\"\\nARMA vs ARMA(1,10) \", LLR_test(yfinance_model_ar_1_ma_1, yfinance_model_ar_1_ma_10,DF=9))"
   ]
  },
  {
   "cell_type": "markdown",
   "id": "793d3410",
   "metadata": {},
   "source": [
    "## Modelo ARIMA(1,1,1)"
   ]
  },
  {
   "cell_type": "code",
   "execution_count": 75,
   "id": "83971d49",
   "metadata": {},
   "outputs": [],
   "source": [
    "yfinance_model_ar_1_i_1_ma_1 = ARIMA(df_yfinance['spx'], order=(1,1,1))"
   ]
  },
  {
   "cell_type": "code",
   "execution_count": 76,
   "id": "0ce39e96",
   "metadata": {},
   "outputs": [],
   "source": [
    "yfinance_results_ar_1_i_1_ma_1 = yfinance_model_ar_1_i_1_ma_1.fit()"
   ]
  },
  {
   "cell_type": "code",
   "execution_count": 77,
   "id": "1345dbae",
   "metadata": {},
   "outputs": [
    {
     "data": {
      "text/html": [
       "<table class=\"simpletable\">\n",
       "<caption>SARIMAX Results</caption>\n",
       "<tr>\n",
       "  <th>Dep. Variable:</th>          <td>spx</td>       <th>  No. Observations:  </th>    <td>7992</td>   \n",
       "</tr>\n",
       "<tr>\n",
       "  <th>Model:</th>            <td>ARIMA(1, 1, 1)</td>  <th>  Log Likelihood     </th> <td>-36417.273</td>\n",
       "</tr>\n",
       "<tr>\n",
       "  <th>Date:</th>            <td>Mon, 31 Mar 2025</td> <th>  AIC                </th>  <td>72840.546</td>\n",
       "</tr>\n",
       "<tr>\n",
       "  <th>Time:</th>                <td>07:48:30</td>     <th>  BIC                </th>  <td>72861.504</td>\n",
       "</tr>\n",
       "<tr>\n",
       "  <th>Sample:</th>             <td>01-07-1994</td>    <th>  HQIC               </th>  <td>72847.720</td>\n",
       "</tr>\n",
       "<tr>\n",
       "  <th></th>                   <td>- 08-26-2024</td>   <th>                     </th>      <td> </td>    \n",
       "</tr>\n",
       "<tr>\n",
       "  <th>Covariance Type:</th>        <td>opg</td>       <th>                     </th>      <td> </td>    \n",
       "</tr>\n",
       "</table>\n",
       "<table class=\"simpletable\">\n",
       "<tr>\n",
       "     <td></td>       <th>coef</th>     <th>std err</th>      <th>z</th>      <th>P>|z|</th>  <th>[0.025</th>    <th>0.975]</th>  \n",
       "</tr>\n",
       "<tr>\n",
       "  <th>ar.L1</th>  <td>   -0.3613</td> <td>    0.040</td> <td>   -9.039</td> <td> 0.000</td> <td>   -0.440</td> <td>   -0.283</td>\n",
       "</tr>\n",
       "<tr>\n",
       "  <th>ma.L1</th>  <td>    0.2840</td> <td>    0.041</td> <td>    6.846</td> <td> 0.000</td> <td>    0.203</td> <td>    0.365</td>\n",
       "</tr>\n",
       "<tr>\n",
       "  <th>sigma2</th> <td>  532.0823</td> <td>    2.807</td> <td>  189.540</td> <td> 0.000</td> <td>  526.580</td> <td>  537.584</td>\n",
       "</tr>\n",
       "</table>\n",
       "<table class=\"simpletable\">\n",
       "<tr>\n",
       "  <th>Ljung-Box (L1) (Q):</th>     <td>0.00</td> <th>  Jarque-Bera (JB):  </th> <td>103699.42</td>\n",
       "</tr>\n",
       "<tr>\n",
       "  <th>Prob(Q):</th>                <td>0.99</td> <th>  Prob(JB):          </th>   <td>0.00</td>   \n",
       "</tr>\n",
       "<tr>\n",
       "  <th>Heteroskedasticity (H):</th> <td>8.57</td> <th>  Skew:              </th>   <td>-0.79</td>  \n",
       "</tr>\n",
       "<tr>\n",
       "  <th>Prob(H) (two-sided):</th>    <td>0.00</td> <th>  Kurtosis:          </th>   <td>20.58</td>  \n",
       "</tr>\n",
       "</table><br/><br/>Warnings:<br/>[1] Covariance matrix calculated using the outer product of gradients (complex-step)."
      ],
      "text/plain": [
       "<class 'statsmodels.iolib.summary.Summary'>\n",
       "\"\"\"\n",
       "                               SARIMAX Results                                \n",
       "==============================================================================\n",
       "Dep. Variable:                    spx   No. Observations:                 7992\n",
       "Model:                 ARIMA(1, 1, 1)   Log Likelihood              -36417.273\n",
       "Date:                Mon, 31 Mar 2025   AIC                          72840.546\n",
       "Time:                        07:48:30   BIC                          72861.504\n",
       "Sample:                    01-07-1994   HQIC                         72847.720\n",
       "                         - 08-26-2024                                         \n",
       "Covariance Type:                  opg                                         \n",
       "==============================================================================\n",
       "                 coef    std err          z      P>|z|      [0.025      0.975]\n",
       "------------------------------------------------------------------------------\n",
       "ar.L1         -0.3613      0.040     -9.039      0.000      -0.440      -0.283\n",
       "ma.L1          0.2840      0.041      6.846      0.000       0.203       0.365\n",
       "sigma2       532.0823      2.807    189.540      0.000     526.580     537.584\n",
       "===================================================================================\n",
       "Ljung-Box (L1) (Q):                   0.00   Jarque-Bera (JB):            103699.42\n",
       "Prob(Q):                              0.99   Prob(JB):                         0.00\n",
       "Heteroskedasticity (H):               8.57   Skew:                            -0.79\n",
       "Prob(H) (two-sided):                  0.00   Kurtosis:                        20.58\n",
       "===================================================================================\n",
       "\n",
       "Warnings:\n",
       "[1] Covariance matrix calculated using the outer product of gradients (complex-step).\n",
       "\"\"\""
      ]
     },
     "execution_count": 77,
     "metadata": {},
     "output_type": "execute_result"
    }
   ],
   "source": [
    "yfinance_results_ar_1_i_1_ma_1.summary()"
   ]
  },
  {
   "cell_type": "code",
   "execution_count": 78,
   "id": "d2107e28",
   "metadata": {},
   "outputs": [
    {
     "data": {
      "image/png": "[encoded data removed]",
      "text/plain": [
       "<Figure size 1200x500 with 1 Axes>"
      ]
     },
     "metadata": {},
     "output_type": "display_data"
    }
   ],
   "source": [
    "plot_predict(yfinance_results_ar_1_i_1_ma_1)\n",
    "df_yfinance['spx'].plot(figsize=(12,5));"
   ]
  },
  {
   "cell_type": "markdown",
   "id": "b07fa62b",
   "metadata": {},
   "source": [
    "## Modelos ARIMA de mayor complejidad"
   ]
  },
  {
   "cell_type": "markdown",
   "id": "9130da65",
   "metadata": {},
   "source": [
    "### PACF y ACF de resíduos"
   ]
  },
  {
   "cell_type": "code",
   "execution_count": 81,
   "id": "6c2b36d9",
   "metadata": {},
   "outputs": [
    {
     "name": "stderr",
     "output_type": "stream",
     "text": [
      "C:\\ProgramData\\Anaconda3\\lib\\site-packages\\statsmodels\\graphics\\tsaplots.py:348: FutureWarning: The default method 'yw' can produce PACF values outside of the [-1,1] interval. After 0.13, the default will change tounadjusted Yule-Walker ('ywm'). You can use this method now by setting method='ywm'.\n",
      "  warnings.warn(\n"
     ]
    },
    {
     "data": {
      "image/png": "[encoded data removed]",
      "text/plain": [
       "<Figure size 640x480 with 1 Axes>"
      ]
     },
     "metadata": {},
     "output_type": "display_data"
    }
   ],
   "source": [
    "sgt.plot_pacf(yfinance_results_ar_1_i_1_ma_1.resid.iloc[1:], zero = False, lags = 40)\n",
    "plt.title(\"PACF de S&P500-ARIMA(1,1,1)\")\n",
    "plt.show()"
   ]
  },
  {
   "cell_type": "code",
   "execution_count": 82,
   "id": "fd63d4d5",
   "metadata": {},
   "outputs": [
    {
     "data": {
      "image/png": "[encoded data removed]",
      "text/plain": [
       "<Figure size 640x480 with 1 Axes>"
      ]
     },
     "metadata": {},
     "output_type": "display_data"
    }
   ],
   "source": [
    "sgt.plot_acf(yfinance_results_ar_1_i_1_ma_1.resid.iloc[1:], zero = False, lags = 40)\n",
    "plt.title(\"ACF de S&P500-ARIMA(1,1,1)\")\n",
    "plt.show()"
   ]
  },
  {
   "cell_type": "code",
   "execution_count": 83,
   "id": "d7bb94e5",
   "metadata": {},
   "outputs": [],
   "source": [
    "yfinance_model_ar_10_i_1_ma_10 = ARIMA(df_yfinance['spx'], order=(10,1,10))"
   ]
  },
  {
   "cell_type": "code",
   "execution_count": 84,
   "id": "c5994ba1",
   "metadata": {},
   "outputs": [
    {
     "name": "stderr",
     "output_type": "stream",
     "text": [
      "C:\\ProgramData\\Anaconda3\\lib\\site-packages\\statsmodels\\tsa\\statespace\\sarimax.py:966: UserWarning: Non-stationary starting autoregressive parameters found. Using zeros as starting parameters.\n",
      "  warn('Non-stationary starting autoregressive parameters'\n",
      "C:\\ProgramData\\Anaconda3\\lib\\site-packages\\statsmodels\\tsa\\statespace\\sarimax.py:978: UserWarning: Non-invertible starting MA parameters found. Using zeros as starting parameters.\n",
      "  warn('Non-invertible starting MA parameters found.'\n",
      "C:\\ProgramData\\Anaconda3\\lib\\site-packages\\statsmodels\\base\\model.py:604: ConvergenceWarning: Maximum Likelihood optimization failed to converge. Check mle_retvals\n",
      "  warnings.warn(\"Maximum Likelihood optimization failed to \"\n"
     ]
    }
   ],
   "source": [
    "yfinance_results_ar_10_i_1_ma_10 = yfinance_model_ar_10_i_1_ma_10.fit()"
   ]
  },
  {
   "cell_type": "code",
   "execution_count": 85,
   "id": "613b2d06",
   "metadata": {},
   "outputs": [
    {
     "data": {
      "text/html": [
       "<table class=\"simpletable\">\n",
       "<caption>SARIMAX Results</caption>\n",
       "<tr>\n",
       "  <th>Dep. Variable:</th>          <td>spx</td>       <th>  No. Observations:  </th>    <td>7992</td>   \n",
       "</tr>\n",
       "<tr>\n",
       "  <th>Model:</th>           <td>ARIMA(10, 1, 10)</td> <th>  Log Likelihood     </th> <td>-36320.311</td>\n",
       "</tr>\n",
       "<tr>\n",
       "  <th>Date:</th>            <td>Mon, 31 Mar 2025</td> <th>  AIC                </th>  <td>72682.623</td>\n",
       "</tr>\n",
       "<tr>\n",
       "  <th>Time:</th>                <td>07:49:10</td>     <th>  BIC                </th>  <td>72829.330</td>\n",
       "</tr>\n",
       "<tr>\n",
       "  <th>Sample:</th>             <td>01-07-1994</td>    <th>  HQIC               </th>  <td>72732.841</td>\n",
       "</tr>\n",
       "<tr>\n",
       "  <th></th>                   <td>- 08-26-2024</td>   <th>                     </th>      <td> </td>    \n",
       "</tr>\n",
       "<tr>\n",
       "  <th>Covariance Type:</th>        <td>opg</td>       <th>                     </th>      <td> </td>    \n",
       "</tr>\n",
       "</table>\n",
       "<table class=\"simpletable\">\n",
       "<tr>\n",
       "     <td></td>       <th>coef</th>     <th>std err</th>      <th>z</th>      <th>P>|z|</th>  <th>[0.025</th>    <th>0.975]</th>  \n",
       "</tr>\n",
       "<tr>\n",
       "  <th>ar.L1</th>  <td>    0.0449</td> <td>    1.084</td> <td>    0.041</td> <td> 0.967</td> <td>   -2.080</td> <td>    2.170</td>\n",
       "</tr>\n",
       "<tr>\n",
       "  <th>ar.L2</th>  <td>    0.2443</td> <td>    0.618</td> <td>    0.395</td> <td> 0.693</td> <td>   -0.968</td> <td>    1.456</td>\n",
       "</tr>\n",
       "<tr>\n",
       "  <th>ar.L3</th>  <td>    0.0792</td> <td>    0.127</td> <td>    0.625</td> <td> 0.532</td> <td>   -0.169</td> <td>    0.328</td>\n",
       "</tr>\n",
       "<tr>\n",
       "  <th>ar.L4</th>  <td>   -0.2721</td> <td>    0.162</td> <td>   -1.677</td> <td> 0.094</td> <td>   -0.590</td> <td>    0.046</td>\n",
       "</tr>\n",
       "<tr>\n",
       "  <th>ar.L5</th>  <td>    0.1889</td> <td>    0.182</td> <td>    1.037</td> <td> 0.300</td> <td>   -0.168</td> <td>    0.546</td>\n",
       "</tr>\n",
       "<tr>\n",
       "  <th>ar.L6</th>  <td>   -0.2750</td> <td>    0.154</td> <td>   -1.789</td> <td> 0.074</td> <td>   -0.576</td> <td>    0.026</td>\n",
       "</tr>\n",
       "<tr>\n",
       "  <th>ar.L7</th>  <td>   -0.2033</td> <td>    0.193</td> <td>   -1.055</td> <td> 0.291</td> <td>   -0.581</td> <td>    0.174</td>\n",
       "</tr>\n",
       "<tr>\n",
       "  <th>ar.L8</th>  <td>    0.2208</td> <td>    0.328</td> <td>    0.674</td> <td> 0.501</td> <td>   -0.422</td> <td>    0.863</td>\n",
       "</tr>\n",
       "<tr>\n",
       "  <th>ar.L9</th>  <td>    0.2688</td> <td>    0.118</td> <td>    2.273</td> <td> 0.023</td> <td>    0.037</td> <td>    0.501</td>\n",
       "</tr>\n",
       "<tr>\n",
       "  <th>ar.L10</th> <td>   -0.2704</td> <td>    0.394</td> <td>   -0.686</td> <td> 0.493</td> <td>   -1.043</td> <td>    0.502</td>\n",
       "</tr>\n",
       "<tr>\n",
       "  <th>ma.L1</th>  <td>   -0.1043</td> <td>    1.085</td> <td>   -0.096</td> <td> 0.923</td> <td>   -2.230</td> <td>    2.021</td>\n",
       "</tr>\n",
       "<tr>\n",
       "  <th>ma.L2</th>  <td>   -0.2255</td> <td>    0.555</td> <td>   -0.406</td> <td> 0.685</td> <td>   -1.314</td> <td>    0.863</td>\n",
       "</tr>\n",
       "<tr>\n",
       "  <th>ma.L3</th>  <td>   -0.0834</td> <td>    0.118</td> <td>   -0.709</td> <td> 0.478</td> <td>   -0.314</td> <td>    0.147</td>\n",
       "</tr>\n",
       "<tr>\n",
       "  <th>ma.L4</th>  <td>    0.2689</td> <td>    0.171</td> <td>    1.568</td> <td> 0.117</td> <td>   -0.067</td> <td>    0.605</td>\n",
       "</tr>\n",
       "<tr>\n",
       "  <th>ma.L5</th>  <td>   -0.2002</td> <td>    0.174</td> <td>   -1.150</td> <td> 0.250</td> <td>   -0.541</td> <td>    0.141</td>\n",
       "</tr>\n",
       "<tr>\n",
       "  <th>ma.L6</th>  <td>    0.2422</td> <td>    0.164</td> <td>    1.473</td> <td> 0.141</td> <td>   -0.080</td> <td>    0.564</td>\n",
       "</tr>\n",
       "<tr>\n",
       "  <th>ma.L7</th>  <td>    0.2352</td> <td>    0.154</td> <td>    1.532</td> <td> 0.126</td> <td>   -0.066</td> <td>    0.536</td>\n",
       "</tr>\n",
       "<tr>\n",
       "  <th>ma.L8</th>  <td>   -0.2618</td> <td>    0.340</td> <td>   -0.771</td> <td> 0.441</td> <td>   -0.927</td> <td>    0.404</td>\n",
       "</tr>\n",
       "<tr>\n",
       "  <th>ma.L9</th>  <td>   -0.1611</td> <td>    0.138</td> <td>   -1.170</td> <td> 0.242</td> <td>   -0.431</td> <td>    0.109</td>\n",
       "</tr>\n",
       "<tr>\n",
       "  <th>ma.L10</th> <td>    0.2133</td> <td>    0.296</td> <td>    0.720</td> <td> 0.471</td> <td>   -0.367</td> <td>    0.794</td>\n",
       "</tr>\n",
       "<tr>\n",
       "  <th>sigma2</th> <td>  519.5268</td> <td>    3.333</td> <td>  155.860</td> <td> 0.000</td> <td>  512.994</td> <td>  526.060</td>\n",
       "</tr>\n",
       "</table>\n",
       "<table class=\"simpletable\">\n",
       "<tr>\n",
       "  <th>Ljung-Box (L1) (Q):</th>     <td>0.01</td> <th>  Jarque-Bera (JB):  </th> <td>76590.21</td>\n",
       "</tr>\n",
       "<tr>\n",
       "  <th>Prob(Q):</th>                <td>0.94</td> <th>  Prob(JB):          </th>   <td>0.00</td>  \n",
       "</tr>\n",
       "<tr>\n",
       "  <th>Heteroskedasticity (H):</th> <td>8.03</td> <th>  Skew:              </th>   <td>-0.85</td> \n",
       "</tr>\n",
       "<tr>\n",
       "  <th>Prob(H) (two-sided):</th>    <td>0.00</td> <th>  Kurtosis:          </th>   <td>18.07</td> \n",
       "</tr>\n",
       "</table><br/><br/>Warnings:<br/>[1] Covariance matrix calculated using the outer product of gradients (complex-step)."
      ],
      "text/plain": [
       "<class 'statsmodels.iolib.summary.Summary'>\n",
       "\"\"\"\n",
       "                               SARIMAX Results                                \n",
       "==============================================================================\n",
       "Dep. Variable:                    spx   No. Observations:                 7992\n",
       "Model:               ARIMA(10, 1, 10)   Log Likelihood              -36320.311\n",
       "Date:                Mon, 31 Mar 2025   AIC                          72682.623\n",
       "Time:                        07:49:10   BIC                          72829.330\n",
       "Sample:                    01-07-1994   HQIC                         72732.841\n",
       "                         - 08-26-2024                                         \n",
       "Covariance Type:                  opg                                         \n",
       "==============================================================================\n",
       "                 coef    std err          z      P>|z|      [0.025      0.975]\n",
       "------------------------------------------------------------------------------\n",
       "ar.L1          0.0449      1.084      0.041      0.967      -2.080       2.170\n",
       "ar.L2          0.2443      0.618      0.395      0.693      -0.968       1.456\n",
       "ar.L3          0.0792      0.127      0.625      0.532      -0.169       0.328\n",
       "ar.L4         -0.2721      0.162     -1.677      0.094      -0.590       0.046\n",
       "ar.L5          0.1889      0.182      1.037      0.300      -0.168       0.546\n",
       "ar.L6         -0.2750      0.154     -1.789      0.074      -0.576       0.026\n",
       "ar.L7         -0.2033      0.193     -1.055      0.291      -0.581       0.174\n",
       "ar.L8          0.2208      0.328      0.674      0.501      -0.422       0.863\n",
       "ar.L9          0.2688      0.118      2.273      0.023       0.037       0.501\n",
       "ar.L10        -0.2704      0.394     -0.686      0.493      -1.043       0.502\n",
       "ma.L1         -0.1043      1.085     -0.096      0.923      -2.230       2.021\n",
       "ma.L2         -0.2255      0.555     -0.406      0.685      -1.314       0.863\n",
       "ma.L3         -0.0834      0.118     -0.709      0.478      -0.314       0.147\n",
       "ma.L4          0.2689      0.171      1.568      0.117      -0.067       0.605\n",
       "ma.L5         -0.2002      0.174     -1.150      0.250      -0.541       0.141\n",
       "ma.L6          0.2422      0.164      1.473      0.141      -0.080       0.564\n",
       "ma.L7          0.2352      0.154      1.532      0.126      -0.066       0.536\n",
       "ma.L8         -0.2618      0.340     -0.771      0.441      -0.927       0.404\n",
       "ma.L9         -0.1611      0.138     -1.170      0.242      -0.431       0.109\n",
       "ma.L10         0.2133      0.296      0.720      0.471      -0.367       0.794\n",
       "sigma2       519.5268      3.333    155.860      0.000     512.994     526.060\n",
       "===================================================================================\n",
       "Ljung-Box (L1) (Q):                   0.01   Jarque-Bera (JB):             76590.21\n",
       "Prob(Q):                              0.94   Prob(JB):                         0.00\n",
       "Heteroskedasticity (H):               8.03   Skew:                            -0.85\n",
       "Prob(H) (two-sided):                  0.00   Kurtosis:                        18.07\n",
       "===================================================================================\n",
       "\n",
       "Warnings:\n",
       "[1] Covariance matrix calculated using the outer product of gradients (complex-step).\n",
       "\"\"\""
      ]
     },
     "execution_count": 85,
     "metadata": {},
     "output_type": "execute_result"
    }
   ],
   "source": [
    "yfinance_results_ar_10_i_1_ma_10.summary()"
   ]
  },
  {
   "cell_type": "markdown",
   "id": "a8ae834a-04f4-4982-a428-9a753d9067b6",
   "metadata": {},
   "source": [
    "# Modelos ARCH"
   ]
  },
  {
   "cell_type": "code",
   "execution_count": 87,
   "id": "39683c78",
   "metadata": {},
   "outputs": [],
   "source": [
    "df_yfinance['sp_returns']=df_yfinance.spx.pct_change(1)*100"
   ]
  },
  {
   "cell_type": "code",
   "execution_count": 88,
   "id": "8636ce45-2998-4159-9160-3b3fdbb433df",
   "metadata": {},
   "outputs": [],
   "source": [
    "df_yfinance['sp_sq_returns'] = df_yfinance.sp_returns.mul(df_yfinance.sp_returns)"
   ]
  },
  {
   "cell_type": "code",
   "execution_count": 89,
   "id": "eccc8779-8993-4b50-9517-f02ce99bd514",
   "metadata": {},
   "outputs": [
    {
     "data": {
      "image/png": "[encoded data removed]",
      "text/plain": [
       "<Figure size 2000x500 with 1 Axes>"
      ]
     },
     "metadata": {},
     "output_type": "display_data"
    }
   ],
   "source": [
    "df_yfinance.sp_returns.plot(figsize=(20,5))\n",
    "plt.title(\"Returns\", size = 24)\n",
    "plt.show()"
   ]
  },
  {
   "cell_type": "code",
   "execution_count": 90,
   "id": "725711fd-b85d-4f5d-9e17-5ff054bf7a5f",
   "metadata": {},
   "outputs": [
    {
     "data": {
      "image/png": "[encoded data removed]",
      "text/plain": [
       "<Figure size 2000x500 with 1 Axes>"
      ]
     },
     "metadata": {},
     "output_type": "display_data"
    }
   ],
   "source": [
    "df_yfinance.sp_sq_returns.plot(figsize=(20,5))\n",
    "plt.title(\"Volatility\", size = 24)\n",
    "plt.show()"
   ]
  },
  {
   "cell_type": "code",
   "execution_count": 91,
   "id": "8b9d4dbb-e046-4bab-9029-2df278148cc0",
   "metadata": {},
   "outputs": [
    {
     "name": "stdout",
     "output_type": "stream",
     "text": [
      "Defaulting to user installation because normal site-packages is not writeable\n",
      "Requirement already satisfied: arch in c:\\users\\lenovo\\appdata\\roaming\\python\\python39\\site-packages (7.2.0)\n",
      "Requirement already satisfied: pandas>=1.4 in c:\\programdata\\anaconda3\\lib\\site-packages (from arch) (1.4.4)\n",
      "Requirement already satisfied: numpy>=1.22.3 in c:\\users\\lenovo\\appdata\\roaming\\python\\python39\\site-packages (from arch) (1.24.3)\n",
      "Requirement already satisfied: statsmodels>=0.12 in c:\\programdata\\anaconda3\\lib\\site-packages (from arch) (0.13.2)\n",
      "Requirement already satisfied: scipy>=1.8 in c:\\programdata\\anaconda3\\lib\\site-packages (from arch) (1.9.1)\n",
      "Requirement already satisfied: pytz>=2020.1 in c:\\users\\lenovo\\appdata\\roaming\\python\\python39\\site-packages (from pandas>=1.4->arch) (2024.1)\n",
      "Requirement already satisfied: python-dateutil>=2.8.1 in c:\\programdata\\anaconda3\\lib\\site-packages (from pandas>=1.4->arch) (2.8.2)\n",
      "Requirement already satisfied: patsy>=0.5.2 in c:\\programdata\\anaconda3\\lib\\site-packages (from statsmodels>=0.12->arch) (0.5.2)\n",
      "Requirement already satisfied: packaging>=21.3 in c:\\programdata\\anaconda3\\lib\\site-packages (from statsmodels>=0.12->arch) (24.2)\n",
      "Requirement already satisfied: six in c:\\programdata\\anaconda3\\lib\\site-packages (from patsy>=0.5.2->statsmodels>=0.12->arch) (1.16.0)\n",
      "Note: you may need to restart the kernel to use updated packages.\n"
     ]
    }
   ],
   "source": [
    "%pip install arch"
   ]
  },
  {
   "cell_type": "code",
   "execution_count": 92,
   "id": "e263a2ae-9408-44e7-b58f-26849cd8c925",
   "metadata": {
    "scrolled": true
   },
   "outputs": [
    {
     "ename": "SystemError",
     "evalue": "initialization of _internal failed without raising an exception",
     "output_type": "error",
     "traceback": [
      "\u001b[1;31m---------------------------------------------------------------------------\u001b[0m",
      "\u001b[1;31mSystemError\u001b[0m                               Traceback (most recent call last)",
      "\u001b[1;32m~\\AppData\\Local\\Temp\\ipykernel_16512\\3117421758.py\u001b[0m in \u001b[0;36m<module>\u001b[1;34m\u001b[0m\n\u001b[1;32m----> 1\u001b[1;33m \u001b[1;32mfrom\u001b[0m \u001b[0march\u001b[0m \u001b[1;32mimport\u001b[0m \u001b[0march_model\u001b[0m\u001b[1;33m\u001b[0m\u001b[1;33m\u001b[0m\u001b[0m\n\u001b[0m",
      "\u001b[1;32m~\\AppData\\Roaming\\Python\\Python39\\site-packages\\arch\\__init__.py\u001b[0m in \u001b[0;36m<module>\u001b[1;34m\u001b[0m\n\u001b[0;32m      1\u001b[0m \u001b[1;32mfrom\u001b[0m \u001b[1;33m.\u001b[0m\u001b[0m_version\u001b[0m \u001b[1;32mimport\u001b[0m \u001b[0mversion\u001b[0m \u001b[1;32mas\u001b[0m \u001b[0m__version__\u001b[0m\u001b[1;33m,\u001b[0m \u001b[0mversion_tuple\u001b[0m\u001b[1;33m\u001b[0m\u001b[1;33m\u001b[0m\u001b[0m\n\u001b[1;32m----> 2\u001b[1;33m \u001b[1;32mfrom\u001b[0m \u001b[1;33m.\u001b[0m\u001b[0munivariate\u001b[0m\u001b[1;33m.\u001b[0m\u001b[0mmean\u001b[0m \u001b[1;32mimport\u001b[0m \u001b[0march_model\u001b[0m\u001b[1;33m\u001b[0m\u001b[1;33m\u001b[0m\u001b[0m\n\u001b[0m\u001b[0;32m      3\u001b[0m \u001b[1;32mfrom\u001b[0m \u001b[1;33m.\u001b[0m\u001b[0mutility\u001b[0m \u001b[1;32mimport\u001b[0m \u001b[0mtest\u001b[0m\u001b[1;33m\u001b[0m\u001b[1;33m\u001b[0m\u001b[0m\n\u001b[0;32m      4\u001b[0m \u001b[1;33m\u001b[0m\u001b[0m\n\u001b[0;32m      5\u001b[0m \u001b[1;33m\u001b[0m\u001b[0m\n",
      "\u001b[1;32m~\\AppData\\Roaming\\Python\\Python39\\site-packages\\arch\\univariate\\__init__.py\u001b[0m in \u001b[0;36m<module>\u001b[1;34m\u001b[0m\n\u001b[0;32m      1\u001b[0m \u001b[1;32mimport\u001b[0m \u001b[0mtypes\u001b[0m\u001b[1;33m\u001b[0m\u001b[1;33m\u001b[0m\u001b[0m\n\u001b[0;32m      2\u001b[0m \u001b[1;33m\u001b[0m\u001b[0m\n\u001b[1;32m----> 3\u001b[1;33m \u001b[1;32mfrom\u001b[0m \u001b[0march\u001b[0m\u001b[1;33m.\u001b[0m\u001b[0munivariate\u001b[0m \u001b[1;32mimport\u001b[0m \u001b[0mrecursions_python\u001b[0m\u001b[1;33m\u001b[0m\u001b[1;33m\u001b[0m\u001b[0m\n\u001b[0m\u001b[0;32m      4\u001b[0m from arch.univariate.distribution import (\n\u001b[0;32m      5\u001b[0m     \u001b[0mDistribution\u001b[0m\u001b[1;33m,\u001b[0m\u001b[1;33m\u001b[0m\u001b[1;33m\u001b[0m\u001b[0m\n",
      "\u001b[1;32m~\\AppData\\Roaming\\Python\\Python39\\site-packages\\arch\\univariate\\recursions_python.py\u001b[0m in \u001b[0;36m<module>\u001b[1;34m\u001b[0m\n\u001b[0;32m      6\u001b[0m \"\"\"\n\u001b[0;32m      7\u001b[0m \u001b[1;33m\u001b[0m\u001b[0m\n\u001b[1;32m----> 8\u001b[1;33m \u001b[1;32mfrom\u001b[0m \u001b[0march\u001b[0m\u001b[1;33m.\u001b[0m\u001b[0mcompat\u001b[0m\u001b[1;33m.\u001b[0m\u001b[0mnumba\u001b[0m \u001b[1;32mimport\u001b[0m \u001b[0mjit\u001b[0m\u001b[1;33m\u001b[0m\u001b[1;33m\u001b[0m\u001b[0m\n\u001b[0m\u001b[0;32m      9\u001b[0m \u001b[1;33m\u001b[0m\u001b[0m\n\u001b[0;32m     10\u001b[0m \u001b[1;32mfrom\u001b[0m \u001b[0mabc\u001b[0m \u001b[1;32mimport\u001b[0m \u001b[0mABCMeta\u001b[0m\u001b[1;33m,\u001b[0m \u001b[0mabstractmethod\u001b[0m\u001b[1;33m\u001b[0m\u001b[1;33m\u001b[0m\u001b[0m\n",
      "\u001b[1;32m~\\AppData\\Roaming\\Python\\Python39\\site-packages\\arch\\compat\\numba.py\u001b[0m in \u001b[0;36m<module>\u001b[1;34m\u001b[0m\n\u001b[0;32m     16\u001b[0m         \u001b[1;32mraise\u001b[0m \u001b[0mImportError\u001b[0m\u001b[1;33m\u001b[0m\u001b[1;33m\u001b[0m\u001b[0m\n\u001b[0;32m     17\u001b[0m \u001b[1;33m\u001b[0m\u001b[0m\n\u001b[1;32m---> 18\u001b[1;33m     \u001b[1;32mfrom\u001b[0m \u001b[0mnumba\u001b[0m \u001b[1;32mimport\u001b[0m \u001b[0mjit\u001b[0m\u001b[1;33m\u001b[0m\u001b[1;33m\u001b[0m\u001b[0m\n\u001b[0m\u001b[0;32m     19\u001b[0m \u001b[1;33m\u001b[0m\u001b[0m\n\u001b[0;32m     20\u001b[0m     \u001b[0mjit\u001b[0m \u001b[1;33m=\u001b[0m \u001b[0mfunctools\u001b[0m\u001b[1;33m.\u001b[0m\u001b[0mpartial\u001b[0m\u001b[1;33m(\u001b[0m\u001b[0mjit\u001b[0m\u001b[1;33m,\u001b[0m \u001b[0mnopython\u001b[0m\u001b[1;33m=\u001b[0m\u001b[1;32mTrue\u001b[0m\u001b[1;33m)\u001b[0m\u001b[1;33m\u001b[0m\u001b[1;33m\u001b[0m\u001b[0m\n",
      "\u001b[1;32mC:\\ProgramData\\Anaconda3\\lib\\site-packages\\numba\\__init__.py\u001b[0m in \u001b[0;36m<module>\u001b[1;34m\u001b[0m\n\u001b[0;32m     40\u001b[0m \u001b[1;33m\u001b[0m\u001b[0m\n\u001b[0;32m     41\u001b[0m \u001b[1;31m# Re-export vectorize decorators and the thread layer querying function\u001b[0m\u001b[1;33m\u001b[0m\u001b[1;33m\u001b[0m\u001b[0m\n\u001b[1;32m---> 42\u001b[1;33m from numba.np.ufunc import (vectorize, guvectorize, threading_layer,\n\u001b[0m\u001b[0;32m     43\u001b[0m                             get_num_threads, set_num_threads)\n\u001b[0;32m     44\u001b[0m \u001b[1;33m\u001b[0m\u001b[0m\n",
      "\u001b[1;32mC:\\ProgramData\\Anaconda3\\lib\\site-packages\\numba\\np\\ufunc\\__init__.py\u001b[0m in \u001b[0;36m<module>\u001b[1;34m\u001b[0m\n\u001b[0;32m      1\u001b[0m \u001b[1;31m# -*- coding: utf-8 -*-\u001b[0m\u001b[1;33m\u001b[0m\u001b[1;33m\u001b[0m\u001b[0m\n\u001b[0;32m      2\u001b[0m \u001b[1;33m\u001b[0m\u001b[0m\n\u001b[1;32m----> 3\u001b[1;33m \u001b[1;32mfrom\u001b[0m \u001b[0mnumba\u001b[0m\u001b[1;33m.\u001b[0m\u001b[0mnp\u001b[0m\u001b[1;33m.\u001b[0m\u001b[0mufunc\u001b[0m\u001b[1;33m.\u001b[0m\u001b[0mdecorators\u001b[0m \u001b[1;32mimport\u001b[0m \u001b[0mVectorize\u001b[0m\u001b[1;33m,\u001b[0m \u001b[0mGUVectorize\u001b[0m\u001b[1;33m,\u001b[0m \u001b[0mvectorize\u001b[0m\u001b[1;33m,\u001b[0m \u001b[0mguvectorize\u001b[0m\u001b[1;33m\u001b[0m\u001b[1;33m\u001b[0m\u001b[0m\n\u001b[0m\u001b[0;32m      4\u001b[0m \u001b[1;32mfrom\u001b[0m \u001b[0mnumba\u001b[0m\u001b[1;33m.\u001b[0m\u001b[0mnp\u001b[0m\u001b[1;33m.\u001b[0m\u001b[0mufunc\u001b[0m\u001b[1;33m.\u001b[0m\u001b[0m_internal\u001b[0m \u001b[1;32mimport\u001b[0m \u001b[0mPyUFunc_None\u001b[0m\u001b[1;33m,\u001b[0m \u001b[0mPyUFunc_Zero\u001b[0m\u001b[1;33m,\u001b[0m \u001b[0mPyUFunc_One\u001b[0m\u001b[1;33m\u001b[0m\u001b[1;33m\u001b[0m\u001b[0m\n\u001b[0;32m      5\u001b[0m \u001b[1;32mfrom\u001b[0m \u001b[0mnumba\u001b[0m\u001b[1;33m.\u001b[0m\u001b[0mnp\u001b[0m\u001b[1;33m.\u001b[0m\u001b[0mufunc\u001b[0m \u001b[1;32mimport\u001b[0m \u001b[0m_internal\u001b[0m\u001b[1;33m,\u001b[0m \u001b[0marray_exprs\u001b[0m\u001b[1;33m\u001b[0m\u001b[1;33m\u001b[0m\u001b[0m\n",
      "\u001b[1;32mC:\\ProgramData\\Anaconda3\\lib\\site-packages\\numba\\np\\ufunc\\decorators.py\u001b[0m in \u001b[0;36m<module>\u001b[1;34m\u001b[0m\n\u001b[0;32m      1\u001b[0m \u001b[1;32mimport\u001b[0m \u001b[0minspect\u001b[0m\u001b[1;33m\u001b[0m\u001b[1;33m\u001b[0m\u001b[0m\n\u001b[0;32m      2\u001b[0m \u001b[1;33m\u001b[0m\u001b[0m\n\u001b[1;32m----> 3\u001b[1;33m \u001b[1;32mfrom\u001b[0m \u001b[0mnumba\u001b[0m\u001b[1;33m.\u001b[0m\u001b[0mnp\u001b[0m\u001b[1;33m.\u001b[0m\u001b[0mufunc\u001b[0m \u001b[1;32mimport\u001b[0m \u001b[0m_internal\u001b[0m\u001b[1;33m\u001b[0m\u001b[1;33m\u001b[0m\u001b[0m\n\u001b[0m\u001b[0;32m      4\u001b[0m \u001b[1;32mfrom\u001b[0m \u001b[0mnumba\u001b[0m\u001b[1;33m.\u001b[0m\u001b[0mnp\u001b[0m\u001b[1;33m.\u001b[0m\u001b[0mufunc\u001b[0m\u001b[1;33m.\u001b[0m\u001b[0mparallel\u001b[0m \u001b[1;32mimport\u001b[0m \u001b[0mParallelUFuncBuilder\u001b[0m\u001b[1;33m,\u001b[0m \u001b[0mParallelGUFuncBuilder\u001b[0m\u001b[1;33m\u001b[0m\u001b[1;33m\u001b[0m\u001b[0m\n\u001b[0;32m      5\u001b[0m \u001b[1;33m\u001b[0m\u001b[0m\n",
      "\u001b[1;31mSystemError\u001b[0m: initialization of _internal failed without raising an exception"
     ]
    }
   ],
   "source": [
    "from arch import arch_model"
   ]
  },
  {
   "cell_type": "code",
   "execution_count": null,
   "id": "cef3da3c-3cde-49c8-a0c2-843346c0328d",
   "metadata": {},
   "outputs": [],
   "source": [
    "model_arch_1 = arch_model(df_yfinance.sp_returns[1:])\n",
    "results_arch_1 = model_arch_1.fit(update_freq = 5)\n",
    "results_arch_1.summary()"
   ]
  },
  {
   "cell_type": "code",
   "execution_count": null,
   "id": "e232a46f-ee17-48c1-bf3e-ffda9564b387",
   "metadata": {},
   "outputs": [],
   "source": []
  },
  {
   "cell_type": "markdown",
   "id": "78c6861c",
   "metadata": {},
   "source": [
    "# Vuelos"
   ]
  },
  {
   "cell_type": "markdown",
   "id": "ff3c5d31",
   "metadata": {},
   "source": [
    "## Estacionaridad"
   ]
  },
  {
   "cell_type": "code",
   "execution_count": null,
   "id": "0b1efafc",
   "metadata": {},
   "outputs": [],
   "source": [
    "sts.adfuller(df_airline['Passengers'])"
   ]
  },
  {
   "cell_type": "markdown",
   "id": "b98f3b98",
   "metadata": {},
   "source": [
    "## PACF y ACF"
   ]
  },
  {
   "cell_type": "code",
   "execution_count": null,
   "id": "1f997625",
   "metadata": {},
   "outputs": [],
   "source": [
    "sgt.plot_pacf(df_airline['Passengers'], zero = False, lags = 40)\n",
    "plt.title(\"PACF for Passengers\", size = 20)\n",
    "plt.show()"
   ]
  },
  {
   "cell_type": "code",
   "execution_count": null,
   "id": "6c8da6b7",
   "metadata": {},
   "outputs": [],
   "source": [
    "sgt.plot_acf(df_airline['Passengers'], zero = False, lags = 40)\n",
    "plt.title(\"ACF for Passengers\", size = 20)\n",
    "plt.show()"
   ]
  },
  {
   "cell_type": "markdown",
   "id": "b84b6483",
   "metadata": {},
   "source": [
    "## Modelo AR(1)"
   ]
  },
  {
   "cell_type": "code",
   "execution_count": null,
   "id": "a84a0dcb",
   "metadata": {},
   "outputs": [],
   "source": [
    "airline_model_ar_1 = ARIMA(df_airline['Passengers'], order=(1,0,0))"
   ]
  },
  {
   "cell_type": "code",
   "execution_count": null,
   "id": "f9e954d5",
   "metadata": {},
   "outputs": [],
   "source": [
    "airline_results_ar_1 = airline_model_ar_1.fit()"
   ]
  },
  {
   "cell_type": "code",
   "execution_count": null,
   "id": "ee9f2c8d",
   "metadata": {},
   "outputs": [],
   "source": [
    "airline_results_ar_1.summary()"
   ]
  },
  {
   "cell_type": "code",
   "execution_count": null,
   "id": "e313242d",
   "metadata": {},
   "outputs": [],
   "source": [
    "plot_predict(airline_results_ar_1)\n",
    "df_airline['Passengers'].plot(figsize=(12,5));"
   ]
  },
  {
   "cell_type": "markdown",
   "id": "0be0a028",
   "metadata": {},
   "source": [
    "## Modelo MA(1)"
   ]
  },
  {
   "cell_type": "code",
   "execution_count": null,
   "id": "6d40155b",
   "metadata": {},
   "outputs": [],
   "source": [
    "airline_model_ma_1 = ARIMA(df_airline['Passengers'], order=(0,0,1))"
   ]
  },
  {
   "cell_type": "code",
   "execution_count": null,
   "id": "4b7d87c7",
   "metadata": {},
   "outputs": [],
   "source": [
    "airline_results_ma_1 = airline_model_ma_1.fit()"
   ]
  },
  {
   "cell_type": "code",
   "execution_count": null,
   "id": "b2f8318e",
   "metadata": {},
   "outputs": [],
   "source": [
    "airline_results_ma_1.summary()"
   ]
  },
  {
   "cell_type": "code",
   "execution_count": null,
   "id": "f9deb70c",
   "metadata": {},
   "outputs": [],
   "source": [
    "plot_predict(airline_results_ma_1)\n",
    "df_airline['Passengers'].plot(figsize=(12,5));"
   ]
  },
  {
   "cell_type": "markdown",
   "id": "372226d1",
   "metadata": {},
   "source": [
    "## Modelos AR más complejos"
   ]
  },
  {
   "cell_type": "code",
   "execution_count": null,
   "id": "76481169",
   "metadata": {},
   "outputs": [],
   "source": [
    "airline_model_ar_2 = ARIMA(df_airline['Passengers'], order=(2,0,0))"
   ]
  },
  {
   "cell_type": "code",
   "execution_count": null,
   "id": "aa417b1e",
   "metadata": {},
   "outputs": [],
   "source": [
    "airline_results_ar_2 = airline_model_ar_2.fit()"
   ]
  },
  {
   "cell_type": "code",
   "execution_count": null,
   "id": "cce02f77",
   "metadata": {},
   "outputs": [],
   "source": [
    "airline_results_ar_2.summary()"
   ]
  },
  {
   "cell_type": "code",
   "execution_count": null,
   "id": "aeac7008",
   "metadata": {},
   "outputs": [],
   "source": [
    "airline_model_ar_9 = ARIMA(df_airline['Passengers'], order=(9,0,0))"
   ]
  },
  {
   "cell_type": "code",
   "execution_count": null,
   "id": "3e41ff2a",
   "metadata": {},
   "outputs": [],
   "source": [
    "airline_results_ar_9 = airline_model_ar_9.fit()"
   ]
  },
  {
   "cell_type": "code",
   "execution_count": null,
   "id": "5e2bd9ea",
   "metadata": {},
   "outputs": [],
   "source": [
    "airline_results_ar_9.summary()"
   ]
  },
  {
   "cell_type": "markdown",
   "id": "81603132",
   "metadata": {},
   "source": [
    "## Modelos MA de mayor complejidad"
   ]
  },
  {
   "cell_type": "code",
   "execution_count": null,
   "id": "ca6b4fb3",
   "metadata": {},
   "outputs": [],
   "source": [
    "airline_model_ma_14 = ARIMA(df_airline['Passengers'], order=(0,0,14))"
   ]
  },
  {
   "cell_type": "code",
   "execution_count": null,
   "id": "aeb4bf75",
   "metadata": {},
   "outputs": [],
   "source": [
    "airline_results_ma_14 = airline_model_ma_14.fit()"
   ]
  },
  {
   "cell_type": "code",
   "execution_count": null,
   "id": "548ec6b8",
   "metadata": {},
   "outputs": [],
   "source": [
    "airline_results_ma_14.summary()"
   ]
  },
  {
   "cell_type": "markdown",
   "id": "c68de61e",
   "metadata": {},
   "source": [
    "## Pruebas LLR"
   ]
  },
  {
   "cell_type": "code",
   "execution_count": null,
   "id": "b58c4825",
   "metadata": {},
   "outputs": [],
   "source": [
    "LLR_test(airline_model_ar_1,airline_model_ar_2)"
   ]
  },
  {
   "cell_type": "code",
   "execution_count": null,
   "id": "ed345d56",
   "metadata": {},
   "outputs": [],
   "source": [
    "LLR_test(airline_model_ar_2,airline_model_ar_9)"
   ]
  },
  {
   "cell_type": "markdown",
   "id": "ad1c8c6b",
   "metadata": {},
   "source": [
    "## Modelo ARMA(1,1)"
   ]
  },
  {
   "cell_type": "code",
   "execution_count": null,
   "id": "0bb6cd9c",
   "metadata": {},
   "outputs": [],
   "source": [
    "airline_model_ar_1_ma_1 = ARIMA(df_airline['Passengers'], order=(1,0,1))"
   ]
  },
  {
   "cell_type": "code",
   "execution_count": null,
   "id": "46b0ffab",
   "metadata": {},
   "outputs": [],
   "source": [
    "airline_results_ar_1_ma_1 = airline_model_ar_1_ma_1.fit()"
   ]
  },
  {
   "cell_type": "code",
   "execution_count": null,
   "id": "44aaf882",
   "metadata": {},
   "outputs": [],
   "source": [
    "airline_results_ar_1_ma_1.summary()"
   ]
  },
  {
   "cell_type": "markdown",
   "id": "2d15a830",
   "metadata": {},
   "source": [
    "## Modelos ARMA de mayor complejidad"
   ]
  },
  {
   "cell_type": "code",
   "execution_count": null,
   "id": "e63005c0",
   "metadata": {},
   "outputs": [],
   "source": [
    "airline_model_ar_2_ma_14 = ARIMA(df_airline['Passengers'], order=(2,0,14))"
   ]
  },
  {
   "cell_type": "code",
   "execution_count": null,
   "id": "d27e25dd",
   "metadata": {},
   "outputs": [],
   "source": [
    "airline_results_ar_2_ma_14=airline_model_ar_2_ma_14.fit()"
   ]
  },
  {
   "cell_type": "code",
   "execution_count": null,
   "id": "98f2111d",
   "metadata": {},
   "outputs": [],
   "source": [
    "airline_results_ar_2_ma_14.summary()"
   ]
  },
  {
   "cell_type": "markdown",
   "id": "7aa54a97",
   "metadata": {},
   "source": [
    "## Pruebas LLR"
   ]
  },
  {
   "cell_type": "code",
   "execution_count": null,
   "id": "728e421b",
   "metadata": {},
   "outputs": [],
   "source": [
    "print(\"\\nARMA vs AR \", LLR_test(airline_model_ar_1, airline_model_ar_1_ma_1))\n",
    "print(\"\\nARMA vs MA \", LLR_test(airline_model_ma_1, airline_model_ar_1_ma_1))\n",
    "print(\"\\nARMA vs ARMA(2,14) \", LLR_test(airline_model_ar_1_ma_1, airline_model_ar_2_ma_14,DF=13))"
   ]
  },
  {
   "cell_type": "markdown",
   "id": "4594f0c7",
   "metadata": {},
   "source": [
    "## Modelo ARIMA(1,1,1)"
   ]
  },
  {
   "cell_type": "code",
   "execution_count": null,
   "id": "e2adfc5e",
   "metadata": {},
   "outputs": [],
   "source": [
    "airline_model_ar_1_i_1_ma_1 = ARIMA(df_airline['Passengers'], order=(1,1,1))"
   ]
  },
  {
   "cell_type": "code",
   "execution_count": null,
   "id": "1cdbee6a",
   "metadata": {},
   "outputs": [],
   "source": [
    "airline_results_ar_1_i_1_ma_1 = airline_model_ar_1_i_1_ma_1.fit()"
   ]
  },
  {
   "cell_type": "code",
   "execution_count": null,
   "id": "3e61990a",
   "metadata": {},
   "outputs": [],
   "source": [
    "airline_results_ar_1_i_1_ma_1.summary()"
   ]
  },
  {
   "cell_type": "markdown",
   "id": "d7b20cc7",
   "metadata": {},
   "source": [
    "## Modelo SARIMA(1,0,1)(1,0,1,365)"
   ]
  },
  {
   "cell_type": "code",
   "execution_count": null,
   "id": "4aa5800a",
   "metadata": {},
   "outputs": [],
   "source": [
    "airline_model_sarimax = SARIMAX(df_airline['Passengers'], order=(1,0,1), seasonal_order = (1,0,1,365))\n",
    "airline_results_sarimax = airline_model_sarimax.fit()\n",
    "airline_results_sarimax.summary()"
   ]
  },
  {
   "cell_type": "code",
   "execution_count": null,
   "id": "79abdcca",
   "metadata": {},
   "outputs": [],
   "source": [
    "plot_predict(airline_results_sarimax,start = '1959-01-01',end = '1960-01-01')\n",
    "df_airline['Passengers']['1959-01-01':'1960-01-01'].plot();"
   ]
  },
  {
   "cell_type": "code",
   "execution_count": null,
   "id": "37ac94d7",
   "metadata": {},
   "outputs": [],
   "source": []
  },
  {
   "cell_type": "code",
   "execution_count": null,
   "id": "e021f9d7",
   "metadata": {},
   "outputs": [],
   "source": []
  },
  {
   "cell_type": "code",
   "execution_count": null,
   "id": "13e97457",
   "metadata": {},
   "outputs": [],
   "source": []
  },
  {
   "cell_type": "code",
   "execution_count": null,
   "id": "1f8162f4",
   "metadata": {},
   "outputs": [],
   "source": []
  },
  {
   "cell_type": "markdown",
   "id": "3fae921c",
   "metadata": {},
   "source": [
    "# Datos de ventas"
   ]
  },
  {
   "cell_type": "markdown",
   "id": "71f24a5e",
   "metadata": {},
   "source": [
    "## Estacionaridad"
   ]
  },
  {
   "cell_type": "code",
   "execution_count": null,
   "id": "cd01298c",
   "metadata": {},
   "outputs": [],
   "source": [
    "sts.adfuller(df_ventas['Ventas'])"
   ]
  },
  {
   "cell_type": "markdown",
   "id": "055e8121",
   "metadata": {},
   "source": [
    "## PACF y ACF"
   ]
  },
  {
   "cell_type": "code",
   "execution_count": null,
   "id": "f9b66849",
   "metadata": {},
   "outputs": [],
   "source": [
    "sgt.plot_pacf(df_ventas['Ventas'], zero = False, lags = 40)\n",
    "plt.title(\"PACF for Ventas\", size = 20)\n",
    "plt.show()"
   ]
  },
  {
   "cell_type": "code",
   "execution_count": null,
   "id": "abae9894",
   "metadata": {},
   "outputs": [],
   "source": [
    "sgt.plot_acf(df_ventas['Ventas'], zero = False, lags = 40)\n",
    "plt.title(\"ACF for Ventas\", size = 20)\n",
    "plt.show()"
   ]
  },
  {
   "cell_type": "markdown",
   "id": "616d754b",
   "metadata": {},
   "source": [
    "## Modelo AR(1)"
   ]
  },
  {
   "cell_type": "code",
   "execution_count": null,
   "id": "dbcb2293",
   "metadata": {},
   "outputs": [],
   "source": [
    "ventas_model_ar_1 = ARIMA(df_ventas['Ventas'], order=(1,0,0))"
   ]
  },
  {
   "cell_type": "code",
   "execution_count": null,
   "id": "22d8c32f",
   "metadata": {},
   "outputs": [],
   "source": [
    "ventas_results_ar_1 = ventas_model_ar_1.fit()"
   ]
  },
  {
   "cell_type": "code",
   "execution_count": null,
   "id": "6d9cdecd",
   "metadata": {},
   "outputs": [],
   "source": [
    "ventas_results_ar_1.summary()"
   ]
  },
  {
   "cell_type": "markdown",
   "id": "cbedf509",
   "metadata": {},
   "source": [
    "## Modelo MA(1)"
   ]
  },
  {
   "cell_type": "code",
   "execution_count": null,
   "id": "28cfc5ad",
   "metadata": {},
   "outputs": [],
   "source": [
    "ventas_model_ma_1 = ARIMA(df_ventas['Ventas'], order=(0,0,1))"
   ]
  },
  {
   "cell_type": "code",
   "execution_count": null,
   "id": "d95e6772",
   "metadata": {},
   "outputs": [],
   "source": [
    "ventas_results_ma_1 = ventas_model_ma_1.fit()"
   ]
  },
  {
   "cell_type": "code",
   "execution_count": null,
   "id": "cb51b51c",
   "metadata": {},
   "outputs": [],
   "source": [
    "ventas_results_ma_1.summary()"
   ]
  },
  {
   "cell_type": "markdown",
   "id": "d7033356",
   "metadata": {},
   "source": [
    "## Modelos AR más complejos"
   ]
  },
  {
   "cell_type": "code",
   "execution_count": null,
   "id": "c86f5495",
   "metadata": {},
   "outputs": [],
   "source": [
    "ventas_model_ar_9 = ARIMA(df_ventas['Ventas'], order=(9,0,0))"
   ]
  },
  {
   "cell_type": "code",
   "execution_count": null,
   "id": "c3f26aba",
   "metadata": {},
   "outputs": [],
   "source": [
    "ventas_results_ar_9 = ventas_model_ar_9.fit()"
   ]
  },
  {
   "cell_type": "code",
   "execution_count": null,
   "id": "c70606e4",
   "metadata": {},
   "outputs": [],
   "source": [
    "ventas_results_ar_9.summary()"
   ]
  },
  {
   "cell_type": "markdown",
   "id": "db46f90a",
   "metadata": {},
   "source": [
    "## Pruebas LLR"
   ]
  },
  {
   "cell_type": "code",
   "execution_count": null,
   "id": "1dc63143",
   "metadata": {},
   "outputs": [],
   "source": [
    "LLR_test(ventas_model_ar_1, ventas_model_ar_9,DF=8)"
   ]
  },
  {
   "cell_type": "markdown",
   "id": "5083cd73",
   "metadata": {},
   "source": [
    "## Modelos MA de mayor complejidad"
   ]
  },
  {
   "cell_type": "code",
   "execution_count": null,
   "id": "b44c3225",
   "metadata": {},
   "outputs": [],
   "source": [
    "ventas_model_ma_8 = ARIMA(df_ventas['Ventas'], order=(0,0,8))"
   ]
  },
  {
   "cell_type": "code",
   "execution_count": null,
   "id": "976d553b",
   "metadata": {},
   "outputs": [],
   "source": [
    "ventas_results_ma_8 = ventas_model_ma_8.fit()"
   ]
  },
  {
   "cell_type": "code",
   "execution_count": null,
   "id": "b82a061b",
   "metadata": {},
   "outputs": [],
   "source": [
    "ventas_results_ma_8.summary()"
   ]
  },
  {
   "cell_type": "markdown",
   "id": "09fe3c06",
   "metadata": {},
   "source": [
    "## Modelo ARMA (1,1)"
   ]
  },
  {
   "cell_type": "code",
   "execution_count": null,
   "id": "707a4645",
   "metadata": {},
   "outputs": [],
   "source": [
    "ventas_model_ar_1_ma_1 = ARIMA(df_ventas['Ventas'], order=(1,0,1))"
   ]
  },
  {
   "cell_type": "code",
   "execution_count": null,
   "id": "a7b47f59",
   "metadata": {},
   "outputs": [],
   "source": [
    "ventas_results_ar_1_ma_1 = ventas_model_ar_1_ma_1.fit()"
   ]
  },
  {
   "cell_type": "code",
   "execution_count": null,
   "id": "9daad260",
   "metadata": {},
   "outputs": [],
   "source": [
    "ventas_results_ar_1_ma_1.summary()"
   ]
  },
  {
   "cell_type": "markdown",
   "id": "b199f5e3",
   "metadata": {},
   "source": [
    "## Modelos ARMA de mayor complejidad"
   ]
  },
  {
   "cell_type": "code",
   "execution_count": null,
   "id": "43f5e0a7",
   "metadata": {},
   "outputs": [],
   "source": [
    "ventas_model_ar_1_ma_7 = ARIMA(df_ventas['Ventas'], order=(1,0,7))"
   ]
  },
  {
   "cell_type": "code",
   "execution_count": null,
   "id": "9c092eaf",
   "metadata": {},
   "outputs": [],
   "source": [
    "ventas_results_ar_1_ma_7 = ventas_model_ar_1_ma_7.fit()"
   ]
  },
  {
   "cell_type": "code",
   "execution_count": null,
   "id": "dec9dcb8",
   "metadata": {},
   "outputs": [],
   "source": [
    "ventas_results_ar_1_ma_7.summary()"
   ]
  },
  {
   "cell_type": "code",
   "execution_count": null,
   "id": "cbaae9c0",
   "metadata": {},
   "outputs": [],
   "source": [
    "plot_predict(ventas_results_ar_1_ma_7, start='2023-07-01', end = '2023-09-01')\n",
    "df_ventas['Ventas']['2023-07-01':'2023-09-01'].plot();"
   ]
  },
  {
   "cell_type": "markdown",
   "id": "16fde910",
   "metadata": {},
   "source": [
    "## Modelo ARIMA(1,1,1)"
   ]
  },
  {
   "cell_type": "code",
   "execution_count": null,
   "id": "4cec83d1",
   "metadata": {},
   "outputs": [],
   "source": [
    "ventas_model_ar_1_i_1_ma_1 = ARIMA(df_ventas['Ventas'], order=(1,1,1))"
   ]
  },
  {
   "cell_type": "code",
   "execution_count": null,
   "id": "3c768946",
   "metadata": {},
   "outputs": [],
   "source": [
    "ventas_results_ar_1_i_1_ma_1 = ventas_model_ar_1_i_1_ma_1.fit()"
   ]
  },
  {
   "cell_type": "code",
   "execution_count": null,
   "id": "018088e2",
   "metadata": {},
   "outputs": [],
   "source": [
    "ventas_results_ar_1_i_1_ma_1.summary()"
   ]
  },
  {
   "cell_type": "code",
   "execution_count": null,
   "id": "6684fd81",
   "metadata": {},
   "outputs": [],
   "source": []
  },
  {
   "cell_type": "code",
   "execution_count": null,
   "id": "b47230f2",
   "metadata": {},
   "outputs": [],
   "source": [
    "ventas_seasonal_result = seasonal_decompose(df_ventas['Ventas'], model='additive')  # model='mul' also works\n",
    "ventas_seasonal_result.plot();"
   ]
  },
  {
   "cell_type": "code",
   "execution_count": null,
   "id": "9c6c5f91",
   "metadata": {},
   "outputs": [],
   "source": [
    "ventas_model_sarimax = SARIMAX(df_ventas['Ventas'], order=(1,1,1), seasonal_order = (1,0,1,7))\n",
    "ventas_results_sarimax = ventas_model_sarimax.fit()\n",
    "ventas_results_sarimax.summary()"
   ]
  },
  {
   "cell_type": "code",
   "execution_count": null,
   "id": "610da45a",
   "metadata": {},
   "outputs": [],
   "source": [
    "#plot_predict(ventas_results_sarimax)\n",
    "df_ventas['Ventas'].plot();"
   ]
  },
  {
   "cell_type": "code",
   "execution_count": null,
   "id": "34db1806",
   "metadata": {},
   "outputs": [],
   "source": []
  },
  {
   "cell_type": "markdown",
   "id": "f3571c54",
   "metadata": {},
   "source": [
    "# Datos macroeconómicos de EEUU: PBI real"
   ]
  },
  {
   "cell_type": "markdown",
   "id": "a6b8cdb9",
   "metadata": {},
   "source": [
    "## Estacionaridad"
   ]
  },
  {
   "cell_type": "code",
   "execution_count": null,
   "id": "a3964218",
   "metadata": {},
   "outputs": [],
   "source": [
    "sts.adfuller(df_macrodata['realgdp'])"
   ]
  },
  {
   "cell_type": "markdown",
   "id": "bc1e736c",
   "metadata": {},
   "source": [
    "## PACF y ACF"
   ]
  },
  {
   "cell_type": "code",
   "execution_count": null,
   "id": "b448c06b",
   "metadata": {},
   "outputs": [],
   "source": [
    "sgt.plot_pacf(df_macrodata['realgdp'], zero = False, lags = 40)\n",
    "plt.title(\"PACF for GDP\", size = 20)\n",
    "plt.show()"
   ]
  },
  {
   "cell_type": "code",
   "execution_count": null,
   "id": "bb2c4a03",
   "metadata": {},
   "outputs": [],
   "source": [
    "sgt.plot_acf(df_macrodata['realgdp'], zero = False, lags = 40)\n",
    "plt.title(\"ACF for GDP\", size = 20)\n",
    "plt.show()"
   ]
  },
  {
   "cell_type": "markdown",
   "id": "0b9bf7a5",
   "metadata": {},
   "source": [
    "## Modelo AR(1)"
   ]
  },
  {
   "cell_type": "code",
   "execution_count": null,
   "id": "11aab5ca",
   "metadata": {},
   "outputs": [],
   "source": [
    "realgdp_model_ar_1 = ARIMA(df_macrodata['realgdp'], order=(1,0,0))"
   ]
  },
  {
   "cell_type": "code",
   "execution_count": null,
   "id": "46528dfe",
   "metadata": {},
   "outputs": [],
   "source": [
    "realgdp_results_ar_1 = realgdp_model_ar_1.fit()"
   ]
  },
  {
   "cell_type": "code",
   "execution_count": null,
   "id": "ce578282",
   "metadata": {},
   "outputs": [],
   "source": [
    "realgdp_results_ar_1.summary()"
   ]
  },
  {
   "cell_type": "markdown",
   "id": "e544320f",
   "metadata": {},
   "source": [
    "## Modelo MA(1)"
   ]
  },
  {
   "cell_type": "code",
   "execution_count": null,
   "id": "17a33d12",
   "metadata": {},
   "outputs": [],
   "source": [
    "realgdp_model_ma_1 = ARIMA(df_macrodata['realgdp'], order=(0,0,1))"
   ]
  },
  {
   "cell_type": "code",
   "execution_count": null,
   "id": "c577b14a",
   "metadata": {},
   "outputs": [],
   "source": [
    "realgdp_results_ma_1 = realgdp_model_ma_1.fit()"
   ]
  },
  {
   "cell_type": "code",
   "execution_count": null,
   "id": "7c86a345",
   "metadata": {},
   "outputs": [],
   "source": [
    "realgdp_results_ma_1.summary()"
   ]
  },
  {
   "cell_type": "markdown",
   "id": "b7f9f9da",
   "metadata": {},
   "source": [
    "## Modelos MA de mayor complejidad"
   ]
  },
  {
   "cell_type": "code",
   "execution_count": null,
   "id": "939cfbb0",
   "metadata": {},
   "outputs": [],
   "source": [
    "realgdp_model_ma_19 = ARIMA(df_macrodata['realgdp'], order=(0,0,19))"
   ]
  },
  {
   "cell_type": "code",
   "execution_count": null,
   "id": "2360b151",
   "metadata": {},
   "outputs": [],
   "source": [
    "realgdp_results_ma_19 = realgdp_model_ma_19.fit()"
   ]
  },
  {
   "cell_type": "code",
   "execution_count": null,
   "id": "bf171cb0",
   "metadata": {},
   "outputs": [],
   "source": [
    "realgdp_results_ma_19.summary()"
   ]
  },
  {
   "cell_type": "markdown",
   "id": "c01227f2",
   "metadata": {},
   "source": [
    "## Pruebas LLR"
   ]
  },
  {
   "cell_type": "code",
   "execution_count": null,
   "id": "bdad46eb",
   "metadata": {},
   "outputs": [],
   "source": [
    "LLR_test(realgdp_model_ma_1, realgdp_model_ma_19,DF=18)"
   ]
  },
  {
   "cell_type": "markdown",
   "id": "865be51f",
   "metadata": {},
   "source": [
    "## Modelo ARMA(1,1)"
   ]
  },
  {
   "cell_type": "code",
   "execution_count": null,
   "id": "601df209",
   "metadata": {},
   "outputs": [],
   "source": [
    "realgdp_model_ar_1_ma_1 = ARIMA(df_macrodata['realgdp'], order=(1,0,1))"
   ]
  },
  {
   "cell_type": "code",
   "execution_count": null,
   "id": "1b445cb7",
   "metadata": {},
   "outputs": [],
   "source": [
    "realgdp_results_ar_1_ma_1 = realgdp_model_ar_1_ma_1.fit()"
   ]
  },
  {
   "cell_type": "code",
   "execution_count": null,
   "id": "8df45206",
   "metadata": {},
   "outputs": [],
   "source": [
    "realgdp_results_ar_1_ma_1.summary()"
   ]
  },
  {
   "cell_type": "code",
   "execution_count": null,
   "id": "fd971a24",
   "metadata": {},
   "outputs": [],
   "source": [
    "plot_predict(realgdp_results_ar_1_ma_1)\n",
    "df_macrodata['realgdp'].plot();"
   ]
  },
  {
   "cell_type": "markdown",
   "id": "26034ae6",
   "metadata": {},
   "source": [
    "## Modelos ARMA de mayor complejidad"
   ]
  },
  {
   "cell_type": "code",
   "execution_count": null,
   "id": "29fc2604",
   "metadata": {},
   "outputs": [],
   "source": [
    "realgdp_model_ar_1_ma_19 = ARIMA(df_macrodata['realgdp'], order=(1,0,19))"
   ]
  },
  {
   "cell_type": "code",
   "execution_count": null,
   "id": "62dfe4c3",
   "metadata": {},
   "outputs": [],
   "source": [
    "realgdp_results_ar_1_ma_19 = realgdp_model_ar_1_ma_19.fit()"
   ]
  },
  {
   "cell_type": "code",
   "execution_count": null,
   "id": "d0ba0c65",
   "metadata": {},
   "outputs": [],
   "source": [
    "realgdp_results_ar_1_ma_19.summary()"
   ]
  },
  {
   "cell_type": "markdown",
   "id": "18c45723",
   "metadata": {},
   "source": [
    "## Pruebas LLR"
   ]
  },
  {
   "cell_type": "code",
   "execution_count": null,
   "id": "851ef21f",
   "metadata": {},
   "outputs": [],
   "source": [
    "print(\"\\nARMA vs AR \", LLR_test(realgdp_model_ar_1, realgdp_model_ar_1_ma_1))\n",
    "print(\"\\nARMA vs MA \", LLR_test(realgdp_model_ma_1, realgdp_model_ar_1_ma_1))\n",
    "print(\"\\nARMA vs ARMA(1,19) \", LLR_test(realgdp_model_ar_1_ma_1, realgdp_model_ar_1_ma_19,DF=18))"
   ]
  },
  {
   "cell_type": "markdown",
   "id": "d158e890",
   "metadata": {},
   "source": [
    "# Datos macroeconómicos de EEUU: Inflación"
   ]
  },
  {
   "cell_type": "markdown",
   "id": "8ff8cec0",
   "metadata": {},
   "source": [
    "## Estacionaridad"
   ]
  },
  {
   "cell_type": "code",
   "execution_count": null,
   "id": "b9826d6e",
   "metadata": {},
   "outputs": [],
   "source": [
    "sts.adfuller(df_macrodata['infl'])"
   ]
  },
  {
   "cell_type": "markdown",
   "id": "dc520ce9",
   "metadata": {},
   "source": [
    "## PACF y ACF"
   ]
  },
  {
   "cell_type": "code",
   "execution_count": null,
   "id": "f90a398c",
   "metadata": {},
   "outputs": [],
   "source": [
    "sgt.plot_pacf(df_macrodata['infl'], zero = False, lags = 40)\n",
    "plt.title(\"PACF for Inflation\", size = 20)\n",
    "plt.show()"
   ]
  },
  {
   "cell_type": "code",
   "execution_count": null,
   "id": "5bd1e104",
   "metadata": {},
   "outputs": [],
   "source": [
    "sgt.plot_acf(df_macrodata['infl'], zero = False, lags = 40)\n",
    "plt.title(\"ACF for Inflation\", size = 20)\n",
    "plt.show()"
   ]
  },
  {
   "cell_type": "markdown",
   "id": "ec291b12",
   "metadata": {},
   "source": [
    "## Modelo AR(1)"
   ]
  },
  {
   "cell_type": "code",
   "execution_count": null,
   "id": "29a3499e",
   "metadata": {},
   "outputs": [],
   "source": [
    "inflation_model_ar_1 = ARIMA(df_macrodata['infl'], order=(1,0,0))"
   ]
  },
  {
   "cell_type": "code",
   "execution_count": null,
   "id": "c77387d5",
   "metadata": {},
   "outputs": [],
   "source": [
    "inflation_results_ar_1 = inflation_model_ar_1.fit()"
   ]
  },
  {
   "cell_type": "code",
   "execution_count": null,
   "id": "4e8bb68d",
   "metadata": {},
   "outputs": [],
   "source": [
    "inflation_results_ar_1.summary()"
   ]
  },
  {
   "cell_type": "markdown",
   "id": "94db104b",
   "metadata": {},
   "source": [
    "## Modelo MA(1)"
   ]
  },
  {
   "cell_type": "code",
   "execution_count": null,
   "id": "ed63e6a4",
   "metadata": {},
   "outputs": [],
   "source": [
    "inflation_model_ma_1 = ARIMA(df_macrodata['infl'], order=(0,0,1))"
   ]
  },
  {
   "cell_type": "code",
   "execution_count": null,
   "id": "64e0e1bb",
   "metadata": {},
   "outputs": [],
   "source": [
    "inflation_results_ma_1 = inflation_model_ma_1.fit()"
   ]
  },
  {
   "cell_type": "code",
   "execution_count": null,
   "id": "9071bab3",
   "metadata": {},
   "outputs": [],
   "source": [
    "inflation_results_ma_1.summary()"
   ]
  },
  {
   "cell_type": "code",
   "execution_count": null,
   "id": "86595888",
   "metadata": {},
   "outputs": [],
   "source": []
  },
  {
   "cell_type": "markdown",
   "id": "333a4f55",
   "metadata": {},
   "source": [
    "## Modelos AR más complejos"
   ]
  },
  {
   "cell_type": "code",
   "execution_count": null,
   "id": "be659680",
   "metadata": {},
   "outputs": [],
   "source": [
    "inflation_model_ar_3 = ARIMA(df_macrodata['infl'], order=(3,0,0))"
   ]
  },
  {
   "cell_type": "code",
   "execution_count": null,
   "id": "d5dda826",
   "metadata": {},
   "outputs": [],
   "source": [
    "inflation_results_ar_3 = inflation_model_ar_3.fit()"
   ]
  },
  {
   "cell_type": "code",
   "execution_count": null,
   "id": "abee0e12",
   "metadata": {},
   "outputs": [],
   "source": [
    "inflation_results_ar_3.summary()"
   ]
  },
  {
   "cell_type": "code",
   "execution_count": null,
   "id": "f2192fb5",
   "metadata": {},
   "outputs": [],
   "source": [
    "inflation_model_ar_2 = ARIMA(df_macrodata['infl'], order=(2,0,0))"
   ]
  },
  {
   "cell_type": "code",
   "execution_count": null,
   "id": "51788445",
   "metadata": {},
   "outputs": [],
   "source": [
    "inflation_results_ar_2 = inflation_model_ar_2.fit()"
   ]
  },
  {
   "cell_type": "code",
   "execution_count": null,
   "id": "efbc0a82",
   "metadata": {},
   "outputs": [],
   "source": [
    "inflation_results_ar_2.summary()"
   ]
  },
  {
   "cell_type": "markdown",
   "id": "7a1a3e2c",
   "metadata": {},
   "source": [
    "## Pruebas LLR"
   ]
  },
  {
   "cell_type": "code",
   "execution_count": null,
   "id": "5e4a2860",
   "metadata": {},
   "outputs": [],
   "source": [
    "LLR_test(inflation_model_ar_1, inflation_model_ar_3,DF=2)"
   ]
  },
  {
   "cell_type": "markdown",
   "id": "fcb77555",
   "metadata": {},
   "source": [
    "## Modelos MA de mayor complejidad"
   ]
  },
  {
   "cell_type": "code",
   "execution_count": null,
   "id": "0e21b65f",
   "metadata": {},
   "outputs": [],
   "source": [
    "inflation_model_ma_10 = ARIMA(df_macrodata['infl'], order=(0,0,10))"
   ]
  },
  {
   "cell_type": "code",
   "execution_count": null,
   "id": "a3f07a0b",
   "metadata": {},
   "outputs": [],
   "source": [
    "inflation_results_ma_10 = inflation_model_ma_10.fit()"
   ]
  },
  {
   "cell_type": "code",
   "execution_count": null,
   "id": "2bc879b7",
   "metadata": {},
   "outputs": [],
   "source": [
    "inflation_results_ma_10.summary()"
   ]
  },
  {
   "cell_type": "markdown",
   "id": "ab0204da",
   "metadata": {},
   "source": [
    "## Pruebas LLR"
   ]
  },
  {
   "cell_type": "code",
   "execution_count": null,
   "id": "510c55a1",
   "metadata": {},
   "outputs": [],
   "source": [
    "LLR_test(inflation_model_ma_1, inflation_model_ma_10,DF=9)"
   ]
  },
  {
   "cell_type": "markdown",
   "id": "a467916b",
   "metadata": {},
   "source": [
    "## Modelos ARMA de mayor complejidad"
   ]
  },
  {
   "cell_type": "code",
   "execution_count": null,
   "id": "2e3cd73d",
   "metadata": {},
   "outputs": [],
   "source": [
    "inflation_model_ar_3_ma_3 = ARIMA(df_macrodata['infl'], order=(3,0,3))"
   ]
  },
  {
   "cell_type": "code",
   "execution_count": null,
   "id": "fa7c8b2a",
   "metadata": {},
   "outputs": [],
   "source": [
    "inflation_results_ar_3_ma_3 = inflation_model_ar_3_ma_3.fit()"
   ]
  },
  {
   "cell_type": "code",
   "execution_count": null,
   "id": "72de906e",
   "metadata": {},
   "outputs": [],
   "source": [
    "inflation_results_ar_3_ma_3.summary()"
   ]
  },
  {
   "cell_type": "code",
   "execution_count": null,
   "id": "c7f8ae4d",
   "metadata": {},
   "outputs": [],
   "source": [
    "plot_predict(inflation_results_ar_3)\n",
    "df_macrodata['infl'].plot();"
   ]
  },
  {
   "cell_type": "code",
   "execution_count": null,
   "id": "94574f26",
   "metadata": {},
   "outputs": [],
   "source": [
    "inflation_model_sarimax = SARIMAX(df_macrodata['infl'], order=(1,0,1), seasonal_order = (1,0,1,30))\n",
    "inflation_results_sarimax = inflation_model_sarimax.fit()\n",
    "inflation_results_sarimax.summary()"
   ]
  },
  {
   "cell_type": "code",
   "execution_count": null,
   "id": "87053020",
   "metadata": {},
   "outputs": [],
   "source": [
    "plot_predict(inflation_results_sarimax)\n",
    "df_macrodata['infl'].plot();"
   ]
  }
 ],
 "metadata": {
  "kernelspec": {
   "display_name": "Python 3 (ipykernel)",
   "language": "python",
   "name": "python3"
  },
  "language_info": {
   "codemirror_mode": {
    "name": "ipython",
    "version": 3
   },
   "file_extension": ".py",
   "mimetype": "text/x-python",
   "name": "python",
   "nbconvert_exporter": "python",
   "pygments_lexer": "ipython3",
   "version": "3.9.21"
  }
 },
 "nbformat": 4,
 "nbformat_minor": 5
}
