{
 "cells": [
  {
   "cell_type": "code",
   "execution_count": 223,
   "id": "58686746",
   "metadata": {},
   "outputs": [],
   "source": [
    "# Librerías básicas\n",
    "import pandas as pd\n",
    "import numpy as np \n",
    "import matplotlib.pyplot as plt \n",
    "%matplotlib inline\n",
    "\n",
    "import seaborn as sns\n",
    "sns.set()"
   ]
  },
  {
   "cell_type": "markdown",
   "id": "a9ad9c79",
   "metadata": {},
   "source": [
    "# El módulo Statsmodels\n",
    "\n",
    "Statsmodels es un módulo de Python que ofrece clases y funciones de varios modelos estadísticos, así como pruebas de hipótesis \n",
    "y análisis exploratorio de datos. La documentación se encuentra en <a href='https://www.statsmodels.org/stable/index.html'>statsmodels.org</a>. "
   ]
  },
  {
   "cell_type": "code",
   "execution_count": 388,
   "id": "0b5e5487",
   "metadata": {},
   "outputs": [],
   "source": [
    "import statsmodels.graphics.tsaplots as sgt \n",
    "import statsmodels.tsa.stattools as sts \n",
    "from statsmodels.tsa.seasonal import seasonal_decompose\n",
    "\n",
    "import statsmodels.graphics.tsaplots as sgt\n",
    "from statsmodels.graphics.tsaplots import plot_predict\n",
    "from statsmodels.tsa.arima.model import ARIMA\n",
    "from statsmodels.tsa.statespace.sarimax import SARIMAX\n",
    "from scipy.stats.distributions import chi2\n",
    "import statsmodels.tsa.stattools as sts "
   ]
  },
  {
   "cell_type": "markdown",
   "id": "6635c849",
   "metadata": {},
   "source": [
    "# Fuentes de datos interesantes"
   ]
  },
  {
   "cell_type": "markdown",
   "id": "57e14b0a",
   "metadata": {},
   "source": [
    "## API de Yahoo finance\n",
    "\n",
    "Yahoo Finance tiene una API que permite descargar información financiera para realizar análisis. La página web original de la documentación ya no existe. Sin embargo, existen algunas páginas de documentación no oficial como <a href= 'https://github.com/mxbi/yahoo-finance-api.git'> este repositorio en GitHub, </a> o <a href='https://python-yahoofinance.readthedocs.io/en/latest/api.html'> esta página de documentación the ReadTheDocs </a>."
   ]
  },
  {
   "cell_type": "code",
   "execution_count": 225,
   "id": "f4cfabbd",
   "metadata": {},
   "outputs": [
    {
     "name": "stdout",
     "output_type": "stream",
     "text": [
      "Defaulting to user installation because normal site-packages is not writeable\n",
      "Requirement already satisfied: yfinance in c:\\users\\lenovo\\appdata\\roaming\\python\\python39\\site-packages (0.2.43)\n",
      "Requirement already satisfied: pandas>=1.3.0 in c:\\programdata\\anaconda3\\lib\\site-packages (from yfinance) (1.4.4)\n",
      "Requirement already satisfied: peewee>=3.16.2 in c:\\users\\lenovo\\appdata\\roaming\\python\\python39\\site-packages (from yfinance) (3.17.6)\n",
      "Requirement already satisfied: pytz>=2022.5 in c:\\users\\lenovo\\appdata\\roaming\\python\\python39\\site-packages (from yfinance) (2024.1)\n",
      "Requirement already satisfied: platformdirs>=2.0.0 in c:\\programdata\\anaconda3\\lib\\site-packages (from yfinance) (2.5.2)\n",
      "Requirement already satisfied: frozendict>=2.3.4 in c:\\users\\lenovo\\appdata\\roaming\\python\\python39\\site-packages (from yfinance) (2.4.4)\n",
      "Requirement already satisfied: multitasking>=0.0.7 in c:\\users\\lenovo\\appdata\\roaming\\python\\python39\\site-packages (from yfinance) (0.0.11)\n",
      "Requirement already satisfied: requests>=2.31 in c:\\users\\lenovo\\appdata\\roaming\\python\\python39\\site-packages (from yfinance) (2.32.3)\n",
      "Requirement already satisfied: lxml>=4.9.1 in c:\\programdata\\anaconda3\\lib\\site-packages (from yfinance) (4.9.1)\n",
      "Requirement already satisfied: html5lib>=1.1 in c:\\users\\lenovo\\appdata\\roaming\\python\\python39\\site-packages (from yfinance) (1.1)\n",
      "Requirement already satisfied: numpy>=1.16.5 in c:\\users\\lenovo\\appdata\\roaming\\python\\python39\\site-packages (from yfinance) (1.24.3)\n",
      "Requirement already satisfied: beautifulsoup4>=4.11.1 in c:\\programdata\\anaconda3\\lib\\site-packages (from yfinance) (4.11.1)\n",
      "Requirement already satisfied: soupsieve>1.2 in c:\\programdata\\anaconda3\\lib\\site-packages (from beautifulsoup4>=4.11.1->yfinance) (2.3.1)\n",
      "Requirement already satisfied: webencodings in c:\\programdata\\anaconda3\\lib\\site-packages (from html5lib>=1.1->yfinance) (0.5.1)\n",
      "Requirement already satisfied: six>=1.9 in c:\\programdata\\anaconda3\\lib\\site-packages (from html5lib>=1.1->yfinance) (1.16.0)\n",
      "Requirement already satisfied: python-dateutil>=2.8.1 in c:\\programdata\\anaconda3\\lib\\site-packages (from pandas>=1.3.0->yfinance) (2.8.2)\n",
      "Requirement already satisfied: certifi>=2017.4.17 in c:\\programdata\\anaconda3\\lib\\site-packages (from requests>=2.31->yfinance) (2023.7.22)\n",
      "Requirement already satisfied: idna<4,>=2.5 in c:\\programdata\\anaconda3\\lib\\site-packages (from requests>=2.31->yfinance) (3.3)\n",
      "Requirement already satisfied: urllib3<3,>=1.21.1 in c:\\programdata\\anaconda3\\lib\\site-packages (from requests>=2.31->yfinance) (1.26.11)\n",
      "Requirement already satisfied: charset-normalizer<4,>=2 in c:\\programdata\\anaconda3\\lib\\site-packages (from requests>=2.31->yfinance) (2.0.4)\n",
      "Note: you may need to restart the kernel to use updated packages.\n"
     ]
    }
   ],
   "source": [
    "# Instalación de yfinance\n",
    "%pip install yfinance"
   ]
  },
  {
   "cell_type": "code",
   "execution_count": 226,
   "id": "0c86c59e",
   "metadata": {},
   "outputs": [],
   "source": [
    "# Se importa la librería yfinance\n",
    "import yfinance"
   ]
  },
  {
   "cell_type": "code",
   "execution_count": 227,
   "id": "8a0f6e2c",
   "metadata": {},
   "outputs": [
    {
     "name": "stderr",
     "output_type": "stream",
     "text": [
      "[*********************100%***********************]  2 of 2 completed\n"
     ]
    }
   ],
   "source": [
    "# Se descargan los datos S&P500 y Nikkei225\n",
    "df_yfinance_raw = yfinance.download(tickers = \"^GSPC ^N225\", #Las series de tiempo de interés - (en nuestro caso, S&P500 y NIKKEI225)\n",
    "                              start = \"1994-01-07\", #Fecha inicial\n",
    "                              end = \"2024-08-27\", #Fecha final\n",
    "                              interval = \"1d\", #Frecuencia.\n",
    "                              group_by = 'ticker', #Criterio de agrupación. Usualmente \"ticker\"\n",
    "                              auto_adjust = True#,  \n",
    "                              #threads = True\n",
    "                               ) #. "
   ]
  },
  {
   "cell_type": "code",
   "execution_count": 228,
   "id": "f60158b5",
   "metadata": {},
   "outputs": [
    {
     "data": {
      "text/html": [
       "<div>\n",
       "<style scoped>\n",
       "    .dataframe tbody tr th:only-of-type {\n",
       "        vertical-align: middle;\n",
       "    }\n",
       "\n",
       "    .dataframe tbody tr th {\n",
       "        vertical-align: top;\n",
       "    }\n",
       "\n",
       "    .dataframe thead tr th {\n",
       "        text-align: left;\n",
       "    }\n",
       "\n",
       "    .dataframe thead tr:last-of-type th {\n",
       "        text-align: right;\n",
       "    }\n",
       "</style>\n",
       "<table border=\"1\" class=\"dataframe\">\n",
       "  <thead>\n",
       "    <tr>\n",
       "      <th>Ticker</th>\n",
       "      <th colspan=\"5\" halign=\"left\">^GSPC</th>\n",
       "      <th colspan=\"5\" halign=\"left\">^N225</th>\n",
       "    </tr>\n",
       "    <tr>\n",
       "      <th>Price</th>\n",
       "      <th>Open</th>\n",
       "      <th>High</th>\n",
       "      <th>Low</th>\n",
       "      <th>Close</th>\n",
       "      <th>Volume</th>\n",
       "      <th>Open</th>\n",
       "      <th>High</th>\n",
       "      <th>Low</th>\n",
       "      <th>Close</th>\n",
       "      <th>Volume</th>\n",
       "    </tr>\n",
       "    <tr>\n",
       "      <th>Date</th>\n",
       "      <th></th>\n",
       "      <th></th>\n",
       "      <th></th>\n",
       "      <th></th>\n",
       "      <th></th>\n",
       "      <th></th>\n",
       "      <th></th>\n",
       "      <th></th>\n",
       "      <th></th>\n",
       "      <th></th>\n",
       "    </tr>\n",
       "  </thead>\n",
       "  <tbody>\n",
       "    <tr>\n",
       "      <th>1994-01-07 00:00:00+00:00</th>\n",
       "      <td>467.089996</td>\n",
       "      <td>470.260010</td>\n",
       "      <td>467.029999</td>\n",
       "      <td>469.899994</td>\n",
       "      <td>324920000.0</td>\n",
       "      <td>17842.980469</td>\n",
       "      <td>18131.410156</td>\n",
       "      <td>17787.480469</td>\n",
       "      <td>18124.009766</td>\n",
       "      <td>0.0</td>\n",
       "    </tr>\n",
       "    <tr>\n",
       "      <th>1994-01-10 00:00:00+00:00</th>\n",
       "      <td>469.899994</td>\n",
       "      <td>475.269989</td>\n",
       "      <td>469.549988</td>\n",
       "      <td>475.269989</td>\n",
       "      <td>319490000.0</td>\n",
       "      <td>18186.519531</td>\n",
       "      <td>18567.060547</td>\n",
       "      <td>18186.519531</td>\n",
       "      <td>18443.439453</td>\n",
       "      <td>0.0</td>\n",
       "    </tr>\n",
       "    <tr>\n",
       "      <th>1994-01-11 00:00:00+00:00</th>\n",
       "      <td>475.269989</td>\n",
       "      <td>475.279999</td>\n",
       "      <td>473.269989</td>\n",
       "      <td>474.130005</td>\n",
       "      <td>305490000.0</td>\n",
       "      <td>18481.849609</td>\n",
       "      <td>18671.669922</td>\n",
       "      <td>18373.039062</td>\n",
       "      <td>18485.250000</td>\n",
       "      <td>0.0</td>\n",
       "    </tr>\n",
       "    <tr>\n",
       "      <th>1994-01-12 00:00:00+00:00</th>\n",
       "      <td>474.130005</td>\n",
       "      <td>475.059998</td>\n",
       "      <td>472.140015</td>\n",
       "      <td>474.170013</td>\n",
       "      <td>310690000.0</td>\n",
       "      <td>18447.339844</td>\n",
       "      <td>18807.080078</td>\n",
       "      <td>18301.929688</td>\n",
       "      <td>18793.880859</td>\n",
       "      <td>0.0</td>\n",
       "    </tr>\n",
       "    <tr>\n",
       "      <th>1994-01-13 00:00:00+00:00</th>\n",
       "      <td>474.170013</td>\n",
       "      <td>474.170013</td>\n",
       "      <td>471.799988</td>\n",
       "      <td>472.470001</td>\n",
       "      <td>277970000.0</td>\n",
       "      <td>18770.380859</td>\n",
       "      <td>18823.380859</td>\n",
       "      <td>18548.750000</td>\n",
       "      <td>18577.259766</td>\n",
       "      <td>0.0</td>\n",
       "    </tr>\n",
       "  </tbody>\n",
       "</table>\n",
       "</div>"
      ],
      "text/plain": [
       "Ticker                          ^GSPC                                      \\\n",
       "Price                            Open        High         Low       Close   \n",
       "Date                                                                        \n",
       "1994-01-07 00:00:00+00:00  467.089996  470.260010  467.029999  469.899994   \n",
       "1994-01-10 00:00:00+00:00  469.899994  475.269989  469.549988  475.269989   \n",
       "1994-01-11 00:00:00+00:00  475.269989  475.279999  473.269989  474.130005   \n",
       "1994-01-12 00:00:00+00:00  474.130005  475.059998  472.140015  474.170013   \n",
       "1994-01-13 00:00:00+00:00  474.170013  474.170013  471.799988  472.470001   \n",
       "\n",
       "Ticker                                         ^N225                \\\n",
       "Price                           Volume          Open          High   \n",
       "Date                                                                 \n",
       "1994-01-07 00:00:00+00:00  324920000.0  17842.980469  18131.410156   \n",
       "1994-01-10 00:00:00+00:00  319490000.0  18186.519531  18567.060547   \n",
       "1994-01-11 00:00:00+00:00  305490000.0  18481.849609  18671.669922   \n",
       "1994-01-12 00:00:00+00:00  310690000.0  18447.339844  18807.080078   \n",
       "1994-01-13 00:00:00+00:00  277970000.0  18770.380859  18823.380859   \n",
       "\n",
       "Ticker                                                        \n",
       "Price                               Low         Close Volume  \n",
       "Date                                                          \n",
       "1994-01-07 00:00:00+00:00  17787.480469  18124.009766    0.0  \n",
       "1994-01-10 00:00:00+00:00  18186.519531  18443.439453    0.0  \n",
       "1994-01-11 00:00:00+00:00  18373.039062  18485.250000    0.0  \n",
       "1994-01-12 00:00:00+00:00  18301.929688  18793.880859    0.0  \n",
       "1994-01-13 00:00:00+00:00  18548.750000  18577.259766    0.0  "
      ]
     },
     "execution_count": 228,
     "metadata": {},
     "output_type": "execute_result"
    }
   ],
   "source": [
    "df_yfinance_raw.head()"
   ]
  },
  {
   "cell_type": "code",
   "execution_count": 229,
   "id": "a99e51b2",
   "metadata": {},
   "outputs": [],
   "source": [
    "# Se crea una copia para modificar\n",
    "df_yfinance = df_yfinance_raw.copy()"
   ]
  },
  {
   "cell_type": "code",
   "execution_count": 230,
   "id": "6233f498",
   "metadata": {},
   "outputs": [],
   "source": [
    "# Se agregan columnas para el nivel de cierre de los índices S&P500 y Nikkei255\n",
    "df_yfinance['spx'] = df_yfinance['^GSPC'].Close\n",
    "df_yfinance['nikkei'] = df_yfinance['^N225'].Close"
   ]
  },
  {
   "cell_type": "code",
   "execution_count": 231,
   "id": "54c95486",
   "metadata": {},
   "outputs": [],
   "source": [
    "#f_comp = df_comp.iloc[1:] # Removing the first elements, since we always start 1 period before the first, due to time zone differences of closing prices\n",
    "del df_yfinance['^N225'] # Se retiran los grupos de columnas '^N225' y '^GSPC'\n",
    "del df_yfinance['^GSPC']\n",
    "df_yfinance=df_yfinance.asfreq('b') # Se establece la frecuencia de los datos\n",
    "df_yfinance=df_yfinance.fillna(method='ffill') # Se rellenan los datos faltantes con el método ffill que usa el último valor válido"
   ]
  },
  {
   "cell_type": "code",
   "execution_count": 232,
   "id": "0d3a20b6",
   "metadata": {},
   "outputs": [
    {
     "data": {
      "text/html": [
       "<div>\n",
       "<style scoped>\n",
       "    .dataframe tbody tr th:only-of-type {\n",
       "        vertical-align: middle;\n",
       "    }\n",
       "\n",
       "    .dataframe tbody tr th {\n",
       "        vertical-align: top;\n",
       "    }\n",
       "\n",
       "    .dataframe thead tr th {\n",
       "        text-align: left;\n",
       "    }\n",
       "\n",
       "    .dataframe thead tr:last-of-type th {\n",
       "        text-align: right;\n",
       "    }\n",
       "</style>\n",
       "<table border=\"1\" class=\"dataframe\">\n",
       "  <thead>\n",
       "    <tr>\n",
       "      <th>Ticker</th>\n",
       "      <th>spx</th>\n",
       "      <th>nikkei</th>\n",
       "    </tr>\n",
       "    <tr>\n",
       "      <th>Price</th>\n",
       "      <th></th>\n",
       "      <th></th>\n",
       "    </tr>\n",
       "    <tr>\n",
       "      <th>Date</th>\n",
       "      <th></th>\n",
       "      <th></th>\n",
       "    </tr>\n",
       "  </thead>\n",
       "  <tbody>\n",
       "    <tr>\n",
       "      <th>1994-01-07 00:00:00+00:00</th>\n",
       "      <td>469.899994</td>\n",
       "      <td>18124.009766</td>\n",
       "    </tr>\n",
       "    <tr>\n",
       "      <th>1994-01-10 00:00:00+00:00</th>\n",
       "      <td>475.269989</td>\n",
       "      <td>18443.439453</td>\n",
       "    </tr>\n",
       "    <tr>\n",
       "      <th>1994-01-11 00:00:00+00:00</th>\n",
       "      <td>474.130005</td>\n",
       "      <td>18485.250000</td>\n",
       "    </tr>\n",
       "    <tr>\n",
       "      <th>1994-01-12 00:00:00+00:00</th>\n",
       "      <td>474.170013</td>\n",
       "      <td>18793.880859</td>\n",
       "    </tr>\n",
       "    <tr>\n",
       "      <th>1994-01-13 00:00:00+00:00</th>\n",
       "      <td>472.470001</td>\n",
       "      <td>18577.259766</td>\n",
       "    </tr>\n",
       "  </tbody>\n",
       "</table>\n",
       "</div>"
      ],
      "text/plain": [
       "Ticker                            spx        nikkei\n",
       "Price                                              \n",
       "Date                                               \n",
       "1994-01-07 00:00:00+00:00  469.899994  18124.009766\n",
       "1994-01-10 00:00:00+00:00  475.269989  18443.439453\n",
       "1994-01-11 00:00:00+00:00  474.130005  18485.250000\n",
       "1994-01-12 00:00:00+00:00  474.170013  18793.880859\n",
       "1994-01-13 00:00:00+00:00  472.470001  18577.259766"
      ]
     },
     "execution_count": 232,
     "metadata": {},
     "output_type": "execute_result"
    }
   ],
   "source": [
    "df_yfinance.head()"
   ]
  },
  {
   "cell_type": "code",
   "execution_count": 233,
   "id": "b8b1b53f",
   "metadata": {},
   "outputs": [
    {
     "data": {
      "text/plain": [
       "MultiIndex([(   'spx', ''),\n",
       "            ('nikkei', '')],\n",
       "           names=['Ticker', 'Price'])"
      ]
     },
     "execution_count": 233,
     "metadata": {},
     "output_type": "execute_result"
    }
   ],
   "source": [
    "df_yfinance.columns"
   ]
  },
  {
   "cell_type": "code",
   "execution_count": 234,
   "id": "775d4091",
   "metadata": {},
   "outputs": [],
   "source": [
    "df_yfinance.columns=['spx','nikkei']"
   ]
  },
  {
   "cell_type": "code",
   "execution_count": 235,
   "id": "22fa8adb",
   "metadata": {},
   "outputs": [
    {
     "data": {
      "text/plain": [
       "Index(['spx', 'nikkei'], dtype='object')"
      ]
     },
     "execution_count": 235,
     "metadata": {},
     "output_type": "execute_result"
    }
   ],
   "source": [
    "df_yfinance.columns"
   ]
  },
  {
   "cell_type": "code",
   "execution_count": 236,
   "id": "c3ddb053",
   "metadata": {},
   "outputs": [
    {
     "data": {
      "text/html": [
       "<div>\n",
       "<style scoped>\n",
       "    .dataframe tbody tr th:only-of-type {\n",
       "        vertical-align: middle;\n",
       "    }\n",
       "\n",
       "    .dataframe tbody tr th {\n",
       "        vertical-align: top;\n",
       "    }\n",
       "\n",
       "    .dataframe thead th {\n",
       "        text-align: right;\n",
       "    }\n",
       "</style>\n",
       "<table border=\"1\" class=\"dataframe\">\n",
       "  <thead>\n",
       "    <tr style=\"text-align: right;\">\n",
       "      <th></th>\n",
       "      <th>spx</th>\n",
       "      <th>nikkei</th>\n",
       "    </tr>\n",
       "    <tr>\n",
       "      <th>Date</th>\n",
       "      <th></th>\n",
       "      <th></th>\n",
       "    </tr>\n",
       "  </thead>\n",
       "  <tbody>\n",
       "    <tr>\n",
       "      <th>1994-01-07 00:00:00+00:00</th>\n",
       "      <td>469.899994</td>\n",
       "      <td>18124.009766</td>\n",
       "    </tr>\n",
       "    <tr>\n",
       "      <th>1994-01-10 00:00:00+00:00</th>\n",
       "      <td>475.269989</td>\n",
       "      <td>18443.439453</td>\n",
       "    </tr>\n",
       "    <tr>\n",
       "      <th>1994-01-11 00:00:00+00:00</th>\n",
       "      <td>474.130005</td>\n",
       "      <td>18485.250000</td>\n",
       "    </tr>\n",
       "    <tr>\n",
       "      <th>1994-01-12 00:00:00+00:00</th>\n",
       "      <td>474.170013</td>\n",
       "      <td>18793.880859</td>\n",
       "    </tr>\n",
       "    <tr>\n",
       "      <th>1994-01-13 00:00:00+00:00</th>\n",
       "      <td>472.470001</td>\n",
       "      <td>18577.259766</td>\n",
       "    </tr>\n",
       "  </tbody>\n",
       "</table>\n",
       "</div>"
      ],
      "text/plain": [
       "                                  spx        nikkei\n",
       "Date                                               \n",
       "1994-01-07 00:00:00+00:00  469.899994  18124.009766\n",
       "1994-01-10 00:00:00+00:00  475.269989  18443.439453\n",
       "1994-01-11 00:00:00+00:00  474.130005  18485.250000\n",
       "1994-01-12 00:00:00+00:00  474.170013  18793.880859\n",
       "1994-01-13 00:00:00+00:00  472.470001  18577.259766"
      ]
     },
     "execution_count": 236,
     "metadata": {},
     "output_type": "execute_result"
    }
   ],
   "source": [
    "df_yfinance.head() "
   ]
  },
  {
   "cell_type": "code",
   "execution_count": 237,
   "id": "9b5d1e61",
   "metadata": {},
   "outputs": [
    {
     "data": {
      "text/plain": [
       "Index(['spx', 'nikkei'], dtype='object')"
      ]
     },
     "execution_count": 237,
     "metadata": {},
     "output_type": "execute_result"
    }
   ],
   "source": [
    "df_yfinance.columns"
   ]
  },
  {
   "cell_type": "code",
   "execution_count": 238,
   "id": "08ad0e39",
   "metadata": {},
   "outputs": [],
   "source": [
    "df_yfinance.index = pd.to_datetime(df_yfinance.index)"
   ]
  },
  {
   "cell_type": "code",
   "execution_count": 239,
   "id": "6fc17815",
   "metadata": {},
   "outputs": [
    {
     "data": {
      "text/html": [
       "<div>\n",
       "<style scoped>\n",
       "    .dataframe tbody tr th:only-of-type {\n",
       "        vertical-align: middle;\n",
       "    }\n",
       "\n",
       "    .dataframe tbody tr th {\n",
       "        vertical-align: top;\n",
       "    }\n",
       "\n",
       "    .dataframe thead th {\n",
       "        text-align: right;\n",
       "    }\n",
       "</style>\n",
       "<table border=\"1\" class=\"dataframe\">\n",
       "  <thead>\n",
       "    <tr style=\"text-align: right;\">\n",
       "      <th></th>\n",
       "      <th>spx</th>\n",
       "      <th>nikkei</th>\n",
       "    </tr>\n",
       "    <tr>\n",
       "      <th>Date</th>\n",
       "      <th></th>\n",
       "      <th></th>\n",
       "    </tr>\n",
       "  </thead>\n",
       "  <tbody>\n",
       "    <tr>\n",
       "      <th>2024-08-20 00:00:00+00:00</th>\n",
       "      <td>5597.120117</td>\n",
       "      <td>38062.921875</td>\n",
       "    </tr>\n",
       "    <tr>\n",
       "      <th>2024-08-21 00:00:00+00:00</th>\n",
       "      <td>5620.850098</td>\n",
       "      <td>37951.800781</td>\n",
       "    </tr>\n",
       "    <tr>\n",
       "      <th>2024-08-22 00:00:00+00:00</th>\n",
       "      <td>5570.640137</td>\n",
       "      <td>38211.011719</td>\n",
       "    </tr>\n",
       "    <tr>\n",
       "      <th>2024-08-23 00:00:00+00:00</th>\n",
       "      <td>5634.609863</td>\n",
       "      <td>38364.269531</td>\n",
       "    </tr>\n",
       "    <tr>\n",
       "      <th>2024-08-26 00:00:00+00:00</th>\n",
       "      <td>5616.839844</td>\n",
       "      <td>38110.218750</td>\n",
       "    </tr>\n",
       "  </tbody>\n",
       "</table>\n",
       "</div>"
      ],
      "text/plain": [
       "                                   spx        nikkei\n",
       "Date                                                \n",
       "2024-08-20 00:00:00+00:00  5597.120117  38062.921875\n",
       "2024-08-21 00:00:00+00:00  5620.850098  37951.800781\n",
       "2024-08-22 00:00:00+00:00  5570.640137  38211.011719\n",
       "2024-08-23 00:00:00+00:00  5634.609863  38364.269531\n",
       "2024-08-26 00:00:00+00:00  5616.839844  38110.218750"
      ]
     },
     "execution_count": 239,
     "metadata": {},
     "output_type": "execute_result"
    }
   ],
   "source": [
    "df_yfinance.tail() # Making sure of the last day we're including in the series"
   ]
  },
  {
   "cell_type": "code",
   "execution_count": 240,
   "id": "f0cc0c92",
   "metadata": {},
   "outputs": [],
   "source": [
    "#df_comp.date = pd.to_datetime(df_comp.date, dayfirst = True)\n",
    "#df_comp.set_index(\"date\", inplace=True)\n",
    "df_yfinance=df_yfinance.asfreq('b')\n",
    "df_yfinance=df_yfinance.fillna(method='ffill')"
   ]
  },
  {
   "cell_type": "code",
   "execution_count": 241,
   "id": "88597010",
   "metadata": {
    "scrolled": true
   },
   "outputs": [
    {
     "data": {
      "text/html": [
       "<div>\n",
       "<style scoped>\n",
       "    .dataframe tbody tr th:only-of-type {\n",
       "        vertical-align: middle;\n",
       "    }\n",
       "\n",
       "    .dataframe tbody tr th {\n",
       "        vertical-align: top;\n",
       "    }\n",
       "\n",
       "    .dataframe thead th {\n",
       "        text-align: right;\n",
       "    }\n",
       "</style>\n",
       "<table border=\"1\" class=\"dataframe\">\n",
       "  <thead>\n",
       "    <tr style=\"text-align: right;\">\n",
       "      <th></th>\n",
       "      <th>spx</th>\n",
       "      <th>nikkei</th>\n",
       "    </tr>\n",
       "    <tr>\n",
       "      <th>Date</th>\n",
       "      <th></th>\n",
       "      <th></th>\n",
       "    </tr>\n",
       "  </thead>\n",
       "  <tbody>\n",
       "    <tr>\n",
       "      <th>1994-01-07 00:00:00+00:00</th>\n",
       "      <td>469.899994</td>\n",
       "      <td>18124.009766</td>\n",
       "    </tr>\n",
       "    <tr>\n",
       "      <th>1994-01-10 00:00:00+00:00</th>\n",
       "      <td>475.269989</td>\n",
       "      <td>18443.439453</td>\n",
       "    </tr>\n",
       "    <tr>\n",
       "      <th>1994-01-11 00:00:00+00:00</th>\n",
       "      <td>474.130005</td>\n",
       "      <td>18485.250000</td>\n",
       "    </tr>\n",
       "    <tr>\n",
       "      <th>1994-01-12 00:00:00+00:00</th>\n",
       "      <td>474.170013</td>\n",
       "      <td>18793.880859</td>\n",
       "    </tr>\n",
       "    <tr>\n",
       "      <th>1994-01-13 00:00:00+00:00</th>\n",
       "      <td>472.470001</td>\n",
       "      <td>18577.259766</td>\n",
       "    </tr>\n",
       "  </tbody>\n",
       "</table>\n",
       "</div>"
      ],
      "text/plain": [
       "                                  spx        nikkei\n",
       "Date                                               \n",
       "1994-01-07 00:00:00+00:00  469.899994  18124.009766\n",
       "1994-01-10 00:00:00+00:00  475.269989  18443.439453\n",
       "1994-01-11 00:00:00+00:00  474.130005  18485.250000\n",
       "1994-01-12 00:00:00+00:00  474.170013  18793.880859\n",
       "1994-01-13 00:00:00+00:00  472.470001  18577.259766"
      ]
     },
     "execution_count": 241,
     "metadata": {},
     "output_type": "execute_result"
    }
   ],
   "source": [
    "df_yfinance.head()"
   ]
  },
  {
   "cell_type": "code",
   "execution_count": 242,
   "id": "9718778c",
   "metadata": {},
   "outputs": [],
   "source": [
    "df_yfinance.index = pd.to_datetime(df_yfinance.index).tz_localize(None)"
   ]
  },
  {
   "cell_type": "markdown",
   "id": "da5c39be",
   "metadata": {},
   "source": [
    "## Algunos archivos csv con datos\n",
    "\n",
    "En <a href='https://github.com/jbrownlee/Datasets.git'>este repositorio de GitHub</a> se encuentran muchos archivos .csv con datos apropiados para ejercicios de aprendizaje de máquina y series de tiempo. En este notebook utilizaremos el archivo 'airline_passengers.csv'."
   ]
  },
  {
   "cell_type": "code",
   "execution_count": 243,
   "id": "c0d228df",
   "metadata": {},
   "outputs": [],
   "source": [
    "df_airline = pd.read_csv('airline_passengers.csv',index_col='Month',parse_dates=True)"
   ]
  },
  {
   "cell_type": "code",
   "execution_count": 244,
   "id": "4a2b4e10",
   "metadata": {},
   "outputs": [
    {
     "data": {
      "text/html": [
       "<div>\n",
       "<style scoped>\n",
       "    .dataframe tbody tr th:only-of-type {\n",
       "        vertical-align: middle;\n",
       "    }\n",
       "\n",
       "    .dataframe tbody tr th {\n",
       "        vertical-align: top;\n",
       "    }\n",
       "\n",
       "    .dataframe thead th {\n",
       "        text-align: right;\n",
       "    }\n",
       "</style>\n",
       "<table border=\"1\" class=\"dataframe\">\n",
       "  <thead>\n",
       "    <tr style=\"text-align: right;\">\n",
       "      <th></th>\n",
       "      <th>Passengers</th>\n",
       "    </tr>\n",
       "    <tr>\n",
       "      <th>Month</th>\n",
       "      <th></th>\n",
       "    </tr>\n",
       "  </thead>\n",
       "  <tbody>\n",
       "    <tr>\n",
       "      <th>1949-01-01</th>\n",
       "      <td>112</td>\n",
       "    </tr>\n",
       "    <tr>\n",
       "      <th>1949-02-01</th>\n",
       "      <td>118</td>\n",
       "    </tr>\n",
       "    <tr>\n",
       "      <th>1949-03-01</th>\n",
       "      <td>132</td>\n",
       "    </tr>\n",
       "    <tr>\n",
       "      <th>1949-04-01</th>\n",
       "      <td>129</td>\n",
       "    </tr>\n",
       "    <tr>\n",
       "      <th>1949-05-01</th>\n",
       "      <td>121</td>\n",
       "    </tr>\n",
       "  </tbody>\n",
       "</table>\n",
       "</div>"
      ],
      "text/plain": [
       "            Passengers\n",
       "Month                 \n",
       "1949-01-01         112\n",
       "1949-02-01         118\n",
       "1949-03-01         132\n",
       "1949-04-01         129\n",
       "1949-05-01         121"
      ]
     },
     "execution_count": 244,
     "metadata": {},
     "output_type": "execute_result"
    }
   ],
   "source": [
    "df_airline.head()"
   ]
  },
  {
   "cell_type": "code",
   "execution_count": 391,
   "id": "95b88a81",
   "metadata": {},
   "outputs": [],
   "source": [
    "df_airline.index = pd.to_datetime(df_airline.index)"
   ]
  },
  {
   "cell_type": "markdown",
   "id": "822133c2",
   "metadata": {},
   "source": [
    "## Datos que vienen con la librería statsmodels\n",
    "La librería <a href='https://www.statsmodels.org/stable/index.html'>statsmodels</a> tiene varios conjuntos de datos incorporados.\n",
    "En este notebook, utilizaremos el dataset 'macrodata', que trae datos macroeconómicos de EEUU."
   ]
  },
  {
   "cell_type": "code",
   "execution_count": 245,
   "id": "d1aa3c16",
   "metadata": {},
   "outputs": [
    {
     "name": "stdout",
     "output_type": "stream",
     "text": [
      "::\n",
      "    Number of Observations - 203\n",
      "\n",
      "    Number of Variables - 14\n",
      "\n",
      "    Variable name definitions::\n",
      "\n",
      "        year      - 1959q1 - 2009q3\n",
      "        quarter   - 1-4\n",
      "        realgdp   - Real gross domestic product (Bil. of chained 2005 US$,\n",
      "                    seasonally adjusted annual rate)\n",
      "        realcons  - Real personal consumption expenditures (Bil. of chained\n",
      "                    2005 US$, seasonally adjusted annual rate)\n",
      "        realinv   - Real gross private domestic investment (Bil. of chained\n",
      "                    2005 US$, seasonally adjusted annual rate)\n",
      "        realgovt  - Real federal consumption expenditures & gross investment\n",
      "                    (Bil. of chained 2005 US$, seasonally adjusted annual rate)\n",
      "        realdpi   - Real private disposable income (Bil. of chained 2005\n",
      "                    US$, seasonally adjusted annual rate)\n",
      "        cpi       - End of the quarter consumer price index for all urban\n",
      "                    consumers: all items (1982-84 = 100, seasonally adjusted).\n",
      "        m1        - End of the quarter M1 nominal money stock (Seasonally\n",
      "                    adjusted)\n",
      "        tbilrate  - Quarterly monthly average of the monthly 3-month\n",
      "                    treasury bill: secondary market rate\n",
      "        unemp     - Seasonally adjusted unemployment rate (%)\n",
      "        pop       - End of the quarter total population: all ages incl. armed\n",
      "                    forces over seas\n",
      "        infl      - Inflation rate (ln(cpi_{t}/cpi_{t-1}) * 400)\n",
      "        realint   - Real interest rate (tbilrate - infl)\n",
      "\n"
     ]
    }
   ],
   "source": [
    "#import pandas as pd\n",
    "import statsmodels.api as sm\n",
    "df_macrodata = sm.datasets.macrodata.load_pandas().data\n",
    "df_macrodata.index = pd.Index(sm.tsa.datetools.dates_from_range('1959Q1', '2009Q3'))\n",
    "print(sm.datasets.macrodata.NOTE)"
   ]
  },
  {
   "cell_type": "code",
   "execution_count": 246,
   "id": "fa6026e1",
   "metadata": {},
   "outputs": [
    {
     "data": {
      "text/html": [
       "<div>\n",
       "<style scoped>\n",
       "    .dataframe tbody tr th:only-of-type {\n",
       "        vertical-align: middle;\n",
       "    }\n",
       "\n",
       "    .dataframe tbody tr th {\n",
       "        vertical-align: top;\n",
       "    }\n",
       "\n",
       "    .dataframe thead th {\n",
       "        text-align: right;\n",
       "    }\n",
       "</style>\n",
       "<table border=\"1\" class=\"dataframe\">\n",
       "  <thead>\n",
       "    <tr style=\"text-align: right;\">\n",
       "      <th></th>\n",
       "      <th>year</th>\n",
       "      <th>quarter</th>\n",
       "      <th>realgdp</th>\n",
       "      <th>realcons</th>\n",
       "      <th>realinv</th>\n",
       "      <th>realgovt</th>\n",
       "      <th>realdpi</th>\n",
       "      <th>cpi</th>\n",
       "      <th>m1</th>\n",
       "      <th>tbilrate</th>\n",
       "      <th>unemp</th>\n",
       "      <th>pop</th>\n",
       "      <th>infl</th>\n",
       "      <th>realint</th>\n",
       "    </tr>\n",
       "  </thead>\n",
       "  <tbody>\n",
       "    <tr>\n",
       "      <th>1959-03-31</th>\n",
       "      <td>1959.0</td>\n",
       "      <td>1.0</td>\n",
       "      <td>2710.349</td>\n",
       "      <td>1707.4</td>\n",
       "      <td>286.898</td>\n",
       "      <td>470.045</td>\n",
       "      <td>1886.9</td>\n",
       "      <td>28.98</td>\n",
       "      <td>139.7</td>\n",
       "      <td>2.82</td>\n",
       "      <td>5.8</td>\n",
       "      <td>177.146</td>\n",
       "      <td>0.00</td>\n",
       "      <td>0.00</td>\n",
       "    </tr>\n",
       "    <tr>\n",
       "      <th>1959-06-30</th>\n",
       "      <td>1959.0</td>\n",
       "      <td>2.0</td>\n",
       "      <td>2778.801</td>\n",
       "      <td>1733.7</td>\n",
       "      <td>310.859</td>\n",
       "      <td>481.301</td>\n",
       "      <td>1919.7</td>\n",
       "      <td>29.15</td>\n",
       "      <td>141.7</td>\n",
       "      <td>3.08</td>\n",
       "      <td>5.1</td>\n",
       "      <td>177.830</td>\n",
       "      <td>2.34</td>\n",
       "      <td>0.74</td>\n",
       "    </tr>\n",
       "    <tr>\n",
       "      <th>1959-09-30</th>\n",
       "      <td>1959.0</td>\n",
       "      <td>3.0</td>\n",
       "      <td>2775.488</td>\n",
       "      <td>1751.8</td>\n",
       "      <td>289.226</td>\n",
       "      <td>491.260</td>\n",
       "      <td>1916.4</td>\n",
       "      <td>29.35</td>\n",
       "      <td>140.5</td>\n",
       "      <td>3.82</td>\n",
       "      <td>5.3</td>\n",
       "      <td>178.657</td>\n",
       "      <td>2.74</td>\n",
       "      <td>1.09</td>\n",
       "    </tr>\n",
       "    <tr>\n",
       "      <th>1959-12-31</th>\n",
       "      <td>1959.0</td>\n",
       "      <td>4.0</td>\n",
       "      <td>2785.204</td>\n",
       "      <td>1753.7</td>\n",
       "      <td>299.356</td>\n",
       "      <td>484.052</td>\n",
       "      <td>1931.3</td>\n",
       "      <td>29.37</td>\n",
       "      <td>140.0</td>\n",
       "      <td>4.33</td>\n",
       "      <td>5.6</td>\n",
       "      <td>179.386</td>\n",
       "      <td>0.27</td>\n",
       "      <td>4.06</td>\n",
       "    </tr>\n",
       "    <tr>\n",
       "      <th>1960-03-31</th>\n",
       "      <td>1960.0</td>\n",
       "      <td>1.0</td>\n",
       "      <td>2847.699</td>\n",
       "      <td>1770.5</td>\n",
       "      <td>331.722</td>\n",
       "      <td>462.199</td>\n",
       "      <td>1955.5</td>\n",
       "      <td>29.54</td>\n",
       "      <td>139.6</td>\n",
       "      <td>3.50</td>\n",
       "      <td>5.2</td>\n",
       "      <td>180.007</td>\n",
       "      <td>2.31</td>\n",
       "      <td>1.19</td>\n",
       "    </tr>\n",
       "  </tbody>\n",
       "</table>\n",
       "</div>"
      ],
      "text/plain": [
       "              year  quarter   realgdp  realcons  realinv  realgovt  realdpi  \\\n",
       "1959-03-31  1959.0      1.0  2710.349    1707.4  286.898   470.045   1886.9   \n",
       "1959-06-30  1959.0      2.0  2778.801    1733.7  310.859   481.301   1919.7   \n",
       "1959-09-30  1959.0      3.0  2775.488    1751.8  289.226   491.260   1916.4   \n",
       "1959-12-31  1959.0      4.0  2785.204    1753.7  299.356   484.052   1931.3   \n",
       "1960-03-31  1960.0      1.0  2847.699    1770.5  331.722   462.199   1955.5   \n",
       "\n",
       "              cpi     m1  tbilrate  unemp      pop  infl  realint  \n",
       "1959-03-31  28.98  139.7      2.82    5.8  177.146  0.00     0.00  \n",
       "1959-06-30  29.15  141.7      3.08    5.1  177.830  2.34     0.74  \n",
       "1959-09-30  29.35  140.5      3.82    5.3  178.657  2.74     1.09  \n",
       "1959-12-31  29.37  140.0      4.33    5.6  179.386  0.27     4.06  \n",
       "1960-03-31  29.54  139.6      3.50    5.2  180.007  2.31     1.19  "
      ]
     },
     "execution_count": 246,
     "metadata": {},
     "output_type": "execute_result"
    }
   ],
   "source": [
    "df_macrodata.head()"
   ]
  },
  {
   "cell_type": "markdown",
   "id": "fe3f193c",
   "metadata": {},
   "source": [
    "## Datos de simulados de ventas"
   ]
  },
  {
   "cell_type": "code",
   "execution_count": 247,
   "id": "cda8265e",
   "metadata": {},
   "outputs": [],
   "source": [
    "df_ventas = pd.read_excel('Datos_clase_1.xlsx',index_col = 'Fecha', parse_dates = True)"
   ]
  },
  {
   "cell_type": "markdown",
   "id": "f4ea9913",
   "metadata": {},
   "source": [
    "# Yahoo finance"
   ]
  },
  {
   "cell_type": "markdown",
   "id": "c0d5ec91",
   "metadata": {},
   "source": [
    "## Estacionaridad"
   ]
  },
  {
   "cell_type": "code",
   "execution_count": 248,
   "id": "8ad1b770",
   "metadata": {},
   "outputs": [
    {
     "data": {
      "text/plain": [
       "(2.495421902147278,\n",
       " 0.9990483594146493,\n",
       " 32,\n",
       " 7959,\n",
       " {'1%': -3.4311718884675066,\n",
       "  '5%': -2.861903215555782,\n",
       "  '10%': -2.566963334958385},\n",
       " 72367.34132821791)"
      ]
     },
     "execution_count": 248,
     "metadata": {},
     "output_type": "execute_result"
    }
   ],
   "source": [
    "sts.adfuller(df_yfinance['spx'])"
   ]
  },
  {
   "cell_type": "markdown",
   "id": "ce2a9c2a",
   "metadata": {},
   "source": [
    "## PACF y ACF"
   ]
  },
  {
   "cell_type": "code",
   "execution_count": 249,
   "id": "3068cc15",
   "metadata": {},
   "outputs": [
    {
     "name": "stderr",
     "output_type": "stream",
     "text": [
      "C:\\ProgramData\\Anaconda3\\lib\\site-packages\\statsmodels\\graphics\\tsaplots.py:348: FutureWarning: The default method 'yw' can produce PACF values outside of the [-1,1] interval. After 0.13, the default will change tounadjusted Yule-Walker ('ywm'). You can use this method now by setting method='ywm'.\n",
      "  warnings.warn(\n"
     ]
    },
    {
     "data": {
      "image/png": "[encoded data removed]",
      "text/plain": [
       "<Figure size 640x480 with 1 Axes>"
      ]
     },
     "metadata": {},
     "output_type": "display_data"
    }
   ],
   "source": [
    "sgt.plot_pacf(df_yfinance['spx'], zero = False, lags = 40)\n",
    "plt.title(\"PACF for S&P500\", size = 20)\n",
    "plt.show()"
   ]
  },
  {
   "cell_type": "code",
   "execution_count": 250,
   "id": "20cc17b1",
   "metadata": {},
   "outputs": [
    {
     "data": {
      "image/png": "[encoded data removed]",
      "text/plain": [
       "<Figure size 640x480 with 1 Axes>"
      ]
     },
     "metadata": {},
     "output_type": "display_data"
    }
   ],
   "source": [
    "sgt.plot_acf(df_yfinance['spx'], zero = False, lags = 40)\n",
    "plt.title(\"ACF for S&P500\", size = 20)\n",
    "plt.show()"
   ]
  },
  {
   "cell_type": "markdown",
   "id": "2d4dc4e3",
   "metadata": {},
   "source": [
    "## Modelo AR(1)"
   ]
  },
  {
   "cell_type": "code",
   "execution_count": 251,
   "id": "8c16396c",
   "metadata": {},
   "outputs": [
    {
     "name": "stderr",
     "output_type": "stream",
     "text": [
      "C:\\ProgramData\\Anaconda3\\lib\\site-packages\\statsmodels\\tsa\\base\\tsa_model.py:471: ValueWarning: No frequency information was provided, so inferred frequency B will be used.\n",
      "  self._init_dates(dates, freq)\n",
      "C:\\ProgramData\\Anaconda3\\lib\\site-packages\\statsmodels\\tsa\\base\\tsa_model.py:471: ValueWarning: No frequency information was provided, so inferred frequency B will be used.\n",
      "  self._init_dates(dates, freq)\n",
      "C:\\ProgramData\\Anaconda3\\lib\\site-packages\\statsmodels\\tsa\\base\\tsa_model.py:471: ValueWarning: No frequency information was provided, so inferred frequency B will be used.\n",
      "  self._init_dates(dates, freq)\n"
     ]
    }
   ],
   "source": [
    "yfinance_model_ar_1 = ARIMA(df_yfinance['spx'], order=(1,0,0))"
   ]
  },
  {
   "cell_type": "code",
   "execution_count": 252,
   "id": "7fd5bf3b",
   "metadata": {},
   "outputs": [
    {
     "name": "stderr",
     "output_type": "stream",
     "text": [
      "C:\\ProgramData\\Anaconda3\\lib\\site-packages\\statsmodels\\tsa\\statespace\\sarimax.py:966: UserWarning: Non-stationary starting autoregressive parameters found. Using zeros as starting parameters.\n",
      "  warn('Non-stationary starting autoregressive parameters'\n"
     ]
    }
   ],
   "source": [
    "yfinance_results_ar_1 = yfinance_model_ar_1.fit()"
   ]
  },
  {
   "cell_type": "code",
   "execution_count": 253,
   "id": "a3f52d64",
   "metadata": {},
   "outputs": [
    {
     "data": {
      "text/html": [
       "<table class=\"simpletable\">\n",
       "<caption>SARIMAX Results</caption>\n",
       "<tr>\n",
       "  <th>Dep. Variable:</th>          <td>spx</td>       <th>  No. Observations:  </th>    <td>7992</td>   \n",
       "</tr>\n",
       "<tr>\n",
       "  <th>Model:</th>            <td>ARIMA(1, 0, 0)</td>  <th>  Log Likelihood     </th> <td>-36454.616</td>\n",
       "</tr>\n",
       "<tr>\n",
       "  <th>Date:</th>            <td>Thu, 19 Sep 2024</td> <th>  AIC                </th>  <td>72915.231</td>\n",
       "</tr>\n",
       "<tr>\n",
       "  <th>Time:</th>                <td>16:41:57</td>     <th>  BIC                </th>  <td>72936.190</td>\n",
       "</tr>\n",
       "<tr>\n",
       "  <th>Sample:</th>             <td>01-07-1994</td>    <th>  HQIC               </th>  <td>72922.406</td>\n",
       "</tr>\n",
       "<tr>\n",
       "  <th></th>                   <td>- 08-26-2024</td>   <th>                     </th>      <td> </td>    \n",
       "</tr>\n",
       "<tr>\n",
       "  <th>Covariance Type:</th>        <td>opg</td>       <th>                     </th>      <td> </td>    \n",
       "</tr>\n",
       "</table>\n",
       "<table class=\"simpletable\">\n",
       "<tr>\n",
       "     <td></td>       <th>coef</th>     <th>std err</th>      <th>z</th>      <th>P>|z|</th>  <th>[0.025</th>    <th>0.975]</th>  \n",
       "</tr>\n",
       "<tr>\n",
       "  <th>const</th>  <td> 1818.9555</td> <td> 1144.491</td> <td>    1.589</td> <td> 0.112</td> <td> -424.206</td> <td> 4062.117</td>\n",
       "</tr>\n",
       "<tr>\n",
       "  <th>ar.L1</th>  <td>    0.9998</td> <td>    0.000</td> <td> 6308.795</td> <td> 0.000</td> <td>    1.000</td> <td>    1.000</td>\n",
       "</tr>\n",
       "<tr>\n",
       "  <th>sigma2</th> <td>  535.8763</td> <td>    2.663</td> <td>  201.206</td> <td> 0.000</td> <td>  530.656</td> <td>  541.096</td>\n",
       "</tr>\n",
       "</table>\n",
       "<table class=\"simpletable\">\n",
       "<tr>\n",
       "  <th>Ljung-Box (L1) (Q):</th>     <td>49.71</td> <th>  Jarque-Bera (JB):  </th> <td>117805.78</td>\n",
       "</tr>\n",
       "<tr>\n",
       "  <th>Prob(Q):</th>                <td>0.00</td>  <th>  Prob(JB):          </th>   <td>0.00</td>   \n",
       "</tr>\n",
       "<tr>\n",
       "  <th>Heteroskedasticity (H):</th> <td>8.68</td>  <th>  Skew:              </th>   <td>-0.73</td>  \n",
       "</tr>\n",
       "<tr>\n",
       "  <th>Prob(H) (two-sided):</th>    <td>0.00</td>  <th>  Kurtosis:          </th>   <td>21.75</td>  \n",
       "</tr>\n",
       "</table><br/><br/>Warnings:<br/>[1] Covariance matrix calculated using the outer product of gradients (complex-step)."
      ],
      "text/plain": [
       "<class 'statsmodels.iolib.summary.Summary'>\n",
       "\"\"\"\n",
       "                               SARIMAX Results                                \n",
       "==============================================================================\n",
       "Dep. Variable:                    spx   No. Observations:                 7992\n",
       "Model:                 ARIMA(1, 0, 0)   Log Likelihood              -36454.616\n",
       "Date:                Thu, 19 Sep 2024   AIC                          72915.231\n",
       "Time:                        16:41:57   BIC                          72936.190\n",
       "Sample:                    01-07-1994   HQIC                         72922.406\n",
       "                         - 08-26-2024                                         \n",
       "Covariance Type:                  opg                                         \n",
       "==============================================================================\n",
       "                 coef    std err          z      P>|z|      [0.025      0.975]\n",
       "------------------------------------------------------------------------------\n",
       "const       1818.9555   1144.491      1.589      0.112    -424.206    4062.117\n",
       "ar.L1          0.9998      0.000   6308.795      0.000       1.000       1.000\n",
       "sigma2       535.8763      2.663    201.206      0.000     530.656     541.096\n",
       "===================================================================================\n",
       "Ljung-Box (L1) (Q):                  49.71   Jarque-Bera (JB):            117805.78\n",
       "Prob(Q):                              0.00   Prob(JB):                         0.00\n",
       "Heteroskedasticity (H):               8.68   Skew:                            -0.73\n",
       "Prob(H) (two-sided):                  0.00   Kurtosis:                        21.75\n",
       "===================================================================================\n",
       "\n",
       "Warnings:\n",
       "[1] Covariance matrix calculated using the outer product of gradients (complex-step).\n",
       "\"\"\""
      ]
     },
     "execution_count": 253,
     "metadata": {},
     "output_type": "execute_result"
    }
   ],
   "source": [
    "yfinance_results_ar_1.summary()"
   ]
  },
  {
   "cell_type": "code",
   "execution_count": 254,
   "id": "c0a0d07a",
   "metadata": {},
   "outputs": [],
   "source": [
    "#yfinance_results_ar_1['Date']"
   ]
  },
  {
   "cell_type": "code",
   "execution_count": 379,
   "id": "b701ba39",
   "metadata": {},
   "outputs": [
    {
     "data": {
      "text/plain": [
       "<statsmodels.tsa.statespace.mlemodel.PredictionResultsWrapper at 0x11ebde24070>"
      ]
     },
     "execution_count": 379,
     "metadata": {},
     "output_type": "execute_result"
    }
   ],
   "source": [
    "yfinance_results_ar_1.get_prediction(start = '2015-01-01',end = '2016-01-01')"
   ]
  },
  {
   "cell_type": "code",
   "execution_count": 256,
   "id": "e97367aa",
   "metadata": {},
   "outputs": [],
   "source": [
    "start = pd.to_datetime('2015-01-01').tz_localize(None)\n",
    "end = pd.to_datetime('2016-01-01').tz_localize(None)"
   ]
  },
  {
   "cell_type": "code",
   "execution_count": 382,
   "id": "0ae9fc03",
   "metadata": {},
   "outputs": [
    {
     "data": {
      "image/png": "[encoded data removed]",
      "text/plain": [
       "<Figure size 640x480 with 1 Axes>"
      ]
     },
     "metadata": {},
     "output_type": "display_data"
    }
   ],
   "source": [
    "plot_predict(yfinance_results_ar_1,start = '2015-01-01',end = '2016-01-01')\n",
    "df_yfinance['spx']['2015-01-01':'2016-01-01'].plot();"
   ]
  },
  {
   "cell_type": "markdown",
   "id": "12b34391",
   "metadata": {},
   "source": [
    "## Modelo MA(1)"
   ]
  },
  {
   "cell_type": "code",
   "execution_count": 258,
   "id": "e5e2a39e",
   "metadata": {},
   "outputs": [
    {
     "name": "stderr",
     "output_type": "stream",
     "text": [
      "C:\\ProgramData\\Anaconda3\\lib\\site-packages\\statsmodels\\tsa\\base\\tsa_model.py:471: ValueWarning: No frequency information was provided, so inferred frequency B will be used.\n",
      "  self._init_dates(dates, freq)\n",
      "C:\\ProgramData\\Anaconda3\\lib\\site-packages\\statsmodels\\tsa\\base\\tsa_model.py:471: ValueWarning: No frequency information was provided, so inferred frequency B will be used.\n",
      "  self._init_dates(dates, freq)\n",
      "C:\\ProgramData\\Anaconda3\\lib\\site-packages\\statsmodels\\tsa\\base\\tsa_model.py:471: ValueWarning: No frequency information was provided, so inferred frequency B will be used.\n",
      "  self._init_dates(dates, freq)\n"
     ]
    }
   ],
   "source": [
    "yfinance_model_ma_1 = ARIMA(df_yfinance['spx'], order=(0,0,1))"
   ]
  },
  {
   "cell_type": "code",
   "execution_count": 259,
   "id": "d00847b0",
   "metadata": {},
   "outputs": [],
   "source": [
    "yfinance_results_ma_1 = yfinance_model_ma_1.fit()"
   ]
  },
  {
   "cell_type": "code",
   "execution_count": 260,
   "id": "2abaa46a",
   "metadata": {},
   "outputs": [
    {
     "data": {
      "text/html": [
       "<table class=\"simpletable\">\n",
       "<caption>SARIMAX Results</caption>\n",
       "<tr>\n",
       "  <th>Dep. Variable:</th>          <td>spx</td>       <th>  No. Observations:  </th>    <td>7992</td>   \n",
       "</tr>\n",
       "<tr>\n",
       "  <th>Model:</th>            <td>ARIMA(0, 0, 1)</td>  <th>  Log Likelihood     </th> <td>-62328.834</td>\n",
       "</tr>\n",
       "<tr>\n",
       "  <th>Date:</th>            <td>Thu, 19 Sep 2024</td> <th>  AIC                </th> <td>124663.668</td>\n",
       "</tr>\n",
       "<tr>\n",
       "  <th>Time:</th>                <td>16:42:01</td>     <th>  BIC                </th> <td>124684.627</td>\n",
       "</tr>\n",
       "<tr>\n",
       "  <th>Sample:</th>             <td>01-07-1994</td>    <th>  HQIC               </th> <td>124670.843</td>\n",
       "</tr>\n",
       "<tr>\n",
       "  <th></th>                   <td>- 08-26-2024</td>   <th>                     </th>      <td> </td>    \n",
       "</tr>\n",
       "<tr>\n",
       "  <th>Covariance Type:</th>        <td>opg</td>       <th>                     </th>      <td> </td>    \n",
       "</tr>\n",
       "</table>\n",
       "<table class=\"simpletable\">\n",
       "<tr>\n",
       "     <td></td>       <th>coef</th>     <th>std err</th>      <th>z</th>      <th>P>|z|</th>  <th>[0.025</th>    <th>0.975]</th>  \n",
       "</tr>\n",
       "<tr>\n",
       "  <th>const</th>  <td> 1818.9199</td> <td>   20.734</td> <td>   87.725</td> <td> 0.000</td> <td> 1778.282</td> <td> 1859.558</td>\n",
       "</tr>\n",
       "<tr>\n",
       "  <th>ma.L1</th>  <td>    0.9886</td> <td>    0.001</td> <td>  848.098</td> <td> 0.000</td> <td>    0.986</td> <td>    0.991</td>\n",
       "</tr>\n",
       "<tr>\n",
       "  <th>sigma2</th> <td> 3.478e+05</td> <td> 7271.591</td> <td>   47.834</td> <td> 0.000</td> <td> 3.34e+05</td> <td> 3.62e+05</td>\n",
       "</tr>\n",
       "</table>\n",
       "<table class=\"simpletable\">\n",
       "<tr>\n",
       "  <th>Ljung-Box (L1) (Q):</th>     <td>7626.21</td> <th>  Jarque-Bera (JB):  </th> <td>2548.71</td>\n",
       "</tr>\n",
       "<tr>\n",
       "  <th>Prob(Q):</th>                 <td>0.00</td>   <th>  Prob(JB):          </th>  <td>0.00</td>  \n",
       "</tr>\n",
       "<tr>\n",
       "  <th>Heteroskedasticity (H):</th>  <td>3.50</td>   <th>  Skew:              </th>  <td>1.31</td>  \n",
       "</tr>\n",
       "<tr>\n",
       "  <th>Prob(H) (two-sided):</th>     <td>0.00</td>   <th>  Kurtosis:          </th>  <td>3.87</td>  \n",
       "</tr>\n",
       "</table><br/><br/>Warnings:<br/>[1] Covariance matrix calculated using the outer product of gradients (complex-step)."
      ],
      "text/plain": [
       "<class 'statsmodels.iolib.summary.Summary'>\n",
       "\"\"\"\n",
       "                               SARIMAX Results                                \n",
       "==============================================================================\n",
       "Dep. Variable:                    spx   No. Observations:                 7992\n",
       "Model:                 ARIMA(0, 0, 1)   Log Likelihood              -62328.834\n",
       "Date:                Thu, 19 Sep 2024   AIC                         124663.668\n",
       "Time:                        16:42:01   BIC                         124684.627\n",
       "Sample:                    01-07-1994   HQIC                        124670.843\n",
       "                         - 08-26-2024                                         \n",
       "Covariance Type:                  opg                                         \n",
       "==============================================================================\n",
       "                 coef    std err          z      P>|z|      [0.025      0.975]\n",
       "------------------------------------------------------------------------------\n",
       "const       1818.9199     20.734     87.725      0.000    1778.282    1859.558\n",
       "ma.L1          0.9886      0.001    848.098      0.000       0.986       0.991\n",
       "sigma2      3.478e+05   7271.591     47.834      0.000    3.34e+05    3.62e+05\n",
       "===================================================================================\n",
       "Ljung-Box (L1) (Q):                7626.21   Jarque-Bera (JB):              2548.71\n",
       "Prob(Q):                              0.00   Prob(JB):                         0.00\n",
       "Heteroskedasticity (H):               3.50   Skew:                             1.31\n",
       "Prob(H) (two-sided):                  0.00   Kurtosis:                         3.87\n",
       "===================================================================================\n",
       "\n",
       "Warnings:\n",
       "[1] Covariance matrix calculated using the outer product of gradients (complex-step).\n",
       "\"\"\""
      ]
     },
     "execution_count": 260,
     "metadata": {},
     "output_type": "execute_result"
    }
   ],
   "source": [
    "yfinance_results_ma_1.summary()"
   ]
  },
  {
   "cell_type": "markdown",
   "id": "f4cba055",
   "metadata": {},
   "source": [
    "## AR de mayor complejidad"
   ]
  },
  {
   "cell_type": "code",
   "execution_count": null,
   "id": "3c6ac09a",
   "metadata": {},
   "outputs": [],
   "source": []
  },
  {
   "cell_type": "code",
   "execution_count": null,
   "id": "fc7c2037",
   "metadata": {},
   "outputs": [],
   "source": []
  },
  {
   "cell_type": "code",
   "execution_count": null,
   "id": "79b87e45",
   "metadata": {},
   "outputs": [],
   "source": []
  },
  {
   "cell_type": "markdown",
   "id": "e29b3b03",
   "metadata": {},
   "source": [
    "## Modelos MA más complejos"
   ]
  },
  {
   "cell_type": "code",
   "execution_count": 261,
   "id": "5549e5d2",
   "metadata": {},
   "outputs": [
    {
     "name": "stderr",
     "output_type": "stream",
     "text": [
      "C:\\ProgramData\\Anaconda3\\lib\\site-packages\\statsmodels\\tsa\\base\\tsa_model.py:471: ValueWarning: No frequency information was provided, so inferred frequency B will be used.\n",
      "  self._init_dates(dates, freq)\n",
      "C:\\ProgramData\\Anaconda3\\lib\\site-packages\\statsmodels\\tsa\\base\\tsa_model.py:471: ValueWarning: No frequency information was provided, so inferred frequency B will be used.\n",
      "  self._init_dates(dates, freq)\n",
      "C:\\ProgramData\\Anaconda3\\lib\\site-packages\\statsmodels\\tsa\\base\\tsa_model.py:471: ValueWarning: No frequency information was provided, so inferred frequency B will be used.\n",
      "  self._init_dates(dates, freq)\n"
     ]
    }
   ],
   "source": [
    "yfinance_model_ma_5 = ARIMA(df_yfinance['spx'], order=(0,0,5))"
   ]
  },
  {
   "cell_type": "code",
   "execution_count": 262,
   "id": "be278ccd",
   "metadata": {},
   "outputs": [
    {
     "name": "stderr",
     "output_type": "stream",
     "text": [
      "C:\\ProgramData\\Anaconda3\\lib\\site-packages\\statsmodels\\tsa\\statespace\\sarimax.py:978: UserWarning: Non-invertible starting MA parameters found. Using zeros as starting parameters.\n",
      "  warn('Non-invertible starting MA parameters found.'\n"
     ]
    }
   ],
   "source": [
    "yfinance_results_ma_5 = yfinance_model_ma_5.fit()"
   ]
  },
  {
   "cell_type": "code",
   "execution_count": 263,
   "id": "82531662",
   "metadata": {},
   "outputs": [
    {
     "data": {
      "text/html": [
       "<table class=\"simpletable\">\n",
       "<caption>SARIMAX Results</caption>\n",
       "<tr>\n",
       "  <th>Dep. Variable:</th>          <td>spx</td>       <th>  No. Observations:  </th>    <td>7992</td>   \n",
       "</tr>\n",
       "<tr>\n",
       "  <th>Model:</th>            <td>ARIMA(0, 0, 5)</td>  <th>  Log Likelihood     </th> <td>-57674.488</td>\n",
       "</tr>\n",
       "<tr>\n",
       "  <th>Date:</th>            <td>Thu, 19 Sep 2024</td> <th>  AIC                </th> <td>115362.976</td>\n",
       "</tr>\n",
       "<tr>\n",
       "  <th>Time:</th>                <td>16:42:16</td>     <th>  BIC                </th> <td>115411.880</td>\n",
       "</tr>\n",
       "<tr>\n",
       "  <th>Sample:</th>             <td>01-07-1994</td>    <th>  HQIC               </th> <td>115379.716</td>\n",
       "</tr>\n",
       "<tr>\n",
       "  <th></th>                   <td>- 08-26-2024</td>   <th>                     </th>      <td> </td>    \n",
       "</tr>\n",
       "<tr>\n",
       "  <th>Covariance Type:</th>        <td>opg</td>       <th>                     </th>      <td> </td>    \n",
       "</tr>\n",
       "</table>\n",
       "<table class=\"simpletable\">\n",
       "<tr>\n",
       "     <td></td>       <th>coef</th>     <th>std err</th>      <th>z</th>      <th>P>|z|</th>  <th>[0.025</th>    <th>0.975]</th>  \n",
       "</tr>\n",
       "<tr>\n",
       "  <th>const</th>  <td> 1818.8057</td> <td>   23.972</td> <td>   75.873</td> <td> 0.000</td> <td> 1771.822</td> <td> 1865.789</td>\n",
       "</tr>\n",
       "<tr>\n",
       "  <th>ma.L1</th>  <td>    0.8476</td> <td>    0.003</td> <td>  271.693</td> <td> 0.000</td> <td>    0.842</td> <td>    0.854</td>\n",
       "</tr>\n",
       "<tr>\n",
       "  <th>ma.L2</th>  <td>    0.2661</td> <td>    0.002</td> <td>  127.163</td> <td> 0.000</td> <td>    0.262</td> <td>    0.270</td>\n",
       "</tr>\n",
       "<tr>\n",
       "  <th>ma.L3</th>  <td>    0.2694</td> <td>    0.003</td> <td>   81.003</td> <td> 0.000</td> <td>    0.263</td> <td>    0.276</td>\n",
       "</tr>\n",
       "<tr>\n",
       "  <th>ma.L4</th>  <td>    0.8485</td> <td>    0.007</td> <td>  122.005</td> <td> 0.000</td> <td>    0.835</td> <td>    0.862</td>\n",
       "</tr>\n",
       "<tr>\n",
       "  <th>ma.L5</th>  <td>    0.9975</td> <td>    0.005</td> <td>  218.310</td> <td> 0.000</td> <td>    0.989</td> <td>    1.006</td>\n",
       "</tr>\n",
       "<tr>\n",
       "  <th>sigma2</th> <td> 1.102e+05</td> <td> 1896.527</td> <td>   58.115</td> <td> 0.000</td> <td> 1.06e+05</td> <td> 1.14e+05</td>\n",
       "</tr>\n",
       "</table>\n",
       "<table class=\"simpletable\">\n",
       "<tr>\n",
       "  <th>Ljung-Box (L1) (Q):</th>     <td>3156.71</td> <th>  Jarque-Bera (JB):  </th> <td>6639.37</td>\n",
       "</tr>\n",
       "<tr>\n",
       "  <th>Prob(Q):</th>                 <td>0.00</td>   <th>  Prob(JB):          </th>  <td>0.00</td>  \n",
       "</tr>\n",
       "<tr>\n",
       "  <th>Heteroskedasticity (H):</th>  <td>4.64</td>   <th>  Skew:              </th>  <td>1.67</td>  \n",
       "</tr>\n",
       "<tr>\n",
       "  <th>Prob(H) (two-sided):</th>     <td>0.00</td>   <th>  Kurtosis:          </th>  <td>5.97</td>  \n",
       "</tr>\n",
       "</table><br/><br/>Warnings:<br/>[1] Covariance matrix calculated using the outer product of gradients (complex-step)."
      ],
      "text/plain": [
       "<class 'statsmodels.iolib.summary.Summary'>\n",
       "\"\"\"\n",
       "                               SARIMAX Results                                \n",
       "==============================================================================\n",
       "Dep. Variable:                    spx   No. Observations:                 7992\n",
       "Model:                 ARIMA(0, 0, 5)   Log Likelihood              -57674.488\n",
       "Date:                Thu, 19 Sep 2024   AIC                         115362.976\n",
       "Time:                        16:42:16   BIC                         115411.880\n",
       "Sample:                    01-07-1994   HQIC                        115379.716\n",
       "                         - 08-26-2024                                         \n",
       "Covariance Type:                  opg                                         \n",
       "==============================================================================\n",
       "                 coef    std err          z      P>|z|      [0.025      0.975]\n",
       "------------------------------------------------------------------------------\n",
       "const       1818.8057     23.972     75.873      0.000    1771.822    1865.789\n",
       "ma.L1          0.8476      0.003    271.693      0.000       0.842       0.854\n",
       "ma.L2          0.2661      0.002    127.163      0.000       0.262       0.270\n",
       "ma.L3          0.2694      0.003     81.003      0.000       0.263       0.276\n",
       "ma.L4          0.8485      0.007    122.005      0.000       0.835       0.862\n",
       "ma.L5          0.9975      0.005    218.310      0.000       0.989       1.006\n",
       "sigma2      1.102e+05   1896.527     58.115      0.000    1.06e+05    1.14e+05\n",
       "===================================================================================\n",
       "Ljung-Box (L1) (Q):                3156.71   Jarque-Bera (JB):              6639.37\n",
       "Prob(Q):                              0.00   Prob(JB):                         0.00\n",
       "Heteroskedasticity (H):               4.64   Skew:                             1.67\n",
       "Prob(H) (two-sided):                  0.00   Kurtosis:                         5.97\n",
       "===================================================================================\n",
       "\n",
       "Warnings:\n",
       "[1] Covariance matrix calculated using the outer product of gradients (complex-step).\n",
       "\"\"\""
      ]
     },
     "execution_count": 263,
     "metadata": {},
     "output_type": "execute_result"
    }
   ],
   "source": [
    "yfinance_results_ma_5.summary()"
   ]
  },
  {
   "cell_type": "markdown",
   "id": "5313a415",
   "metadata": {},
   "source": [
    "## Pruebas LLR"
   ]
  },
  {
   "cell_type": "code",
   "execution_count": 264,
   "id": "67b7e5ee",
   "metadata": {},
   "outputs": [],
   "source": [
    "def LLR_test(mod_1, mod_2, DF=1):\n",
    "    L1 = mod_1.fit().llf\n",
    "    L2 = mod_2.fit().llf\n",
    "    LR = (2*(L2-L1))\n",
    "    p = chi2.sf(LR, DF)\n",
    "    return p"
   ]
  },
  {
   "cell_type": "code",
   "execution_count": 265,
   "id": "d1a418d2",
   "metadata": {},
   "outputs": [
    {
     "name": "stderr",
     "output_type": "stream",
     "text": [
      "C:\\ProgramData\\Anaconda3\\lib\\site-packages\\statsmodels\\tsa\\statespace\\sarimax.py:978: UserWarning: Non-invertible starting MA parameters found. Using zeros as starting parameters.\n",
      "  warn('Non-invertible starting MA parameters found.'\n"
     ]
    },
    {
     "data": {
      "text/plain": [
       "0.0"
      ]
     },
     "execution_count": 265,
     "metadata": {},
     "output_type": "execute_result"
    }
   ],
   "source": [
    "LLR_test(yfinance_model_ma_1, yfinance_model_ma_5,DF=4)"
   ]
  },
  {
   "cell_type": "markdown",
   "id": "8a859a6c",
   "metadata": {},
   "source": [
    "## Modelo ARMA(1,1)"
   ]
  },
  {
   "cell_type": "code",
   "execution_count": 266,
   "id": "5866f524",
   "metadata": {},
   "outputs": [
    {
     "name": "stderr",
     "output_type": "stream",
     "text": [
      "C:\\ProgramData\\Anaconda3\\lib\\site-packages\\statsmodels\\tsa\\base\\tsa_model.py:471: ValueWarning: No frequency information was provided, so inferred frequency B will be used.\n",
      "  self._init_dates(dates, freq)\n",
      "C:\\ProgramData\\Anaconda3\\lib\\site-packages\\statsmodels\\tsa\\base\\tsa_model.py:471: ValueWarning: No frequency information was provided, so inferred frequency B will be used.\n",
      "  self._init_dates(dates, freq)\n",
      "C:\\ProgramData\\Anaconda3\\lib\\site-packages\\statsmodels\\tsa\\base\\tsa_model.py:471: ValueWarning: No frequency information was provided, so inferred frequency B will be used.\n",
      "  self._init_dates(dates, freq)\n"
     ]
    }
   ],
   "source": [
    "yfinance_model_ar_1_ma_1 = ARIMA(df_yfinance['spx'], order=(1,0,1))"
   ]
  },
  {
   "cell_type": "code",
   "execution_count": 267,
   "id": "9195b896",
   "metadata": {},
   "outputs": [
    {
     "name": "stderr",
     "output_type": "stream",
     "text": [
      "C:\\ProgramData\\Anaconda3\\lib\\site-packages\\statsmodels\\tsa\\statespace\\sarimax.py:966: UserWarning: Non-stationary starting autoregressive parameters found. Using zeros as starting parameters.\n",
      "  warn('Non-stationary starting autoregressive parameters'\n"
     ]
    }
   ],
   "source": [
    "yfinance_results_ar_1_ma_1 = yfinance_model_ar_1_ma_1.fit()"
   ]
  },
  {
   "cell_type": "code",
   "execution_count": 268,
   "id": "28f89130",
   "metadata": {},
   "outputs": [
    {
     "data": {
      "text/html": [
       "<table class=\"simpletable\">\n",
       "<caption>SARIMAX Results</caption>\n",
       "<tr>\n",
       "  <th>Dep. Variable:</th>          <td>spx</td>       <th>  No. Observations:  </th>    <td>7992</td>   \n",
       "</tr>\n",
       "<tr>\n",
       "  <th>Model:</th>            <td>ARIMA(1, 0, 1)</td>  <th>  Log Likelihood     </th> <td>-36430.283</td>\n",
       "</tr>\n",
       "<tr>\n",
       "  <th>Date:</th>            <td>Thu, 19 Sep 2024</td> <th>  AIC                </th>  <td>72868.566</td>\n",
       "</tr>\n",
       "<tr>\n",
       "  <th>Time:</th>                <td>16:42:38</td>     <th>  BIC                </th>  <td>72896.511</td>\n",
       "</tr>\n",
       "<tr>\n",
       "  <th>Sample:</th>             <td>01-07-1994</td>    <th>  HQIC               </th>  <td>72878.131</td>\n",
       "</tr>\n",
       "<tr>\n",
       "  <th></th>                   <td>- 08-26-2024</td>   <th>                     </th>      <td> </td>    \n",
       "</tr>\n",
       "<tr>\n",
       "  <th>Covariance Type:</th>        <td>opg</td>       <th>                     </th>      <td> </td>    \n",
       "</tr>\n",
       "</table>\n",
       "<table class=\"simpletable\">\n",
       "<tr>\n",
       "     <td></td>       <th>coef</th>     <th>std err</th>      <th>z</th>      <th>P>|z|</th>  <th>[0.025</th>    <th>0.975]</th>  \n",
       "</tr>\n",
       "<tr>\n",
       "  <th>const</th>  <td> 1818.8521</td> <td> 6.07e-05</td> <td>    3e+07</td> <td> 0.000</td> <td> 1818.852</td> <td> 1818.852</td>\n",
       "</tr>\n",
       "<tr>\n",
       "  <th>ar.L1</th>  <td>    1.0000</td> <td> 7.79e-05</td> <td> 1.28e+04</td> <td> 0.000</td> <td>    1.000</td> <td>    1.000</td>\n",
       "</tr>\n",
       "<tr>\n",
       "  <th>ma.L1</th>  <td>   -0.0749</td> <td>    0.004</td> <td>  -18.606</td> <td> 0.000</td> <td>   -0.083</td> <td>   -0.067</td>\n",
       "</tr>\n",
       "<tr>\n",
       "  <th>sigma2</th> <td>  532.5699</td> <td>    2.777</td> <td>  191.778</td> <td> 0.000</td> <td>  527.127</td> <td>  538.013</td>\n",
       "</tr>\n",
       "</table>\n",
       "<table class=\"simpletable\">\n",
       "<tr>\n",
       "  <th>Ljung-Box (L1) (Q):</th>     <td>0.06</td> <th>  Jarque-Bera (JB):  </th> <td>106334.12</td>\n",
       "</tr>\n",
       "<tr>\n",
       "  <th>Prob(Q):</th>                <td>0.80</td> <th>  Prob(JB):          </th>   <td>0.00</td>   \n",
       "</tr>\n",
       "<tr>\n",
       "  <th>Heteroskedasticity (H):</th> <td>8.60</td> <th>  Skew:              </th>   <td>-0.82</td>  \n",
       "</tr>\n",
       "<tr>\n",
       "  <th>Prob(H) (two-sided):</th>    <td>0.00</td> <th>  Kurtosis:          </th>   <td>20.79</td>  \n",
       "</tr>\n",
       "</table><br/><br/>Warnings:<br/>[1] Covariance matrix calculated using the outer product of gradients (complex-step).<br/>[2] Covariance matrix is singular or near-singular, with condition number 5.61e+20. Standard errors may be unstable."
      ],
      "text/plain": [
       "<class 'statsmodels.iolib.summary.Summary'>\n",
       "\"\"\"\n",
       "                               SARIMAX Results                                \n",
       "==============================================================================\n",
       "Dep. Variable:                    spx   No. Observations:                 7992\n",
       "Model:                 ARIMA(1, 0, 1)   Log Likelihood              -36430.283\n",
       "Date:                Thu, 19 Sep 2024   AIC                          72868.566\n",
       "Time:                        16:42:38   BIC                          72896.511\n",
       "Sample:                    01-07-1994   HQIC                         72878.131\n",
       "                         - 08-26-2024                                         \n",
       "Covariance Type:                  opg                                         \n",
       "==============================================================================\n",
       "                 coef    std err          z      P>|z|      [0.025      0.975]\n",
       "------------------------------------------------------------------------------\n",
       "const       1818.8521   6.07e-05      3e+07      0.000    1818.852    1818.852\n",
       "ar.L1          1.0000   7.79e-05   1.28e+04      0.000       1.000       1.000\n",
       "ma.L1         -0.0749      0.004    -18.606      0.000      -0.083      -0.067\n",
       "sigma2       532.5699      2.777    191.778      0.000     527.127     538.013\n",
       "===================================================================================\n",
       "Ljung-Box (L1) (Q):                   0.06   Jarque-Bera (JB):            106334.12\n",
       "Prob(Q):                              0.80   Prob(JB):                         0.00\n",
       "Heteroskedasticity (H):               8.60   Skew:                            -0.82\n",
       "Prob(H) (two-sided):                  0.00   Kurtosis:                        20.79\n",
       "===================================================================================\n",
       "\n",
       "Warnings:\n",
       "[1] Covariance matrix calculated using the outer product of gradients (complex-step).\n",
       "[2] Covariance matrix is singular or near-singular, with condition number 5.61e+20. Standard errors may be unstable.\n",
       "\"\"\""
      ]
     },
     "execution_count": 268,
     "metadata": {},
     "output_type": "execute_result"
    }
   ],
   "source": [
    "yfinance_results_ar_1_ma_1.summary()"
   ]
  },
  {
   "cell_type": "markdown",
   "id": "4ff90bec",
   "metadata": {},
   "source": [
    "## Modelos ARMA de mayor complejidad"
   ]
  },
  {
   "cell_type": "code",
   "execution_count": 269,
   "id": "68cbb171",
   "metadata": {},
   "outputs": [
    {
     "name": "stderr",
     "output_type": "stream",
     "text": [
      "C:\\ProgramData\\Anaconda3\\lib\\site-packages\\statsmodels\\tsa\\base\\tsa_model.py:471: ValueWarning: No frequency information was provided, so inferred frequency B will be used.\n",
      "  self._init_dates(dates, freq)\n",
      "C:\\ProgramData\\Anaconda3\\lib\\site-packages\\statsmodels\\tsa\\base\\tsa_model.py:471: ValueWarning: No frequency information was provided, so inferred frequency B will be used.\n",
      "  self._init_dates(dates, freq)\n",
      "C:\\ProgramData\\Anaconda3\\lib\\site-packages\\statsmodels\\tsa\\base\\tsa_model.py:471: ValueWarning: No frequency information was provided, so inferred frequency B will be used.\n",
      "  self._init_dates(dates, freq)\n"
     ]
    }
   ],
   "source": [
    "yfinance_model_ar_1_ma_10 = ARIMA(df_yfinance['spx'], order=(1,0,10))"
   ]
  },
  {
   "cell_type": "code",
   "execution_count": 270,
   "id": "2687960e",
   "metadata": {},
   "outputs": [
    {
     "name": "stderr",
     "output_type": "stream",
     "text": [
      "C:\\ProgramData\\Anaconda3\\lib\\site-packages\\statsmodels\\tsa\\statespace\\sarimax.py:966: UserWarning: Non-stationary starting autoregressive parameters found. Using zeros as starting parameters.\n",
      "  warn('Non-stationary starting autoregressive parameters'\n"
     ]
    }
   ],
   "source": [
    "yfinance_results_ar_1_ma_10 = yfinance_model_ar_1_ma_10.fit()"
   ]
  },
  {
   "cell_type": "code",
   "execution_count": 271,
   "id": "38c94340",
   "metadata": {},
   "outputs": [
    {
     "data": {
      "text/html": [
       "<table class=\"simpletable\">\n",
       "<caption>SARIMAX Results</caption>\n",
       "<tr>\n",
       "  <th>Dep. Variable:</th>          <td>spx</td>       <th>  No. Observations:  </th>    <td>7992</td>   \n",
       "</tr>\n",
       "<tr>\n",
       "  <th>Model:</th>            <td>ARIMA(1, 0, 10)</td> <th>  Log Likelihood     </th> <td>-36351.318</td>\n",
       "</tr>\n",
       "<tr>\n",
       "  <th>Date:</th>            <td>Thu, 19 Sep 2024</td> <th>  AIC                </th>  <td>72728.636</td>\n",
       "</tr>\n",
       "<tr>\n",
       "  <th>Time:</th>                <td>16:43:01</td>     <th>  BIC                </th>  <td>72819.456</td>\n",
       "</tr>\n",
       "<tr>\n",
       "  <th>Sample:</th>             <td>01-07-1994</td>    <th>  HQIC               </th>  <td>72759.724</td>\n",
       "</tr>\n",
       "<tr>\n",
       "  <th></th>                   <td>- 08-26-2024</td>   <th>                     </th>      <td> </td>    \n",
       "</tr>\n",
       "<tr>\n",
       "  <th>Covariance Type:</th>        <td>opg</td>       <th>                     </th>      <td> </td>    \n",
       "</tr>\n",
       "</table>\n",
       "<table class=\"simpletable\">\n",
       "<tr>\n",
       "     <td></td>       <th>coef</th>     <th>std err</th>      <th>z</th>      <th>P>|z|</th>  <th>[0.025</th>    <th>0.975]</th>  \n",
       "</tr>\n",
       "<tr>\n",
       "  <th>const</th>  <td> 1818.8105</td> <td> 3.45e-05</td> <td> 5.27e+07</td> <td> 0.000</td> <td> 1818.810</td> <td> 1818.811</td>\n",
       "</tr>\n",
       "<tr>\n",
       "  <th>ar.L1</th>  <td>    1.0000</td> <td> 7.72e-05</td> <td> 1.29e+04</td> <td> 0.000</td> <td>    1.000</td> <td>    1.000</td>\n",
       "</tr>\n",
       "<tr>\n",
       "  <th>ma.L1</th>  <td>   -0.0623</td> <td>    0.005</td> <td>  -13.317</td> <td> 0.000</td> <td>   -0.071</td> <td>   -0.053</td>\n",
       "</tr>\n",
       "<tr>\n",
       "  <th>ma.L2</th>  <td>    0.0168</td> <td>    0.004</td> <td>    3.784</td> <td> 0.000</td> <td>    0.008</td> <td>    0.026</td>\n",
       "</tr>\n",
       "<tr>\n",
       "  <th>ma.L3</th>  <td>   -0.0193</td> <td>    0.005</td> <td>   -4.290</td> <td> 0.000</td> <td>   -0.028</td> <td>   -0.010</td>\n",
       "</tr>\n",
       "<tr>\n",
       "  <th>ma.L4</th>  <td>    0.0003</td> <td>    0.005</td> <td>    0.062</td> <td> 0.950</td> <td>   -0.010</td> <td>    0.010</td>\n",
       "</tr>\n",
       "<tr>\n",
       "  <th>ma.L5</th>  <td>   -0.0046</td> <td>    0.005</td> <td>   -0.960</td> <td> 0.337</td> <td>   -0.014</td> <td>    0.005</td>\n",
       "</tr>\n",
       "<tr>\n",
       "  <th>ma.L6</th>  <td>   -0.0479</td> <td>    0.005</td> <td>  -10.004</td> <td> 0.000</td> <td>   -0.057</td> <td>   -0.039</td>\n",
       "</tr>\n",
       "<tr>\n",
       "  <th>ma.L7</th>  <td>    0.0498</td> <td>    0.005</td> <td>    9.773</td> <td> 0.000</td> <td>    0.040</td> <td>    0.060</td>\n",
       "</tr>\n",
       "<tr>\n",
       "  <th>ma.L8</th>  <td>   -0.0414</td> <td>    0.005</td> <td>   -8.425</td> <td> 0.000</td> <td>   -0.051</td> <td>   -0.032</td>\n",
       "</tr>\n",
       "<tr>\n",
       "  <th>ma.L9</th>  <td>    0.1007</td> <td>    0.005</td> <td>   19.630</td> <td> 0.000</td> <td>    0.091</td> <td>    0.111</td>\n",
       "</tr>\n",
       "<tr>\n",
       "  <th>ma.L10</th> <td>   -0.0548</td> <td>    0.005</td> <td>  -10.673</td> <td> 0.000</td> <td>   -0.065</td> <td>   -0.045</td>\n",
       "</tr>\n",
       "<tr>\n",
       "  <th>sigma2</th> <td>  522.1624</td> <td>    3.224</td> <td>  161.947</td> <td> 0.000</td> <td>  515.843</td> <td>  528.482</td>\n",
       "</tr>\n",
       "</table>\n",
       "<table class=\"simpletable\">\n",
       "<tr>\n",
       "  <th>Ljung-Box (L1) (Q):</th>     <td>0.02</td> <th>  Jarque-Bera (JB):  </th> <td>81055.96</td>\n",
       "</tr>\n",
       "<tr>\n",
       "  <th>Prob(Q):</th>                <td>0.89</td> <th>  Prob(JB):          </th>   <td>0.00</td>  \n",
       "</tr>\n",
       "<tr>\n",
       "  <th>Heteroskedasticity (H):</th> <td>8.17</td> <th>  Skew:              </th>   <td>-0.83</td> \n",
       "</tr>\n",
       "<tr>\n",
       "  <th>Prob(H) (two-sided):</th>    <td>0.00</td> <th>  Kurtosis:          </th>   <td>18.51</td> \n",
       "</tr>\n",
       "</table><br/><br/>Warnings:<br/>[1] Covariance matrix calculated using the outer product of gradients (complex-step).<br/>[2] Covariance matrix is singular or near-singular, with condition number 3.79e+20. Standard errors may be unstable."
      ],
      "text/plain": [
       "<class 'statsmodels.iolib.summary.Summary'>\n",
       "\"\"\"\n",
       "                               SARIMAX Results                                \n",
       "==============================================================================\n",
       "Dep. Variable:                    spx   No. Observations:                 7992\n",
       "Model:                ARIMA(1, 0, 10)   Log Likelihood              -36351.318\n",
       "Date:                Thu, 19 Sep 2024   AIC                          72728.636\n",
       "Time:                        16:43:01   BIC                          72819.456\n",
       "Sample:                    01-07-1994   HQIC                         72759.724\n",
       "                         - 08-26-2024                                         \n",
       "Covariance Type:                  opg                                         \n",
       "==============================================================================\n",
       "                 coef    std err          z      P>|z|      [0.025      0.975]\n",
       "------------------------------------------------------------------------------\n",
       "const       1818.8105   3.45e-05   5.27e+07      0.000    1818.810    1818.811\n",
       "ar.L1          1.0000   7.72e-05   1.29e+04      0.000       1.000       1.000\n",
       "ma.L1         -0.0623      0.005    -13.317      0.000      -0.071      -0.053\n",
       "ma.L2          0.0168      0.004      3.784      0.000       0.008       0.026\n",
       "ma.L3         -0.0193      0.005     -4.290      0.000      -0.028      -0.010\n",
       "ma.L4          0.0003      0.005      0.062      0.950      -0.010       0.010\n",
       "ma.L5         -0.0046      0.005     -0.960      0.337      -0.014       0.005\n",
       "ma.L6         -0.0479      0.005    -10.004      0.000      -0.057      -0.039\n",
       "ma.L7          0.0498      0.005      9.773      0.000       0.040       0.060\n",
       "ma.L8         -0.0414      0.005     -8.425      0.000      -0.051      -0.032\n",
       "ma.L9          0.1007      0.005     19.630      0.000       0.091       0.111\n",
       "ma.L10        -0.0548      0.005    -10.673      0.000      -0.065      -0.045\n",
       "sigma2       522.1624      3.224    161.947      0.000     515.843     528.482\n",
       "===================================================================================\n",
       "Ljung-Box (L1) (Q):                   0.02   Jarque-Bera (JB):             81055.96\n",
       "Prob(Q):                              0.89   Prob(JB):                         0.00\n",
       "Heteroskedasticity (H):               8.17   Skew:                            -0.83\n",
       "Prob(H) (two-sided):                  0.00   Kurtosis:                        18.51\n",
       "===================================================================================\n",
       "\n",
       "Warnings:\n",
       "[1] Covariance matrix calculated using the outer product of gradients (complex-step).\n",
       "[2] Covariance matrix is singular or near-singular, with condition number 3.79e+20. Standard errors may be unstable.\n",
       "\"\"\""
      ]
     },
     "execution_count": 271,
     "metadata": {},
     "output_type": "execute_result"
    }
   ],
   "source": [
    "yfinance_results_ar_1_ma_10.summary()"
   ]
  },
  {
   "cell_type": "markdown",
   "id": "3f1e9a2a",
   "metadata": {},
   "source": [
    "## Pruebas LLR"
   ]
  },
  {
   "cell_type": "code",
   "execution_count": 272,
   "id": "6f3dd47d",
   "metadata": {},
   "outputs": [
    {
     "name": "stderr",
     "output_type": "stream",
     "text": [
      "C:\\ProgramData\\Anaconda3\\lib\\site-packages\\statsmodels\\tsa\\statespace\\sarimax.py:966: UserWarning: Non-stationary starting autoregressive parameters found. Using zeros as starting parameters.\n",
      "  warn('Non-stationary starting autoregressive parameters'\n",
      "C:\\ProgramData\\Anaconda3\\lib\\site-packages\\statsmodels\\tsa\\statespace\\sarimax.py:966: UserWarning: Non-stationary starting autoregressive parameters found. Using zeros as starting parameters.\n",
      "  warn('Non-stationary starting autoregressive parameters'\n"
     ]
    },
    {
     "name": "stdout",
     "output_type": "stream",
     "text": [
      "\n",
      "ARMA vs AR  3.035488024490658e-12\n"
     ]
    },
    {
     "name": "stderr",
     "output_type": "stream",
     "text": [
      "C:\\ProgramData\\Anaconda3\\lib\\site-packages\\statsmodels\\tsa\\statespace\\sarimax.py:966: UserWarning: Non-stationary starting autoregressive parameters found. Using zeros as starting parameters.\n",
      "  warn('Non-stationary starting autoregressive parameters'\n"
     ]
    },
    {
     "name": "stdout",
     "output_type": "stream",
     "text": [
      "\n",
      "ARMA vs MA  0.0\n"
     ]
    },
    {
     "name": "stderr",
     "output_type": "stream",
     "text": [
      "C:\\ProgramData\\Anaconda3\\lib\\site-packages\\statsmodels\\tsa\\statespace\\sarimax.py:966: UserWarning: Non-stationary starting autoregressive parameters found. Using zeros as starting parameters.\n",
      "  warn('Non-stationary starting autoregressive parameters'\n",
      "C:\\ProgramData\\Anaconda3\\lib\\site-packages\\statsmodels\\tsa\\statespace\\sarimax.py:966: UserWarning: Non-stationary starting autoregressive parameters found. Using zeros as starting parameters.\n",
      "  warn('Non-stationary starting autoregressive parameters'\n"
     ]
    },
    {
     "name": "stdout",
     "output_type": "stream",
     "text": [
      "\n",
      "ARMA vs ARMA(1,10)  1.9987439360996618e-29\n"
     ]
    }
   ],
   "source": [
    "print(\"\\nARMA vs AR \", LLR_test(yfinance_model_ar_1, yfinance_model_ar_1_ma_1))\n",
    "print(\"\\nARMA vs MA \", LLR_test(yfinance_model_ma_1, yfinance_model_ar_1_ma_1))\n",
    "print(\"\\nARMA vs ARMA(1,10) \", LLR_test(yfinance_model_ar_1_ma_1, yfinance_model_ar_1_ma_10,DF=9))"
   ]
  },
  {
   "cell_type": "markdown",
   "id": "793d3410",
   "metadata": {},
   "source": [
    "## Modelo ARIMA(1,1,1)"
   ]
  },
  {
   "cell_type": "code",
   "execution_count": 273,
   "id": "83971d49",
   "metadata": {},
   "outputs": [
    {
     "name": "stderr",
     "output_type": "stream",
     "text": [
      "C:\\ProgramData\\Anaconda3\\lib\\site-packages\\statsmodels\\tsa\\base\\tsa_model.py:471: ValueWarning: No frequency information was provided, so inferred frequency B will be used.\n",
      "  self._init_dates(dates, freq)\n",
      "C:\\ProgramData\\Anaconda3\\lib\\site-packages\\statsmodels\\tsa\\base\\tsa_model.py:471: ValueWarning: No frequency information was provided, so inferred frequency B will be used.\n",
      "  self._init_dates(dates, freq)\n",
      "C:\\ProgramData\\Anaconda3\\lib\\site-packages\\statsmodels\\tsa\\base\\tsa_model.py:471: ValueWarning: No frequency information was provided, so inferred frequency B will be used.\n",
      "  self._init_dates(dates, freq)\n"
     ]
    }
   ],
   "source": [
    "yfinance_model_ar_1_i_1_ma_1 = ARIMA(df_yfinance['spx'], order=(1,1,1))"
   ]
  },
  {
   "cell_type": "code",
   "execution_count": 274,
   "id": "0ce39e96",
   "metadata": {},
   "outputs": [],
   "source": [
    "yfinance_results_ar_1_i_1_ma_1 = yfinance_model_ar_1_i_1_ma_1.fit()"
   ]
  },
  {
   "cell_type": "code",
   "execution_count": 275,
   "id": "1345dbae",
   "metadata": {},
   "outputs": [
    {
     "data": {
      "text/html": [
       "<table class=\"simpletable\">\n",
       "<caption>SARIMAX Results</caption>\n",
       "<tr>\n",
       "  <th>Dep. Variable:</th>          <td>spx</td>       <th>  No. Observations:  </th>    <td>7992</td>   \n",
       "</tr>\n",
       "<tr>\n",
       "  <th>Model:</th>            <td>ARIMA(1, 1, 1)</td>  <th>  Log Likelihood     </th> <td>-36417.273</td>\n",
       "</tr>\n",
       "<tr>\n",
       "  <th>Date:</th>            <td>Thu, 19 Sep 2024</td> <th>  AIC                </th>  <td>72840.546</td>\n",
       "</tr>\n",
       "<tr>\n",
       "  <th>Time:</th>                <td>16:43:44</td>     <th>  BIC                </th>  <td>72861.504</td>\n",
       "</tr>\n",
       "<tr>\n",
       "  <th>Sample:</th>             <td>01-07-1994</td>    <th>  HQIC               </th>  <td>72847.720</td>\n",
       "</tr>\n",
       "<tr>\n",
       "  <th></th>                   <td>- 08-26-2024</td>   <th>                     </th>      <td> </td>    \n",
       "</tr>\n",
       "<tr>\n",
       "  <th>Covariance Type:</th>        <td>opg</td>       <th>                     </th>      <td> </td>    \n",
       "</tr>\n",
       "</table>\n",
       "<table class=\"simpletable\">\n",
       "<tr>\n",
       "     <td></td>       <th>coef</th>     <th>std err</th>      <th>z</th>      <th>P>|z|</th>  <th>[0.025</th>    <th>0.975]</th>  \n",
       "</tr>\n",
       "<tr>\n",
       "  <th>ar.L1</th>  <td>   -0.3613</td> <td>    0.040</td> <td>   -9.039</td> <td> 0.000</td> <td>   -0.440</td> <td>   -0.283</td>\n",
       "</tr>\n",
       "<tr>\n",
       "  <th>ma.L1</th>  <td>    0.2840</td> <td>    0.041</td> <td>    6.846</td> <td> 0.000</td> <td>    0.203</td> <td>    0.365</td>\n",
       "</tr>\n",
       "<tr>\n",
       "  <th>sigma2</th> <td>  532.0823</td> <td>    2.807</td> <td>  189.540</td> <td> 0.000</td> <td>  526.580</td> <td>  537.584</td>\n",
       "</tr>\n",
       "</table>\n",
       "<table class=\"simpletable\">\n",
       "<tr>\n",
       "  <th>Ljung-Box (L1) (Q):</th>     <td>0.00</td> <th>  Jarque-Bera (JB):  </th> <td>103699.42</td>\n",
       "</tr>\n",
       "<tr>\n",
       "  <th>Prob(Q):</th>                <td>0.99</td> <th>  Prob(JB):          </th>   <td>0.00</td>   \n",
       "</tr>\n",
       "<tr>\n",
       "  <th>Heteroskedasticity (H):</th> <td>8.57</td> <th>  Skew:              </th>   <td>-0.79</td>  \n",
       "</tr>\n",
       "<tr>\n",
       "  <th>Prob(H) (two-sided):</th>    <td>0.00</td> <th>  Kurtosis:          </th>   <td>20.58</td>  \n",
       "</tr>\n",
       "</table><br/><br/>Warnings:<br/>[1] Covariance matrix calculated using the outer product of gradients (complex-step)."
      ],
      "text/plain": [
       "<class 'statsmodels.iolib.summary.Summary'>\n",
       "\"\"\"\n",
       "                               SARIMAX Results                                \n",
       "==============================================================================\n",
       "Dep. Variable:                    spx   No. Observations:                 7992\n",
       "Model:                 ARIMA(1, 1, 1)   Log Likelihood              -36417.273\n",
       "Date:                Thu, 19 Sep 2024   AIC                          72840.546\n",
       "Time:                        16:43:44   BIC                          72861.504\n",
       "Sample:                    01-07-1994   HQIC                         72847.720\n",
       "                         - 08-26-2024                                         \n",
       "Covariance Type:                  opg                                         \n",
       "==============================================================================\n",
       "                 coef    std err          z      P>|z|      [0.025      0.975]\n",
       "------------------------------------------------------------------------------\n",
       "ar.L1         -0.3613      0.040     -9.039      0.000      -0.440      -0.283\n",
       "ma.L1          0.2840      0.041      6.846      0.000       0.203       0.365\n",
       "sigma2       532.0823      2.807    189.540      0.000     526.580     537.584\n",
       "===================================================================================\n",
       "Ljung-Box (L1) (Q):                   0.00   Jarque-Bera (JB):            103699.42\n",
       "Prob(Q):                              0.99   Prob(JB):                         0.00\n",
       "Heteroskedasticity (H):               8.57   Skew:                            -0.79\n",
       "Prob(H) (two-sided):                  0.00   Kurtosis:                        20.58\n",
       "===================================================================================\n",
       "\n",
       "Warnings:\n",
       "[1] Covariance matrix calculated using the outer product of gradients (complex-step).\n",
       "\"\"\""
      ]
     },
     "execution_count": 275,
     "metadata": {},
     "output_type": "execute_result"
    }
   ],
   "source": [
    "yfinance_results_ar_1_i_1_ma_1.summary()"
   ]
  },
  {
   "cell_type": "markdown",
   "id": "b07fa62b",
   "metadata": {},
   "source": [
    "## Modelos ARIMA de mayor complejidad"
   ]
  },
  {
   "cell_type": "markdown",
   "id": "9130da65",
   "metadata": {},
   "source": [
    "### PACF y ACF de resíduos"
   ]
  },
  {
   "cell_type": "code",
   "execution_count": 276,
   "id": "6c2b36d9",
   "metadata": {},
   "outputs": [
    {
     "name": "stderr",
     "output_type": "stream",
     "text": [
      "C:\\ProgramData\\Anaconda3\\lib\\site-packages\\statsmodels\\graphics\\tsaplots.py:348: FutureWarning: The default method 'yw' can produce PACF values outside of the [-1,1] interval. After 0.13, the default will change tounadjusted Yule-Walker ('ywm'). You can use this method now by setting method='ywm'.\n",
      "  warnings.warn(\n"
     ]
    },
    {
     "data": {
      "image/png": "[encoded data removed]",
      "text/plain": [
       "<Figure size 640x480 with 1 Axes>"
      ]
     },
     "metadata": {},
     "output_type": "display_data"
    }
   ],
   "source": [
    "sgt.plot_pacf(yfinance_results_ar_1_i_1_ma_1.resid.iloc[1:], zero = False, lags = 40)\n",
    "plt.title(\"PACF de S&P500-ARIMA(1,1,1)\")\n",
    "plt.show()"
   ]
  },
  {
   "cell_type": "code",
   "execution_count": 277,
   "id": "fd63d4d5",
   "metadata": {},
   "outputs": [
    {
     "data": {
      "image/png": "[encoded data removed]",
      "text/plain": [
       "<Figure size 640x480 with 1 Axes>"
      ]
     },
     "metadata": {},
     "output_type": "display_data"
    }
   ],
   "source": [
    "sgt.plot_acf(yfinance_results_ar_1_i_1_ma_1.resid.iloc[1:], zero = False, lags = 40)\n",
    "plt.title(\"ACF de S&P500-ARIMA(1,1,1)\")\n",
    "plt.show()"
   ]
  },
  {
   "cell_type": "code",
   "execution_count": 278,
   "id": "d7bb94e5",
   "metadata": {},
   "outputs": [
    {
     "name": "stderr",
     "output_type": "stream",
     "text": [
      "C:\\ProgramData\\Anaconda3\\lib\\site-packages\\statsmodels\\tsa\\base\\tsa_model.py:471: ValueWarning: No frequency information was provided, so inferred frequency B will be used.\n",
      "  self._init_dates(dates, freq)\n",
      "C:\\ProgramData\\Anaconda3\\lib\\site-packages\\statsmodels\\tsa\\base\\tsa_model.py:471: ValueWarning: No frequency information was provided, so inferred frequency B will be used.\n",
      "  self._init_dates(dates, freq)\n",
      "C:\\ProgramData\\Anaconda3\\lib\\site-packages\\statsmodels\\tsa\\base\\tsa_model.py:471: ValueWarning: No frequency information was provided, so inferred frequency B will be used.\n",
      "  self._init_dates(dates, freq)\n"
     ]
    }
   ],
   "source": [
    "yfinance_model_ar_10_i_1_ma_10 = ARIMA(df_yfinance['spx'], order=(10,1,10))"
   ]
  },
  {
   "cell_type": "code",
   "execution_count": 279,
   "id": "c5994ba1",
   "metadata": {},
   "outputs": [
    {
     "name": "stderr",
     "output_type": "stream",
     "text": [
      "C:\\ProgramData\\Anaconda3\\lib\\site-packages\\statsmodels\\tsa\\statespace\\sarimax.py:966: UserWarning: Non-stationary starting autoregressive parameters found. Using zeros as starting parameters.\n",
      "  warn('Non-stationary starting autoregressive parameters'\n",
      "C:\\ProgramData\\Anaconda3\\lib\\site-packages\\statsmodels\\tsa\\statespace\\sarimax.py:978: UserWarning: Non-invertible starting MA parameters found. Using zeros as starting parameters.\n",
      "  warn('Non-invertible starting MA parameters found.'\n",
      "C:\\ProgramData\\Anaconda3\\lib\\site-packages\\statsmodels\\base\\model.py:604: ConvergenceWarning: Maximum Likelihood optimization failed to converge. Check mle_retvals\n",
      "  warnings.warn(\"Maximum Likelihood optimization failed to \"\n"
     ]
    }
   ],
   "source": [
    "yfinance_results_ar_10_i_1_ma_10 = yfinance_model_ar_10_i_1_ma_10.fit()"
   ]
  },
  {
   "cell_type": "code",
   "execution_count": 280,
   "id": "613b2d06",
   "metadata": {},
   "outputs": [
    {
     "data": {
      "text/html": [
       "<table class=\"simpletable\">\n",
       "<caption>SARIMAX Results</caption>\n",
       "<tr>\n",
       "  <th>Dep. Variable:</th>          <td>spx</td>       <th>  No. Observations:  </th>    <td>7992</td>   \n",
       "</tr>\n",
       "<tr>\n",
       "  <th>Model:</th>           <td>ARIMA(10, 1, 10)</td> <th>  Log Likelihood     </th> <td>-36320.311</td>\n",
       "</tr>\n",
       "<tr>\n",
       "  <th>Date:</th>            <td>Thu, 19 Sep 2024</td> <th>  AIC                </th>  <td>72682.623</td>\n",
       "</tr>\n",
       "<tr>\n",
       "  <th>Time:</th>                <td>16:44:12</td>     <th>  BIC                </th>  <td>72829.330</td>\n",
       "</tr>\n",
       "<tr>\n",
       "  <th>Sample:</th>             <td>01-07-1994</td>    <th>  HQIC               </th>  <td>72732.841</td>\n",
       "</tr>\n",
       "<tr>\n",
       "  <th></th>                   <td>- 08-26-2024</td>   <th>                     </th>      <td> </td>    \n",
       "</tr>\n",
       "<tr>\n",
       "  <th>Covariance Type:</th>        <td>opg</td>       <th>                     </th>      <td> </td>    \n",
       "</tr>\n",
       "</table>\n",
       "<table class=\"simpletable\">\n",
       "<tr>\n",
       "     <td></td>       <th>coef</th>     <th>std err</th>      <th>z</th>      <th>P>|z|</th>  <th>[0.025</th>    <th>0.975]</th>  \n",
       "</tr>\n",
       "<tr>\n",
       "  <th>ar.L1</th>  <td>    0.0449</td> <td>    1.084</td> <td>    0.041</td> <td> 0.967</td> <td>   -2.080</td> <td>    2.170</td>\n",
       "</tr>\n",
       "<tr>\n",
       "  <th>ar.L2</th>  <td>    0.2443</td> <td>    0.618</td> <td>    0.395</td> <td> 0.693</td> <td>   -0.968</td> <td>    1.456</td>\n",
       "</tr>\n",
       "<tr>\n",
       "  <th>ar.L3</th>  <td>    0.0792</td> <td>    0.127</td> <td>    0.625</td> <td> 0.532</td> <td>   -0.169</td> <td>    0.328</td>\n",
       "</tr>\n",
       "<tr>\n",
       "  <th>ar.L4</th>  <td>   -0.2721</td> <td>    0.162</td> <td>   -1.677</td> <td> 0.094</td> <td>   -0.590</td> <td>    0.046</td>\n",
       "</tr>\n",
       "<tr>\n",
       "  <th>ar.L5</th>  <td>    0.1889</td> <td>    0.182</td> <td>    1.037</td> <td> 0.300</td> <td>   -0.168</td> <td>    0.546</td>\n",
       "</tr>\n",
       "<tr>\n",
       "  <th>ar.L6</th>  <td>   -0.2750</td> <td>    0.154</td> <td>   -1.789</td> <td> 0.074</td> <td>   -0.576</td> <td>    0.026</td>\n",
       "</tr>\n",
       "<tr>\n",
       "  <th>ar.L7</th>  <td>   -0.2033</td> <td>    0.193</td> <td>   -1.055</td> <td> 0.291</td> <td>   -0.581</td> <td>    0.174</td>\n",
       "</tr>\n",
       "<tr>\n",
       "  <th>ar.L8</th>  <td>    0.2208</td> <td>    0.328</td> <td>    0.674</td> <td> 0.501</td> <td>   -0.422</td> <td>    0.863</td>\n",
       "</tr>\n",
       "<tr>\n",
       "  <th>ar.L9</th>  <td>    0.2688</td> <td>    0.118</td> <td>    2.273</td> <td> 0.023</td> <td>    0.037</td> <td>    0.501</td>\n",
       "</tr>\n",
       "<tr>\n",
       "  <th>ar.L10</th> <td>   -0.2704</td> <td>    0.394</td> <td>   -0.686</td> <td> 0.493</td> <td>   -1.043</td> <td>    0.502</td>\n",
       "</tr>\n",
       "<tr>\n",
       "  <th>ma.L1</th>  <td>   -0.1043</td> <td>    1.085</td> <td>   -0.096</td> <td> 0.923</td> <td>   -2.230</td> <td>    2.021</td>\n",
       "</tr>\n",
       "<tr>\n",
       "  <th>ma.L2</th>  <td>   -0.2255</td> <td>    0.555</td> <td>   -0.406</td> <td> 0.685</td> <td>   -1.314</td> <td>    0.863</td>\n",
       "</tr>\n",
       "<tr>\n",
       "  <th>ma.L3</th>  <td>   -0.0834</td> <td>    0.118</td> <td>   -0.709</td> <td> 0.478</td> <td>   -0.314</td> <td>    0.147</td>\n",
       "</tr>\n",
       "<tr>\n",
       "  <th>ma.L4</th>  <td>    0.2689</td> <td>    0.171</td> <td>    1.568</td> <td> 0.117</td> <td>   -0.067</td> <td>    0.605</td>\n",
       "</tr>\n",
       "<tr>\n",
       "  <th>ma.L5</th>  <td>   -0.2002</td> <td>    0.174</td> <td>   -1.150</td> <td> 0.250</td> <td>   -0.541</td> <td>    0.141</td>\n",
       "</tr>\n",
       "<tr>\n",
       "  <th>ma.L6</th>  <td>    0.2422</td> <td>    0.164</td> <td>    1.473</td> <td> 0.141</td> <td>   -0.080</td> <td>    0.564</td>\n",
       "</tr>\n",
       "<tr>\n",
       "  <th>ma.L7</th>  <td>    0.2352</td> <td>    0.154</td> <td>    1.532</td> <td> 0.126</td> <td>   -0.066</td> <td>    0.536</td>\n",
       "</tr>\n",
       "<tr>\n",
       "  <th>ma.L8</th>  <td>   -0.2618</td> <td>    0.340</td> <td>   -0.771</td> <td> 0.441</td> <td>   -0.927</td> <td>    0.404</td>\n",
       "</tr>\n",
       "<tr>\n",
       "  <th>ma.L9</th>  <td>   -0.1611</td> <td>    0.138</td> <td>   -1.170</td> <td> 0.242</td> <td>   -0.431</td> <td>    0.109</td>\n",
       "</tr>\n",
       "<tr>\n",
       "  <th>ma.L10</th> <td>    0.2133</td> <td>    0.296</td> <td>    0.720</td> <td> 0.471</td> <td>   -0.367</td> <td>    0.794</td>\n",
       "</tr>\n",
       "<tr>\n",
       "  <th>sigma2</th> <td>  519.5268</td> <td>    3.333</td> <td>  155.860</td> <td> 0.000</td> <td>  512.994</td> <td>  526.060</td>\n",
       "</tr>\n",
       "</table>\n",
       "<table class=\"simpletable\">\n",
       "<tr>\n",
       "  <th>Ljung-Box (L1) (Q):</th>     <td>0.01</td> <th>  Jarque-Bera (JB):  </th> <td>76590.21</td>\n",
       "</tr>\n",
       "<tr>\n",
       "  <th>Prob(Q):</th>                <td>0.94</td> <th>  Prob(JB):          </th>   <td>0.00</td>  \n",
       "</tr>\n",
       "<tr>\n",
       "  <th>Heteroskedasticity (H):</th> <td>8.03</td> <th>  Skew:              </th>   <td>-0.85</td> \n",
       "</tr>\n",
       "<tr>\n",
       "  <th>Prob(H) (two-sided):</th>    <td>0.00</td> <th>  Kurtosis:          </th>   <td>18.07</td> \n",
       "</tr>\n",
       "</table><br/><br/>Warnings:<br/>[1] Covariance matrix calculated using the outer product of gradients (complex-step)."
      ],
      "text/plain": [
       "<class 'statsmodels.iolib.summary.Summary'>\n",
       "\"\"\"\n",
       "                               SARIMAX Results                                \n",
       "==============================================================================\n",
       "Dep. Variable:                    spx   No. Observations:                 7992\n",
       "Model:               ARIMA(10, 1, 10)   Log Likelihood              -36320.311\n",
       "Date:                Thu, 19 Sep 2024   AIC                          72682.623\n",
       "Time:                        16:44:12   BIC                          72829.330\n",
       "Sample:                    01-07-1994   HQIC                         72732.841\n",
       "                         - 08-26-2024                                         \n",
       "Covariance Type:                  opg                                         \n",
       "==============================================================================\n",
       "                 coef    std err          z      P>|z|      [0.025      0.975]\n",
       "------------------------------------------------------------------------------\n",
       "ar.L1          0.0449      1.084      0.041      0.967      -2.080       2.170\n",
       "ar.L2          0.2443      0.618      0.395      0.693      -0.968       1.456\n",
       "ar.L3          0.0792      0.127      0.625      0.532      -0.169       0.328\n",
       "ar.L4         -0.2721      0.162     -1.677      0.094      -0.590       0.046\n",
       "ar.L5          0.1889      0.182      1.037      0.300      -0.168       0.546\n",
       "ar.L6         -0.2750      0.154     -1.789      0.074      -0.576       0.026\n",
       "ar.L7         -0.2033      0.193     -1.055      0.291      -0.581       0.174\n",
       "ar.L8          0.2208      0.328      0.674      0.501      -0.422       0.863\n",
       "ar.L9          0.2688      0.118      2.273      0.023       0.037       0.501\n",
       "ar.L10        -0.2704      0.394     -0.686      0.493      -1.043       0.502\n",
       "ma.L1         -0.1043      1.085     -0.096      0.923      -2.230       2.021\n",
       "ma.L2         -0.2255      0.555     -0.406      0.685      -1.314       0.863\n",
       "ma.L3         -0.0834      0.118     -0.709      0.478      -0.314       0.147\n",
       "ma.L4          0.2689      0.171      1.568      0.117      -0.067       0.605\n",
       "ma.L5         -0.2002      0.174     -1.150      0.250      -0.541       0.141\n",
       "ma.L6          0.2422      0.164      1.473      0.141      -0.080       0.564\n",
       "ma.L7          0.2352      0.154      1.532      0.126      -0.066       0.536\n",
       "ma.L8         -0.2618      0.340     -0.771      0.441      -0.927       0.404\n",
       "ma.L9         -0.1611      0.138     -1.170      0.242      -0.431       0.109\n",
       "ma.L10         0.2133      0.296      0.720      0.471      -0.367       0.794\n",
       "sigma2       519.5268      3.333    155.860      0.000     512.994     526.060\n",
       "===================================================================================\n",
       "Ljung-Box (L1) (Q):                   0.01   Jarque-Bera (JB):             76590.21\n",
       "Prob(Q):                              0.94   Prob(JB):                         0.00\n",
       "Heteroskedasticity (H):               8.03   Skew:                            -0.85\n",
       "Prob(H) (two-sided):                  0.00   Kurtosis:                        18.07\n",
       "===================================================================================\n",
       "\n",
       "Warnings:\n",
       "[1] Covariance matrix calculated using the outer product of gradients (complex-step).\n",
       "\"\"\""
      ]
     },
     "execution_count": 280,
     "metadata": {},
     "output_type": "execute_result"
    }
   ],
   "source": [
    "yfinance_results_ar_10_i_1_ma_10.summary()"
   ]
  },
  {
   "cell_type": "code",
   "execution_count": null,
   "id": "c3da2840",
   "metadata": {},
   "outputs": [],
   "source": []
  },
  {
   "cell_type": "code",
   "execution_count": null,
   "id": "39683c78",
   "metadata": {},
   "outputs": [],
   "source": []
  },
  {
   "cell_type": "markdown",
   "id": "78c6861c",
   "metadata": {},
   "source": [
    "# Vuelos"
   ]
  },
  {
   "cell_type": "markdown",
   "id": "ff3c5d31",
   "metadata": {},
   "source": [
    "## Estacionaridad"
   ]
  },
  {
   "cell_type": "code",
   "execution_count": 281,
   "id": "0b1efafc",
   "metadata": {},
   "outputs": [
    {
     "data": {
      "text/plain": [
       "(0.8153688792060441,\n",
       " 0.9918802434376409,\n",
       " 13,\n",
       " 130,\n",
       " {'1%': -3.4816817173418295,\n",
       "  '5%': -2.8840418343195267,\n",
       "  '10%': -2.578770059171598},\n",
       " 996.692930839019)"
      ]
     },
     "execution_count": 281,
     "metadata": {},
     "output_type": "execute_result"
    }
   ],
   "source": [
    "sts.adfuller(df_airline['Passengers'])"
   ]
  },
  {
   "cell_type": "markdown",
   "id": "b98f3b98",
   "metadata": {},
   "source": [
    "## PACF y ACF"
   ]
  },
  {
   "cell_type": "code",
   "execution_count": 282,
   "id": "1f997625",
   "metadata": {},
   "outputs": [
    {
     "name": "stderr",
     "output_type": "stream",
     "text": [
      "C:\\ProgramData\\Anaconda3\\lib\\site-packages\\statsmodels\\graphics\\tsaplots.py:348: FutureWarning: The default method 'yw' can produce PACF values outside of the [-1,1] interval. After 0.13, the default will change tounadjusted Yule-Walker ('ywm'). You can use this method now by setting method='ywm'.\n",
      "  warnings.warn(\n"
     ]
    },
    {
     "data": {
      "image/png": "[encoded data removed]",
      "text/plain": [
       "<Figure size 640x480 with 1 Axes>"
      ]
     },
     "metadata": {},
     "output_type": "display_data"
    }
   ],
   "source": [
    "sgt.plot_pacf(df_airline['Passengers'], zero = False, lags = 40)\n",
    "plt.title(\"PACF for Passengers\", size = 20)\n",
    "plt.show()"
   ]
  },
  {
   "cell_type": "code",
   "execution_count": 283,
   "id": "6c8da6b7",
   "metadata": {},
   "outputs": [
    {
     "data": {
      "image/png": "[encoded data removed]",
      "text/plain": [
       "<Figure size 640x480 with 1 Axes>"
      ]
     },
     "metadata": {},
     "output_type": "display_data"
    }
   ],
   "source": [
    "sgt.plot_acf(df_airline['Passengers'], zero = False, lags = 40)\n",
    "plt.title(\"ACF for Passengers\", size = 20)\n",
    "plt.show()"
   ]
  },
  {
   "cell_type": "markdown",
   "id": "b84b6483",
   "metadata": {},
   "source": [
    "## Modelo AR(1)"
   ]
  },
  {
   "cell_type": "code",
   "execution_count": 284,
   "id": "a84a0dcb",
   "metadata": {},
   "outputs": [
    {
     "name": "stderr",
     "output_type": "stream",
     "text": [
      "C:\\ProgramData\\Anaconda3\\lib\\site-packages\\statsmodels\\tsa\\base\\tsa_model.py:471: ValueWarning: No frequency information was provided, so inferred frequency MS will be used.\n",
      "  self._init_dates(dates, freq)\n",
      "C:\\ProgramData\\Anaconda3\\lib\\site-packages\\statsmodels\\tsa\\base\\tsa_model.py:471: ValueWarning: No frequency information was provided, so inferred frequency MS will be used.\n",
      "  self._init_dates(dates, freq)\n",
      "C:\\ProgramData\\Anaconda3\\lib\\site-packages\\statsmodels\\tsa\\base\\tsa_model.py:471: ValueWarning: No frequency information was provided, so inferred frequency MS will be used.\n",
      "  self._init_dates(dates, freq)\n"
     ]
    }
   ],
   "source": [
    "airline_model_ar_1 = ARIMA(df_airline['Passengers'], order=(1,0,0))"
   ]
  },
  {
   "cell_type": "code",
   "execution_count": 285,
   "id": "f9e954d5",
   "metadata": {},
   "outputs": [],
   "source": [
    "airline_results_ar_1 = airline_model_ar_1.fit()"
   ]
  },
  {
   "cell_type": "code",
   "execution_count": 286,
   "id": "ee9f2c8d",
   "metadata": {},
   "outputs": [
    {
     "data": {
      "text/html": [
       "<table class=\"simpletable\">\n",
       "<caption>SARIMAX Results</caption>\n",
       "<tr>\n",
       "  <th>Dep. Variable:</th>      <td>Passengers</td>    <th>  No. Observations:  </th>    <td>144</td>  \n",
       "</tr>\n",
       "<tr>\n",
       "  <th>Model:</th>            <td>ARIMA(1, 0, 0)</td>  <th>  Log Likelihood     </th> <td>-711.090</td>\n",
       "</tr>\n",
       "<tr>\n",
       "  <th>Date:</th>            <td>Thu, 19 Sep 2024</td> <th>  AIC                </th> <td>1428.181</td>\n",
       "</tr>\n",
       "<tr>\n",
       "  <th>Time:</th>                <td>16:44:13</td>     <th>  BIC                </th> <td>1437.090</td>\n",
       "</tr>\n",
       "<tr>\n",
       "  <th>Sample:</th>             <td>01-01-1949</td>    <th>  HQIC               </th> <td>1431.801</td>\n",
       "</tr>\n",
       "<tr>\n",
       "  <th></th>                   <td>- 12-01-1960</td>   <th>                     </th>     <td> </td>   \n",
       "</tr>\n",
       "<tr>\n",
       "  <th>Covariance Type:</th>        <td>opg</td>       <th>                     </th>     <td> </td>   \n",
       "</tr>\n",
       "</table>\n",
       "<table class=\"simpletable\">\n",
       "<tr>\n",
       "     <td></td>       <th>coef</th>     <th>std err</th>      <th>z</th>      <th>P>|z|</th>  <th>[0.025</th>    <th>0.975]</th>  \n",
       "</tr>\n",
       "<tr>\n",
       "  <th>const</th>  <td>  280.2943</td> <td>   66.403</td> <td>    4.221</td> <td> 0.000</td> <td>  150.146</td> <td>  410.442</td>\n",
       "</tr>\n",
       "<tr>\n",
       "  <th>ar.L1</th>  <td>    0.9645</td> <td>    0.019</td> <td>   51.535</td> <td> 0.000</td> <td>    0.928</td> <td>    1.001</td>\n",
       "</tr>\n",
       "<tr>\n",
       "  <th>sigma2</th> <td> 1118.5409</td> <td>  122.133</td> <td>    9.158</td> <td> 0.000</td> <td>  879.164</td> <td> 1357.918</td>\n",
       "</tr>\n",
       "</table>\n",
       "<table class=\"simpletable\">\n",
       "<tr>\n",
       "  <th>Ljung-Box (L1) (Q):</th>     <td>13.91</td> <th>  Jarque-Bera (JB):  </th> <td>0.81</td>\n",
       "</tr>\n",
       "<tr>\n",
       "  <th>Prob(Q):</th>                <td>0.00</td>  <th>  Prob(JB):          </th> <td>0.67</td>\n",
       "</tr>\n",
       "<tr>\n",
       "  <th>Heteroskedasticity (H):</th> <td>7.92</td>  <th>  Skew:              </th> <td>0.03</td>\n",
       "</tr>\n",
       "<tr>\n",
       "  <th>Prob(H) (two-sided):</th>    <td>0.00</td>  <th>  Kurtosis:          </th> <td>3.36</td>\n",
       "</tr>\n",
       "</table><br/><br/>Warnings:<br/>[1] Covariance matrix calculated using the outer product of gradients (complex-step)."
      ],
      "text/plain": [
       "<class 'statsmodels.iolib.summary.Summary'>\n",
       "\"\"\"\n",
       "                               SARIMAX Results                                \n",
       "==============================================================================\n",
       "Dep. Variable:             Passengers   No. Observations:                  144\n",
       "Model:                 ARIMA(1, 0, 0)   Log Likelihood                -711.090\n",
       "Date:                Thu, 19 Sep 2024   AIC                           1428.181\n",
       "Time:                        16:44:13   BIC                           1437.090\n",
       "Sample:                    01-01-1949   HQIC                          1431.801\n",
       "                         - 12-01-1960                                         \n",
       "Covariance Type:                  opg                                         \n",
       "==============================================================================\n",
       "                 coef    std err          z      P>|z|      [0.025      0.975]\n",
       "------------------------------------------------------------------------------\n",
       "const        280.2943     66.403      4.221      0.000     150.146     410.442\n",
       "ar.L1          0.9645      0.019     51.535      0.000       0.928       1.001\n",
       "sigma2      1118.5409    122.133      9.158      0.000     879.164    1357.918\n",
       "===================================================================================\n",
       "Ljung-Box (L1) (Q):                  13.91   Jarque-Bera (JB):                 0.81\n",
       "Prob(Q):                              0.00   Prob(JB):                         0.67\n",
       "Heteroskedasticity (H):               7.92   Skew:                             0.03\n",
       "Prob(H) (two-sided):                  0.00   Kurtosis:                         3.36\n",
       "===================================================================================\n",
       "\n",
       "Warnings:\n",
       "[1] Covariance matrix calculated using the outer product of gradients (complex-step).\n",
       "\"\"\""
      ]
     },
     "execution_count": 286,
     "metadata": {},
     "output_type": "execute_result"
    }
   ],
   "source": [
    "airline_results_ar_1.summary()"
   ]
  },
  {
   "cell_type": "markdown",
   "id": "0be0a028",
   "metadata": {},
   "source": [
    "## Modelo MA(1)"
   ]
  },
  {
   "cell_type": "code",
   "execution_count": 287,
   "id": "6d40155b",
   "metadata": {},
   "outputs": [
    {
     "name": "stderr",
     "output_type": "stream",
     "text": [
      "C:\\ProgramData\\Anaconda3\\lib\\site-packages\\statsmodels\\tsa\\base\\tsa_model.py:471: ValueWarning: No frequency information was provided, so inferred frequency MS will be used.\n",
      "  self._init_dates(dates, freq)\n",
      "C:\\ProgramData\\Anaconda3\\lib\\site-packages\\statsmodels\\tsa\\base\\tsa_model.py:471: ValueWarning: No frequency information was provided, so inferred frequency MS will be used.\n",
      "  self._init_dates(dates, freq)\n",
      "C:\\ProgramData\\Anaconda3\\lib\\site-packages\\statsmodels\\tsa\\base\\tsa_model.py:471: ValueWarning: No frequency information was provided, so inferred frequency MS will be used.\n",
      "  self._init_dates(dates, freq)\n"
     ]
    }
   ],
   "source": [
    "airline_model_ma_1 = ARIMA(df_airline['Passengers'], order=(0,0,1))"
   ]
  },
  {
   "cell_type": "code",
   "execution_count": 288,
   "id": "4b7d87c7",
   "metadata": {},
   "outputs": [
    {
     "name": "stderr",
     "output_type": "stream",
     "text": [
      "C:\\ProgramData\\Anaconda3\\lib\\site-packages\\statsmodels\\tsa\\statespace\\sarimax.py:978: UserWarning: Non-invertible starting MA parameters found. Using zeros as starting parameters.\n",
      "  warn('Non-invertible starting MA parameters found.'\n"
     ]
    }
   ],
   "source": [
    "airline_results_ma_1 = airline_model_ma_1.fit()"
   ]
  },
  {
   "cell_type": "code",
   "execution_count": 289,
   "id": "b2f8318e",
   "metadata": {},
   "outputs": [
    {
     "data": {
      "text/html": [
       "<table class=\"simpletable\">\n",
       "<caption>SARIMAX Results</caption>\n",
       "<tr>\n",
       "  <th>Dep. Variable:</th>      <td>Passengers</td>    <th>  No. Observations:  </th>    <td>144</td>  \n",
       "</tr>\n",
       "<tr>\n",
       "  <th>Model:</th>            <td>ARIMA(0, 0, 1)</td>  <th>  Log Likelihood     </th> <td>-806.431</td>\n",
       "</tr>\n",
       "<tr>\n",
       "  <th>Date:</th>            <td>Thu, 19 Sep 2024</td> <th>  AIC                </th> <td>1618.863</td>\n",
       "</tr>\n",
       "<tr>\n",
       "  <th>Time:</th>                <td>16:44:13</td>     <th>  BIC                </th> <td>1627.772</td>\n",
       "</tr>\n",
       "<tr>\n",
       "  <th>Sample:</th>             <td>01-01-1949</td>    <th>  HQIC               </th> <td>1622.483</td>\n",
       "</tr>\n",
       "<tr>\n",
       "  <th></th>                   <td>- 12-01-1960</td>   <th>                     </th>     <td> </td>   \n",
       "</tr>\n",
       "<tr>\n",
       "  <th>Covariance Type:</th>        <td>opg</td>       <th>                     </th>     <td> </td>   \n",
       "</tr>\n",
       "</table>\n",
       "<table class=\"simpletable\">\n",
       "<tr>\n",
       "     <td></td>       <th>coef</th>     <th>std err</th>      <th>z</th>      <th>P>|z|</th>  <th>[0.025</th>    <th>0.975]</th>  \n",
       "</tr>\n",
       "<tr>\n",
       "  <th>const</th>  <td>  280.6497</td> <td>   11.649</td> <td>   24.092</td> <td> 0.000</td> <td>  257.818</td> <td>  303.481</td>\n",
       "</tr>\n",
       "<tr>\n",
       "  <th>ma.L1</th>  <td>    0.9642</td> <td>    0.030</td> <td>   32.218</td> <td> 0.000</td> <td>    0.906</td> <td>    1.023</td>\n",
       "</tr>\n",
       "<tr>\n",
       "  <th>sigma2</th> <td> 4205.2319</td> <td>  586.726</td> <td>    7.167</td> <td> 0.000</td> <td> 3055.270</td> <td> 5355.194</td>\n",
       "</tr>\n",
       "</table>\n",
       "<table class=\"simpletable\">\n",
       "<tr>\n",
       "  <th>Ljung-Box (L1) (Q):</th>     <td>88.26</td> <th>  Jarque-Bera (JB):  </th> <td>9.03</td>\n",
       "</tr>\n",
       "<tr>\n",
       "  <th>Prob(Q):</th>                <td>0.00</td>  <th>  Prob(JB):          </th> <td>0.01</td>\n",
       "</tr>\n",
       "<tr>\n",
       "  <th>Heteroskedasticity (H):</th> <td>1.63</td>  <th>  Skew:              </th> <td>0.60</td>\n",
       "</tr>\n",
       "<tr>\n",
       "  <th>Prob(H) (two-sided):</th>    <td>0.10</td>  <th>  Kurtosis:          </th> <td>2.77</td>\n",
       "</tr>\n",
       "</table><br/><br/>Warnings:<br/>[1] Covariance matrix calculated using the outer product of gradients (complex-step)."
      ],
      "text/plain": [
       "<class 'statsmodels.iolib.summary.Summary'>\n",
       "\"\"\"\n",
       "                               SARIMAX Results                                \n",
       "==============================================================================\n",
       "Dep. Variable:             Passengers   No. Observations:                  144\n",
       "Model:                 ARIMA(0, 0, 1)   Log Likelihood                -806.431\n",
       "Date:                Thu, 19 Sep 2024   AIC                           1618.863\n",
       "Time:                        16:44:13   BIC                           1627.772\n",
       "Sample:                    01-01-1949   HQIC                          1622.483\n",
       "                         - 12-01-1960                                         \n",
       "Covariance Type:                  opg                                         \n",
       "==============================================================================\n",
       "                 coef    std err          z      P>|z|      [0.025      0.975]\n",
       "------------------------------------------------------------------------------\n",
       "const        280.6497     11.649     24.092      0.000     257.818     303.481\n",
       "ma.L1          0.9642      0.030     32.218      0.000       0.906       1.023\n",
       "sigma2      4205.2319    586.726      7.167      0.000    3055.270    5355.194\n",
       "===================================================================================\n",
       "Ljung-Box (L1) (Q):                  88.26   Jarque-Bera (JB):                 9.03\n",
       "Prob(Q):                              0.00   Prob(JB):                         0.01\n",
       "Heteroskedasticity (H):               1.63   Skew:                             0.60\n",
       "Prob(H) (two-sided):                  0.10   Kurtosis:                         2.77\n",
       "===================================================================================\n",
       "\n",
       "Warnings:\n",
       "[1] Covariance matrix calculated using the outer product of gradients (complex-step).\n",
       "\"\"\""
      ]
     },
     "execution_count": 289,
     "metadata": {},
     "output_type": "execute_result"
    }
   ],
   "source": [
    "airline_results_ma_1.summary()"
   ]
  },
  {
   "cell_type": "markdown",
   "id": "372226d1",
   "metadata": {},
   "source": [
    "## Modelos AR más complejos"
   ]
  },
  {
   "cell_type": "code",
   "execution_count": 290,
   "id": "76481169",
   "metadata": {},
   "outputs": [
    {
     "name": "stderr",
     "output_type": "stream",
     "text": [
      "C:\\ProgramData\\Anaconda3\\lib\\site-packages\\statsmodels\\tsa\\base\\tsa_model.py:471: ValueWarning: No frequency information was provided, so inferred frequency MS will be used.\n",
      "  self._init_dates(dates, freq)\n",
      "C:\\ProgramData\\Anaconda3\\lib\\site-packages\\statsmodels\\tsa\\base\\tsa_model.py:471: ValueWarning: No frequency information was provided, so inferred frequency MS will be used.\n",
      "  self._init_dates(dates, freq)\n",
      "C:\\ProgramData\\Anaconda3\\lib\\site-packages\\statsmodels\\tsa\\base\\tsa_model.py:471: ValueWarning: No frequency information was provided, so inferred frequency MS will be used.\n",
      "  self._init_dates(dates, freq)\n"
     ]
    }
   ],
   "source": [
    "airline_model_ar_2 = ARIMA(df_airline['Passengers'], order=(2,0,0))"
   ]
  },
  {
   "cell_type": "code",
   "execution_count": 291,
   "id": "aa417b1e",
   "metadata": {},
   "outputs": [],
   "source": [
    "airline_results_ar_2 = airline_model_ar_2.fit()"
   ]
  },
  {
   "cell_type": "code",
   "execution_count": 292,
   "id": "cce02f77",
   "metadata": {},
   "outputs": [
    {
     "data": {
      "text/html": [
       "<table class=\"simpletable\">\n",
       "<caption>SARIMAX Results</caption>\n",
       "<tr>\n",
       "  <th>Dep. Variable:</th>      <td>Passengers</td>    <th>  No. Observations:  </th>    <td>144</td>  \n",
       "</tr>\n",
       "<tr>\n",
       "  <th>Model:</th>            <td>ARIMA(2, 0, 0)</td>  <th>  Log Likelihood     </th> <td>-702.819</td>\n",
       "</tr>\n",
       "<tr>\n",
       "  <th>Date:</th>            <td>Thu, 19 Sep 2024</td> <th>  AIC                </th> <td>1413.639</td>\n",
       "</tr>\n",
       "<tr>\n",
       "  <th>Time:</th>                <td>16:44:14</td>     <th>  BIC                </th> <td>1425.518</td>\n",
       "</tr>\n",
       "<tr>\n",
       "  <th>Sample:</th>             <td>01-01-1949</td>    <th>  HQIC               </th> <td>1418.466</td>\n",
       "</tr>\n",
       "<tr>\n",
       "  <th></th>                   <td>- 12-01-1960</td>   <th>                     </th>     <td> </td>   \n",
       "</tr>\n",
       "<tr>\n",
       "  <th>Covariance Type:</th>        <td>opg</td>       <th>                     </th>     <td> </td>   \n",
       "</tr>\n",
       "</table>\n",
       "<table class=\"simpletable\">\n",
       "<tr>\n",
       "     <td></td>       <th>coef</th>     <th>std err</th>      <th>z</th>      <th>P>|z|</th>  <th>[0.025</th>    <th>0.975]</th>  \n",
       "</tr>\n",
       "<tr>\n",
       "  <th>const</th>  <td>  280.2991</td> <td>   54.518</td> <td>    5.141</td> <td> 0.000</td> <td>  173.445</td> <td>  387.153</td>\n",
       "</tr>\n",
       "<tr>\n",
       "  <th>ar.L1</th>  <td>    1.2831</td> <td>    0.079</td> <td>   16.316</td> <td> 0.000</td> <td>    1.129</td> <td>    1.437</td>\n",
       "</tr>\n",
       "<tr>\n",
       "  <th>ar.L2</th>  <td>   -0.3322</td> <td>    0.082</td> <td>   -4.054</td> <td> 0.000</td> <td>   -0.493</td> <td>   -0.172</td>\n",
       "</tr>\n",
       "<tr>\n",
       "  <th>sigma2</th> <td>  995.9158</td> <td>  110.760</td> <td>    8.992</td> <td> 0.000</td> <td>  778.830</td> <td> 1213.001</td>\n",
       "</tr>\n",
       "</table>\n",
       "<table class=\"simpletable\">\n",
       "<tr>\n",
       "  <th>Ljung-Box (L1) (Q):</th>     <td>0.47</td> <th>  Jarque-Bera (JB):  </th> <td>2.84</td>\n",
       "</tr>\n",
       "<tr>\n",
       "  <th>Prob(Q):</th>                <td>0.49</td> <th>  Prob(JB):          </th> <td>0.24</td>\n",
       "</tr>\n",
       "<tr>\n",
       "  <th>Heteroskedasticity (H):</th> <td>6.78</td> <th>  Skew:              </th> <td>0.27</td>\n",
       "</tr>\n",
       "<tr>\n",
       "  <th>Prob(H) (two-sided):</th>    <td>0.00</td> <th>  Kurtosis:          </th> <td>3.42</td>\n",
       "</tr>\n",
       "</table><br/><br/>Warnings:<br/>[1] Covariance matrix calculated using the outer product of gradients (complex-step)."
      ],
      "text/plain": [
       "<class 'statsmodels.iolib.summary.Summary'>\n",
       "\"\"\"\n",
       "                               SARIMAX Results                                \n",
       "==============================================================================\n",
       "Dep. Variable:             Passengers   No. Observations:                  144\n",
       "Model:                 ARIMA(2, 0, 0)   Log Likelihood                -702.819\n",
       "Date:                Thu, 19 Sep 2024   AIC                           1413.639\n",
       "Time:                        16:44:14   BIC                           1425.518\n",
       "Sample:                    01-01-1949   HQIC                          1418.466\n",
       "                         - 12-01-1960                                         \n",
       "Covariance Type:                  opg                                         \n",
       "==============================================================================\n",
       "                 coef    std err          z      P>|z|      [0.025      0.975]\n",
       "------------------------------------------------------------------------------\n",
       "const        280.2991     54.518      5.141      0.000     173.445     387.153\n",
       "ar.L1          1.2831      0.079     16.316      0.000       1.129       1.437\n",
       "ar.L2         -0.3322      0.082     -4.054      0.000      -0.493      -0.172\n",
       "sigma2       995.9158    110.760      8.992      0.000     778.830    1213.001\n",
       "===================================================================================\n",
       "Ljung-Box (L1) (Q):                   0.47   Jarque-Bera (JB):                 2.84\n",
       "Prob(Q):                              0.49   Prob(JB):                         0.24\n",
       "Heteroskedasticity (H):               6.78   Skew:                             0.27\n",
       "Prob(H) (two-sided):                  0.00   Kurtosis:                         3.42\n",
       "===================================================================================\n",
       "\n",
       "Warnings:\n",
       "[1] Covariance matrix calculated using the outer product of gradients (complex-step).\n",
       "\"\"\""
      ]
     },
     "execution_count": 292,
     "metadata": {},
     "output_type": "execute_result"
    }
   ],
   "source": [
    "airline_results_ar_2.summary()"
   ]
  },
  {
   "cell_type": "code",
   "execution_count": 293,
   "id": "aeac7008",
   "metadata": {},
   "outputs": [
    {
     "name": "stderr",
     "output_type": "stream",
     "text": [
      "C:\\ProgramData\\Anaconda3\\lib\\site-packages\\statsmodels\\tsa\\base\\tsa_model.py:471: ValueWarning: No frequency information was provided, so inferred frequency MS will be used.\n",
      "  self._init_dates(dates, freq)\n",
      "C:\\ProgramData\\Anaconda3\\lib\\site-packages\\statsmodels\\tsa\\base\\tsa_model.py:471: ValueWarning: No frequency information was provided, so inferred frequency MS will be used.\n",
      "  self._init_dates(dates, freq)\n",
      "C:\\ProgramData\\Anaconda3\\lib\\site-packages\\statsmodels\\tsa\\base\\tsa_model.py:471: ValueWarning: No frequency information was provided, so inferred frequency MS will be used.\n",
      "  self._init_dates(dates, freq)\n"
     ]
    }
   ],
   "source": [
    "airline_model_ar_9 = ARIMA(df_airline['Passengers'], order=(9,0,0))"
   ]
  },
  {
   "cell_type": "code",
   "execution_count": 294,
   "id": "3e41ff2a",
   "metadata": {},
   "outputs": [
    {
     "name": "stderr",
     "output_type": "stream",
     "text": [
      "C:\\ProgramData\\Anaconda3\\lib\\site-packages\\statsmodels\\tsa\\statespace\\sarimax.py:966: UserWarning: Non-stationary starting autoregressive parameters found. Using zeros as starting parameters.\n",
      "  warn('Non-stationary starting autoregressive parameters'\n",
      "C:\\ProgramData\\Anaconda3\\lib\\site-packages\\statsmodels\\base\\model.py:604: ConvergenceWarning: Maximum Likelihood optimization failed to converge. Check mle_retvals\n",
      "  warnings.warn(\"Maximum Likelihood optimization failed to \"\n"
     ]
    }
   ],
   "source": [
    "airline_results_ar_9 = airline_model_ar_9.fit()"
   ]
  },
  {
   "cell_type": "code",
   "execution_count": 295,
   "id": "5e2bd9ea",
   "metadata": {},
   "outputs": [
    {
     "data": {
      "text/html": [
       "<table class=\"simpletable\">\n",
       "<caption>SARIMAX Results</caption>\n",
       "<tr>\n",
       "  <th>Dep. Variable:</th>      <td>Passengers</td>    <th>  No. Observations:  </th>    <td>144</td>  \n",
       "</tr>\n",
       "<tr>\n",
       "  <th>Model:</th>            <td>ARIMA(9, 0, 0)</td>  <th>  Log Likelihood     </th> <td>-674.035</td>\n",
       "</tr>\n",
       "<tr>\n",
       "  <th>Date:</th>            <td>Thu, 19 Sep 2024</td> <th>  AIC                </th> <td>1370.070</td>\n",
       "</tr>\n",
       "<tr>\n",
       "  <th>Time:</th>                <td>16:44:15</td>     <th>  BIC                </th> <td>1402.738</td>\n",
       "</tr>\n",
       "<tr>\n",
       "  <th>Sample:</th>             <td>01-01-1949</td>    <th>  HQIC               </th> <td>1383.344</td>\n",
       "</tr>\n",
       "<tr>\n",
       "  <th></th>                   <td>- 12-01-1960</td>   <th>                     </th>     <td> </td>   \n",
       "</tr>\n",
       "<tr>\n",
       "  <th>Covariance Type:</th>        <td>opg</td>       <th>                     </th>     <td> </td>   \n",
       "</tr>\n",
       "</table>\n",
       "<table class=\"simpletable\">\n",
       "<tr>\n",
       "     <td></td>       <th>coef</th>     <th>std err</th>      <th>z</th>      <th>P>|z|</th>  <th>[0.025</th>    <th>0.975]</th>  \n",
       "</tr>\n",
       "<tr>\n",
       "  <th>const</th>  <td>  280.3050</td> <td>  183.059</td> <td>    1.531</td> <td> 0.126</td> <td>  -78.485</td> <td>  639.095</td>\n",
       "</tr>\n",
       "<tr>\n",
       "  <th>ar.L1</th>  <td>    1.2372</td> <td>    0.093</td> <td>   13.344</td> <td> 0.000</td> <td>    1.055</td> <td>    1.419</td>\n",
       "</tr>\n",
       "<tr>\n",
       "  <th>ar.L2</th>  <td>   -0.5626</td> <td>    0.144</td> <td>   -3.918</td> <td> 0.000</td> <td>   -0.844</td> <td>   -0.281</td>\n",
       "</tr>\n",
       "<tr>\n",
       "  <th>ar.L3</th>  <td>    0.2433</td> <td>    0.140</td> <td>    1.743</td> <td> 0.081</td> <td>   -0.030</td> <td>    0.517</td>\n",
       "</tr>\n",
       "<tr>\n",
       "  <th>ar.L4</th>  <td>   -0.3659</td> <td>    0.107</td> <td>   -3.420</td> <td> 0.001</td> <td>   -0.576</td> <td>   -0.156</td>\n",
       "</tr>\n",
       "<tr>\n",
       "  <th>ar.L5</th>  <td>    0.4638</td> <td>    0.134</td> <td>    3.458</td> <td> 0.001</td> <td>    0.201</td> <td>    0.727</td>\n",
       "</tr>\n",
       "<tr>\n",
       "  <th>ar.L6</th>  <td>   -0.2825</td> <td>    0.157</td> <td>   -1.801</td> <td> 0.072</td> <td>   -0.590</td> <td>    0.025</td>\n",
       "</tr>\n",
       "<tr>\n",
       "  <th>ar.L7</th>  <td>    0.2733</td> <td>    0.119</td> <td>    2.289</td> <td> 0.022</td> <td>    0.039</td> <td>    0.507</td>\n",
       "</tr>\n",
       "<tr>\n",
       "  <th>ar.L8</th>  <td>   -0.5043</td> <td>    0.136</td> <td>   -3.704</td> <td> 0.000</td> <td>   -0.771</td> <td>   -0.237</td>\n",
       "</tr>\n",
       "<tr>\n",
       "  <th>ar.L9</th>  <td>    0.4930</td> <td>    0.091</td> <td>    5.395</td> <td> 0.000</td> <td>    0.314</td> <td>    0.672</td>\n",
       "</tr>\n",
       "<tr>\n",
       "  <th>sigma2</th> <td>  648.9543</td> <td>   85.959</td> <td>    7.550</td> <td> 0.000</td> <td>  480.478</td> <td>  817.431</td>\n",
       "</tr>\n",
       "</table>\n",
       "<table class=\"simpletable\">\n",
       "<tr>\n",
       "  <th>Ljung-Box (L1) (Q):</th>     <td>2.48</td> <th>  Jarque-Bera (JB):  </th> <td>4.19</td>\n",
       "</tr>\n",
       "<tr>\n",
       "  <th>Prob(Q):</th>                <td>0.12</td> <th>  Prob(JB):          </th> <td>0.12</td>\n",
       "</tr>\n",
       "<tr>\n",
       "  <th>Heteroskedasticity (H):</th> <td>6.21</td> <th>  Skew:              </th> <td>0.42</td>\n",
       "</tr>\n",
       "<tr>\n",
       "  <th>Prob(H) (two-sided):</th>    <td>0.00</td> <th>  Kurtosis:          </th> <td>3.07</td>\n",
       "</tr>\n",
       "</table><br/><br/>Warnings:<br/>[1] Covariance matrix calculated using the outer product of gradients (complex-step)."
      ],
      "text/plain": [
       "<class 'statsmodels.iolib.summary.Summary'>\n",
       "\"\"\"\n",
       "                               SARIMAX Results                                \n",
       "==============================================================================\n",
       "Dep. Variable:             Passengers   No. Observations:                  144\n",
       "Model:                 ARIMA(9, 0, 0)   Log Likelihood                -674.035\n",
       "Date:                Thu, 19 Sep 2024   AIC                           1370.070\n",
       "Time:                        16:44:15   BIC                           1402.738\n",
       "Sample:                    01-01-1949   HQIC                          1383.344\n",
       "                         - 12-01-1960                                         \n",
       "Covariance Type:                  opg                                         \n",
       "==============================================================================\n",
       "                 coef    std err          z      P>|z|      [0.025      0.975]\n",
       "------------------------------------------------------------------------------\n",
       "const        280.3050    183.059      1.531      0.126     -78.485     639.095\n",
       "ar.L1          1.2372      0.093     13.344      0.000       1.055       1.419\n",
       "ar.L2         -0.5626      0.144     -3.918      0.000      -0.844      -0.281\n",
       "ar.L3          0.2433      0.140      1.743      0.081      -0.030       0.517\n",
       "ar.L4         -0.3659      0.107     -3.420      0.001      -0.576      -0.156\n",
       "ar.L5          0.4638      0.134      3.458      0.001       0.201       0.727\n",
       "ar.L6         -0.2825      0.157     -1.801      0.072      -0.590       0.025\n",
       "ar.L7          0.2733      0.119      2.289      0.022       0.039       0.507\n",
       "ar.L8         -0.5043      0.136     -3.704      0.000      -0.771      -0.237\n",
       "ar.L9          0.4930      0.091      5.395      0.000       0.314       0.672\n",
       "sigma2       648.9543     85.959      7.550      0.000     480.478     817.431\n",
       "===================================================================================\n",
       "Ljung-Box (L1) (Q):                   2.48   Jarque-Bera (JB):                 4.19\n",
       "Prob(Q):                              0.12   Prob(JB):                         0.12\n",
       "Heteroskedasticity (H):               6.21   Skew:                             0.42\n",
       "Prob(H) (two-sided):                  0.00   Kurtosis:                         3.07\n",
       "===================================================================================\n",
       "\n",
       "Warnings:\n",
       "[1] Covariance matrix calculated using the outer product of gradients (complex-step).\n",
       "\"\"\""
      ]
     },
     "execution_count": 295,
     "metadata": {},
     "output_type": "execute_result"
    }
   ],
   "source": [
    "airline_results_ar_9.summary()"
   ]
  },
  {
   "cell_type": "markdown",
   "id": "81603132",
   "metadata": {},
   "source": [
    "## Modelos MA de mayor complejidad"
   ]
  },
  {
   "cell_type": "code",
   "execution_count": 296,
   "id": "ca6b4fb3",
   "metadata": {},
   "outputs": [
    {
     "name": "stderr",
     "output_type": "stream",
     "text": [
      "C:\\ProgramData\\Anaconda3\\lib\\site-packages\\statsmodels\\tsa\\base\\tsa_model.py:471: ValueWarning: No frequency information was provided, so inferred frequency MS will be used.\n",
      "  self._init_dates(dates, freq)\n",
      "C:\\ProgramData\\Anaconda3\\lib\\site-packages\\statsmodels\\tsa\\base\\tsa_model.py:471: ValueWarning: No frequency information was provided, so inferred frequency MS will be used.\n",
      "  self._init_dates(dates, freq)\n",
      "C:\\ProgramData\\Anaconda3\\lib\\site-packages\\statsmodels\\tsa\\base\\tsa_model.py:471: ValueWarning: No frequency information was provided, so inferred frequency MS will be used.\n",
      "  self._init_dates(dates, freq)\n"
     ]
    }
   ],
   "source": [
    "airline_model_ma_14 = ARIMA(df_airline['Passengers'], order=(0,0,14))"
   ]
  },
  {
   "cell_type": "code",
   "execution_count": 297,
   "id": "aeb4bf75",
   "metadata": {},
   "outputs": [
    {
     "name": "stderr",
     "output_type": "stream",
     "text": [
      "C:\\ProgramData\\Anaconda3\\lib\\site-packages\\statsmodels\\tsa\\statespace\\sarimax.py:978: UserWarning: Non-invertible starting MA parameters found. Using zeros as starting parameters.\n",
      "  warn('Non-invertible starting MA parameters found.'\n",
      "C:\\ProgramData\\Anaconda3\\lib\\site-packages\\statsmodels\\base\\model.py:604: ConvergenceWarning: Maximum Likelihood optimization failed to converge. Check mle_retvals\n",
      "  warnings.warn(\"Maximum Likelihood optimization failed to \"\n"
     ]
    }
   ],
   "source": [
    "airline_results_ma_14 = airline_model_ma_14.fit()"
   ]
  },
  {
   "cell_type": "code",
   "execution_count": 298,
   "id": "548ec6b8",
   "metadata": {},
   "outputs": [
    {
     "data": {
      "text/html": [
       "<table class=\"simpletable\">\n",
       "<caption>SARIMAX Results</caption>\n",
       "<tr>\n",
       "  <th>Dep. Variable:</th>      <td>Passengers</td>    <th>  No. Observations:  </th>    <td>144</td>  \n",
       "</tr>\n",
       "<tr>\n",
       "  <th>Model:</th>            <td>ARIMA(0, 0, 14)</td> <th>  Log Likelihood     </th> <td>-690.493</td>\n",
       "</tr>\n",
       "<tr>\n",
       "  <th>Date:</th>            <td>Thu, 19 Sep 2024</td> <th>  AIC                </th> <td>1412.986</td>\n",
       "</tr>\n",
       "<tr>\n",
       "  <th>Time:</th>                <td>16:44:17</td>     <th>  BIC                </th> <td>1460.503</td>\n",
       "</tr>\n",
       "<tr>\n",
       "  <th>Sample:</th>             <td>01-01-1949</td>    <th>  HQIC               </th> <td>1432.294</td>\n",
       "</tr>\n",
       "<tr>\n",
       "  <th></th>                   <td>- 12-01-1960</td>   <th>                     </th>     <td> </td>   \n",
       "</tr>\n",
       "<tr>\n",
       "  <th>Covariance Type:</th>        <td>opg</td>       <th>                     </th>     <td> </td>   \n",
       "</tr>\n",
       "</table>\n",
       "<table class=\"simpletable\">\n",
       "<tr>\n",
       "     <td></td>       <th>coef</th>     <th>std err</th>      <th>z</th>      <th>P>|z|</th>  <th>[0.025</th>    <th>0.975]</th>  \n",
       "</tr>\n",
       "<tr>\n",
       "  <th>const</th>  <td>  280.3025</td> <td>   30.078</td> <td>    9.319</td> <td> 0.000</td> <td>  221.350</td> <td>  339.255</td>\n",
       "</tr>\n",
       "<tr>\n",
       "  <th>ma.L1</th>  <td>    1.3046</td> <td> 1061.082</td> <td>    0.001</td> <td> 0.999</td> <td>-2078.378</td> <td> 2080.987</td>\n",
       "</tr>\n",
       "<tr>\n",
       "  <th>ma.L2</th>  <td>    1.0493</td> <td> 1238.300</td> <td>    0.001</td> <td> 0.999</td> <td>-2425.975</td> <td> 2428.073</td>\n",
       "</tr>\n",
       "<tr>\n",
       "  <th>ma.L3</th>  <td>    0.8424</td> <td> 1710.995</td> <td>    0.000</td> <td> 1.000</td> <td>-3352.646</td> <td> 3354.331</td>\n",
       "</tr>\n",
       "<tr>\n",
       "  <th>ma.L4</th>  <td>    0.7420</td> <td> 1263.275</td> <td>    0.001</td> <td> 1.000</td> <td>-2475.231</td> <td> 2476.715</td>\n",
       "</tr>\n",
       "<tr>\n",
       "  <th>ma.L5</th>  <td>    0.7093</td> <td> 1219.732</td> <td>    0.001</td> <td> 1.000</td> <td>-2389.921</td> <td> 2391.340</td>\n",
       "</tr>\n",
       "<tr>\n",
       "  <th>ma.L6</th>  <td>    0.5679</td> <td>  394.665</td> <td>    0.001</td> <td> 0.999</td> <td> -772.961</td> <td>  774.097</td>\n",
       "</tr>\n",
       "<tr>\n",
       "  <th>ma.L7</th>  <td>    0.9908</td> <td>   20.649</td> <td>    0.048</td> <td> 0.962</td> <td>  -39.480</td> <td>   41.461</td>\n",
       "</tr>\n",
       "<tr>\n",
       "  <th>ma.L8</th>  <td>    0.5347</td> <td>  448.751</td> <td>    0.001</td> <td> 0.999</td> <td> -879.000</td> <td>  880.070</td>\n",
       "</tr>\n",
       "<tr>\n",
       "  <th>ma.L9</th>  <td>    0.7471</td> <td> 1283.184</td> <td>    0.001</td> <td> 1.000</td> <td>-2514.246</td> <td> 2515.741</td>\n",
       "</tr>\n",
       "<tr>\n",
       "  <th>ma.L10</th> <td>    0.7846</td> <td> 1247.827</td> <td>    0.001</td> <td> 0.999</td> <td>-2444.912</td> <td> 2446.481</td>\n",
       "</tr>\n",
       "<tr>\n",
       "  <th>ma.L11</th> <td>    0.8343</td> <td> 1693.286</td> <td>    0.000</td> <td> 1.000</td> <td>-3317.945</td> <td> 3319.614</td>\n",
       "</tr>\n",
       "<tr>\n",
       "  <th>ma.L12</th> <td>    1.0736</td> <td> 1200.046</td> <td>    0.001</td> <td> 0.999</td> <td>-2350.973</td> <td> 2353.120</td>\n",
       "</tr>\n",
       "<tr>\n",
       "  <th>ma.L13</th> <td>    1.2599</td> <td>  993.699</td> <td>    0.001</td> <td> 0.999</td> <td>-1946.354</td> <td> 1948.874</td>\n",
       "</tr>\n",
       "<tr>\n",
       "  <th>ma.L14</th> <td>    0.9366</td> <td>    0.190</td> <td>    4.922</td> <td> 0.000</td> <td>    0.564</td> <td>    1.310</td>\n",
       "</tr>\n",
       "<tr>\n",
       "  <th>sigma2</th> <td>  654.5081</td> <td>   47.031</td> <td>   13.917</td> <td> 0.000</td> <td>  562.329</td> <td>  746.687</td>\n",
       "</tr>\n",
       "</table>\n",
       "<table class=\"simpletable\">\n",
       "<tr>\n",
       "  <th>Ljung-Box (L1) (Q):</th>     <td>5.88</td> <th>  Jarque-Bera (JB):  </th> <td>97.48</td>\n",
       "</tr>\n",
       "<tr>\n",
       "  <th>Prob(Q):</th>                <td>0.02</td> <th>  Prob(JB):          </th> <td>0.00</td> \n",
       "</tr>\n",
       "<tr>\n",
       "  <th>Heteroskedasticity (H):</th> <td>6.22</td> <th>  Skew:              </th> <td>1.23</td> \n",
       "</tr>\n",
       "<tr>\n",
       "  <th>Prob(H) (two-sided):</th>    <td>0.00</td> <th>  Kurtosis:          </th> <td>6.19</td> \n",
       "</tr>\n",
       "</table><br/><br/>Warnings:<br/>[1] Covariance matrix calculated using the outer product of gradients (complex-step).<br/>[2] Covariance matrix is singular or near-singular, with condition number 2.28e+20. Standard errors may be unstable."
      ],
      "text/plain": [
       "<class 'statsmodels.iolib.summary.Summary'>\n",
       "\"\"\"\n",
       "                               SARIMAX Results                                \n",
       "==============================================================================\n",
       "Dep. Variable:             Passengers   No. Observations:                  144\n",
       "Model:                ARIMA(0, 0, 14)   Log Likelihood                -690.493\n",
       "Date:                Thu, 19 Sep 2024   AIC                           1412.986\n",
       "Time:                        16:44:17   BIC                           1460.503\n",
       "Sample:                    01-01-1949   HQIC                          1432.294\n",
       "                         - 12-01-1960                                         \n",
       "Covariance Type:                  opg                                         \n",
       "==============================================================================\n",
       "                 coef    std err          z      P>|z|      [0.025      0.975]\n",
       "------------------------------------------------------------------------------\n",
       "const        280.3025     30.078      9.319      0.000     221.350     339.255\n",
       "ma.L1          1.3046   1061.082      0.001      0.999   -2078.378    2080.987\n",
       "ma.L2          1.0493   1238.300      0.001      0.999   -2425.975    2428.073\n",
       "ma.L3          0.8424   1710.995      0.000      1.000   -3352.646    3354.331\n",
       "ma.L4          0.7420   1263.275      0.001      1.000   -2475.231    2476.715\n",
       "ma.L5          0.7093   1219.732      0.001      1.000   -2389.921    2391.340\n",
       "ma.L6          0.5679    394.665      0.001      0.999    -772.961     774.097\n",
       "ma.L7          0.9908     20.649      0.048      0.962     -39.480      41.461\n",
       "ma.L8          0.5347    448.751      0.001      0.999    -879.000     880.070\n",
       "ma.L9          0.7471   1283.184      0.001      1.000   -2514.246    2515.741\n",
       "ma.L10         0.7846   1247.827      0.001      0.999   -2444.912    2446.481\n",
       "ma.L11         0.8343   1693.286      0.000      1.000   -3317.945    3319.614\n",
       "ma.L12         1.0736   1200.046      0.001      0.999   -2350.973    2353.120\n",
       "ma.L13         1.2599    993.699      0.001      0.999   -1946.354    1948.874\n",
       "ma.L14         0.9366      0.190      4.922      0.000       0.564       1.310\n",
       "sigma2       654.5081     47.031     13.917      0.000     562.329     746.687\n",
       "===================================================================================\n",
       "Ljung-Box (L1) (Q):                   5.88   Jarque-Bera (JB):                97.48\n",
       "Prob(Q):                              0.02   Prob(JB):                         0.00\n",
       "Heteroskedasticity (H):               6.22   Skew:                             1.23\n",
       "Prob(H) (two-sided):                  0.00   Kurtosis:                         6.19\n",
       "===================================================================================\n",
       "\n",
       "Warnings:\n",
       "[1] Covariance matrix calculated using the outer product of gradients (complex-step).\n",
       "[2] Covariance matrix is singular or near-singular, with condition number 2.28e+20. Standard errors may be unstable.\n",
       "\"\"\""
      ]
     },
     "execution_count": 298,
     "metadata": {},
     "output_type": "execute_result"
    }
   ],
   "source": [
    "airline_results_ma_14.summary()"
   ]
  },
  {
   "cell_type": "markdown",
   "id": "c68de61e",
   "metadata": {},
   "source": [
    "## Pruebas LLR"
   ]
  },
  {
   "cell_type": "code",
   "execution_count": 299,
   "id": "b58c4825",
   "metadata": {},
   "outputs": [
    {
     "data": {
      "text/plain": [
       "4.759108402205472e-05"
      ]
     },
     "execution_count": 299,
     "metadata": {},
     "output_type": "execute_result"
    }
   ],
   "source": [
    "LLR_test(airline_model_ar_1,airline_model_ar_2)"
   ]
  },
  {
   "cell_type": "code",
   "execution_count": 300,
   "id": "ed345d56",
   "metadata": {},
   "outputs": [
    {
     "name": "stderr",
     "output_type": "stream",
     "text": [
      "C:\\ProgramData\\Anaconda3\\lib\\site-packages\\statsmodels\\tsa\\statespace\\sarimax.py:966: UserWarning: Non-stationary starting autoregressive parameters found. Using zeros as starting parameters.\n",
      "  warn('Non-stationary starting autoregressive parameters'\n",
      "C:\\ProgramData\\Anaconda3\\lib\\site-packages\\statsmodels\\base\\model.py:604: ConvergenceWarning: Maximum Likelihood optimization failed to converge. Check mle_retvals\n",
      "  warnings.warn(\"Maximum Likelihood optimization failed to \"\n"
     ]
    },
    {
     "data": {
      "text/plain": [
       "3.262913306922468e-14"
      ]
     },
     "execution_count": 300,
     "metadata": {},
     "output_type": "execute_result"
    }
   ],
   "source": [
    "LLR_test(airline_model_ar_2,airline_model_ar_9)"
   ]
  },
  {
   "cell_type": "markdown",
   "id": "ad1c8c6b",
   "metadata": {},
   "source": [
    "## Modelo ARMA(1,1)"
   ]
  },
  {
   "cell_type": "code",
   "execution_count": 301,
   "id": "0bb6cd9c",
   "metadata": {},
   "outputs": [
    {
     "name": "stderr",
     "output_type": "stream",
     "text": [
      "C:\\ProgramData\\Anaconda3\\lib\\site-packages\\statsmodels\\tsa\\base\\tsa_model.py:471: ValueWarning: No frequency information was provided, so inferred frequency MS will be used.\n",
      "  self._init_dates(dates, freq)\n",
      "C:\\ProgramData\\Anaconda3\\lib\\site-packages\\statsmodels\\tsa\\base\\tsa_model.py:471: ValueWarning: No frequency information was provided, so inferred frequency MS will be used.\n",
      "  self._init_dates(dates, freq)\n",
      "C:\\ProgramData\\Anaconda3\\lib\\site-packages\\statsmodels\\tsa\\base\\tsa_model.py:471: ValueWarning: No frequency information was provided, so inferred frequency MS will be used.\n",
      "  self._init_dates(dates, freq)\n"
     ]
    }
   ],
   "source": [
    "airline_model_ar_1_ma_1 = ARIMA(df_airline['Passengers'], order=(1,0,1))"
   ]
  },
  {
   "cell_type": "code",
   "execution_count": 302,
   "id": "46b0ffab",
   "metadata": {},
   "outputs": [],
   "source": [
    "airline_results_ar_1_ma_1 = airline_model_ar_1_ma_1.fit()"
   ]
  },
  {
   "cell_type": "code",
   "execution_count": 303,
   "id": "44aaf882",
   "metadata": {},
   "outputs": [
    {
     "data": {
      "text/html": [
       "<table class=\"simpletable\">\n",
       "<caption>SARIMAX Results</caption>\n",
       "<tr>\n",
       "  <th>Dep. Variable:</th>      <td>Passengers</td>    <th>  No. Observations:  </th>    <td>144</td>  \n",
       "</tr>\n",
       "<tr>\n",
       "  <th>Model:</th>            <td>ARIMA(1, 0, 1)</td>  <th>  Log Likelihood     </th> <td>-700.874</td>\n",
       "</tr>\n",
       "<tr>\n",
       "  <th>Date:</th>            <td>Thu, 19 Sep 2024</td> <th>  AIC                </th> <td>1409.749</td>\n",
       "</tr>\n",
       "<tr>\n",
       "  <th>Time:</th>                <td>16:44:18</td>     <th>  BIC                </th> <td>1421.628</td>\n",
       "</tr>\n",
       "<tr>\n",
       "  <th>Sample:</th>             <td>01-01-1949</td>    <th>  HQIC               </th> <td>1414.576</td>\n",
       "</tr>\n",
       "<tr>\n",
       "  <th></th>                   <td>- 12-01-1960</td>   <th>                     </th>     <td> </td>   \n",
       "</tr>\n",
       "<tr>\n",
       "  <th>Covariance Type:</th>        <td>opg</td>       <th>                     </th>     <td> </td>   \n",
       "</tr>\n",
       "</table>\n",
       "<table class=\"simpletable\">\n",
       "<tr>\n",
       "     <td></td>       <th>coef</th>     <th>std err</th>      <th>z</th>      <th>P>|z|</th>  <th>[0.025</th>    <th>0.975]</th>  \n",
       "</tr>\n",
       "<tr>\n",
       "  <th>const</th>  <td>  280.3009</td> <td>   56.644</td> <td>    4.948</td> <td> 0.000</td> <td>  169.281</td> <td>  391.321</td>\n",
       "</tr>\n",
       "<tr>\n",
       "  <th>ar.L1</th>  <td>    0.9373</td> <td>    0.028</td> <td>   34.009</td> <td> 0.000</td> <td>    0.883</td> <td>    0.991</td>\n",
       "</tr>\n",
       "<tr>\n",
       "  <th>ma.L1</th>  <td>    0.4264</td> <td>    0.076</td> <td>    5.642</td> <td> 0.000</td> <td>    0.278</td> <td>    0.574</td>\n",
       "</tr>\n",
       "<tr>\n",
       "  <th>sigma2</th> <td>  968.4365</td> <td>  112.711</td> <td>    8.592</td> <td> 0.000</td> <td>  747.527</td> <td> 1189.346</td>\n",
       "</tr>\n",
       "</table>\n",
       "<table class=\"simpletable\">\n",
       "<tr>\n",
       "  <th>Ljung-Box (L1) (Q):</th>     <td>0.04</td> <th>  Jarque-Bera (JB):  </th> <td>1.89</td>\n",
       "</tr>\n",
       "<tr>\n",
       "  <th>Prob(Q):</th>                <td>0.84</td> <th>  Prob(JB):          </th> <td>0.39</td>\n",
       "</tr>\n",
       "<tr>\n",
       "  <th>Heteroskedasticity (H):</th> <td>6.81</td> <th>  Skew:              </th> <td>0.26</td>\n",
       "</tr>\n",
       "<tr>\n",
       "  <th>Prob(H) (two-sided):</th>    <td>0.00</td> <th>  Kurtosis:          </th> <td>3.18</td>\n",
       "</tr>\n",
       "</table><br/><br/>Warnings:<br/>[1] Covariance matrix calculated using the outer product of gradients (complex-step)."
      ],
      "text/plain": [
       "<class 'statsmodels.iolib.summary.Summary'>\n",
       "\"\"\"\n",
       "                               SARIMAX Results                                \n",
       "==============================================================================\n",
       "Dep. Variable:             Passengers   No. Observations:                  144\n",
       "Model:                 ARIMA(1, 0, 1)   Log Likelihood                -700.874\n",
       "Date:                Thu, 19 Sep 2024   AIC                           1409.749\n",
       "Time:                        16:44:18   BIC                           1421.628\n",
       "Sample:                    01-01-1949   HQIC                          1414.576\n",
       "                         - 12-01-1960                                         \n",
       "Covariance Type:                  opg                                         \n",
       "==============================================================================\n",
       "                 coef    std err          z      P>|z|      [0.025      0.975]\n",
       "------------------------------------------------------------------------------\n",
       "const        280.3009     56.644      4.948      0.000     169.281     391.321\n",
       "ar.L1          0.9373      0.028     34.009      0.000       0.883       0.991\n",
       "ma.L1          0.4264      0.076      5.642      0.000       0.278       0.574\n",
       "sigma2       968.4365    112.711      8.592      0.000     747.527    1189.346\n",
       "===================================================================================\n",
       "Ljung-Box (L1) (Q):                   0.04   Jarque-Bera (JB):                 1.89\n",
       "Prob(Q):                              0.84   Prob(JB):                         0.39\n",
       "Heteroskedasticity (H):               6.81   Skew:                             0.26\n",
       "Prob(H) (two-sided):                  0.00   Kurtosis:                         3.18\n",
       "===================================================================================\n",
       "\n",
       "Warnings:\n",
       "[1] Covariance matrix calculated using the outer product of gradients (complex-step).\n",
       "\"\"\""
      ]
     },
     "execution_count": 303,
     "metadata": {},
     "output_type": "execute_result"
    }
   ],
   "source": [
    "airline_results_ar_1_ma_1.summary()"
   ]
  },
  {
   "cell_type": "markdown",
   "id": "2d15a830",
   "metadata": {},
   "source": [
    "## Modelos ARMA de mayor complejidad"
   ]
  },
  {
   "cell_type": "code",
   "execution_count": 304,
   "id": "e63005c0",
   "metadata": {},
   "outputs": [
    {
     "name": "stderr",
     "output_type": "stream",
     "text": [
      "C:\\ProgramData\\Anaconda3\\lib\\site-packages\\statsmodels\\tsa\\base\\tsa_model.py:471: ValueWarning: No frequency information was provided, so inferred frequency MS will be used.\n",
      "  self._init_dates(dates, freq)\n",
      "C:\\ProgramData\\Anaconda3\\lib\\site-packages\\statsmodels\\tsa\\base\\tsa_model.py:471: ValueWarning: No frequency information was provided, so inferred frequency MS will be used.\n",
      "  self._init_dates(dates, freq)\n",
      "C:\\ProgramData\\Anaconda3\\lib\\site-packages\\statsmodels\\tsa\\base\\tsa_model.py:471: ValueWarning: No frequency information was provided, so inferred frequency MS will be used.\n",
      "  self._init_dates(dates, freq)\n"
     ]
    }
   ],
   "source": [
    "airline_model_ar_2_ma_14 = ARIMA(df_airline['Passengers'], order=(2,0,14))"
   ]
  },
  {
   "cell_type": "code",
   "execution_count": 305,
   "id": "d27e25dd",
   "metadata": {},
   "outputs": [
    {
     "name": "stderr",
     "output_type": "stream",
     "text": [
      "C:\\ProgramData\\Anaconda3\\lib\\site-packages\\statsmodels\\tsa\\statespace\\sarimax.py:978: UserWarning: Non-invertible starting MA parameters found. Using zeros as starting parameters.\n",
      "  warn('Non-invertible starting MA parameters found.'\n",
      "C:\\ProgramData\\Anaconda3\\lib\\site-packages\\statsmodels\\base\\model.py:604: ConvergenceWarning: Maximum Likelihood optimization failed to converge. Check mle_retvals\n",
      "  warnings.warn(\"Maximum Likelihood optimization failed to \"\n"
     ]
    }
   ],
   "source": [
    "airline_results_ar_2_ma_14=airline_model_ar_2_ma_14.fit()"
   ]
  },
  {
   "cell_type": "code",
   "execution_count": 306,
   "id": "98f2111d",
   "metadata": {},
   "outputs": [
    {
     "data": {
      "text/html": [
       "<table class=\"simpletable\">\n",
       "<caption>SARIMAX Results</caption>\n",
       "<tr>\n",
       "  <th>Dep. Variable:</th>      <td>Passengers</td>    <th>  No. Observations:  </th>    <td>144</td>  \n",
       "</tr>\n",
       "<tr>\n",
       "  <th>Model:</th>            <td>ARIMA(2, 0, 14)</td> <th>  Log Likelihood     </th> <td>-639.192</td>\n",
       "</tr>\n",
       "<tr>\n",
       "  <th>Date:</th>            <td>Thu, 19 Sep 2024</td> <th>  AIC                </th> <td>1314.384</td>\n",
       "</tr>\n",
       "<tr>\n",
       "  <th>Time:</th>                <td>16:44:21</td>     <th>  BIC                </th> <td>1367.841</td>\n",
       "</tr>\n",
       "<tr>\n",
       "  <th>Sample:</th>             <td>01-01-1949</td>    <th>  HQIC               </th> <td>1336.106</td>\n",
       "</tr>\n",
       "<tr>\n",
       "  <th></th>                   <td>- 12-01-1960</td>   <th>                     </th>     <td> </td>   \n",
       "</tr>\n",
       "<tr>\n",
       "  <th>Covariance Type:</th>        <td>opg</td>       <th>                     </th>     <td> </td>   \n",
       "</tr>\n",
       "</table>\n",
       "<table class=\"simpletable\">\n",
       "<tr>\n",
       "     <td></td>       <th>coef</th>     <th>std err</th>      <th>z</th>      <th>P>|z|</th>  <th>[0.025</th>    <th>0.975]</th>  \n",
       "</tr>\n",
       "<tr>\n",
       "  <th>const</th>  <td>  280.3019</td> <td> 2388.853</td> <td>    0.117</td> <td> 0.907</td> <td>-4401.764</td> <td> 4962.368</td>\n",
       "</tr>\n",
       "<tr>\n",
       "  <th>ar.L1</th>  <td>    0.1277</td> <td>    0.191</td> <td>    0.668</td> <td> 0.504</td> <td>   -0.247</td> <td>    0.502</td>\n",
       "</tr>\n",
       "<tr>\n",
       "  <th>ar.L2</th>  <td>    0.8703</td> <td>    0.188</td> <td>    4.635</td> <td> 0.000</td> <td>    0.502</td> <td>    1.238</td>\n",
       "</tr>\n",
       "<tr>\n",
       "  <th>ma.L1</th>  <td>    1.0317</td> <td>  145.308</td> <td>    0.007</td> <td> 0.994</td> <td> -283.766</td> <td>  285.830</td>\n",
       "</tr>\n",
       "<tr>\n",
       "  <th>ma.L2</th>  <td>    0.0140</td> <td>  232.579</td> <td> 6.02e-05</td> <td> 1.000</td> <td> -455.832</td> <td>  455.860</td>\n",
       "</tr>\n",
       "<tr>\n",
       "  <th>ma.L3</th>  <td>   -0.2208</td> <td>   98.978</td> <td>   -0.002</td> <td> 0.998</td> <td> -194.213</td> <td>  193.772</td>\n",
       "</tr>\n",
       "<tr>\n",
       "  <th>ma.L4</th>  <td>   -0.3226</td> <td>  135.177</td> <td>   -0.002</td> <td> 0.998</td> <td> -265.264</td> <td>  264.619</td>\n",
       "</tr>\n",
       "<tr>\n",
       "  <th>ma.L5</th>  <td>   -0.2962</td> <td>   97.266</td> <td>   -0.003</td> <td> 0.998</td> <td> -190.933</td> <td>  190.341</td>\n",
       "</tr>\n",
       "<tr>\n",
       "  <th>ma.L6</th>  <td>   -0.1556</td> <td>   53.742</td> <td>   -0.003</td> <td> 0.998</td> <td> -105.487</td> <td>  105.176</td>\n",
       "</tr>\n",
       "<tr>\n",
       "  <th>ma.L7</th>  <td>   -0.0830</td> <td>   49.870</td> <td>   -0.002</td> <td> 0.999</td> <td>  -97.827</td> <td>   97.661</td>\n",
       "</tr>\n",
       "<tr>\n",
       "  <th>ma.L8</th>  <td>   -0.2737</td> <td>   52.794</td> <td>   -0.005</td> <td> 0.996</td> <td> -103.749</td> <td>  103.202</td>\n",
       "</tr>\n",
       "<tr>\n",
       "  <th>ma.L9</th>  <td>   -0.3246</td> <td>  135.959</td> <td>   -0.002</td> <td> 0.998</td> <td> -266.800</td> <td>  266.150</td>\n",
       "</tr>\n",
       "<tr>\n",
       "  <th>ma.L10</th> <td>   -0.2346</td> <td>   82.480</td> <td>   -0.003</td> <td> 0.998</td> <td> -161.892</td> <td>  161.423</td>\n",
       "</tr>\n",
       "<tr>\n",
       "  <th>ma.L11</th> <td>   -0.2702</td> <td>  201.446</td> <td>   -0.001</td> <td> 0.999</td> <td> -395.098</td> <td>  394.557</td>\n",
       "</tr>\n",
       "<tr>\n",
       "  <th>ma.L12</th> <td>    0.6886</td> <td>  199.405</td> <td>    0.003</td> <td> 0.997</td> <td> -390.138</td> <td>  391.515</td>\n",
       "</tr>\n",
       "<tr>\n",
       "  <th>ma.L13</th> <td>    1.1910</td> <td>   46.412</td> <td>    0.026</td> <td> 0.980</td> <td>  -89.775</td> <td>   92.157</td>\n",
       "</tr>\n",
       "<tr>\n",
       "  <th>ma.L14</th> <td>    0.3189</td> <td>    0.191</td> <td>    1.668</td> <td> 0.095</td> <td>   -0.056</td> <td>    0.694</td>\n",
       "</tr>\n",
       "<tr>\n",
       "  <th>sigma2</th> <td>  338.3252</td> <td>    2.745</td> <td>  123.274</td> <td> 0.000</td> <td>  332.946</td> <td>  343.704</td>\n",
       "</tr>\n",
       "</table>\n",
       "<table class=\"simpletable\">\n",
       "<tr>\n",
       "  <th>Ljung-Box (L1) (Q):</th>     <td>0.00</td> <th>  Jarque-Bera (JB):  </th> <td>12.42</td>\n",
       "</tr>\n",
       "<tr>\n",
       "  <th>Prob(Q):</th>                <td>0.99</td> <th>  Prob(JB):          </th> <td>0.00</td> \n",
       "</tr>\n",
       "<tr>\n",
       "  <th>Heteroskedasticity (H):</th> <td>6.64</td> <th>  Skew:              </th> <td>-0.03</td>\n",
       "</tr>\n",
       "<tr>\n",
       "  <th>Prob(H) (two-sided):</th>    <td>0.00</td> <th>  Kurtosis:          </th> <td>4.44</td> \n",
       "</tr>\n",
       "</table><br/><br/>Warnings:<br/>[1] Covariance matrix calculated using the outer product of gradients (complex-step).<br/>[2] Covariance matrix is singular or near-singular, with condition number 1.07e+21. Standard errors may be unstable."
      ],
      "text/plain": [
       "<class 'statsmodels.iolib.summary.Summary'>\n",
       "\"\"\"\n",
       "                               SARIMAX Results                                \n",
       "==============================================================================\n",
       "Dep. Variable:             Passengers   No. Observations:                  144\n",
       "Model:                ARIMA(2, 0, 14)   Log Likelihood                -639.192\n",
       "Date:                Thu, 19 Sep 2024   AIC                           1314.384\n",
       "Time:                        16:44:21   BIC                           1367.841\n",
       "Sample:                    01-01-1949   HQIC                          1336.106\n",
       "                         - 12-01-1960                                         \n",
       "Covariance Type:                  opg                                         \n",
       "==============================================================================\n",
       "                 coef    std err          z      P>|z|      [0.025      0.975]\n",
       "------------------------------------------------------------------------------\n",
       "const        280.3019   2388.853      0.117      0.907   -4401.764    4962.368\n",
       "ar.L1          0.1277      0.191      0.668      0.504      -0.247       0.502\n",
       "ar.L2          0.8703      0.188      4.635      0.000       0.502       1.238\n",
       "ma.L1          1.0317    145.308      0.007      0.994    -283.766     285.830\n",
       "ma.L2          0.0140    232.579   6.02e-05      1.000    -455.832     455.860\n",
       "ma.L3         -0.2208     98.978     -0.002      0.998    -194.213     193.772\n",
       "ma.L4         -0.3226    135.177     -0.002      0.998    -265.264     264.619\n",
       "ma.L5         -0.2962     97.266     -0.003      0.998    -190.933     190.341\n",
       "ma.L6         -0.1556     53.742     -0.003      0.998    -105.487     105.176\n",
       "ma.L7         -0.0830     49.870     -0.002      0.999     -97.827      97.661\n",
       "ma.L8         -0.2737     52.794     -0.005      0.996    -103.749     103.202\n",
       "ma.L9         -0.3246    135.959     -0.002      0.998    -266.800     266.150\n",
       "ma.L10        -0.2346     82.480     -0.003      0.998    -161.892     161.423\n",
       "ma.L11        -0.2702    201.446     -0.001      0.999    -395.098     394.557\n",
       "ma.L12         0.6886    199.405      0.003      0.997    -390.138     391.515\n",
       "ma.L13         1.1910     46.412      0.026      0.980     -89.775      92.157\n",
       "ma.L14         0.3189      0.191      1.668      0.095      -0.056       0.694\n",
       "sigma2       338.3252      2.745    123.274      0.000     332.946     343.704\n",
       "===================================================================================\n",
       "Ljung-Box (L1) (Q):                   0.00   Jarque-Bera (JB):                12.42\n",
       "Prob(Q):                              0.99   Prob(JB):                         0.00\n",
       "Heteroskedasticity (H):               6.64   Skew:                            -0.03\n",
       "Prob(H) (two-sided):                  0.00   Kurtosis:                         4.44\n",
       "===================================================================================\n",
       "\n",
       "Warnings:\n",
       "[1] Covariance matrix calculated using the outer product of gradients (complex-step).\n",
       "[2] Covariance matrix is singular or near-singular, with condition number 1.07e+21. Standard errors may be unstable.\n",
       "\"\"\""
      ]
     },
     "execution_count": 306,
     "metadata": {},
     "output_type": "execute_result"
    }
   ],
   "source": [
    "airline_results_ar_2_ma_14.summary()"
   ]
  },
  {
   "cell_type": "markdown",
   "id": "7aa54a97",
   "metadata": {},
   "source": [
    "## Pruebas LLR"
   ]
  },
  {
   "cell_type": "code",
   "execution_count": 307,
   "id": "728e421b",
   "metadata": {},
   "outputs": [
    {
     "name": "stdout",
     "output_type": "stream",
     "text": [
      "\n",
      "ARMA vs AR  6.1794137348884034e-06\n"
     ]
    },
    {
     "name": "stderr",
     "output_type": "stream",
     "text": [
      "C:\\ProgramData\\Anaconda3\\lib\\site-packages\\statsmodels\\tsa\\statespace\\sarimax.py:978: UserWarning: Non-invertible starting MA parameters found. Using zeros as starting parameters.\n",
      "  warn('Non-invertible starting MA parameters found.'\n"
     ]
    },
    {
     "name": "stdout",
     "output_type": "stream",
     "text": [
      "\n",
      "ARMA vs MA  7.8499746710177e-48\n"
     ]
    },
    {
     "name": "stderr",
     "output_type": "stream",
     "text": [
      "C:\\ProgramData\\Anaconda3\\lib\\site-packages\\statsmodels\\tsa\\statespace\\sarimax.py:978: UserWarning: Non-invertible starting MA parameters found. Using zeros as starting parameters.\n",
      "  warn('Non-invertible starting MA parameters found.'\n"
     ]
    },
    {
     "name": "stdout",
     "output_type": "stream",
     "text": [
      "\n",
      "ARMA vs ARMA(2,14)  4.3469021857930366e-20\n"
     ]
    },
    {
     "name": "stderr",
     "output_type": "stream",
     "text": [
      "C:\\ProgramData\\Anaconda3\\lib\\site-packages\\statsmodels\\base\\model.py:604: ConvergenceWarning: Maximum Likelihood optimization failed to converge. Check mle_retvals\n",
      "  warnings.warn(\"Maximum Likelihood optimization failed to \"\n"
     ]
    }
   ],
   "source": [
    "print(\"\\nARMA vs AR \", LLR_test(airline_model_ar_1, airline_model_ar_1_ma_1))\n",
    "print(\"\\nARMA vs MA \", LLR_test(airline_model_ma_1, airline_model_ar_1_ma_1))\n",
    "print(\"\\nARMA vs ARMA(2,14) \", LLR_test(airline_model_ar_1_ma_1, airline_model_ar_2_ma_14,DF=13))"
   ]
  },
  {
   "cell_type": "markdown",
   "id": "4594f0c7",
   "metadata": {},
   "source": [
    "## Modelo ARIMA(1,1,1)"
   ]
  },
  {
   "cell_type": "code",
   "execution_count": 308,
   "id": "e2adfc5e",
   "metadata": {},
   "outputs": [
    {
     "name": "stderr",
     "output_type": "stream",
     "text": [
      "C:\\ProgramData\\Anaconda3\\lib\\site-packages\\statsmodels\\tsa\\base\\tsa_model.py:471: ValueWarning: No frequency information was provided, so inferred frequency MS will be used.\n",
      "  self._init_dates(dates, freq)\n",
      "C:\\ProgramData\\Anaconda3\\lib\\site-packages\\statsmodels\\tsa\\base\\tsa_model.py:471: ValueWarning: No frequency information was provided, so inferred frequency MS will be used.\n",
      "  self._init_dates(dates, freq)\n",
      "C:\\ProgramData\\Anaconda3\\lib\\site-packages\\statsmodels\\tsa\\base\\tsa_model.py:471: ValueWarning: No frequency information was provided, so inferred frequency MS will be used.\n",
      "  self._init_dates(dates, freq)\n"
     ]
    }
   ],
   "source": [
    "airline_model_ar_1_i_1_ma_1 = ARIMA(df_airline['Passengers'], order=(1,1,1))"
   ]
  },
  {
   "cell_type": "code",
   "execution_count": 309,
   "id": "1cdbee6a",
   "metadata": {},
   "outputs": [],
   "source": [
    "airline_results_ar_1_i_1_ma_1 = airline_model_ar_1_i_1_ma_1.fit()"
   ]
  },
  {
   "cell_type": "code",
   "execution_count": 310,
   "id": "3e61990a",
   "metadata": {},
   "outputs": [
    {
     "data": {
      "text/html": [
       "<table class=\"simpletable\">\n",
       "<caption>SARIMAX Results</caption>\n",
       "<tr>\n",
       "  <th>Dep. Variable:</th>      <td>Passengers</td>    <th>  No. Observations:  </th>    <td>144</td>  \n",
       "</tr>\n",
       "<tr>\n",
       "  <th>Model:</th>            <td>ARIMA(1, 1, 1)</td>  <th>  Log Likelihood     </th> <td>-694.341</td>\n",
       "</tr>\n",
       "<tr>\n",
       "  <th>Date:</th>            <td>Thu, 19 Sep 2024</td> <th>  AIC                </th> <td>1394.683</td>\n",
       "</tr>\n",
       "<tr>\n",
       "  <th>Time:</th>                <td>16:44:23</td>     <th>  BIC                </th> <td>1403.571</td>\n",
       "</tr>\n",
       "<tr>\n",
       "  <th>Sample:</th>             <td>01-01-1949</td>    <th>  HQIC               </th> <td>1398.294</td>\n",
       "</tr>\n",
       "<tr>\n",
       "  <th></th>                   <td>- 12-01-1960</td>   <th>                     </th>     <td> </td>   \n",
       "</tr>\n",
       "<tr>\n",
       "  <th>Covariance Type:</th>        <td>opg</td>       <th>                     </th>     <td> </td>   \n",
       "</tr>\n",
       "</table>\n",
       "<table class=\"simpletable\">\n",
       "<tr>\n",
       "     <td></td>       <th>coef</th>     <th>std err</th>      <th>z</th>      <th>P>|z|</th>  <th>[0.025</th>    <th>0.975]</th>  \n",
       "</tr>\n",
       "<tr>\n",
       "  <th>ar.L1</th>  <td>   -0.4742</td> <td>    0.123</td> <td>   -3.847</td> <td> 0.000</td> <td>   -0.716</td> <td>   -0.233</td>\n",
       "</tr>\n",
       "<tr>\n",
       "  <th>ma.L1</th>  <td>    0.8635</td> <td>    0.078</td> <td>   11.051</td> <td> 0.000</td> <td>    0.710</td> <td>    1.017</td>\n",
       "</tr>\n",
       "<tr>\n",
       "  <th>sigma2</th> <td>  961.9270</td> <td>  107.433</td> <td>    8.954</td> <td> 0.000</td> <td>  751.362</td> <td> 1172.492</td>\n",
       "</tr>\n",
       "</table>\n",
       "<table class=\"simpletable\">\n",
       "<tr>\n",
       "  <th>Ljung-Box (L1) (Q):</th>     <td>0.21</td> <th>  Jarque-Bera (JB):  </th> <td>2.14</td> \n",
       "</tr>\n",
       "<tr>\n",
       "  <th>Prob(Q):</th>                <td>0.65</td> <th>  Prob(JB):          </th> <td>0.34</td> \n",
       "</tr>\n",
       "<tr>\n",
       "  <th>Heteroskedasticity (H):</th> <td>7.00</td> <th>  Skew:              </th> <td>-0.21</td>\n",
       "</tr>\n",
       "<tr>\n",
       "  <th>Prob(H) (two-sided):</th>    <td>0.00</td> <th>  Kurtosis:          </th> <td>3.43</td> \n",
       "</tr>\n",
       "</table><br/><br/>Warnings:<br/>[1] Covariance matrix calculated using the outer product of gradients (complex-step)."
      ],
      "text/plain": [
       "<class 'statsmodels.iolib.summary.Summary'>\n",
       "\"\"\"\n",
       "                               SARIMAX Results                                \n",
       "==============================================================================\n",
       "Dep. Variable:             Passengers   No. Observations:                  144\n",
       "Model:                 ARIMA(1, 1, 1)   Log Likelihood                -694.341\n",
       "Date:                Thu, 19 Sep 2024   AIC                           1394.683\n",
       "Time:                        16:44:23   BIC                           1403.571\n",
       "Sample:                    01-01-1949   HQIC                          1398.294\n",
       "                         - 12-01-1960                                         \n",
       "Covariance Type:                  opg                                         \n",
       "==============================================================================\n",
       "                 coef    std err          z      P>|z|      [0.025      0.975]\n",
       "------------------------------------------------------------------------------\n",
       "ar.L1         -0.4742      0.123     -3.847      0.000      -0.716      -0.233\n",
       "ma.L1          0.8635      0.078     11.051      0.000       0.710       1.017\n",
       "sigma2       961.9270    107.433      8.954      0.000     751.362    1172.492\n",
       "===================================================================================\n",
       "Ljung-Box (L1) (Q):                   0.21   Jarque-Bera (JB):                 2.14\n",
       "Prob(Q):                              0.65   Prob(JB):                         0.34\n",
       "Heteroskedasticity (H):               7.00   Skew:                            -0.21\n",
       "Prob(H) (two-sided):                  0.00   Kurtosis:                         3.43\n",
       "===================================================================================\n",
       "\n",
       "Warnings:\n",
       "[1] Covariance matrix calculated using the outer product of gradients (complex-step).\n",
       "\"\"\""
      ]
     },
     "execution_count": 310,
     "metadata": {},
     "output_type": "execute_result"
    }
   ],
   "source": [
    "airline_results_ar_1_i_1_ma_1.summary()"
   ]
  },
  {
   "cell_type": "markdown",
   "id": "d7b20cc7",
   "metadata": {},
   "source": [
    "## Modelo SARIMA(1,0,1)(1,0,1,12)"
   ]
  },
  {
   "cell_type": "code",
   "execution_count": 389,
   "id": "4aa5800a",
   "metadata": {},
   "outputs": [
    {
     "name": "stderr",
     "output_type": "stream",
     "text": [
      "C:\\ProgramData\\Anaconda3\\lib\\site-packages\\statsmodels\\tsa\\base\\tsa_model.py:471: ValueWarning: No frequency information was provided, so inferred frequency MS will be used.\n",
      "  self._init_dates(dates, freq)\n",
      "C:\\ProgramData\\Anaconda3\\lib\\site-packages\\statsmodels\\tsa\\base\\tsa_model.py:471: ValueWarning: No frequency information was provided, so inferred frequency MS will be used.\n",
      "  self._init_dates(dates, freq)\n",
      "C:\\ProgramData\\Anaconda3\\lib\\site-packages\\statsmodels\\tsa\\statespace\\sarimax.py:997: UserWarning: Non-stationary starting seasonal autoregressive Using zeros as starting parameters.\n",
      "  warn('Non-stationary starting seasonal autoregressive'\n"
     ]
    },
    {
     "data": {
      "text/html": [
       "<table class=\"simpletable\">\n",
       "<caption>SARIMAX Results</caption>\n",
       "<tr>\n",
       "  <th>Dep. Variable:</th>             <td>Passengers</td>           <th>  No. Observations:  </th>    <td>144</td>  \n",
       "</tr>\n",
       "<tr>\n",
       "  <th>Model:</th>           <td>SARIMAX(1, 0, 1)x(1, 0, 1, 12)</td> <th>  Log Likelihood     </th> <td>-574.087</td>\n",
       "</tr>\n",
       "<tr>\n",
       "  <th>Date:</th>                   <td>Thu, 19 Sep 2024</td>        <th>  AIC                </th> <td>1158.174</td>\n",
       "</tr>\n",
       "<tr>\n",
       "  <th>Time:</th>                       <td>16:55:21</td>            <th>  BIC                </th> <td>1173.023</td>\n",
       "</tr>\n",
       "<tr>\n",
       "  <th>Sample:</th>                    <td>01-01-1949</td>           <th>  HQIC               </th> <td>1164.208</td>\n",
       "</tr>\n",
       "<tr>\n",
       "  <th></th>                          <td>- 12-01-1960</td>          <th>                     </th>     <td> </td>   \n",
       "</tr>\n",
       "<tr>\n",
       "  <th>Covariance Type:</th>               <td>opg</td>              <th>                     </th>     <td> </td>   \n",
       "</tr>\n",
       "</table>\n",
       "<table class=\"simpletable\">\n",
       "<tr>\n",
       "      <td></td>        <th>coef</th>     <th>std err</th>      <th>z</th>      <th>P>|z|</th>  <th>[0.025</th>    <th>0.975]</th>  \n",
       "</tr>\n",
       "<tr>\n",
       "  <th>ar.L1</th>    <td>    0.9738</td> <td>    0.015</td> <td>   63.729</td> <td> 0.000</td> <td>    0.944</td> <td>    1.004</td>\n",
       "</tr>\n",
       "<tr>\n",
       "  <th>ma.L1</th>    <td>   -0.2314</td> <td>    0.073</td> <td>   -3.168</td> <td> 0.002</td> <td>   -0.375</td> <td>   -0.088</td>\n",
       "</tr>\n",
       "<tr>\n",
       "  <th>ar.S.L12</th> <td>    0.9686</td> <td>    0.021</td> <td>   45.358</td> <td> 0.000</td> <td>    0.927</td> <td>    1.010</td>\n",
       "</tr>\n",
       "<tr>\n",
       "  <th>ma.S.L12</th> <td>   -0.0940</td> <td>    0.109</td> <td>   -0.866</td> <td> 0.387</td> <td>   -0.307</td> <td>    0.119</td>\n",
       "</tr>\n",
       "<tr>\n",
       "  <th>sigma2</th>   <td>  132.3411</td> <td>   14.832</td> <td>    8.922</td> <td> 0.000</td> <td>  103.270</td> <td>  161.412</td>\n",
       "</tr>\n",
       "</table>\n",
       "<table class=\"simpletable\">\n",
       "<tr>\n",
       "  <th>Ljung-Box (L1) (Q):</th>     <td>0.11</td> <th>  Jarque-Bera (JB):  </th> <td>14.34</td>\n",
       "</tr>\n",
       "<tr>\n",
       "  <th>Prob(Q):</th>                <td>0.74</td> <th>  Prob(JB):          </th> <td>0.00</td> \n",
       "</tr>\n",
       "<tr>\n",
       "  <th>Heteroskedasticity (H):</th> <td>3.90</td> <th>  Skew:              </th> <td>0.18</td> \n",
       "</tr>\n",
       "<tr>\n",
       "  <th>Prob(H) (two-sided):</th>    <td>0.00</td> <th>  Kurtosis:          </th> <td>4.50</td> \n",
       "</tr>\n",
       "</table><br/><br/>Warnings:<br/>[1] Covariance matrix calculated using the outer product of gradients (complex-step)."
      ],
      "text/plain": [
       "<class 'statsmodels.iolib.summary.Summary'>\n",
       "\"\"\"\n",
       "                                     SARIMAX Results                                      \n",
       "==========================================================================================\n",
       "Dep. Variable:                         Passengers   No. Observations:                  144\n",
       "Model:             SARIMAX(1, 0, 1)x(1, 0, 1, 12)   Log Likelihood                -574.087\n",
       "Date:                            Thu, 19 Sep 2024   AIC                           1158.174\n",
       "Time:                                    16:55:21   BIC                           1173.023\n",
       "Sample:                                01-01-1949   HQIC                          1164.208\n",
       "                                     - 12-01-1960                                         \n",
       "Covariance Type:                              opg                                         \n",
       "==============================================================================\n",
       "                 coef    std err          z      P>|z|      [0.025      0.975]\n",
       "------------------------------------------------------------------------------\n",
       "ar.L1          0.9738      0.015     63.729      0.000       0.944       1.004\n",
       "ma.L1         -0.2314      0.073     -3.168      0.002      -0.375      -0.088\n",
       "ar.S.L12       0.9686      0.021     45.358      0.000       0.927       1.010\n",
       "ma.S.L12      -0.0940      0.109     -0.866      0.387      -0.307       0.119\n",
       "sigma2       132.3411     14.832      8.922      0.000     103.270     161.412\n",
       "===================================================================================\n",
       "Ljung-Box (L1) (Q):                   0.11   Jarque-Bera (JB):                14.34\n",
       "Prob(Q):                              0.74   Prob(JB):                         0.00\n",
       "Heteroskedasticity (H):               3.90   Skew:                             0.18\n",
       "Prob(H) (two-sided):                  0.00   Kurtosis:                         4.50\n",
       "===================================================================================\n",
       "\n",
       "Warnings:\n",
       "[1] Covariance matrix calculated using the outer product of gradients (complex-step).\n",
       "\"\"\""
      ]
     },
     "execution_count": 389,
     "metadata": {},
     "output_type": "execute_result"
    }
   ],
   "source": [
    "airline_model_sarimax = SARIMAX(df_airline['Passengers'], order=(1,0,1), seasonal_order = (1,0,1,12))\n",
    "airline_results_sarimax = airline_model_sarimax.fit()\n",
    "airline_results_sarimax.summary()"
   ]
  },
  {
   "cell_type": "code",
   "execution_count": 399,
   "id": "79abdcca",
   "metadata": {},
   "outputs": [
    {
     "data": {
      "image/png": "[encoded data removed]",
      "text/plain": [
       "<Figure size 640x480 with 1 Axes>"
      ]
     },
     "metadata": {},
     "output_type": "display_data"
    }
   ],
   "source": [
    "plot_predict(airline_results_sarimax,start = '1959-01-01',end = '1960-01-01')\n",
    "df_airline['Passengers']['1959-01-01':'1960-01-01'].plot();"
   ]
  },
  {
   "cell_type": "code",
   "execution_count": null,
   "id": "37ac94d7",
   "metadata": {},
   "outputs": [],
   "source": []
  },
  {
   "cell_type": "code",
   "execution_count": null,
   "id": "e021f9d7",
   "metadata": {},
   "outputs": [],
   "source": []
  },
  {
   "cell_type": "code",
   "execution_count": null,
   "id": "13e97457",
   "metadata": {},
   "outputs": [],
   "source": []
  },
  {
   "cell_type": "code",
   "execution_count": null,
   "id": "1f8162f4",
   "metadata": {},
   "outputs": [],
   "source": []
  },
  {
   "cell_type": "markdown",
   "id": "3fae921c",
   "metadata": {},
   "source": [
    "# Datos de ventas"
   ]
  },
  {
   "cell_type": "markdown",
   "id": "71f24a5e",
   "metadata": {},
   "source": [
    "## Estacionaridad"
   ]
  },
  {
   "cell_type": "code",
   "execution_count": 311,
   "id": "cd01298c",
   "metadata": {},
   "outputs": [
    {
     "data": {
      "text/plain": [
       "(-2.853928653615534,\n",
       " 0.05097376463402474,\n",
       " 13,\n",
       " 351,\n",
       " {'1%': -3.44911857009962,\n",
       "  '5%': -2.8698097654570507,\n",
       "  '10%': -2.5711757061225153},\n",
       " 6365.4145809406855)"
      ]
     },
     "execution_count": 311,
     "metadata": {},
     "output_type": "execute_result"
    }
   ],
   "source": [
    "sts.adfuller(df_ventas['Ventas'])"
   ]
  },
  {
   "cell_type": "markdown",
   "id": "055e8121",
   "metadata": {},
   "source": [
    "## PACF y ACF"
   ]
  },
  {
   "cell_type": "code",
   "execution_count": 312,
   "id": "f9b66849",
   "metadata": {},
   "outputs": [
    {
     "name": "stderr",
     "output_type": "stream",
     "text": [
      "C:\\ProgramData\\Anaconda3\\lib\\site-packages\\statsmodels\\graphics\\tsaplots.py:348: FutureWarning: The default method 'yw' can produce PACF values outside of the [-1,1] interval. After 0.13, the default will change tounadjusted Yule-Walker ('ywm'). You can use this method now by setting method='ywm'.\n",
      "  warnings.warn(\n"
     ]
    },
    {
     "data": {
      "image/png": "[encoded data removed]",
      "text/plain": [
       "<Figure size 640x480 with 1 Axes>"
      ]
     },
     "metadata": {},
     "output_type": "display_data"
    }
   ],
   "source": [
    "sgt.plot_pacf(df_ventas['Ventas'], zero = False, lags = 40)\n",
    "plt.title(\"PACF for Ventas\", size = 20)\n",
    "plt.show()"
   ]
  },
  {
   "cell_type": "code",
   "execution_count": 313,
   "id": "abae9894",
   "metadata": {},
   "outputs": [
    {
     "data": {
      "image/png": "[encoded data removed]",
      "text/plain": [
       "<Figure size 640x480 with 1 Axes>"
      ]
     },
     "metadata": {},
     "output_type": "display_data"
    }
   ],
   "source": [
    "sgt.plot_acf(df_ventas['Ventas'], zero = False, lags = 40)\n",
    "plt.title(\"ACF for Ventas\", size = 20)\n",
    "plt.show()"
   ]
  },
  {
   "cell_type": "markdown",
   "id": "616d754b",
   "metadata": {},
   "source": [
    "## Modelo AR(1)"
   ]
  },
  {
   "cell_type": "code",
   "execution_count": 314,
   "id": "dbcb2293",
   "metadata": {},
   "outputs": [
    {
     "name": "stderr",
     "output_type": "stream",
     "text": [
      "C:\\ProgramData\\Anaconda3\\lib\\site-packages\\statsmodels\\tsa\\base\\tsa_model.py:471: ValueWarning: No frequency information was provided, so inferred frequency D will be used.\n",
      "  self._init_dates(dates, freq)\n",
      "C:\\ProgramData\\Anaconda3\\lib\\site-packages\\statsmodels\\tsa\\base\\tsa_model.py:471: ValueWarning: No frequency information was provided, so inferred frequency D will be used.\n",
      "  self._init_dates(dates, freq)\n",
      "C:\\ProgramData\\Anaconda3\\lib\\site-packages\\statsmodels\\tsa\\base\\tsa_model.py:471: ValueWarning: No frequency information was provided, so inferred frequency D will be used.\n",
      "  self._init_dates(dates, freq)\n"
     ]
    }
   ],
   "source": [
    "ventas_model_ar_1 = ARIMA(df_ventas['Ventas'], order=(1,0,0))"
   ]
  },
  {
   "cell_type": "code",
   "execution_count": 315,
   "id": "22d8c32f",
   "metadata": {},
   "outputs": [],
   "source": [
    "ventas_results_ar_1 = ventas_model_ar_1.fit()"
   ]
  },
  {
   "cell_type": "code",
   "execution_count": 316,
   "id": "6d9cdecd",
   "metadata": {},
   "outputs": [
    {
     "data": {
      "text/html": [
       "<table class=\"simpletable\">\n",
       "<caption>SARIMAX Results</caption>\n",
       "<tr>\n",
       "  <th>Dep. Variable:</th>        <td>Ventas</td>      <th>  No. Observations:  </th>    <td>365</td>   \n",
       "</tr>\n",
       "<tr>\n",
       "  <th>Model:</th>            <td>ARIMA(1, 0, 0)</td>  <th>  Log Likelihood     </th> <td>-3401.112</td>\n",
       "</tr>\n",
       "<tr>\n",
       "  <th>Date:</th>            <td>Thu, 19 Sep 2024</td> <th>  AIC                </th> <td>6808.224</td> \n",
       "</tr>\n",
       "<tr>\n",
       "  <th>Time:</th>                <td>16:44:24</td>     <th>  BIC                </th> <td>6819.923</td> \n",
       "</tr>\n",
       "<tr>\n",
       "  <th>Sample:</th>             <td>01-01-2023</td>    <th>  HQIC               </th> <td>6812.873</td> \n",
       "</tr>\n",
       "<tr>\n",
       "  <th></th>                   <td>- 12-31-2023</td>   <th>                     </th>     <td> </td>    \n",
       "</tr>\n",
       "<tr>\n",
       "  <th>Covariance Type:</th>        <td>opg</td>       <th>                     </th>     <td> </td>    \n",
       "</tr>\n",
       "</table>\n",
       "<table class=\"simpletable\">\n",
       "<tr>\n",
       "     <td></td>       <th>coef</th>     <th>std err</th>      <th>z</th>      <th>P>|z|</th>  <th>[0.025</th>    <th>0.975]</th>  \n",
       "</tr>\n",
       "<tr>\n",
       "  <th>const</th>  <td> 1.883e+04</td> <td>  271.223</td> <td>   69.431</td> <td> 0.000</td> <td> 1.83e+04</td> <td> 1.94e+04</td>\n",
       "</tr>\n",
       "<tr>\n",
       "  <th>ar.L1</th>  <td>    0.4780</td> <td>    0.047</td> <td>   10.197</td> <td> 0.000</td> <td>    0.386</td> <td>    0.570</td>\n",
       "</tr>\n",
       "<tr>\n",
       "  <th>sigma2</th> <td> 7.203e+06</td> <td> 5.11e+05</td> <td>   14.110</td> <td> 0.000</td> <td>  6.2e+06</td> <td>  8.2e+06</td>\n",
       "</tr>\n",
       "</table>\n",
       "<table class=\"simpletable\">\n",
       "<tr>\n",
       "  <th>Ljung-Box (L1) (Q):</th>     <td>0.04</td> <th>  Jarque-Bera (JB):  </th> <td>6.03</td> \n",
       "</tr>\n",
       "<tr>\n",
       "  <th>Prob(Q):</th>                <td>0.83</td> <th>  Prob(JB):          </th> <td>0.05</td> \n",
       "</tr>\n",
       "<tr>\n",
       "  <th>Heteroskedasticity (H):</th> <td>0.95</td> <th>  Skew:              </th> <td>-0.29</td>\n",
       "</tr>\n",
       "<tr>\n",
       "  <th>Prob(H) (two-sided):</th>    <td>0.78</td> <th>  Kurtosis:          </th> <td>3.24</td> \n",
       "</tr>\n",
       "</table><br/><br/>Warnings:<br/>[1] Covariance matrix calculated using the outer product of gradients (complex-step)."
      ],
      "text/plain": [
       "<class 'statsmodels.iolib.summary.Summary'>\n",
       "\"\"\"\n",
       "                               SARIMAX Results                                \n",
       "==============================================================================\n",
       "Dep. Variable:                 Ventas   No. Observations:                  365\n",
       "Model:                 ARIMA(1, 0, 0)   Log Likelihood               -3401.112\n",
       "Date:                Thu, 19 Sep 2024   AIC                           6808.224\n",
       "Time:                        16:44:24   BIC                           6819.923\n",
       "Sample:                    01-01-2023   HQIC                          6812.873\n",
       "                         - 12-31-2023                                         \n",
       "Covariance Type:                  opg                                         \n",
       "==============================================================================\n",
       "                 coef    std err          z      P>|z|      [0.025      0.975]\n",
       "------------------------------------------------------------------------------\n",
       "const       1.883e+04    271.223     69.431      0.000    1.83e+04    1.94e+04\n",
       "ar.L1          0.4780      0.047     10.197      0.000       0.386       0.570\n",
       "sigma2      7.203e+06   5.11e+05     14.110      0.000     6.2e+06     8.2e+06\n",
       "===================================================================================\n",
       "Ljung-Box (L1) (Q):                   0.04   Jarque-Bera (JB):                 6.03\n",
       "Prob(Q):                              0.83   Prob(JB):                         0.05\n",
       "Heteroskedasticity (H):               0.95   Skew:                            -0.29\n",
       "Prob(H) (two-sided):                  0.78   Kurtosis:                         3.24\n",
       "===================================================================================\n",
       "\n",
       "Warnings:\n",
       "[1] Covariance matrix calculated using the outer product of gradients (complex-step).\n",
       "\"\"\""
      ]
     },
     "execution_count": 316,
     "metadata": {},
     "output_type": "execute_result"
    }
   ],
   "source": [
    "ventas_results_ar_1.summary()"
   ]
  },
  {
   "cell_type": "markdown",
   "id": "cbedf509",
   "metadata": {},
   "source": [
    "## Modelo MA(1)"
   ]
  },
  {
   "cell_type": "code",
   "execution_count": 317,
   "id": "28cfc5ad",
   "metadata": {},
   "outputs": [
    {
     "name": "stderr",
     "output_type": "stream",
     "text": [
      "C:\\ProgramData\\Anaconda3\\lib\\site-packages\\statsmodels\\tsa\\base\\tsa_model.py:471: ValueWarning: No frequency information was provided, so inferred frequency D will be used.\n",
      "  self._init_dates(dates, freq)\n",
      "C:\\ProgramData\\Anaconda3\\lib\\site-packages\\statsmodels\\tsa\\base\\tsa_model.py:471: ValueWarning: No frequency information was provided, so inferred frequency D will be used.\n",
      "  self._init_dates(dates, freq)\n",
      "C:\\ProgramData\\Anaconda3\\lib\\site-packages\\statsmodels\\tsa\\base\\tsa_model.py:471: ValueWarning: No frequency information was provided, so inferred frequency D will be used.\n",
      "  self._init_dates(dates, freq)\n"
     ]
    }
   ],
   "source": [
    "ventas_model_ma_1 = ARIMA(df_ventas['Ventas'], order=(0,0,1))"
   ]
  },
  {
   "cell_type": "code",
   "execution_count": 318,
   "id": "d95e6772",
   "metadata": {},
   "outputs": [],
   "source": [
    "ventas_results_ma_1 = ventas_model_ma_1.fit()"
   ]
  },
  {
   "cell_type": "code",
   "execution_count": 319,
   "id": "cb51b51c",
   "metadata": {},
   "outputs": [
    {
     "data": {
      "text/html": [
       "<table class=\"simpletable\">\n",
       "<caption>SARIMAX Results</caption>\n",
       "<tr>\n",
       "  <th>Dep. Variable:</th>        <td>Ventas</td>      <th>  No. Observations:  </th>    <td>365</td>   \n",
       "</tr>\n",
       "<tr>\n",
       "  <th>Model:</th>            <td>ARIMA(0, 0, 1)</td>  <th>  Log Likelihood     </th> <td>-3410.235</td>\n",
       "</tr>\n",
       "<tr>\n",
       "  <th>Date:</th>            <td>Thu, 19 Sep 2024</td> <th>  AIC                </th> <td>6826.470</td> \n",
       "</tr>\n",
       "<tr>\n",
       "  <th>Time:</th>                <td>16:44:24</td>     <th>  BIC                </th> <td>6838.169</td> \n",
       "</tr>\n",
       "<tr>\n",
       "  <th>Sample:</th>             <td>01-01-2023</td>    <th>  HQIC               </th> <td>6831.119</td> \n",
       "</tr>\n",
       "<tr>\n",
       "  <th></th>                   <td>- 12-31-2023</td>   <th>                     </th>     <td> </td>    \n",
       "</tr>\n",
       "<tr>\n",
       "  <th>Covariance Type:</th>        <td>opg</td>       <th>                     </th>     <td> </td>    \n",
       "</tr>\n",
       "</table>\n",
       "<table class=\"simpletable\">\n",
       "<tr>\n",
       "     <td></td>       <th>coef</th>     <th>std err</th>      <th>z</th>      <th>P>|z|</th>  <th>[0.025</th>    <th>0.975]</th>  \n",
       "</tr>\n",
       "<tr>\n",
       "  <th>const</th>  <td> 1.883e+04</td> <td>  206.839</td> <td>   91.043</td> <td> 0.000</td> <td> 1.84e+04</td> <td> 1.92e+04</td>\n",
       "</tr>\n",
       "<tr>\n",
       "  <th>ma.L1</th>  <td>    0.3969</td> <td>    0.049</td> <td>    8.112</td> <td> 0.000</td> <td>    0.301</td> <td>    0.493</td>\n",
       "</tr>\n",
       "<tr>\n",
       "  <th>sigma2</th> <td>  7.65e+06</td> <td> 5.44e+05</td> <td>   14.059</td> <td> 0.000</td> <td> 6.58e+06</td> <td> 8.72e+06</td>\n",
       "</tr>\n",
       "</table>\n",
       "<table class=\"simpletable\">\n",
       "<tr>\n",
       "  <th>Ljung-Box (L1) (Q):</th>     <td>3.02</td> <th>  Jarque-Bera (JB):  </th> <td>7.05</td> \n",
       "</tr>\n",
       "<tr>\n",
       "  <th>Prob(Q):</th>                <td>0.08</td> <th>  Prob(JB):          </th> <td>0.03</td> \n",
       "</tr>\n",
       "<tr>\n",
       "  <th>Heteroskedasticity (H):</th> <td>0.87</td> <th>  Skew:              </th> <td>-0.31</td>\n",
       "</tr>\n",
       "<tr>\n",
       "  <th>Prob(H) (two-sided):</th>    <td>0.44</td> <th>  Kurtosis:          </th> <td>3.28</td> \n",
       "</tr>\n",
       "</table><br/><br/>Warnings:<br/>[1] Covariance matrix calculated using the outer product of gradients (complex-step)."
      ],
      "text/plain": [
       "<class 'statsmodels.iolib.summary.Summary'>\n",
       "\"\"\"\n",
       "                               SARIMAX Results                                \n",
       "==============================================================================\n",
       "Dep. Variable:                 Ventas   No. Observations:                  365\n",
       "Model:                 ARIMA(0, 0, 1)   Log Likelihood               -3410.235\n",
       "Date:                Thu, 19 Sep 2024   AIC                           6826.470\n",
       "Time:                        16:44:24   BIC                           6838.169\n",
       "Sample:                    01-01-2023   HQIC                          6831.119\n",
       "                         - 12-31-2023                                         \n",
       "Covariance Type:                  opg                                         \n",
       "==============================================================================\n",
       "                 coef    std err          z      P>|z|      [0.025      0.975]\n",
       "------------------------------------------------------------------------------\n",
       "const       1.883e+04    206.839     91.043      0.000    1.84e+04    1.92e+04\n",
       "ma.L1          0.3969      0.049      8.112      0.000       0.301       0.493\n",
       "sigma2       7.65e+06   5.44e+05     14.059      0.000    6.58e+06    8.72e+06\n",
       "===================================================================================\n",
       "Ljung-Box (L1) (Q):                   3.02   Jarque-Bera (JB):                 7.05\n",
       "Prob(Q):                              0.08   Prob(JB):                         0.03\n",
       "Heteroskedasticity (H):               0.87   Skew:                            -0.31\n",
       "Prob(H) (two-sided):                  0.44   Kurtosis:                         3.28\n",
       "===================================================================================\n",
       "\n",
       "Warnings:\n",
       "[1] Covariance matrix calculated using the outer product of gradients (complex-step).\n",
       "\"\"\""
      ]
     },
     "execution_count": 319,
     "metadata": {},
     "output_type": "execute_result"
    }
   ],
   "source": [
    "ventas_results_ma_1.summary()"
   ]
  },
  {
   "cell_type": "markdown",
   "id": "d7033356",
   "metadata": {},
   "source": [
    "## Modelos AR más complejos"
   ]
  },
  {
   "cell_type": "code",
   "execution_count": 320,
   "id": "c86f5495",
   "metadata": {},
   "outputs": [
    {
     "name": "stderr",
     "output_type": "stream",
     "text": [
      "C:\\ProgramData\\Anaconda3\\lib\\site-packages\\statsmodels\\tsa\\base\\tsa_model.py:471: ValueWarning: No frequency information was provided, so inferred frequency D will be used.\n",
      "  self._init_dates(dates, freq)\n",
      "C:\\ProgramData\\Anaconda3\\lib\\site-packages\\statsmodels\\tsa\\base\\tsa_model.py:471: ValueWarning: No frequency information was provided, so inferred frequency D will be used.\n",
      "  self._init_dates(dates, freq)\n",
      "C:\\ProgramData\\Anaconda3\\lib\\site-packages\\statsmodels\\tsa\\base\\tsa_model.py:471: ValueWarning: No frequency information was provided, so inferred frequency D will be used.\n",
      "  self._init_dates(dates, freq)\n"
     ]
    }
   ],
   "source": [
    "ventas_model_ar_9 = ARIMA(df_ventas['Ventas'], order=(9,0,0))"
   ]
  },
  {
   "cell_type": "code",
   "execution_count": 321,
   "id": "c3f26aba",
   "metadata": {},
   "outputs": [],
   "source": [
    "ventas_results_ar_9 = ventas_model_ar_9.fit()"
   ]
  },
  {
   "cell_type": "code",
   "execution_count": 322,
   "id": "c70606e4",
   "metadata": {},
   "outputs": [
    {
     "data": {
      "text/html": [
       "<table class=\"simpletable\">\n",
       "<caption>SARIMAX Results</caption>\n",
       "<tr>\n",
       "  <th>Dep. Variable:</th>        <td>Ventas</td>      <th>  No. Observations:  </th>    <td>365</td>   \n",
       "</tr>\n",
       "<tr>\n",
       "  <th>Model:</th>            <td>ARIMA(9, 0, 0)</td>  <th>  Log Likelihood     </th> <td>-3352.434</td>\n",
       "</tr>\n",
       "<tr>\n",
       "  <th>Date:</th>            <td>Thu, 19 Sep 2024</td> <th>  AIC                </th> <td>6726.868</td> \n",
       "</tr>\n",
       "<tr>\n",
       "  <th>Time:</th>                <td>16:44:25</td>     <th>  BIC                </th> <td>6769.767</td> \n",
       "</tr>\n",
       "<tr>\n",
       "  <th>Sample:</th>             <td>01-01-2023</td>    <th>  HQIC               </th> <td>6743.916</td> \n",
       "</tr>\n",
       "<tr>\n",
       "  <th></th>                   <td>- 12-31-2023</td>   <th>                     </th>     <td> </td>    \n",
       "</tr>\n",
       "<tr>\n",
       "  <th>Covariance Type:</th>        <td>opg</td>       <th>                     </th>     <td> </td>    \n",
       "</tr>\n",
       "</table>\n",
       "<table class=\"simpletable\">\n",
       "<tr>\n",
       "     <td></td>       <th>coef</th>     <th>std err</th>      <th>z</th>      <th>P>|z|</th>  <th>[0.025</th>    <th>0.975]</th>  \n",
       "</tr>\n",
       "<tr>\n",
       "  <th>const</th>  <td> 1.883e+04</td> <td>  618.163</td> <td>   30.463</td> <td> 0.000</td> <td> 1.76e+04</td> <td>    2e+04</td>\n",
       "</tr>\n",
       "<tr>\n",
       "  <th>ar.L1</th>  <td>    0.2951</td> <td>    0.056</td> <td>    5.270</td> <td> 0.000</td> <td>    0.185</td> <td>    0.405</td>\n",
       "</tr>\n",
       "<tr>\n",
       "  <th>ar.L2</th>  <td>    0.0236</td> <td>    0.055</td> <td>    0.427</td> <td> 0.670</td> <td>   -0.085</td> <td>    0.132</td>\n",
       "</tr>\n",
       "<tr>\n",
       "  <th>ar.L3</th>  <td>   -0.0986</td> <td>    0.056</td> <td>   -1.771</td> <td> 0.077</td> <td>   -0.208</td> <td>    0.011</td>\n",
       "</tr>\n",
       "<tr>\n",
       "  <th>ar.L4</th>  <td>   -0.0050</td> <td>    0.047</td> <td>   -0.108</td> <td> 0.914</td> <td>   -0.096</td> <td>    0.086</td>\n",
       "</tr>\n",
       "<tr>\n",
       "  <th>ar.L5</th>  <td>    0.0886</td> <td>    0.054</td> <td>    1.648</td> <td> 0.099</td> <td>   -0.017</td> <td>    0.194</td>\n",
       "</tr>\n",
       "<tr>\n",
       "  <th>ar.L6</th>  <td>    0.1808</td> <td>    0.057</td> <td>    3.146</td> <td> 0.002</td> <td>    0.068</td> <td>    0.294</td>\n",
       "</tr>\n",
       "<tr>\n",
       "  <th>ar.L7</th>  <td>    0.2363</td> <td>    0.053</td> <td>    4.495</td> <td> 0.000</td> <td>    0.133</td> <td>    0.339</td>\n",
       "</tr>\n",
       "<tr>\n",
       "  <th>ar.L8</th>  <td>    0.1342</td> <td>    0.055</td> <td>    2.423</td> <td> 0.015</td> <td>    0.026</td> <td>    0.243</td>\n",
       "</tr>\n",
       "<tr>\n",
       "  <th>ar.L9</th>  <td>   -0.0398</td> <td>    0.054</td> <td>   -0.741</td> <td> 0.459</td> <td>   -0.145</td> <td>    0.065</td>\n",
       "</tr>\n",
       "<tr>\n",
       "  <th>sigma2</th> <td> 5.479e+06</td> <td> 3.97e+05</td> <td>   13.814</td> <td> 0.000</td> <td>  4.7e+06</td> <td> 6.26e+06</td>\n",
       "</tr>\n",
       "</table>\n",
       "<table class=\"simpletable\">\n",
       "<tr>\n",
       "  <th>Ljung-Box (L1) (Q):</th>     <td>0.03</td> <th>  Jarque-Bera (JB):  </th> <td>1.86</td> \n",
       "</tr>\n",
       "<tr>\n",
       "  <th>Prob(Q):</th>                <td>0.86</td> <th>  Prob(JB):          </th> <td>0.40</td> \n",
       "</tr>\n",
       "<tr>\n",
       "  <th>Heteroskedasticity (H):</th> <td>1.03</td> <th>  Skew:              </th> <td>-0.16</td>\n",
       "</tr>\n",
       "<tr>\n",
       "  <th>Prob(H) (two-sided):</th>    <td>0.88</td> <th>  Kurtosis:          </th> <td>3.15</td> \n",
       "</tr>\n",
       "</table><br/><br/>Warnings:<br/>[1] Covariance matrix calculated using the outer product of gradients (complex-step)."
      ],
      "text/plain": [
       "<class 'statsmodels.iolib.summary.Summary'>\n",
       "\"\"\"\n",
       "                               SARIMAX Results                                \n",
       "==============================================================================\n",
       "Dep. Variable:                 Ventas   No. Observations:                  365\n",
       "Model:                 ARIMA(9, 0, 0)   Log Likelihood               -3352.434\n",
       "Date:                Thu, 19 Sep 2024   AIC                           6726.868\n",
       "Time:                        16:44:25   BIC                           6769.767\n",
       "Sample:                    01-01-2023   HQIC                          6743.916\n",
       "                         - 12-31-2023                                         \n",
       "Covariance Type:                  opg                                         \n",
       "==============================================================================\n",
       "                 coef    std err          z      P>|z|      [0.025      0.975]\n",
       "------------------------------------------------------------------------------\n",
       "const       1.883e+04    618.163     30.463      0.000    1.76e+04       2e+04\n",
       "ar.L1          0.2951      0.056      5.270      0.000       0.185       0.405\n",
       "ar.L2          0.0236      0.055      0.427      0.670      -0.085       0.132\n",
       "ar.L3         -0.0986      0.056     -1.771      0.077      -0.208       0.011\n",
       "ar.L4         -0.0050      0.047     -0.108      0.914      -0.096       0.086\n",
       "ar.L5          0.0886      0.054      1.648      0.099      -0.017       0.194\n",
       "ar.L6          0.1808      0.057      3.146      0.002       0.068       0.294\n",
       "ar.L7          0.2363      0.053      4.495      0.000       0.133       0.339\n",
       "ar.L8          0.1342      0.055      2.423      0.015       0.026       0.243\n",
       "ar.L9         -0.0398      0.054     -0.741      0.459      -0.145       0.065\n",
       "sigma2      5.479e+06   3.97e+05     13.814      0.000     4.7e+06    6.26e+06\n",
       "===================================================================================\n",
       "Ljung-Box (L1) (Q):                   0.03   Jarque-Bera (JB):                 1.86\n",
       "Prob(Q):                              0.86   Prob(JB):                         0.40\n",
       "Heteroskedasticity (H):               1.03   Skew:                            -0.16\n",
       "Prob(H) (two-sided):                  0.88   Kurtosis:                         3.15\n",
       "===================================================================================\n",
       "\n",
       "Warnings:\n",
       "[1] Covariance matrix calculated using the outer product of gradients (complex-step).\n",
       "\"\"\""
      ]
     },
     "execution_count": 322,
     "metadata": {},
     "output_type": "execute_result"
    }
   ],
   "source": [
    "ventas_results_ar_9.summary()"
   ]
  },
  {
   "cell_type": "markdown",
   "id": "db46f90a",
   "metadata": {},
   "source": [
    "## Pruebas LLR"
   ]
  },
  {
   "cell_type": "code",
   "execution_count": 323,
   "id": "1dc63143",
   "metadata": {},
   "outputs": [
    {
     "data": {
      "text/plain": [
       "1.4802051717264324e-17"
      ]
     },
     "execution_count": 323,
     "metadata": {},
     "output_type": "execute_result"
    }
   ],
   "source": [
    "LLR_test(ventas_model_ar_1, ventas_model_ar_9,DF=8)"
   ]
  },
  {
   "cell_type": "markdown",
   "id": "5083cd73",
   "metadata": {},
   "source": [
    "## Modelos MA de mayor complejidad"
   ]
  },
  {
   "cell_type": "code",
   "execution_count": 324,
   "id": "b44c3225",
   "metadata": {},
   "outputs": [
    {
     "name": "stderr",
     "output_type": "stream",
     "text": [
      "C:\\ProgramData\\Anaconda3\\lib\\site-packages\\statsmodels\\tsa\\base\\tsa_model.py:471: ValueWarning: No frequency information was provided, so inferred frequency D will be used.\n",
      "  self._init_dates(dates, freq)\n",
      "C:\\ProgramData\\Anaconda3\\lib\\site-packages\\statsmodels\\tsa\\base\\tsa_model.py:471: ValueWarning: No frequency information was provided, so inferred frequency D will be used.\n",
      "  self._init_dates(dates, freq)\n",
      "C:\\ProgramData\\Anaconda3\\lib\\site-packages\\statsmodels\\tsa\\base\\tsa_model.py:471: ValueWarning: No frequency information was provided, so inferred frequency D will be used.\n",
      "  self._init_dates(dates, freq)\n"
     ]
    }
   ],
   "source": [
    "ventas_model_ma_8 = ARIMA(df_ventas['Ventas'], order=(0,0,8))"
   ]
  },
  {
   "cell_type": "code",
   "execution_count": 325,
   "id": "976d553b",
   "metadata": {},
   "outputs": [],
   "source": [
    "ventas_results_ma_8 = ventas_model_ma_8.fit()"
   ]
  },
  {
   "cell_type": "code",
   "execution_count": 326,
   "id": "b82a061b",
   "metadata": {},
   "outputs": [
    {
     "data": {
      "text/html": [
       "<table class=\"simpletable\">\n",
       "<caption>SARIMAX Results</caption>\n",
       "<tr>\n",
       "  <th>Dep. Variable:</th>        <td>Ventas</td>      <th>  No. Observations:  </th>    <td>365</td>   \n",
       "</tr>\n",
       "<tr>\n",
       "  <th>Model:</th>            <td>ARIMA(0, 0, 8)</td>  <th>  Log Likelihood     </th> <td>-3377.607</td>\n",
       "</tr>\n",
       "<tr>\n",
       "  <th>Date:</th>            <td>Thu, 19 Sep 2024</td> <th>  AIC                </th> <td>6775.215</td> \n",
       "</tr>\n",
       "<tr>\n",
       "  <th>Time:</th>                <td>16:44:26</td>     <th>  BIC                </th> <td>6814.214</td> \n",
       "</tr>\n",
       "<tr>\n",
       "  <th>Sample:</th>             <td>01-01-2023</td>    <th>  HQIC               </th> <td>6790.713</td> \n",
       "</tr>\n",
       "<tr>\n",
       "  <th></th>                   <td>- 12-31-2023</td>   <th>                     </th>     <td> </td>    \n",
       "</tr>\n",
       "<tr>\n",
       "  <th>Covariance Type:</th>        <td>opg</td>       <th>                     </th>     <td> </td>    \n",
       "</tr>\n",
       "</table>\n",
       "<table class=\"simpletable\">\n",
       "<tr>\n",
       "     <td></td>       <th>coef</th>     <th>std err</th>      <th>z</th>      <th>P>|z|</th>  <th>[0.025</th>    <th>0.975]</th>  \n",
       "</tr>\n",
       "<tr>\n",
       "  <th>const</th>  <td> 1.883e+04</td> <td>  366.804</td> <td>   51.339</td> <td> 0.000</td> <td> 1.81e+04</td> <td> 1.96e+04</td>\n",
       "</tr>\n",
       "<tr>\n",
       "  <th>ma.L1</th>  <td>    0.3669</td> <td>    0.066</td> <td>    5.549</td> <td> 0.000</td> <td>    0.237</td> <td>    0.496</td>\n",
       "</tr>\n",
       "<tr>\n",
       "  <th>ma.L2</th>  <td>    0.1689</td> <td>    0.068</td> <td>    2.496</td> <td> 0.013</td> <td>    0.036</td> <td>    0.302</td>\n",
       "</tr>\n",
       "<tr>\n",
       "  <th>ma.L3</th>  <td>   -0.0275</td> <td>    0.068</td> <td>   -0.402</td> <td> 0.688</td> <td>   -0.162</td> <td>    0.107</td>\n",
       "</tr>\n",
       "<tr>\n",
       "  <th>ma.L4</th>  <td>   -0.0063</td> <td>    0.064</td> <td>   -0.099</td> <td> 0.921</td> <td>   -0.131</td> <td>    0.118</td>\n",
       "</tr>\n",
       "<tr>\n",
       "  <th>ma.L5</th>  <td>    0.1171</td> <td>    0.068</td> <td>    1.725</td> <td> 0.084</td> <td>   -0.016</td> <td>    0.250</td>\n",
       "</tr>\n",
       "<tr>\n",
       "  <th>ma.L6</th>  <td>    0.2301</td> <td>    0.070</td> <td>    3.299</td> <td> 0.001</td> <td>    0.093</td> <td>    0.367</td>\n",
       "</tr>\n",
       "<tr>\n",
       "  <th>ma.L7</th>  <td>    0.2725</td> <td>    0.058</td> <td>    4.737</td> <td> 0.000</td> <td>    0.160</td> <td>    0.385</td>\n",
       "</tr>\n",
       "<tr>\n",
       "  <th>ma.L8</th>  <td>    0.1827</td> <td>    0.060</td> <td>    3.059</td> <td> 0.002</td> <td>    0.066</td> <td>    0.300</td>\n",
       "</tr>\n",
       "<tr>\n",
       "  <th>sigma2</th> <td> 7.564e+06</td> <td> 6.83e+05</td> <td>   11.069</td> <td> 0.000</td> <td> 6.22e+06</td> <td>  8.9e+06</td>\n",
       "</tr>\n",
       "</table>\n",
       "<table class=\"simpletable\">\n",
       "<tr>\n",
       "  <th>Ljung-Box (L1) (Q):</th>     <td>0.03</td> <th>  Jarque-Bera (JB):  </th> <td>2.31</td> \n",
       "</tr>\n",
       "<tr>\n",
       "  <th>Prob(Q):</th>                <td>0.87</td> <th>  Prob(JB):          </th> <td>0.31</td> \n",
       "</tr>\n",
       "<tr>\n",
       "  <th>Heteroskedasticity (H):</th> <td>0.97</td> <th>  Skew:              </th> <td>-0.19</td>\n",
       "</tr>\n",
       "<tr>\n",
       "  <th>Prob(H) (two-sided):</th>    <td>0.88</td> <th>  Kurtosis:          </th> <td>3.10</td> \n",
       "</tr>\n",
       "</table><br/><br/>Warnings:<br/>[1] Covariance matrix calculated using the outer product of gradients (complex-step)."
      ],
      "text/plain": [
       "<class 'statsmodels.iolib.summary.Summary'>\n",
       "\"\"\"\n",
       "                               SARIMAX Results                                \n",
       "==============================================================================\n",
       "Dep. Variable:                 Ventas   No. Observations:                  365\n",
       "Model:                 ARIMA(0, 0, 8)   Log Likelihood               -3377.607\n",
       "Date:                Thu, 19 Sep 2024   AIC                           6775.215\n",
       "Time:                        16:44:26   BIC                           6814.214\n",
       "Sample:                    01-01-2023   HQIC                          6790.713\n",
       "                         - 12-31-2023                                         \n",
       "Covariance Type:                  opg                                         \n",
       "==============================================================================\n",
       "                 coef    std err          z      P>|z|      [0.025      0.975]\n",
       "------------------------------------------------------------------------------\n",
       "const       1.883e+04    366.804     51.339      0.000    1.81e+04    1.96e+04\n",
       "ma.L1          0.3669      0.066      5.549      0.000       0.237       0.496\n",
       "ma.L2          0.1689      0.068      2.496      0.013       0.036       0.302\n",
       "ma.L3         -0.0275      0.068     -0.402      0.688      -0.162       0.107\n",
       "ma.L4         -0.0063      0.064     -0.099      0.921      -0.131       0.118\n",
       "ma.L5          0.1171      0.068      1.725      0.084      -0.016       0.250\n",
       "ma.L6          0.2301      0.070      3.299      0.001       0.093       0.367\n",
       "ma.L7          0.2725      0.058      4.737      0.000       0.160       0.385\n",
       "ma.L8          0.1827      0.060      3.059      0.002       0.066       0.300\n",
       "sigma2      7.564e+06   6.83e+05     11.069      0.000    6.22e+06     8.9e+06\n",
       "===================================================================================\n",
       "Ljung-Box (L1) (Q):                   0.03   Jarque-Bera (JB):                 2.31\n",
       "Prob(Q):                              0.87   Prob(JB):                         0.31\n",
       "Heteroskedasticity (H):               0.97   Skew:                            -0.19\n",
       "Prob(H) (two-sided):                  0.88   Kurtosis:                         3.10\n",
       "===================================================================================\n",
       "\n",
       "Warnings:\n",
       "[1] Covariance matrix calculated using the outer product of gradients (complex-step).\n",
       "\"\"\""
      ]
     },
     "execution_count": 326,
     "metadata": {},
     "output_type": "execute_result"
    }
   ],
   "source": [
    "ventas_results_ma_8.summary()"
   ]
  },
  {
   "cell_type": "markdown",
   "id": "09fe3c06",
   "metadata": {},
   "source": [
    "## Modelo ARMA (1,1)"
   ]
  },
  {
   "cell_type": "code",
   "execution_count": 327,
   "id": "707a4645",
   "metadata": {},
   "outputs": [
    {
     "name": "stderr",
     "output_type": "stream",
     "text": [
      "C:\\ProgramData\\Anaconda3\\lib\\site-packages\\statsmodels\\tsa\\base\\tsa_model.py:471: ValueWarning: No frequency information was provided, so inferred frequency D will be used.\n",
      "  self._init_dates(dates, freq)\n",
      "C:\\ProgramData\\Anaconda3\\lib\\site-packages\\statsmodels\\tsa\\base\\tsa_model.py:471: ValueWarning: No frequency information was provided, so inferred frequency D will be used.\n",
      "  self._init_dates(dates, freq)\n",
      "C:\\ProgramData\\Anaconda3\\lib\\site-packages\\statsmodels\\tsa\\base\\tsa_model.py:471: ValueWarning: No frequency information was provided, so inferred frequency D will be used.\n",
      "  self._init_dates(dates, freq)\n"
     ]
    }
   ],
   "source": [
    "ventas_model_ar_1_ma_1 = ARIMA(df_ventas['Ventas'], order=(1,0,1))"
   ]
  },
  {
   "cell_type": "code",
   "execution_count": 328,
   "id": "a7b47f59",
   "metadata": {},
   "outputs": [],
   "source": [
    "ventas_results_ar_1_ma_1 = ventas_model_ar_1_ma_1.fit()"
   ]
  },
  {
   "cell_type": "code",
   "execution_count": 329,
   "id": "9daad260",
   "metadata": {},
   "outputs": [
    {
     "data": {
      "text/html": [
       "<table class=\"simpletable\">\n",
       "<caption>SARIMAX Results</caption>\n",
       "<tr>\n",
       "  <th>Dep. Variable:</th>        <td>Ventas</td>      <th>  No. Observations:  </th>    <td>365</td>   \n",
       "</tr>\n",
       "<tr>\n",
       "  <th>Model:</th>            <td>ARIMA(1, 0, 1)</td>  <th>  Log Likelihood     </th> <td>-3400.992</td>\n",
       "</tr>\n",
       "<tr>\n",
       "  <th>Date:</th>            <td>Thu, 19 Sep 2024</td> <th>  AIC                </th> <td>6809.984</td> \n",
       "</tr>\n",
       "<tr>\n",
       "  <th>Time:</th>                <td>16:44:26</td>     <th>  BIC                </th> <td>6825.583</td> \n",
       "</tr>\n",
       "<tr>\n",
       "  <th>Sample:</th>             <td>01-01-2023</td>    <th>  HQIC               </th> <td>6816.183</td> \n",
       "</tr>\n",
       "<tr>\n",
       "  <th></th>                   <td>- 12-31-2023</td>   <th>                     </th>     <td> </td>    \n",
       "</tr>\n",
       "<tr>\n",
       "  <th>Covariance Type:</th>        <td>opg</td>       <th>                     </th>     <td> </td>    \n",
       "</tr>\n",
       "</table>\n",
       "<table class=\"simpletable\">\n",
       "<tr>\n",
       "     <td></td>       <th>coef</th>     <th>std err</th>      <th>z</th>      <th>P>|z|</th>  <th>[0.025</th>    <th>0.975]</th>  \n",
       "</tr>\n",
       "<tr>\n",
       "  <th>const</th>  <td> 1.883e+04</td> <td>  269.040</td> <td>   69.995</td> <td> 0.000</td> <td> 1.83e+04</td> <td> 1.94e+04</td>\n",
       "</tr>\n",
       "<tr>\n",
       "  <th>ar.L1</th>  <td>    0.4446</td> <td>    0.104</td> <td>    4.259</td> <td> 0.000</td> <td>    0.240</td> <td>    0.649</td>\n",
       "</tr>\n",
       "<tr>\n",
       "  <th>ma.L1</th>  <td>    0.0436</td> <td>    0.120</td> <td>    0.362</td> <td> 0.717</td> <td>   -0.192</td> <td>    0.279</td>\n",
       "</tr>\n",
       "<tr>\n",
       "  <th>sigma2</th> <td> 7.254e+06</td> <td> 5.19e+05</td> <td>   13.964</td> <td> 0.000</td> <td> 6.24e+06</td> <td> 8.27e+06</td>\n",
       "</tr>\n",
       "</table>\n",
       "<table class=\"simpletable\">\n",
       "<tr>\n",
       "  <th>Ljung-Box (L1) (Q):</th>     <td>0.00</td> <th>  Jarque-Bera (JB):  </th> <td>6.34</td> \n",
       "</tr>\n",
       "<tr>\n",
       "  <th>Prob(Q):</th>                <td>0.98</td> <th>  Prob(JB):          </th> <td>0.04</td> \n",
       "</tr>\n",
       "<tr>\n",
       "  <th>Heteroskedasticity (H):</th> <td>0.95</td> <th>  Skew:              </th> <td>-0.30</td>\n",
       "</tr>\n",
       "<tr>\n",
       "  <th>Prob(H) (two-sided):</th>    <td>0.78</td> <th>  Kurtosis:          </th> <td>3.25</td> \n",
       "</tr>\n",
       "</table><br/><br/>Warnings:<br/>[1] Covariance matrix calculated using the outer product of gradients (complex-step)."
      ],
      "text/plain": [
       "<class 'statsmodels.iolib.summary.Summary'>\n",
       "\"\"\"\n",
       "                               SARIMAX Results                                \n",
       "==============================================================================\n",
       "Dep. Variable:                 Ventas   No. Observations:                  365\n",
       "Model:                 ARIMA(1, 0, 1)   Log Likelihood               -3400.992\n",
       "Date:                Thu, 19 Sep 2024   AIC                           6809.984\n",
       "Time:                        16:44:26   BIC                           6825.583\n",
       "Sample:                    01-01-2023   HQIC                          6816.183\n",
       "                         - 12-31-2023                                         \n",
       "Covariance Type:                  opg                                         \n",
       "==============================================================================\n",
       "                 coef    std err          z      P>|z|      [0.025      0.975]\n",
       "------------------------------------------------------------------------------\n",
       "const       1.883e+04    269.040     69.995      0.000    1.83e+04    1.94e+04\n",
       "ar.L1          0.4446      0.104      4.259      0.000       0.240       0.649\n",
       "ma.L1          0.0436      0.120      0.362      0.717      -0.192       0.279\n",
       "sigma2      7.254e+06   5.19e+05     13.964      0.000    6.24e+06    8.27e+06\n",
       "===================================================================================\n",
       "Ljung-Box (L1) (Q):                   0.00   Jarque-Bera (JB):                 6.34\n",
       "Prob(Q):                              0.98   Prob(JB):                         0.04\n",
       "Heteroskedasticity (H):               0.95   Skew:                            -0.30\n",
       "Prob(H) (two-sided):                  0.78   Kurtosis:                         3.25\n",
       "===================================================================================\n",
       "\n",
       "Warnings:\n",
       "[1] Covariance matrix calculated using the outer product of gradients (complex-step).\n",
       "\"\"\""
      ]
     },
     "execution_count": 329,
     "metadata": {},
     "output_type": "execute_result"
    }
   ],
   "source": [
    "ventas_results_ar_1_ma_1.summary()"
   ]
  },
  {
   "cell_type": "markdown",
   "id": "b199f5e3",
   "metadata": {},
   "source": [
    "## Modelos ARMA de mayor complejidad"
   ]
  },
  {
   "cell_type": "code",
   "execution_count": 330,
   "id": "43f5e0a7",
   "metadata": {},
   "outputs": [
    {
     "name": "stderr",
     "output_type": "stream",
     "text": [
      "C:\\ProgramData\\Anaconda3\\lib\\site-packages\\statsmodels\\tsa\\base\\tsa_model.py:471: ValueWarning: No frequency information was provided, so inferred frequency D will be used.\n",
      "  self._init_dates(dates, freq)\n",
      "C:\\ProgramData\\Anaconda3\\lib\\site-packages\\statsmodels\\tsa\\base\\tsa_model.py:471: ValueWarning: No frequency information was provided, so inferred frequency D will be used.\n",
      "  self._init_dates(dates, freq)\n",
      "C:\\ProgramData\\Anaconda3\\lib\\site-packages\\statsmodels\\tsa\\base\\tsa_model.py:471: ValueWarning: No frequency information was provided, so inferred frequency D will be used.\n",
      "  self._init_dates(dates, freq)\n"
     ]
    }
   ],
   "source": [
    "ventas_model_ar_1_ma_7 = ARIMA(df_ventas['Ventas'], order=(1,0,7))"
   ]
  },
  {
   "cell_type": "code",
   "execution_count": 331,
   "id": "9c092eaf",
   "metadata": {},
   "outputs": [],
   "source": [
    "ventas_results_ar_1_ma_7 = ventas_model_ar_1_ma_7.fit()"
   ]
  },
  {
   "cell_type": "code",
   "execution_count": 332,
   "id": "dec9dcb8",
   "metadata": {},
   "outputs": [
    {
     "data": {
      "text/html": [
       "<table class=\"simpletable\">\n",
       "<caption>SARIMAX Results</caption>\n",
       "<tr>\n",
       "  <th>Dep. Variable:</th>        <td>Ventas</td>      <th>  No. Observations:  </th>    <td>365</td>   \n",
       "</tr>\n",
       "<tr>\n",
       "  <th>Model:</th>            <td>ARIMA(1, 0, 7)</td>  <th>  Log Likelihood     </th> <td>-3374.416</td>\n",
       "</tr>\n",
       "<tr>\n",
       "  <th>Date:</th>            <td>Thu, 19 Sep 2024</td> <th>  AIC                </th> <td>6768.831</td> \n",
       "</tr>\n",
       "<tr>\n",
       "  <th>Time:</th>                <td>16:44:26</td>     <th>  BIC                </th> <td>6807.830</td> \n",
       "</tr>\n",
       "<tr>\n",
       "  <th>Sample:</th>             <td>01-01-2023</td>    <th>  HQIC               </th> <td>6784.330</td> \n",
       "</tr>\n",
       "<tr>\n",
       "  <th></th>                   <td>- 12-31-2023</td>   <th>                     </th>     <td> </td>    \n",
       "</tr>\n",
       "<tr>\n",
       "  <th>Covariance Type:</th>        <td>opg</td>       <th>                     </th>     <td> </td>    \n",
       "</tr>\n",
       "</table>\n",
       "<table class=\"simpletable\">\n",
       "<tr>\n",
       "     <td></td>       <th>coef</th>     <th>std err</th>      <th>z</th>      <th>P>|z|</th>  <th>[0.025</th>    <th>0.975]</th>  \n",
       "</tr>\n",
       "<tr>\n",
       "  <th>const</th>  <td> 1.883e+04</td> <td>  412.390</td> <td>   45.664</td> <td> 0.000</td> <td>  1.8e+04</td> <td> 1.96e+04</td>\n",
       "</tr>\n",
       "<tr>\n",
       "  <th>ar.L1</th>  <td>    0.8355</td> <td>    0.065</td> <td>   12.930</td> <td> 0.000</td> <td>    0.709</td> <td>    0.962</td>\n",
       "</tr>\n",
       "<tr>\n",
       "  <th>ma.L1</th>  <td>   -0.4519</td> <td>    0.087</td> <td>   -5.180</td> <td> 0.000</td> <td>   -0.623</td> <td>   -0.281</td>\n",
       "</tr>\n",
       "<tr>\n",
       "  <th>ma.L2</th>  <td>   -0.1416</td> <td>    0.059</td> <td>   -2.408</td> <td> 0.016</td> <td>   -0.257</td> <td>   -0.026</td>\n",
       "</tr>\n",
       "<tr>\n",
       "  <th>ma.L3</th>  <td>   -0.1753</td> <td>    0.061</td> <td>   -2.875</td> <td> 0.004</td> <td>   -0.295</td> <td>   -0.056</td>\n",
       "</tr>\n",
       "<tr>\n",
       "  <th>ma.L4</th>  <td>   -0.0313</td> <td>    0.053</td> <td>   -0.594</td> <td> 0.553</td> <td>   -0.135</td> <td>    0.072</td>\n",
       "</tr>\n",
       "<tr>\n",
       "  <th>ma.L5</th>  <td>    0.0779</td> <td>    0.063</td> <td>    1.237</td> <td> 0.216</td> <td>   -0.045</td> <td>    0.201</td>\n",
       "</tr>\n",
       "<tr>\n",
       "  <th>ma.L6</th>  <td>    0.1331</td> <td>    0.065</td> <td>    2.058</td> <td> 0.040</td> <td>    0.006</td> <td>    0.260</td>\n",
       "</tr>\n",
       "<tr>\n",
       "  <th>ma.L7</th>  <td>    0.1082</td> <td>    0.066</td> <td>    1.641</td> <td> 0.101</td> <td>   -0.021</td> <td>    0.237</td>\n",
       "</tr>\n",
       "<tr>\n",
       "  <th>sigma2</th> <td> 6.292e+06</td> <td> 4.57e+05</td> <td>   13.756</td> <td> 0.000</td> <td>  5.4e+06</td> <td> 7.19e+06</td>\n",
       "</tr>\n",
       "</table>\n",
       "<table class=\"simpletable\">\n",
       "<tr>\n",
       "  <th>Ljung-Box (L1) (Q):</th>     <td>0.03</td> <th>  Jarque-Bera (JB):  </th> <td>4.24</td> \n",
       "</tr>\n",
       "<tr>\n",
       "  <th>Prob(Q):</th>                <td>0.86</td> <th>  Prob(JB):          </th> <td>0.12</td> \n",
       "</tr>\n",
       "<tr>\n",
       "  <th>Heteroskedasticity (H):</th> <td>0.97</td> <th>  Skew:              </th> <td>-0.22</td>\n",
       "</tr>\n",
       "<tr>\n",
       "  <th>Prob(H) (two-sided):</th>    <td>0.86</td> <th>  Kurtosis:          </th> <td>3.29</td> \n",
       "</tr>\n",
       "</table><br/><br/>Warnings:<br/>[1] Covariance matrix calculated using the outer product of gradients (complex-step).<br/>[2] Covariance matrix is singular or near-singular, with condition number 6.36e+14. Standard errors may be unstable."
      ],
      "text/plain": [
       "<class 'statsmodels.iolib.summary.Summary'>\n",
       "\"\"\"\n",
       "                               SARIMAX Results                                \n",
       "==============================================================================\n",
       "Dep. Variable:                 Ventas   No. Observations:                  365\n",
       "Model:                 ARIMA(1, 0, 7)   Log Likelihood               -3374.416\n",
       "Date:                Thu, 19 Sep 2024   AIC                           6768.831\n",
       "Time:                        16:44:26   BIC                           6807.830\n",
       "Sample:                    01-01-2023   HQIC                          6784.330\n",
       "                         - 12-31-2023                                         \n",
       "Covariance Type:                  opg                                         \n",
       "==============================================================================\n",
       "                 coef    std err          z      P>|z|      [0.025      0.975]\n",
       "------------------------------------------------------------------------------\n",
       "const       1.883e+04    412.390     45.664      0.000     1.8e+04    1.96e+04\n",
       "ar.L1          0.8355      0.065     12.930      0.000       0.709       0.962\n",
       "ma.L1         -0.4519      0.087     -5.180      0.000      -0.623      -0.281\n",
       "ma.L2         -0.1416      0.059     -2.408      0.016      -0.257      -0.026\n",
       "ma.L3         -0.1753      0.061     -2.875      0.004      -0.295      -0.056\n",
       "ma.L4         -0.0313      0.053     -0.594      0.553      -0.135       0.072\n",
       "ma.L5          0.0779      0.063      1.237      0.216      -0.045       0.201\n",
       "ma.L6          0.1331      0.065      2.058      0.040       0.006       0.260\n",
       "ma.L7          0.1082      0.066      1.641      0.101      -0.021       0.237\n",
       "sigma2      6.292e+06   4.57e+05     13.756      0.000     5.4e+06    7.19e+06\n",
       "===================================================================================\n",
       "Ljung-Box (L1) (Q):                   0.03   Jarque-Bera (JB):                 4.24\n",
       "Prob(Q):                              0.86   Prob(JB):                         0.12\n",
       "Heteroskedasticity (H):               0.97   Skew:                            -0.22\n",
       "Prob(H) (two-sided):                  0.86   Kurtosis:                         3.29\n",
       "===================================================================================\n",
       "\n",
       "Warnings:\n",
       "[1] Covariance matrix calculated using the outer product of gradients (complex-step).\n",
       "[2] Covariance matrix is singular or near-singular, with condition number 6.36e+14. Standard errors may be unstable.\n",
       "\"\"\""
      ]
     },
     "execution_count": 332,
     "metadata": {},
     "output_type": "execute_result"
    }
   ],
   "source": [
    "ventas_results_ar_1_ma_7.summary()"
   ]
  },
  {
   "cell_type": "markdown",
   "id": "16fde910",
   "metadata": {},
   "source": [
    "## Modelo ARIMA(1,1,1)"
   ]
  },
  {
   "cell_type": "code",
   "execution_count": 333,
   "id": "4cec83d1",
   "metadata": {},
   "outputs": [
    {
     "name": "stderr",
     "output_type": "stream",
     "text": [
      "C:\\ProgramData\\Anaconda3\\lib\\site-packages\\statsmodels\\tsa\\base\\tsa_model.py:471: ValueWarning: No frequency information was provided, so inferred frequency D will be used.\n",
      "  self._init_dates(dates, freq)\n",
      "C:\\ProgramData\\Anaconda3\\lib\\site-packages\\statsmodels\\tsa\\base\\tsa_model.py:471: ValueWarning: No frequency information was provided, so inferred frequency D will be used.\n",
      "  self._init_dates(dates, freq)\n",
      "C:\\ProgramData\\Anaconda3\\lib\\site-packages\\statsmodels\\tsa\\base\\tsa_model.py:471: ValueWarning: No frequency information was provided, so inferred frequency D will be used.\n",
      "  self._init_dates(dates, freq)\n"
     ]
    }
   ],
   "source": [
    "ventas_model_ar_1_i_1_ma_1 = ARIMA(df_ventas['Ventas'], order=(1,1,1))"
   ]
  },
  {
   "cell_type": "code",
   "execution_count": 334,
   "id": "3c768946",
   "metadata": {},
   "outputs": [],
   "source": [
    "ventas_results_ar_1_i_1_ma_1 = ventas_model_ar_1_i_1_ma_1.fit()"
   ]
  },
  {
   "cell_type": "code",
   "execution_count": 335,
   "id": "018088e2",
   "metadata": {},
   "outputs": [
    {
     "data": {
      "text/html": [
       "<table class=\"simpletable\">\n",
       "<caption>SARIMAX Results</caption>\n",
       "<tr>\n",
       "  <th>Dep. Variable:</th>        <td>Ventas</td>      <th>  No. Observations:  </th>    <td>365</td>   \n",
       "</tr>\n",
       "<tr>\n",
       "  <th>Model:</th>            <td>ARIMA(1, 1, 1)</td>  <th>  Log Likelihood     </th> <td>-3387.176</td>\n",
       "</tr>\n",
       "<tr>\n",
       "  <th>Date:</th>            <td>Thu, 19 Sep 2024</td> <th>  AIC                </th> <td>6780.352</td> \n",
       "</tr>\n",
       "<tr>\n",
       "  <th>Time:</th>                <td>16:44:27</td>     <th>  BIC                </th> <td>6792.043</td> \n",
       "</tr>\n",
       "<tr>\n",
       "  <th>Sample:</th>             <td>01-01-2023</td>    <th>  HQIC               </th> <td>6784.999</td> \n",
       "</tr>\n",
       "<tr>\n",
       "  <th></th>                   <td>- 12-31-2023</td>   <th>                     </th>     <td> </td>    \n",
       "</tr>\n",
       "<tr>\n",
       "  <th>Covariance Type:</th>        <td>opg</td>       <th>                     </th>     <td> </td>    \n",
       "</tr>\n",
       "</table>\n",
       "<table class=\"simpletable\">\n",
       "<tr>\n",
       "     <td></td>       <th>coef</th>     <th>std err</th>      <th>z</th>      <th>P>|z|</th>  <th>[0.025</th>    <th>0.975]</th>  \n",
       "</tr>\n",
       "<tr>\n",
       "  <th>ar.L1</th>  <td>    0.3500</td> <td>    0.058</td> <td>    6.029</td> <td> 0.000</td> <td>    0.236</td> <td>    0.464</td>\n",
       "</tr>\n",
       "<tr>\n",
       "  <th>ma.L1</th>  <td>   -0.9465</td> <td>    0.021</td> <td>  -44.607</td> <td> 0.000</td> <td>   -0.988</td> <td>   -0.905</td>\n",
       "</tr>\n",
       "<tr>\n",
       "  <th>sigma2</th> <td> 7.022e+06</td> <td> 4.95e+05</td> <td>   14.180</td> <td> 0.000</td> <td> 6.05e+06</td> <td> 7.99e+06</td>\n",
       "</tr>\n",
       "</table>\n",
       "<table class=\"simpletable\">\n",
       "<tr>\n",
       "  <th>Ljung-Box (L1) (Q):</th>     <td>0.74</td> <th>  Jarque-Bera (JB):  </th> <td>5.07</td> \n",
       "</tr>\n",
       "<tr>\n",
       "  <th>Prob(Q):</th>                <td>0.39</td> <th>  Prob(JB):          </th> <td>0.08</td> \n",
       "</tr>\n",
       "<tr>\n",
       "  <th>Heteroskedasticity (H):</th> <td>0.96</td> <th>  Skew:              </th> <td>-0.25</td>\n",
       "</tr>\n",
       "<tr>\n",
       "  <th>Prob(H) (two-sided):</th>    <td>0.84</td> <th>  Kurtosis:          </th> <td>3.29</td> \n",
       "</tr>\n",
       "</table><br/><br/>Warnings:<br/>[1] Covariance matrix calculated using the outer product of gradients (complex-step)."
      ],
      "text/plain": [
       "<class 'statsmodels.iolib.summary.Summary'>\n",
       "\"\"\"\n",
       "                               SARIMAX Results                                \n",
       "==============================================================================\n",
       "Dep. Variable:                 Ventas   No. Observations:                  365\n",
       "Model:                 ARIMA(1, 1, 1)   Log Likelihood               -3387.176\n",
       "Date:                Thu, 19 Sep 2024   AIC                           6780.352\n",
       "Time:                        16:44:27   BIC                           6792.043\n",
       "Sample:                    01-01-2023   HQIC                          6784.999\n",
       "                         - 12-31-2023                                         \n",
       "Covariance Type:                  opg                                         \n",
       "==============================================================================\n",
       "                 coef    std err          z      P>|z|      [0.025      0.975]\n",
       "------------------------------------------------------------------------------\n",
       "ar.L1          0.3500      0.058      6.029      0.000       0.236       0.464\n",
       "ma.L1         -0.9465      0.021    -44.607      0.000      -0.988      -0.905\n",
       "sigma2      7.022e+06   4.95e+05     14.180      0.000    6.05e+06    7.99e+06\n",
       "===================================================================================\n",
       "Ljung-Box (L1) (Q):                   0.74   Jarque-Bera (JB):                 5.07\n",
       "Prob(Q):                              0.39   Prob(JB):                         0.08\n",
       "Heteroskedasticity (H):               0.96   Skew:                            -0.25\n",
       "Prob(H) (two-sided):                  0.84   Kurtosis:                         3.29\n",
       "===================================================================================\n",
       "\n",
       "Warnings:\n",
       "[1] Covariance matrix calculated using the outer product of gradients (complex-step).\n",
       "\"\"\""
      ]
     },
     "execution_count": 335,
     "metadata": {},
     "output_type": "execute_result"
    }
   ],
   "source": [
    "ventas_results_ar_1_i_1_ma_1.summary()"
   ]
  },
  {
   "cell_type": "markdown",
   "id": "f3571c54",
   "metadata": {},
   "source": [
    "# Datos macroeconómicos de EEUU: PBI real"
   ]
  },
  {
   "cell_type": "markdown",
   "id": "a6b8cdb9",
   "metadata": {},
   "source": [
    "## Estacionaridad"
   ]
  },
  {
   "cell_type": "code",
   "execution_count": 336,
   "id": "a3964218",
   "metadata": {},
   "outputs": [
    {
     "data": {
      "text/plain": [
       "(1.7504627967647133,\n",
       " 0.9982455372335032,\n",
       " 12,\n",
       " 190,\n",
       " {'1%': -3.4652439354133255,\n",
       "  '5%': -2.8768752281673717,\n",
       "  '10%': -2.574944653739612},\n",
       " 2034.517123668382)"
      ]
     },
     "execution_count": 336,
     "metadata": {},
     "output_type": "execute_result"
    }
   ],
   "source": [
    "sts.adfuller(df_macrodata['realgdp'])"
   ]
  },
  {
   "cell_type": "markdown",
   "id": "bc1e736c",
   "metadata": {},
   "source": [
    "## PACF y ACF"
   ]
  },
  {
   "cell_type": "code",
   "execution_count": 337,
   "id": "b448c06b",
   "metadata": {},
   "outputs": [
    {
     "name": "stderr",
     "output_type": "stream",
     "text": [
      "C:\\ProgramData\\Anaconda3\\lib\\site-packages\\statsmodels\\graphics\\tsaplots.py:348: FutureWarning: The default method 'yw' can produce PACF values outside of the [-1,1] interval. After 0.13, the default will change tounadjusted Yule-Walker ('ywm'). You can use this method now by setting method='ywm'.\n",
      "  warnings.warn(\n"
     ]
    },
    {
     "data": {
      "image/png": "[encoded data removed]",
      "text/plain": [
       "<Figure size 640x480 with 1 Axes>"
      ]
     },
     "metadata": {},
     "output_type": "display_data"
    }
   ],
   "source": [
    "sgt.plot_pacf(df_macrodata['realgdp'], zero = False, lags = 40)\n",
    "plt.title(\"PACF for GDP\", size = 20)\n",
    "plt.show()"
   ]
  },
  {
   "cell_type": "code",
   "execution_count": 338,
   "id": "bb2c4a03",
   "metadata": {},
   "outputs": [
    {
     "data": {
      "image/png": "[encoded data removed]",
      "text/plain": [
       "<Figure size 640x480 with 1 Axes>"
      ]
     },
     "metadata": {},
     "output_type": "display_data"
    }
   ],
   "source": [
    "sgt.plot_acf(df_macrodata['realgdp'], zero = False, lags = 40)\n",
    "plt.title(\"ACF for GDP\", size = 20)\n",
    "plt.show()"
   ]
  },
  {
   "cell_type": "markdown",
   "id": "0b9bf7a5",
   "metadata": {},
   "source": [
    "## Modelo AR(1)"
   ]
  },
  {
   "cell_type": "code",
   "execution_count": 339,
   "id": "11aab5ca",
   "metadata": {},
   "outputs": [
    {
     "name": "stderr",
     "output_type": "stream",
     "text": [
      "C:\\ProgramData\\Anaconda3\\lib\\site-packages\\statsmodels\\tsa\\base\\tsa_model.py:471: ValueWarning: No frequency information was provided, so inferred frequency Q-DEC will be used.\n",
      "  self._init_dates(dates, freq)\n",
      "C:\\ProgramData\\Anaconda3\\lib\\site-packages\\statsmodels\\tsa\\base\\tsa_model.py:471: ValueWarning: No frequency information was provided, so inferred frequency Q-DEC will be used.\n",
      "  self._init_dates(dates, freq)\n",
      "C:\\ProgramData\\Anaconda3\\lib\\site-packages\\statsmodels\\tsa\\base\\tsa_model.py:471: ValueWarning: No frequency information was provided, so inferred frequency Q-DEC will be used.\n",
      "  self._init_dates(dates, freq)\n"
     ]
    }
   ],
   "source": [
    "realgdp_model_ar_1 = ARIMA(df_macrodata['realgdp'], order=(1,0,0))"
   ]
  },
  {
   "cell_type": "code",
   "execution_count": 340,
   "id": "46528dfe",
   "metadata": {},
   "outputs": [
    {
     "name": "stderr",
     "output_type": "stream",
     "text": [
      "C:\\ProgramData\\Anaconda3\\lib\\site-packages\\statsmodels\\tsa\\statespace\\sarimax.py:966: UserWarning: Non-stationary starting autoregressive parameters found. Using zeros as starting parameters.\n",
      "  warn('Non-stationary starting autoregressive parameters'\n"
     ]
    }
   ],
   "source": [
    "realgdp_results_ar_1 = realgdp_model_ar_1.fit()"
   ]
  },
  {
   "cell_type": "code",
   "execution_count": 341,
   "id": "ce578282",
   "metadata": {},
   "outputs": [
    {
     "data": {
      "text/html": [
       "<table class=\"simpletable\">\n",
       "<caption>SARIMAX Results</caption>\n",
       "<tr>\n",
       "  <th>Dep. Variable:</th>        <td>realgdp</td>     <th>  No. Observations:  </th>    <td>203</td>   \n",
       "</tr>\n",
       "<tr>\n",
       "  <th>Model:</th>            <td>ARIMA(1, 0, 0)</td>  <th>  Log Likelihood     </th> <td>-1178.136</td>\n",
       "</tr>\n",
       "<tr>\n",
       "  <th>Date:</th>            <td>Thu, 19 Sep 2024</td> <th>  AIC                </th> <td>2362.272</td> \n",
       "</tr>\n",
       "<tr>\n",
       "  <th>Time:</th>                <td>16:44:28</td>     <th>  BIC                </th> <td>2372.212</td> \n",
       "</tr>\n",
       "<tr>\n",
       "  <th>Sample:</th>             <td>03-31-1959</td>    <th>  HQIC               </th> <td>2366.293</td> \n",
       "</tr>\n",
       "<tr>\n",
       "  <th></th>                   <td>- 09-30-2009</td>   <th>                     </th>     <td> </td>    \n",
       "</tr>\n",
       "<tr>\n",
       "  <th>Covariance Type:</th>        <td>opg</td>       <th>                     </th>     <td> </td>    \n",
       "</tr>\n",
       "</table>\n",
       "<table class=\"simpletable\">\n",
       "<tr>\n",
       "     <td></td>       <th>coef</th>     <th>std err</th>      <th>z</th>      <th>P>|z|</th>  <th>[0.025</th>    <th>0.975]</th>  \n",
       "</tr>\n",
       "<tr>\n",
       "  <th>const</th>  <td> 7221.2951</td> <td> 8771.072</td> <td>    0.823</td> <td> 0.410</td> <td>-9969.690</td> <td> 2.44e+04</td>\n",
       "</tr>\n",
       "<tr>\n",
       "  <th>ar.L1</th>  <td>    0.9999</td> <td>    0.002</td> <td>  586.821</td> <td> 0.000</td> <td>    0.997</td> <td>    1.003</td>\n",
       "</tr>\n",
       "<tr>\n",
       "  <th>sigma2</th> <td> 6173.3228</td> <td>  651.203</td> <td>    9.480</td> <td> 0.000</td> <td> 4896.988</td> <td> 7449.658</td>\n",
       "</tr>\n",
       "</table>\n",
       "<table class=\"simpletable\">\n",
       "<tr>\n",
       "  <th>Ljung-Box (L1) (Q):</th>     <td>33.17</td> <th>  Jarque-Bera (JB):  </th> <td>71.28</td>\n",
       "</tr>\n",
       "<tr>\n",
       "  <th>Prob(Q):</th>                <td>0.00</td>  <th>  Prob(JB):          </th> <td>0.00</td> \n",
       "</tr>\n",
       "<tr>\n",
       "  <th>Heteroskedasticity (H):</th> <td>3.72</td>  <th>  Skew:              </th> <td>-0.66</td>\n",
       "</tr>\n",
       "<tr>\n",
       "  <th>Prob(H) (two-sided):</th>    <td>0.00</td>  <th>  Kurtosis:          </th> <td>5.59</td> \n",
       "</tr>\n",
       "</table><br/><br/>Warnings:<br/>[1] Covariance matrix calculated using the outer product of gradients (complex-step)."
      ],
      "text/plain": [
       "<class 'statsmodels.iolib.summary.Summary'>\n",
       "\"\"\"\n",
       "                               SARIMAX Results                                \n",
       "==============================================================================\n",
       "Dep. Variable:                realgdp   No. Observations:                  203\n",
       "Model:                 ARIMA(1, 0, 0)   Log Likelihood               -1178.136\n",
       "Date:                Thu, 19 Sep 2024   AIC                           2362.272\n",
       "Time:                        16:44:28   BIC                           2372.212\n",
       "Sample:                    03-31-1959   HQIC                          2366.293\n",
       "                         - 09-30-2009                                         \n",
       "Covariance Type:                  opg                                         \n",
       "==============================================================================\n",
       "                 coef    std err          z      P>|z|      [0.025      0.975]\n",
       "------------------------------------------------------------------------------\n",
       "const       7221.2951   8771.072      0.823      0.410   -9969.690    2.44e+04\n",
       "ar.L1          0.9999      0.002    586.821      0.000       0.997       1.003\n",
       "sigma2      6173.3228    651.203      9.480      0.000    4896.988    7449.658\n",
       "===================================================================================\n",
       "Ljung-Box (L1) (Q):                  33.17   Jarque-Bera (JB):                71.28\n",
       "Prob(Q):                              0.00   Prob(JB):                         0.00\n",
       "Heteroskedasticity (H):               3.72   Skew:                            -0.66\n",
       "Prob(H) (two-sided):                  0.00   Kurtosis:                         5.59\n",
       "===================================================================================\n",
       "\n",
       "Warnings:\n",
       "[1] Covariance matrix calculated using the outer product of gradients (complex-step).\n",
       "\"\"\""
      ]
     },
     "execution_count": 341,
     "metadata": {},
     "output_type": "execute_result"
    }
   ],
   "source": [
    "realgdp_results_ar_1.summary()"
   ]
  },
  {
   "cell_type": "markdown",
   "id": "e544320f",
   "metadata": {},
   "source": [
    "## Modelo MA(1)"
   ]
  },
  {
   "cell_type": "code",
   "execution_count": 342,
   "id": "17a33d12",
   "metadata": {},
   "outputs": [
    {
     "name": "stderr",
     "output_type": "stream",
     "text": [
      "C:\\ProgramData\\Anaconda3\\lib\\site-packages\\statsmodels\\tsa\\base\\tsa_model.py:471: ValueWarning: No frequency information was provided, so inferred frequency Q-DEC will be used.\n",
      "  self._init_dates(dates, freq)\n",
      "C:\\ProgramData\\Anaconda3\\lib\\site-packages\\statsmodels\\tsa\\base\\tsa_model.py:471: ValueWarning: No frequency information was provided, so inferred frequency Q-DEC will be used.\n",
      "  self._init_dates(dates, freq)\n",
      "C:\\ProgramData\\Anaconda3\\lib\\site-packages\\statsmodels\\tsa\\base\\tsa_model.py:471: ValueWarning: No frequency information was provided, so inferred frequency Q-DEC will be used.\n",
      "  self._init_dates(dates, freq)\n"
     ]
    }
   ],
   "source": [
    "realgdp_model_ma_1 = ARIMA(df_macrodata['realgdp'], order=(0,0,1))"
   ]
  },
  {
   "cell_type": "code",
   "execution_count": 343,
   "id": "c577b14a",
   "metadata": {},
   "outputs": [],
   "source": [
    "realgdp_results_ma_1 = realgdp_model_ma_1.fit()"
   ]
  },
  {
   "cell_type": "code",
   "execution_count": 344,
   "id": "7c86a345",
   "metadata": {},
   "outputs": [
    {
     "data": {
      "text/html": [
       "<table class=\"simpletable\">\n",
       "<caption>SARIMAX Results</caption>\n",
       "<tr>\n",
       "  <th>Dep. Variable:</th>        <td>realgdp</td>     <th>  No. Observations:  </th>    <td>203</td>   \n",
       "</tr>\n",
       "<tr>\n",
       "  <th>Model:</th>            <td>ARIMA(0, 0, 1)</td>  <th>  Log Likelihood     </th> <td>-1790.681</td>\n",
       "</tr>\n",
       "<tr>\n",
       "  <th>Date:</th>            <td>Thu, 19 Sep 2024</td> <th>  AIC                </th> <td>3587.361</td> \n",
       "</tr>\n",
       "<tr>\n",
       "  <th>Time:</th>                <td>16:44:28</td>     <th>  BIC                </th> <td>3597.301</td> \n",
       "</tr>\n",
       "<tr>\n",
       "  <th>Sample:</th>             <td>03-31-1959</td>    <th>  HQIC               </th> <td>3591.382</td> \n",
       "</tr>\n",
       "<tr>\n",
       "  <th></th>                   <td>- 09-30-2009</td>   <th>                     </th>     <td> </td>    \n",
       "</tr>\n",
       "<tr>\n",
       "  <th>Covariance Type:</th>        <td>opg</td>       <th>                     </th>     <td> </td>    \n",
       "</tr>\n",
       "</table>\n",
       "<table class=\"simpletable\">\n",
       "<tr>\n",
       "     <td></td>       <th>coef</th>     <th>std err</th>      <th>z</th>      <th>P>|z|</th>  <th>[0.025</th>    <th>0.975]</th>  \n",
       "</tr>\n",
       "<tr>\n",
       "  <th>const</th>  <td> 7222.1316</td> <td>  247.357</td> <td>   29.197</td> <td> 0.000</td> <td> 6737.321</td> <td> 7706.943</td>\n",
       "</tr>\n",
       "<tr>\n",
       "  <th>ma.L1</th>  <td>    1.0000</td> <td>    0.150</td> <td>    6.645</td> <td> 0.000</td> <td>    0.705</td> <td>    1.295</td>\n",
       "</tr>\n",
       "<tr>\n",
       "  <th>sigma2</th> <td>  2.63e+06</td> <td> 2.31e-05</td> <td> 1.14e+11</td> <td> 0.000</td> <td> 2.63e+06</td> <td> 2.63e+06</td>\n",
       "</tr>\n",
       "</table>\n",
       "<table class=\"simpletable\">\n",
       "<tr>\n",
       "  <th>Ljung-Box (L1) (Q):</th>     <td>192.55</td> <th>  Jarque-Bera (JB):  </th> <td>13.93</td>\n",
       "</tr>\n",
       "<tr>\n",
       "  <th>Prob(Q):</th>                 <td>0.00</td>  <th>  Prob(JB):          </th> <td>0.00</td> \n",
       "</tr>\n",
       "<tr>\n",
       "  <th>Heteroskedasticity (H):</th>  <td>1.52</td>  <th>  Skew:              </th> <td>0.43</td> \n",
       "</tr>\n",
       "<tr>\n",
       "  <th>Prob(H) (two-sided):</th>     <td>0.09</td>  <th>  Kurtosis:          </th> <td>2.05</td> \n",
       "</tr>\n",
       "</table><br/><br/>Warnings:<br/>[1] Covariance matrix calculated using the outer product of gradients (complex-step).<br/>[2] Covariance matrix is singular or near-singular, with condition number 3.19e+29. Standard errors may be unstable."
      ],
      "text/plain": [
       "<class 'statsmodels.iolib.summary.Summary'>\n",
       "\"\"\"\n",
       "                               SARIMAX Results                                \n",
       "==============================================================================\n",
       "Dep. Variable:                realgdp   No. Observations:                  203\n",
       "Model:                 ARIMA(0, 0, 1)   Log Likelihood               -1790.681\n",
       "Date:                Thu, 19 Sep 2024   AIC                           3587.361\n",
       "Time:                        16:44:28   BIC                           3597.301\n",
       "Sample:                    03-31-1959   HQIC                          3591.382\n",
       "                         - 09-30-2009                                         \n",
       "Covariance Type:                  opg                                         \n",
       "==============================================================================\n",
       "                 coef    std err          z      P>|z|      [0.025      0.975]\n",
       "------------------------------------------------------------------------------\n",
       "const       7222.1316    247.357     29.197      0.000    6737.321    7706.943\n",
       "ma.L1          1.0000      0.150      6.645      0.000       0.705       1.295\n",
       "sigma2       2.63e+06   2.31e-05   1.14e+11      0.000    2.63e+06    2.63e+06\n",
       "===================================================================================\n",
       "Ljung-Box (L1) (Q):                 192.55   Jarque-Bera (JB):                13.93\n",
       "Prob(Q):                              0.00   Prob(JB):                         0.00\n",
       "Heteroskedasticity (H):               1.52   Skew:                             0.43\n",
       "Prob(H) (two-sided):                  0.09   Kurtosis:                         2.05\n",
       "===================================================================================\n",
       "\n",
       "Warnings:\n",
       "[1] Covariance matrix calculated using the outer product of gradients (complex-step).\n",
       "[2] Covariance matrix is singular or near-singular, with condition number 3.19e+29. Standard errors may be unstable.\n",
       "\"\"\""
      ]
     },
     "execution_count": 344,
     "metadata": {},
     "output_type": "execute_result"
    }
   ],
   "source": [
    "realgdp_results_ma_1.summary()"
   ]
  },
  {
   "cell_type": "markdown",
   "id": "b7f9f9da",
   "metadata": {},
   "source": [
    "## Modelos MA de mayor complejidad"
   ]
  },
  {
   "cell_type": "code",
   "execution_count": 345,
   "id": "939cfbb0",
   "metadata": {},
   "outputs": [
    {
     "name": "stderr",
     "output_type": "stream",
     "text": [
      "C:\\ProgramData\\Anaconda3\\lib\\site-packages\\statsmodels\\tsa\\base\\tsa_model.py:471: ValueWarning: No frequency information was provided, so inferred frequency Q-DEC will be used.\n",
      "  self._init_dates(dates, freq)\n",
      "C:\\ProgramData\\Anaconda3\\lib\\site-packages\\statsmodels\\tsa\\base\\tsa_model.py:471: ValueWarning: No frequency information was provided, so inferred frequency Q-DEC will be used.\n",
      "  self._init_dates(dates, freq)\n",
      "C:\\ProgramData\\Anaconda3\\lib\\site-packages\\statsmodels\\tsa\\base\\tsa_model.py:471: ValueWarning: No frequency information was provided, so inferred frequency Q-DEC will be used.\n",
      "  self._init_dates(dates, freq)\n"
     ]
    }
   ],
   "source": [
    "realgdp_model_ma_19 = ARIMA(df_macrodata['realgdp'], order=(0,0,19))"
   ]
  },
  {
   "cell_type": "code",
   "execution_count": 346,
   "id": "2360b151",
   "metadata": {},
   "outputs": [
    {
     "name": "stderr",
     "output_type": "stream",
     "text": [
      "C:\\ProgramData\\Anaconda3\\lib\\site-packages\\statsmodels\\tsa\\statespace\\sarimax.py:978: UserWarning: Non-invertible starting MA parameters found. Using zeros as starting parameters.\n",
      "  warn('Non-invertible starting MA parameters found.'\n",
      "C:\\ProgramData\\Anaconda3\\lib\\site-packages\\statsmodels\\base\\model.py:604: ConvergenceWarning: Maximum Likelihood optimization failed to converge. Check mle_retvals\n",
      "  warnings.warn(\"Maximum Likelihood optimization failed to \"\n"
     ]
    }
   ],
   "source": [
    "realgdp_results_ma_19 = realgdp_model_ma_19.fit()"
   ]
  },
  {
   "cell_type": "code",
   "execution_count": 347,
   "id": "bf171cb0",
   "metadata": {},
   "outputs": [
    {
     "data": {
      "text/html": [
       "<table class=\"simpletable\">\n",
       "<caption>SARIMAX Results</caption>\n",
       "<tr>\n",
       "  <th>Dep. Variable:</th>        <td>realgdp</td>     <th>  No. Observations:  </th>    <td>203</td>   \n",
       "</tr>\n",
       "<tr>\n",
       "  <th>Model:</th>            <td>ARIMA(0, 0, 19)</td> <th>  Log Likelihood     </th> <td>-1208.056</td>\n",
       "</tr>\n",
       "<tr>\n",
       "  <th>Date:</th>            <td>Thu, 19 Sep 2024</td> <th>  AIC                </th> <td>2458.113</td> \n",
       "</tr>\n",
       "<tr>\n",
       "  <th>Time:</th>                <td>16:44:34</td>     <th>  BIC                </th> <td>2527.690</td> \n",
       "</tr>\n",
       "<tr>\n",
       "  <th>Sample:</th>             <td>03-31-1959</td>    <th>  HQIC               </th> <td>2486.261</td> \n",
       "</tr>\n",
       "<tr>\n",
       "  <th></th>                   <td>- 09-30-2009</td>   <th>                     </th>     <td> </td>    \n",
       "</tr>\n",
       "<tr>\n",
       "  <th>Covariance Type:</th>        <td>opg</td>       <th>                     </th>     <td> </td>    \n",
       "</tr>\n",
       "</table>\n",
       "<table class=\"simpletable\">\n",
       "<tr>\n",
       "     <td></td>       <th>coef</th>     <th>std err</th>      <th>z</th>      <th>P>|z|</th>  <th>[0.025</th>    <th>0.975]</th>  \n",
       "</tr>\n",
       "<tr>\n",
       "  <th>const</th>  <td> 7221.3320</td> <td>  493.497</td> <td>   14.633</td> <td> 0.000</td> <td> 6254.095</td> <td> 8188.569</td>\n",
       "</tr>\n",
       "<tr>\n",
       "  <th>ma.L1</th>  <td>    1.6298</td> <td>  166.942</td> <td>    0.010</td> <td> 0.992</td> <td> -325.571</td> <td>  328.831</td>\n",
       "</tr>\n",
       "<tr>\n",
       "  <th>ma.L2</th>  <td>    2.5580</td> <td>   46.479</td> <td>    0.055</td> <td> 0.956</td> <td>  -88.539</td> <td>   93.655</td>\n",
       "</tr>\n",
       "<tr>\n",
       "  <th>ma.L3</th>  <td>    3.5639</td> <td>   45.666</td> <td>    0.078</td> <td> 0.938</td> <td>  -85.941</td> <td>   93.069</td>\n",
       "</tr>\n",
       "<tr>\n",
       "  <th>ma.L4</th>  <td>    4.6320</td> <td>    3.254</td> <td>    1.424</td> <td> 0.155</td> <td>   -1.745</td> <td>   11.009</td>\n",
       "</tr>\n",
       "<tr>\n",
       "  <th>ma.L5</th>  <td>    5.4986</td> <td>  181.830</td> <td>    0.030</td> <td> 0.976</td> <td> -350.881</td> <td>  361.879</td>\n",
       "</tr>\n",
       "<tr>\n",
       "  <th>ma.L6</th>  <td>    6.1969</td> <td>   67.641</td> <td>    0.092</td> <td> 0.927</td> <td> -126.378</td> <td>  138.771</td>\n",
       "</tr>\n",
       "<tr>\n",
       "  <th>ma.L7</th>  <td>    6.8640</td> <td>   11.423</td> <td>    0.601</td> <td> 0.548</td> <td>  -15.525</td> <td>   29.253</td>\n",
       "</tr>\n",
       "<tr>\n",
       "  <th>ma.L8</th>  <td>    7.1294</td> <td>   19.016</td> <td>    0.375</td> <td> 0.708</td> <td>  -30.140</td> <td>   44.399</td>\n",
       "</tr>\n",
       "<tr>\n",
       "  <th>ma.L9</th>  <td>    7.1527</td> <td>  119.155</td> <td>    0.060</td> <td> 0.952</td> <td> -226.387</td> <td>  240.693</td>\n",
       "</tr>\n",
       "<tr>\n",
       "  <th>ma.L10</th> <td>    7.1710</td> <td>   98.153</td> <td>    0.073</td> <td> 0.942</td> <td> -185.206</td> <td>  199.548</td>\n",
       "</tr>\n",
       "<tr>\n",
       "  <th>ma.L11</th> <td>    6.9878</td> <td>    4.106</td> <td>    1.702</td> <td> 0.089</td> <td>   -1.061</td> <td>   15.036</td>\n",
       "</tr>\n",
       "<tr>\n",
       "  <th>ma.L12</th> <td>    6.4128</td> <td>   63.432</td> <td>    0.101</td> <td> 0.919</td> <td> -117.913</td> <td>  130.738</td>\n",
       "</tr>\n",
       "<tr>\n",
       "  <th>ma.L13</th> <td>    5.5018</td> <td>   56.999</td> <td>    0.097</td> <td> 0.923</td> <td> -106.214</td> <td>  117.217</td>\n",
       "</tr>\n",
       "<tr>\n",
       "  <th>ma.L14</th> <td>    4.6431</td> <td>  149.343</td> <td>    0.031</td> <td> 0.975</td> <td> -288.063</td> <td>  297.349</td>\n",
       "</tr>\n",
       "<tr>\n",
       "  <th>ma.L15</th> <td>    3.6512</td> <td>    4.440</td> <td>    0.822</td> <td> 0.411</td> <td>   -5.051</td> <td>   12.354</td>\n",
       "</tr>\n",
       "<tr>\n",
       "  <th>ma.L16</th> <td>    2.5228</td> <td>   90.463</td> <td>    0.028</td> <td> 0.978</td> <td> -174.782</td> <td>  179.828</td>\n",
       "</tr>\n",
       "<tr>\n",
       "  <th>ma.L17</th> <td>    1.6980</td> <td>   39.540</td> <td>    0.043</td> <td> 0.966</td> <td>  -75.799</td> <td>   79.195</td>\n",
       "</tr>\n",
       "<tr>\n",
       "  <th>ma.L18</th> <td>    0.8528</td> <td>   95.331</td> <td>    0.009</td> <td> 0.993</td> <td> -185.992</td> <td>  187.698</td>\n",
       "</tr>\n",
       "<tr>\n",
       "  <th>ma.L19</th> <td>    0.5710</td> <td>    0.124</td> <td>    4.597</td> <td> 0.000</td> <td>    0.328</td> <td>    0.814</td>\n",
       "</tr>\n",
       "<tr>\n",
       "  <th>sigma2</th> <td> 7571.7783</td> <td>    0.051</td> <td> 1.49e+05</td> <td> 0.000</td> <td> 7571.679</td> <td> 7571.878</td>\n",
       "</tr>\n",
       "</table>\n",
       "<table class=\"simpletable\">\n",
       "<tr>\n",
       "  <th>Ljung-Box (L1) (Q):</th>     <td>0.27</td> <th>  Jarque-Bera (JB):  </th> <td>12.06</td>\n",
       "</tr>\n",
       "<tr>\n",
       "  <th>Prob(Q):</th>                <td>0.60</td> <th>  Prob(JB):          </th> <td>0.00</td> \n",
       "</tr>\n",
       "<tr>\n",
       "  <th>Heteroskedasticity (H):</th> <td>2.41</td> <th>  Skew:              </th> <td>0.55</td> \n",
       "</tr>\n",
       "<tr>\n",
       "  <th>Prob(H) (two-sided):</th>    <td>0.00</td> <th>  Kurtosis:          </th> <td>3.48</td> \n",
       "</tr>\n",
       "</table><br/><br/>Warnings:<br/>[1] Covariance matrix calculated using the outer product of gradients (complex-step).<br/>[2] Covariance matrix is singular or near-singular, with condition number 3.65e+23. Standard errors may be unstable."
      ],
      "text/plain": [
       "<class 'statsmodels.iolib.summary.Summary'>\n",
       "\"\"\"\n",
       "                               SARIMAX Results                                \n",
       "==============================================================================\n",
       "Dep. Variable:                realgdp   No. Observations:                  203\n",
       "Model:                ARIMA(0, 0, 19)   Log Likelihood               -1208.056\n",
       "Date:                Thu, 19 Sep 2024   AIC                           2458.113\n",
       "Time:                        16:44:34   BIC                           2527.690\n",
       "Sample:                    03-31-1959   HQIC                          2486.261\n",
       "                         - 09-30-2009                                         \n",
       "Covariance Type:                  opg                                         \n",
       "==============================================================================\n",
       "                 coef    std err          z      P>|z|      [0.025      0.975]\n",
       "------------------------------------------------------------------------------\n",
       "const       7221.3320    493.497     14.633      0.000    6254.095    8188.569\n",
       "ma.L1          1.6298    166.942      0.010      0.992    -325.571     328.831\n",
       "ma.L2          2.5580     46.479      0.055      0.956     -88.539      93.655\n",
       "ma.L3          3.5639     45.666      0.078      0.938     -85.941      93.069\n",
       "ma.L4          4.6320      3.254      1.424      0.155      -1.745      11.009\n",
       "ma.L5          5.4986    181.830      0.030      0.976    -350.881     361.879\n",
       "ma.L6          6.1969     67.641      0.092      0.927    -126.378     138.771\n",
       "ma.L7          6.8640     11.423      0.601      0.548     -15.525      29.253\n",
       "ma.L8          7.1294     19.016      0.375      0.708     -30.140      44.399\n",
       "ma.L9          7.1527    119.155      0.060      0.952    -226.387     240.693\n",
       "ma.L10         7.1710     98.153      0.073      0.942    -185.206     199.548\n",
       "ma.L11         6.9878      4.106      1.702      0.089      -1.061      15.036\n",
       "ma.L12         6.4128     63.432      0.101      0.919    -117.913     130.738\n",
       "ma.L13         5.5018     56.999      0.097      0.923    -106.214     117.217\n",
       "ma.L14         4.6431    149.343      0.031      0.975    -288.063     297.349\n",
       "ma.L15         3.6512      4.440      0.822      0.411      -5.051      12.354\n",
       "ma.L16         2.5228     90.463      0.028      0.978    -174.782     179.828\n",
       "ma.L17         1.6980     39.540      0.043      0.966     -75.799      79.195\n",
       "ma.L18         0.8528     95.331      0.009      0.993    -185.992     187.698\n",
       "ma.L19         0.5710      0.124      4.597      0.000       0.328       0.814\n",
       "sigma2      7571.7783      0.051   1.49e+05      0.000    7571.679    7571.878\n",
       "===================================================================================\n",
       "Ljung-Box (L1) (Q):                   0.27   Jarque-Bera (JB):                12.06\n",
       "Prob(Q):                              0.60   Prob(JB):                         0.00\n",
       "Heteroskedasticity (H):               2.41   Skew:                             0.55\n",
       "Prob(H) (two-sided):                  0.00   Kurtosis:                         3.48\n",
       "===================================================================================\n",
       "\n",
       "Warnings:\n",
       "[1] Covariance matrix calculated using the outer product of gradients (complex-step).\n",
       "[2] Covariance matrix is singular or near-singular, with condition number 3.65e+23. Standard errors may be unstable.\n",
       "\"\"\""
      ]
     },
     "execution_count": 347,
     "metadata": {},
     "output_type": "execute_result"
    }
   ],
   "source": [
    "realgdp_results_ma_19.summary()"
   ]
  },
  {
   "cell_type": "markdown",
   "id": "c01227f2",
   "metadata": {},
   "source": [
    "## Pruebas LLR"
   ]
  },
  {
   "cell_type": "code",
   "execution_count": 348,
   "id": "bdad46eb",
   "metadata": {},
   "outputs": [
    {
     "name": "stderr",
     "output_type": "stream",
     "text": [
      "C:\\ProgramData\\Anaconda3\\lib\\site-packages\\statsmodels\\tsa\\statespace\\sarimax.py:978: UserWarning: Non-invertible starting MA parameters found. Using zeros as starting parameters.\n",
      "  warn('Non-invertible starting MA parameters found.'\n",
      "C:\\ProgramData\\Anaconda3\\lib\\site-packages\\statsmodels\\base\\model.py:604: ConvergenceWarning: Maximum Likelihood optimization failed to converge. Check mle_retvals\n",
      "  warnings.warn(\"Maximum Likelihood optimization failed to \"\n"
     ]
    },
    {
     "data": {
      "text/plain": [
       "3.112351650913575e-236"
      ]
     },
     "execution_count": 348,
     "metadata": {},
     "output_type": "execute_result"
    }
   ],
   "source": [
    "LLR_test(realgdp_model_ma_1, realgdp_model_ma_19,DF=18)"
   ]
  },
  {
   "cell_type": "markdown",
   "id": "865be51f",
   "metadata": {},
   "source": [
    "## Modelo ARMA(1,1)"
   ]
  },
  {
   "cell_type": "code",
   "execution_count": 349,
   "id": "601df209",
   "metadata": {},
   "outputs": [
    {
     "name": "stderr",
     "output_type": "stream",
     "text": [
      "C:\\ProgramData\\Anaconda3\\lib\\site-packages\\statsmodels\\tsa\\base\\tsa_model.py:471: ValueWarning: No frequency information was provided, so inferred frequency Q-DEC will be used.\n",
      "  self._init_dates(dates, freq)\n",
      "C:\\ProgramData\\Anaconda3\\lib\\site-packages\\statsmodels\\tsa\\base\\tsa_model.py:471: ValueWarning: No frequency information was provided, so inferred frequency Q-DEC will be used.\n",
      "  self._init_dates(dates, freq)\n",
      "C:\\ProgramData\\Anaconda3\\lib\\site-packages\\statsmodels\\tsa\\base\\tsa_model.py:471: ValueWarning: No frequency information was provided, so inferred frequency Q-DEC will be used.\n",
      "  self._init_dates(dates, freq)\n"
     ]
    }
   ],
   "source": [
    "realgdp_model_ar_1_ma_1 = ARIMA(df_macrodata['realgdp'], order=(1,0,1))"
   ]
  },
  {
   "cell_type": "code",
   "execution_count": 350,
   "id": "1b445cb7",
   "metadata": {},
   "outputs": [
    {
     "name": "stderr",
     "output_type": "stream",
     "text": [
      "C:\\ProgramData\\Anaconda3\\lib\\site-packages\\statsmodels\\tsa\\statespace\\sarimax.py:966: UserWarning: Non-stationary starting autoregressive parameters found. Using zeros as starting parameters.\n",
      "  warn('Non-stationary starting autoregressive parameters'\n"
     ]
    }
   ],
   "source": [
    "realgdp_results_ar_1_ma_1 = realgdp_model_ar_1_ma_1.fit()"
   ]
  },
  {
   "cell_type": "code",
   "execution_count": 351,
   "id": "8df45206",
   "metadata": {},
   "outputs": [
    {
     "data": {
      "text/html": [
       "<table class=\"simpletable\">\n",
       "<caption>SARIMAX Results</caption>\n",
       "<tr>\n",
       "  <th>Dep. Variable:</th>        <td>realgdp</td>     <th>  No. Observations:  </th>    <td>203</td>   \n",
       "</tr>\n",
       "<tr>\n",
       "  <th>Model:</th>            <td>ARIMA(1, 0, 1)</td>  <th>  Log Likelihood     </th> <td>-1148.197</td>\n",
       "</tr>\n",
       "<tr>\n",
       "  <th>Date:</th>            <td>Thu, 19 Sep 2024</td> <th>  AIC                </th> <td>2304.394</td> \n",
       "</tr>\n",
       "<tr>\n",
       "  <th>Time:</th>                <td>16:44:40</td>     <th>  BIC                </th> <td>2317.647</td> \n",
       "</tr>\n",
       "<tr>\n",
       "  <th>Sample:</th>             <td>03-31-1959</td>    <th>  HQIC               </th> <td>2309.755</td> \n",
       "</tr>\n",
       "<tr>\n",
       "  <th></th>                   <td>- 09-30-2009</td>   <th>                     </th>     <td> </td>    \n",
       "</tr>\n",
       "<tr>\n",
       "  <th>Covariance Type:</th>        <td>opg</td>       <th>                     </th>     <td> </td>    \n",
       "</tr>\n",
       "</table>\n",
       "<table class=\"simpletable\">\n",
       "<tr>\n",
       "     <td></td>       <th>coef</th>     <th>std err</th>      <th>z</th>      <th>P>|z|</th>  <th>[0.025</th>    <th>0.975]</th>  \n",
       "</tr>\n",
       "<tr>\n",
       "  <th>const</th>  <td> 7221.1945</td> <td> 1.03e+04</td> <td>    0.698</td> <td> 0.485</td> <td> -1.3e+04</td> <td> 2.75e+04</td>\n",
       "</tr>\n",
       "<tr>\n",
       "  <th>ar.L1</th>  <td>    0.9998</td> <td>    0.002</td> <td>  471.725</td> <td> 0.000</td> <td>    0.996</td> <td>    1.004</td>\n",
       "</tr>\n",
       "<tr>\n",
       "  <th>ma.L1</th>  <td>    0.4169</td> <td>    0.061</td> <td>    6.811</td> <td> 0.000</td> <td>    0.297</td> <td>    0.537</td>\n",
       "</tr>\n",
       "<tr>\n",
       "  <th>sigma2</th> <td> 4586.3388</td> <td>  449.972</td> <td>   10.193</td> <td> 0.000</td> <td> 3704.410</td> <td> 5468.268</td>\n",
       "</tr>\n",
       "</table>\n",
       "<table class=\"simpletable\">\n",
       "<tr>\n",
       "  <th>Ljung-Box (L1) (Q):</th>     <td>2.09</td> <th>  Jarque-Bera (JB):  </th> <td>19.03</td>\n",
       "</tr>\n",
       "<tr>\n",
       "  <th>Prob(Q):</th>                <td>0.15</td> <th>  Prob(JB):          </th> <td>0.00</td> \n",
       "</tr>\n",
       "<tr>\n",
       "  <th>Heteroskedasticity (H):</th> <td>3.14</td> <th>  Skew:              </th> <td>-0.34</td>\n",
       "</tr>\n",
       "<tr>\n",
       "  <th>Prob(H) (two-sided):</th>    <td>0.00</td> <th>  Kurtosis:          </th> <td>4.33</td> \n",
       "</tr>\n",
       "</table><br/><br/>Warnings:<br/>[1] Covariance matrix calculated using the outer product of gradients (complex-step)."
      ],
      "text/plain": [
       "<class 'statsmodels.iolib.summary.Summary'>\n",
       "\"\"\"\n",
       "                               SARIMAX Results                                \n",
       "==============================================================================\n",
       "Dep. Variable:                realgdp   No. Observations:                  203\n",
       "Model:                 ARIMA(1, 0, 1)   Log Likelihood               -1148.197\n",
       "Date:                Thu, 19 Sep 2024   AIC                           2304.394\n",
       "Time:                        16:44:40   BIC                           2317.647\n",
       "Sample:                    03-31-1959   HQIC                          2309.755\n",
       "                         - 09-30-2009                                         \n",
       "Covariance Type:                  opg                                         \n",
       "==============================================================================\n",
       "                 coef    std err          z      P>|z|      [0.025      0.975]\n",
       "------------------------------------------------------------------------------\n",
       "const       7221.1945   1.03e+04      0.698      0.485    -1.3e+04    2.75e+04\n",
       "ar.L1          0.9998      0.002    471.725      0.000       0.996       1.004\n",
       "ma.L1          0.4169      0.061      6.811      0.000       0.297       0.537\n",
       "sigma2      4586.3388    449.972     10.193      0.000    3704.410    5468.268\n",
       "===================================================================================\n",
       "Ljung-Box (L1) (Q):                   2.09   Jarque-Bera (JB):                19.03\n",
       "Prob(Q):                              0.15   Prob(JB):                         0.00\n",
       "Heteroskedasticity (H):               3.14   Skew:                            -0.34\n",
       "Prob(H) (two-sided):                  0.00   Kurtosis:                         4.33\n",
       "===================================================================================\n",
       "\n",
       "Warnings:\n",
       "[1] Covariance matrix calculated using the outer product of gradients (complex-step).\n",
       "\"\"\""
      ]
     },
     "execution_count": 351,
     "metadata": {},
     "output_type": "execute_result"
    }
   ],
   "source": [
    "realgdp_results_ar_1_ma_1.summary()"
   ]
  },
  {
   "cell_type": "markdown",
   "id": "26034ae6",
   "metadata": {},
   "source": [
    "## Modelos ARMA de mayor complejidad"
   ]
  },
  {
   "cell_type": "code",
   "execution_count": 352,
   "id": "29fc2604",
   "metadata": {},
   "outputs": [
    {
     "name": "stderr",
     "output_type": "stream",
     "text": [
      "C:\\ProgramData\\Anaconda3\\lib\\site-packages\\statsmodels\\tsa\\base\\tsa_model.py:471: ValueWarning: No frequency information was provided, so inferred frequency Q-DEC will be used.\n",
      "  self._init_dates(dates, freq)\n",
      "C:\\ProgramData\\Anaconda3\\lib\\site-packages\\statsmodels\\tsa\\base\\tsa_model.py:471: ValueWarning: No frequency information was provided, so inferred frequency Q-DEC will be used.\n",
      "  self._init_dates(dates, freq)\n",
      "C:\\ProgramData\\Anaconda3\\lib\\site-packages\\statsmodels\\tsa\\base\\tsa_model.py:471: ValueWarning: No frequency information was provided, so inferred frequency Q-DEC will be used.\n",
      "  self._init_dates(dates, freq)\n"
     ]
    }
   ],
   "source": [
    "realgdp_model_ar_1_ma_19 = ARIMA(df_macrodata['realgdp'], order=(1,0,19))"
   ]
  },
  {
   "cell_type": "code",
   "execution_count": 353,
   "id": "62dfe4c3",
   "metadata": {},
   "outputs": [
    {
     "name": "stderr",
     "output_type": "stream",
     "text": [
      "C:\\ProgramData\\Anaconda3\\lib\\site-packages\\statsmodels\\tsa\\statespace\\sarimax.py:966: UserWarning: Non-stationary starting autoregressive parameters found. Using zeros as starting parameters.\n",
      "  warn('Non-stationary starting autoregressive parameters'\n",
      "C:\\ProgramData\\Anaconda3\\lib\\site-packages\\statsmodels\\base\\model.py:604: ConvergenceWarning: Maximum Likelihood optimization failed to converge. Check mle_retvals\n",
      "  warnings.warn(\"Maximum Likelihood optimization failed to \"\n"
     ]
    }
   ],
   "source": [
    "realgdp_results_ar_1_ma_19 = realgdp_model_ar_1_ma_19.fit()"
   ]
  },
  {
   "cell_type": "code",
   "execution_count": 354,
   "id": "d0ba0c65",
   "metadata": {},
   "outputs": [
    {
     "data": {
      "text/html": [
       "<table class=\"simpletable\">\n",
       "<caption>SARIMAX Results</caption>\n",
       "<tr>\n",
       "  <th>Dep. Variable:</th>        <td>realgdp</td>     <th>  No. Observations:  </th>    <td>203</td>   \n",
       "</tr>\n",
       "<tr>\n",
       "  <th>Model:</th>            <td>ARIMA(1, 0, 19)</td> <th>  Log Likelihood     </th> <td>-1105.437</td>\n",
       "</tr>\n",
       "<tr>\n",
       "  <th>Date:</th>            <td>Thu, 19 Sep 2024</td> <th>  AIC                </th> <td>2254.875</td> \n",
       "</tr>\n",
       "<tr>\n",
       "  <th>Time:</th>                <td>16:44:44</td>     <th>  BIC                </th> <td>2327.765</td> \n",
       "</tr>\n",
       "<tr>\n",
       "  <th>Sample:</th>             <td>03-31-1959</td>    <th>  HQIC               </th> <td>2284.363</td> \n",
       "</tr>\n",
       "<tr>\n",
       "  <th></th>                   <td>- 09-30-2009</td>   <th>                     </th>     <td> </td>    \n",
       "</tr>\n",
       "<tr>\n",
       "  <th>Covariance Type:</th>        <td>opg</td>       <th>                     </th>     <td> </td>    \n",
       "</tr>\n",
       "</table>\n",
       "<table class=\"simpletable\">\n",
       "<tr>\n",
       "     <td></td>       <th>coef</th>     <th>std err</th>      <th>z</th>      <th>P>|z|</th>  <th>[0.025</th>    <th>0.975]</th>  \n",
       "</tr>\n",
       "<tr>\n",
       "  <th>const</th>  <td> 7221.1723</td> <td> 6714.386</td> <td>    1.075</td> <td> 0.282</td> <td>-5938.782</td> <td> 2.04e+04</td>\n",
       "</tr>\n",
       "<tr>\n",
       "  <th>ar.L1</th>  <td>    0.9980</td> <td>    0.011</td> <td>   88.905</td> <td> 0.000</td> <td>    0.976</td> <td>    1.020</td>\n",
       "</tr>\n",
       "<tr>\n",
       "  <th>ma.L1</th>  <td>    0.4852</td> <td>    0.793</td> <td>    0.612</td> <td> 0.540</td> <td>   -1.068</td> <td>    2.039</td>\n",
       "</tr>\n",
       "<tr>\n",
       "  <th>ma.L2</th>  <td>    0.4720</td> <td>    0.179</td> <td>    2.633</td> <td> 0.008</td> <td>    0.121</td> <td>    0.823</td>\n",
       "</tr>\n",
       "<tr>\n",
       "  <th>ma.L3</th>  <td>    0.2015</td> <td>    0.194</td> <td>    1.038</td> <td> 0.299</td> <td>   -0.179</td> <td>    0.582</td>\n",
       "</tr>\n",
       "<tr>\n",
       "  <th>ma.L4</th>  <td>    0.3438</td> <td>    0.676</td> <td>    0.509</td> <td> 0.611</td> <td>   -0.981</td> <td>    1.668</td>\n",
       "</tr>\n",
       "<tr>\n",
       "  <th>ma.L5</th>  <td>    0.1777</td> <td>    0.573</td> <td>    0.310</td> <td> 0.757</td> <td>   -0.946</td> <td>    1.302</td>\n",
       "</tr>\n",
       "<tr>\n",
       "  <th>ma.L6</th>  <td>    0.3244</td> <td>    0.628</td> <td>    0.517</td> <td> 0.605</td> <td>   -0.906</td> <td>    1.554</td>\n",
       "</tr>\n",
       "<tr>\n",
       "  <th>ma.L7</th>  <td>    0.1898</td> <td>    0.205</td> <td>    0.928</td> <td> 0.353</td> <td>   -0.211</td> <td>    0.591</td>\n",
       "</tr>\n",
       "<tr>\n",
       "  <th>ma.L8</th>  <td>    0.0536</td> <td>    0.212</td> <td>    0.253</td> <td> 0.800</td> <td>   -0.362</td> <td>    0.469</td>\n",
       "</tr>\n",
       "<tr>\n",
       "  <th>ma.L9</th>  <td>    0.2866</td> <td>    0.436</td> <td>    0.657</td> <td> 0.511</td> <td>   -0.569</td> <td>    1.142</td>\n",
       "</tr>\n",
       "<tr>\n",
       "  <th>ma.L10</th> <td>    0.3519</td> <td>    0.341</td> <td>    1.033</td> <td> 0.302</td> <td>   -0.316</td> <td>    1.020</td>\n",
       "</tr>\n",
       "<tr>\n",
       "  <th>ma.L11</th> <td>    0.3497</td> <td>    0.632</td> <td>    0.553</td> <td> 0.580</td> <td>   -0.890</td> <td>    1.589</td>\n",
       "</tr>\n",
       "<tr>\n",
       "  <th>ma.L12</th> <td>    0.0233</td> <td>    0.190</td> <td>    0.123</td> <td> 0.902</td> <td>   -0.350</td> <td>    0.396</td>\n",
       "</tr>\n",
       "<tr>\n",
       "  <th>ma.L13</th> <td>    0.1403</td> <td>    0.251</td> <td>    0.560</td> <td> 0.576</td> <td>   -0.351</td> <td>    0.631</td>\n",
       "</tr>\n",
       "<tr>\n",
       "  <th>ma.L14</th> <td>    0.1246</td> <td>    0.454</td> <td>    0.274</td> <td> 0.784</td> <td>   -0.765</td> <td>    1.015</td>\n",
       "</tr>\n",
       "<tr>\n",
       "  <th>ma.L15</th> <td>   -0.1373</td> <td>    0.392</td> <td>   -0.350</td> <td> 0.726</td> <td>   -0.906</td> <td>    0.632</td>\n",
       "</tr>\n",
       "<tr>\n",
       "  <th>ma.L16</th> <td>    0.1808</td> <td>    0.212</td> <td>    0.855</td> <td> 0.393</td> <td>   -0.234</td> <td>    0.596</td>\n",
       "</tr>\n",
       "<tr>\n",
       "  <th>ma.L17</th> <td>    0.1831</td> <td>    0.249</td> <td>    0.735</td> <td> 0.463</td> <td>   -0.305</td> <td>    0.671</td>\n",
       "</tr>\n",
       "<tr>\n",
       "  <th>ma.L18</th> <td>    0.0413</td> <td>    0.187</td> <td>    0.221</td> <td> 0.825</td> <td>   -0.325</td> <td>    0.407</td>\n",
       "</tr>\n",
       "<tr>\n",
       "  <th>ma.L19</th> <td>    0.1140</td> <td>    0.207</td> <td>    0.550</td> <td> 0.582</td> <td>   -0.292</td> <td>    0.520</td>\n",
       "</tr>\n",
       "<tr>\n",
       "  <th>sigma2</th> <td> 4436.5712</td> <td> 4250.823</td> <td>    1.044</td> <td> 0.297</td> <td>-3894.888</td> <td> 1.28e+04</td>\n",
       "</tr>\n",
       "</table>\n",
       "<table class=\"simpletable\">\n",
       "<tr>\n",
       "  <th>Ljung-Box (L1) (Q):</th>     <td>0.22</td> <th>  Jarque-Bera (JB):  </th> <td>0.33</td>\n",
       "</tr>\n",
       "<tr>\n",
       "  <th>Prob(Q):</th>                <td>0.64</td> <th>  Prob(JB):          </th> <td>0.85</td>\n",
       "</tr>\n",
       "<tr>\n",
       "  <th>Heteroskedasticity (H):</th> <td>2.12</td> <th>  Skew:              </th> <td>0.03</td>\n",
       "</tr>\n",
       "<tr>\n",
       "  <th>Prob(H) (two-sided):</th>    <td>0.00</td> <th>  Kurtosis:          </th> <td>3.19</td>\n",
       "</tr>\n",
       "</table><br/><br/>Warnings:<br/>[1] Covariance matrix calculated using the outer product of gradients (complex-step)."
      ],
      "text/plain": [
       "<class 'statsmodels.iolib.summary.Summary'>\n",
       "\"\"\"\n",
       "                               SARIMAX Results                                \n",
       "==============================================================================\n",
       "Dep. Variable:                realgdp   No. Observations:                  203\n",
       "Model:                ARIMA(1, 0, 19)   Log Likelihood               -1105.437\n",
       "Date:                Thu, 19 Sep 2024   AIC                           2254.875\n",
       "Time:                        16:44:44   BIC                           2327.765\n",
       "Sample:                    03-31-1959   HQIC                          2284.363\n",
       "                         - 09-30-2009                                         \n",
       "Covariance Type:                  opg                                         \n",
       "==============================================================================\n",
       "                 coef    std err          z      P>|z|      [0.025      0.975]\n",
       "------------------------------------------------------------------------------\n",
       "const       7221.1723   6714.386      1.075      0.282   -5938.782    2.04e+04\n",
       "ar.L1          0.9980      0.011     88.905      0.000       0.976       1.020\n",
       "ma.L1          0.4852      0.793      0.612      0.540      -1.068       2.039\n",
       "ma.L2          0.4720      0.179      2.633      0.008       0.121       0.823\n",
       "ma.L3          0.2015      0.194      1.038      0.299      -0.179       0.582\n",
       "ma.L4          0.3438      0.676      0.509      0.611      -0.981       1.668\n",
       "ma.L5          0.1777      0.573      0.310      0.757      -0.946       1.302\n",
       "ma.L6          0.3244      0.628      0.517      0.605      -0.906       1.554\n",
       "ma.L7          0.1898      0.205      0.928      0.353      -0.211       0.591\n",
       "ma.L8          0.0536      0.212      0.253      0.800      -0.362       0.469\n",
       "ma.L9          0.2866      0.436      0.657      0.511      -0.569       1.142\n",
       "ma.L10         0.3519      0.341      1.033      0.302      -0.316       1.020\n",
       "ma.L11         0.3497      0.632      0.553      0.580      -0.890       1.589\n",
       "ma.L12         0.0233      0.190      0.123      0.902      -0.350       0.396\n",
       "ma.L13         0.1403      0.251      0.560      0.576      -0.351       0.631\n",
       "ma.L14         0.1246      0.454      0.274      0.784      -0.765       1.015\n",
       "ma.L15        -0.1373      0.392     -0.350      0.726      -0.906       0.632\n",
       "ma.L16         0.1808      0.212      0.855      0.393      -0.234       0.596\n",
       "ma.L17         0.1831      0.249      0.735      0.463      -0.305       0.671\n",
       "ma.L18         0.0413      0.187      0.221      0.825      -0.325       0.407\n",
       "ma.L19         0.1140      0.207      0.550      0.582      -0.292       0.520\n",
       "sigma2      4436.5712   4250.823      1.044      0.297   -3894.888    1.28e+04\n",
       "===================================================================================\n",
       "Ljung-Box (L1) (Q):                   0.22   Jarque-Bera (JB):                 0.33\n",
       "Prob(Q):                              0.64   Prob(JB):                         0.85\n",
       "Heteroskedasticity (H):               2.12   Skew:                             0.03\n",
       "Prob(H) (two-sided):                  0.00   Kurtosis:                         3.19\n",
       "===================================================================================\n",
       "\n",
       "Warnings:\n",
       "[1] Covariance matrix calculated using the outer product of gradients (complex-step).\n",
       "\"\"\""
      ]
     },
     "execution_count": 354,
     "metadata": {},
     "output_type": "execute_result"
    }
   ],
   "source": [
    "realgdp_results_ar_1_ma_19.summary()"
   ]
  },
  {
   "cell_type": "markdown",
   "id": "18c45723",
   "metadata": {},
   "source": [
    "## Pruebas LLR"
   ]
  },
  {
   "cell_type": "code",
   "execution_count": 355,
   "id": "851ef21f",
   "metadata": {},
   "outputs": [
    {
     "name": "stderr",
     "output_type": "stream",
     "text": [
      "C:\\ProgramData\\Anaconda3\\lib\\site-packages\\statsmodels\\tsa\\statespace\\sarimax.py:966: UserWarning: Non-stationary starting autoregressive parameters found. Using zeros as starting parameters.\n",
      "  warn('Non-stationary starting autoregressive parameters'\n",
      "C:\\ProgramData\\Anaconda3\\lib\\site-packages\\statsmodels\\tsa\\statespace\\sarimax.py:966: UserWarning: Non-stationary starting autoregressive parameters found. Using zeros as starting parameters.\n",
      "  warn('Non-stationary starting autoregressive parameters'\n"
     ]
    },
    {
     "name": "stdout",
     "output_type": "stream",
     "text": [
      "\n",
      "ARMA vs AR  1.009098381428772e-14\n"
     ]
    },
    {
     "name": "stderr",
     "output_type": "stream",
     "text": [
      "C:\\ProgramData\\Anaconda3\\lib\\site-packages\\statsmodels\\tsa\\statespace\\sarimax.py:966: UserWarning: Non-stationary starting autoregressive parameters found. Using zeros as starting parameters.\n",
      "  warn('Non-stationary starting autoregressive parameters'\n"
     ]
    },
    {
     "name": "stdout",
     "output_type": "stream",
     "text": [
      "\n",
      "ARMA vs MA  2.0894561306201366e-281\n"
     ]
    },
    {
     "name": "stderr",
     "output_type": "stream",
     "text": [
      "C:\\ProgramData\\Anaconda3\\lib\\site-packages\\statsmodels\\tsa\\statespace\\sarimax.py:966: UserWarning: Non-stationary starting autoregressive parameters found. Using zeros as starting parameters.\n",
      "  warn('Non-stationary starting autoregressive parameters'\n",
      "C:\\ProgramData\\Anaconda3\\lib\\site-packages\\statsmodels\\tsa\\statespace\\sarimax.py:966: UserWarning: Non-stationary starting autoregressive parameters found. Using zeros as starting parameters.\n",
      "  warn('Non-stationary starting autoregressive parameters'\n"
     ]
    },
    {
     "name": "stdout",
     "output_type": "stream",
     "text": [
      "\n",
      "ARMA vs ARMA(1,19)  9.115909176206802e-11\n"
     ]
    },
    {
     "name": "stderr",
     "output_type": "stream",
     "text": [
      "C:\\ProgramData\\Anaconda3\\lib\\site-packages\\statsmodels\\base\\model.py:604: ConvergenceWarning: Maximum Likelihood optimization failed to converge. Check mle_retvals\n",
      "  warnings.warn(\"Maximum Likelihood optimization failed to \"\n"
     ]
    }
   ],
   "source": [
    "print(\"\\nARMA vs AR \", LLR_test(realgdp_model_ar_1, realgdp_model_ar_1_ma_1))\n",
    "print(\"\\nARMA vs MA \", LLR_test(realgdp_model_ma_1, realgdp_model_ar_1_ma_1))\n",
    "print(\"\\nARMA vs ARMA(1,19) \", LLR_test(realgdp_model_ar_1_ma_1, realgdp_model_ar_1_ma_19,DF=18))"
   ]
  },
  {
   "cell_type": "markdown",
   "id": "d158e890",
   "metadata": {},
   "source": [
    "# Datos macroeconómicos de EEUU: Inflación"
   ]
  },
  {
   "cell_type": "markdown",
   "id": "8ff8cec0",
   "metadata": {},
   "source": [
    "## Estacionaridad"
   ]
  },
  {
   "cell_type": "code",
   "execution_count": 356,
   "id": "b9826d6e",
   "metadata": {},
   "outputs": [
    {
     "data": {
      "text/plain": [
       "(-3.054514496257236,\n",
       " 0.03010762086348588,\n",
       " 2,\n",
       " 200,\n",
       " {'1%': -3.463476079125, '5%': -2.876102355, '10%': -2.574532225},\n",
       " 852.1494477600706)"
      ]
     },
     "execution_count": 356,
     "metadata": {},
     "output_type": "execute_result"
    }
   ],
   "source": [
    "sts.adfuller(df_macrodata['infl'])"
   ]
  },
  {
   "cell_type": "markdown",
   "id": "dc520ce9",
   "metadata": {},
   "source": [
    "## PACF y ACF"
   ]
  },
  {
   "cell_type": "code",
   "execution_count": 357,
   "id": "f90a398c",
   "metadata": {},
   "outputs": [
    {
     "name": "stderr",
     "output_type": "stream",
     "text": [
      "C:\\ProgramData\\Anaconda3\\lib\\site-packages\\statsmodels\\graphics\\tsaplots.py:348: FutureWarning: The default method 'yw' can produce PACF values outside of the [-1,1] interval. After 0.13, the default will change tounadjusted Yule-Walker ('ywm'). You can use this method now by setting method='ywm'.\n",
      "  warnings.warn(\n"
     ]
    },
    {
     "data": {
      "image/png": "[encoded data removed]",
      "text/plain": [
       "<Figure size 640x480 with 1 Axes>"
      ]
     },
     "metadata": {},
     "output_type": "display_data"
    }
   ],
   "source": [
    "sgt.plot_pacf(df_macrodata['infl'], zero = False, lags = 40)\n",
    "plt.title(\"PACF for Inflation\", size = 20)\n",
    "plt.show()"
   ]
  },
  {
   "cell_type": "code",
   "execution_count": 358,
   "id": "5bd1e104",
   "metadata": {},
   "outputs": [
    {
     "data": {
      "image/png": "[encoded data removed]",
      "text/plain": [
       "<Figure size 640x480 with 1 Axes>"
      ]
     },
     "metadata": {},
     "output_type": "display_data"
    }
   ],
   "source": [
    "sgt.plot_acf(df_macrodata['infl'], zero = False, lags = 40)\n",
    "plt.title(\"ACF for Inflation\", size = 20)\n",
    "plt.show()"
   ]
  },
  {
   "cell_type": "markdown",
   "id": "ec291b12",
   "metadata": {},
   "source": [
    "## Modelo AR(1)"
   ]
  },
  {
   "cell_type": "code",
   "execution_count": 359,
   "id": "29a3499e",
   "metadata": {},
   "outputs": [
    {
     "name": "stderr",
     "output_type": "stream",
     "text": [
      "C:\\ProgramData\\Anaconda3\\lib\\site-packages\\statsmodels\\tsa\\base\\tsa_model.py:471: ValueWarning: No frequency information was provided, so inferred frequency Q-DEC will be used.\n",
      "  self._init_dates(dates, freq)\n",
      "C:\\ProgramData\\Anaconda3\\lib\\site-packages\\statsmodels\\tsa\\base\\tsa_model.py:471: ValueWarning: No frequency information was provided, so inferred frequency Q-DEC will be used.\n",
      "  self._init_dates(dates, freq)\n",
      "C:\\ProgramData\\Anaconda3\\lib\\site-packages\\statsmodels\\tsa\\base\\tsa_model.py:471: ValueWarning: No frequency information was provided, so inferred frequency Q-DEC will be used.\n",
      "  self._init_dates(dates, freq)\n"
     ]
    }
   ],
   "source": [
    "inflation_model_ar_1 = ARIMA(df_macrodata['infl'], order=(1,0,0))"
   ]
  },
  {
   "cell_type": "code",
   "execution_count": 360,
   "id": "c77387d5",
   "metadata": {},
   "outputs": [],
   "source": [
    "inflation_results_ar_1 = inflation_model_ar_1.fit()"
   ]
  },
  {
   "cell_type": "code",
   "execution_count": 361,
   "id": "4e8bb68d",
   "metadata": {},
   "outputs": [
    {
     "data": {
      "text/html": [
       "<table class=\"simpletable\">\n",
       "<caption>SARIMAX Results</caption>\n",
       "<tr>\n",
       "  <th>Dep. Variable:</th>         <td>infl</td>       <th>  No. Observations:  </th>    <td>203</td>  \n",
       "</tr>\n",
       "<tr>\n",
       "  <th>Model:</th>            <td>ARIMA(1, 0, 0)</td>  <th>  Log Likelihood     </th> <td>-472.714</td>\n",
       "</tr>\n",
       "<tr>\n",
       "  <th>Date:</th>            <td>Thu, 19 Sep 2024</td> <th>  AIC                </th>  <td>951.427</td>\n",
       "</tr>\n",
       "<tr>\n",
       "  <th>Time:</th>                <td>16:44:50</td>     <th>  BIC                </th>  <td>961.367</td>\n",
       "</tr>\n",
       "<tr>\n",
       "  <th>Sample:</th>             <td>03-31-1959</td>    <th>  HQIC               </th>  <td>955.449</td>\n",
       "</tr>\n",
       "<tr>\n",
       "  <th></th>                   <td>- 09-30-2009</td>   <th>                     </th>     <td> </td>   \n",
       "</tr>\n",
       "<tr>\n",
       "  <th>Covariance Type:</th>        <td>opg</td>       <th>                     </th>     <td> </td>   \n",
       "</tr>\n",
       "</table>\n",
       "<table class=\"simpletable\">\n",
       "<tr>\n",
       "     <td></td>       <th>coef</th>     <th>std err</th>      <th>z</th>      <th>P>|z|</th>  <th>[0.025</th>    <th>0.975]</th>  \n",
       "</tr>\n",
       "<tr>\n",
       "  <th>const</th>  <td>    3.9230</td> <td>    0.494</td> <td>    7.939</td> <td> 0.000</td> <td>    2.955</td> <td>    4.891</td>\n",
       "</tr>\n",
       "<tr>\n",
       "  <th>ar.L1</th>  <td>    0.6441</td> <td>    0.039</td> <td>   16.482</td> <td> 0.000</td> <td>    0.567</td> <td>    0.721</td>\n",
       "</tr>\n",
       "<tr>\n",
       "  <th>sigma2</th> <td>    6.1518</td> <td>    0.397</td> <td>   15.488</td> <td> 0.000</td> <td>    5.373</td> <td>    6.930</td>\n",
       "</tr>\n",
       "</table>\n",
       "<table class=\"simpletable\">\n",
       "<tr>\n",
       "  <th>Ljung-Box (L1) (Q):</th>     <td>8.43</td> <th>  Jarque-Bera (JB):  </th> <td>68.45</td>\n",
       "</tr>\n",
       "<tr>\n",
       "  <th>Prob(Q):</th>                <td>0.00</td> <th>  Prob(JB):          </th> <td>0.00</td> \n",
       "</tr>\n",
       "<tr>\n",
       "  <th>Heteroskedasticity (H):</th> <td>1.47</td> <th>  Skew:              </th> <td>-0.22</td>\n",
       "</tr>\n",
       "<tr>\n",
       "  <th>Prob(H) (two-sided):</th>    <td>0.12</td> <th>  Kurtosis:          </th> <td>5.81</td> \n",
       "</tr>\n",
       "</table><br/><br/>Warnings:<br/>[1] Covariance matrix calculated using the outer product of gradients (complex-step)."
      ],
      "text/plain": [
       "<class 'statsmodels.iolib.summary.Summary'>\n",
       "\"\"\"\n",
       "                               SARIMAX Results                                \n",
       "==============================================================================\n",
       "Dep. Variable:                   infl   No. Observations:                  203\n",
       "Model:                 ARIMA(1, 0, 0)   Log Likelihood                -472.714\n",
       "Date:                Thu, 19 Sep 2024   AIC                            951.427\n",
       "Time:                        16:44:50   BIC                            961.367\n",
       "Sample:                    03-31-1959   HQIC                           955.449\n",
       "                         - 09-30-2009                                         \n",
       "Covariance Type:                  opg                                         \n",
       "==============================================================================\n",
       "                 coef    std err          z      P>|z|      [0.025      0.975]\n",
       "------------------------------------------------------------------------------\n",
       "const          3.9230      0.494      7.939      0.000       2.955       4.891\n",
       "ar.L1          0.6441      0.039     16.482      0.000       0.567       0.721\n",
       "sigma2         6.1518      0.397     15.488      0.000       5.373       6.930\n",
       "===================================================================================\n",
       "Ljung-Box (L1) (Q):                   8.43   Jarque-Bera (JB):                68.45\n",
       "Prob(Q):                              0.00   Prob(JB):                         0.00\n",
       "Heteroskedasticity (H):               1.47   Skew:                            -0.22\n",
       "Prob(H) (two-sided):                  0.12   Kurtosis:                         5.81\n",
       "===================================================================================\n",
       "\n",
       "Warnings:\n",
       "[1] Covariance matrix calculated using the outer product of gradients (complex-step).\n",
       "\"\"\""
      ]
     },
     "execution_count": 361,
     "metadata": {},
     "output_type": "execute_result"
    }
   ],
   "source": [
    "inflation_results_ar_1.summary()"
   ]
  },
  {
   "cell_type": "markdown",
   "id": "94db104b",
   "metadata": {},
   "source": [
    "## Modelo MA(1)"
   ]
  },
  {
   "cell_type": "code",
   "execution_count": 362,
   "id": "ed63e6a4",
   "metadata": {},
   "outputs": [
    {
     "name": "stderr",
     "output_type": "stream",
     "text": [
      "C:\\ProgramData\\Anaconda3\\lib\\site-packages\\statsmodels\\tsa\\base\\tsa_model.py:471: ValueWarning: No frequency information was provided, so inferred frequency Q-DEC will be used.\n",
      "  self._init_dates(dates, freq)\n",
      "C:\\ProgramData\\Anaconda3\\lib\\site-packages\\statsmodels\\tsa\\base\\tsa_model.py:471: ValueWarning: No frequency information was provided, so inferred frequency Q-DEC will be used.\n",
      "  self._init_dates(dates, freq)\n",
      "C:\\ProgramData\\Anaconda3\\lib\\site-packages\\statsmodels\\tsa\\base\\tsa_model.py:471: ValueWarning: No frequency information was provided, so inferred frequency Q-DEC will be used.\n",
      "  self._init_dates(dates, freq)\n"
     ]
    }
   ],
   "source": [
    "inflation_model_ma_1 = ARIMA(df_macrodata['infl'], order=(0,0,1))"
   ]
  },
  {
   "cell_type": "code",
   "execution_count": 363,
   "id": "64e0e1bb",
   "metadata": {},
   "outputs": [],
   "source": [
    "inflation_results_ma_1 = inflation_model_ma_1.fit()"
   ]
  },
  {
   "cell_type": "code",
   "execution_count": 364,
   "id": "9071bab3",
   "metadata": {},
   "outputs": [
    {
     "data": {
      "text/html": [
       "<table class=\"simpletable\">\n",
       "<caption>SARIMAX Results</caption>\n",
       "<tr>\n",
       "  <th>Dep. Variable:</th>         <td>infl</td>       <th>  No. Observations:  </th>    <td>203</td>  \n",
       "</tr>\n",
       "<tr>\n",
       "  <th>Model:</th>            <td>ARIMA(0, 0, 1)</td>  <th>  Log Likelihood     </th> <td>-493.998</td>\n",
       "</tr>\n",
       "<tr>\n",
       "  <th>Date:</th>            <td>Thu, 19 Sep 2024</td> <th>  AIC                </th>  <td>993.997</td>\n",
       "</tr>\n",
       "<tr>\n",
       "  <th>Time:</th>                <td>16:44:50</td>     <th>  BIC                </th> <td>1003.936</td>\n",
       "</tr>\n",
       "<tr>\n",
       "  <th>Sample:</th>             <td>03-31-1959</td>    <th>  HQIC               </th>  <td>998.018</td>\n",
       "</tr>\n",
       "<tr>\n",
       "  <th></th>                   <td>- 09-30-2009</td>   <th>                     </th>     <td> </td>   \n",
       "</tr>\n",
       "<tr>\n",
       "  <th>Covariance Type:</th>        <td>opg</td>       <th>                     </th>     <td> </td>   \n",
       "</tr>\n",
       "</table>\n",
       "<table class=\"simpletable\">\n",
       "<tr>\n",
       "     <td></td>       <th>coef</th>     <th>std err</th>      <th>z</th>      <th>P>|z|</th>  <th>[0.025</th>    <th>0.975]</th>  \n",
       "</tr>\n",
       "<tr>\n",
       "  <th>const</th>  <td>    3.9542</td> <td>    0.296</td> <td>   13.346</td> <td> 0.000</td> <td>    3.374</td> <td>    4.535</td>\n",
       "</tr>\n",
       "<tr>\n",
       "  <th>ma.L1</th>  <td>    0.4995</td> <td>    0.040</td> <td>   12.418</td> <td> 0.000</td> <td>    0.421</td> <td>    0.578</td>\n",
       "</tr>\n",
       "<tr>\n",
       "  <th>sigma2</th> <td>    7.5965</td> <td>    0.534</td> <td>   14.220</td> <td> 0.000</td> <td>    6.549</td> <td>    8.644</td>\n",
       "</tr>\n",
       "</table>\n",
       "<table class=\"simpletable\">\n",
       "<tr>\n",
       "  <th>Ljung-Box (L1) (Q):</th>     <td>3.78</td> <th>  Jarque-Bera (JB):  </th> <td>44.98</td>\n",
       "</tr>\n",
       "<tr>\n",
       "  <th>Prob(Q):</th>                <td>0.05</td> <th>  Prob(JB):          </th> <td>0.00</td> \n",
       "</tr>\n",
       "<tr>\n",
       "  <th>Heteroskedasticity (H):</th> <td>0.93</td> <th>  Skew:              </th> <td>0.37</td> \n",
       "</tr>\n",
       "<tr>\n",
       "  <th>Prob(H) (two-sided):</th>    <td>0.78</td> <th>  Kurtosis:          </th> <td>5.19</td> \n",
       "</tr>\n",
       "</table><br/><br/>Warnings:<br/>[1] Covariance matrix calculated using the outer product of gradients (complex-step)."
      ],
      "text/plain": [
       "<class 'statsmodels.iolib.summary.Summary'>\n",
       "\"\"\"\n",
       "                               SARIMAX Results                                \n",
       "==============================================================================\n",
       "Dep. Variable:                   infl   No. Observations:                  203\n",
       "Model:                 ARIMA(0, 0, 1)   Log Likelihood                -493.998\n",
       "Date:                Thu, 19 Sep 2024   AIC                            993.997\n",
       "Time:                        16:44:50   BIC                           1003.936\n",
       "Sample:                    03-31-1959   HQIC                           998.018\n",
       "                         - 09-30-2009                                         \n",
       "Covariance Type:                  opg                                         \n",
       "==============================================================================\n",
       "                 coef    std err          z      P>|z|      [0.025      0.975]\n",
       "------------------------------------------------------------------------------\n",
       "const          3.9542      0.296     13.346      0.000       3.374       4.535\n",
       "ma.L1          0.4995      0.040     12.418      0.000       0.421       0.578\n",
       "sigma2         7.5965      0.534     14.220      0.000       6.549       8.644\n",
       "===================================================================================\n",
       "Ljung-Box (L1) (Q):                   3.78   Jarque-Bera (JB):                44.98\n",
       "Prob(Q):                              0.05   Prob(JB):                         0.00\n",
       "Heteroskedasticity (H):               0.93   Skew:                             0.37\n",
       "Prob(H) (two-sided):                  0.78   Kurtosis:                         5.19\n",
       "===================================================================================\n",
       "\n",
       "Warnings:\n",
       "[1] Covariance matrix calculated using the outer product of gradients (complex-step).\n",
       "\"\"\""
      ]
     },
     "execution_count": 364,
     "metadata": {},
     "output_type": "execute_result"
    }
   ],
   "source": [
    "inflation_results_ma_1.summary()"
   ]
  },
  {
   "cell_type": "code",
   "execution_count": null,
   "id": "86595888",
   "metadata": {},
   "outputs": [],
   "source": []
  },
  {
   "cell_type": "markdown",
   "id": "333a4f55",
   "metadata": {},
   "source": [
    "## Modelos AR más complejos"
   ]
  },
  {
   "cell_type": "code",
   "execution_count": 365,
   "id": "be659680",
   "metadata": {},
   "outputs": [
    {
     "name": "stderr",
     "output_type": "stream",
     "text": [
      "C:\\ProgramData\\Anaconda3\\lib\\site-packages\\statsmodels\\tsa\\base\\tsa_model.py:471: ValueWarning: No frequency information was provided, so inferred frequency Q-DEC will be used.\n",
      "  self._init_dates(dates, freq)\n",
      "C:\\ProgramData\\Anaconda3\\lib\\site-packages\\statsmodels\\tsa\\base\\tsa_model.py:471: ValueWarning: No frequency information was provided, so inferred frequency Q-DEC will be used.\n",
      "  self._init_dates(dates, freq)\n",
      "C:\\ProgramData\\Anaconda3\\lib\\site-packages\\statsmodels\\tsa\\base\\tsa_model.py:471: ValueWarning: No frequency information was provided, so inferred frequency Q-DEC will be used.\n",
      "  self._init_dates(dates, freq)\n"
     ]
    }
   ],
   "source": [
    "inflation_model_ar_3 = ARIMA(df_macrodata['infl'], order=(3,0,0))"
   ]
  },
  {
   "cell_type": "code",
   "execution_count": 366,
   "id": "d5dda826",
   "metadata": {},
   "outputs": [],
   "source": [
    "inflation_results_ar_3 = inflation_model_ar_3.fit()"
   ]
  },
  {
   "cell_type": "code",
   "execution_count": 367,
   "id": "abee0e12",
   "metadata": {},
   "outputs": [
    {
     "data": {
      "text/html": [
       "<table class=\"simpletable\">\n",
       "<caption>SARIMAX Results</caption>\n",
       "<tr>\n",
       "  <th>Dep. Variable:</th>         <td>infl</td>       <th>  No. Observations:  </th>    <td>203</td>  \n",
       "</tr>\n",
       "<tr>\n",
       "  <th>Model:</th>            <td>ARIMA(3, 0, 0)</td>  <th>  Log Likelihood     </th> <td>-453.556</td>\n",
       "</tr>\n",
       "<tr>\n",
       "  <th>Date:</th>            <td>Thu, 19 Sep 2024</td> <th>  AIC                </th>  <td>917.112</td>\n",
       "</tr>\n",
       "<tr>\n",
       "  <th>Time:</th>                <td>16:44:50</td>     <th>  BIC                </th>  <td>933.678</td>\n",
       "</tr>\n",
       "<tr>\n",
       "  <th>Sample:</th>             <td>03-31-1959</td>    <th>  HQIC               </th>  <td>923.814</td>\n",
       "</tr>\n",
       "<tr>\n",
       "  <th></th>                   <td>- 09-30-2009</td>   <th>                     </th>     <td> </td>   \n",
       "</tr>\n",
       "<tr>\n",
       "  <th>Covariance Type:</th>        <td>opg</td>       <th>                     </th>     <td> </td>   \n",
       "</tr>\n",
       "</table>\n",
       "<table class=\"simpletable\">\n",
       "<tr>\n",
       "     <td></td>       <th>coef</th>     <th>std err</th>      <th>z</th>      <th>P>|z|</th>  <th>[0.025</th>    <th>0.975]</th>  \n",
       "</tr>\n",
       "<tr>\n",
       "  <th>const</th>  <td>    3.8113</td> <td>    0.945</td> <td>    4.035</td> <td> 0.000</td> <td>    1.960</td> <td>    5.663</td>\n",
       "</tr>\n",
       "<tr>\n",
       "  <th>ar.L1</th>  <td>    0.3522</td> <td>    0.047</td> <td>    7.445</td> <td> 0.000</td> <td>    0.259</td> <td>    0.445</td>\n",
       "</tr>\n",
       "<tr>\n",
       "  <th>ar.L2</th>  <td>    0.1819</td> <td>    0.047</td> <td>    3.833</td> <td> 0.000</td> <td>    0.089</td> <td>    0.275</td>\n",
       "</tr>\n",
       "<tr>\n",
       "  <th>ar.L3</th>  <td>    0.2891</td> <td>    0.064</td> <td>    4.551</td> <td> 0.000</td> <td>    0.165</td> <td>    0.414</td>\n",
       "</tr>\n",
       "<tr>\n",
       "  <th>sigma2</th> <td>    5.0824</td> <td>    0.302</td> <td>   16.808</td> <td> 0.000</td> <td>    4.490</td> <td>    5.675</td>\n",
       "</tr>\n",
       "</table>\n",
       "<table class=\"simpletable\">\n",
       "<tr>\n",
       "  <th>Ljung-Box (L1) (Q):</th>     <td>0.00</td> <th>  Jarque-Bera (JB):  </th> <td>179.43</td>\n",
       "</tr>\n",
       "<tr>\n",
       "  <th>Prob(Q):</th>                <td>0.95</td> <th>  Prob(JB):          </th>  <td>0.00</td> \n",
       "</tr>\n",
       "<tr>\n",
       "  <th>Heteroskedasticity (H):</th> <td>1.80</td> <th>  Skew:              </th>  <td>-0.72</td>\n",
       "</tr>\n",
       "<tr>\n",
       "  <th>Prob(H) (two-sided):</th>    <td>0.02</td> <th>  Kurtosis:          </th>  <td>7.37</td> \n",
       "</tr>\n",
       "</table><br/><br/>Warnings:<br/>[1] Covariance matrix calculated using the outer product of gradients (complex-step)."
      ],
      "text/plain": [
       "<class 'statsmodels.iolib.summary.Summary'>\n",
       "\"\"\"\n",
       "                               SARIMAX Results                                \n",
       "==============================================================================\n",
       "Dep. Variable:                   infl   No. Observations:                  203\n",
       "Model:                 ARIMA(3, 0, 0)   Log Likelihood                -453.556\n",
       "Date:                Thu, 19 Sep 2024   AIC                            917.112\n",
       "Time:                        16:44:50   BIC                            933.678\n",
       "Sample:                    03-31-1959   HQIC                           923.814\n",
       "                         - 09-30-2009                                         \n",
       "Covariance Type:                  opg                                         \n",
       "==============================================================================\n",
       "                 coef    std err          z      P>|z|      [0.025      0.975]\n",
       "------------------------------------------------------------------------------\n",
       "const          3.8113      0.945      4.035      0.000       1.960       5.663\n",
       "ar.L1          0.3522      0.047      7.445      0.000       0.259       0.445\n",
       "ar.L2          0.1819      0.047      3.833      0.000       0.089       0.275\n",
       "ar.L3          0.2891      0.064      4.551      0.000       0.165       0.414\n",
       "sigma2         5.0824      0.302     16.808      0.000       4.490       5.675\n",
       "===================================================================================\n",
       "Ljung-Box (L1) (Q):                   0.00   Jarque-Bera (JB):               179.43\n",
       "Prob(Q):                              0.95   Prob(JB):                         0.00\n",
       "Heteroskedasticity (H):               1.80   Skew:                            -0.72\n",
       "Prob(H) (two-sided):                  0.02   Kurtosis:                         7.37\n",
       "===================================================================================\n",
       "\n",
       "Warnings:\n",
       "[1] Covariance matrix calculated using the outer product of gradients (complex-step).\n",
       "\"\"\""
      ]
     },
     "execution_count": 367,
     "metadata": {},
     "output_type": "execute_result"
    }
   ],
   "source": [
    "inflation_results_ar_3.summary()"
   ]
  },
  {
   "cell_type": "code",
   "execution_count": 368,
   "id": "f2192fb5",
   "metadata": {},
   "outputs": [
    {
     "name": "stderr",
     "output_type": "stream",
     "text": [
      "C:\\ProgramData\\Anaconda3\\lib\\site-packages\\statsmodels\\tsa\\base\\tsa_model.py:471: ValueWarning: No frequency information was provided, so inferred frequency Q-DEC will be used.\n",
      "  self._init_dates(dates, freq)\n",
      "C:\\ProgramData\\Anaconda3\\lib\\site-packages\\statsmodels\\tsa\\base\\tsa_model.py:471: ValueWarning: No frequency information was provided, so inferred frequency Q-DEC will be used.\n",
      "  self._init_dates(dates, freq)\n",
      "C:\\ProgramData\\Anaconda3\\lib\\site-packages\\statsmodels\\tsa\\base\\tsa_model.py:471: ValueWarning: No frequency information was provided, so inferred frequency Q-DEC will be used.\n",
      "  self._init_dates(dates, freq)\n"
     ]
    }
   ],
   "source": [
    "inflation_model_ar_2 = ARIMA(df_macrodata['infl'], order=(2,0,0))"
   ]
  },
  {
   "cell_type": "code",
   "execution_count": 369,
   "id": "51788445",
   "metadata": {},
   "outputs": [],
   "source": [
    "inflation_results_ar_2 = inflation_model_ar_2.fit()"
   ]
  },
  {
   "cell_type": "code",
   "execution_count": 370,
   "id": "efbc0a82",
   "metadata": {},
   "outputs": [
    {
     "data": {
      "text/html": [
       "<table class=\"simpletable\">\n",
       "<caption>SARIMAX Results</caption>\n",
       "<tr>\n",
       "  <th>Dep. Variable:</th>         <td>infl</td>       <th>  No. Observations:  </th>    <td>203</td>  \n",
       "</tr>\n",
       "<tr>\n",
       "  <th>Model:</th>            <td>ARIMA(2, 0, 0)</td>  <th>  Log Likelihood     </th> <td>-462.419</td>\n",
       "</tr>\n",
       "<tr>\n",
       "  <th>Date:</th>            <td>Thu, 19 Sep 2024</td> <th>  AIC                </th>  <td>932.839</td>\n",
       "</tr>\n",
       "<tr>\n",
       "  <th>Time:</th>                <td>16:44:50</td>     <th>  BIC                </th>  <td>946.092</td>\n",
       "</tr>\n",
       "<tr>\n",
       "  <th>Sample:</th>             <td>03-31-1959</td>    <th>  HQIC               </th>  <td>938.200</td>\n",
       "</tr>\n",
       "<tr>\n",
       "  <th></th>                   <td>- 09-30-2009</td>   <th>                     </th>     <td> </td>   \n",
       "</tr>\n",
       "<tr>\n",
       "  <th>Covariance Type:</th>        <td>opg</td>       <th>                     </th>     <td> </td>   \n",
       "</tr>\n",
       "</table>\n",
       "<table class=\"simpletable\">\n",
       "<tr>\n",
       "     <td></td>       <th>coef</th>     <th>std err</th>      <th>z</th>      <th>P>|z|</th>  <th>[0.025</th>    <th>0.975]</th>  \n",
       "</tr>\n",
       "<tr>\n",
       "  <th>const</th>  <td>    3.8852</td> <td>    0.702</td> <td>    5.535</td> <td> 0.000</td> <td>    2.509</td> <td>    5.261</td>\n",
       "</tr>\n",
       "<tr>\n",
       "  <th>ar.L1</th>  <td>    0.4433</td> <td>    0.038</td> <td>   11.634</td> <td> 0.000</td> <td>    0.369</td> <td>    0.518</td>\n",
       "</tr>\n",
       "<tr>\n",
       "  <th>ar.L2</th>  <td>    0.3102</td> <td>    0.041</td> <td>    7.516</td> <td> 0.000</td> <td>    0.229</td> <td>    0.391</td>\n",
       "</tr>\n",
       "<tr>\n",
       "  <th>sigma2</th> <td>    5.5531</td> <td>    0.348</td> <td>   15.969</td> <td> 0.000</td> <td>    4.872</td> <td>    6.235</td>\n",
       "</tr>\n",
       "</table>\n",
       "<table class=\"simpletable\">\n",
       "<tr>\n",
       "  <th>Ljung-Box (L1) (Q):</th>     <td>1.75</td> <th>  Jarque-Bera (JB):  </th> <td>129.51</td>\n",
       "</tr>\n",
       "<tr>\n",
       "  <th>Prob(Q):</th>                <td>0.19</td> <th>  Prob(JB):          </th>  <td>0.00</td> \n",
       "</tr>\n",
       "<tr>\n",
       "  <th>Heteroskedasticity (H):</th> <td>1.89</td> <th>  Skew:              </th>  <td>-0.64</td>\n",
       "</tr>\n",
       "<tr>\n",
       "  <th>Prob(H) (two-sided):</th>    <td>0.01</td> <th>  Kurtosis:          </th>  <td>6.70</td> \n",
       "</tr>\n",
       "</table><br/><br/>Warnings:<br/>[1] Covariance matrix calculated using the outer product of gradients (complex-step)."
      ],
      "text/plain": [
       "<class 'statsmodels.iolib.summary.Summary'>\n",
       "\"\"\"\n",
       "                               SARIMAX Results                                \n",
       "==============================================================================\n",
       "Dep. Variable:                   infl   No. Observations:                  203\n",
       "Model:                 ARIMA(2, 0, 0)   Log Likelihood                -462.419\n",
       "Date:                Thu, 19 Sep 2024   AIC                            932.839\n",
       "Time:                        16:44:50   BIC                            946.092\n",
       "Sample:                    03-31-1959   HQIC                           938.200\n",
       "                         - 09-30-2009                                         \n",
       "Covariance Type:                  opg                                         \n",
       "==============================================================================\n",
       "                 coef    std err          z      P>|z|      [0.025      0.975]\n",
       "------------------------------------------------------------------------------\n",
       "const          3.8852      0.702      5.535      0.000       2.509       5.261\n",
       "ar.L1          0.4433      0.038     11.634      0.000       0.369       0.518\n",
       "ar.L2          0.3102      0.041      7.516      0.000       0.229       0.391\n",
       "sigma2         5.5531      0.348     15.969      0.000       4.872       6.235\n",
       "===================================================================================\n",
       "Ljung-Box (L1) (Q):                   1.75   Jarque-Bera (JB):               129.51\n",
       "Prob(Q):                              0.19   Prob(JB):                         0.00\n",
       "Heteroskedasticity (H):               1.89   Skew:                            -0.64\n",
       "Prob(H) (two-sided):                  0.01   Kurtosis:                         6.70\n",
       "===================================================================================\n",
       "\n",
       "Warnings:\n",
       "[1] Covariance matrix calculated using the outer product of gradients (complex-step).\n",
       "\"\"\""
      ]
     },
     "execution_count": 370,
     "metadata": {},
     "output_type": "execute_result"
    }
   ],
   "source": [
    "inflation_results_ar_2.summary()"
   ]
  },
  {
   "cell_type": "markdown",
   "id": "7a1a3e2c",
   "metadata": {},
   "source": [
    "## Pruebas LLR"
   ]
  },
  {
   "cell_type": "code",
   "execution_count": 371,
   "id": "5e4a2860",
   "metadata": {},
   "outputs": [
    {
     "data": {
      "text/plain": [
       "4.786173147380305e-09"
      ]
     },
     "execution_count": 371,
     "metadata": {},
     "output_type": "execute_result"
    }
   ],
   "source": [
    "LLR_test(inflation_model_ar_1, inflation_model_ar_3,DF=2)"
   ]
  },
  {
   "cell_type": "markdown",
   "id": "fcb77555",
   "metadata": {},
   "source": [
    "## Modelos MA de mayor complejidad"
   ]
  },
  {
   "cell_type": "code",
   "execution_count": 372,
   "id": "0e21b65f",
   "metadata": {},
   "outputs": [
    {
     "name": "stderr",
     "output_type": "stream",
     "text": [
      "C:\\ProgramData\\Anaconda3\\lib\\site-packages\\statsmodels\\tsa\\base\\tsa_model.py:471: ValueWarning: No frequency information was provided, so inferred frequency Q-DEC will be used.\n",
      "  self._init_dates(dates, freq)\n",
      "C:\\ProgramData\\Anaconda3\\lib\\site-packages\\statsmodels\\tsa\\base\\tsa_model.py:471: ValueWarning: No frequency information was provided, so inferred frequency Q-DEC will be used.\n",
      "  self._init_dates(dates, freq)\n",
      "C:\\ProgramData\\Anaconda3\\lib\\site-packages\\statsmodels\\tsa\\base\\tsa_model.py:471: ValueWarning: No frequency information was provided, so inferred frequency Q-DEC will be used.\n",
      "  self._init_dates(dates, freq)\n"
     ]
    }
   ],
   "source": [
    "inflation_model_ma_10 = ARIMA(df_macrodata['infl'], order=(0,0,10))"
   ]
  },
  {
   "cell_type": "code",
   "execution_count": 373,
   "id": "a3f07a0b",
   "metadata": {},
   "outputs": [],
   "source": [
    "inflation_results_ma_10 = inflation_model_ma_10.fit()"
   ]
  },
  {
   "cell_type": "code",
   "execution_count": 374,
   "id": "2bc879b7",
   "metadata": {},
   "outputs": [
    {
     "data": {
      "text/html": [
       "<table class=\"simpletable\">\n",
       "<caption>SARIMAX Results</caption>\n",
       "<tr>\n",
       "  <th>Dep. Variable:</th>         <td>infl</td>       <th>  No. Observations:  </th>    <td>203</td>  \n",
       "</tr>\n",
       "<tr>\n",
       "  <th>Model:</th>            <td>ARIMA(0, 0, 10)</td> <th>  Log Likelihood     </th> <td>-450.871</td>\n",
       "</tr>\n",
       "<tr>\n",
       "  <th>Date:</th>            <td>Thu, 19 Sep 2024</td> <th>  AIC                </th>  <td>925.741</td>\n",
       "</tr>\n",
       "<tr>\n",
       "  <th>Time:</th>                <td>16:44:51</td>     <th>  BIC                </th>  <td>965.500</td>\n",
       "</tr>\n",
       "<tr>\n",
       "  <th>Sample:</th>             <td>03-31-1959</td>    <th>  HQIC               </th>  <td>941.826</td>\n",
       "</tr>\n",
       "<tr>\n",
       "  <th></th>                   <td>- 09-30-2009</td>   <th>                     </th>     <td> </td>   \n",
       "</tr>\n",
       "<tr>\n",
       "  <th>Covariance Type:</th>        <td>opg</td>       <th>                     </th>     <td> </td>   \n",
       "</tr>\n",
       "</table>\n",
       "<table class=\"simpletable\">\n",
       "<tr>\n",
       "     <td></td>       <th>coef</th>     <th>std err</th>      <th>z</th>      <th>P>|z|</th>  <th>[0.025</th>    <th>0.975]</th>  \n",
       "</tr>\n",
       "<tr>\n",
       "  <th>const</th>  <td>    3.9013</td> <td>    0.634</td> <td>    6.153</td> <td> 0.000</td> <td>    2.659</td> <td>    5.144</td>\n",
       "</tr>\n",
       "<tr>\n",
       "  <th>ma.L1</th>  <td>    0.4035</td> <td>    0.045</td> <td>    8.935</td> <td> 0.000</td> <td>    0.315</td> <td>    0.492</td>\n",
       "</tr>\n",
       "<tr>\n",
       "  <th>ma.L2</th>  <td>    0.2712</td> <td>    0.075</td> <td>    3.594</td> <td> 0.000</td> <td>    0.123</td> <td>    0.419</td>\n",
       "</tr>\n",
       "<tr>\n",
       "  <th>ma.L3</th>  <td>    0.4736</td> <td>    0.064</td> <td>    7.444</td> <td> 0.000</td> <td>    0.349</td> <td>    0.598</td>\n",
       "</tr>\n",
       "<tr>\n",
       "  <th>ma.L4</th>  <td>    0.2449</td> <td>    0.075</td> <td>    3.254</td> <td> 0.001</td> <td>    0.097</td> <td>    0.392</td>\n",
       "</tr>\n",
       "<tr>\n",
       "  <th>ma.L5</th>  <td>    0.2937</td> <td>    0.111</td> <td>    2.641</td> <td> 0.008</td> <td>    0.076</td> <td>    0.512</td>\n",
       "</tr>\n",
       "<tr>\n",
       "  <th>ma.L6</th>  <td>    0.3446</td> <td>    0.082</td> <td>    4.208</td> <td> 0.000</td> <td>    0.184</td> <td>    0.505</td>\n",
       "</tr>\n",
       "<tr>\n",
       "  <th>ma.L7</th>  <td>    0.2219</td> <td>    0.095</td> <td>    2.341</td> <td> 0.019</td> <td>    0.036</td> <td>    0.408</td>\n",
       "</tr>\n",
       "<tr>\n",
       "  <th>ma.L8</th>  <td>    0.0292</td> <td>    0.101</td> <td>    0.289</td> <td> 0.773</td> <td>   -0.169</td> <td>    0.227</td>\n",
       "</tr>\n",
       "<tr>\n",
       "  <th>ma.L9</th>  <td>    0.2412</td> <td>    0.109</td> <td>    2.221</td> <td> 0.026</td> <td>    0.028</td> <td>    0.454</td>\n",
       "</tr>\n",
       "<tr>\n",
       "  <th>ma.L10</th> <td>    0.0729</td> <td>    0.092</td> <td>    0.794</td> <td> 0.427</td> <td>   -0.107</td> <td>    0.253</td>\n",
       "</tr>\n",
       "<tr>\n",
       "  <th>sigma2</th> <td>    4.9371</td> <td>    0.320</td> <td>   15.426</td> <td> 0.000</td> <td>    4.310</td> <td>    5.564</td>\n",
       "</tr>\n",
       "</table>\n",
       "<table class=\"simpletable\">\n",
       "<tr>\n",
       "  <th>Ljung-Box (L1) (Q):</th>     <td>0.01</td> <th>  Jarque-Bera (JB):  </th> <td>162.26</td>\n",
       "</tr>\n",
       "<tr>\n",
       "  <th>Prob(Q):</th>                <td>0.92</td> <th>  Prob(JB):          </th>  <td>0.00</td> \n",
       "</tr>\n",
       "<tr>\n",
       "  <th>Heteroskedasticity (H):</th> <td>1.66</td> <th>  Skew:              </th>  <td>-0.54</td>\n",
       "</tr>\n",
       "<tr>\n",
       "  <th>Prob(H) (two-sided):</th>    <td>0.04</td> <th>  Kurtosis:          </th>  <td>7.24</td> \n",
       "</tr>\n",
       "</table><br/><br/>Warnings:<br/>[1] Covariance matrix calculated using the outer product of gradients (complex-step)."
      ],
      "text/plain": [
       "<class 'statsmodels.iolib.summary.Summary'>\n",
       "\"\"\"\n",
       "                               SARIMAX Results                                \n",
       "==============================================================================\n",
       "Dep. Variable:                   infl   No. Observations:                  203\n",
       "Model:                ARIMA(0, 0, 10)   Log Likelihood                -450.871\n",
       "Date:                Thu, 19 Sep 2024   AIC                            925.741\n",
       "Time:                        16:44:51   BIC                            965.500\n",
       "Sample:                    03-31-1959   HQIC                           941.826\n",
       "                         - 09-30-2009                                         \n",
       "Covariance Type:                  opg                                         \n",
       "==============================================================================\n",
       "                 coef    std err          z      P>|z|      [0.025      0.975]\n",
       "------------------------------------------------------------------------------\n",
       "const          3.9013      0.634      6.153      0.000       2.659       5.144\n",
       "ma.L1          0.4035      0.045      8.935      0.000       0.315       0.492\n",
       "ma.L2          0.2712      0.075      3.594      0.000       0.123       0.419\n",
       "ma.L3          0.4736      0.064      7.444      0.000       0.349       0.598\n",
       "ma.L4          0.2449      0.075      3.254      0.001       0.097       0.392\n",
       "ma.L5          0.2937      0.111      2.641      0.008       0.076       0.512\n",
       "ma.L6          0.3446      0.082      4.208      0.000       0.184       0.505\n",
       "ma.L7          0.2219      0.095      2.341      0.019       0.036       0.408\n",
       "ma.L8          0.0292      0.101      0.289      0.773      -0.169       0.227\n",
       "ma.L9          0.2412      0.109      2.221      0.026       0.028       0.454\n",
       "ma.L10         0.0729      0.092      0.794      0.427      -0.107       0.253\n",
       "sigma2         4.9371      0.320     15.426      0.000       4.310       5.564\n",
       "===================================================================================\n",
       "Ljung-Box (L1) (Q):                   0.01   Jarque-Bera (JB):               162.26\n",
       "Prob(Q):                              0.92   Prob(JB):                         0.00\n",
       "Heteroskedasticity (H):               1.66   Skew:                            -0.54\n",
       "Prob(H) (two-sided):                  0.04   Kurtosis:                         7.24\n",
       "===================================================================================\n",
       "\n",
       "Warnings:\n",
       "[1] Covariance matrix calculated using the outer product of gradients (complex-step).\n",
       "\"\"\""
      ]
     },
     "execution_count": 374,
     "metadata": {},
     "output_type": "execute_result"
    }
   ],
   "source": [
    "inflation_results_ma_10.summary()"
   ]
  },
  {
   "cell_type": "markdown",
   "id": "ab0204da",
   "metadata": {},
   "source": [
    "## Pruebas LLR"
   ]
  },
  {
   "cell_type": "code",
   "execution_count": 375,
   "id": "510c55a1",
   "metadata": {},
   "outputs": [
    {
     "data": {
      "text/plain": [
       "9.155314651192564e-15"
      ]
     },
     "execution_count": 375,
     "metadata": {},
     "output_type": "execute_result"
    }
   ],
   "source": [
    "LLR_test(inflation_model_ma_1, inflation_model_ma_10,DF=9)"
   ]
  },
  {
   "cell_type": "markdown",
   "id": "a467916b",
   "metadata": {},
   "source": [
    "## Modelos ARMA de mayor complejidad"
   ]
  },
  {
   "cell_type": "code",
   "execution_count": 376,
   "id": "2e3cd73d",
   "metadata": {},
   "outputs": [
    {
     "name": "stderr",
     "output_type": "stream",
     "text": [
      "C:\\ProgramData\\Anaconda3\\lib\\site-packages\\statsmodels\\tsa\\base\\tsa_model.py:471: ValueWarning: No frequency information was provided, so inferred frequency Q-DEC will be used.\n",
      "  self._init_dates(dates, freq)\n",
      "C:\\ProgramData\\Anaconda3\\lib\\site-packages\\statsmodels\\tsa\\base\\tsa_model.py:471: ValueWarning: No frequency information was provided, so inferred frequency Q-DEC will be used.\n",
      "  self._init_dates(dates, freq)\n",
      "C:\\ProgramData\\Anaconda3\\lib\\site-packages\\statsmodels\\tsa\\base\\tsa_model.py:471: ValueWarning: No frequency information was provided, so inferred frequency Q-DEC will be used.\n",
      "  self._init_dates(dates, freq)\n"
     ]
    }
   ],
   "source": [
    "inflation_model_ar_3_ma_3 = ARIMA(df_macrodata['infl'], order=(3,0,3))"
   ]
  },
  {
   "cell_type": "code",
   "execution_count": 377,
   "id": "fa7c8b2a",
   "metadata": {},
   "outputs": [],
   "source": [
    "inflation_results_ar_3_ma_3 = inflation_model_ar_3_ma_3.fit()"
   ]
  },
  {
   "cell_type": "code",
   "execution_count": 378,
   "id": "72de906e",
   "metadata": {},
   "outputs": [
    {
     "data": {
      "text/html": [
       "<table class=\"simpletable\">\n",
       "<caption>SARIMAX Results</caption>\n",
       "<tr>\n",
       "  <th>Dep. Variable:</th>         <td>infl</td>       <th>  No. Observations:  </th>    <td>203</td>  \n",
       "</tr>\n",
       "<tr>\n",
       "  <th>Model:</th>            <td>ARIMA(3, 0, 3)</td>  <th>  Log Likelihood     </th> <td>-450.954</td>\n",
       "</tr>\n",
       "<tr>\n",
       "  <th>Date:</th>            <td>Thu, 19 Sep 2024</td> <th>  AIC                </th>  <td>917.908</td>\n",
       "</tr>\n",
       "<tr>\n",
       "  <th>Time:</th>                <td>16:44:52</td>     <th>  BIC                </th>  <td>944.414</td>\n",
       "</tr>\n",
       "<tr>\n",
       "  <th>Sample:</th>             <td>03-31-1959</td>    <th>  HQIC               </th>  <td>928.631</td>\n",
       "</tr>\n",
       "<tr>\n",
       "  <th></th>                   <td>- 09-30-2009</td>   <th>                     </th>     <td> </td>   \n",
       "</tr>\n",
       "<tr>\n",
       "  <th>Covariance Type:</th>        <td>opg</td>       <th>                     </th>     <td> </td>   \n",
       "</tr>\n",
       "</table>\n",
       "<table class=\"simpletable\">\n",
       "<tr>\n",
       "     <td></td>       <th>coef</th>     <th>std err</th>      <th>z</th>      <th>P>|z|</th>  <th>[0.025</th>    <th>0.975]</th>  \n",
       "</tr>\n",
       "<tr>\n",
       "  <th>const</th>  <td>    3.7712</td> <td>    1.049</td> <td>    3.594</td> <td> 0.000</td> <td>    1.715</td> <td>    5.828</td>\n",
       "</tr>\n",
       "<tr>\n",
       "  <th>ar.L1</th>  <td>    0.1399</td> <td>    0.453</td> <td>    0.309</td> <td> 0.757</td> <td>   -0.748</td> <td>    1.027</td>\n",
       "</tr>\n",
       "<tr>\n",
       "  <th>ar.L2</th>  <td>    0.6704</td> <td>    0.109</td> <td>    6.166</td> <td> 0.000</td> <td>    0.457</td> <td>    0.883</td>\n",
       "</tr>\n",
       "<tr>\n",
       "  <th>ar.L3</th>  <td>    0.0351</td> <td>    0.363</td> <td>    0.097</td> <td> 0.923</td> <td>   -0.677</td> <td>    0.747</td>\n",
       "</tr>\n",
       "<tr>\n",
       "  <th>ma.L1</th>  <td>    0.2392</td> <td>    0.456</td> <td>    0.524</td> <td> 0.600</td> <td>   -0.655</td> <td>    1.134</td>\n",
       "</tr>\n",
       "<tr>\n",
       "  <th>ma.L2</th>  <td>   -0.4520</td> <td>    0.167</td> <td>   -2.706</td> <td> 0.007</td> <td>   -0.779</td> <td>   -0.125</td>\n",
       "</tr>\n",
       "<tr>\n",
       "  <th>ma.L3</th>  <td>    0.1400</td> <td>    0.270</td> <td>    0.519</td> <td> 0.604</td> <td>   -0.388</td> <td>    0.668</td>\n",
       "</tr>\n",
       "<tr>\n",
       "  <th>sigma2</th> <td>    4.9476</td> <td>    0.293</td> <td>   16.880</td> <td> 0.000</td> <td>    4.373</td> <td>    5.522</td>\n",
       "</tr>\n",
       "</table>\n",
       "<table class=\"simpletable\">\n",
       "<tr>\n",
       "  <th>Ljung-Box (L1) (Q):</th>     <td>0.00</td> <th>  Jarque-Bera (JB):  </th> <td>170.80</td>\n",
       "</tr>\n",
       "<tr>\n",
       "  <th>Prob(Q):</th>                <td>0.98</td> <th>  Prob(JB):          </th>  <td>0.00</td> \n",
       "</tr>\n",
       "<tr>\n",
       "  <th>Heteroskedasticity (H):</th> <td>1.71</td> <th>  Skew:              </th>  <td>-0.63</td>\n",
       "</tr>\n",
       "<tr>\n",
       "  <th>Prob(H) (two-sided):</th>    <td>0.03</td> <th>  Kurtosis:          </th>  <td>7.31</td> \n",
       "</tr>\n",
       "</table><br/><br/>Warnings:<br/>[1] Covariance matrix calculated using the outer product of gradients (complex-step)."
      ],
      "text/plain": [
       "<class 'statsmodels.iolib.summary.Summary'>\n",
       "\"\"\"\n",
       "                               SARIMAX Results                                \n",
       "==============================================================================\n",
       "Dep. Variable:                   infl   No. Observations:                  203\n",
       "Model:                 ARIMA(3, 0, 3)   Log Likelihood                -450.954\n",
       "Date:                Thu, 19 Sep 2024   AIC                            917.908\n",
       "Time:                        16:44:52   BIC                            944.414\n",
       "Sample:                    03-31-1959   HQIC                           928.631\n",
       "                         - 09-30-2009                                         \n",
       "Covariance Type:                  opg                                         \n",
       "==============================================================================\n",
       "                 coef    std err          z      P>|z|      [0.025      0.975]\n",
       "------------------------------------------------------------------------------\n",
       "const          3.7712      1.049      3.594      0.000       1.715       5.828\n",
       "ar.L1          0.1399      0.453      0.309      0.757      -0.748       1.027\n",
       "ar.L2          0.6704      0.109      6.166      0.000       0.457       0.883\n",
       "ar.L3          0.0351      0.363      0.097      0.923      -0.677       0.747\n",
       "ma.L1          0.2392      0.456      0.524      0.600      -0.655       1.134\n",
       "ma.L2         -0.4520      0.167     -2.706      0.007      -0.779      -0.125\n",
       "ma.L3          0.1400      0.270      0.519      0.604      -0.388       0.668\n",
       "sigma2         4.9476      0.293     16.880      0.000       4.373       5.522\n",
       "===================================================================================\n",
       "Ljung-Box (L1) (Q):                   0.00   Jarque-Bera (JB):               170.80\n",
       "Prob(Q):                              0.98   Prob(JB):                         0.00\n",
       "Heteroskedasticity (H):               1.71   Skew:                            -0.63\n",
       "Prob(H) (two-sided):                  0.03   Kurtosis:                         7.31\n",
       "===================================================================================\n",
       "\n",
       "Warnings:\n",
       "[1] Covariance matrix calculated using the outer product of gradients (complex-step).\n",
       "\"\"\""
      ]
     },
     "execution_count": 378,
     "metadata": {},
     "output_type": "execute_result"
    }
   ],
   "source": [
    "inflation_results_ar_3_ma_3.summary()"
   ]
  }
 ],
 "metadata": {
  "kernelspec": {
   "display_name": "Python 3 (ipykernel)",
   "language": "python",
   "name": "python3"
  },
  "language_info": {
   "codemirror_mode": {
    "name": "ipython",
    "version": 3
   },
   "file_extension": ".py",
   "mimetype": "text/x-python",
   "name": "python",
   "nbconvert_exporter": "python",
   "pygments_lexer": "ipython3",
   "version": "3.9.13"
  }
 },
 "nbformat": 4,
 "nbformat_minor": 5
}
