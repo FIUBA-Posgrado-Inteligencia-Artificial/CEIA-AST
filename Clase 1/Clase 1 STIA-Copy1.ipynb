{
 "cells": [
  {
   "cell_type": "markdown",
   "id": "f9025518",
   "metadata": {},
   "source": [
    "# Tipo de dato datetime"
   ]
  },
  {
   "cell_type": "code",
   "execution_count": null,
   "id": "e7327b4a",
   "metadata": {},
   "outputs": [],
   "source": []
  },
  {
   "cell_type": "code",
   "execution_count": null,
   "id": "f3a9641c",
   "metadata": {},
   "outputs": [],
   "source": []
  },
  {
   "cell_type": "code",
   "execution_count": null,
   "id": "5b61a6a6",
   "metadata": {},
   "outputs": [],
   "source": []
  },
  {
   "cell_type": "code",
   "execution_count": null,
   "id": "462cf639",
   "metadata": {},
   "outputs": [],
   "source": []
  },
  {
   "cell_type": "code",
   "execution_count": null,
   "id": "d9ec62e3",
   "metadata": {},
   "outputs": [],
   "source": []
  },
  {
   "cell_type": "code",
   "execution_count": null,
   "id": "5c4c6635",
   "metadata": {},
   "outputs": [],
   "source": []
  },
  {
   "cell_type": "code",
   "execution_count": null,
   "id": "8c24de97",
   "metadata": {},
   "outputs": [],
   "source": []
  },
  {
   "cell_type": "code",
   "execution_count": null,
   "id": "076a97a5",
   "metadata": {},
   "outputs": [],
   "source": []
  },
  {
   "cell_type": "markdown",
   "id": "ba8a8d67",
   "metadata": {},
   "source": [
    "# Formatos de fecha"
   ]
  },
  {
   "cell_type": "markdown",
   "id": "d6748b9b",
   "metadata": {},
   "source": [
    "Los formatos de fecha de Python datetime siguen los códigos <strong><a href='http://strftime.org/'>strftime</a></strong>.<br>\n",
    "algunos de ellos son:\n",
    "<br><br>\n",
    "\n",
    "<table style=\"display: inline-block\">  \n",
    "<tr><th>Código</th><th>Significado</th><th>Ejemplo</th><tr>\n",
    "<tr><td>%Y</td><td>Año con siglo.</td><td>2001</td></tr>\n",
    "<tr><td>%y</td><td>Año sin siglo.</td><td>01</td></tr>\n",
    "<tr><td>%m</td><td>Mes como número de dos cifras.</td><td>02</td></tr>\n",
    "<tr><td>%B</td><td>Nombre del mes (En inglés).</td><td>February</td></tr>\n",
    "<tr><td>%b</td><td>Acrónimo del mes.</td><td>Feb</td></tr>\n",
    "<tr><td>%d</td><td>Día del mes en dos cifras.</td><td>03</td></tr>  \n",
    "<tr><td>%A</td><td>Nombre del día de la semana (En inglés).</td><td>Saturday</td></tr>\n",
    "<tr><td>%a</td><td>Nombre abreviado del día de la semana (En inglés).</td><td>Sat</td></tr>\n",
    "<tr><td>%H</td><td>Hora en dos cifras (reloj de 24-horas).</td><td>16</td></tr>\n",
    "<tr><td>%I</td><td>Hora en dos cifras (reloj de 12-horas).</td><td>04</td></tr>\n",
    "<tr><td>%p</td><td>AM o PM.</td><td>PM</td></tr>\n",
    "<tr><td>%M</td><td>Minuto en dos cifras.</td><td>05</td></tr>\n",
    "<tr><td>%S</td><td>Segundo en dos cifras.</td><td>06</td></tr>\n",
    "</table>\n",
    "<table style=\"display: inline-block\">\n",
    "<tr><th>Código</th><th>Significado</th><th>Ejemplo</th><tr>\n",
    "<tr><td>%#m</td><td>Mes cómo un número sin ceros a la izquierda. (Windows)</td><td>2</td></tr>\n",
    "<tr><td>%-m</td><td>Mes cómo un número sin ceros a la izquierda. (Mac/Linux)</td><td>2</td></tr>\n",
    "<tr><td>%#x</td><td>Fecha larga (En inglés)</td><td>Saturday, February 03, 2001</td></tr>\n",
    "<tr><td>%#c</td><td>Fecha larga y hora (En inglés)</td><td>Saturday, February 03, 2001 16:05:06</td></tr>\n",
    "</table>  \n",
    "    "
   ]
  },
  {
   "cell_type": "code",
   "execution_count": null,
   "id": "7fa5f915",
   "metadata": {},
   "outputs": [],
   "source": []
  },
  {
   "cell_type": "code",
   "execution_count": null,
   "id": "abf5f42f",
   "metadata": {},
   "outputs": [],
   "source": []
  },
  {
   "cell_type": "markdown",
   "id": "39cab0fe",
   "metadata": {},
   "source": [
    "# Numpy arrays de datos datetime"
   ]
  },
  {
   "cell_type": "code",
   "execution_count": null,
   "id": "397cb9c3",
   "metadata": {},
   "outputs": [],
   "source": []
  },
  {
   "cell_type": "code",
   "execution_count": null,
   "id": "1f2068e5",
   "metadata": {},
   "outputs": [],
   "source": []
  },
  {
   "cell_type": "code",
   "execution_count": null,
   "id": "827081b0",
   "metadata": {},
   "outputs": [],
   "source": []
  },
  {
   "cell_type": "code",
   "execution_count": null,
   "id": "b63891e3",
   "metadata": {},
   "outputs": [],
   "source": []
  },
  {
   "cell_type": "markdown",
   "id": "0f6bbd4c",
   "metadata": {},
   "source": [
    "# Rangos de fechas en Numpy"
   ]
  },
  {
   "cell_type": "code",
   "execution_count": null,
   "id": "27a335cf",
   "metadata": {},
   "outputs": [],
   "source": []
  },
  {
   "cell_type": "code",
   "execution_count": null,
   "id": "f74eb31f",
   "metadata": {},
   "outputs": [],
   "source": []
  },
  {
   "cell_type": "markdown",
   "id": "d1e1a9a2",
   "metadata": {},
   "source": [
    "# Índices datetime en Pandas"
   ]
  },
  {
   "cell_type": "code",
   "execution_count": null,
   "id": "2a6ae303",
   "metadata": {},
   "outputs": [],
   "source": []
  },
  {
   "cell_type": "code",
   "execution_count": null,
   "id": "fe9cac64",
   "metadata": {},
   "outputs": [],
   "source": []
  },
  {
   "cell_type": "code",
   "execution_count": null,
   "id": "9e20c8e8",
   "metadata": {},
   "outputs": [],
   "source": []
  },
  {
   "cell_type": "code",
   "execution_count": null,
   "id": "164d14d0",
   "metadata": {},
   "outputs": [],
   "source": []
  },
  {
   "cell_type": "code",
   "execution_count": null,
   "id": "c7f5b763",
   "metadata": {},
   "outputs": [],
   "source": []
  },
  {
   "cell_type": "code",
   "execution_count": null,
   "id": "54fb7794",
   "metadata": {},
   "outputs": [],
   "source": []
  },
  {
   "cell_type": "code",
   "execution_count": null,
   "id": "39928b84",
   "metadata": {},
   "outputs": [],
   "source": []
  },
  {
   "cell_type": "code",
   "execution_count": null,
   "id": "1287f52c",
   "metadata": {},
   "outputs": [],
   "source": []
  },
  {
   "cell_type": "code",
   "execution_count": null,
   "id": "4e3379bb",
   "metadata": {},
   "outputs": [],
   "source": []
  },
  {
   "cell_type": "code",
   "execution_count": null,
   "id": "b33e8c64",
   "metadata": {},
   "outputs": [],
   "source": []
  },
  {
   "cell_type": "code",
   "execution_count": null,
   "id": "0fb8ad80",
   "metadata": {},
   "outputs": [],
   "source": []
  },
  {
   "cell_type": "code",
   "execution_count": null,
   "id": "00455da8",
   "metadata": {},
   "outputs": [],
   "source": []
  },
  {
   "cell_type": "markdown",
   "id": "fe9c46a2",
   "metadata": {},
   "source": [
    "# Agregación o remuestreo"
   ]
  },
  {
   "cell_type": "code",
   "execution_count": null,
   "id": "3adb3530",
   "metadata": {},
   "outputs": [],
   "source": []
  },
  {
   "cell_type": "code",
   "execution_count": null,
   "id": "2911fda6",
   "metadata": {},
   "outputs": [],
   "source": []
  },
  {
   "cell_type": "code",
   "execution_count": null,
   "id": "67f48359",
   "metadata": {},
   "outputs": [],
   "source": []
  },
  {
   "cell_type": "markdown",
   "id": "972f080f",
   "metadata": {},
   "source": [
    "El método `.resample()` es parecido a un groupby, pero agregando con base en una frecuencia temporal. Al llamar el método `.resample()` es necesario especificar el parámetro **rule**, es decir determinar la forma de agregación.\n",
    "\n",
    "El parámetro **rule** describe la frequencia con la que se aplica la función de agregación (diario, mensual, anual, etc.) [[documentación](http://pandas.pydata.org/pandas-docs/stable/user_guide/timeseries.html#offset-aliases)]"
   ]
  },
  {
   "cell_type": "markdown",
   "id": "008b8db4",
   "metadata": {},
   "source": [
    "<table style=\"display: inline-block\">\n",
    "    <caption style=\"text-align: center\"><strong>Valores para el parámetro **rule** </strong></caption>\n",
    "<tr><th>ALIAS</th><th>DESCRIPCIÓN</th></tr>\n",
    "<tr><td>B</td><td>días hábiles (business days)</td></tr>\n",
    "<tr><td>D</td><td>días calendario</td></tr>\n",
    "<tr><td>W</td><td>semanal</td></tr>\n",
    "<tr><td>M</td><td>final del mes</td></tr>\n",
    "<tr><td>SM</td><td>quincenal y fin de mes (15 fin del mes)</td></tr>\n",
    "<tr><td>BM</td><td>final del mes hábil</td></tr>\n",
    "<tr><td>MS</td><td>comienzo del mes</td></tr>\n",
    "<tr><td>SMS</td><td>quincenal comienzo del mes (1ro y 15)</td></tr>\n",
    "<tr><td>BMS</td><td>comienzo del mes hábil</td></tr>\n",
    "<tr><td></td><td><font color=white>intentionally left blank</font></td></tr></table>\n",
    "\n",
    "<table style=\"display: inline-block; margin-left: 40px\">\n",
    "<caption style=\"text-align: center\"></caption>\n",
    "<tr><th>ALIAS</th><th>DESCRIPTION</th></tr>\n",
    "<tr><td>A</td><td>anual</td></tr>\n",
    "<tr><td>BA</td><td>final hábil del año</td></tr>\n",
    "<tr><td>AS</td><td>comienzo del año</td></tr>\n",
    "<tr><td>BAS</td><td>comienzo hábil del año</td></tr>\n",
    "<tr><td>BH</td><td>hora hábil</td></tr>\n",
    "<tr><td>H</td><td>hora</td></tr>\n",
    "<tr><td>T, min</td><td>minuto</td></tr>\n",
    "<tr><td>S</td><td>segundo</td></tr>\n",
    "<tr><td>L, ms</td><td>milisegundo</td></tr>\n",
    "<tr><td>U, us</td><td>microsegundo</td></tr>\n",
    "<tr><td>N</td><td>nanosegundo</td></tr></table>"
   ]
  },
  {
   "cell_type": "code",
   "execution_count": null,
   "id": "4ff89427",
   "metadata": {},
   "outputs": [],
   "source": []
  },
  {
   "cell_type": "code",
   "execution_count": null,
   "id": "d95b6bfb",
   "metadata": {},
   "outputs": [],
   "source": []
  },
  {
   "cell_type": "code",
   "execution_count": null,
   "id": "35b7348a",
   "metadata": {},
   "outputs": [],
   "source": []
  },
  {
   "cell_type": "markdown",
   "id": "7effdcaa",
   "metadata": {},
   "source": [
    "# Gráfico Q-Q"
   ]
  },
  {
   "cell_type": "code",
   "execution_count": null,
   "id": "48e5e837",
   "metadata": {},
   "outputs": [],
   "source": []
  },
  {
   "cell_type": "code",
   "execution_count": null,
   "id": "c7c48893",
   "metadata": {},
   "outputs": [],
   "source": []
  },
  {
   "cell_type": "markdown",
   "id": "65504747",
   "metadata": {},
   "source": [
    "# Traslación (Shifting)"
   ]
  },
  {
   "cell_type": "code",
   "execution_count": null,
   "id": "f45bb600",
   "metadata": {},
   "outputs": [],
   "source": []
  },
  {
   "cell_type": "code",
   "execution_count": null,
   "id": "0cd213b1",
   "metadata": {},
   "outputs": [],
   "source": []
  },
  {
   "cell_type": "code",
   "execution_count": null,
   "id": "8083daa5",
   "metadata": {},
   "outputs": [],
   "source": []
  },
  {
   "cell_type": "code",
   "execution_count": null,
   "id": "bd400683",
   "metadata": {},
   "outputs": [],
   "source": []
  },
  {
   "cell_type": "code",
   "execution_count": null,
   "id": "ac5610c5",
   "metadata": {},
   "outputs": [],
   "source": []
  },
  {
   "cell_type": "code",
   "execution_count": null,
   "id": "9abcdba0",
   "metadata": {},
   "outputs": [],
   "source": []
  },
  {
   "cell_type": "code",
   "execution_count": null,
   "id": "f6c78af7",
   "metadata": {},
   "outputs": [],
   "source": []
  },
  {
   "cell_type": "markdown",
   "id": "458cd8e4",
   "metadata": {},
   "source": [
    "# Visualización"
   ]
  },
  {
   "cell_type": "code",
   "execution_count": null,
   "id": "2493ab0b",
   "metadata": {},
   "outputs": [],
   "source": []
  },
  {
   "cell_type": "code",
   "execution_count": null,
   "id": "f9031f43",
   "metadata": {},
   "outputs": [],
   "source": []
  },
  {
   "cell_type": "code",
   "execution_count": null,
   "id": "f17a8ff5",
   "metadata": {},
   "outputs": [],
   "source": []
  },
  {
   "cell_type": "code",
   "execution_count": null,
   "id": "d8da3c86",
   "metadata": {},
   "outputs": [],
   "source": []
  },
  {
   "cell_type": "code",
   "execution_count": null,
   "id": "ff974d95",
   "metadata": {},
   "outputs": [],
   "source": []
  },
  {
   "cell_type": "code",
   "execution_count": null,
   "id": "b797d797",
   "metadata": {},
   "outputs": [],
   "source": []
  },
  {
   "cell_type": "code",
   "execution_count": null,
   "id": "1fe4ec0c",
   "metadata": {},
   "outputs": [],
   "source": []
  },
  {
   "cell_type": "markdown",
   "id": "60df1210",
   "metadata": {},
   "source": [
    "# Cálculos en ventana móvil (Rolling)"
   ]
  },
  {
   "cell_type": "code",
   "execution_count": null,
   "id": "1d1a2a12",
   "metadata": {},
   "outputs": [],
   "source": []
  },
  {
   "cell_type": "code",
   "execution_count": null,
   "id": "a594a1f7",
   "metadata": {},
   "outputs": [],
   "source": []
  },
  {
   "cell_type": "code",
   "execution_count": null,
   "id": "8101892c",
   "metadata": {},
   "outputs": [],
   "source": []
  },
  {
   "cell_type": "markdown",
   "id": "13a26c58",
   "metadata": {},
   "source": [
    "# Cálculos de ventana expandida"
   ]
  },
  {
   "cell_type": "code",
   "execution_count": null,
   "id": "d82da7cb",
   "metadata": {},
   "outputs": [],
   "source": []
  }
 ],
 "metadata": {
  "kernelspec": {
   "display_name": "Python 3 (ipykernel)",
   "language": "python",
   "name": "python3"
  },
  "language_info": {
   "codemirror_mode": {
    "name": "ipython",
    "version": 3
   },
   "file_extension": ".py",
   "mimetype": "text/x-python",
   "name": "python",
   "nbconvert_exporter": "python",
   "pygments_lexer": "ipython3",
   "version": "3.9.13"
  }
 },
 "nbformat": 4,
 "nbformat_minor": 5
}
