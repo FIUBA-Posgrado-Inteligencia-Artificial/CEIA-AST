{
 "cells": [
  {
   "cell_type": "code",
   "execution_count": 1,
   "id": "58686746",
   "metadata": {},
   "outputs": [],
   "source": [
    "# Librerías básicas\n",
    "import pandas as pd\n",
    "import numpy as np \n",
    "import matplotlib.pyplot as plt \n",
    "%matplotlib inline\n",
    "\n",
    "import seaborn as sns\n",
    "sns.set()"
   ]
  },
  {
   "cell_type": "markdown",
   "id": "a9ad9c79",
   "metadata": {},
   "source": [
    "# El módulo Statsmodels\n",
    "\n",
    "Statsmodels es un módulo de Python que ofrece clases y funciones de varios modelos estadísticos, así como pruebas de hipótesis \n",
    "y análisis exploratorio de datos. La documentación se encuentra en <a href='https://www.statsmodels.org/stable/index.html'>statsmodels.org</a>. "
   ]
  },
  {
   "cell_type": "code",
   "execution_count": 2,
   "id": "0b5e5487",
   "metadata": {},
   "outputs": [],
   "source": [
    "import statsmodels.graphics.tsaplots as sgt \n",
    "import statsmodels.tsa.stattools as sts \n",
    "from statsmodels.tsa.seasonal import seasonal_decompose\n",
    "\n",
    "import statsmodels.graphics.tsaplots as sgt\n",
    "from statsmodels.tsa.arima_model import ARIMA\n",
    "from statsmodels.tsa.arima.model import ARIMA\n",
    "from scipy.stats.distributions import chi2\n",
    "import statsmodels.tsa.stattools as sts "
   ]
  },
  {
   "cell_type": "markdown",
   "id": "6635c849",
   "metadata": {},
   "source": [
    "# Fuentes de datos interesantes"
   ]
  },
  {
   "cell_type": "markdown",
   "id": "57e14b0a",
   "metadata": {},
   "source": [
    "## API de Yahoo finance\n",
    "\n",
    "Yahoo Finance tiene una API que permite descargar información financiera para realizar análisis. La página web original de la documentación ya no existe. Sin embargo, existen algunas páginas de documentación no oficial como <a href= 'https://github.com/mxbi/yahoo-finance-api.git'> este repositorio en GitHub, </a> o <a href='https://python-yahoofinance.readthedocs.io/en/latest/api.html'> esta página de documentación the ReadTheDocs </a>."
   ]
  },
  {
   "cell_type": "code",
   "execution_count": 3,
   "id": "f4cfabbd",
   "metadata": {},
   "outputs": [
    {
     "name": "stdout",
     "output_type": "stream",
     "text": [
      "Defaulting to user installation because normal site-packages is not writeable\n",
      "Requirement already satisfied: yfinance in c:\\users\\lenovo\\appdata\\roaming\\python\\python39\\site-packages (0.2.43)\n",
      "Requirement already satisfied: pytz>=2022.5 in c:\\users\\lenovo\\appdata\\roaming\\python\\python39\\site-packages (from yfinance) (2024.1)\n",
      "Requirement already satisfied: lxml>=4.9.1 in c:\\programdata\\anaconda3\\lib\\site-packages (from yfinance) (4.9.1)\n",
      "Requirement already satisfied: html5lib>=1.1 in c:\\users\\lenovo\\appdata\\roaming\\python\\python39\\site-packages (from yfinance) (1.1)\n",
      "Requirement already satisfied: pandas>=1.3.0 in c:\\programdata\\anaconda3\\lib\\site-packages (from yfinance) (1.4.4)\n",
      "Requirement already satisfied: beautifulsoup4>=4.11.1 in c:\\programdata\\anaconda3\\lib\\site-packages (from yfinance) (4.11.1)\n",
      "Requirement already satisfied: requests>=2.31 in c:\\users\\lenovo\\appdata\\roaming\\python\\python39\\site-packages (from yfinance) (2.32.3)\n",
      "Requirement already satisfied: frozendict>=2.3.4 in c:\\users\\lenovo\\appdata\\roaming\\python\\python39\\site-packages (from yfinance) (2.4.4)\n",
      "Requirement already satisfied: multitasking>=0.0.7 in c:\\users\\lenovo\\appdata\\roaming\\python\\python39\\site-packages (from yfinance) (0.0.11)\n",
      "Requirement already satisfied: platformdirs>=2.0.0 in c:\\programdata\\anaconda3\\lib\\site-packages (from yfinance) (2.5.2)\n",
      "Requirement already satisfied: numpy>=1.16.5 in c:\\users\\lenovo\\appdata\\roaming\\python\\python39\\site-packages (from yfinance) (1.24.3)\n",
      "Requirement already satisfied: peewee>=3.16.2 in c:\\users\\lenovo\\appdata\\roaming\\python\\python39\\site-packages (from yfinance) (3.17.6)\n",
      "Requirement already satisfied: soupsieve>1.2 in c:\\programdata\\anaconda3\\lib\\site-packages (from beautifulsoup4>=4.11.1->yfinance) (2.3.1)\n",
      "Requirement already satisfied: six>=1.9 in c:\\programdata\\anaconda3\\lib\\site-packages (from html5lib>=1.1->yfinance) (1.16.0)\n",
      "Requirement already satisfied: webencodings in c:\\programdata\\anaconda3\\lib\\site-packages (from html5lib>=1.1->yfinance) (0.5.1)\n",
      "Requirement already satisfied: python-dateutil>=2.8.1 in c:\\programdata\\anaconda3\\lib\\site-packages (from pandas>=1.3.0->yfinance) (2.8.2)\n",
      "Requirement already satisfied: certifi>=2017.4.17 in c:\\programdata\\anaconda3\\lib\\site-packages (from requests>=2.31->yfinance) (2023.7.22)\n",
      "Requirement already satisfied: charset-normalizer<4,>=2 in c:\\programdata\\anaconda3\\lib\\site-packages (from requests>=2.31->yfinance) (2.0.4)\n",
      "Requirement already satisfied: urllib3<3,>=1.21.1 in c:\\programdata\\anaconda3\\lib\\site-packages (from requests>=2.31->yfinance) (1.26.11)\n",
      "Requirement already satisfied: idna<4,>=2.5 in c:\\programdata\\anaconda3\\lib\\site-packages (from requests>=2.31->yfinance) (3.3)\n",
      "Note: you may need to restart the kernel to use updated packages.\n"
     ]
    }
   ],
   "source": [
    "# Instalación de yfinance\n",
    "%pip install yfinance"
   ]
  },
  {
   "cell_type": "code",
   "execution_count": 4,
   "id": "0c86c59e",
   "metadata": {},
   "outputs": [],
   "source": [
    "# Se importa la librería yfinance\n",
    "import yfinance"
   ]
  },
  {
   "cell_type": "code",
   "execution_count": 5,
   "id": "8a0f6e2c",
   "metadata": {},
   "outputs": [
    {
     "name": "stderr",
     "output_type": "stream",
     "text": [
      "[*********************100%***********************]  2 of 2 completed\n"
     ]
    }
   ],
   "source": [
    "# Se descargan los datos S&P500 y Nikkei225\n",
    "df_yfinance_raw = yfinance.download(tickers = \"^GSPC ^N225\", #Las series de tiempo de interés - (en nuestro caso, S&P500 y NIKKEI225)\n",
    "                              start = \"1994-01-07\", #Fecha inicial\n",
    "                              end = \"2024-08-27\", #Fecha final\n",
    "                              interval = \"1d\", #Frecuencia.\n",
    "                              group_by = 'ticker', #Criterio de agrupación. Usualmente \"ticker\"\n",
    "                              auto_adjust = True#,  \n",
    "                              #threads = True\n",
    "                               ) #. "
   ]
  },
  {
   "cell_type": "code",
   "execution_count": 6,
   "id": "f60158b5",
   "metadata": {},
   "outputs": [
    {
     "data": {
      "text/html": [
       "<div>\n",
       "<style scoped>\n",
       "    .dataframe tbody tr th:only-of-type {\n",
       "        vertical-align: middle;\n",
       "    }\n",
       "\n",
       "    .dataframe tbody tr th {\n",
       "        vertical-align: top;\n",
       "    }\n",
       "\n",
       "    .dataframe thead tr th {\n",
       "        text-align: left;\n",
       "    }\n",
       "\n",
       "    .dataframe thead tr:last-of-type th {\n",
       "        text-align: right;\n",
       "    }\n",
       "</style>\n",
       "<table border=\"1\" class=\"dataframe\">\n",
       "  <thead>\n",
       "    <tr>\n",
       "      <th>Ticker</th>\n",
       "      <th colspan=\"5\" halign=\"left\">^GSPC</th>\n",
       "      <th colspan=\"5\" halign=\"left\">^N225</th>\n",
       "    </tr>\n",
       "    <tr>\n",
       "      <th>Price</th>\n",
       "      <th>Open</th>\n",
       "      <th>High</th>\n",
       "      <th>Low</th>\n",
       "      <th>Close</th>\n",
       "      <th>Volume</th>\n",
       "      <th>Open</th>\n",
       "      <th>High</th>\n",
       "      <th>Low</th>\n",
       "      <th>Close</th>\n",
       "      <th>Volume</th>\n",
       "    </tr>\n",
       "    <tr>\n",
       "      <th>Date</th>\n",
       "      <th></th>\n",
       "      <th></th>\n",
       "      <th></th>\n",
       "      <th></th>\n",
       "      <th></th>\n",
       "      <th></th>\n",
       "      <th></th>\n",
       "      <th></th>\n",
       "      <th></th>\n",
       "      <th></th>\n",
       "    </tr>\n",
       "  </thead>\n",
       "  <tbody>\n",
       "    <tr>\n",
       "      <th>1994-01-07 00:00:00+00:00</th>\n",
       "      <td>467.089996</td>\n",
       "      <td>470.260010</td>\n",
       "      <td>467.029999</td>\n",
       "      <td>469.899994</td>\n",
       "      <td>324920000.0</td>\n",
       "      <td>17842.980469</td>\n",
       "      <td>18131.410156</td>\n",
       "      <td>17787.480469</td>\n",
       "      <td>18124.009766</td>\n",
       "      <td>0.0</td>\n",
       "    </tr>\n",
       "    <tr>\n",
       "      <th>1994-01-10 00:00:00+00:00</th>\n",
       "      <td>469.899994</td>\n",
       "      <td>475.269989</td>\n",
       "      <td>469.549988</td>\n",
       "      <td>475.269989</td>\n",
       "      <td>319490000.0</td>\n",
       "      <td>18186.519531</td>\n",
       "      <td>18567.060547</td>\n",
       "      <td>18186.519531</td>\n",
       "      <td>18443.439453</td>\n",
       "      <td>0.0</td>\n",
       "    </tr>\n",
       "    <tr>\n",
       "      <th>1994-01-11 00:00:00+00:00</th>\n",
       "      <td>475.269989</td>\n",
       "      <td>475.279999</td>\n",
       "      <td>473.269989</td>\n",
       "      <td>474.130005</td>\n",
       "      <td>305490000.0</td>\n",
       "      <td>18481.849609</td>\n",
       "      <td>18671.669922</td>\n",
       "      <td>18373.039062</td>\n",
       "      <td>18485.250000</td>\n",
       "      <td>0.0</td>\n",
       "    </tr>\n",
       "    <tr>\n",
       "      <th>1994-01-12 00:00:00+00:00</th>\n",
       "      <td>474.130005</td>\n",
       "      <td>475.059998</td>\n",
       "      <td>472.140015</td>\n",
       "      <td>474.170013</td>\n",
       "      <td>310690000.0</td>\n",
       "      <td>18447.339844</td>\n",
       "      <td>18807.080078</td>\n",
       "      <td>18301.929688</td>\n",
       "      <td>18793.880859</td>\n",
       "      <td>0.0</td>\n",
       "    </tr>\n",
       "    <tr>\n",
       "      <th>1994-01-13 00:00:00+00:00</th>\n",
       "      <td>474.170013</td>\n",
       "      <td>474.170013</td>\n",
       "      <td>471.799988</td>\n",
       "      <td>472.470001</td>\n",
       "      <td>277970000.0</td>\n",
       "      <td>18770.380859</td>\n",
       "      <td>18823.380859</td>\n",
       "      <td>18548.750000</td>\n",
       "      <td>18577.259766</td>\n",
       "      <td>0.0</td>\n",
       "    </tr>\n",
       "  </tbody>\n",
       "</table>\n",
       "</div>"
      ],
      "text/plain": [
       "Ticker                          ^GSPC                                      \\\n",
       "Price                            Open        High         Low       Close   \n",
       "Date                                                                        \n",
       "1994-01-07 00:00:00+00:00  467.089996  470.260010  467.029999  469.899994   \n",
       "1994-01-10 00:00:00+00:00  469.899994  475.269989  469.549988  475.269989   \n",
       "1994-01-11 00:00:00+00:00  475.269989  475.279999  473.269989  474.130005   \n",
       "1994-01-12 00:00:00+00:00  474.130005  475.059998  472.140015  474.170013   \n",
       "1994-01-13 00:00:00+00:00  474.170013  474.170013  471.799988  472.470001   \n",
       "\n",
       "Ticker                                         ^N225                \\\n",
       "Price                           Volume          Open          High   \n",
       "Date                                                                 \n",
       "1994-01-07 00:00:00+00:00  324920000.0  17842.980469  18131.410156   \n",
       "1994-01-10 00:00:00+00:00  319490000.0  18186.519531  18567.060547   \n",
       "1994-01-11 00:00:00+00:00  305490000.0  18481.849609  18671.669922   \n",
       "1994-01-12 00:00:00+00:00  310690000.0  18447.339844  18807.080078   \n",
       "1994-01-13 00:00:00+00:00  277970000.0  18770.380859  18823.380859   \n",
       "\n",
       "Ticker                                                        \n",
       "Price                               Low         Close Volume  \n",
       "Date                                                          \n",
       "1994-01-07 00:00:00+00:00  17787.480469  18124.009766    0.0  \n",
       "1994-01-10 00:00:00+00:00  18186.519531  18443.439453    0.0  \n",
       "1994-01-11 00:00:00+00:00  18373.039062  18485.250000    0.0  \n",
       "1994-01-12 00:00:00+00:00  18301.929688  18793.880859    0.0  \n",
       "1994-01-13 00:00:00+00:00  18548.750000  18577.259766    0.0  "
      ]
     },
     "execution_count": 6,
     "metadata": {},
     "output_type": "execute_result"
    }
   ],
   "source": [
    "df_yfinance_raw.head()"
   ]
  },
  {
   "cell_type": "code",
   "execution_count": 7,
   "id": "a99e51b2",
   "metadata": {},
   "outputs": [],
   "source": [
    "# Se crea una copia para modificar\n",
    "df_yfinance = df_yfinance_raw.copy()"
   ]
  },
  {
   "cell_type": "code",
   "execution_count": 8,
   "id": "6233f498",
   "metadata": {},
   "outputs": [],
   "source": [
    "# Se agregan columnas para el nivel de cierre de los índices S&P500 y Nikkei255\n",
    "df_yfinance['spx'] = df_yfinance['^GSPC'].Close\n",
    "df_yfinance['nikkei'] = df_yfinance['^N225'].Close"
   ]
  },
  {
   "cell_type": "code",
   "execution_count": 9,
   "id": "54c95486",
   "metadata": {},
   "outputs": [],
   "source": [
    "#f_comp = df_comp.iloc[1:] # Removing the first elements, since we always start 1 period before the first, due to time zone differences of closing prices\n",
    "del df_yfinance['^N225'] # Se retiran los grupos de columnas '^N225' y '^GSPC'\n",
    "del df_yfinance['^GSPC']\n",
    "df_yfinance=df_yfinance.asfreq('b') # Se establece la frecuencia de los datos\n",
    "df_yfinance=df_yfinance.fillna(method='ffill') # Se rellenan los datos faltantes con el método ffill que usa el último valor válido"
   ]
  },
  {
   "cell_type": "code",
   "execution_count": 10,
   "id": "0d3a20b6",
   "metadata": {},
   "outputs": [
    {
     "data": {
      "text/html": [
       "<div>\n",
       "<style scoped>\n",
       "    .dataframe tbody tr th:only-of-type {\n",
       "        vertical-align: middle;\n",
       "    }\n",
       "\n",
       "    .dataframe tbody tr th {\n",
       "        vertical-align: top;\n",
       "    }\n",
       "\n",
       "    .dataframe thead tr th {\n",
       "        text-align: left;\n",
       "    }\n",
       "\n",
       "    .dataframe thead tr:last-of-type th {\n",
       "        text-align: right;\n",
       "    }\n",
       "</style>\n",
       "<table border=\"1\" class=\"dataframe\">\n",
       "  <thead>\n",
       "    <tr>\n",
       "      <th>Ticker</th>\n",
       "      <th>spx</th>\n",
       "      <th>nikkei</th>\n",
       "    </tr>\n",
       "    <tr>\n",
       "      <th>Price</th>\n",
       "      <th></th>\n",
       "      <th></th>\n",
       "    </tr>\n",
       "    <tr>\n",
       "      <th>Date</th>\n",
       "      <th></th>\n",
       "      <th></th>\n",
       "    </tr>\n",
       "  </thead>\n",
       "  <tbody>\n",
       "    <tr>\n",
       "      <th>1994-01-07 00:00:00+00:00</th>\n",
       "      <td>469.899994</td>\n",
       "      <td>18124.009766</td>\n",
       "    </tr>\n",
       "    <tr>\n",
       "      <th>1994-01-10 00:00:00+00:00</th>\n",
       "      <td>475.269989</td>\n",
       "      <td>18443.439453</td>\n",
       "    </tr>\n",
       "    <tr>\n",
       "      <th>1994-01-11 00:00:00+00:00</th>\n",
       "      <td>474.130005</td>\n",
       "      <td>18485.250000</td>\n",
       "    </tr>\n",
       "    <tr>\n",
       "      <th>1994-01-12 00:00:00+00:00</th>\n",
       "      <td>474.170013</td>\n",
       "      <td>18793.880859</td>\n",
       "    </tr>\n",
       "    <tr>\n",
       "      <th>1994-01-13 00:00:00+00:00</th>\n",
       "      <td>472.470001</td>\n",
       "      <td>18577.259766</td>\n",
       "    </tr>\n",
       "  </tbody>\n",
       "</table>\n",
       "</div>"
      ],
      "text/plain": [
       "Ticker                            spx        nikkei\n",
       "Price                                              \n",
       "Date                                               \n",
       "1994-01-07 00:00:00+00:00  469.899994  18124.009766\n",
       "1994-01-10 00:00:00+00:00  475.269989  18443.439453\n",
       "1994-01-11 00:00:00+00:00  474.130005  18485.250000\n",
       "1994-01-12 00:00:00+00:00  474.170013  18793.880859\n",
       "1994-01-13 00:00:00+00:00  472.470001  18577.259766"
      ]
     },
     "execution_count": 10,
     "metadata": {},
     "output_type": "execute_result"
    }
   ],
   "source": [
    "df_yfinance.head()"
   ]
  },
  {
   "cell_type": "code",
   "execution_count": 11,
   "id": "b8b1b53f",
   "metadata": {},
   "outputs": [
    {
     "data": {
      "text/plain": [
       "MultiIndex([(   'spx', ''),\n",
       "            ('nikkei', '')],\n",
       "           names=['Ticker', 'Price'])"
      ]
     },
     "execution_count": 11,
     "metadata": {},
     "output_type": "execute_result"
    }
   ],
   "source": [
    "df_yfinance.columns"
   ]
  },
  {
   "cell_type": "code",
   "execution_count": 12,
   "id": "775d4091",
   "metadata": {},
   "outputs": [],
   "source": [
    "df_yfinance.columns=['spx','nikkei']"
   ]
  },
  {
   "cell_type": "code",
   "execution_count": 13,
   "id": "22fa8adb",
   "metadata": {},
   "outputs": [
    {
     "data": {
      "text/plain": [
       "Index(['spx', 'nikkei'], dtype='object')"
      ]
     },
     "execution_count": 13,
     "metadata": {},
     "output_type": "execute_result"
    }
   ],
   "source": [
    "df_yfinance.columns"
   ]
  },
  {
   "cell_type": "code",
   "execution_count": 14,
   "id": "c3ddb053",
   "metadata": {},
   "outputs": [
    {
     "data": {
      "text/html": [
       "<div>\n",
       "<style scoped>\n",
       "    .dataframe tbody tr th:only-of-type {\n",
       "        vertical-align: middle;\n",
       "    }\n",
       "\n",
       "    .dataframe tbody tr th {\n",
       "        vertical-align: top;\n",
       "    }\n",
       "\n",
       "    .dataframe thead th {\n",
       "        text-align: right;\n",
       "    }\n",
       "</style>\n",
       "<table border=\"1\" class=\"dataframe\">\n",
       "  <thead>\n",
       "    <tr style=\"text-align: right;\">\n",
       "      <th></th>\n",
       "      <th>spx</th>\n",
       "      <th>nikkei</th>\n",
       "    </tr>\n",
       "    <tr>\n",
       "      <th>Date</th>\n",
       "      <th></th>\n",
       "      <th></th>\n",
       "    </tr>\n",
       "  </thead>\n",
       "  <tbody>\n",
       "    <tr>\n",
       "      <th>1994-01-07 00:00:00+00:00</th>\n",
       "      <td>469.899994</td>\n",
       "      <td>18124.009766</td>\n",
       "    </tr>\n",
       "    <tr>\n",
       "      <th>1994-01-10 00:00:00+00:00</th>\n",
       "      <td>475.269989</td>\n",
       "      <td>18443.439453</td>\n",
       "    </tr>\n",
       "    <tr>\n",
       "      <th>1994-01-11 00:00:00+00:00</th>\n",
       "      <td>474.130005</td>\n",
       "      <td>18485.250000</td>\n",
       "    </tr>\n",
       "    <tr>\n",
       "      <th>1994-01-12 00:00:00+00:00</th>\n",
       "      <td>474.170013</td>\n",
       "      <td>18793.880859</td>\n",
       "    </tr>\n",
       "    <tr>\n",
       "      <th>1994-01-13 00:00:00+00:00</th>\n",
       "      <td>472.470001</td>\n",
       "      <td>18577.259766</td>\n",
       "    </tr>\n",
       "  </tbody>\n",
       "</table>\n",
       "</div>"
      ],
      "text/plain": [
       "                                  spx        nikkei\n",
       "Date                                               \n",
       "1994-01-07 00:00:00+00:00  469.899994  18124.009766\n",
       "1994-01-10 00:00:00+00:00  475.269989  18443.439453\n",
       "1994-01-11 00:00:00+00:00  474.130005  18485.250000\n",
       "1994-01-12 00:00:00+00:00  474.170013  18793.880859\n",
       "1994-01-13 00:00:00+00:00  472.470001  18577.259766"
      ]
     },
     "execution_count": 14,
     "metadata": {},
     "output_type": "execute_result"
    }
   ],
   "source": [
    "df_yfinance.head() "
   ]
  },
  {
   "cell_type": "code",
   "execution_count": 15,
   "id": "6fc17815",
   "metadata": {},
   "outputs": [
    {
     "data": {
      "text/html": [
       "<div>\n",
       "<style scoped>\n",
       "    .dataframe tbody tr th:only-of-type {\n",
       "        vertical-align: middle;\n",
       "    }\n",
       "\n",
       "    .dataframe tbody tr th {\n",
       "        vertical-align: top;\n",
       "    }\n",
       "\n",
       "    .dataframe thead th {\n",
       "        text-align: right;\n",
       "    }\n",
       "</style>\n",
       "<table border=\"1\" class=\"dataframe\">\n",
       "  <thead>\n",
       "    <tr style=\"text-align: right;\">\n",
       "      <th></th>\n",
       "      <th>spx</th>\n",
       "      <th>nikkei</th>\n",
       "    </tr>\n",
       "    <tr>\n",
       "      <th>Date</th>\n",
       "      <th></th>\n",
       "      <th></th>\n",
       "    </tr>\n",
       "  </thead>\n",
       "  <tbody>\n",
       "    <tr>\n",
       "      <th>2024-08-20 00:00:00+00:00</th>\n",
       "      <td>5597.120117</td>\n",
       "      <td>38062.921875</td>\n",
       "    </tr>\n",
       "    <tr>\n",
       "      <th>2024-08-21 00:00:00+00:00</th>\n",
       "      <td>5620.850098</td>\n",
       "      <td>37951.800781</td>\n",
       "    </tr>\n",
       "    <tr>\n",
       "      <th>2024-08-22 00:00:00+00:00</th>\n",
       "      <td>5570.640137</td>\n",
       "      <td>38211.011719</td>\n",
       "    </tr>\n",
       "    <tr>\n",
       "      <th>2024-08-23 00:00:00+00:00</th>\n",
       "      <td>5634.609863</td>\n",
       "      <td>38364.269531</td>\n",
       "    </tr>\n",
       "    <tr>\n",
       "      <th>2024-08-26 00:00:00+00:00</th>\n",
       "      <td>5616.839844</td>\n",
       "      <td>38110.218750</td>\n",
       "    </tr>\n",
       "  </tbody>\n",
       "</table>\n",
       "</div>"
      ],
      "text/plain": [
       "                                   spx        nikkei\n",
       "Date                                                \n",
       "2024-08-20 00:00:00+00:00  5597.120117  38062.921875\n",
       "2024-08-21 00:00:00+00:00  5620.850098  37951.800781\n",
       "2024-08-22 00:00:00+00:00  5570.640137  38211.011719\n",
       "2024-08-23 00:00:00+00:00  5634.609863  38364.269531\n",
       "2024-08-26 00:00:00+00:00  5616.839844  38110.218750"
      ]
     },
     "execution_count": 15,
     "metadata": {},
     "output_type": "execute_result"
    }
   ],
   "source": [
    "df_yfinance.tail() # Making sure of the last day we're including in the series"
   ]
  },
  {
   "cell_type": "code",
   "execution_count": 16,
   "id": "f0cc0c92",
   "metadata": {},
   "outputs": [],
   "source": [
    "#df_comp.date = pd.to_datetime(df_comp.date, dayfirst = True)\n",
    "#df_comp.set_index(\"date\", inplace=True)\n",
    "df_yfinance=df_yfinance.asfreq('b')\n",
    "df_yfinance=df_yfinance.fillna(method='ffill')"
   ]
  },
  {
   "cell_type": "code",
   "execution_count": 17,
   "id": "88597010",
   "metadata": {
    "scrolled": true
   },
   "outputs": [
    {
     "data": {
      "text/html": [
       "<div>\n",
       "<style scoped>\n",
       "    .dataframe tbody tr th:only-of-type {\n",
       "        vertical-align: middle;\n",
       "    }\n",
       "\n",
       "    .dataframe tbody tr th {\n",
       "        vertical-align: top;\n",
       "    }\n",
       "\n",
       "    .dataframe thead th {\n",
       "        text-align: right;\n",
       "    }\n",
       "</style>\n",
       "<table border=\"1\" class=\"dataframe\">\n",
       "  <thead>\n",
       "    <tr style=\"text-align: right;\">\n",
       "      <th></th>\n",
       "      <th>spx</th>\n",
       "      <th>nikkei</th>\n",
       "    </tr>\n",
       "    <tr>\n",
       "      <th>Date</th>\n",
       "      <th></th>\n",
       "      <th></th>\n",
       "    </tr>\n",
       "  </thead>\n",
       "  <tbody>\n",
       "    <tr>\n",
       "      <th>1994-01-07 00:00:00+00:00</th>\n",
       "      <td>469.899994</td>\n",
       "      <td>18124.009766</td>\n",
       "    </tr>\n",
       "    <tr>\n",
       "      <th>1994-01-10 00:00:00+00:00</th>\n",
       "      <td>475.269989</td>\n",
       "      <td>18443.439453</td>\n",
       "    </tr>\n",
       "    <tr>\n",
       "      <th>1994-01-11 00:00:00+00:00</th>\n",
       "      <td>474.130005</td>\n",
       "      <td>18485.250000</td>\n",
       "    </tr>\n",
       "    <tr>\n",
       "      <th>1994-01-12 00:00:00+00:00</th>\n",
       "      <td>474.170013</td>\n",
       "      <td>18793.880859</td>\n",
       "    </tr>\n",
       "    <tr>\n",
       "      <th>1994-01-13 00:00:00+00:00</th>\n",
       "      <td>472.470001</td>\n",
       "      <td>18577.259766</td>\n",
       "    </tr>\n",
       "  </tbody>\n",
       "</table>\n",
       "</div>"
      ],
      "text/plain": [
       "                                  spx        nikkei\n",
       "Date                                               \n",
       "1994-01-07 00:00:00+00:00  469.899994  18124.009766\n",
       "1994-01-10 00:00:00+00:00  475.269989  18443.439453\n",
       "1994-01-11 00:00:00+00:00  474.130005  18485.250000\n",
       "1994-01-12 00:00:00+00:00  474.170013  18793.880859\n",
       "1994-01-13 00:00:00+00:00  472.470001  18577.259766"
      ]
     },
     "execution_count": 17,
     "metadata": {},
     "output_type": "execute_result"
    }
   ],
   "source": [
    "df_yfinance.head()"
   ]
  },
  {
   "cell_type": "markdown",
   "id": "da5c39be",
   "metadata": {},
   "source": [
    "## Algunos archivos csv con datos\n",
    "\n",
    "En <a href='https://github.com/jbrownlee/Datasets.git'>este repositorio de GitHub</a> se encuentran muchos archivos .csv con datos apropiados para ejercicios de aprendizaje de máquina y series de tiempo. En este notebook utilizaremos el archivo 'airline_passengers.csv'."
   ]
  },
  {
   "cell_type": "code",
   "execution_count": 18,
   "id": "c0d228df",
   "metadata": {},
   "outputs": [],
   "source": [
    "df_airline = pd.read_csv('airline_passengers.csv',index_col='Month',parse_dates=True)"
   ]
  },
  {
   "cell_type": "code",
   "execution_count": 19,
   "id": "4a2b4e10",
   "metadata": {},
   "outputs": [
    {
     "data": {
      "text/html": [
       "<div>\n",
       "<style scoped>\n",
       "    .dataframe tbody tr th:only-of-type {\n",
       "        vertical-align: middle;\n",
       "    }\n",
       "\n",
       "    .dataframe tbody tr th {\n",
       "        vertical-align: top;\n",
       "    }\n",
       "\n",
       "    .dataframe thead th {\n",
       "        text-align: right;\n",
       "    }\n",
       "</style>\n",
       "<table border=\"1\" class=\"dataframe\">\n",
       "  <thead>\n",
       "    <tr style=\"text-align: right;\">\n",
       "      <th></th>\n",
       "      <th>Passengers</th>\n",
       "    </tr>\n",
       "    <tr>\n",
       "      <th>Month</th>\n",
       "      <th></th>\n",
       "    </tr>\n",
       "  </thead>\n",
       "  <tbody>\n",
       "    <tr>\n",
       "      <th>1949-01-01</th>\n",
       "      <td>112</td>\n",
       "    </tr>\n",
       "    <tr>\n",
       "      <th>1949-02-01</th>\n",
       "      <td>118</td>\n",
       "    </tr>\n",
       "    <tr>\n",
       "      <th>1949-03-01</th>\n",
       "      <td>132</td>\n",
       "    </tr>\n",
       "    <tr>\n",
       "      <th>1949-04-01</th>\n",
       "      <td>129</td>\n",
       "    </tr>\n",
       "    <tr>\n",
       "      <th>1949-05-01</th>\n",
       "      <td>121</td>\n",
       "    </tr>\n",
       "  </tbody>\n",
       "</table>\n",
       "</div>"
      ],
      "text/plain": [
       "            Passengers\n",
       "Month                 \n",
       "1949-01-01         112\n",
       "1949-02-01         118\n",
       "1949-03-01         132\n",
       "1949-04-01         129\n",
       "1949-05-01         121"
      ]
     },
     "execution_count": 19,
     "metadata": {},
     "output_type": "execute_result"
    }
   ],
   "source": [
    "df_airline.head()"
   ]
  },
  {
   "cell_type": "markdown",
   "id": "822133c2",
   "metadata": {},
   "source": [
    "## Datos que vienen con la librería statsmodels\n",
    "La librería <a href='https://www.statsmodels.org/stable/index.html'>statsmodels</a> tiene varios conjuntos de datos incorporados.\n",
    "En este notebook, utilizaremos el dataset 'macrodata', que trae datos macroeconómicos de EEUU."
   ]
  },
  {
   "cell_type": "code",
   "execution_count": 20,
   "id": "d1aa3c16",
   "metadata": {},
   "outputs": [
    {
     "name": "stdout",
     "output_type": "stream",
     "text": [
      "::\n",
      "    Number of Observations - 203\n",
      "\n",
      "    Number of Variables - 14\n",
      "\n",
      "    Variable name definitions::\n",
      "\n",
      "        year      - 1959q1 - 2009q3\n",
      "        quarter   - 1-4\n",
      "        realgdp   - Real gross domestic product (Bil. of chained 2005 US$,\n",
      "                    seasonally adjusted annual rate)\n",
      "        realcons  - Real personal consumption expenditures (Bil. of chained\n",
      "                    2005 US$, seasonally adjusted annual rate)\n",
      "        realinv   - Real gross private domestic investment (Bil. of chained\n",
      "                    2005 US$, seasonally adjusted annual rate)\n",
      "        realgovt  - Real federal consumption expenditures & gross investment\n",
      "                    (Bil. of chained 2005 US$, seasonally adjusted annual rate)\n",
      "        realdpi   - Real private disposable income (Bil. of chained 2005\n",
      "                    US$, seasonally adjusted annual rate)\n",
      "        cpi       - End of the quarter consumer price index for all urban\n",
      "                    consumers: all items (1982-84 = 100, seasonally adjusted).\n",
      "        m1        - End of the quarter M1 nominal money stock (Seasonally\n",
      "                    adjusted)\n",
      "        tbilrate  - Quarterly monthly average of the monthly 3-month\n",
      "                    treasury bill: secondary market rate\n",
      "        unemp     - Seasonally adjusted unemployment rate (%)\n",
      "        pop       - End of the quarter total population: all ages incl. armed\n",
      "                    forces over seas\n",
      "        infl      - Inflation rate (ln(cpi_{t}/cpi_{t-1}) * 400)\n",
      "        realint   - Real interest rate (tbilrate - infl)\n",
      "\n"
     ]
    }
   ],
   "source": [
    "#import pandas as pd\n",
    "import statsmodels.api as sm\n",
    "df_macrodata = sm.datasets.macrodata.load_pandas().data\n",
    "df_macrodata.index = pd.Index(sm.tsa.datetools.dates_from_range('1959Q1', '2009Q3'))\n",
    "print(sm.datasets.macrodata.NOTE)"
   ]
  },
  {
   "cell_type": "code",
   "execution_count": 21,
   "id": "fa6026e1",
   "metadata": {},
   "outputs": [
    {
     "data": {
      "text/html": [
       "<div>\n",
       "<style scoped>\n",
       "    .dataframe tbody tr th:only-of-type {\n",
       "        vertical-align: middle;\n",
       "    }\n",
       "\n",
       "    .dataframe tbody tr th {\n",
       "        vertical-align: top;\n",
       "    }\n",
       "\n",
       "    .dataframe thead th {\n",
       "        text-align: right;\n",
       "    }\n",
       "</style>\n",
       "<table border=\"1\" class=\"dataframe\">\n",
       "  <thead>\n",
       "    <tr style=\"text-align: right;\">\n",
       "      <th></th>\n",
       "      <th>year</th>\n",
       "      <th>quarter</th>\n",
       "      <th>realgdp</th>\n",
       "      <th>realcons</th>\n",
       "      <th>realinv</th>\n",
       "      <th>realgovt</th>\n",
       "      <th>realdpi</th>\n",
       "      <th>cpi</th>\n",
       "      <th>m1</th>\n",
       "      <th>tbilrate</th>\n",
       "      <th>unemp</th>\n",
       "      <th>pop</th>\n",
       "      <th>infl</th>\n",
       "      <th>realint</th>\n",
       "    </tr>\n",
       "  </thead>\n",
       "  <tbody>\n",
       "    <tr>\n",
       "      <th>1959-03-31</th>\n",
       "      <td>1959.0</td>\n",
       "      <td>1.0</td>\n",
       "      <td>2710.349</td>\n",
       "      <td>1707.4</td>\n",
       "      <td>286.898</td>\n",
       "      <td>470.045</td>\n",
       "      <td>1886.9</td>\n",
       "      <td>28.98</td>\n",
       "      <td>139.7</td>\n",
       "      <td>2.82</td>\n",
       "      <td>5.8</td>\n",
       "      <td>177.146</td>\n",
       "      <td>0.00</td>\n",
       "      <td>0.00</td>\n",
       "    </tr>\n",
       "    <tr>\n",
       "      <th>1959-06-30</th>\n",
       "      <td>1959.0</td>\n",
       "      <td>2.0</td>\n",
       "      <td>2778.801</td>\n",
       "      <td>1733.7</td>\n",
       "      <td>310.859</td>\n",
       "      <td>481.301</td>\n",
       "      <td>1919.7</td>\n",
       "      <td>29.15</td>\n",
       "      <td>141.7</td>\n",
       "      <td>3.08</td>\n",
       "      <td>5.1</td>\n",
       "      <td>177.830</td>\n",
       "      <td>2.34</td>\n",
       "      <td>0.74</td>\n",
       "    </tr>\n",
       "    <tr>\n",
       "      <th>1959-09-30</th>\n",
       "      <td>1959.0</td>\n",
       "      <td>3.0</td>\n",
       "      <td>2775.488</td>\n",
       "      <td>1751.8</td>\n",
       "      <td>289.226</td>\n",
       "      <td>491.260</td>\n",
       "      <td>1916.4</td>\n",
       "      <td>29.35</td>\n",
       "      <td>140.5</td>\n",
       "      <td>3.82</td>\n",
       "      <td>5.3</td>\n",
       "      <td>178.657</td>\n",
       "      <td>2.74</td>\n",
       "      <td>1.09</td>\n",
       "    </tr>\n",
       "    <tr>\n",
       "      <th>1959-12-31</th>\n",
       "      <td>1959.0</td>\n",
       "      <td>4.0</td>\n",
       "      <td>2785.204</td>\n",
       "      <td>1753.7</td>\n",
       "      <td>299.356</td>\n",
       "      <td>484.052</td>\n",
       "      <td>1931.3</td>\n",
       "      <td>29.37</td>\n",
       "      <td>140.0</td>\n",
       "      <td>4.33</td>\n",
       "      <td>5.6</td>\n",
       "      <td>179.386</td>\n",
       "      <td>0.27</td>\n",
       "      <td>4.06</td>\n",
       "    </tr>\n",
       "    <tr>\n",
       "      <th>1960-03-31</th>\n",
       "      <td>1960.0</td>\n",
       "      <td>1.0</td>\n",
       "      <td>2847.699</td>\n",
       "      <td>1770.5</td>\n",
       "      <td>331.722</td>\n",
       "      <td>462.199</td>\n",
       "      <td>1955.5</td>\n",
       "      <td>29.54</td>\n",
       "      <td>139.6</td>\n",
       "      <td>3.50</td>\n",
       "      <td>5.2</td>\n",
       "      <td>180.007</td>\n",
       "      <td>2.31</td>\n",
       "      <td>1.19</td>\n",
       "    </tr>\n",
       "  </tbody>\n",
       "</table>\n",
       "</div>"
      ],
      "text/plain": [
       "              year  quarter   realgdp  realcons  realinv  realgovt  realdpi  \\\n",
       "1959-03-31  1959.0      1.0  2710.349    1707.4  286.898   470.045   1886.9   \n",
       "1959-06-30  1959.0      2.0  2778.801    1733.7  310.859   481.301   1919.7   \n",
       "1959-09-30  1959.0      3.0  2775.488    1751.8  289.226   491.260   1916.4   \n",
       "1959-12-31  1959.0      4.0  2785.204    1753.7  299.356   484.052   1931.3   \n",
       "1960-03-31  1960.0      1.0  2847.699    1770.5  331.722   462.199   1955.5   \n",
       "\n",
       "              cpi     m1  tbilrate  unemp      pop  infl  realint  \n",
       "1959-03-31  28.98  139.7      2.82    5.8  177.146  0.00     0.00  \n",
       "1959-06-30  29.15  141.7      3.08    5.1  177.830  2.34     0.74  \n",
       "1959-09-30  29.35  140.5      3.82    5.3  178.657  2.74     1.09  \n",
       "1959-12-31  29.37  140.0      4.33    5.6  179.386  0.27     4.06  \n",
       "1960-03-31  29.54  139.6      3.50    5.2  180.007  2.31     1.19  "
      ]
     },
     "execution_count": 21,
     "metadata": {},
     "output_type": "execute_result"
    }
   ],
   "source": [
    "df_macrodata.head()"
   ]
  },
  {
   "cell_type": "markdown",
   "id": "fe3f193c",
   "metadata": {},
   "source": [
    "## Datos de simulados de ventas"
   ]
  },
  {
   "cell_type": "code",
   "execution_count": 22,
   "id": "cda8265e",
   "metadata": {},
   "outputs": [],
   "source": [
    "df_ventas = pd.read_excel('Datos_clase_1.xlsx',index_col = 'Fecha', parse_dates = True)"
   ]
  },
  {
   "cell_type": "markdown",
   "id": "ef9b624b",
   "metadata": {},
   "source": [
    "# Modelos AR"
   ]
  },
  {
   "cell_type": "markdown",
   "id": "f4ea9913",
   "metadata": {},
   "source": [
    "## Yahoo finance"
   ]
  },
  {
   "cell_type": "markdown",
   "id": "c0d5ec91",
   "metadata": {},
   "source": [
    "### Estacionaridad"
   ]
  },
  {
   "cell_type": "code",
   "execution_count": 23,
   "id": "8ad1b770",
   "metadata": {},
   "outputs": [
    {
     "data": {
      "text/plain": [
       "(2.495421902147278,\n",
       " 0.9990483594146493,\n",
       " 32,\n",
       " 7959,\n",
       " {'1%': -3.4311718884675066,\n",
       "  '5%': -2.861903215555782,\n",
       "  '10%': -2.566963334958385},\n",
       " 72367.34132821791)"
      ]
     },
     "execution_count": 23,
     "metadata": {},
     "output_type": "execute_result"
    }
   ],
   "source": [
    "sts.adfuller(df_yfinance['spx'])"
   ]
  },
  {
   "cell_type": "markdown",
   "id": "ce2a9c2a",
   "metadata": {},
   "source": [
    "### PACF"
   ]
  },
  {
   "cell_type": "code",
   "execution_count": 24,
   "id": "3068cc15",
   "metadata": {},
   "outputs": [
    {
     "name": "stderr",
     "output_type": "stream",
     "text": [
      "C:\\ProgramData\\Anaconda3\\lib\\site-packages\\statsmodels\\graphics\\tsaplots.py:348: FutureWarning: The default method 'yw' can produce PACF values outside of the [-1,1] interval. After 0.13, the default will change tounadjusted Yule-Walker ('ywm'). You can use this method now by setting method='ywm'.\n",
      "  warnings.warn(\n"
     ]
    },
    {
     "data": {
      "image/png": "[encoded data removed]",
      "text/plain": [
       "<Figure size 640x480 with 1 Axes>"
      ]
     },
     "metadata": {},
     "output_type": "display_data"
    }
   ],
   "source": [
    "sgt.plot_pacf(df_yfinance['spx'], zero = False, lags = 40)\n",
    "plt.title(\"PACF for S&P500\", size = 20)\n",
    "plt.show()"
   ]
  },
  {
   "cell_type": "markdown",
   "id": "2d4dc4e3",
   "metadata": {},
   "source": [
    "### Modelo AR(1)"
   ]
  },
  {
   "cell_type": "code",
   "execution_count": 25,
   "id": "8c16396c",
   "metadata": {},
   "outputs": [],
   "source": [
    "yfinance_model_ar_1 = ARIMA(df_yfinance['spx'], order=(1,0,0))"
   ]
  },
  {
   "cell_type": "code",
   "execution_count": 26,
   "id": "7fd5bf3b",
   "metadata": {},
   "outputs": [
    {
     "name": "stderr",
     "output_type": "stream",
     "text": [
      "C:\\ProgramData\\Anaconda3\\lib\\site-packages\\statsmodels\\tsa\\statespace\\sarimax.py:966: UserWarning: Non-stationary starting autoregressive parameters found. Using zeros as starting parameters.\n",
      "  warn('Non-stationary starting autoregressive parameters'\n"
     ]
    }
   ],
   "source": [
    "yfinance_results_ar_1 = yfinance_model_ar_1.fit()"
   ]
  },
  {
   "cell_type": "code",
   "execution_count": 27,
   "id": "a3f52d64",
   "metadata": {},
   "outputs": [
    {
     "data": {
      "text/html": [
       "<table class=\"simpletable\">\n",
       "<caption>SARIMAX Results</caption>\n",
       "<tr>\n",
       "  <th>Dep. Variable:</th>          <td>spx</td>       <th>  No. Observations:  </th>    <td>7992</td>   \n",
       "</tr>\n",
       "<tr>\n",
       "  <th>Model:</th>            <td>ARIMA(1, 0, 0)</td>  <th>  Log Likelihood     </th> <td>-36454.616</td>\n",
       "</tr>\n",
       "<tr>\n",
       "  <th>Date:</th>            <td>Wed, 18 Sep 2024</td> <th>  AIC                </th>  <td>72915.231</td>\n",
       "</tr>\n",
       "<tr>\n",
       "  <th>Time:</th>                <td>17:52:26</td>     <th>  BIC                </th>  <td>72936.190</td>\n",
       "</tr>\n",
       "<tr>\n",
       "  <th>Sample:</th>             <td>01-07-1994</td>    <th>  HQIC               </th>  <td>72922.406</td>\n",
       "</tr>\n",
       "<tr>\n",
       "  <th></th>                   <td>- 08-26-2024</td>   <th>                     </th>      <td> </td>    \n",
       "</tr>\n",
       "<tr>\n",
       "  <th>Covariance Type:</th>        <td>opg</td>       <th>                     </th>      <td> </td>    \n",
       "</tr>\n",
       "</table>\n",
       "<table class=\"simpletable\">\n",
       "<tr>\n",
       "     <td></td>       <th>coef</th>     <th>std err</th>      <th>z</th>      <th>P>|z|</th>  <th>[0.025</th>    <th>0.975]</th>  \n",
       "</tr>\n",
       "<tr>\n",
       "  <th>const</th>  <td> 1818.9555</td> <td> 1144.491</td> <td>    1.589</td> <td> 0.112</td> <td> -424.206</td> <td> 4062.117</td>\n",
       "</tr>\n",
       "<tr>\n",
       "  <th>ar.L1</th>  <td>    0.9998</td> <td>    0.000</td> <td> 6308.795</td> <td> 0.000</td> <td>    1.000</td> <td>    1.000</td>\n",
       "</tr>\n",
       "<tr>\n",
       "  <th>sigma2</th> <td>  535.8763</td> <td>    2.663</td> <td>  201.206</td> <td> 0.000</td> <td>  530.656</td> <td>  541.096</td>\n",
       "</tr>\n",
       "</table>\n",
       "<table class=\"simpletable\">\n",
       "<tr>\n",
       "  <th>Ljung-Box (L1) (Q):</th>     <td>49.71</td> <th>  Jarque-Bera (JB):  </th> <td>117805.78</td>\n",
       "</tr>\n",
       "<tr>\n",
       "  <th>Prob(Q):</th>                <td>0.00</td>  <th>  Prob(JB):          </th>   <td>0.00</td>   \n",
       "</tr>\n",
       "<tr>\n",
       "  <th>Heteroskedasticity (H):</th> <td>8.68</td>  <th>  Skew:              </th>   <td>-0.73</td>  \n",
       "</tr>\n",
       "<tr>\n",
       "  <th>Prob(H) (two-sided):</th>    <td>0.00</td>  <th>  Kurtosis:          </th>   <td>21.75</td>  \n",
       "</tr>\n",
       "</table><br/><br/>Warnings:<br/>[1] Covariance matrix calculated using the outer product of gradients (complex-step)."
      ],
      "text/plain": [
       "<class 'statsmodels.iolib.summary.Summary'>\n",
       "\"\"\"\n",
       "                               SARIMAX Results                                \n",
       "==============================================================================\n",
       "Dep. Variable:                    spx   No. Observations:                 7992\n",
       "Model:                 ARIMA(1, 0, 0)   Log Likelihood              -36454.616\n",
       "Date:                Wed, 18 Sep 2024   AIC                          72915.231\n",
       "Time:                        17:52:26   BIC                          72936.190\n",
       "Sample:                    01-07-1994   HQIC                         72922.406\n",
       "                         - 08-26-2024                                         \n",
       "Covariance Type:                  opg                                         \n",
       "==============================================================================\n",
       "                 coef    std err          z      P>|z|      [0.025      0.975]\n",
       "------------------------------------------------------------------------------\n",
       "const       1818.9555   1144.491      1.589      0.112    -424.206    4062.117\n",
       "ar.L1          0.9998      0.000   6308.795      0.000       1.000       1.000\n",
       "sigma2       535.8763      2.663    201.206      0.000     530.656     541.096\n",
       "===================================================================================\n",
       "Ljung-Box (L1) (Q):                  49.71   Jarque-Bera (JB):            117805.78\n",
       "Prob(Q):                              0.00   Prob(JB):                         0.00\n",
       "Heteroskedasticity (H):               8.68   Skew:                            -0.73\n",
       "Prob(H) (two-sided):                  0.00   Kurtosis:                        21.75\n",
       "===================================================================================\n",
       "\n",
       "Warnings:\n",
       "[1] Covariance matrix calculated using the outer product of gradients (complex-step).\n",
       "\"\"\""
      ]
     },
     "execution_count": 27,
     "metadata": {},
     "output_type": "execute_result"
    }
   ],
   "source": [
    "yfinance_results_ar_1.summary()"
   ]
  },
  {
   "cell_type": "markdown",
   "id": "f4cba055",
   "metadata": {},
   "source": [
    "### AR de mayor complejidad"
   ]
  },
  {
   "cell_type": "code",
   "execution_count": 28,
   "id": "fc7c2037",
   "metadata": {},
   "outputs": [],
   "source": [
    "yfinance_model_ar_2 = ARIMA(df_yfinance['spx'], order=(2,0,0))"
   ]
  },
  {
   "cell_type": "code",
   "execution_count": 29,
   "id": "79b87e45",
   "metadata": {},
   "outputs": [
    {
     "name": "stderr",
     "output_type": "stream",
     "text": [
      "C:\\ProgramData\\Anaconda3\\lib\\site-packages\\statsmodels\\tsa\\statespace\\sarimax.py:966: UserWarning: Non-stationary starting autoregressive parameters found. Using zeros as starting parameters.\n",
      "  warn('Non-stationary starting autoregressive parameters'\n"
     ]
    }
   ],
   "source": [
    "yfinance_results_ar_2 = yfinance_model_ar_2.fit()"
   ]
  },
  {
   "cell_type": "code",
   "execution_count": 30,
   "id": "ef2e65e1",
   "metadata": {
    "scrolled": true
   },
   "outputs": [
    {
     "data": {
      "text/html": [
       "<table class=\"simpletable\">\n",
       "<caption>SARIMAX Results</caption>\n",
       "<tr>\n",
       "  <th>Dep. Variable:</th>          <td>spx</td>       <th>  No. Observations:  </th>    <td>7992</td>   \n",
       "</tr>\n",
       "<tr>\n",
       "  <th>Model:</th>            <td>ARIMA(2, 0, 0)</td>  <th>  Log Likelihood     </th> <td>-36429.118</td>\n",
       "</tr>\n",
       "<tr>\n",
       "  <th>Date:</th>            <td>Wed, 18 Sep 2024</td> <th>  AIC                </th>  <td>72866.236</td>\n",
       "</tr>\n",
       "<tr>\n",
       "  <th>Time:</th>                <td>17:52:42</td>     <th>  BIC                </th>  <td>72894.181</td>\n",
       "</tr>\n",
       "<tr>\n",
       "  <th>Sample:</th>             <td>01-07-1994</td>    <th>  HQIC               </th>  <td>72875.802</td>\n",
       "</tr>\n",
       "<tr>\n",
       "  <th></th>                   <td>- 08-26-2024</td>   <th>                     </th>      <td> </td>    \n",
       "</tr>\n",
       "<tr>\n",
       "  <th>Covariance Type:</th>        <td>opg</td>       <th>                     </th>      <td> </td>    \n",
       "</tr>\n",
       "</table>\n",
       "<table class=\"simpletable\">\n",
       "<tr>\n",
       "     <td></td>       <th>coef</th>     <th>std err</th>      <th>z</th>      <th>P>|z|</th>  <th>[0.025</th>    <th>0.975]</th>  \n",
       "</tr>\n",
       "<tr>\n",
       "  <th>const</th>  <td> 1818.8396</td> <td> 5.59e-05</td> <td> 3.25e+07</td> <td> 0.000</td> <td> 1818.839</td> <td> 1818.840</td>\n",
       "</tr>\n",
       "<tr>\n",
       "  <th>ar.L1</th>  <td>    0.9214</td> <td>    0.004</td> <td>  236.593</td> <td> 0.000</td> <td>    0.914</td> <td>    0.929</td>\n",
       "</tr>\n",
       "<tr>\n",
       "  <th>ar.L2</th>  <td>    0.0785</td> <td>    0.004</td> <td>   20.182</td> <td> 0.000</td> <td>    0.071</td> <td>    0.086</td>\n",
       "</tr>\n",
       "<tr>\n",
       "  <th>sigma2</th> <td>  532.3706</td> <td>    2.799</td> <td>  190.217</td> <td> 0.000</td> <td>  526.885</td> <td>  537.856</td>\n",
       "</tr>\n",
       "</table>\n",
       "<table class=\"simpletable\">\n",
       "<tr>\n",
       "  <th>Ljung-Box (L1) (Q):</th>     <td>0.01</td> <th>  Jarque-Bera (JB):  </th> <td>104978.47</td>\n",
       "</tr>\n",
       "<tr>\n",
       "  <th>Prob(Q):</th>                <td>0.93</td> <th>  Prob(JB):          </th>   <td>0.00</td>   \n",
       "</tr>\n",
       "<tr>\n",
       "  <th>Heteroskedasticity (H):</th> <td>8.59</td> <th>  Skew:              </th>   <td>-0.81</td>  \n",
       "</tr>\n",
       "<tr>\n",
       "  <th>Prob(H) (two-sided):</th>    <td>0.00</td> <th>  Kurtosis:          </th>   <td>20.68</td>  \n",
       "</tr>\n",
       "</table><br/><br/>Warnings:<br/>[1] Covariance matrix calculated using the outer product of gradients (complex-step).<br/>[2] Covariance matrix is singular or near-singular, with condition number 4.5e+20. Standard errors may be unstable."
      ],
      "text/plain": [
       "<class 'statsmodels.iolib.summary.Summary'>\n",
       "\"\"\"\n",
       "                               SARIMAX Results                                \n",
       "==============================================================================\n",
       "Dep. Variable:                    spx   No. Observations:                 7992\n",
       "Model:                 ARIMA(2, 0, 0)   Log Likelihood              -36429.118\n",
       "Date:                Wed, 18 Sep 2024   AIC                          72866.236\n",
       "Time:                        17:52:42   BIC                          72894.181\n",
       "Sample:                    01-07-1994   HQIC                         72875.802\n",
       "                         - 08-26-2024                                         \n",
       "Covariance Type:                  opg                                         \n",
       "==============================================================================\n",
       "                 coef    std err          z      P>|z|      [0.025      0.975]\n",
       "------------------------------------------------------------------------------\n",
       "const       1818.8396   5.59e-05   3.25e+07      0.000    1818.839    1818.840\n",
       "ar.L1          0.9214      0.004    236.593      0.000       0.914       0.929\n",
       "ar.L2          0.0785      0.004     20.182      0.000       0.071       0.086\n",
       "sigma2       532.3706      2.799    190.217      0.000     526.885     537.856\n",
       "===================================================================================\n",
       "Ljung-Box (L1) (Q):                   0.01   Jarque-Bera (JB):            104978.47\n",
       "Prob(Q):                              0.93   Prob(JB):                         0.00\n",
       "Heteroskedasticity (H):               8.59   Skew:                            -0.81\n",
       "Prob(H) (two-sided):                  0.00   Kurtosis:                        20.68\n",
       "===================================================================================\n",
       "\n",
       "Warnings:\n",
       "[1] Covariance matrix calculated using the outer product of gradients (complex-step).\n",
       "[2] Covariance matrix is singular or near-singular, with condition number 4.5e+20. Standard errors may be unstable.\n",
       "\"\"\""
      ]
     },
     "execution_count": 30,
     "metadata": {},
     "output_type": "execute_result"
    }
   ],
   "source": [
    "yfinance_results_ar_2.summary()"
   ]
  },
  {
   "cell_type": "code",
   "execution_count": 31,
   "id": "5549e5d2",
   "metadata": {},
   "outputs": [],
   "source": [
    "yfinance_model_ar_5 = ARIMA(df_yfinance['spx'], order=(5,0,0))"
   ]
  },
  {
   "cell_type": "code",
   "execution_count": 32,
   "id": "be278ccd",
   "metadata": {
    "scrolled": true
   },
   "outputs": [
    {
     "name": "stderr",
     "output_type": "stream",
     "text": [
      "C:\\ProgramData\\Anaconda3\\lib\\site-packages\\statsmodels\\tsa\\statespace\\sarimax.py:966: UserWarning: Non-stationary starting autoregressive parameters found. Using zeros as starting parameters.\n",
      "  warn('Non-stationary starting autoregressive parameters'\n",
      "C:\\ProgramData\\Anaconda3\\lib\\site-packages\\statsmodels\\base\\model.py:604: ConvergenceWarning: Maximum Likelihood optimization failed to converge. Check mle_retvals\n",
      "  warnings.warn(\"Maximum Likelihood optimization failed to \"\n"
     ]
    }
   ],
   "source": [
    "yfinance_results_ar_5 = yfinance_model_ar_5.fit()"
   ]
  },
  {
   "cell_type": "code",
   "execution_count": 33,
   "id": "82531662",
   "metadata": {},
   "outputs": [
    {
     "data": {
      "text/html": [
       "<table class=\"simpletable\">\n",
       "<caption>SARIMAX Results</caption>\n",
       "<tr>\n",
       "  <th>Dep. Variable:</th>          <td>spx</td>       <th>  No. Observations:  </th>    <td>7992</td>   \n",
       "</tr>\n",
       "<tr>\n",
       "  <th>Model:</th>            <td>ARIMA(5, 0, 0)</td>  <th>  Log Likelihood     </th> <td>-36425.183</td>\n",
       "</tr>\n",
       "<tr>\n",
       "  <th>Date:</th>            <td>Wed, 18 Sep 2024</td> <th>  AIC                </th>  <td>72864.365</td>\n",
       "</tr>\n",
       "<tr>\n",
       "  <th>Time:</th>                <td>17:53:13</td>     <th>  BIC                </th>  <td>72913.269</td>\n",
       "</tr>\n",
       "<tr>\n",
       "  <th>Sample:</th>             <td>01-07-1994</td>    <th>  HQIC               </th>  <td>72881.105</td>\n",
       "</tr>\n",
       "<tr>\n",
       "  <th></th>                   <td>- 08-26-2024</td>   <th>                     </th>      <td> </td>    \n",
       "</tr>\n",
       "<tr>\n",
       "  <th>Covariance Type:</th>        <td>opg</td>       <th>                     </th>      <td> </td>    \n",
       "</tr>\n",
       "</table>\n",
       "<table class=\"simpletable\">\n",
       "<tr>\n",
       "     <td></td>       <th>coef</th>     <th>std err</th>      <th>z</th>      <th>P>|z|</th>  <th>[0.025</th>    <th>0.975]</th>  \n",
       "</tr>\n",
       "<tr>\n",
       "  <th>const</th>  <td> 1818.8236</td> <td> 2.97e-05</td> <td> 6.12e+07</td> <td> 0.000</td> <td> 1818.824</td> <td> 1818.824</td>\n",
       "</tr>\n",
       "<tr>\n",
       "  <th>ar.L1</th>  <td>    0.9235</td> <td>    0.004</td> <td>  217.295</td> <td> 0.000</td> <td>    0.915</td> <td>    0.932</td>\n",
       "</tr>\n",
       "<tr>\n",
       "  <th>ar.L2</th>  <td>    0.0986</td> <td>    0.005</td> <td>   20.458</td> <td> 0.000</td> <td>    0.089</td> <td>    0.108</td>\n",
       "</tr>\n",
       "<tr>\n",
       "  <th>ar.L3</th>  <td>   -0.0409</td> <td>    0.005</td> <td>   -7.953</td> <td> 0.000</td> <td>   -0.051</td> <td>   -0.031</td>\n",
       "</tr>\n",
       "<tr>\n",
       "  <th>ar.L4</th>  <td>    0.0075</td> <td>    0.006</td> <td>    1.352</td> <td> 0.176</td> <td>   -0.003</td> <td>    0.018</td>\n",
       "</tr>\n",
       "<tr>\n",
       "  <th>ar.L5</th>  <td>    0.0112</td> <td>    0.004</td> <td>    2.499</td> <td> 0.012</td> <td>    0.002</td> <td>    0.020</td>\n",
       "</tr>\n",
       "<tr>\n",
       "  <th>sigma2</th> <td>  532.0073</td> <td>    2.899</td> <td>  183.523</td> <td> 0.000</td> <td>  526.326</td> <td>  537.689</td>\n",
       "</tr>\n",
       "</table>\n",
       "<table class=\"simpletable\">\n",
       "<tr>\n",
       "  <th>Ljung-Box (L1) (Q):</th>     <td>0.00</td> <th>  Jarque-Bera (JB):  </th> <td>104164.45</td>\n",
       "</tr>\n",
       "<tr>\n",
       "  <th>Prob(Q):</th>                <td>0.95</td> <th>  Prob(JB):          </th>   <td>0.00</td>   \n",
       "</tr>\n",
       "<tr>\n",
       "  <th>Heteroskedasticity (H):</th> <td>8.58</td> <th>  Skew:              </th>   <td>-0.81</td>  \n",
       "</tr>\n",
       "<tr>\n",
       "  <th>Prob(H) (two-sided):</th>    <td>0.00</td> <th>  Kurtosis:          </th>   <td>20.61</td>  \n",
       "</tr>\n",
       "</table><br/><br/>Warnings:<br/>[1] Covariance matrix calculated using the outer product of gradients (complex-step).<br/>[2] Covariance matrix is singular or near-singular, with condition number 3.98e+20. Standard errors may be unstable."
      ],
      "text/plain": [
       "<class 'statsmodels.iolib.summary.Summary'>\n",
       "\"\"\"\n",
       "                               SARIMAX Results                                \n",
       "==============================================================================\n",
       "Dep. Variable:                    spx   No. Observations:                 7992\n",
       "Model:                 ARIMA(5, 0, 0)   Log Likelihood              -36425.183\n",
       "Date:                Wed, 18 Sep 2024   AIC                          72864.365\n",
       "Time:                        17:53:13   BIC                          72913.269\n",
       "Sample:                    01-07-1994   HQIC                         72881.105\n",
       "                         - 08-26-2024                                         \n",
       "Covariance Type:                  opg                                         \n",
       "==============================================================================\n",
       "                 coef    std err          z      P>|z|      [0.025      0.975]\n",
       "------------------------------------------------------------------------------\n",
       "const       1818.8236   2.97e-05   6.12e+07      0.000    1818.824    1818.824\n",
       "ar.L1          0.9235      0.004    217.295      0.000       0.915       0.932\n",
       "ar.L2          0.0986      0.005     20.458      0.000       0.089       0.108\n",
       "ar.L3         -0.0409      0.005     -7.953      0.000      -0.051      -0.031\n",
       "ar.L4          0.0075      0.006      1.352      0.176      -0.003       0.018\n",
       "ar.L5          0.0112      0.004      2.499      0.012       0.002       0.020\n",
       "sigma2       532.0073      2.899    183.523      0.000     526.326     537.689\n",
       "===================================================================================\n",
       "Ljung-Box (L1) (Q):                   0.00   Jarque-Bera (JB):            104164.45\n",
       "Prob(Q):                              0.95   Prob(JB):                         0.00\n",
       "Heteroskedasticity (H):               8.58   Skew:                            -0.81\n",
       "Prob(H) (two-sided):                  0.00   Kurtosis:                        20.61\n",
       "===================================================================================\n",
       "\n",
       "Warnings:\n",
       "[1] Covariance matrix calculated using the outer product of gradients (complex-step).\n",
       "[2] Covariance matrix is singular or near-singular, with condition number 3.98e+20. Standard errors may be unstable.\n",
       "\"\"\""
      ]
     },
     "execution_count": 33,
     "metadata": {},
     "output_type": "execute_result"
    }
   ],
   "source": [
    "yfinance_results_ar_5.summary()"
   ]
  },
  {
   "cell_type": "markdown",
   "id": "5313a415",
   "metadata": {},
   "source": [
    "### Pruebas LLR"
   ]
  },
  {
   "cell_type": "code",
   "execution_count": 34,
   "id": "67b7e5ee",
   "metadata": {},
   "outputs": [],
   "source": [
    "def LLR_test(mod_1, mod_2, DF=1):\n",
    "    L1 = mod_1.fit().llf\n",
    "    L2 = mod_2.fit().llf\n",
    "    LR = (2*(L2-L1))\n",
    "    p = chi2.sf(LR, DF)\n",
    "    return p"
   ]
  },
  {
   "cell_type": "code",
   "execution_count": 35,
   "id": "d1a418d2",
   "metadata": {},
   "outputs": [
    {
     "name": "stderr",
     "output_type": "stream",
     "text": [
      "C:\\ProgramData\\Anaconda3\\lib\\site-packages\\statsmodels\\tsa\\statespace\\sarimax.py:966: UserWarning: Non-stationary starting autoregressive parameters found. Using zeros as starting parameters.\n",
      "  warn('Non-stationary starting autoregressive parameters'\n",
      "C:\\ProgramData\\Anaconda3\\lib\\site-packages\\statsmodels\\tsa\\statespace\\sarimax.py:966: UserWarning: Non-stationary starting autoregressive parameters found. Using zeros as starting parameters.\n",
      "  warn('Non-stationary starting autoregressive parameters'\n",
      "C:\\ProgramData\\Anaconda3\\lib\\site-packages\\statsmodels\\base\\model.py:604: ConvergenceWarning: Maximum Likelihood optimization failed to converge. Check mle_retvals\n",
      "  warnings.warn(\"Maximum Likelihood optimization failed to \"\n"
     ]
    },
    {
     "data": {
      "text/plain": [
       "1.6877246082348023e-14"
      ]
     },
     "execution_count": 35,
     "metadata": {},
     "output_type": "execute_result"
    }
   ],
   "source": [
    "LLR_test(yfinance_model_ar_1, yfinance_model_ar_5)"
   ]
  },
  {
   "cell_type": "markdown",
   "id": "78c6861c",
   "metadata": {},
   "source": [
    "## Vuelos"
   ]
  },
  {
   "cell_type": "markdown",
   "id": "ff3c5d31",
   "metadata": {},
   "source": [
    "### Estacionaridad"
   ]
  },
  {
   "cell_type": "code",
   "execution_count": 36,
   "id": "0b1efafc",
   "metadata": {},
   "outputs": [
    {
     "data": {
      "text/plain": [
       "(0.8153688792060441,\n",
       " 0.9918802434376409,\n",
       " 13,\n",
       " 130,\n",
       " {'1%': -3.4816817173418295,\n",
       "  '5%': -2.8840418343195267,\n",
       "  '10%': -2.578770059171598},\n",
       " 996.692930839019)"
      ]
     },
     "execution_count": 36,
     "metadata": {},
     "output_type": "execute_result"
    }
   ],
   "source": [
    "sts.adfuller(df_airline['Passengers'])"
   ]
  },
  {
   "cell_type": "markdown",
   "id": "b98f3b98",
   "metadata": {},
   "source": [
    "### PACF"
   ]
  },
  {
   "cell_type": "code",
   "execution_count": 37,
   "id": "1f997625",
   "metadata": {},
   "outputs": [
    {
     "name": "stderr",
     "output_type": "stream",
     "text": [
      "C:\\ProgramData\\Anaconda3\\lib\\site-packages\\statsmodels\\graphics\\tsaplots.py:348: FutureWarning: The default method 'yw' can produce PACF values outside of the [-1,1] interval. After 0.13, the default will change tounadjusted Yule-Walker ('ywm'). You can use this method now by setting method='ywm'.\n",
      "  warnings.warn(\n"
     ]
    },
    {
     "data": {
      "image/png": "[encoded data removed]",
      "text/plain": [
       "<Figure size 640x480 with 1 Axes>"
      ]
     },
     "metadata": {},
     "output_type": "display_data"
    }
   ],
   "source": [
    "sgt.plot_pacf(df_airline['Passengers'], zero = False, lags = 40)\n",
    "plt.title(\"PACF for Passengers\", size = 20)\n",
    "plt.show()"
   ]
  },
  {
   "cell_type": "markdown",
   "id": "b84b6483",
   "metadata": {},
   "source": [
    "### Modelo AR(1)"
   ]
  },
  {
   "cell_type": "code",
   "execution_count": 38,
   "id": "a84a0dcb",
   "metadata": {},
   "outputs": [
    {
     "name": "stderr",
     "output_type": "stream",
     "text": [
      "C:\\ProgramData\\Anaconda3\\lib\\site-packages\\statsmodels\\tsa\\base\\tsa_model.py:471: ValueWarning: No frequency information was provided, so inferred frequency MS will be used.\n",
      "  self._init_dates(dates, freq)\n",
      "C:\\ProgramData\\Anaconda3\\lib\\site-packages\\statsmodels\\tsa\\base\\tsa_model.py:471: ValueWarning: No frequency information was provided, so inferred frequency MS will be used.\n",
      "  self._init_dates(dates, freq)\n",
      "C:\\ProgramData\\Anaconda3\\lib\\site-packages\\statsmodels\\tsa\\base\\tsa_model.py:471: ValueWarning: No frequency information was provided, so inferred frequency MS will be used.\n",
      "  self._init_dates(dates, freq)\n"
     ]
    }
   ],
   "source": [
    "airline_model_ar_1 = ARIMA(df_airline['Passengers'], order=(1,0,0))"
   ]
  },
  {
   "cell_type": "code",
   "execution_count": 39,
   "id": "f9e954d5",
   "metadata": {},
   "outputs": [],
   "source": [
    "airline_results_ar_1 = airline_model_ar_1.fit()"
   ]
  },
  {
   "cell_type": "code",
   "execution_count": 40,
   "id": "ee9f2c8d",
   "metadata": {},
   "outputs": [
    {
     "data": {
      "text/html": [
       "<table class=\"simpletable\">\n",
       "<caption>SARIMAX Results</caption>\n",
       "<tr>\n",
       "  <th>Dep. Variable:</th>      <td>Passengers</td>    <th>  No. Observations:  </th>    <td>144</td>  \n",
       "</tr>\n",
       "<tr>\n",
       "  <th>Model:</th>            <td>ARIMA(1, 0, 0)</td>  <th>  Log Likelihood     </th> <td>-711.090</td>\n",
       "</tr>\n",
       "<tr>\n",
       "  <th>Date:</th>            <td>Wed, 18 Sep 2024</td> <th>  AIC                </th> <td>1428.181</td>\n",
       "</tr>\n",
       "<tr>\n",
       "  <th>Time:</th>                <td>17:53:42</td>     <th>  BIC                </th> <td>1437.090</td>\n",
       "</tr>\n",
       "<tr>\n",
       "  <th>Sample:</th>             <td>01-01-1949</td>    <th>  HQIC               </th> <td>1431.801</td>\n",
       "</tr>\n",
       "<tr>\n",
       "  <th></th>                   <td>- 12-01-1960</td>   <th>                     </th>     <td> </td>   \n",
       "</tr>\n",
       "<tr>\n",
       "  <th>Covariance Type:</th>        <td>opg</td>       <th>                     </th>     <td> </td>   \n",
       "</tr>\n",
       "</table>\n",
       "<table class=\"simpletable\">\n",
       "<tr>\n",
       "     <td></td>       <th>coef</th>     <th>std err</th>      <th>z</th>      <th>P>|z|</th>  <th>[0.025</th>    <th>0.975]</th>  \n",
       "</tr>\n",
       "<tr>\n",
       "  <th>const</th>  <td>  280.2943</td> <td>   66.403</td> <td>    4.221</td> <td> 0.000</td> <td>  150.146</td> <td>  410.442</td>\n",
       "</tr>\n",
       "<tr>\n",
       "  <th>ar.L1</th>  <td>    0.9645</td> <td>    0.019</td> <td>   51.535</td> <td> 0.000</td> <td>    0.928</td> <td>    1.001</td>\n",
       "</tr>\n",
       "<tr>\n",
       "  <th>sigma2</th> <td> 1118.5409</td> <td>  122.133</td> <td>    9.158</td> <td> 0.000</td> <td>  879.164</td> <td> 1357.918</td>\n",
       "</tr>\n",
       "</table>\n",
       "<table class=\"simpletable\">\n",
       "<tr>\n",
       "  <th>Ljung-Box (L1) (Q):</th>     <td>13.91</td> <th>  Jarque-Bera (JB):  </th> <td>0.81</td>\n",
       "</tr>\n",
       "<tr>\n",
       "  <th>Prob(Q):</th>                <td>0.00</td>  <th>  Prob(JB):          </th> <td>0.67</td>\n",
       "</tr>\n",
       "<tr>\n",
       "  <th>Heteroskedasticity (H):</th> <td>7.92</td>  <th>  Skew:              </th> <td>0.03</td>\n",
       "</tr>\n",
       "<tr>\n",
       "  <th>Prob(H) (two-sided):</th>    <td>0.00</td>  <th>  Kurtosis:          </th> <td>3.36</td>\n",
       "</tr>\n",
       "</table><br/><br/>Warnings:<br/>[1] Covariance matrix calculated using the outer product of gradients (complex-step)."
      ],
      "text/plain": [
       "<class 'statsmodels.iolib.summary.Summary'>\n",
       "\"\"\"\n",
       "                               SARIMAX Results                                \n",
       "==============================================================================\n",
       "Dep. Variable:             Passengers   No. Observations:                  144\n",
       "Model:                 ARIMA(1, 0, 0)   Log Likelihood                -711.090\n",
       "Date:                Wed, 18 Sep 2024   AIC                           1428.181\n",
       "Time:                        17:53:42   BIC                           1437.090\n",
       "Sample:                    01-01-1949   HQIC                          1431.801\n",
       "                         - 12-01-1960                                         \n",
       "Covariance Type:                  opg                                         \n",
       "==============================================================================\n",
       "                 coef    std err          z      P>|z|      [0.025      0.975]\n",
       "------------------------------------------------------------------------------\n",
       "const        280.2943     66.403      4.221      0.000     150.146     410.442\n",
       "ar.L1          0.9645      0.019     51.535      0.000       0.928       1.001\n",
       "sigma2      1118.5409    122.133      9.158      0.000     879.164    1357.918\n",
       "===================================================================================\n",
       "Ljung-Box (L1) (Q):                  13.91   Jarque-Bera (JB):                 0.81\n",
       "Prob(Q):                              0.00   Prob(JB):                         0.67\n",
       "Heteroskedasticity (H):               7.92   Skew:                             0.03\n",
       "Prob(H) (two-sided):                  0.00   Kurtosis:                         3.36\n",
       "===================================================================================\n",
       "\n",
       "Warnings:\n",
       "[1] Covariance matrix calculated using the outer product of gradients (complex-step).\n",
       "\"\"\""
      ]
     },
     "execution_count": 40,
     "metadata": {},
     "output_type": "execute_result"
    }
   ],
   "source": [
    "airline_results_ar_1.summary()"
   ]
  },
  {
   "cell_type": "markdown",
   "id": "372226d1",
   "metadata": {},
   "source": [
    "### Modelos AR más complejos"
   ]
  },
  {
   "cell_type": "code",
   "execution_count": 41,
   "id": "76481169",
   "metadata": {},
   "outputs": [
    {
     "name": "stderr",
     "output_type": "stream",
     "text": [
      "C:\\ProgramData\\Anaconda3\\lib\\site-packages\\statsmodels\\tsa\\base\\tsa_model.py:471: ValueWarning: No frequency information was provided, so inferred frequency MS will be used.\n",
      "  self._init_dates(dates, freq)\n",
      "C:\\ProgramData\\Anaconda3\\lib\\site-packages\\statsmodels\\tsa\\base\\tsa_model.py:471: ValueWarning: No frequency information was provided, so inferred frequency MS will be used.\n",
      "  self._init_dates(dates, freq)\n",
      "C:\\ProgramData\\Anaconda3\\lib\\site-packages\\statsmodels\\tsa\\base\\tsa_model.py:471: ValueWarning: No frequency information was provided, so inferred frequency MS will be used.\n",
      "  self._init_dates(dates, freq)\n"
     ]
    }
   ],
   "source": [
    "airline_model_ar_2 = ARIMA(df_airline['Passengers'], order=(2,0,0))"
   ]
  },
  {
   "cell_type": "code",
   "execution_count": 42,
   "id": "aa417b1e",
   "metadata": {},
   "outputs": [],
   "source": [
    "airline_results_ar_2 = airline_model_ar_2.fit()"
   ]
  },
  {
   "cell_type": "code",
   "execution_count": 43,
   "id": "cce02f77",
   "metadata": {},
   "outputs": [
    {
     "data": {
      "text/html": [
       "<table class=\"simpletable\">\n",
       "<caption>SARIMAX Results</caption>\n",
       "<tr>\n",
       "  <th>Dep. Variable:</th>      <td>Passengers</td>    <th>  No. Observations:  </th>    <td>144</td>  \n",
       "</tr>\n",
       "<tr>\n",
       "  <th>Model:</th>            <td>ARIMA(2, 0, 0)</td>  <th>  Log Likelihood     </th> <td>-702.819</td>\n",
       "</tr>\n",
       "<tr>\n",
       "  <th>Date:</th>            <td>Wed, 18 Sep 2024</td> <th>  AIC                </th> <td>1413.639</td>\n",
       "</tr>\n",
       "<tr>\n",
       "  <th>Time:</th>                <td>17:53:42</td>     <th>  BIC                </th> <td>1425.518</td>\n",
       "</tr>\n",
       "<tr>\n",
       "  <th>Sample:</th>             <td>01-01-1949</td>    <th>  HQIC               </th> <td>1418.466</td>\n",
       "</tr>\n",
       "<tr>\n",
       "  <th></th>                   <td>- 12-01-1960</td>   <th>                     </th>     <td> </td>   \n",
       "</tr>\n",
       "<tr>\n",
       "  <th>Covariance Type:</th>        <td>opg</td>       <th>                     </th>     <td> </td>   \n",
       "</tr>\n",
       "</table>\n",
       "<table class=\"simpletable\">\n",
       "<tr>\n",
       "     <td></td>       <th>coef</th>     <th>std err</th>      <th>z</th>      <th>P>|z|</th>  <th>[0.025</th>    <th>0.975]</th>  \n",
       "</tr>\n",
       "<tr>\n",
       "  <th>const</th>  <td>  280.2991</td> <td>   54.518</td> <td>    5.141</td> <td> 0.000</td> <td>  173.445</td> <td>  387.153</td>\n",
       "</tr>\n",
       "<tr>\n",
       "  <th>ar.L1</th>  <td>    1.2831</td> <td>    0.079</td> <td>   16.316</td> <td> 0.000</td> <td>    1.129</td> <td>    1.437</td>\n",
       "</tr>\n",
       "<tr>\n",
       "  <th>ar.L2</th>  <td>   -0.3322</td> <td>    0.082</td> <td>   -4.054</td> <td> 0.000</td> <td>   -0.493</td> <td>   -0.172</td>\n",
       "</tr>\n",
       "<tr>\n",
       "  <th>sigma2</th> <td>  995.9158</td> <td>  110.760</td> <td>    8.992</td> <td> 0.000</td> <td>  778.830</td> <td> 1213.001</td>\n",
       "</tr>\n",
       "</table>\n",
       "<table class=\"simpletable\">\n",
       "<tr>\n",
       "  <th>Ljung-Box (L1) (Q):</th>     <td>0.47</td> <th>  Jarque-Bera (JB):  </th> <td>2.84</td>\n",
       "</tr>\n",
       "<tr>\n",
       "  <th>Prob(Q):</th>                <td>0.49</td> <th>  Prob(JB):          </th> <td>0.24</td>\n",
       "</tr>\n",
       "<tr>\n",
       "  <th>Heteroskedasticity (H):</th> <td>6.78</td> <th>  Skew:              </th> <td>0.27</td>\n",
       "</tr>\n",
       "<tr>\n",
       "  <th>Prob(H) (two-sided):</th>    <td>0.00</td> <th>  Kurtosis:          </th> <td>3.42</td>\n",
       "</tr>\n",
       "</table><br/><br/>Warnings:<br/>[1] Covariance matrix calculated using the outer product of gradients (complex-step)."
      ],
      "text/plain": [
       "<class 'statsmodels.iolib.summary.Summary'>\n",
       "\"\"\"\n",
       "                               SARIMAX Results                                \n",
       "==============================================================================\n",
       "Dep. Variable:             Passengers   No. Observations:                  144\n",
       "Model:                 ARIMA(2, 0, 0)   Log Likelihood                -702.819\n",
       "Date:                Wed, 18 Sep 2024   AIC                           1413.639\n",
       "Time:                        17:53:42   BIC                           1425.518\n",
       "Sample:                    01-01-1949   HQIC                          1418.466\n",
       "                         - 12-01-1960                                         \n",
       "Covariance Type:                  opg                                         \n",
       "==============================================================================\n",
       "                 coef    std err          z      P>|z|      [0.025      0.975]\n",
       "------------------------------------------------------------------------------\n",
       "const        280.2991     54.518      5.141      0.000     173.445     387.153\n",
       "ar.L1          1.2831      0.079     16.316      0.000       1.129       1.437\n",
       "ar.L2         -0.3322      0.082     -4.054      0.000      -0.493      -0.172\n",
       "sigma2       995.9158    110.760      8.992      0.000     778.830    1213.001\n",
       "===================================================================================\n",
       "Ljung-Box (L1) (Q):                   0.47   Jarque-Bera (JB):                 2.84\n",
       "Prob(Q):                              0.49   Prob(JB):                         0.24\n",
       "Heteroskedasticity (H):               6.78   Skew:                             0.27\n",
       "Prob(H) (two-sided):                  0.00   Kurtosis:                         3.42\n",
       "===================================================================================\n",
       "\n",
       "Warnings:\n",
       "[1] Covariance matrix calculated using the outer product of gradients (complex-step).\n",
       "\"\"\""
      ]
     },
     "execution_count": 43,
     "metadata": {},
     "output_type": "execute_result"
    }
   ],
   "source": [
    "airline_results_ar_2.summary()"
   ]
  },
  {
   "cell_type": "code",
   "execution_count": 44,
   "id": "aeac7008",
   "metadata": {},
   "outputs": [
    {
     "name": "stderr",
     "output_type": "stream",
     "text": [
      "C:\\ProgramData\\Anaconda3\\lib\\site-packages\\statsmodels\\tsa\\base\\tsa_model.py:471: ValueWarning: No frequency information was provided, so inferred frequency MS will be used.\n",
      "  self._init_dates(dates, freq)\n",
      "C:\\ProgramData\\Anaconda3\\lib\\site-packages\\statsmodels\\tsa\\base\\tsa_model.py:471: ValueWarning: No frequency information was provided, so inferred frequency MS will be used.\n",
      "  self._init_dates(dates, freq)\n",
      "C:\\ProgramData\\Anaconda3\\lib\\site-packages\\statsmodels\\tsa\\base\\tsa_model.py:471: ValueWarning: No frequency information was provided, so inferred frequency MS will be used.\n",
      "  self._init_dates(dates, freq)\n"
     ]
    }
   ],
   "source": [
    "airline_model_ar_10 = ARIMA(df_airline['Passengers'], order=(10,0,0))"
   ]
  },
  {
   "cell_type": "code",
   "execution_count": 45,
   "id": "3e41ff2a",
   "metadata": {},
   "outputs": [
    {
     "name": "stderr",
     "output_type": "stream",
     "text": [
      "C:\\ProgramData\\Anaconda3\\lib\\site-packages\\statsmodels\\tsa\\statespace\\sarimax.py:966: UserWarning: Non-stationary starting autoregressive parameters found. Using zeros as starting parameters.\n",
      "  warn('Non-stationary starting autoregressive parameters'\n",
      "C:\\ProgramData\\Anaconda3\\lib\\site-packages\\statsmodels\\base\\model.py:604: ConvergenceWarning: Maximum Likelihood optimization failed to converge. Check mle_retvals\n",
      "  warnings.warn(\"Maximum Likelihood optimization failed to \"\n"
     ]
    }
   ],
   "source": [
    "airline_results_ar_10 = airline_model_ar_10.fit()"
   ]
  },
  {
   "cell_type": "code",
   "execution_count": 46,
   "id": "5e2bd9ea",
   "metadata": {},
   "outputs": [
    {
     "data": {
      "text/html": [
       "<table class=\"simpletable\">\n",
       "<caption>SARIMAX Results</caption>\n",
       "<tr>\n",
       "  <th>Dep. Variable:</th>      <td>Passengers</td>    <th>  No. Observations:  </th>    <td>144</td>  \n",
       "</tr>\n",
       "<tr>\n",
       "  <th>Model:</th>            <td>ARIMA(10, 0, 0)</td> <th>  Log Likelihood     </th> <td>-672.002</td>\n",
       "</tr>\n",
       "<tr>\n",
       "  <th>Date:</th>            <td>Wed, 18 Sep 2024</td> <th>  AIC                </th> <td>1368.004</td>\n",
       "</tr>\n",
       "<tr>\n",
       "  <th>Time:</th>                <td>17:53:45</td>     <th>  BIC                </th> <td>1403.641</td>\n",
       "</tr>\n",
       "<tr>\n",
       "  <th>Sample:</th>             <td>01-01-1949</td>    <th>  HQIC               </th> <td>1382.485</td>\n",
       "</tr>\n",
       "<tr>\n",
       "  <th></th>                   <td>- 12-01-1960</td>   <th>                     </th>     <td> </td>   \n",
       "</tr>\n",
       "<tr>\n",
       "  <th>Covariance Type:</th>        <td>opg</td>       <th>                     </th>     <td> </td>   \n",
       "</tr>\n",
       "</table>\n",
       "<table class=\"simpletable\">\n",
       "<tr>\n",
       "     <td></td>       <th>coef</th>     <th>std err</th>      <th>z</th>      <th>P>|z|</th>  <th>[0.025</th>    <th>0.975]</th>  \n",
       "</tr>\n",
       "<tr>\n",
       "  <th>const</th>  <td>  280.3051</td> <td>  193.924</td> <td>    1.445</td> <td> 0.148</td> <td>  -99.779</td> <td>  660.390</td>\n",
       "</tr>\n",
       "<tr>\n",
       "  <th>ar.L1</th>  <td>    1.1467</td> <td>    0.106</td> <td>   10.866</td> <td> 0.000</td> <td>    0.940</td> <td>    1.354</td>\n",
       "</tr>\n",
       "<tr>\n",
       "  <th>ar.L2</th>  <td>   -0.4601</td> <td>    0.159</td> <td>   -2.885</td> <td> 0.004</td> <td>   -0.773</td> <td>   -0.148</td>\n",
       "</tr>\n",
       "<tr>\n",
       "  <th>ar.L3</th>  <td>    0.1787</td> <td>    0.144</td> <td>    1.240</td> <td> 0.215</td> <td>   -0.104</td> <td>    0.461</td>\n",
       "</tr>\n",
       "<tr>\n",
       "  <th>ar.L4</th>  <td>   -0.3042</td> <td>    0.116</td> <td>   -2.626</td> <td> 0.009</td> <td>   -0.531</td> <td>   -0.077</td>\n",
       "</tr>\n",
       "<tr>\n",
       "  <th>ar.L5</th>  <td>    0.3776</td> <td>    0.139</td> <td>    2.720</td> <td> 0.007</td> <td>    0.106</td> <td>    0.650</td>\n",
       "</tr>\n",
       "<tr>\n",
       "  <th>ar.L6</th>  <td>   -0.2164</td> <td>    0.156</td> <td>   -1.383</td> <td> 0.167</td> <td>   -0.523</td> <td>    0.090</td>\n",
       "</tr>\n",
       "<tr>\n",
       "  <th>ar.L7</th>  <td>    0.2262</td> <td>    0.123</td> <td>    1.840</td> <td> 0.066</td> <td>   -0.015</td> <td>    0.467</td>\n",
       "</tr>\n",
       "<tr>\n",
       "  <th>ar.L8</th>  <td>   -0.4024</td> <td>    0.153</td> <td>   -2.622</td> <td> 0.009</td> <td>   -0.703</td> <td>   -0.102</td>\n",
       "</tr>\n",
       "<tr>\n",
       "  <th>ar.L9</th>  <td>    0.2697</td> <td>    0.153</td> <td>    1.762</td> <td> 0.078</td> <td>   -0.030</td> <td>    0.570</td>\n",
       "</tr>\n",
       "<tr>\n",
       "  <th>ar.L10</th> <td>    0.1804</td> <td>    0.086</td> <td>    2.086</td> <td> 0.037</td> <td>    0.011</td> <td>    0.350</td>\n",
       "</tr>\n",
       "<tr>\n",
       "  <th>sigma2</th> <td>  629.4168</td> <td>   82.153</td> <td>    7.662</td> <td> 0.000</td> <td>  468.400</td> <td>  790.433</td>\n",
       "</tr>\n",
       "</table>\n",
       "<table class=\"simpletable\">\n",
       "<tr>\n",
       "  <th>Ljung-Box (L1) (Q):</th>     <td>4.28</td> <th>  Jarque-Bera (JB):  </th> <td>8.24</td>\n",
       "</tr>\n",
       "<tr>\n",
       "  <th>Prob(Q):</th>                <td>0.04</td> <th>  Prob(JB):          </th> <td>0.02</td>\n",
       "</tr>\n",
       "<tr>\n",
       "  <th>Heteroskedasticity (H):</th> <td>6.32</td> <th>  Skew:              </th> <td>0.58</td>\n",
       "</tr>\n",
       "<tr>\n",
       "  <th>Prob(H) (two-sided):</th>    <td>0.00</td> <th>  Kurtosis:          </th> <td>3.07</td>\n",
       "</tr>\n",
       "</table><br/><br/>Warnings:<br/>[1] Covariance matrix calculated using the outer product of gradients (complex-step)."
      ],
      "text/plain": [
       "<class 'statsmodels.iolib.summary.Summary'>\n",
       "\"\"\"\n",
       "                               SARIMAX Results                                \n",
       "==============================================================================\n",
       "Dep. Variable:             Passengers   No. Observations:                  144\n",
       "Model:                ARIMA(10, 0, 0)   Log Likelihood                -672.002\n",
       "Date:                Wed, 18 Sep 2024   AIC                           1368.004\n",
       "Time:                        17:53:45   BIC                           1403.641\n",
       "Sample:                    01-01-1949   HQIC                          1382.485\n",
       "                         - 12-01-1960                                         \n",
       "Covariance Type:                  opg                                         \n",
       "==============================================================================\n",
       "                 coef    std err          z      P>|z|      [0.025      0.975]\n",
       "------------------------------------------------------------------------------\n",
       "const        280.3051    193.924      1.445      0.148     -99.779     660.390\n",
       "ar.L1          1.1467      0.106     10.866      0.000       0.940       1.354\n",
       "ar.L2         -0.4601      0.159     -2.885      0.004      -0.773      -0.148\n",
       "ar.L3          0.1787      0.144      1.240      0.215      -0.104       0.461\n",
       "ar.L4         -0.3042      0.116     -2.626      0.009      -0.531      -0.077\n",
       "ar.L5          0.3776      0.139      2.720      0.007       0.106       0.650\n",
       "ar.L6         -0.2164      0.156     -1.383      0.167      -0.523       0.090\n",
       "ar.L7          0.2262      0.123      1.840      0.066      -0.015       0.467\n",
       "ar.L8         -0.4024      0.153     -2.622      0.009      -0.703      -0.102\n",
       "ar.L9          0.2697      0.153      1.762      0.078      -0.030       0.570\n",
       "ar.L10         0.1804      0.086      2.086      0.037       0.011       0.350\n",
       "sigma2       629.4168     82.153      7.662      0.000     468.400     790.433\n",
       "===================================================================================\n",
       "Ljung-Box (L1) (Q):                   4.28   Jarque-Bera (JB):                 8.24\n",
       "Prob(Q):                              0.04   Prob(JB):                         0.02\n",
       "Heteroskedasticity (H):               6.32   Skew:                             0.58\n",
       "Prob(H) (two-sided):                  0.00   Kurtosis:                         3.07\n",
       "===================================================================================\n",
       "\n",
       "Warnings:\n",
       "[1] Covariance matrix calculated using the outer product of gradients (complex-step).\n",
       "\"\"\""
      ]
     },
     "execution_count": 46,
     "metadata": {},
     "output_type": "execute_result"
    }
   ],
   "source": [
    "airline_results_ar_10.summary()"
   ]
  },
  {
   "cell_type": "markdown",
   "id": "c68de61e",
   "metadata": {},
   "source": [
    "### Pruebas LLR"
   ]
  },
  {
   "cell_type": "code",
   "execution_count": 47,
   "id": "b58c4825",
   "metadata": {},
   "outputs": [
    {
     "name": "stderr",
     "output_type": "stream",
     "text": [
      "C:\\ProgramData\\Anaconda3\\lib\\site-packages\\statsmodels\\tsa\\statespace\\sarimax.py:966: UserWarning: Non-stationary starting autoregressive parameters found. Using zeros as starting parameters.\n",
      "  warn('Non-stationary starting autoregressive parameters'\n",
      "C:\\ProgramData\\Anaconda3\\lib\\site-packages\\statsmodels\\base\\model.py:604: ConvergenceWarning: Maximum Likelihood optimization failed to converge. Check mle_retvals\n",
      "  warnings.warn(\"Maximum Likelihood optimization failed to \"\n"
     ]
    },
    {
     "data": {
      "text/plain": [
       "3.717295410475622e-13"
      ]
     },
     "execution_count": 47,
     "metadata": {},
     "output_type": "execute_result"
    }
   ],
   "source": [
    "LLR_test(airline_model_ar_1, airline_model_ar_10,DF=9)"
   ]
  },
  {
   "cell_type": "markdown",
   "id": "3fae921c",
   "metadata": {},
   "source": [
    "## Datos de ventas"
   ]
  },
  {
   "cell_type": "markdown",
   "id": "71f24a5e",
   "metadata": {},
   "source": [
    "### Estacionaridad"
   ]
  },
  {
   "cell_type": "code",
   "execution_count": 48,
   "id": "cd01298c",
   "metadata": {},
   "outputs": [
    {
     "data": {
      "text/plain": [
       "(-2.853928653615534,\n",
       " 0.05097376463402474,\n",
       " 13,\n",
       " 351,\n",
       " {'1%': -3.44911857009962,\n",
       "  '5%': -2.8698097654570507,\n",
       "  '10%': -2.5711757061225153},\n",
       " 6365.4145809406855)"
      ]
     },
     "execution_count": 48,
     "metadata": {},
     "output_type": "execute_result"
    }
   ],
   "source": [
    "sts.adfuller(df_ventas['Ventas'])"
   ]
  },
  {
   "cell_type": "markdown",
   "id": "055e8121",
   "metadata": {},
   "source": [
    "### PACF"
   ]
  },
  {
   "cell_type": "code",
   "execution_count": 49,
   "id": "f9b66849",
   "metadata": {},
   "outputs": [
    {
     "name": "stderr",
     "output_type": "stream",
     "text": [
      "C:\\ProgramData\\Anaconda3\\lib\\site-packages\\statsmodels\\graphics\\tsaplots.py:348: FutureWarning: The default method 'yw' can produce PACF values outside of the [-1,1] interval. After 0.13, the default will change tounadjusted Yule-Walker ('ywm'). You can use this method now by setting method='ywm'.\n",
      "  warnings.warn(\n"
     ]
    },
    {
     "data": {
      "image/png": "[encoded data removed]",
      "text/plain": [
       "<Figure size 640x480 with 1 Axes>"
      ]
     },
     "metadata": {},
     "output_type": "display_data"
    }
   ],
   "source": [
    "sgt.plot_pacf(df_ventas['Ventas'], zero = False, lags = 40)\n",
    "plt.title(\"PACF for Ventas\", size = 20)\n",
    "plt.show()"
   ]
  },
  {
   "cell_type": "markdown",
   "id": "616d754b",
   "metadata": {},
   "source": [
    "### Modelo AR(1)"
   ]
  },
  {
   "cell_type": "code",
   "execution_count": 50,
   "id": "dbcb2293",
   "metadata": {},
   "outputs": [
    {
     "name": "stderr",
     "output_type": "stream",
     "text": [
      "C:\\ProgramData\\Anaconda3\\lib\\site-packages\\statsmodels\\tsa\\base\\tsa_model.py:471: ValueWarning: No frequency information was provided, so inferred frequency D will be used.\n",
      "  self._init_dates(dates, freq)\n",
      "C:\\ProgramData\\Anaconda3\\lib\\site-packages\\statsmodels\\tsa\\base\\tsa_model.py:471: ValueWarning: No frequency information was provided, so inferred frequency D will be used.\n",
      "  self._init_dates(dates, freq)\n",
      "C:\\ProgramData\\Anaconda3\\lib\\site-packages\\statsmodels\\tsa\\base\\tsa_model.py:471: ValueWarning: No frequency information was provided, so inferred frequency D will be used.\n",
      "  self._init_dates(dates, freq)\n"
     ]
    }
   ],
   "source": [
    "ventas_model_ar_1 = ARIMA(df_ventas['Ventas'], order=(1,0,0))"
   ]
  },
  {
   "cell_type": "code",
   "execution_count": 51,
   "id": "22d8c32f",
   "metadata": {},
   "outputs": [],
   "source": [
    "ventas_results_ar_1 = ventas_model_ar_1.fit()"
   ]
  },
  {
   "cell_type": "code",
   "execution_count": 52,
   "id": "6d9cdecd",
   "metadata": {},
   "outputs": [
    {
     "data": {
      "text/html": [
       "<table class=\"simpletable\">\n",
       "<caption>SARIMAX Results</caption>\n",
       "<tr>\n",
       "  <th>Dep. Variable:</th>        <td>Ventas</td>      <th>  No. Observations:  </th>    <td>365</td>   \n",
       "</tr>\n",
       "<tr>\n",
       "  <th>Model:</th>            <td>ARIMA(1, 0, 0)</td>  <th>  Log Likelihood     </th> <td>-3401.112</td>\n",
       "</tr>\n",
       "<tr>\n",
       "  <th>Date:</th>            <td>Wed, 18 Sep 2024</td> <th>  AIC                </th> <td>6808.224</td> \n",
       "</tr>\n",
       "<tr>\n",
       "  <th>Time:</th>                <td>17:53:48</td>     <th>  BIC                </th> <td>6819.923</td> \n",
       "</tr>\n",
       "<tr>\n",
       "  <th>Sample:</th>             <td>01-01-2023</td>    <th>  HQIC               </th> <td>6812.873</td> \n",
       "</tr>\n",
       "<tr>\n",
       "  <th></th>                   <td>- 12-31-2023</td>   <th>                     </th>     <td> </td>    \n",
       "</tr>\n",
       "<tr>\n",
       "  <th>Covariance Type:</th>        <td>opg</td>       <th>                     </th>     <td> </td>    \n",
       "</tr>\n",
       "</table>\n",
       "<table class=\"simpletable\">\n",
       "<tr>\n",
       "     <td></td>       <th>coef</th>     <th>std err</th>      <th>z</th>      <th>P>|z|</th>  <th>[0.025</th>    <th>0.975]</th>  \n",
       "</tr>\n",
       "<tr>\n",
       "  <th>const</th>  <td> 1.883e+04</td> <td>  271.223</td> <td>   69.431</td> <td> 0.000</td> <td> 1.83e+04</td> <td> 1.94e+04</td>\n",
       "</tr>\n",
       "<tr>\n",
       "  <th>ar.L1</th>  <td>    0.4780</td> <td>    0.047</td> <td>   10.197</td> <td> 0.000</td> <td>    0.386</td> <td>    0.570</td>\n",
       "</tr>\n",
       "<tr>\n",
       "  <th>sigma2</th> <td> 7.203e+06</td> <td> 5.11e+05</td> <td>   14.110</td> <td> 0.000</td> <td>  6.2e+06</td> <td>  8.2e+06</td>\n",
       "</tr>\n",
       "</table>\n",
       "<table class=\"simpletable\">\n",
       "<tr>\n",
       "  <th>Ljung-Box (L1) (Q):</th>     <td>0.04</td> <th>  Jarque-Bera (JB):  </th> <td>6.03</td> \n",
       "</tr>\n",
       "<tr>\n",
       "  <th>Prob(Q):</th>                <td>0.83</td> <th>  Prob(JB):          </th> <td>0.05</td> \n",
       "</tr>\n",
       "<tr>\n",
       "  <th>Heteroskedasticity (H):</th> <td>0.95</td> <th>  Skew:              </th> <td>-0.29</td>\n",
       "</tr>\n",
       "<tr>\n",
       "  <th>Prob(H) (two-sided):</th>    <td>0.78</td> <th>  Kurtosis:          </th> <td>3.24</td> \n",
       "</tr>\n",
       "</table><br/><br/>Warnings:<br/>[1] Covariance matrix calculated using the outer product of gradients (complex-step)."
      ],
      "text/plain": [
       "<class 'statsmodels.iolib.summary.Summary'>\n",
       "\"\"\"\n",
       "                               SARIMAX Results                                \n",
       "==============================================================================\n",
       "Dep. Variable:                 Ventas   No. Observations:                  365\n",
       "Model:                 ARIMA(1, 0, 0)   Log Likelihood               -3401.112\n",
       "Date:                Wed, 18 Sep 2024   AIC                           6808.224\n",
       "Time:                        17:53:48   BIC                           6819.923\n",
       "Sample:                    01-01-2023   HQIC                          6812.873\n",
       "                         - 12-31-2023                                         \n",
       "Covariance Type:                  opg                                         \n",
       "==============================================================================\n",
       "                 coef    std err          z      P>|z|      [0.025      0.975]\n",
       "------------------------------------------------------------------------------\n",
       "const       1.883e+04    271.223     69.431      0.000    1.83e+04    1.94e+04\n",
       "ar.L1          0.4780      0.047     10.197      0.000       0.386       0.570\n",
       "sigma2      7.203e+06   5.11e+05     14.110      0.000     6.2e+06     8.2e+06\n",
       "===================================================================================\n",
       "Ljung-Box (L1) (Q):                   0.04   Jarque-Bera (JB):                 6.03\n",
       "Prob(Q):                              0.83   Prob(JB):                         0.05\n",
       "Heteroskedasticity (H):               0.95   Skew:                            -0.29\n",
       "Prob(H) (two-sided):                  0.78   Kurtosis:                         3.24\n",
       "===================================================================================\n",
       "\n",
       "Warnings:\n",
       "[1] Covariance matrix calculated using the outer product of gradients (complex-step).\n",
       "\"\"\""
      ]
     },
     "execution_count": 52,
     "metadata": {},
     "output_type": "execute_result"
    }
   ],
   "source": [
    "ventas_results_ar_1.summary()"
   ]
  },
  {
   "cell_type": "markdown",
   "id": "d7033356",
   "metadata": {},
   "source": [
    "### Modelos AR más complejos"
   ]
  },
  {
   "cell_type": "code",
   "execution_count": 53,
   "id": "c86f5495",
   "metadata": {},
   "outputs": [
    {
     "name": "stderr",
     "output_type": "stream",
     "text": [
      "C:\\ProgramData\\Anaconda3\\lib\\site-packages\\statsmodels\\tsa\\base\\tsa_model.py:471: ValueWarning: No frequency information was provided, so inferred frequency D will be used.\n",
      "  self._init_dates(dates, freq)\n",
      "C:\\ProgramData\\Anaconda3\\lib\\site-packages\\statsmodels\\tsa\\base\\tsa_model.py:471: ValueWarning: No frequency information was provided, so inferred frequency D will be used.\n",
      "  self._init_dates(dates, freq)\n",
      "C:\\ProgramData\\Anaconda3\\lib\\site-packages\\statsmodels\\tsa\\base\\tsa_model.py:471: ValueWarning: No frequency information was provided, so inferred frequency D will be used.\n",
      "  self._init_dates(dates, freq)\n"
     ]
    }
   ],
   "source": [
    "ventas_model_ar_6 = ARIMA(df_ventas['Ventas'], order=(6,0,0))"
   ]
  },
  {
   "cell_type": "code",
   "execution_count": 54,
   "id": "c3f26aba",
   "metadata": {},
   "outputs": [],
   "source": [
    "ventas_results_ar_6 = ventas_model_ar_6.fit()"
   ]
  },
  {
   "cell_type": "code",
   "execution_count": 55,
   "id": "c70606e4",
   "metadata": {},
   "outputs": [
    {
     "data": {
      "text/html": [
       "<table class=\"simpletable\">\n",
       "<caption>SARIMAX Results</caption>\n",
       "<tr>\n",
       "  <th>Dep. Variable:</th>        <td>Ventas</td>      <th>  No. Observations:  </th>    <td>365</td>   \n",
       "</tr>\n",
       "<tr>\n",
       "  <th>Model:</th>            <td>ARIMA(6, 0, 0)</td>  <th>  Log Likelihood     </th> <td>-3369.655</td>\n",
       "</tr>\n",
       "<tr>\n",
       "  <th>Date:</th>            <td>Wed, 18 Sep 2024</td> <th>  AIC                </th> <td>6755.309</td> \n",
       "</tr>\n",
       "<tr>\n",
       "  <th>Time:</th>                <td>17:53:48</td>     <th>  BIC                </th> <td>6786.508</td> \n",
       "</tr>\n",
       "<tr>\n",
       "  <th>Sample:</th>             <td>01-01-2023</td>    <th>  HQIC               </th> <td>6767.708</td> \n",
       "</tr>\n",
       "<tr>\n",
       "  <th></th>                   <td>- 12-31-2023</td>   <th>                     </th>     <td> </td>    \n",
       "</tr>\n",
       "<tr>\n",
       "  <th>Covariance Type:</th>        <td>opg</td>       <th>                     </th>     <td> </td>    \n",
       "</tr>\n",
       "</table>\n",
       "<table class=\"simpletable\">\n",
       "<tr>\n",
       "     <td></td>       <th>coef</th>     <th>std err</th>      <th>z</th>      <th>P>|z|</th>  <th>[0.025</th>    <th>0.975]</th>  \n",
       "</tr>\n",
       "<tr>\n",
       "  <th>const</th>  <td> 1.883e+04</td> <td>  447.008</td> <td>   42.127</td> <td> 0.000</td> <td>  1.8e+04</td> <td> 1.97e+04</td>\n",
       "</tr>\n",
       "<tr>\n",
       "  <th>ar.L1</th>  <td>    0.4062</td> <td>    0.054</td> <td>    7.514</td> <td> 0.000</td> <td>    0.300</td> <td>    0.512</td>\n",
       "</tr>\n",
       "<tr>\n",
       "  <th>ar.L2</th>  <td>    0.0632</td> <td>    0.056</td> <td>    1.126</td> <td> 0.260</td> <td>   -0.047</td> <td>    0.173</td>\n",
       "</tr>\n",
       "<tr>\n",
       "  <th>ar.L3</th>  <td>   -0.1083</td> <td>    0.057</td> <td>   -1.896</td> <td> 0.058</td> <td>   -0.220</td> <td>    0.004</td>\n",
       "</tr>\n",
       "<tr>\n",
       "  <th>ar.L4</th>  <td>   -0.0399</td> <td>    0.050</td> <td>   -0.799</td> <td> 0.424</td> <td>   -0.138</td> <td>    0.058</td>\n",
       "</tr>\n",
       "<tr>\n",
       "  <th>ar.L5</th>  <td>    0.0927</td> <td>    0.058</td> <td>    1.592</td> <td> 0.111</td> <td>   -0.021</td> <td>    0.207</td>\n",
       "</tr>\n",
       "<tr>\n",
       "  <th>ar.L6</th>  <td>    0.3019</td> <td>    0.052</td> <td>    5.796</td> <td> 0.000</td> <td>    0.200</td> <td>    0.404</td>\n",
       "</tr>\n",
       "<tr>\n",
       "  <th>sigma2</th> <td> 6.114e+06</td> <td> 4.77e+05</td> <td>   12.824</td> <td> 0.000</td> <td> 5.18e+06</td> <td> 7.05e+06</td>\n",
       "</tr>\n",
       "</table>\n",
       "<table class=\"simpletable\">\n",
       "<tr>\n",
       "  <th>Ljung-Box (L1) (Q):</th>     <td>2.78</td> <th>  Jarque-Bera (JB):  </th> <td>2.36</td> \n",
       "</tr>\n",
       "<tr>\n",
       "  <th>Prob(Q):</th>                <td>0.10</td> <th>  Prob(JB):          </th> <td>0.31</td> \n",
       "</tr>\n",
       "<tr>\n",
       "  <th>Heteroskedasticity (H):</th> <td>1.05</td> <th>  Skew:              </th> <td>-0.20</td>\n",
       "</tr>\n",
       "<tr>\n",
       "  <th>Prob(H) (two-sided):</th>    <td>0.79</td> <th>  Kurtosis:          </th> <td>2.95</td> \n",
       "</tr>\n",
       "</table><br/><br/>Warnings:<br/>[1] Covariance matrix calculated using the outer product of gradients (complex-step)."
      ],
      "text/plain": [
       "<class 'statsmodels.iolib.summary.Summary'>\n",
       "\"\"\"\n",
       "                               SARIMAX Results                                \n",
       "==============================================================================\n",
       "Dep. Variable:                 Ventas   No. Observations:                  365\n",
       "Model:                 ARIMA(6, 0, 0)   Log Likelihood               -3369.655\n",
       "Date:                Wed, 18 Sep 2024   AIC                           6755.309\n",
       "Time:                        17:53:48   BIC                           6786.508\n",
       "Sample:                    01-01-2023   HQIC                          6767.708\n",
       "                         - 12-31-2023                                         \n",
       "Covariance Type:                  opg                                         \n",
       "==============================================================================\n",
       "                 coef    std err          z      P>|z|      [0.025      0.975]\n",
       "------------------------------------------------------------------------------\n",
       "const       1.883e+04    447.008     42.127      0.000     1.8e+04    1.97e+04\n",
       "ar.L1          0.4062      0.054      7.514      0.000       0.300       0.512\n",
       "ar.L2          0.0632      0.056      1.126      0.260      -0.047       0.173\n",
       "ar.L3         -0.1083      0.057     -1.896      0.058      -0.220       0.004\n",
       "ar.L4         -0.0399      0.050     -0.799      0.424      -0.138       0.058\n",
       "ar.L5          0.0927      0.058      1.592      0.111      -0.021       0.207\n",
       "ar.L6          0.3019      0.052      5.796      0.000       0.200       0.404\n",
       "sigma2      6.114e+06   4.77e+05     12.824      0.000    5.18e+06    7.05e+06\n",
       "===================================================================================\n",
       "Ljung-Box (L1) (Q):                   2.78   Jarque-Bera (JB):                 2.36\n",
       "Prob(Q):                              0.10   Prob(JB):                         0.31\n",
       "Heteroskedasticity (H):               1.05   Skew:                            -0.20\n",
       "Prob(H) (two-sided):                  0.79   Kurtosis:                         2.95\n",
       "===================================================================================\n",
       "\n",
       "Warnings:\n",
       "[1] Covariance matrix calculated using the outer product of gradients (complex-step).\n",
       "\"\"\""
      ]
     },
     "execution_count": 55,
     "metadata": {},
     "output_type": "execute_result"
    }
   ],
   "source": [
    "ventas_results_ar_6.summary()"
   ]
  },
  {
   "cell_type": "code",
   "execution_count": 56,
   "id": "dfc09fe2",
   "metadata": {},
   "outputs": [
    {
     "name": "stderr",
     "output_type": "stream",
     "text": [
      "C:\\ProgramData\\Anaconda3\\lib\\site-packages\\statsmodels\\tsa\\base\\tsa_model.py:471: ValueWarning: No frequency information was provided, so inferred frequency D will be used.\n",
      "  self._init_dates(dates, freq)\n",
      "C:\\ProgramData\\Anaconda3\\lib\\site-packages\\statsmodels\\tsa\\base\\tsa_model.py:471: ValueWarning: No frequency information was provided, so inferred frequency D will be used.\n",
      "  self._init_dates(dates, freq)\n",
      "C:\\ProgramData\\Anaconda3\\lib\\site-packages\\statsmodels\\tsa\\base\\tsa_model.py:471: ValueWarning: No frequency information was provided, so inferred frequency D will be used.\n",
      "  self._init_dates(dates, freq)\n"
     ]
    }
   ],
   "source": [
    "ventas_model_ar_7 = ARIMA(df_ventas['Ventas'], order=(7,0,0))"
   ]
  },
  {
   "cell_type": "code",
   "execution_count": 57,
   "id": "b44c3225",
   "metadata": {},
   "outputs": [],
   "source": [
    "ventas_results_ar_7 = ventas_model_ar_7.fit()"
   ]
  },
  {
   "cell_type": "code",
   "execution_count": 58,
   "id": "976d553b",
   "metadata": {},
   "outputs": [
    {
     "data": {
      "text/html": [
       "<table class=\"simpletable\">\n",
       "<caption>SARIMAX Results</caption>\n",
       "<tr>\n",
       "  <th>Dep. Variable:</th>        <td>Ventas</td>      <th>  No. Observations:  </th>    <td>365</td>   \n",
       "</tr>\n",
       "<tr>\n",
       "  <th>Model:</th>            <td>ARIMA(7, 0, 0)</td>  <th>  Log Likelihood     </th> <td>-3355.384</td>\n",
       "</tr>\n",
       "<tr>\n",
       "  <th>Date:</th>            <td>Wed, 18 Sep 2024</td> <th>  AIC                </th> <td>6728.767</td> \n",
       "</tr>\n",
       "<tr>\n",
       "  <th>Time:</th>                <td>17:53:49</td>     <th>  BIC                </th> <td>6763.866</td> \n",
       "</tr>\n",
       "<tr>\n",
       "  <th>Sample:</th>             <td>01-01-2023</td>    <th>  HQIC               </th> <td>6742.716</td> \n",
       "</tr>\n",
       "<tr>\n",
       "  <th></th>                   <td>- 12-31-2023</td>   <th>                     </th>     <td> </td>    \n",
       "</tr>\n",
       "<tr>\n",
       "  <th>Covariance Type:</th>        <td>opg</td>       <th>                     </th>     <td> </td>    \n",
       "</tr>\n",
       "</table>\n",
       "<table class=\"simpletable\">\n",
       "<tr>\n",
       "     <td></td>       <th>coef</th>     <th>std err</th>      <th>z</th>      <th>P>|z|</th>  <th>[0.025</th>    <th>0.975]</th>  \n",
       "</tr>\n",
       "<tr>\n",
       "  <th>const</th>  <td> 1.883e+04</td> <td>  578.798</td> <td>   32.535</td> <td> 0.000</td> <td> 1.77e+04</td> <td>    2e+04</td>\n",
       "</tr>\n",
       "<tr>\n",
       "  <th>ar.L1</th>  <td>    0.3226</td> <td>    0.054</td> <td>    5.975</td> <td> 0.000</td> <td>    0.217</td> <td>    0.428</td>\n",
       "</tr>\n",
       "<tr>\n",
       "  <th>ar.L2</th>  <td>    0.0384</td> <td>    0.054</td> <td>    0.708</td> <td> 0.479</td> <td>   -0.068</td> <td>    0.145</td>\n",
       "</tr>\n",
       "<tr>\n",
       "  <th>ar.L3</th>  <td>   -0.0976</td> <td>    0.056</td> <td>   -1.756</td> <td> 0.079</td> <td>   -0.206</td> <td>    0.011</td>\n",
       "</tr>\n",
       "<tr>\n",
       "  <th>ar.L4</th>  <td>   -0.0089</td> <td>    0.047</td> <td>   -0.189</td> <td> 0.850</td> <td>   -0.102</td> <td>    0.084</td>\n",
       "</tr>\n",
       "<tr>\n",
       "  <th>ar.L5</th>  <td>    0.0760</td> <td>    0.054</td> <td>    1.395</td> <td> 0.163</td> <td>   -0.031</td> <td>    0.183</td>\n",
       "</tr>\n",
       "<tr>\n",
       "  <th>ar.L6</th>  <td>    0.1891</td> <td>    0.056</td> <td>    3.366</td> <td> 0.001</td> <td>    0.079</td> <td>    0.299</td>\n",
       "</tr>\n",
       "<tr>\n",
       "  <th>ar.L7</th>  <td>    0.2759</td> <td>    0.052</td> <td>    5.271</td> <td> 0.000</td> <td>    0.173</td> <td>    0.378</td>\n",
       "</tr>\n",
       "<tr>\n",
       "  <th>sigma2</th> <td> 5.661e+06</td> <td> 4.19e+05</td> <td>   13.503</td> <td> 0.000</td> <td> 4.84e+06</td> <td> 6.48e+06</td>\n",
       "</tr>\n",
       "</table>\n",
       "<table class=\"simpletable\">\n",
       "<tr>\n",
       "  <th>Ljung-Box (L1) (Q):</th>     <td>0.52</td> <th>  Jarque-Bera (JB):  </th> <td>1.28</td> \n",
       "</tr>\n",
       "<tr>\n",
       "  <th>Prob(Q):</th>                <td>0.47</td> <th>  Prob(JB):          </th> <td>0.53</td> \n",
       "</tr>\n",
       "<tr>\n",
       "  <th>Heteroskedasticity (H):</th> <td>1.02</td> <th>  Skew:              </th> <td>-0.13</td>\n",
       "</tr>\n",
       "<tr>\n",
       "  <th>Prob(H) (two-sided):</th>    <td>0.92</td> <th>  Kurtosis:          </th> <td>3.13</td> \n",
       "</tr>\n",
       "</table><br/><br/>Warnings:<br/>[1] Covariance matrix calculated using the outer product of gradients (complex-step)."
      ],
      "text/plain": [
       "<class 'statsmodels.iolib.summary.Summary'>\n",
       "\"\"\"\n",
       "                               SARIMAX Results                                \n",
       "==============================================================================\n",
       "Dep. Variable:                 Ventas   No. Observations:                  365\n",
       "Model:                 ARIMA(7, 0, 0)   Log Likelihood               -3355.384\n",
       "Date:                Wed, 18 Sep 2024   AIC                           6728.767\n",
       "Time:                        17:53:49   BIC                           6763.866\n",
       "Sample:                    01-01-2023   HQIC                          6742.716\n",
       "                         - 12-31-2023                                         \n",
       "Covariance Type:                  opg                                         \n",
       "==============================================================================\n",
       "                 coef    std err          z      P>|z|      [0.025      0.975]\n",
       "------------------------------------------------------------------------------\n",
       "const       1.883e+04    578.798     32.535      0.000    1.77e+04       2e+04\n",
       "ar.L1          0.3226      0.054      5.975      0.000       0.217       0.428\n",
       "ar.L2          0.0384      0.054      0.708      0.479      -0.068       0.145\n",
       "ar.L3         -0.0976      0.056     -1.756      0.079      -0.206       0.011\n",
       "ar.L4         -0.0089      0.047     -0.189      0.850      -0.102       0.084\n",
       "ar.L5          0.0760      0.054      1.395      0.163      -0.031       0.183\n",
       "ar.L6          0.1891      0.056      3.366      0.001       0.079       0.299\n",
       "ar.L7          0.2759      0.052      5.271      0.000       0.173       0.378\n",
       "sigma2      5.661e+06   4.19e+05     13.503      0.000    4.84e+06    6.48e+06\n",
       "===================================================================================\n",
       "Ljung-Box (L1) (Q):                   0.52   Jarque-Bera (JB):                 1.28\n",
       "Prob(Q):                              0.47   Prob(JB):                         0.53\n",
       "Heteroskedasticity (H):               1.02   Skew:                            -0.13\n",
       "Prob(H) (two-sided):                  0.92   Kurtosis:                         3.13\n",
       "===================================================================================\n",
       "\n",
       "Warnings:\n",
       "[1] Covariance matrix calculated using the outer product of gradients (complex-step).\n",
       "\"\"\""
      ]
     },
     "execution_count": 58,
     "metadata": {},
     "output_type": "execute_result"
    }
   ],
   "source": [
    "ventas_results_ar_7.summary()"
   ]
  },
  {
   "cell_type": "code",
   "execution_count": 59,
   "id": "b82a061b",
   "metadata": {},
   "outputs": [
    {
     "name": "stderr",
     "output_type": "stream",
     "text": [
      "C:\\ProgramData\\Anaconda3\\lib\\site-packages\\statsmodels\\tsa\\base\\tsa_model.py:471: ValueWarning: No frequency information was provided, so inferred frequency D will be used.\n",
      "  self._init_dates(dates, freq)\n",
      "C:\\ProgramData\\Anaconda3\\lib\\site-packages\\statsmodels\\tsa\\base\\tsa_model.py:471: ValueWarning: No frequency information was provided, so inferred frequency D will be used.\n",
      "  self._init_dates(dates, freq)\n",
      "C:\\ProgramData\\Anaconda3\\lib\\site-packages\\statsmodels\\tsa\\base\\tsa_model.py:471: ValueWarning: No frequency information was provided, so inferred frequency D will be used.\n",
      "  self._init_dates(dates, freq)\n"
     ]
    }
   ],
   "source": [
    "ventas_model_ar_8 = ARIMA(df_ventas['Ventas'], order=(8,0,0))"
   ]
  },
  {
   "cell_type": "code",
   "execution_count": 60,
   "id": "7b547d92",
   "metadata": {},
   "outputs": [],
   "source": [
    "ventas_results_ar_8 = ventas_model_ar_8.fit()"
   ]
  },
  {
   "cell_type": "code",
   "execution_count": 61,
   "id": "036804a4",
   "metadata": {},
   "outputs": [
    {
     "data": {
      "text/html": [
       "<table class=\"simpletable\">\n",
       "<caption>SARIMAX Results</caption>\n",
       "<tr>\n",
       "  <th>Dep. Variable:</th>        <td>Ventas</td>      <th>  No. Observations:  </th>    <td>365</td>   \n",
       "</tr>\n",
       "<tr>\n",
       "  <th>Model:</th>            <td>ARIMA(8, 0, 0)</td>  <th>  Log Likelihood     </th> <td>-3352.717</td>\n",
       "</tr>\n",
       "<tr>\n",
       "  <th>Date:</th>            <td>Wed, 18 Sep 2024</td> <th>  AIC                </th> <td>6725.434</td> \n",
       "</tr>\n",
       "<tr>\n",
       "  <th>Time:</th>                <td>17:53:49</td>     <th>  BIC                </th> <td>6764.433</td> \n",
       "</tr>\n",
       "<tr>\n",
       "  <th>Sample:</th>             <td>01-01-2023</td>    <th>  HQIC               </th> <td>6740.933</td> \n",
       "</tr>\n",
       "<tr>\n",
       "  <th></th>                   <td>- 12-31-2023</td>   <th>                     </th>     <td> </td>    \n",
       "</tr>\n",
       "<tr>\n",
       "  <th>Covariance Type:</th>        <td>opg</td>       <th>                     </th>     <td> </td>    \n",
       "</tr>\n",
       "</table>\n",
       "<table class=\"simpletable\">\n",
       "<tr>\n",
       "     <td></td>       <th>coef</th>     <th>std err</th>      <th>z</th>      <th>P>|z|</th>  <th>[0.025</th>    <th>0.975]</th>  \n",
       "</tr>\n",
       "<tr>\n",
       "  <th>const</th>  <td> 1.883e+04</td> <td>  641.414</td> <td>   29.359</td> <td> 0.000</td> <td> 1.76e+04</td> <td> 2.01e+04</td>\n",
       "</tr>\n",
       "<tr>\n",
       "  <th>ar.L1</th>  <td>    0.2904</td> <td>    0.054</td> <td>    5.378</td> <td> 0.000</td> <td>    0.185</td> <td>    0.396</td>\n",
       "</tr>\n",
       "<tr>\n",
       "  <th>ar.L2</th>  <td>    0.0146</td> <td>    0.054</td> <td>    0.271</td> <td> 0.787</td> <td>   -0.091</td> <td>    0.120</td>\n",
       "</tr>\n",
       "<tr>\n",
       "  <th>ar.L3</th>  <td>   -0.1061</td> <td>    0.054</td> <td>   -1.948</td> <td> 0.051</td> <td>   -0.213</td> <td>    0.001</td>\n",
       "</tr>\n",
       "<tr>\n",
       "  <th>ar.L4</th>  <td>   -0.0083</td> <td>    0.046</td> <td>   -0.180</td> <td> 0.857</td> <td>   -0.099</td> <td>    0.082</td>\n",
       "</tr>\n",
       "<tr>\n",
       "  <th>ar.L5</th>  <td>    0.0888</td> <td>    0.053</td> <td>    1.661</td> <td> 0.097</td> <td>   -0.016</td> <td>    0.194</td>\n",
       "</tr>\n",
       "<tr>\n",
       "  <th>ar.L6</th>  <td>    0.1854</td> <td>    0.054</td> <td>    3.419</td> <td> 0.001</td> <td>    0.079</td> <td>    0.292</td>\n",
       "</tr>\n",
       "<tr>\n",
       "  <th>ar.L7</th>  <td>    0.2359</td> <td>    0.052</td> <td>    4.508</td> <td> 0.000</td> <td>    0.133</td> <td>    0.338</td>\n",
       "</tr>\n",
       "<tr>\n",
       "  <th>ar.L8</th>  <td>    0.1228</td> <td>    0.053</td> <td>    2.299</td> <td> 0.022</td> <td>    0.018</td> <td>    0.227</td>\n",
       "</tr>\n",
       "<tr>\n",
       "  <th>sigma2</th> <td> 5.477e+06</td> <td> 3.95e+05</td> <td>   13.859</td> <td> 0.000</td> <td>  4.7e+06</td> <td> 6.25e+06</td>\n",
       "</tr>\n",
       "</table>\n",
       "<table class=\"simpletable\">\n",
       "<tr>\n",
       "  <th>Ljung-Box (L1) (Q):</th>     <td>0.00</td> <th>  Jarque-Bera (JB):  </th> <td>1.99</td> \n",
       "</tr>\n",
       "<tr>\n",
       "  <th>Prob(Q):</th>                <td>0.99</td> <th>  Prob(JB):          </th> <td>0.37</td> \n",
       "</tr>\n",
       "<tr>\n",
       "  <th>Heteroskedasticity (H):</th> <td>1.01</td> <th>  Skew:              </th> <td>-0.16</td>\n",
       "</tr>\n",
       "<tr>\n",
       "  <th>Prob(H) (two-sided):</th>    <td>0.95</td> <th>  Kurtosis:          </th> <td>3.17</td> \n",
       "</tr>\n",
       "</table><br/><br/>Warnings:<br/>[1] Covariance matrix calculated using the outer product of gradients (complex-step)."
      ],
      "text/plain": [
       "<class 'statsmodels.iolib.summary.Summary'>\n",
       "\"\"\"\n",
       "                               SARIMAX Results                                \n",
       "==============================================================================\n",
       "Dep. Variable:                 Ventas   No. Observations:                  365\n",
       "Model:                 ARIMA(8, 0, 0)   Log Likelihood               -3352.717\n",
       "Date:                Wed, 18 Sep 2024   AIC                           6725.434\n",
       "Time:                        17:53:49   BIC                           6764.433\n",
       "Sample:                    01-01-2023   HQIC                          6740.933\n",
       "                         - 12-31-2023                                         \n",
       "Covariance Type:                  opg                                         \n",
       "==============================================================================\n",
       "                 coef    std err          z      P>|z|      [0.025      0.975]\n",
       "------------------------------------------------------------------------------\n",
       "const       1.883e+04    641.414     29.359      0.000    1.76e+04    2.01e+04\n",
       "ar.L1          0.2904      0.054      5.378      0.000       0.185       0.396\n",
       "ar.L2          0.0146      0.054      0.271      0.787      -0.091       0.120\n",
       "ar.L3         -0.1061      0.054     -1.948      0.051      -0.213       0.001\n",
       "ar.L4         -0.0083      0.046     -0.180      0.857      -0.099       0.082\n",
       "ar.L5          0.0888      0.053      1.661      0.097      -0.016       0.194\n",
       "ar.L6          0.1854      0.054      3.419      0.001       0.079       0.292\n",
       "ar.L7          0.2359      0.052      4.508      0.000       0.133       0.338\n",
       "ar.L8          0.1228      0.053      2.299      0.022       0.018       0.227\n",
       "sigma2      5.477e+06   3.95e+05     13.859      0.000     4.7e+06    6.25e+06\n",
       "===================================================================================\n",
       "Ljung-Box (L1) (Q):                   0.00   Jarque-Bera (JB):                 1.99\n",
       "Prob(Q):                              0.99   Prob(JB):                         0.37\n",
       "Heteroskedasticity (H):               1.01   Skew:                            -0.16\n",
       "Prob(H) (two-sided):                  0.95   Kurtosis:                         3.17\n",
       "===================================================================================\n",
       "\n",
       "Warnings:\n",
       "[1] Covariance matrix calculated using the outer product of gradients (complex-step).\n",
       "\"\"\""
      ]
     },
     "execution_count": 61,
     "metadata": {},
     "output_type": "execute_result"
    }
   ],
   "source": [
    "ventas_results_ar_8.summary()"
   ]
  },
  {
   "cell_type": "markdown",
   "id": "a105017c",
   "metadata": {},
   "source": [
    "### Pruebas LLR"
   ]
  },
  {
   "cell_type": "code",
   "execution_count": 62,
   "id": "16856872",
   "metadata": {},
   "outputs": [
    {
     "data": {
      "text/plain": [
       "4.959256004128716e-18"
      ]
     },
     "execution_count": 62,
     "metadata": {},
     "output_type": "execute_result"
    }
   ],
   "source": [
    "LLR_test(ventas_model_ar_1, ventas_model_ar_8,DF=7)"
   ]
  },
  {
   "cell_type": "markdown",
   "id": "f3571c54",
   "metadata": {},
   "source": [
    "## Datos macroeconómicos de EEUU: PBI real"
   ]
  },
  {
   "cell_type": "markdown",
   "id": "a6b8cdb9",
   "metadata": {},
   "source": [
    "### Estacionaridad"
   ]
  },
  {
   "cell_type": "code",
   "execution_count": 63,
   "id": "a3964218",
   "metadata": {},
   "outputs": [
    {
     "data": {
      "text/plain": [
       "(1.7504627967647133,\n",
       " 0.9982455372335032,\n",
       " 12,\n",
       " 190,\n",
       " {'1%': -3.4652439354133255,\n",
       "  '5%': -2.8768752281673717,\n",
       "  '10%': -2.574944653739612},\n",
       " 2034.517123668382)"
      ]
     },
     "execution_count": 63,
     "metadata": {},
     "output_type": "execute_result"
    }
   ],
   "source": [
    "sts.adfuller(df_macrodata['realgdp'])"
   ]
  },
  {
   "cell_type": "markdown",
   "id": "bc1e736c",
   "metadata": {},
   "source": [
    "### PACF"
   ]
  },
  {
   "cell_type": "code",
   "execution_count": 64,
   "id": "b448c06b",
   "metadata": {},
   "outputs": [
    {
     "name": "stderr",
     "output_type": "stream",
     "text": [
      "C:\\ProgramData\\Anaconda3\\lib\\site-packages\\statsmodels\\graphics\\tsaplots.py:348: FutureWarning: The default method 'yw' can produce PACF values outside of the [-1,1] interval. After 0.13, the default will change tounadjusted Yule-Walker ('ywm'). You can use this method now by setting method='ywm'.\n",
      "  warnings.warn(\n"
     ]
    },
    {
     "data": {
      "image/png": "[encoded data removed]",
      "text/plain": [
       "<Figure size 640x480 with 1 Axes>"
      ]
     },
     "metadata": {},
     "output_type": "display_data"
    }
   ],
   "source": [
    "sgt.plot_pacf(df_macrodata['realgdp'], zero = False, lags = 40)\n",
    "plt.title(\"PACF for GDP\", size = 20)\n",
    "plt.show()"
   ]
  },
  {
   "cell_type": "markdown",
   "id": "0b9bf7a5",
   "metadata": {},
   "source": [
    "### Modelo AR(1)"
   ]
  },
  {
   "cell_type": "code",
   "execution_count": 65,
   "id": "11aab5ca",
   "metadata": {},
   "outputs": [
    {
     "name": "stderr",
     "output_type": "stream",
     "text": [
      "C:\\ProgramData\\Anaconda3\\lib\\site-packages\\statsmodels\\tsa\\base\\tsa_model.py:471: ValueWarning: No frequency information was provided, so inferred frequency Q-DEC will be used.\n",
      "  self._init_dates(dates, freq)\n",
      "C:\\ProgramData\\Anaconda3\\lib\\site-packages\\statsmodels\\tsa\\base\\tsa_model.py:471: ValueWarning: No frequency information was provided, so inferred frequency Q-DEC will be used.\n",
      "  self._init_dates(dates, freq)\n",
      "C:\\ProgramData\\Anaconda3\\lib\\site-packages\\statsmodels\\tsa\\base\\tsa_model.py:471: ValueWarning: No frequency information was provided, so inferred frequency Q-DEC will be used.\n",
      "  self._init_dates(dates, freq)\n"
     ]
    }
   ],
   "source": [
    "realgdp_model_ar_1 = ARIMA(df_macrodata['realgdp'], order=(1,0,0))"
   ]
  },
  {
   "cell_type": "code",
   "execution_count": 66,
   "id": "46528dfe",
   "metadata": {},
   "outputs": [
    {
     "name": "stderr",
     "output_type": "stream",
     "text": [
      "C:\\ProgramData\\Anaconda3\\lib\\site-packages\\statsmodels\\tsa\\statespace\\sarimax.py:966: UserWarning: Non-stationary starting autoregressive parameters found. Using zeros as starting parameters.\n",
      "  warn('Non-stationary starting autoregressive parameters'\n"
     ]
    }
   ],
   "source": [
    "realgdp_results_ar_1 = realgdp_model_ar_1.fit()"
   ]
  },
  {
   "cell_type": "code",
   "execution_count": 67,
   "id": "ce578282",
   "metadata": {},
   "outputs": [
    {
     "data": {
      "text/html": [
       "<table class=\"simpletable\">\n",
       "<caption>SARIMAX Results</caption>\n",
       "<tr>\n",
       "  <th>Dep. Variable:</th>        <td>realgdp</td>     <th>  No. Observations:  </th>    <td>203</td>   \n",
       "</tr>\n",
       "<tr>\n",
       "  <th>Model:</th>            <td>ARIMA(1, 0, 0)</td>  <th>  Log Likelihood     </th> <td>-1178.136</td>\n",
       "</tr>\n",
       "<tr>\n",
       "  <th>Date:</th>            <td>Wed, 18 Sep 2024</td> <th>  AIC                </th> <td>2362.272</td> \n",
       "</tr>\n",
       "<tr>\n",
       "  <th>Time:</th>                <td>17:53:51</td>     <th>  BIC                </th> <td>2372.212</td> \n",
       "</tr>\n",
       "<tr>\n",
       "  <th>Sample:</th>             <td>03-31-1959</td>    <th>  HQIC               </th> <td>2366.293</td> \n",
       "</tr>\n",
       "<tr>\n",
       "  <th></th>                   <td>- 09-30-2009</td>   <th>                     </th>     <td> </td>    \n",
       "</tr>\n",
       "<tr>\n",
       "  <th>Covariance Type:</th>        <td>opg</td>       <th>                     </th>     <td> </td>    \n",
       "</tr>\n",
       "</table>\n",
       "<table class=\"simpletable\">\n",
       "<tr>\n",
       "     <td></td>       <th>coef</th>     <th>std err</th>      <th>z</th>      <th>P>|z|</th>  <th>[0.025</th>    <th>0.975]</th>  \n",
       "</tr>\n",
       "<tr>\n",
       "  <th>const</th>  <td> 7221.2951</td> <td> 8771.072</td> <td>    0.823</td> <td> 0.410</td> <td>-9969.690</td> <td> 2.44e+04</td>\n",
       "</tr>\n",
       "<tr>\n",
       "  <th>ar.L1</th>  <td>    0.9999</td> <td>    0.002</td> <td>  586.821</td> <td> 0.000</td> <td>    0.997</td> <td>    1.003</td>\n",
       "</tr>\n",
       "<tr>\n",
       "  <th>sigma2</th> <td> 6173.3228</td> <td>  651.203</td> <td>    9.480</td> <td> 0.000</td> <td> 4896.988</td> <td> 7449.658</td>\n",
       "</tr>\n",
       "</table>\n",
       "<table class=\"simpletable\">\n",
       "<tr>\n",
       "  <th>Ljung-Box (L1) (Q):</th>     <td>33.17</td> <th>  Jarque-Bera (JB):  </th> <td>71.28</td>\n",
       "</tr>\n",
       "<tr>\n",
       "  <th>Prob(Q):</th>                <td>0.00</td>  <th>  Prob(JB):          </th> <td>0.00</td> \n",
       "</tr>\n",
       "<tr>\n",
       "  <th>Heteroskedasticity (H):</th> <td>3.72</td>  <th>  Skew:              </th> <td>-0.66</td>\n",
       "</tr>\n",
       "<tr>\n",
       "  <th>Prob(H) (two-sided):</th>    <td>0.00</td>  <th>  Kurtosis:          </th> <td>5.59</td> \n",
       "</tr>\n",
       "</table><br/><br/>Warnings:<br/>[1] Covariance matrix calculated using the outer product of gradients (complex-step)."
      ],
      "text/plain": [
       "<class 'statsmodels.iolib.summary.Summary'>\n",
       "\"\"\"\n",
       "                               SARIMAX Results                                \n",
       "==============================================================================\n",
       "Dep. Variable:                realgdp   No. Observations:                  203\n",
       "Model:                 ARIMA(1, 0, 0)   Log Likelihood               -1178.136\n",
       "Date:                Wed, 18 Sep 2024   AIC                           2362.272\n",
       "Time:                        17:53:51   BIC                           2372.212\n",
       "Sample:                    03-31-1959   HQIC                          2366.293\n",
       "                         - 09-30-2009                                         \n",
       "Covariance Type:                  opg                                         \n",
       "==============================================================================\n",
       "                 coef    std err          z      P>|z|      [0.025      0.975]\n",
       "------------------------------------------------------------------------------\n",
       "const       7221.2951   8771.072      0.823      0.410   -9969.690    2.44e+04\n",
       "ar.L1          0.9999      0.002    586.821      0.000       0.997       1.003\n",
       "sigma2      6173.3228    651.203      9.480      0.000    4896.988    7449.658\n",
       "===================================================================================\n",
       "Ljung-Box (L1) (Q):                  33.17   Jarque-Bera (JB):                71.28\n",
       "Prob(Q):                              0.00   Prob(JB):                         0.00\n",
       "Heteroskedasticity (H):               3.72   Skew:                            -0.66\n",
       "Prob(H) (two-sided):                  0.00   Kurtosis:                         5.59\n",
       "===================================================================================\n",
       "\n",
       "Warnings:\n",
       "[1] Covariance matrix calculated using the outer product of gradients (complex-step).\n",
       "\"\"\""
      ]
     },
     "execution_count": 67,
     "metadata": {},
     "output_type": "execute_result"
    }
   ],
   "source": [
    "realgdp_results_ar_1.summary()"
   ]
  },
  {
   "cell_type": "markdown",
   "id": "d158e890",
   "metadata": {},
   "source": [
    "## Datos macroeconómicos de EEUU: Inflación"
   ]
  },
  {
   "cell_type": "markdown",
   "id": "8ff8cec0",
   "metadata": {},
   "source": [
    "### Estacionaridad"
   ]
  },
  {
   "cell_type": "code",
   "execution_count": 68,
   "id": "b9826d6e",
   "metadata": {},
   "outputs": [
    {
     "data": {
      "text/plain": [
       "(-3.054514496257236,\n",
       " 0.03010762086348588,\n",
       " 2,\n",
       " 200,\n",
       " {'1%': -3.463476079125, '5%': -2.876102355, '10%': -2.574532225},\n",
       " 852.1494477600706)"
      ]
     },
     "execution_count": 68,
     "metadata": {},
     "output_type": "execute_result"
    }
   ],
   "source": [
    "sts.adfuller(df_macrodata['infl'])"
   ]
  },
  {
   "cell_type": "markdown",
   "id": "dc520ce9",
   "metadata": {},
   "source": [
    "### PACF"
   ]
  },
  {
   "cell_type": "code",
   "execution_count": 69,
   "id": "f90a398c",
   "metadata": {},
   "outputs": [
    {
     "name": "stderr",
     "output_type": "stream",
     "text": [
      "C:\\ProgramData\\Anaconda3\\lib\\site-packages\\statsmodels\\graphics\\tsaplots.py:348: FutureWarning: The default method 'yw' can produce PACF values outside of the [-1,1] interval. After 0.13, the default will change tounadjusted Yule-Walker ('ywm'). You can use this method now by setting method='ywm'.\n",
      "  warnings.warn(\n"
     ]
    },
    {
     "data": {
      "image/png": "[encoded data removed]",
      "text/plain": [
       "<Figure size 640x480 with 1 Axes>"
      ]
     },
     "metadata": {},
     "output_type": "display_data"
    }
   ],
   "source": [
    "sgt.plot_pacf(df_macrodata['infl'], zero = False, lags = 40)\n",
    "plt.title(\"PACF for Inflation\", size = 20)\n",
    "plt.show()"
   ]
  },
  {
   "cell_type": "markdown",
   "id": "ec291b12",
   "metadata": {},
   "source": [
    "### Modelo AR(1)"
   ]
  },
  {
   "cell_type": "code",
   "execution_count": 70,
   "id": "29a3499e",
   "metadata": {},
   "outputs": [
    {
     "name": "stderr",
     "output_type": "stream",
     "text": [
      "C:\\ProgramData\\Anaconda3\\lib\\site-packages\\statsmodels\\tsa\\base\\tsa_model.py:471: ValueWarning: No frequency information was provided, so inferred frequency Q-DEC will be used.\n",
      "  self._init_dates(dates, freq)\n",
      "C:\\ProgramData\\Anaconda3\\lib\\site-packages\\statsmodels\\tsa\\base\\tsa_model.py:471: ValueWarning: No frequency information was provided, so inferred frequency Q-DEC will be used.\n",
      "  self._init_dates(dates, freq)\n",
      "C:\\ProgramData\\Anaconda3\\lib\\site-packages\\statsmodels\\tsa\\base\\tsa_model.py:471: ValueWarning: No frequency information was provided, so inferred frequency Q-DEC will be used.\n",
      "  self._init_dates(dates, freq)\n"
     ]
    }
   ],
   "source": [
    "inflation_model_ar_1 = ARIMA(df_macrodata['infl'], order=(1,0,0))"
   ]
  },
  {
   "cell_type": "code",
   "execution_count": 71,
   "id": "c77387d5",
   "metadata": {},
   "outputs": [],
   "source": [
    "inflation_results_ar_1 = inflation_model_ar_1.fit()"
   ]
  },
  {
   "cell_type": "code",
   "execution_count": 72,
   "id": "4e8bb68d",
   "metadata": {},
   "outputs": [
    {
     "data": {
      "text/html": [
       "<table class=\"simpletable\">\n",
       "<caption>SARIMAX Results</caption>\n",
       "<tr>\n",
       "  <th>Dep. Variable:</th>         <td>infl</td>       <th>  No. Observations:  </th>    <td>203</td>  \n",
       "</tr>\n",
       "<tr>\n",
       "  <th>Model:</th>            <td>ARIMA(1, 0, 0)</td>  <th>  Log Likelihood     </th> <td>-472.714</td>\n",
       "</tr>\n",
       "<tr>\n",
       "  <th>Date:</th>            <td>Wed, 18 Sep 2024</td> <th>  AIC                </th>  <td>951.427</td>\n",
       "</tr>\n",
       "<tr>\n",
       "  <th>Time:</th>                <td>17:53:51</td>     <th>  BIC                </th>  <td>961.367</td>\n",
       "</tr>\n",
       "<tr>\n",
       "  <th>Sample:</th>             <td>03-31-1959</td>    <th>  HQIC               </th>  <td>955.449</td>\n",
       "</tr>\n",
       "<tr>\n",
       "  <th></th>                   <td>- 09-30-2009</td>   <th>                     </th>     <td> </td>   \n",
       "</tr>\n",
       "<tr>\n",
       "  <th>Covariance Type:</th>        <td>opg</td>       <th>                     </th>     <td> </td>   \n",
       "</tr>\n",
       "</table>\n",
       "<table class=\"simpletable\">\n",
       "<tr>\n",
       "     <td></td>       <th>coef</th>     <th>std err</th>      <th>z</th>      <th>P>|z|</th>  <th>[0.025</th>    <th>0.975]</th>  \n",
       "</tr>\n",
       "<tr>\n",
       "  <th>const</th>  <td>    3.9230</td> <td>    0.494</td> <td>    7.939</td> <td> 0.000</td> <td>    2.955</td> <td>    4.891</td>\n",
       "</tr>\n",
       "<tr>\n",
       "  <th>ar.L1</th>  <td>    0.6441</td> <td>    0.039</td> <td>   16.482</td> <td> 0.000</td> <td>    0.567</td> <td>    0.721</td>\n",
       "</tr>\n",
       "<tr>\n",
       "  <th>sigma2</th> <td>    6.1518</td> <td>    0.397</td> <td>   15.488</td> <td> 0.000</td> <td>    5.373</td> <td>    6.930</td>\n",
       "</tr>\n",
       "</table>\n",
       "<table class=\"simpletable\">\n",
       "<tr>\n",
       "  <th>Ljung-Box (L1) (Q):</th>     <td>8.43</td> <th>  Jarque-Bera (JB):  </th> <td>68.45</td>\n",
       "</tr>\n",
       "<tr>\n",
       "  <th>Prob(Q):</th>                <td>0.00</td> <th>  Prob(JB):          </th> <td>0.00</td> \n",
       "</tr>\n",
       "<tr>\n",
       "  <th>Heteroskedasticity (H):</th> <td>1.47</td> <th>  Skew:              </th> <td>-0.22</td>\n",
       "</tr>\n",
       "<tr>\n",
       "  <th>Prob(H) (two-sided):</th>    <td>0.12</td> <th>  Kurtosis:          </th> <td>5.81</td> \n",
       "</tr>\n",
       "</table><br/><br/>Warnings:<br/>[1] Covariance matrix calculated using the outer product of gradients (complex-step)."
      ],
      "text/plain": [
       "<class 'statsmodels.iolib.summary.Summary'>\n",
       "\"\"\"\n",
       "                               SARIMAX Results                                \n",
       "==============================================================================\n",
       "Dep. Variable:                   infl   No. Observations:                  203\n",
       "Model:                 ARIMA(1, 0, 0)   Log Likelihood                -472.714\n",
       "Date:                Wed, 18 Sep 2024   AIC                            951.427\n",
       "Time:                        17:53:51   BIC                            961.367\n",
       "Sample:                    03-31-1959   HQIC                           955.449\n",
       "                         - 09-30-2009                                         \n",
       "Covariance Type:                  opg                                         \n",
       "==============================================================================\n",
       "                 coef    std err          z      P>|z|      [0.025      0.975]\n",
       "------------------------------------------------------------------------------\n",
       "const          3.9230      0.494      7.939      0.000       2.955       4.891\n",
       "ar.L1          0.6441      0.039     16.482      0.000       0.567       0.721\n",
       "sigma2         6.1518      0.397     15.488      0.000       5.373       6.930\n",
       "===================================================================================\n",
       "Ljung-Box (L1) (Q):                   8.43   Jarque-Bera (JB):                68.45\n",
       "Prob(Q):                              0.00   Prob(JB):                         0.00\n",
       "Heteroskedasticity (H):               1.47   Skew:                            -0.22\n",
       "Prob(H) (two-sided):                  0.12   Kurtosis:                         5.81\n",
       "===================================================================================\n",
       "\n",
       "Warnings:\n",
       "[1] Covariance matrix calculated using the outer product of gradients (complex-step).\n",
       "\"\"\""
      ]
     },
     "execution_count": 72,
     "metadata": {},
     "output_type": "execute_result"
    }
   ],
   "source": [
    "inflation_results_ar_1.summary()"
   ]
  },
  {
   "cell_type": "markdown",
   "id": "333a4f55",
   "metadata": {},
   "source": [
    "### Modelos AR más complejos"
   ]
  },
  {
   "cell_type": "code",
   "execution_count": 73,
   "id": "be659680",
   "metadata": {},
   "outputs": [
    {
     "name": "stderr",
     "output_type": "stream",
     "text": [
      "C:\\ProgramData\\Anaconda3\\lib\\site-packages\\statsmodels\\tsa\\base\\tsa_model.py:471: ValueWarning: No frequency information was provided, so inferred frequency Q-DEC will be used.\n",
      "  self._init_dates(dates, freq)\n",
      "C:\\ProgramData\\Anaconda3\\lib\\site-packages\\statsmodels\\tsa\\base\\tsa_model.py:471: ValueWarning: No frequency information was provided, so inferred frequency Q-DEC will be used.\n",
      "  self._init_dates(dates, freq)\n",
      "C:\\ProgramData\\Anaconda3\\lib\\site-packages\\statsmodels\\tsa\\base\\tsa_model.py:471: ValueWarning: No frequency information was provided, so inferred frequency Q-DEC will be used.\n",
      "  self._init_dates(dates, freq)\n"
     ]
    }
   ],
   "source": [
    "inflation_model_ar_2 = ARIMA(df_macrodata['infl'], order=(2,0,0))"
   ]
  },
  {
   "cell_type": "code",
   "execution_count": 74,
   "id": "d5dda826",
   "metadata": {},
   "outputs": [],
   "source": [
    "inflation_results_ar_2 = inflation_model_ar_2.fit()"
   ]
  },
  {
   "cell_type": "code",
   "execution_count": 75,
   "id": "abee0e12",
   "metadata": {},
   "outputs": [
    {
     "data": {
      "text/html": [
       "<table class=\"simpletable\">\n",
       "<caption>SARIMAX Results</caption>\n",
       "<tr>\n",
       "  <th>Dep. Variable:</th>         <td>infl</td>       <th>  No. Observations:  </th>    <td>203</td>  \n",
       "</tr>\n",
       "<tr>\n",
       "  <th>Model:</th>            <td>ARIMA(2, 0, 0)</td>  <th>  Log Likelihood     </th> <td>-462.419</td>\n",
       "</tr>\n",
       "<tr>\n",
       "  <th>Date:</th>            <td>Wed, 18 Sep 2024</td> <th>  AIC                </th>  <td>932.839</td>\n",
       "</tr>\n",
       "<tr>\n",
       "  <th>Time:</th>                <td>17:53:52</td>     <th>  BIC                </th>  <td>946.092</td>\n",
       "</tr>\n",
       "<tr>\n",
       "  <th>Sample:</th>             <td>03-31-1959</td>    <th>  HQIC               </th>  <td>938.200</td>\n",
       "</tr>\n",
       "<tr>\n",
       "  <th></th>                   <td>- 09-30-2009</td>   <th>                     </th>     <td> </td>   \n",
       "</tr>\n",
       "<tr>\n",
       "  <th>Covariance Type:</th>        <td>opg</td>       <th>                     </th>     <td> </td>   \n",
       "</tr>\n",
       "</table>\n",
       "<table class=\"simpletable\">\n",
       "<tr>\n",
       "     <td></td>       <th>coef</th>     <th>std err</th>      <th>z</th>      <th>P>|z|</th>  <th>[0.025</th>    <th>0.975]</th>  \n",
       "</tr>\n",
       "<tr>\n",
       "  <th>const</th>  <td>    3.8852</td> <td>    0.702</td> <td>    5.535</td> <td> 0.000</td> <td>    2.509</td> <td>    5.261</td>\n",
       "</tr>\n",
       "<tr>\n",
       "  <th>ar.L1</th>  <td>    0.4433</td> <td>    0.038</td> <td>   11.634</td> <td> 0.000</td> <td>    0.369</td> <td>    0.518</td>\n",
       "</tr>\n",
       "<tr>\n",
       "  <th>ar.L2</th>  <td>    0.3102</td> <td>    0.041</td> <td>    7.516</td> <td> 0.000</td> <td>    0.229</td> <td>    0.391</td>\n",
       "</tr>\n",
       "<tr>\n",
       "  <th>sigma2</th> <td>    5.5531</td> <td>    0.348</td> <td>   15.969</td> <td> 0.000</td> <td>    4.872</td> <td>    6.235</td>\n",
       "</tr>\n",
       "</table>\n",
       "<table class=\"simpletable\">\n",
       "<tr>\n",
       "  <th>Ljung-Box (L1) (Q):</th>     <td>1.75</td> <th>  Jarque-Bera (JB):  </th> <td>129.51</td>\n",
       "</tr>\n",
       "<tr>\n",
       "  <th>Prob(Q):</th>                <td>0.19</td> <th>  Prob(JB):          </th>  <td>0.00</td> \n",
       "</tr>\n",
       "<tr>\n",
       "  <th>Heteroskedasticity (H):</th> <td>1.89</td> <th>  Skew:              </th>  <td>-0.64</td>\n",
       "</tr>\n",
       "<tr>\n",
       "  <th>Prob(H) (two-sided):</th>    <td>0.01</td> <th>  Kurtosis:          </th>  <td>6.70</td> \n",
       "</tr>\n",
       "</table><br/><br/>Warnings:<br/>[1] Covariance matrix calculated using the outer product of gradients (complex-step)."
      ],
      "text/plain": [
       "<class 'statsmodels.iolib.summary.Summary'>\n",
       "\"\"\"\n",
       "                               SARIMAX Results                                \n",
       "==============================================================================\n",
       "Dep. Variable:                   infl   No. Observations:                  203\n",
       "Model:                 ARIMA(2, 0, 0)   Log Likelihood                -462.419\n",
       "Date:                Wed, 18 Sep 2024   AIC                            932.839\n",
       "Time:                        17:53:52   BIC                            946.092\n",
       "Sample:                    03-31-1959   HQIC                           938.200\n",
       "                         - 09-30-2009                                         \n",
       "Covariance Type:                  opg                                         \n",
       "==============================================================================\n",
       "                 coef    std err          z      P>|z|      [0.025      0.975]\n",
       "------------------------------------------------------------------------------\n",
       "const          3.8852      0.702      5.535      0.000       2.509       5.261\n",
       "ar.L1          0.4433      0.038     11.634      0.000       0.369       0.518\n",
       "ar.L2          0.3102      0.041      7.516      0.000       0.229       0.391\n",
       "sigma2         5.5531      0.348     15.969      0.000       4.872       6.235\n",
       "===================================================================================\n",
       "Ljung-Box (L1) (Q):                   1.75   Jarque-Bera (JB):               129.51\n",
       "Prob(Q):                              0.19   Prob(JB):                         0.00\n",
       "Heteroskedasticity (H):               1.89   Skew:                            -0.64\n",
       "Prob(H) (two-sided):                  0.01   Kurtosis:                         6.70\n",
       "===================================================================================\n",
       "\n",
       "Warnings:\n",
       "[1] Covariance matrix calculated using the outer product of gradients (complex-step).\n",
       "\"\"\""
      ]
     },
     "execution_count": 75,
     "metadata": {},
     "output_type": "execute_result"
    }
   ],
   "source": [
    "inflation_results_ar_2.summary()"
   ]
  },
  {
   "cell_type": "code",
   "execution_count": 76,
   "id": "f2192fb5",
   "metadata": {},
   "outputs": [
    {
     "name": "stderr",
     "output_type": "stream",
     "text": [
      "C:\\ProgramData\\Anaconda3\\lib\\site-packages\\statsmodels\\tsa\\base\\tsa_model.py:471: ValueWarning: No frequency information was provided, so inferred frequency Q-DEC will be used.\n",
      "  self._init_dates(dates, freq)\n",
      "C:\\ProgramData\\Anaconda3\\lib\\site-packages\\statsmodels\\tsa\\base\\tsa_model.py:471: ValueWarning: No frequency information was provided, so inferred frequency Q-DEC will be used.\n",
      "  self._init_dates(dates, freq)\n",
      "C:\\ProgramData\\Anaconda3\\lib\\site-packages\\statsmodels\\tsa\\base\\tsa_model.py:471: ValueWarning: No frequency information was provided, so inferred frequency Q-DEC will be used.\n",
      "  self._init_dates(dates, freq)\n"
     ]
    }
   ],
   "source": [
    "inflation_model_ar_3 = ARIMA(df_macrodata['infl'], order=(3,0,0))"
   ]
  },
  {
   "cell_type": "code",
   "execution_count": 77,
   "id": "51788445",
   "metadata": {},
   "outputs": [],
   "source": [
    "inflation_results_ar_3 = inflation_model_ar_3.fit()"
   ]
  },
  {
   "cell_type": "code",
   "execution_count": 78,
   "id": "efbc0a82",
   "metadata": {},
   "outputs": [
    {
     "data": {
      "text/html": [
       "<table class=\"simpletable\">\n",
       "<caption>SARIMAX Results</caption>\n",
       "<tr>\n",
       "  <th>Dep. Variable:</th>         <td>infl</td>       <th>  No. Observations:  </th>    <td>203</td>  \n",
       "</tr>\n",
       "<tr>\n",
       "  <th>Model:</th>            <td>ARIMA(3, 0, 0)</td>  <th>  Log Likelihood     </th> <td>-453.556</td>\n",
       "</tr>\n",
       "<tr>\n",
       "  <th>Date:</th>            <td>Wed, 18 Sep 2024</td> <th>  AIC                </th>  <td>917.112</td>\n",
       "</tr>\n",
       "<tr>\n",
       "  <th>Time:</th>                <td>17:53:52</td>     <th>  BIC                </th>  <td>933.678</td>\n",
       "</tr>\n",
       "<tr>\n",
       "  <th>Sample:</th>             <td>03-31-1959</td>    <th>  HQIC               </th>  <td>923.814</td>\n",
       "</tr>\n",
       "<tr>\n",
       "  <th></th>                   <td>- 09-30-2009</td>   <th>                     </th>     <td> </td>   \n",
       "</tr>\n",
       "<tr>\n",
       "  <th>Covariance Type:</th>        <td>opg</td>       <th>                     </th>     <td> </td>   \n",
       "</tr>\n",
       "</table>\n",
       "<table class=\"simpletable\">\n",
       "<tr>\n",
       "     <td></td>       <th>coef</th>     <th>std err</th>      <th>z</th>      <th>P>|z|</th>  <th>[0.025</th>    <th>0.975]</th>  \n",
       "</tr>\n",
       "<tr>\n",
       "  <th>const</th>  <td>    3.8113</td> <td>    0.945</td> <td>    4.035</td> <td> 0.000</td> <td>    1.960</td> <td>    5.663</td>\n",
       "</tr>\n",
       "<tr>\n",
       "  <th>ar.L1</th>  <td>    0.3522</td> <td>    0.047</td> <td>    7.445</td> <td> 0.000</td> <td>    0.259</td> <td>    0.445</td>\n",
       "</tr>\n",
       "<tr>\n",
       "  <th>ar.L2</th>  <td>    0.1819</td> <td>    0.047</td> <td>    3.833</td> <td> 0.000</td> <td>    0.089</td> <td>    0.275</td>\n",
       "</tr>\n",
       "<tr>\n",
       "  <th>ar.L3</th>  <td>    0.2891</td> <td>    0.064</td> <td>    4.551</td> <td> 0.000</td> <td>    0.165</td> <td>    0.414</td>\n",
       "</tr>\n",
       "<tr>\n",
       "  <th>sigma2</th> <td>    5.0824</td> <td>    0.302</td> <td>   16.808</td> <td> 0.000</td> <td>    4.490</td> <td>    5.675</td>\n",
       "</tr>\n",
       "</table>\n",
       "<table class=\"simpletable\">\n",
       "<tr>\n",
       "  <th>Ljung-Box (L1) (Q):</th>     <td>0.00</td> <th>  Jarque-Bera (JB):  </th> <td>179.43</td>\n",
       "</tr>\n",
       "<tr>\n",
       "  <th>Prob(Q):</th>                <td>0.95</td> <th>  Prob(JB):          </th>  <td>0.00</td> \n",
       "</tr>\n",
       "<tr>\n",
       "  <th>Heteroskedasticity (H):</th> <td>1.80</td> <th>  Skew:              </th>  <td>-0.72</td>\n",
       "</tr>\n",
       "<tr>\n",
       "  <th>Prob(H) (two-sided):</th>    <td>0.02</td> <th>  Kurtosis:          </th>  <td>7.37</td> \n",
       "</tr>\n",
       "</table><br/><br/>Warnings:<br/>[1] Covariance matrix calculated using the outer product of gradients (complex-step)."
      ],
      "text/plain": [
       "<class 'statsmodels.iolib.summary.Summary'>\n",
       "\"\"\"\n",
       "                               SARIMAX Results                                \n",
       "==============================================================================\n",
       "Dep. Variable:                   infl   No. Observations:                  203\n",
       "Model:                 ARIMA(3, 0, 0)   Log Likelihood                -453.556\n",
       "Date:                Wed, 18 Sep 2024   AIC                            917.112\n",
       "Time:                        17:53:52   BIC                            933.678\n",
       "Sample:                    03-31-1959   HQIC                           923.814\n",
       "                         - 09-30-2009                                         \n",
       "Covariance Type:                  opg                                         \n",
       "==============================================================================\n",
       "                 coef    std err          z      P>|z|      [0.025      0.975]\n",
       "------------------------------------------------------------------------------\n",
       "const          3.8113      0.945      4.035      0.000       1.960       5.663\n",
       "ar.L1          0.3522      0.047      7.445      0.000       0.259       0.445\n",
       "ar.L2          0.1819      0.047      3.833      0.000       0.089       0.275\n",
       "ar.L3          0.2891      0.064      4.551      0.000       0.165       0.414\n",
       "sigma2         5.0824      0.302     16.808      0.000       4.490       5.675\n",
       "===================================================================================\n",
       "Ljung-Box (L1) (Q):                   0.00   Jarque-Bera (JB):               179.43\n",
       "Prob(Q):                              0.95   Prob(JB):                         0.00\n",
       "Heteroskedasticity (H):               1.80   Skew:                            -0.72\n",
       "Prob(H) (two-sided):                  0.02   Kurtosis:                         7.37\n",
       "===================================================================================\n",
       "\n",
       "Warnings:\n",
       "[1] Covariance matrix calculated using the outer product of gradients (complex-step).\n",
       "\"\"\""
      ]
     },
     "execution_count": 78,
     "metadata": {},
     "output_type": "execute_result"
    }
   ],
   "source": [
    "inflation_results_ar_3.summary()"
   ]
  },
  {
   "cell_type": "markdown",
   "id": "7a1a3e2c",
   "metadata": {},
   "source": [
    "### Pruebas LLR"
   ]
  },
  {
   "cell_type": "code",
   "execution_count": 79,
   "id": "5e4a2860",
   "metadata": {},
   "outputs": [
    {
     "data": {
      "text/plain": [
       "4.786173147380305e-09"
      ]
     },
     "execution_count": 79,
     "metadata": {},
     "output_type": "execute_result"
    }
   ],
   "source": [
    "LLR_test(inflation_model_ar_1, inflation_model_ar_3,DF=2)"
   ]
  },
  {
   "cell_type": "markdown",
   "id": "29098e05",
   "metadata": {},
   "source": [
    "# Modelos MA"
   ]
  },
  {
   "cell_type": "markdown",
   "id": "53d15d85",
   "metadata": {},
   "source": [
    "## Yahoo finance"
   ]
  },
  {
   "cell_type": "markdown",
   "id": "c1f815fb",
   "metadata": {},
   "source": [
    "### ACF"
   ]
  },
  {
   "cell_type": "code",
   "execution_count": 80,
   "id": "d9e5a932",
   "metadata": {},
   "outputs": [
    {
     "data": {
      "image/png": "[encoded data removed]",
      "text/plain": [
       "<Figure size 640x480 with 1 Axes>"
      ]
     },
     "metadata": {},
     "output_type": "display_data"
    }
   ],
   "source": [
    "sgt.plot_acf(df_yfinance['spx'], zero = False, lags = 40)\n",
    "plt.title(\"ACF for S&P500\", size = 20)\n",
    "plt.show()"
   ]
  },
  {
   "cell_type": "markdown",
   "id": "bd4bc72b",
   "metadata": {},
   "source": [
    "### Modelo MA(1)"
   ]
  },
  {
   "cell_type": "code",
   "execution_count": 81,
   "id": "e6d3e81b",
   "metadata": {},
   "outputs": [],
   "source": [
    "yfinance_model_ma_1 = ARIMA(df_yfinance['spx'], order=(0,0,1))"
   ]
  },
  {
   "cell_type": "code",
   "execution_count": 82,
   "id": "799a1dfd",
   "metadata": {},
   "outputs": [],
   "source": [
    "yfinance_results_ma_1 = yfinance_model_ma_1.fit()"
   ]
  },
  {
   "cell_type": "code",
   "execution_count": 83,
   "id": "7502d437",
   "metadata": {},
   "outputs": [
    {
     "data": {
      "text/html": [
       "<table class=\"simpletable\">\n",
       "<caption>SARIMAX Results</caption>\n",
       "<tr>\n",
       "  <th>Dep. Variable:</th>          <td>spx</td>       <th>  No. Observations:  </th>    <td>7992</td>   \n",
       "</tr>\n",
       "<tr>\n",
       "  <th>Model:</th>            <td>ARIMA(0, 0, 1)</td>  <th>  Log Likelihood     </th> <td>-62328.834</td>\n",
       "</tr>\n",
       "<tr>\n",
       "  <th>Date:</th>            <td>Wed, 18 Sep 2024</td> <th>  AIC                </th> <td>124663.668</td>\n",
       "</tr>\n",
       "<tr>\n",
       "  <th>Time:</th>                <td>17:54:00</td>     <th>  BIC                </th> <td>124684.627</td>\n",
       "</tr>\n",
       "<tr>\n",
       "  <th>Sample:</th>             <td>01-07-1994</td>    <th>  HQIC               </th> <td>124670.843</td>\n",
       "</tr>\n",
       "<tr>\n",
       "  <th></th>                   <td>- 08-26-2024</td>   <th>                     </th>      <td> </td>    \n",
       "</tr>\n",
       "<tr>\n",
       "  <th>Covariance Type:</th>        <td>opg</td>       <th>                     </th>      <td> </td>    \n",
       "</tr>\n",
       "</table>\n",
       "<table class=\"simpletable\">\n",
       "<tr>\n",
       "     <td></td>       <th>coef</th>     <th>std err</th>      <th>z</th>      <th>P>|z|</th>  <th>[0.025</th>    <th>0.975]</th>  \n",
       "</tr>\n",
       "<tr>\n",
       "  <th>const</th>  <td> 1818.9199</td> <td>   20.734</td> <td>   87.725</td> <td> 0.000</td> <td> 1778.282</td> <td> 1859.558</td>\n",
       "</tr>\n",
       "<tr>\n",
       "  <th>ma.L1</th>  <td>    0.9886</td> <td>    0.001</td> <td>  848.098</td> <td> 0.000</td> <td>    0.986</td> <td>    0.991</td>\n",
       "</tr>\n",
       "<tr>\n",
       "  <th>sigma2</th> <td> 3.478e+05</td> <td> 7271.591</td> <td>   47.834</td> <td> 0.000</td> <td> 3.34e+05</td> <td> 3.62e+05</td>\n",
       "</tr>\n",
       "</table>\n",
       "<table class=\"simpletable\">\n",
       "<tr>\n",
       "  <th>Ljung-Box (L1) (Q):</th>     <td>7626.21</td> <th>  Jarque-Bera (JB):  </th> <td>2548.71</td>\n",
       "</tr>\n",
       "<tr>\n",
       "  <th>Prob(Q):</th>                 <td>0.00</td>   <th>  Prob(JB):          </th>  <td>0.00</td>  \n",
       "</tr>\n",
       "<tr>\n",
       "  <th>Heteroskedasticity (H):</th>  <td>3.50</td>   <th>  Skew:              </th>  <td>1.31</td>  \n",
       "</tr>\n",
       "<tr>\n",
       "  <th>Prob(H) (two-sided):</th>     <td>0.00</td>   <th>  Kurtosis:          </th>  <td>3.87</td>  \n",
       "</tr>\n",
       "</table><br/><br/>Warnings:<br/>[1] Covariance matrix calculated using the outer product of gradients (complex-step)."
      ],
      "text/plain": [
       "<class 'statsmodels.iolib.summary.Summary'>\n",
       "\"\"\"\n",
       "                               SARIMAX Results                                \n",
       "==============================================================================\n",
       "Dep. Variable:                    spx   No. Observations:                 7992\n",
       "Model:                 ARIMA(0, 0, 1)   Log Likelihood              -62328.834\n",
       "Date:                Wed, 18 Sep 2024   AIC                         124663.668\n",
       "Time:                        17:54:00   BIC                         124684.627\n",
       "Sample:                    01-07-1994   HQIC                        124670.843\n",
       "                         - 08-26-2024                                         \n",
       "Covariance Type:                  opg                                         \n",
       "==============================================================================\n",
       "                 coef    std err          z      P>|z|      [0.025      0.975]\n",
       "------------------------------------------------------------------------------\n",
       "const       1818.9199     20.734     87.725      0.000    1778.282    1859.558\n",
       "ma.L1          0.9886      0.001    848.098      0.000       0.986       0.991\n",
       "sigma2      3.478e+05   7271.591     47.834      0.000    3.34e+05    3.62e+05\n",
       "===================================================================================\n",
       "Ljung-Box (L1) (Q):                7626.21   Jarque-Bera (JB):              2548.71\n",
       "Prob(Q):                              0.00   Prob(JB):                         0.00\n",
       "Heteroskedasticity (H):               3.50   Skew:                             1.31\n",
       "Prob(H) (two-sided):                  0.00   Kurtosis:                         3.87\n",
       "===================================================================================\n",
       "\n",
       "Warnings:\n",
       "[1] Covariance matrix calculated using the outer product of gradients (complex-step).\n",
       "\"\"\""
      ]
     },
     "execution_count": 83,
     "metadata": {},
     "output_type": "execute_result"
    }
   ],
   "source": [
    "yfinance_results_ma_1.summary()"
   ]
  },
  {
   "cell_type": "markdown",
   "id": "1b182ac9",
   "metadata": {},
   "source": [
    "### Modelos MA más complejos"
   ]
  },
  {
   "cell_type": "code",
   "execution_count": 84,
   "id": "c098cba6",
   "metadata": {},
   "outputs": [],
   "source": [
    "yfinance_model_ma_10 = ARIMA(df_yfinance['spx'], order=(0,0,10))"
   ]
  },
  {
   "cell_type": "code",
   "execution_count": 85,
   "id": "9df4d36c",
   "metadata": {},
   "outputs": [],
   "source": [
    "yfinance_results_ma_10 = yfinance_model_ma_10.fit()"
   ]
  },
  {
   "cell_type": "code",
   "execution_count": 86,
   "id": "f30f1874",
   "metadata": {},
   "outputs": [
    {
     "data": {
      "text/html": [
       "<table class=\"simpletable\">\n",
       "<caption>SARIMAX Results</caption>\n",
       "<tr>\n",
       "  <th>Dep. Variable:</th>          <td>spx</td>       <th>  No. Observations:  </th>    <td>7992</td>   \n",
       "</tr>\n",
       "<tr>\n",
       "  <th>Model:</th>            <td>ARIMA(0, 0, 10)</td> <th>  Log Likelihood     </th> <td>-63326.754</td>\n",
       "</tr>\n",
       "<tr>\n",
       "  <th>Date:</th>            <td>Wed, 18 Sep 2024</td> <th>  AIC                </th> <td>126677.508</td>\n",
       "</tr>\n",
       "<tr>\n",
       "  <th>Time:</th>                <td>17:54:28</td>     <th>  BIC                </th> <td>126761.343</td>\n",
       "</tr>\n",
       "<tr>\n",
       "  <th>Sample:</th>             <td>01-07-1994</td>    <th>  HQIC               </th> <td>126706.205</td>\n",
       "</tr>\n",
       "<tr>\n",
       "  <th></th>                   <td>- 08-26-2024</td>   <th>                     </th>      <td> </td>    \n",
       "</tr>\n",
       "<tr>\n",
       "  <th>Covariance Type:</th>        <td>opg</td>       <th>                     </th>      <td> </td>    \n",
       "</tr>\n",
       "</table>\n",
       "<table class=\"simpletable\">\n",
       "<tr>\n",
       "     <td></td>       <th>coef</th>     <th>std err</th>      <th>z</th>      <th>P>|z|</th>  <th>[0.025</th>    <th>0.975]</th>  \n",
       "</tr>\n",
       "<tr>\n",
       "  <th>const</th>  <td> 1818.8033</td> <td>  873.089</td> <td>    2.083</td> <td> 0.037</td> <td>  107.581</td> <td> 3530.025</td>\n",
       "</tr>\n",
       "<tr>\n",
       "  <th>ma.L1</th>  <td>    1.0615</td> <td>    0.464</td> <td>    2.287</td> <td> 0.022</td> <td>    0.152</td> <td>    1.971</td>\n",
       "</tr>\n",
       "<tr>\n",
       "  <th>ma.L2</th>  <td>    1.4387</td> <td>    0.318</td> <td>    4.522</td> <td> 0.000</td> <td>    0.815</td> <td>    2.062</td>\n",
       "</tr>\n",
       "<tr>\n",
       "  <th>ma.L3</th>  <td>    1.7929</td> <td>    0.455</td> <td>    3.939</td> <td> 0.000</td> <td>    0.901</td> <td>    2.685</td>\n",
       "</tr>\n",
       "<tr>\n",
       "  <th>ma.L4</th>  <td>    1.6620</td> <td>    0.650</td> <td>    2.556</td> <td> 0.011</td> <td>    0.388</td> <td>    2.936</td>\n",
       "</tr>\n",
       "<tr>\n",
       "  <th>ma.L5</th>  <td>    1.4566</td> <td>    0.661</td> <td>    2.203</td> <td> 0.028</td> <td>    0.161</td> <td>    2.752</td>\n",
       "</tr>\n",
       "<tr>\n",
       "  <th>ma.L6</th>  <td>    0.5989</td> <td>    0.647</td> <td>    0.926</td> <td> 0.355</td> <td>   -0.669</td> <td>    1.867</td>\n",
       "</tr>\n",
       "<tr>\n",
       "  <th>ma.L7</th>  <td>    0.4293</td> <td>    0.708</td> <td>    0.606</td> <td> 0.544</td> <td>   -0.959</td> <td>    1.817</td>\n",
       "</tr>\n",
       "<tr>\n",
       "  <th>ma.L8</th>  <td>    0.0656</td> <td>    0.479</td> <td>    0.137</td> <td> 0.891</td> <td>   -0.872</td> <td>    1.004</td>\n",
       "</tr>\n",
       "<tr>\n",
       "  <th>ma.L9</th>  <td>   -0.3607</td> <td>    0.346</td> <td>   -1.043</td> <td> 0.297</td> <td>   -1.039</td> <td>    0.317</td>\n",
       "</tr>\n",
       "<tr>\n",
       "  <th>ma.L10</th> <td>   -0.3854</td> <td>    0.480</td> <td>   -0.802</td> <td> 0.422</td> <td>   -1.327</td> <td>    0.556</td>\n",
       "</tr>\n",
       "<tr>\n",
       "  <th>sigma2</th> <td> 1.169e+06</td> <td> 3.11e+04</td> <td>   37.570</td> <td> 0.000</td> <td> 1.11e+06</td> <td> 1.23e+06</td>\n",
       "</tr>\n",
       "</table>\n",
       "<table class=\"simpletable\">\n",
       "<tr>\n",
       "  <th>Ljung-Box (L1) (Q):</th>     <td>1452.37</td> <th>  Jarque-Bera (JB):  </th> <td>16384.16</td>\n",
       "</tr>\n",
       "<tr>\n",
       "  <th>Prob(Q):</th>                 <td>0.00</td>   <th>  Prob(JB):          </th>   <td>0.00</td>  \n",
       "</tr>\n",
       "<tr>\n",
       "  <th>Heteroskedasticity (H):</th>  <td>5.39</td>   <th>  Skew:              </th>   <td>1.97</td>  \n",
       "</tr>\n",
       "<tr>\n",
       "  <th>Prob(H) (two-sided):</th>     <td>0.00</td>   <th>  Kurtosis:          </th>   <td>8.80</td>  \n",
       "</tr>\n",
       "</table><br/><br/>Warnings:<br/>[1] Covariance matrix calculated using the outer product of gradients (complex-step).<br/>[2] Covariance matrix is singular or near-singular, with condition number 8.26e+14. Standard errors may be unstable."
      ],
      "text/plain": [
       "<class 'statsmodels.iolib.summary.Summary'>\n",
       "\"\"\"\n",
       "                               SARIMAX Results                                \n",
       "==============================================================================\n",
       "Dep. Variable:                    spx   No. Observations:                 7992\n",
       "Model:                ARIMA(0, 0, 10)   Log Likelihood              -63326.754\n",
       "Date:                Wed, 18 Sep 2024   AIC                         126677.508\n",
       "Time:                        17:54:28   BIC                         126761.343\n",
       "Sample:                    01-07-1994   HQIC                        126706.205\n",
       "                         - 08-26-2024                                         \n",
       "Covariance Type:                  opg                                         \n",
       "==============================================================================\n",
       "                 coef    std err          z      P>|z|      [0.025      0.975]\n",
       "------------------------------------------------------------------------------\n",
       "const       1818.8033    873.089      2.083      0.037     107.581    3530.025\n",
       "ma.L1          1.0615      0.464      2.287      0.022       0.152       1.971\n",
       "ma.L2          1.4387      0.318      4.522      0.000       0.815       2.062\n",
       "ma.L3          1.7929      0.455      3.939      0.000       0.901       2.685\n",
       "ma.L4          1.6620      0.650      2.556      0.011       0.388       2.936\n",
       "ma.L5          1.4566      0.661      2.203      0.028       0.161       2.752\n",
       "ma.L6          0.5989      0.647      0.926      0.355      -0.669       1.867\n",
       "ma.L7          0.4293      0.708      0.606      0.544      -0.959       1.817\n",
       "ma.L8          0.0656      0.479      0.137      0.891      -0.872       1.004\n",
       "ma.L9         -0.3607      0.346     -1.043      0.297      -1.039       0.317\n",
       "ma.L10        -0.3854      0.480     -0.802      0.422      -1.327       0.556\n",
       "sigma2      1.169e+06   3.11e+04     37.570      0.000    1.11e+06    1.23e+06\n",
       "===================================================================================\n",
       "Ljung-Box (L1) (Q):                1452.37   Jarque-Bera (JB):             16384.16\n",
       "Prob(Q):                              0.00   Prob(JB):                         0.00\n",
       "Heteroskedasticity (H):               5.39   Skew:                             1.97\n",
       "Prob(H) (two-sided):                  0.00   Kurtosis:                         8.80\n",
       "===================================================================================\n",
       "\n",
       "Warnings:\n",
       "[1] Covariance matrix calculated using the outer product of gradients (complex-step).\n",
       "[2] Covariance matrix is singular or near-singular, with condition number 8.26e+14. Standard errors may be unstable.\n",
       "\"\"\""
      ]
     },
     "execution_count": 86,
     "metadata": {},
     "output_type": "execute_result"
    }
   ],
   "source": [
    "yfinance_results_ma_10.summary()"
   ]
  },
  {
   "cell_type": "markdown",
   "id": "7a3cd44d",
   "metadata": {},
   "source": [
    "### Pruebas LLR"
   ]
  },
  {
   "cell_type": "code",
   "execution_count": 87,
   "id": "cf425d62",
   "metadata": {},
   "outputs": [
    {
     "data": {
      "text/plain": [
       "1.0"
      ]
     },
     "execution_count": 87,
     "metadata": {},
     "output_type": "execute_result"
    }
   ],
   "source": [
    "LLR_test(yfinance_model_ma_1, yfinance_model_ma_10,DF=9)"
   ]
  },
  {
   "cell_type": "markdown",
   "id": "93ee2a76",
   "metadata": {},
   "source": [
    "## Vuelos"
   ]
  },
  {
   "cell_type": "markdown",
   "id": "98d85570",
   "metadata": {},
   "source": [
    "### ACF"
   ]
  },
  {
   "cell_type": "code",
   "execution_count": 88,
   "id": "91a8a13c",
   "metadata": {},
   "outputs": [
    {
     "data": {
      "image/png": "[encoded data removed]",
      "text/plain": [
       "<Figure size 640x480 with 1 Axes>"
      ]
     },
     "metadata": {},
     "output_type": "display_data"
    }
   ],
   "source": [
    "sgt.plot_acf(df_airline['Passengers'], zero = False, lags = 40)\n",
    "plt.title(\"ACF for Passengers\", size = 20)\n",
    "plt.show()"
   ]
  },
  {
   "cell_type": "markdown",
   "id": "b6b51bb8",
   "metadata": {},
   "source": [
    "### Modelo MA(1)"
   ]
  },
  {
   "cell_type": "code",
   "execution_count": 89,
   "id": "fcac5adc",
   "metadata": {},
   "outputs": [
    {
     "name": "stderr",
     "output_type": "stream",
     "text": [
      "C:\\ProgramData\\Anaconda3\\lib\\site-packages\\statsmodels\\tsa\\base\\tsa_model.py:471: ValueWarning: No frequency information was provided, so inferred frequency MS will be used.\n",
      "  self._init_dates(dates, freq)\n",
      "C:\\ProgramData\\Anaconda3\\lib\\site-packages\\statsmodels\\tsa\\base\\tsa_model.py:471: ValueWarning: No frequency information was provided, so inferred frequency MS will be used.\n",
      "  self._init_dates(dates, freq)\n",
      "C:\\ProgramData\\Anaconda3\\lib\\site-packages\\statsmodels\\tsa\\base\\tsa_model.py:471: ValueWarning: No frequency information was provided, so inferred frequency MS will be used.\n",
      "  self._init_dates(dates, freq)\n"
     ]
    }
   ],
   "source": [
    "airline_model_ma_1 = ARIMA(df_airline['Passengers'], order=(0,0,1))"
   ]
  },
  {
   "cell_type": "code",
   "execution_count": 90,
   "id": "14588883",
   "metadata": {},
   "outputs": [
    {
     "name": "stderr",
     "output_type": "stream",
     "text": [
      "C:\\ProgramData\\Anaconda3\\lib\\site-packages\\statsmodels\\tsa\\statespace\\sarimax.py:978: UserWarning: Non-invertible starting MA parameters found. Using zeros as starting parameters.\n",
      "  warn('Non-invertible starting MA parameters found.'\n"
     ]
    }
   ],
   "source": [
    "airline_results_ma_1 = airline_model_ma_1.fit()"
   ]
  },
  {
   "cell_type": "code",
   "execution_count": 91,
   "id": "34508615",
   "metadata": {},
   "outputs": [
    {
     "data": {
      "text/html": [
       "<table class=\"simpletable\">\n",
       "<caption>SARIMAX Results</caption>\n",
       "<tr>\n",
       "  <th>Dep. Variable:</th>      <td>Passengers</td>    <th>  No. Observations:  </th>    <td>144</td>  \n",
       "</tr>\n",
       "<tr>\n",
       "  <th>Model:</th>            <td>ARIMA(0, 0, 1)</td>  <th>  Log Likelihood     </th> <td>-806.431</td>\n",
       "</tr>\n",
       "<tr>\n",
       "  <th>Date:</th>            <td>Wed, 18 Sep 2024</td> <th>  AIC                </th> <td>1618.863</td>\n",
       "</tr>\n",
       "<tr>\n",
       "  <th>Time:</th>                <td>17:55:04</td>     <th>  BIC                </th> <td>1627.772</td>\n",
       "</tr>\n",
       "<tr>\n",
       "  <th>Sample:</th>             <td>01-01-1949</td>    <th>  HQIC               </th> <td>1622.483</td>\n",
       "</tr>\n",
       "<tr>\n",
       "  <th></th>                   <td>- 12-01-1960</td>   <th>                     </th>     <td> </td>   \n",
       "</tr>\n",
       "<tr>\n",
       "  <th>Covariance Type:</th>        <td>opg</td>       <th>                     </th>     <td> </td>   \n",
       "</tr>\n",
       "</table>\n",
       "<table class=\"simpletable\">\n",
       "<tr>\n",
       "     <td></td>       <th>coef</th>     <th>std err</th>      <th>z</th>      <th>P>|z|</th>  <th>[0.025</th>    <th>0.975]</th>  \n",
       "</tr>\n",
       "<tr>\n",
       "  <th>const</th>  <td>  280.6497</td> <td>   11.649</td> <td>   24.092</td> <td> 0.000</td> <td>  257.818</td> <td>  303.481</td>\n",
       "</tr>\n",
       "<tr>\n",
       "  <th>ma.L1</th>  <td>    0.9642</td> <td>    0.030</td> <td>   32.218</td> <td> 0.000</td> <td>    0.906</td> <td>    1.023</td>\n",
       "</tr>\n",
       "<tr>\n",
       "  <th>sigma2</th> <td> 4205.2319</td> <td>  586.726</td> <td>    7.167</td> <td> 0.000</td> <td> 3055.270</td> <td> 5355.194</td>\n",
       "</tr>\n",
       "</table>\n",
       "<table class=\"simpletable\">\n",
       "<tr>\n",
       "  <th>Ljung-Box (L1) (Q):</th>     <td>88.26</td> <th>  Jarque-Bera (JB):  </th> <td>9.03</td>\n",
       "</tr>\n",
       "<tr>\n",
       "  <th>Prob(Q):</th>                <td>0.00</td>  <th>  Prob(JB):          </th> <td>0.01</td>\n",
       "</tr>\n",
       "<tr>\n",
       "  <th>Heteroskedasticity (H):</th> <td>1.63</td>  <th>  Skew:              </th> <td>0.60</td>\n",
       "</tr>\n",
       "<tr>\n",
       "  <th>Prob(H) (two-sided):</th>    <td>0.10</td>  <th>  Kurtosis:          </th> <td>2.77</td>\n",
       "</tr>\n",
       "</table><br/><br/>Warnings:<br/>[1] Covariance matrix calculated using the outer product of gradients (complex-step)."
      ],
      "text/plain": [
       "<class 'statsmodels.iolib.summary.Summary'>\n",
       "\"\"\"\n",
       "                               SARIMAX Results                                \n",
       "==============================================================================\n",
       "Dep. Variable:             Passengers   No. Observations:                  144\n",
       "Model:                 ARIMA(0, 0, 1)   Log Likelihood                -806.431\n",
       "Date:                Wed, 18 Sep 2024   AIC                           1618.863\n",
       "Time:                        17:55:04   BIC                           1627.772\n",
       "Sample:                    01-01-1949   HQIC                          1622.483\n",
       "                         - 12-01-1960                                         \n",
       "Covariance Type:                  opg                                         \n",
       "==============================================================================\n",
       "                 coef    std err          z      P>|z|      [0.025      0.975]\n",
       "------------------------------------------------------------------------------\n",
       "const        280.6497     11.649     24.092      0.000     257.818     303.481\n",
       "ma.L1          0.9642      0.030     32.218      0.000       0.906       1.023\n",
       "sigma2      4205.2319    586.726      7.167      0.000    3055.270    5355.194\n",
       "===================================================================================\n",
       "Ljung-Box (L1) (Q):                  88.26   Jarque-Bera (JB):                 9.03\n",
       "Prob(Q):                              0.00   Prob(JB):                         0.01\n",
       "Heteroskedasticity (H):               1.63   Skew:                             0.60\n",
       "Prob(H) (two-sided):                  0.10   Kurtosis:                         2.77\n",
       "===================================================================================\n",
       "\n",
       "Warnings:\n",
       "[1] Covariance matrix calculated using the outer product of gradients (complex-step).\n",
       "\"\"\""
      ]
     },
     "execution_count": 91,
     "metadata": {},
     "output_type": "execute_result"
    }
   ],
   "source": [
    "airline_results_ma_1.summary()"
   ]
  },
  {
   "cell_type": "markdown",
   "id": "b65057ef",
   "metadata": {},
   "source": [
    "### Modelos MA de mayor complejidad"
   ]
  },
  {
   "cell_type": "code",
   "execution_count": 92,
   "id": "f9e6a172",
   "metadata": {},
   "outputs": [
    {
     "name": "stderr",
     "output_type": "stream",
     "text": [
      "C:\\ProgramData\\Anaconda3\\lib\\site-packages\\statsmodels\\tsa\\base\\tsa_model.py:471: ValueWarning: No frequency information was provided, so inferred frequency MS will be used.\n",
      "  self._init_dates(dates, freq)\n",
      "C:\\ProgramData\\Anaconda3\\lib\\site-packages\\statsmodels\\tsa\\base\\tsa_model.py:471: ValueWarning: No frequency information was provided, so inferred frequency MS will be used.\n",
      "  self._init_dates(dates, freq)\n",
      "C:\\ProgramData\\Anaconda3\\lib\\site-packages\\statsmodels\\tsa\\base\\tsa_model.py:471: ValueWarning: No frequency information was provided, so inferred frequency MS will be used.\n",
      "  self._init_dates(dates, freq)\n"
     ]
    }
   ],
   "source": [
    "airline_model_ma_14 = ARIMA(df_airline['Passengers'], order=(0,0,14))"
   ]
  },
  {
   "cell_type": "code",
   "execution_count": 93,
   "id": "8dd36249",
   "metadata": {},
   "outputs": [
    {
     "name": "stderr",
     "output_type": "stream",
     "text": [
      "C:\\ProgramData\\Anaconda3\\lib\\site-packages\\statsmodels\\tsa\\statespace\\sarimax.py:978: UserWarning: Non-invertible starting MA parameters found. Using zeros as starting parameters.\n",
      "  warn('Non-invertible starting MA parameters found.'\n",
      "C:\\ProgramData\\Anaconda3\\lib\\site-packages\\statsmodels\\base\\model.py:604: ConvergenceWarning: Maximum Likelihood optimization failed to converge. Check mle_retvals\n",
      "  warnings.warn(\"Maximum Likelihood optimization failed to \"\n"
     ]
    }
   ],
   "source": [
    "airline_results_ma_14 = airline_model_ma_14.fit()"
   ]
  },
  {
   "cell_type": "code",
   "execution_count": 94,
   "id": "97c1ec61",
   "metadata": {},
   "outputs": [
    {
     "data": {
      "text/html": [
       "<table class=\"simpletable\">\n",
       "<caption>SARIMAX Results</caption>\n",
       "<tr>\n",
       "  <th>Dep. Variable:</th>      <td>Passengers</td>    <th>  No. Observations:  </th>    <td>144</td>  \n",
       "</tr>\n",
       "<tr>\n",
       "  <th>Model:</th>            <td>ARIMA(0, 0, 14)</td> <th>  Log Likelihood     </th> <td>-690.493</td>\n",
       "</tr>\n",
       "<tr>\n",
       "  <th>Date:</th>            <td>Wed, 18 Sep 2024</td> <th>  AIC                </th> <td>1412.986</td>\n",
       "</tr>\n",
       "<tr>\n",
       "  <th>Time:</th>                <td>17:55:08</td>     <th>  BIC                </th> <td>1460.503</td>\n",
       "</tr>\n",
       "<tr>\n",
       "  <th>Sample:</th>             <td>01-01-1949</td>    <th>  HQIC               </th> <td>1432.294</td>\n",
       "</tr>\n",
       "<tr>\n",
       "  <th></th>                   <td>- 12-01-1960</td>   <th>                     </th>     <td> </td>   \n",
       "</tr>\n",
       "<tr>\n",
       "  <th>Covariance Type:</th>        <td>opg</td>       <th>                     </th>     <td> </td>   \n",
       "</tr>\n",
       "</table>\n",
       "<table class=\"simpletable\">\n",
       "<tr>\n",
       "     <td></td>       <th>coef</th>     <th>std err</th>      <th>z</th>      <th>P>|z|</th>  <th>[0.025</th>    <th>0.975]</th>  \n",
       "</tr>\n",
       "<tr>\n",
       "  <th>const</th>  <td>  280.3025</td> <td>   30.078</td> <td>    9.319</td> <td> 0.000</td> <td>  221.350</td> <td>  339.255</td>\n",
       "</tr>\n",
       "<tr>\n",
       "  <th>ma.L1</th>  <td>    1.3046</td> <td> 1061.082</td> <td>    0.001</td> <td> 0.999</td> <td>-2078.378</td> <td> 2080.987</td>\n",
       "</tr>\n",
       "<tr>\n",
       "  <th>ma.L2</th>  <td>    1.0493</td> <td> 1238.300</td> <td>    0.001</td> <td> 0.999</td> <td>-2425.975</td> <td> 2428.073</td>\n",
       "</tr>\n",
       "<tr>\n",
       "  <th>ma.L3</th>  <td>    0.8424</td> <td> 1710.995</td> <td>    0.000</td> <td> 1.000</td> <td>-3352.646</td> <td> 3354.331</td>\n",
       "</tr>\n",
       "<tr>\n",
       "  <th>ma.L4</th>  <td>    0.7420</td> <td> 1263.275</td> <td>    0.001</td> <td> 1.000</td> <td>-2475.231</td> <td> 2476.715</td>\n",
       "</tr>\n",
       "<tr>\n",
       "  <th>ma.L5</th>  <td>    0.7093</td> <td> 1219.732</td> <td>    0.001</td> <td> 1.000</td> <td>-2389.921</td> <td> 2391.340</td>\n",
       "</tr>\n",
       "<tr>\n",
       "  <th>ma.L6</th>  <td>    0.5679</td> <td>  394.665</td> <td>    0.001</td> <td> 0.999</td> <td> -772.961</td> <td>  774.097</td>\n",
       "</tr>\n",
       "<tr>\n",
       "  <th>ma.L7</th>  <td>    0.9908</td> <td>   20.649</td> <td>    0.048</td> <td> 0.962</td> <td>  -39.480</td> <td>   41.461</td>\n",
       "</tr>\n",
       "<tr>\n",
       "  <th>ma.L8</th>  <td>    0.5347</td> <td>  448.751</td> <td>    0.001</td> <td> 0.999</td> <td> -879.000</td> <td>  880.070</td>\n",
       "</tr>\n",
       "<tr>\n",
       "  <th>ma.L9</th>  <td>    0.7471</td> <td> 1283.184</td> <td>    0.001</td> <td> 1.000</td> <td>-2514.246</td> <td> 2515.741</td>\n",
       "</tr>\n",
       "<tr>\n",
       "  <th>ma.L10</th> <td>    0.7846</td> <td> 1247.827</td> <td>    0.001</td> <td> 0.999</td> <td>-2444.912</td> <td> 2446.481</td>\n",
       "</tr>\n",
       "<tr>\n",
       "  <th>ma.L11</th> <td>    0.8343</td> <td> 1693.286</td> <td>    0.000</td> <td> 1.000</td> <td>-3317.945</td> <td> 3319.614</td>\n",
       "</tr>\n",
       "<tr>\n",
       "  <th>ma.L12</th> <td>    1.0736</td> <td> 1200.046</td> <td>    0.001</td> <td> 0.999</td> <td>-2350.973</td> <td> 2353.120</td>\n",
       "</tr>\n",
       "<tr>\n",
       "  <th>ma.L13</th> <td>    1.2599</td> <td>  993.699</td> <td>    0.001</td> <td> 0.999</td> <td>-1946.354</td> <td> 1948.874</td>\n",
       "</tr>\n",
       "<tr>\n",
       "  <th>ma.L14</th> <td>    0.9366</td> <td>    0.190</td> <td>    4.922</td> <td> 0.000</td> <td>    0.564</td> <td>    1.310</td>\n",
       "</tr>\n",
       "<tr>\n",
       "  <th>sigma2</th> <td>  654.5081</td> <td>   47.031</td> <td>   13.917</td> <td> 0.000</td> <td>  562.329</td> <td>  746.687</td>\n",
       "</tr>\n",
       "</table>\n",
       "<table class=\"simpletable\">\n",
       "<tr>\n",
       "  <th>Ljung-Box (L1) (Q):</th>     <td>5.88</td> <th>  Jarque-Bera (JB):  </th> <td>97.48</td>\n",
       "</tr>\n",
       "<tr>\n",
       "  <th>Prob(Q):</th>                <td>0.02</td> <th>  Prob(JB):          </th> <td>0.00</td> \n",
       "</tr>\n",
       "<tr>\n",
       "  <th>Heteroskedasticity (H):</th> <td>6.22</td> <th>  Skew:              </th> <td>1.23</td> \n",
       "</tr>\n",
       "<tr>\n",
       "  <th>Prob(H) (two-sided):</th>    <td>0.00</td> <th>  Kurtosis:          </th> <td>6.19</td> \n",
       "</tr>\n",
       "</table><br/><br/>Warnings:<br/>[1] Covariance matrix calculated using the outer product of gradients (complex-step).<br/>[2] Covariance matrix is singular or near-singular, with condition number 2.28e+20. Standard errors may be unstable."
      ],
      "text/plain": [
       "<class 'statsmodels.iolib.summary.Summary'>\n",
       "\"\"\"\n",
       "                               SARIMAX Results                                \n",
       "==============================================================================\n",
       "Dep. Variable:             Passengers   No. Observations:                  144\n",
       "Model:                ARIMA(0, 0, 14)   Log Likelihood                -690.493\n",
       "Date:                Wed, 18 Sep 2024   AIC                           1412.986\n",
       "Time:                        17:55:08   BIC                           1460.503\n",
       "Sample:                    01-01-1949   HQIC                          1432.294\n",
       "                         - 12-01-1960                                         \n",
       "Covariance Type:                  opg                                         \n",
       "==============================================================================\n",
       "                 coef    std err          z      P>|z|      [0.025      0.975]\n",
       "------------------------------------------------------------------------------\n",
       "const        280.3025     30.078      9.319      0.000     221.350     339.255\n",
       "ma.L1          1.3046   1061.082      0.001      0.999   -2078.378    2080.987\n",
       "ma.L2          1.0493   1238.300      0.001      0.999   -2425.975    2428.073\n",
       "ma.L3          0.8424   1710.995      0.000      1.000   -3352.646    3354.331\n",
       "ma.L4          0.7420   1263.275      0.001      1.000   -2475.231    2476.715\n",
       "ma.L5          0.7093   1219.732      0.001      1.000   -2389.921    2391.340\n",
       "ma.L6          0.5679    394.665      0.001      0.999    -772.961     774.097\n",
       "ma.L7          0.9908     20.649      0.048      0.962     -39.480      41.461\n",
       "ma.L8          0.5347    448.751      0.001      0.999    -879.000     880.070\n",
       "ma.L9          0.7471   1283.184      0.001      1.000   -2514.246    2515.741\n",
       "ma.L10         0.7846   1247.827      0.001      0.999   -2444.912    2446.481\n",
       "ma.L11         0.8343   1693.286      0.000      1.000   -3317.945    3319.614\n",
       "ma.L12         1.0736   1200.046      0.001      0.999   -2350.973    2353.120\n",
       "ma.L13         1.2599    993.699      0.001      0.999   -1946.354    1948.874\n",
       "ma.L14         0.9366      0.190      4.922      0.000       0.564       1.310\n",
       "sigma2       654.5081     47.031     13.917      0.000     562.329     746.687\n",
       "===================================================================================\n",
       "Ljung-Box (L1) (Q):                   5.88   Jarque-Bera (JB):                97.48\n",
       "Prob(Q):                              0.02   Prob(JB):                         0.00\n",
       "Heteroskedasticity (H):               6.22   Skew:                             1.23\n",
       "Prob(H) (two-sided):                  0.00   Kurtosis:                         6.19\n",
       "===================================================================================\n",
       "\n",
       "Warnings:\n",
       "[1] Covariance matrix calculated using the outer product of gradients (complex-step).\n",
       "[2] Covariance matrix is singular or near-singular, with condition number 2.28e+20. Standard errors may be unstable.\n",
       "\"\"\""
      ]
     },
     "execution_count": 94,
     "metadata": {},
     "output_type": "execute_result"
    }
   ],
   "source": [
    "airline_results_ma_14.summary()"
   ]
  },
  {
   "cell_type": "markdown",
   "id": "8b7201ec",
   "metadata": {},
   "source": [
    "### Pruebas LLR"
   ]
  },
  {
   "cell_type": "code",
   "execution_count": 95,
   "id": "cc6dc505",
   "metadata": {},
   "outputs": [
    {
     "name": "stderr",
     "output_type": "stream",
     "text": [
      "C:\\ProgramData\\Anaconda3\\lib\\site-packages\\statsmodels\\tsa\\statespace\\sarimax.py:978: UserWarning: Non-invertible starting MA parameters found. Using zeros as starting parameters.\n",
      "  warn('Non-invertible starting MA parameters found.'\n",
      "C:\\ProgramData\\Anaconda3\\lib\\site-packages\\statsmodels\\tsa\\statespace\\sarimax.py:978: UserWarning: Non-invertible starting MA parameters found. Using zeros as starting parameters.\n",
      "  warn('Non-invertible starting MA parameters found.'\n",
      "C:\\ProgramData\\Anaconda3\\lib\\site-packages\\statsmodels\\base\\model.py:604: ConvergenceWarning: Maximum Likelihood optimization failed to converge. Check mle_retvals\n",
      "  warnings.warn(\"Maximum Likelihood optimization failed to \"\n"
     ]
    },
    {
     "data": {
      "text/plain": [
       "3.6607164585869914e-42"
      ]
     },
     "execution_count": 95,
     "metadata": {},
     "output_type": "execute_result"
    }
   ],
   "source": [
    "LLR_test(airline_model_ma_1, airline_model_ma_14,DF=13)"
   ]
  },
  {
   "cell_type": "markdown",
   "id": "69a61fa6",
   "metadata": {},
   "source": [
    "## Ventas"
   ]
  },
  {
   "cell_type": "markdown",
   "id": "3725e28e",
   "metadata": {},
   "source": [
    "### ACF"
   ]
  },
  {
   "cell_type": "code",
   "execution_count": 96,
   "id": "b660cae0",
   "metadata": {},
   "outputs": [
    {
     "data": {
      "image/png": "[encoded data removed]",
      "text/plain": [
       "<Figure size 640x480 with 1 Axes>"
      ]
     },
     "metadata": {},
     "output_type": "display_data"
    }
   ],
   "source": [
    "sgt.plot_acf(df_ventas['Ventas'], zero = False, lags = 40)\n",
    "plt.title(\"ACF for Ventas\", size = 20)\n",
    "plt.show()"
   ]
  },
  {
   "cell_type": "markdown",
   "id": "31888651",
   "metadata": {},
   "source": [
    "### Modelo MA(1)"
   ]
  },
  {
   "cell_type": "code",
   "execution_count": 97,
   "id": "32f449cc",
   "metadata": {},
   "outputs": [
    {
     "name": "stderr",
     "output_type": "stream",
     "text": [
      "C:\\ProgramData\\Anaconda3\\lib\\site-packages\\statsmodels\\tsa\\base\\tsa_model.py:471: ValueWarning: No frequency information was provided, so inferred frequency D will be used.\n",
      "  self._init_dates(dates, freq)\n",
      "C:\\ProgramData\\Anaconda3\\lib\\site-packages\\statsmodels\\tsa\\base\\tsa_model.py:471: ValueWarning: No frequency information was provided, so inferred frequency D will be used.\n",
      "  self._init_dates(dates, freq)\n",
      "C:\\ProgramData\\Anaconda3\\lib\\site-packages\\statsmodels\\tsa\\base\\tsa_model.py:471: ValueWarning: No frequency information was provided, so inferred frequency D will be used.\n",
      "  self._init_dates(dates, freq)\n"
     ]
    }
   ],
   "source": [
    "ventas_model_ma_1 = ARIMA(df_ventas['Ventas'], order=(0,0,1))"
   ]
  },
  {
   "cell_type": "code",
   "execution_count": 98,
   "id": "2746931f",
   "metadata": {},
   "outputs": [],
   "source": [
    "ventas_results_ma_1 = ventas_model_ma_1.fit()"
   ]
  },
  {
   "cell_type": "code",
   "execution_count": 99,
   "id": "79f42d60",
   "metadata": {},
   "outputs": [
    {
     "data": {
      "text/html": [
       "<table class=\"simpletable\">\n",
       "<caption>SARIMAX Results</caption>\n",
       "<tr>\n",
       "  <th>Dep. Variable:</th>        <td>Ventas</td>      <th>  No. Observations:  </th>    <td>365</td>   \n",
       "</tr>\n",
       "<tr>\n",
       "  <th>Model:</th>            <td>ARIMA(0, 0, 1)</td>  <th>  Log Likelihood     </th> <td>-3410.235</td>\n",
       "</tr>\n",
       "<tr>\n",
       "  <th>Date:</th>            <td>Wed, 18 Sep 2024</td> <th>  AIC                </th> <td>6826.470</td> \n",
       "</tr>\n",
       "<tr>\n",
       "  <th>Time:</th>                <td>17:55:12</td>     <th>  BIC                </th> <td>6838.169</td> \n",
       "</tr>\n",
       "<tr>\n",
       "  <th>Sample:</th>             <td>01-01-2023</td>    <th>  HQIC               </th> <td>6831.119</td> \n",
       "</tr>\n",
       "<tr>\n",
       "  <th></th>                   <td>- 12-31-2023</td>   <th>                     </th>     <td> </td>    \n",
       "</tr>\n",
       "<tr>\n",
       "  <th>Covariance Type:</th>        <td>opg</td>       <th>                     </th>     <td> </td>    \n",
       "</tr>\n",
       "</table>\n",
       "<table class=\"simpletable\">\n",
       "<tr>\n",
       "     <td></td>       <th>coef</th>     <th>std err</th>      <th>z</th>      <th>P>|z|</th>  <th>[0.025</th>    <th>0.975]</th>  \n",
       "</tr>\n",
       "<tr>\n",
       "  <th>const</th>  <td> 1.883e+04</td> <td>  206.839</td> <td>   91.043</td> <td> 0.000</td> <td> 1.84e+04</td> <td> 1.92e+04</td>\n",
       "</tr>\n",
       "<tr>\n",
       "  <th>ma.L1</th>  <td>    0.3969</td> <td>    0.049</td> <td>    8.112</td> <td> 0.000</td> <td>    0.301</td> <td>    0.493</td>\n",
       "</tr>\n",
       "<tr>\n",
       "  <th>sigma2</th> <td>  7.65e+06</td> <td> 5.44e+05</td> <td>   14.059</td> <td> 0.000</td> <td> 6.58e+06</td> <td> 8.72e+06</td>\n",
       "</tr>\n",
       "</table>\n",
       "<table class=\"simpletable\">\n",
       "<tr>\n",
       "  <th>Ljung-Box (L1) (Q):</th>     <td>3.02</td> <th>  Jarque-Bera (JB):  </th> <td>7.05</td> \n",
       "</tr>\n",
       "<tr>\n",
       "  <th>Prob(Q):</th>                <td>0.08</td> <th>  Prob(JB):          </th> <td>0.03</td> \n",
       "</tr>\n",
       "<tr>\n",
       "  <th>Heteroskedasticity (H):</th> <td>0.87</td> <th>  Skew:              </th> <td>-0.31</td>\n",
       "</tr>\n",
       "<tr>\n",
       "  <th>Prob(H) (two-sided):</th>    <td>0.44</td> <th>  Kurtosis:          </th> <td>3.28</td> \n",
       "</tr>\n",
       "</table><br/><br/>Warnings:<br/>[1] Covariance matrix calculated using the outer product of gradients (complex-step)."
      ],
      "text/plain": [
       "<class 'statsmodels.iolib.summary.Summary'>\n",
       "\"\"\"\n",
       "                               SARIMAX Results                                \n",
       "==============================================================================\n",
       "Dep. Variable:                 Ventas   No. Observations:                  365\n",
       "Model:                 ARIMA(0, 0, 1)   Log Likelihood               -3410.235\n",
       "Date:                Wed, 18 Sep 2024   AIC                           6826.470\n",
       "Time:                        17:55:12   BIC                           6838.169\n",
       "Sample:                    01-01-2023   HQIC                          6831.119\n",
       "                         - 12-31-2023                                         \n",
       "Covariance Type:                  opg                                         \n",
       "==============================================================================\n",
       "                 coef    std err          z      P>|z|      [0.025      0.975]\n",
       "------------------------------------------------------------------------------\n",
       "const       1.883e+04    206.839     91.043      0.000    1.84e+04    1.92e+04\n",
       "ma.L1          0.3969      0.049      8.112      0.000       0.301       0.493\n",
       "sigma2       7.65e+06   5.44e+05     14.059      0.000    6.58e+06    8.72e+06\n",
       "===================================================================================\n",
       "Ljung-Box (L1) (Q):                   3.02   Jarque-Bera (JB):                 7.05\n",
       "Prob(Q):                              0.08   Prob(JB):                         0.03\n",
       "Heteroskedasticity (H):               0.87   Skew:                            -0.31\n",
       "Prob(H) (two-sided):                  0.44   Kurtosis:                         3.28\n",
       "===================================================================================\n",
       "\n",
       "Warnings:\n",
       "[1] Covariance matrix calculated using the outer product of gradients (complex-step).\n",
       "\"\"\""
      ]
     },
     "execution_count": 99,
     "metadata": {},
     "output_type": "execute_result"
    }
   ],
   "source": [
    "ventas_results_ma_1.summary()"
   ]
  },
  {
   "cell_type": "markdown",
   "id": "aaf9c0ef",
   "metadata": {},
   "source": [
    "### Modelos MA de mayor complejidad"
   ]
  },
  {
   "cell_type": "code",
   "execution_count": 100,
   "id": "a2b106d0",
   "metadata": {},
   "outputs": [
    {
     "name": "stderr",
     "output_type": "stream",
     "text": [
      "C:\\ProgramData\\Anaconda3\\lib\\site-packages\\statsmodels\\tsa\\base\\tsa_model.py:471: ValueWarning: No frequency information was provided, so inferred frequency D will be used.\n",
      "  self._init_dates(dates, freq)\n",
      "C:\\ProgramData\\Anaconda3\\lib\\site-packages\\statsmodels\\tsa\\base\\tsa_model.py:471: ValueWarning: No frequency information was provided, so inferred frequency D will be used.\n",
      "  self._init_dates(dates, freq)\n",
      "C:\\ProgramData\\Anaconda3\\lib\\site-packages\\statsmodels\\tsa\\base\\tsa_model.py:471: ValueWarning: No frequency information was provided, so inferred frequency D will be used.\n",
      "  self._init_dates(dates, freq)\n"
     ]
    }
   ],
   "source": [
    "ventas_model_ma_7 = ARIMA(df_ventas['Ventas'], order=(0,0,7))"
   ]
  },
  {
   "cell_type": "code",
   "execution_count": 101,
   "id": "a09d8592",
   "metadata": {},
   "outputs": [],
   "source": [
    "ventas_results_ma_7 = ventas_model_ma_7.fit()"
   ]
  },
  {
   "cell_type": "code",
   "execution_count": 102,
   "id": "0652b9cf",
   "metadata": {},
   "outputs": [
    {
     "data": {
      "text/html": [
       "<table class=\"simpletable\">\n",
       "<caption>SARIMAX Results</caption>\n",
       "<tr>\n",
       "  <th>Dep. Variable:</th>        <td>Ventas</td>      <th>  No. Observations:  </th>    <td>365</td>   \n",
       "</tr>\n",
       "<tr>\n",
       "  <th>Model:</th>            <td>ARIMA(0, 0, 7)</td>  <th>  Log Likelihood     </th> <td>-3383.598</td>\n",
       "</tr>\n",
       "<tr>\n",
       "  <th>Date:</th>            <td>Wed, 18 Sep 2024</td> <th>  AIC                </th> <td>6785.197</td> \n",
       "</tr>\n",
       "<tr>\n",
       "  <th>Time:</th>                <td>17:55:13</td>     <th>  BIC                </th> <td>6820.296</td> \n",
       "</tr>\n",
       "<tr>\n",
       "  <th>Sample:</th>             <td>01-01-2023</td>    <th>  HQIC               </th> <td>6799.145</td> \n",
       "</tr>\n",
       "<tr>\n",
       "  <th></th>                   <td>- 12-31-2023</td>   <th>                     </th>     <td> </td>    \n",
       "</tr>\n",
       "<tr>\n",
       "  <th>Covariance Type:</th>        <td>opg</td>       <th>                     </th>     <td> </td>    \n",
       "</tr>\n",
       "</table>\n",
       "<table class=\"simpletable\">\n",
       "<tr>\n",
       "     <td></td>       <th>coef</th>     <th>std err</th>      <th>z</th>      <th>P>|z|</th>  <th>[0.025</th>    <th>0.975]</th>  \n",
       "</tr>\n",
       "<tr>\n",
       "  <th>const</th>  <td> 1.883e+04</td> <td>  337.588</td> <td>   55.782</td> <td> 0.000</td> <td> 1.82e+04</td> <td> 1.95e+04</td>\n",
       "</tr>\n",
       "<tr>\n",
       "  <th>ma.L1</th>  <td>    0.3365</td> <td>    0.060</td> <td>    5.602</td> <td> 0.000</td> <td>    0.219</td> <td>    0.454</td>\n",
       "</tr>\n",
       "<tr>\n",
       "  <th>ma.L2</th>  <td>    0.1060</td> <td>    0.066</td> <td>    1.597</td> <td> 0.110</td> <td>   -0.024</td> <td>    0.236</td>\n",
       "</tr>\n",
       "<tr>\n",
       "  <th>ma.L3</th>  <td>   -0.0460</td> <td>    0.065</td> <td>   -0.705</td> <td> 0.481</td> <td>   -0.174</td> <td>    0.082</td>\n",
       "</tr>\n",
       "<tr>\n",
       "  <th>ma.L4</th>  <td>   -0.0028</td> <td>    0.060</td> <td>   -0.046</td> <td> 0.963</td> <td>   -0.120</td> <td>    0.115</td>\n",
       "</tr>\n",
       "<tr>\n",
       "  <th>ma.L5</th>  <td>    0.1591</td> <td>    0.066</td> <td>    2.409</td> <td> 0.016</td> <td>    0.030</td> <td>    0.289</td>\n",
       "</tr>\n",
       "<tr>\n",
       "  <th>ma.L6</th>  <td>    0.2743</td> <td>    0.070</td> <td>    3.940</td> <td> 0.000</td> <td>    0.138</td> <td>    0.411</td>\n",
       "</tr>\n",
       "<tr>\n",
       "  <th>ma.L7</th>  <td>    0.2532</td> <td>    0.055</td> <td>    4.635</td> <td> 0.000</td> <td>    0.146</td> <td>    0.360</td>\n",
       "</tr>\n",
       "<tr>\n",
       "  <th>sigma2</th> <td> 7.828e+06</td> <td> 7.09e+05</td> <td>   11.034</td> <td> 0.000</td> <td> 6.44e+06</td> <td> 9.22e+06</td>\n",
       "</tr>\n",
       "</table>\n",
       "<table class=\"simpletable\">\n",
       "<tr>\n",
       "  <th>Ljung-Box (L1) (Q):</th>     <td>0.63</td> <th>  Jarque-Bera (JB):  </th> <td>2.77</td> \n",
       "</tr>\n",
       "<tr>\n",
       "  <th>Prob(Q):</th>                <td>0.43</td> <th>  Prob(JB):          </th> <td>0.25</td> \n",
       "</tr>\n",
       "<tr>\n",
       "  <th>Heteroskedasticity (H):</th> <td>0.92</td> <th>  Skew:              </th> <td>-0.21</td>\n",
       "</tr>\n",
       "<tr>\n",
       "  <th>Prob(H) (two-sided):</th>    <td>0.63</td> <th>  Kurtosis:          </th> <td>3.08</td> \n",
       "</tr>\n",
       "</table><br/><br/>Warnings:<br/>[1] Covariance matrix calculated using the outer product of gradients (complex-step)."
      ],
      "text/plain": [
       "<class 'statsmodels.iolib.summary.Summary'>\n",
       "\"\"\"\n",
       "                               SARIMAX Results                                \n",
       "==============================================================================\n",
       "Dep. Variable:                 Ventas   No. Observations:                  365\n",
       "Model:                 ARIMA(0, 0, 7)   Log Likelihood               -3383.598\n",
       "Date:                Wed, 18 Sep 2024   AIC                           6785.197\n",
       "Time:                        17:55:13   BIC                           6820.296\n",
       "Sample:                    01-01-2023   HQIC                          6799.145\n",
       "                         - 12-31-2023                                         \n",
       "Covariance Type:                  opg                                         \n",
       "==============================================================================\n",
       "                 coef    std err          z      P>|z|      [0.025      0.975]\n",
       "------------------------------------------------------------------------------\n",
       "const       1.883e+04    337.588     55.782      0.000    1.82e+04    1.95e+04\n",
       "ma.L1          0.3365      0.060      5.602      0.000       0.219       0.454\n",
       "ma.L2          0.1060      0.066      1.597      0.110      -0.024       0.236\n",
       "ma.L3         -0.0460      0.065     -0.705      0.481      -0.174       0.082\n",
       "ma.L4         -0.0028      0.060     -0.046      0.963      -0.120       0.115\n",
       "ma.L5          0.1591      0.066      2.409      0.016       0.030       0.289\n",
       "ma.L6          0.2743      0.070      3.940      0.000       0.138       0.411\n",
       "ma.L7          0.2532      0.055      4.635      0.000       0.146       0.360\n",
       "sigma2      7.828e+06   7.09e+05     11.034      0.000    6.44e+06    9.22e+06\n",
       "===================================================================================\n",
       "Ljung-Box (L1) (Q):                   0.63   Jarque-Bera (JB):                 2.77\n",
       "Prob(Q):                              0.43   Prob(JB):                         0.25\n",
       "Heteroskedasticity (H):               0.92   Skew:                            -0.21\n",
       "Prob(H) (two-sided):                  0.63   Kurtosis:                         3.08\n",
       "===================================================================================\n",
       "\n",
       "Warnings:\n",
       "[1] Covariance matrix calculated using the outer product of gradients (complex-step).\n",
       "\"\"\""
      ]
     },
     "execution_count": 102,
     "metadata": {},
     "output_type": "execute_result"
    }
   ],
   "source": [
    "ventas_results_ma_7.summary()"
   ]
  },
  {
   "cell_type": "markdown",
   "id": "182e3c00",
   "metadata": {},
   "source": [
    "### Pruebas LLR"
   ]
  },
  {
   "cell_type": "code",
   "execution_count": 103,
   "id": "df086423",
   "metadata": {},
   "outputs": [
    {
     "data": {
      "text/plain": [
       "1.033718468645517e-09"
      ]
     },
     "execution_count": 103,
     "metadata": {},
     "output_type": "execute_result"
    }
   ],
   "source": [
    "LLR_test(ventas_model_ma_1, ventas_model_ma_7,DF=6)"
   ]
  },
  {
   "cell_type": "markdown",
   "id": "0a1f79bf",
   "metadata": {},
   "source": [
    "## Datos macroeconómicos de EEUU: PBI real"
   ]
  },
  {
   "cell_type": "markdown",
   "id": "02f9dff5",
   "metadata": {},
   "source": [
    "### ACF"
   ]
  },
  {
   "cell_type": "code",
   "execution_count": 104,
   "id": "02c32a80",
   "metadata": {
    "scrolled": true
   },
   "outputs": [
    {
     "data": {
      "image/png": "[encoded data removed]",
      "text/plain": [
       "<Figure size 640x480 with 1 Axes>"
      ]
     },
     "metadata": {},
     "output_type": "display_data"
    }
   ],
   "source": [
    "sgt.plot_acf(df_macrodata['realgdp'], zero = False, lags = 40)\n",
    "plt.title(\"ACF for GDP\", size = 20)\n",
    "plt.show()"
   ]
  },
  {
   "cell_type": "markdown",
   "id": "de99badd",
   "metadata": {},
   "source": [
    "### Modelo MA(1)"
   ]
  },
  {
   "cell_type": "code",
   "execution_count": 105,
   "id": "b6dc3cb3",
   "metadata": {},
   "outputs": [
    {
     "name": "stderr",
     "output_type": "stream",
     "text": [
      "C:\\ProgramData\\Anaconda3\\lib\\site-packages\\statsmodels\\tsa\\base\\tsa_model.py:471: ValueWarning: No frequency information was provided, so inferred frequency Q-DEC will be used.\n",
      "  self._init_dates(dates, freq)\n",
      "C:\\ProgramData\\Anaconda3\\lib\\site-packages\\statsmodels\\tsa\\base\\tsa_model.py:471: ValueWarning: No frequency information was provided, so inferred frequency Q-DEC will be used.\n",
      "  self._init_dates(dates, freq)\n",
      "C:\\ProgramData\\Anaconda3\\lib\\site-packages\\statsmodels\\tsa\\base\\tsa_model.py:471: ValueWarning: No frequency information was provided, so inferred frequency Q-DEC will be used.\n",
      "  self._init_dates(dates, freq)\n"
     ]
    }
   ],
   "source": [
    "realgdp_model_ma_1 = ARIMA(df_macrodata['realgdp'], order=(0,0,1))"
   ]
  },
  {
   "cell_type": "code",
   "execution_count": 106,
   "id": "adfa7d8e",
   "metadata": {},
   "outputs": [],
   "source": [
    "realgdp_results_ma_1 = realgdp_model_ma_1.fit()"
   ]
  },
  {
   "cell_type": "code",
   "execution_count": 107,
   "id": "fbb3b667",
   "metadata": {},
   "outputs": [
    {
     "data": {
      "text/html": [
       "<table class=\"simpletable\">\n",
       "<caption>SARIMAX Results</caption>\n",
       "<tr>\n",
       "  <th>Dep. Variable:</th>        <td>realgdp</td>     <th>  No. Observations:  </th>    <td>203</td>   \n",
       "</tr>\n",
       "<tr>\n",
       "  <th>Model:</th>            <td>ARIMA(0, 0, 1)</td>  <th>  Log Likelihood     </th> <td>-1790.681</td>\n",
       "</tr>\n",
       "<tr>\n",
       "  <th>Date:</th>            <td>Wed, 18 Sep 2024</td> <th>  AIC                </th> <td>3587.361</td> \n",
       "</tr>\n",
       "<tr>\n",
       "  <th>Time:</th>                <td>17:55:14</td>     <th>  BIC                </th> <td>3597.301</td> \n",
       "</tr>\n",
       "<tr>\n",
       "  <th>Sample:</th>             <td>03-31-1959</td>    <th>  HQIC               </th> <td>3591.382</td> \n",
       "</tr>\n",
       "<tr>\n",
       "  <th></th>                   <td>- 09-30-2009</td>   <th>                     </th>     <td> </td>    \n",
       "</tr>\n",
       "<tr>\n",
       "  <th>Covariance Type:</th>        <td>opg</td>       <th>                     </th>     <td> </td>    \n",
       "</tr>\n",
       "</table>\n",
       "<table class=\"simpletable\">\n",
       "<tr>\n",
       "     <td></td>       <th>coef</th>     <th>std err</th>      <th>z</th>      <th>P>|z|</th>  <th>[0.025</th>    <th>0.975]</th>  \n",
       "</tr>\n",
       "<tr>\n",
       "  <th>const</th>  <td> 7222.1316</td> <td>  247.357</td> <td>   29.197</td> <td> 0.000</td> <td> 6737.321</td> <td> 7706.943</td>\n",
       "</tr>\n",
       "<tr>\n",
       "  <th>ma.L1</th>  <td>    1.0000</td> <td>    0.150</td> <td>    6.645</td> <td> 0.000</td> <td>    0.705</td> <td>    1.295</td>\n",
       "</tr>\n",
       "<tr>\n",
       "  <th>sigma2</th> <td>  2.63e+06</td> <td> 2.31e-05</td> <td> 1.14e+11</td> <td> 0.000</td> <td> 2.63e+06</td> <td> 2.63e+06</td>\n",
       "</tr>\n",
       "</table>\n",
       "<table class=\"simpletable\">\n",
       "<tr>\n",
       "  <th>Ljung-Box (L1) (Q):</th>     <td>192.55</td> <th>  Jarque-Bera (JB):  </th> <td>13.93</td>\n",
       "</tr>\n",
       "<tr>\n",
       "  <th>Prob(Q):</th>                 <td>0.00</td>  <th>  Prob(JB):          </th> <td>0.00</td> \n",
       "</tr>\n",
       "<tr>\n",
       "  <th>Heteroskedasticity (H):</th>  <td>1.52</td>  <th>  Skew:              </th> <td>0.43</td> \n",
       "</tr>\n",
       "<tr>\n",
       "  <th>Prob(H) (two-sided):</th>     <td>0.09</td>  <th>  Kurtosis:          </th> <td>2.05</td> \n",
       "</tr>\n",
       "</table><br/><br/>Warnings:<br/>[1] Covariance matrix calculated using the outer product of gradients (complex-step).<br/>[2] Covariance matrix is singular or near-singular, with condition number 3.19e+29. Standard errors may be unstable."
      ],
      "text/plain": [
       "<class 'statsmodels.iolib.summary.Summary'>\n",
       "\"\"\"\n",
       "                               SARIMAX Results                                \n",
       "==============================================================================\n",
       "Dep. Variable:                realgdp   No. Observations:                  203\n",
       "Model:                 ARIMA(0, 0, 1)   Log Likelihood               -1790.681\n",
       "Date:                Wed, 18 Sep 2024   AIC                           3587.361\n",
       "Time:                        17:55:14   BIC                           3597.301\n",
       "Sample:                    03-31-1959   HQIC                          3591.382\n",
       "                         - 09-30-2009                                         \n",
       "Covariance Type:                  opg                                         \n",
       "==============================================================================\n",
       "                 coef    std err          z      P>|z|      [0.025      0.975]\n",
       "------------------------------------------------------------------------------\n",
       "const       7222.1316    247.357     29.197      0.000    6737.321    7706.943\n",
       "ma.L1          1.0000      0.150      6.645      0.000       0.705       1.295\n",
       "sigma2       2.63e+06   2.31e-05   1.14e+11      0.000    2.63e+06    2.63e+06\n",
       "===================================================================================\n",
       "Ljung-Box (L1) (Q):                 192.55   Jarque-Bera (JB):                13.93\n",
       "Prob(Q):                              0.00   Prob(JB):                         0.00\n",
       "Heteroskedasticity (H):               1.52   Skew:                             0.43\n",
       "Prob(H) (two-sided):                  0.09   Kurtosis:                         2.05\n",
       "===================================================================================\n",
       "\n",
       "Warnings:\n",
       "[1] Covariance matrix calculated using the outer product of gradients (complex-step).\n",
       "[2] Covariance matrix is singular or near-singular, with condition number 3.19e+29. Standard errors may be unstable.\n",
       "\"\"\""
      ]
     },
     "execution_count": 107,
     "metadata": {},
     "output_type": "execute_result"
    }
   ],
   "source": [
    "realgdp_results_ma_1.summary()"
   ]
  },
  {
   "cell_type": "markdown",
   "id": "ddf89eef",
   "metadata": {},
   "source": [
    "### Modelos MA de mayor complejidad"
   ]
  },
  {
   "cell_type": "code",
   "execution_count": 108,
   "id": "1e07ca7f",
   "metadata": {},
   "outputs": [
    {
     "name": "stderr",
     "output_type": "stream",
     "text": [
      "C:\\ProgramData\\Anaconda3\\lib\\site-packages\\statsmodels\\tsa\\base\\tsa_model.py:471: ValueWarning: No frequency information was provided, so inferred frequency Q-DEC will be used.\n",
      "  self._init_dates(dates, freq)\n",
      "C:\\ProgramData\\Anaconda3\\lib\\site-packages\\statsmodels\\tsa\\base\\tsa_model.py:471: ValueWarning: No frequency information was provided, so inferred frequency Q-DEC will be used.\n",
      "  self._init_dates(dates, freq)\n",
      "C:\\ProgramData\\Anaconda3\\lib\\site-packages\\statsmodels\\tsa\\base\\tsa_model.py:471: ValueWarning: No frequency information was provided, so inferred frequency Q-DEC will be used.\n",
      "  self._init_dates(dates, freq)\n"
     ]
    }
   ],
   "source": [
    "realgdp_model_ma_19 = ARIMA(df_macrodata['realgdp'], order=(0,0,19))"
   ]
  },
  {
   "cell_type": "code",
   "execution_count": 109,
   "id": "3747c82a",
   "metadata": {},
   "outputs": [
    {
     "name": "stderr",
     "output_type": "stream",
     "text": [
      "C:\\ProgramData\\Anaconda3\\lib\\site-packages\\statsmodels\\tsa\\statespace\\sarimax.py:978: UserWarning: Non-invertible starting MA parameters found. Using zeros as starting parameters.\n",
      "  warn('Non-invertible starting MA parameters found.'\n",
      "C:\\ProgramData\\Anaconda3\\lib\\site-packages\\statsmodels\\base\\model.py:604: ConvergenceWarning: Maximum Likelihood optimization failed to converge. Check mle_retvals\n",
      "  warnings.warn(\"Maximum Likelihood optimization failed to \"\n"
     ]
    }
   ],
   "source": [
    "realgdp_results_ma_19 = realgdp_model_ma_19.fit()"
   ]
  },
  {
   "cell_type": "code",
   "execution_count": 110,
   "id": "d3ca96e3",
   "metadata": {},
   "outputs": [
    {
     "data": {
      "text/html": [
       "<table class=\"simpletable\">\n",
       "<caption>SARIMAX Results</caption>\n",
       "<tr>\n",
       "  <th>Dep. Variable:</th>        <td>realgdp</td>     <th>  No. Observations:  </th>    <td>203</td>   \n",
       "</tr>\n",
       "<tr>\n",
       "  <th>Model:</th>            <td>ARIMA(0, 0, 19)</td> <th>  Log Likelihood     </th> <td>-1208.056</td>\n",
       "</tr>\n",
       "<tr>\n",
       "  <th>Date:</th>            <td>Wed, 18 Sep 2024</td> <th>  AIC                </th> <td>2458.113</td> \n",
       "</tr>\n",
       "<tr>\n",
       "  <th>Time:</th>                <td>17:55:23</td>     <th>  BIC                </th> <td>2527.690</td> \n",
       "</tr>\n",
       "<tr>\n",
       "  <th>Sample:</th>             <td>03-31-1959</td>    <th>  HQIC               </th> <td>2486.261</td> \n",
       "</tr>\n",
       "<tr>\n",
       "  <th></th>                   <td>- 09-30-2009</td>   <th>                     </th>     <td> </td>    \n",
       "</tr>\n",
       "<tr>\n",
       "  <th>Covariance Type:</th>        <td>opg</td>       <th>                     </th>     <td> </td>    \n",
       "</tr>\n",
       "</table>\n",
       "<table class=\"simpletable\">\n",
       "<tr>\n",
       "     <td></td>       <th>coef</th>     <th>std err</th>      <th>z</th>      <th>P>|z|</th>  <th>[0.025</th>    <th>0.975]</th>  \n",
       "</tr>\n",
       "<tr>\n",
       "  <th>const</th>  <td> 7221.3320</td> <td>  493.497</td> <td>   14.633</td> <td> 0.000</td> <td> 6254.095</td> <td> 8188.569</td>\n",
       "</tr>\n",
       "<tr>\n",
       "  <th>ma.L1</th>  <td>    1.6298</td> <td>  166.942</td> <td>    0.010</td> <td> 0.992</td> <td> -325.571</td> <td>  328.831</td>\n",
       "</tr>\n",
       "<tr>\n",
       "  <th>ma.L2</th>  <td>    2.5580</td> <td>   46.479</td> <td>    0.055</td> <td> 0.956</td> <td>  -88.539</td> <td>   93.655</td>\n",
       "</tr>\n",
       "<tr>\n",
       "  <th>ma.L3</th>  <td>    3.5639</td> <td>   45.666</td> <td>    0.078</td> <td> 0.938</td> <td>  -85.941</td> <td>   93.069</td>\n",
       "</tr>\n",
       "<tr>\n",
       "  <th>ma.L4</th>  <td>    4.6320</td> <td>    3.254</td> <td>    1.424</td> <td> 0.155</td> <td>   -1.745</td> <td>   11.009</td>\n",
       "</tr>\n",
       "<tr>\n",
       "  <th>ma.L5</th>  <td>    5.4986</td> <td>  181.830</td> <td>    0.030</td> <td> 0.976</td> <td> -350.881</td> <td>  361.879</td>\n",
       "</tr>\n",
       "<tr>\n",
       "  <th>ma.L6</th>  <td>    6.1969</td> <td>   67.641</td> <td>    0.092</td> <td> 0.927</td> <td> -126.378</td> <td>  138.771</td>\n",
       "</tr>\n",
       "<tr>\n",
       "  <th>ma.L7</th>  <td>    6.8640</td> <td>   11.423</td> <td>    0.601</td> <td> 0.548</td> <td>  -15.525</td> <td>   29.253</td>\n",
       "</tr>\n",
       "<tr>\n",
       "  <th>ma.L8</th>  <td>    7.1294</td> <td>   19.016</td> <td>    0.375</td> <td> 0.708</td> <td>  -30.140</td> <td>   44.399</td>\n",
       "</tr>\n",
       "<tr>\n",
       "  <th>ma.L9</th>  <td>    7.1527</td> <td>  119.155</td> <td>    0.060</td> <td> 0.952</td> <td> -226.387</td> <td>  240.693</td>\n",
       "</tr>\n",
       "<tr>\n",
       "  <th>ma.L10</th> <td>    7.1710</td> <td>   98.153</td> <td>    0.073</td> <td> 0.942</td> <td> -185.206</td> <td>  199.548</td>\n",
       "</tr>\n",
       "<tr>\n",
       "  <th>ma.L11</th> <td>    6.9878</td> <td>    4.106</td> <td>    1.702</td> <td> 0.089</td> <td>   -1.061</td> <td>   15.036</td>\n",
       "</tr>\n",
       "<tr>\n",
       "  <th>ma.L12</th> <td>    6.4128</td> <td>   63.432</td> <td>    0.101</td> <td> 0.919</td> <td> -117.913</td> <td>  130.738</td>\n",
       "</tr>\n",
       "<tr>\n",
       "  <th>ma.L13</th> <td>    5.5018</td> <td>   56.999</td> <td>    0.097</td> <td> 0.923</td> <td> -106.214</td> <td>  117.217</td>\n",
       "</tr>\n",
       "<tr>\n",
       "  <th>ma.L14</th> <td>    4.6431</td> <td>  149.343</td> <td>    0.031</td> <td> 0.975</td> <td> -288.063</td> <td>  297.349</td>\n",
       "</tr>\n",
       "<tr>\n",
       "  <th>ma.L15</th> <td>    3.6512</td> <td>    4.440</td> <td>    0.822</td> <td> 0.411</td> <td>   -5.051</td> <td>   12.354</td>\n",
       "</tr>\n",
       "<tr>\n",
       "  <th>ma.L16</th> <td>    2.5228</td> <td>   90.463</td> <td>    0.028</td> <td> 0.978</td> <td> -174.782</td> <td>  179.828</td>\n",
       "</tr>\n",
       "<tr>\n",
       "  <th>ma.L17</th> <td>    1.6980</td> <td>   39.540</td> <td>    0.043</td> <td> 0.966</td> <td>  -75.799</td> <td>   79.195</td>\n",
       "</tr>\n",
       "<tr>\n",
       "  <th>ma.L18</th> <td>    0.8528</td> <td>   95.331</td> <td>    0.009</td> <td> 0.993</td> <td> -185.992</td> <td>  187.698</td>\n",
       "</tr>\n",
       "<tr>\n",
       "  <th>ma.L19</th> <td>    0.5710</td> <td>    0.124</td> <td>    4.597</td> <td> 0.000</td> <td>    0.328</td> <td>    0.814</td>\n",
       "</tr>\n",
       "<tr>\n",
       "  <th>sigma2</th> <td> 7571.7783</td> <td>    0.051</td> <td> 1.49e+05</td> <td> 0.000</td> <td> 7571.679</td> <td> 7571.878</td>\n",
       "</tr>\n",
       "</table>\n",
       "<table class=\"simpletable\">\n",
       "<tr>\n",
       "  <th>Ljung-Box (L1) (Q):</th>     <td>0.27</td> <th>  Jarque-Bera (JB):  </th> <td>12.06</td>\n",
       "</tr>\n",
       "<tr>\n",
       "  <th>Prob(Q):</th>                <td>0.60</td> <th>  Prob(JB):          </th> <td>0.00</td> \n",
       "</tr>\n",
       "<tr>\n",
       "  <th>Heteroskedasticity (H):</th> <td>2.41</td> <th>  Skew:              </th> <td>0.55</td> \n",
       "</tr>\n",
       "<tr>\n",
       "  <th>Prob(H) (two-sided):</th>    <td>0.00</td> <th>  Kurtosis:          </th> <td>3.48</td> \n",
       "</tr>\n",
       "</table><br/><br/>Warnings:<br/>[1] Covariance matrix calculated using the outer product of gradients (complex-step).<br/>[2] Covariance matrix is singular or near-singular, with condition number 3.65e+23. Standard errors may be unstable."
      ],
      "text/plain": [
       "<class 'statsmodels.iolib.summary.Summary'>\n",
       "\"\"\"\n",
       "                               SARIMAX Results                                \n",
       "==============================================================================\n",
       "Dep. Variable:                realgdp   No. Observations:                  203\n",
       "Model:                ARIMA(0, 0, 19)   Log Likelihood               -1208.056\n",
       "Date:                Wed, 18 Sep 2024   AIC                           2458.113\n",
       "Time:                        17:55:23   BIC                           2527.690\n",
       "Sample:                    03-31-1959   HQIC                          2486.261\n",
       "                         - 09-30-2009                                         \n",
       "Covariance Type:                  opg                                         \n",
       "==============================================================================\n",
       "                 coef    std err          z      P>|z|      [0.025      0.975]\n",
       "------------------------------------------------------------------------------\n",
       "const       7221.3320    493.497     14.633      0.000    6254.095    8188.569\n",
       "ma.L1          1.6298    166.942      0.010      0.992    -325.571     328.831\n",
       "ma.L2          2.5580     46.479      0.055      0.956     -88.539      93.655\n",
       "ma.L3          3.5639     45.666      0.078      0.938     -85.941      93.069\n",
       "ma.L4          4.6320      3.254      1.424      0.155      -1.745      11.009\n",
       "ma.L5          5.4986    181.830      0.030      0.976    -350.881     361.879\n",
       "ma.L6          6.1969     67.641      0.092      0.927    -126.378     138.771\n",
       "ma.L7          6.8640     11.423      0.601      0.548     -15.525      29.253\n",
       "ma.L8          7.1294     19.016      0.375      0.708     -30.140      44.399\n",
       "ma.L9          7.1527    119.155      0.060      0.952    -226.387     240.693\n",
       "ma.L10         7.1710     98.153      0.073      0.942    -185.206     199.548\n",
       "ma.L11         6.9878      4.106      1.702      0.089      -1.061      15.036\n",
       "ma.L12         6.4128     63.432      0.101      0.919    -117.913     130.738\n",
       "ma.L13         5.5018     56.999      0.097      0.923    -106.214     117.217\n",
       "ma.L14         4.6431    149.343      0.031      0.975    -288.063     297.349\n",
       "ma.L15         3.6512      4.440      0.822      0.411      -5.051      12.354\n",
       "ma.L16         2.5228     90.463      0.028      0.978    -174.782     179.828\n",
       "ma.L17         1.6980     39.540      0.043      0.966     -75.799      79.195\n",
       "ma.L18         0.8528     95.331      0.009      0.993    -185.992     187.698\n",
       "ma.L19         0.5710      0.124      4.597      0.000       0.328       0.814\n",
       "sigma2      7571.7783      0.051   1.49e+05      0.000    7571.679    7571.878\n",
       "===================================================================================\n",
       "Ljung-Box (L1) (Q):                   0.27   Jarque-Bera (JB):                12.06\n",
       "Prob(Q):                              0.60   Prob(JB):                         0.00\n",
       "Heteroskedasticity (H):               2.41   Skew:                             0.55\n",
       "Prob(H) (two-sided):                  0.00   Kurtosis:                         3.48\n",
       "===================================================================================\n",
       "\n",
       "Warnings:\n",
       "[1] Covariance matrix calculated using the outer product of gradients (complex-step).\n",
       "[2] Covariance matrix is singular or near-singular, with condition number 3.65e+23. Standard errors may be unstable.\n",
       "\"\"\""
      ]
     },
     "execution_count": 110,
     "metadata": {},
     "output_type": "execute_result"
    }
   ],
   "source": [
    "realgdp_results_ma_19.summary()"
   ]
  },
  {
   "cell_type": "markdown",
   "id": "55c445b6",
   "metadata": {},
   "source": [
    "### Pruebas LLR"
   ]
  },
  {
   "cell_type": "code",
   "execution_count": 111,
   "id": "c2aa3a04",
   "metadata": {},
   "outputs": [
    {
     "name": "stderr",
     "output_type": "stream",
     "text": [
      "C:\\ProgramData\\Anaconda3\\lib\\site-packages\\statsmodels\\tsa\\statespace\\sarimax.py:978: UserWarning: Non-invertible starting MA parameters found. Using zeros as starting parameters.\n",
      "  warn('Non-invertible starting MA parameters found.'\n",
      "C:\\ProgramData\\Anaconda3\\lib\\site-packages\\statsmodels\\base\\model.py:604: ConvergenceWarning: Maximum Likelihood optimization failed to converge. Check mle_retvals\n",
      "  warnings.warn(\"Maximum Likelihood optimization failed to \"\n"
     ]
    },
    {
     "data": {
      "text/plain": [
       "3.112351650913575e-236"
      ]
     },
     "execution_count": 111,
     "metadata": {},
     "output_type": "execute_result"
    }
   ],
   "source": [
    "LLR_test(realgdp_model_ma_1, realgdp_model_ma_19,DF=18)"
   ]
  },
  {
   "cell_type": "markdown",
   "id": "29d5656e",
   "metadata": {},
   "source": [
    "## Datos macroeconómicos de EEUU: Inflación"
   ]
  },
  {
   "cell_type": "markdown",
   "id": "bcd0ecb5",
   "metadata": {},
   "source": [
    "### ACF"
   ]
  },
  {
   "cell_type": "code",
   "execution_count": 112,
   "id": "e275a59d",
   "metadata": {},
   "outputs": [
    {
     "data": {
      "image/png": "[encoded data removed]",
      "text/plain": [
       "<Figure size 640x480 with 1 Axes>"
      ]
     },
     "metadata": {},
     "output_type": "display_data"
    }
   ],
   "source": [
    "sgt.plot_acf(df_macrodata['infl'], zero = False, lags = 40)\n",
    "plt.title(\"ACF for Inflation\", size = 20)\n",
    "plt.show()"
   ]
  },
  {
   "cell_type": "markdown",
   "id": "fbe230cd",
   "metadata": {},
   "source": [
    "### Modelo MA(1)"
   ]
  },
  {
   "cell_type": "code",
   "execution_count": 113,
   "id": "0f048663",
   "metadata": {},
   "outputs": [
    {
     "name": "stderr",
     "output_type": "stream",
     "text": [
      "C:\\ProgramData\\Anaconda3\\lib\\site-packages\\statsmodels\\tsa\\base\\tsa_model.py:471: ValueWarning: No frequency information was provided, so inferred frequency Q-DEC will be used.\n",
      "  self._init_dates(dates, freq)\n",
      "C:\\ProgramData\\Anaconda3\\lib\\site-packages\\statsmodels\\tsa\\base\\tsa_model.py:471: ValueWarning: No frequency information was provided, so inferred frequency Q-DEC will be used.\n",
      "  self._init_dates(dates, freq)\n",
      "C:\\ProgramData\\Anaconda3\\lib\\site-packages\\statsmodels\\tsa\\base\\tsa_model.py:471: ValueWarning: No frequency information was provided, so inferred frequency Q-DEC will be used.\n",
      "  self._init_dates(dates, freq)\n"
     ]
    }
   ],
   "source": [
    "inflation_model_ma_1 = ARIMA(df_macrodata['infl'], order=(0,0,1))"
   ]
  },
  {
   "cell_type": "code",
   "execution_count": 114,
   "id": "9e8d21fb",
   "metadata": {},
   "outputs": [],
   "source": [
    "inflation_results_ma_1 = inflation_model_ma_1.fit()"
   ]
  },
  {
   "cell_type": "code",
   "execution_count": 115,
   "id": "cffe2c5f",
   "metadata": {},
   "outputs": [
    {
     "data": {
      "text/html": [
       "<table class=\"simpletable\">\n",
       "<caption>SARIMAX Results</caption>\n",
       "<tr>\n",
       "  <th>Dep. Variable:</th>         <td>infl</td>       <th>  No. Observations:  </th>    <td>203</td>  \n",
       "</tr>\n",
       "<tr>\n",
       "  <th>Model:</th>            <td>ARIMA(0, 0, 1)</td>  <th>  Log Likelihood     </th> <td>-493.998</td>\n",
       "</tr>\n",
       "<tr>\n",
       "  <th>Date:</th>            <td>Wed, 18 Sep 2024</td> <th>  AIC                </th>  <td>993.997</td>\n",
       "</tr>\n",
       "<tr>\n",
       "  <th>Time:</th>                <td>17:55:31</td>     <th>  BIC                </th> <td>1003.936</td>\n",
       "</tr>\n",
       "<tr>\n",
       "  <th>Sample:</th>             <td>03-31-1959</td>    <th>  HQIC               </th>  <td>998.018</td>\n",
       "</tr>\n",
       "<tr>\n",
       "  <th></th>                   <td>- 09-30-2009</td>   <th>                     </th>     <td> </td>   \n",
       "</tr>\n",
       "<tr>\n",
       "  <th>Covariance Type:</th>        <td>opg</td>       <th>                     </th>     <td> </td>   \n",
       "</tr>\n",
       "</table>\n",
       "<table class=\"simpletable\">\n",
       "<tr>\n",
       "     <td></td>       <th>coef</th>     <th>std err</th>      <th>z</th>      <th>P>|z|</th>  <th>[0.025</th>    <th>0.975]</th>  \n",
       "</tr>\n",
       "<tr>\n",
       "  <th>const</th>  <td>    3.9542</td> <td>    0.296</td> <td>   13.346</td> <td> 0.000</td> <td>    3.374</td> <td>    4.535</td>\n",
       "</tr>\n",
       "<tr>\n",
       "  <th>ma.L1</th>  <td>    0.4995</td> <td>    0.040</td> <td>   12.418</td> <td> 0.000</td> <td>    0.421</td> <td>    0.578</td>\n",
       "</tr>\n",
       "<tr>\n",
       "  <th>sigma2</th> <td>    7.5965</td> <td>    0.534</td> <td>   14.220</td> <td> 0.000</td> <td>    6.549</td> <td>    8.644</td>\n",
       "</tr>\n",
       "</table>\n",
       "<table class=\"simpletable\">\n",
       "<tr>\n",
       "  <th>Ljung-Box (L1) (Q):</th>     <td>3.78</td> <th>  Jarque-Bera (JB):  </th> <td>44.98</td>\n",
       "</tr>\n",
       "<tr>\n",
       "  <th>Prob(Q):</th>                <td>0.05</td> <th>  Prob(JB):          </th> <td>0.00</td> \n",
       "</tr>\n",
       "<tr>\n",
       "  <th>Heteroskedasticity (H):</th> <td>0.93</td> <th>  Skew:              </th> <td>0.37</td> \n",
       "</tr>\n",
       "<tr>\n",
       "  <th>Prob(H) (two-sided):</th>    <td>0.78</td> <th>  Kurtosis:          </th> <td>5.19</td> \n",
       "</tr>\n",
       "</table><br/><br/>Warnings:<br/>[1] Covariance matrix calculated using the outer product of gradients (complex-step)."
      ],
      "text/plain": [
       "<class 'statsmodels.iolib.summary.Summary'>\n",
       "\"\"\"\n",
       "                               SARIMAX Results                                \n",
       "==============================================================================\n",
       "Dep. Variable:                   infl   No. Observations:                  203\n",
       "Model:                 ARIMA(0, 0, 1)   Log Likelihood                -493.998\n",
       "Date:                Wed, 18 Sep 2024   AIC                            993.997\n",
       "Time:                        17:55:31   BIC                           1003.936\n",
       "Sample:                    03-31-1959   HQIC                           998.018\n",
       "                         - 09-30-2009                                         \n",
       "Covariance Type:                  opg                                         \n",
       "==============================================================================\n",
       "                 coef    std err          z      P>|z|      [0.025      0.975]\n",
       "------------------------------------------------------------------------------\n",
       "const          3.9542      0.296     13.346      0.000       3.374       4.535\n",
       "ma.L1          0.4995      0.040     12.418      0.000       0.421       0.578\n",
       "sigma2         7.5965      0.534     14.220      0.000       6.549       8.644\n",
       "===================================================================================\n",
       "Ljung-Box (L1) (Q):                   3.78   Jarque-Bera (JB):                44.98\n",
       "Prob(Q):                              0.05   Prob(JB):                         0.00\n",
       "Heteroskedasticity (H):               0.93   Skew:                             0.37\n",
       "Prob(H) (two-sided):                  0.78   Kurtosis:                         5.19\n",
       "===================================================================================\n",
       "\n",
       "Warnings:\n",
       "[1] Covariance matrix calculated using the outer product of gradients (complex-step).\n",
       "\"\"\""
      ]
     },
     "execution_count": 115,
     "metadata": {},
     "output_type": "execute_result"
    }
   ],
   "source": [
    "inflation_results_ma_1.summary()"
   ]
  },
  {
   "cell_type": "markdown",
   "id": "7fc09c96",
   "metadata": {},
   "source": [
    "### Modelos MA de mayor complejidad"
   ]
  },
  {
   "cell_type": "code",
   "execution_count": 116,
   "id": "184e85c5",
   "metadata": {},
   "outputs": [
    {
     "name": "stderr",
     "output_type": "stream",
     "text": [
      "C:\\ProgramData\\Anaconda3\\lib\\site-packages\\statsmodels\\tsa\\base\\tsa_model.py:471: ValueWarning: No frequency information was provided, so inferred frequency Q-DEC will be used.\n",
      "  self._init_dates(dates, freq)\n",
      "C:\\ProgramData\\Anaconda3\\lib\\site-packages\\statsmodels\\tsa\\base\\tsa_model.py:471: ValueWarning: No frequency information was provided, so inferred frequency Q-DEC will be used.\n",
      "  self._init_dates(dates, freq)\n",
      "C:\\ProgramData\\Anaconda3\\lib\\site-packages\\statsmodels\\tsa\\base\\tsa_model.py:471: ValueWarning: No frequency information was provided, so inferred frequency Q-DEC will be used.\n",
      "  self._init_dates(dates, freq)\n"
     ]
    }
   ],
   "source": [
    "inflation_model_ma_10 = ARIMA(df_macrodata['infl'], order=(0,0,10))"
   ]
  },
  {
   "cell_type": "code",
   "execution_count": 117,
   "id": "238ae048",
   "metadata": {},
   "outputs": [],
   "source": [
    "inflation_results_ma_10 = inflation_model_ma_10.fit()"
   ]
  },
  {
   "cell_type": "code",
   "execution_count": 118,
   "id": "a2849395",
   "metadata": {},
   "outputs": [
    {
     "data": {
      "text/html": [
       "<table class=\"simpletable\">\n",
       "<caption>SARIMAX Results</caption>\n",
       "<tr>\n",
       "  <th>Dep. Variable:</th>         <td>infl</td>       <th>  No. Observations:  </th>    <td>203</td>  \n",
       "</tr>\n",
       "<tr>\n",
       "  <th>Model:</th>            <td>ARIMA(0, 0, 10)</td> <th>  Log Likelihood     </th> <td>-450.871</td>\n",
       "</tr>\n",
       "<tr>\n",
       "  <th>Date:</th>            <td>Wed, 18 Sep 2024</td> <th>  AIC                </th>  <td>925.741</td>\n",
       "</tr>\n",
       "<tr>\n",
       "  <th>Time:</th>                <td>17:55:32</td>     <th>  BIC                </th>  <td>965.500</td>\n",
       "</tr>\n",
       "<tr>\n",
       "  <th>Sample:</th>             <td>03-31-1959</td>    <th>  HQIC               </th>  <td>941.826</td>\n",
       "</tr>\n",
       "<tr>\n",
       "  <th></th>                   <td>- 09-30-2009</td>   <th>                     </th>     <td> </td>   \n",
       "</tr>\n",
       "<tr>\n",
       "  <th>Covariance Type:</th>        <td>opg</td>       <th>                     </th>     <td> </td>   \n",
       "</tr>\n",
       "</table>\n",
       "<table class=\"simpletable\">\n",
       "<tr>\n",
       "     <td></td>       <th>coef</th>     <th>std err</th>      <th>z</th>      <th>P>|z|</th>  <th>[0.025</th>    <th>0.975]</th>  \n",
       "</tr>\n",
       "<tr>\n",
       "  <th>const</th>  <td>    3.9013</td> <td>    0.634</td> <td>    6.153</td> <td> 0.000</td> <td>    2.659</td> <td>    5.144</td>\n",
       "</tr>\n",
       "<tr>\n",
       "  <th>ma.L1</th>  <td>    0.4035</td> <td>    0.045</td> <td>    8.935</td> <td> 0.000</td> <td>    0.315</td> <td>    0.492</td>\n",
       "</tr>\n",
       "<tr>\n",
       "  <th>ma.L2</th>  <td>    0.2712</td> <td>    0.075</td> <td>    3.594</td> <td> 0.000</td> <td>    0.123</td> <td>    0.419</td>\n",
       "</tr>\n",
       "<tr>\n",
       "  <th>ma.L3</th>  <td>    0.4736</td> <td>    0.064</td> <td>    7.444</td> <td> 0.000</td> <td>    0.349</td> <td>    0.598</td>\n",
       "</tr>\n",
       "<tr>\n",
       "  <th>ma.L4</th>  <td>    0.2449</td> <td>    0.075</td> <td>    3.254</td> <td> 0.001</td> <td>    0.097</td> <td>    0.392</td>\n",
       "</tr>\n",
       "<tr>\n",
       "  <th>ma.L5</th>  <td>    0.2937</td> <td>    0.111</td> <td>    2.641</td> <td> 0.008</td> <td>    0.076</td> <td>    0.512</td>\n",
       "</tr>\n",
       "<tr>\n",
       "  <th>ma.L6</th>  <td>    0.3446</td> <td>    0.082</td> <td>    4.208</td> <td> 0.000</td> <td>    0.184</td> <td>    0.505</td>\n",
       "</tr>\n",
       "<tr>\n",
       "  <th>ma.L7</th>  <td>    0.2219</td> <td>    0.095</td> <td>    2.341</td> <td> 0.019</td> <td>    0.036</td> <td>    0.408</td>\n",
       "</tr>\n",
       "<tr>\n",
       "  <th>ma.L8</th>  <td>    0.0292</td> <td>    0.101</td> <td>    0.289</td> <td> 0.773</td> <td>   -0.169</td> <td>    0.227</td>\n",
       "</tr>\n",
       "<tr>\n",
       "  <th>ma.L9</th>  <td>    0.2412</td> <td>    0.109</td> <td>    2.221</td> <td> 0.026</td> <td>    0.028</td> <td>    0.454</td>\n",
       "</tr>\n",
       "<tr>\n",
       "  <th>ma.L10</th> <td>    0.0729</td> <td>    0.092</td> <td>    0.794</td> <td> 0.427</td> <td>   -0.107</td> <td>    0.253</td>\n",
       "</tr>\n",
       "<tr>\n",
       "  <th>sigma2</th> <td>    4.9371</td> <td>    0.320</td> <td>   15.426</td> <td> 0.000</td> <td>    4.310</td> <td>    5.564</td>\n",
       "</tr>\n",
       "</table>\n",
       "<table class=\"simpletable\">\n",
       "<tr>\n",
       "  <th>Ljung-Box (L1) (Q):</th>     <td>0.01</td> <th>  Jarque-Bera (JB):  </th> <td>162.26</td>\n",
       "</tr>\n",
       "<tr>\n",
       "  <th>Prob(Q):</th>                <td>0.92</td> <th>  Prob(JB):          </th>  <td>0.00</td> \n",
       "</tr>\n",
       "<tr>\n",
       "  <th>Heteroskedasticity (H):</th> <td>1.66</td> <th>  Skew:              </th>  <td>-0.54</td>\n",
       "</tr>\n",
       "<tr>\n",
       "  <th>Prob(H) (two-sided):</th>    <td>0.04</td> <th>  Kurtosis:          </th>  <td>7.24</td> \n",
       "</tr>\n",
       "</table><br/><br/>Warnings:<br/>[1] Covariance matrix calculated using the outer product of gradients (complex-step)."
      ],
      "text/plain": [
       "<class 'statsmodels.iolib.summary.Summary'>\n",
       "\"\"\"\n",
       "                               SARIMAX Results                                \n",
       "==============================================================================\n",
       "Dep. Variable:                   infl   No. Observations:                  203\n",
       "Model:                ARIMA(0, 0, 10)   Log Likelihood                -450.871\n",
       "Date:                Wed, 18 Sep 2024   AIC                            925.741\n",
       "Time:                        17:55:32   BIC                            965.500\n",
       "Sample:                    03-31-1959   HQIC                           941.826\n",
       "                         - 09-30-2009                                         \n",
       "Covariance Type:                  opg                                         \n",
       "==============================================================================\n",
       "                 coef    std err          z      P>|z|      [0.025      0.975]\n",
       "------------------------------------------------------------------------------\n",
       "const          3.9013      0.634      6.153      0.000       2.659       5.144\n",
       "ma.L1          0.4035      0.045      8.935      0.000       0.315       0.492\n",
       "ma.L2          0.2712      0.075      3.594      0.000       0.123       0.419\n",
       "ma.L3          0.4736      0.064      7.444      0.000       0.349       0.598\n",
       "ma.L4          0.2449      0.075      3.254      0.001       0.097       0.392\n",
       "ma.L5          0.2937      0.111      2.641      0.008       0.076       0.512\n",
       "ma.L6          0.3446      0.082      4.208      0.000       0.184       0.505\n",
       "ma.L7          0.2219      0.095      2.341      0.019       0.036       0.408\n",
       "ma.L8          0.0292      0.101      0.289      0.773      -0.169       0.227\n",
       "ma.L9          0.2412      0.109      2.221      0.026       0.028       0.454\n",
       "ma.L10         0.0729      0.092      0.794      0.427      -0.107       0.253\n",
       "sigma2         4.9371      0.320     15.426      0.000       4.310       5.564\n",
       "===================================================================================\n",
       "Ljung-Box (L1) (Q):                   0.01   Jarque-Bera (JB):               162.26\n",
       "Prob(Q):                              0.92   Prob(JB):                         0.00\n",
       "Heteroskedasticity (H):               1.66   Skew:                            -0.54\n",
       "Prob(H) (two-sided):                  0.04   Kurtosis:                         7.24\n",
       "===================================================================================\n",
       "\n",
       "Warnings:\n",
       "[1] Covariance matrix calculated using the outer product of gradients (complex-step).\n",
       "\"\"\""
      ]
     },
     "execution_count": 118,
     "metadata": {},
     "output_type": "execute_result"
    }
   ],
   "source": [
    "inflation_results_ma_10.summary()"
   ]
  },
  {
   "cell_type": "markdown",
   "id": "18f4c21e",
   "metadata": {},
   "source": [
    "### Pruebas LLR"
   ]
  },
  {
   "cell_type": "code",
   "execution_count": 119,
   "id": "6687e0f4",
   "metadata": {},
   "outputs": [
    {
     "data": {
      "text/plain": [
       "9.155314651192564e-15"
      ]
     },
     "execution_count": 119,
     "metadata": {},
     "output_type": "execute_result"
    }
   ],
   "source": [
    "LLR_test(inflation_model_ma_1, inflation_model_ma_10,DF=9)"
   ]
  },
  {
   "cell_type": "markdown",
   "id": "a0fcb7b0",
   "metadata": {},
   "source": [
    "# Modelos ARMA"
   ]
  },
  {
   "cell_type": "markdown",
   "id": "54028f3e",
   "metadata": {},
   "source": [
    "## Yahoo finance"
   ]
  },
  {
   "cell_type": "markdown",
   "id": "5dfc8d3d",
   "metadata": {},
   "source": [
    "### Modelo ARMA(1,1)"
   ]
  },
  {
   "cell_type": "code",
   "execution_count": 120,
   "id": "80c700cd",
   "metadata": {},
   "outputs": [],
   "source": [
    "yfinance_model_ar_1_ma_1 = ARIMA(df_yfinance['spx'], order=(1,0,1))"
   ]
  },
  {
   "cell_type": "code",
   "execution_count": 121,
   "id": "4558bf57",
   "metadata": {},
   "outputs": [
    {
     "name": "stderr",
     "output_type": "stream",
     "text": [
      "C:\\ProgramData\\Anaconda3\\lib\\site-packages\\statsmodels\\tsa\\statespace\\sarimax.py:966: UserWarning: Non-stationary starting autoregressive parameters found. Using zeros as starting parameters.\n",
      "  warn('Non-stationary starting autoregressive parameters'\n"
     ]
    }
   ],
   "source": [
    "yfinance_results_ar_1_ma_1 = yfinance_model_ar_1_ma_1.fit()"
   ]
  },
  {
   "cell_type": "code",
   "execution_count": 122,
   "id": "8999a0ae",
   "metadata": {},
   "outputs": [
    {
     "data": {
      "text/html": [
       "<table class=\"simpletable\">\n",
       "<caption>SARIMAX Results</caption>\n",
       "<tr>\n",
       "  <th>Dep. Variable:</th>          <td>spx</td>       <th>  No. Observations:  </th>    <td>7992</td>   \n",
       "</tr>\n",
       "<tr>\n",
       "  <th>Model:</th>            <td>ARIMA(1, 0, 1)</td>  <th>  Log Likelihood     </th> <td>-36430.283</td>\n",
       "</tr>\n",
       "<tr>\n",
       "  <th>Date:</th>            <td>Wed, 18 Sep 2024</td> <th>  AIC                </th>  <td>72868.566</td>\n",
       "</tr>\n",
       "<tr>\n",
       "  <th>Time:</th>                <td>17:55:42</td>     <th>  BIC                </th>  <td>72896.511</td>\n",
       "</tr>\n",
       "<tr>\n",
       "  <th>Sample:</th>             <td>01-07-1994</td>    <th>  HQIC               </th>  <td>72878.131</td>\n",
       "</tr>\n",
       "<tr>\n",
       "  <th></th>                   <td>- 08-26-2024</td>   <th>                     </th>      <td> </td>    \n",
       "</tr>\n",
       "<tr>\n",
       "  <th>Covariance Type:</th>        <td>opg</td>       <th>                     </th>      <td> </td>    \n",
       "</tr>\n",
       "</table>\n",
       "<table class=\"simpletable\">\n",
       "<tr>\n",
       "     <td></td>       <th>coef</th>     <th>std err</th>      <th>z</th>      <th>P>|z|</th>  <th>[0.025</th>    <th>0.975]</th>  \n",
       "</tr>\n",
       "<tr>\n",
       "  <th>const</th>  <td> 1818.8521</td> <td> 6.07e-05</td> <td>    3e+07</td> <td> 0.000</td> <td> 1818.852</td> <td> 1818.852</td>\n",
       "</tr>\n",
       "<tr>\n",
       "  <th>ar.L1</th>  <td>    1.0000</td> <td> 7.79e-05</td> <td> 1.28e+04</td> <td> 0.000</td> <td>    1.000</td> <td>    1.000</td>\n",
       "</tr>\n",
       "<tr>\n",
       "  <th>ma.L1</th>  <td>   -0.0749</td> <td>    0.004</td> <td>  -18.606</td> <td> 0.000</td> <td>   -0.083</td> <td>   -0.067</td>\n",
       "</tr>\n",
       "<tr>\n",
       "  <th>sigma2</th> <td>  532.5699</td> <td>    2.777</td> <td>  191.778</td> <td> 0.000</td> <td>  527.127</td> <td>  538.013</td>\n",
       "</tr>\n",
       "</table>\n",
       "<table class=\"simpletable\">\n",
       "<tr>\n",
       "  <th>Ljung-Box (L1) (Q):</th>     <td>0.06</td> <th>  Jarque-Bera (JB):  </th> <td>106334.12</td>\n",
       "</tr>\n",
       "<tr>\n",
       "  <th>Prob(Q):</th>                <td>0.80</td> <th>  Prob(JB):          </th>   <td>0.00</td>   \n",
       "</tr>\n",
       "<tr>\n",
       "  <th>Heteroskedasticity (H):</th> <td>8.60</td> <th>  Skew:              </th>   <td>-0.82</td>  \n",
       "</tr>\n",
       "<tr>\n",
       "  <th>Prob(H) (two-sided):</th>    <td>0.00</td> <th>  Kurtosis:          </th>   <td>20.79</td>  \n",
       "</tr>\n",
       "</table><br/><br/>Warnings:<br/>[1] Covariance matrix calculated using the outer product of gradients (complex-step).<br/>[2] Covariance matrix is singular or near-singular, with condition number 5.61e+20. Standard errors may be unstable."
      ],
      "text/plain": [
       "<class 'statsmodels.iolib.summary.Summary'>\n",
       "\"\"\"\n",
       "                               SARIMAX Results                                \n",
       "==============================================================================\n",
       "Dep. Variable:                    spx   No. Observations:                 7992\n",
       "Model:                 ARIMA(1, 0, 1)   Log Likelihood              -36430.283\n",
       "Date:                Wed, 18 Sep 2024   AIC                          72868.566\n",
       "Time:                        17:55:42   BIC                          72896.511\n",
       "Sample:                    01-07-1994   HQIC                         72878.131\n",
       "                         - 08-26-2024                                         \n",
       "Covariance Type:                  opg                                         \n",
       "==============================================================================\n",
       "                 coef    std err          z      P>|z|      [0.025      0.975]\n",
       "------------------------------------------------------------------------------\n",
       "const       1818.8521   6.07e-05      3e+07      0.000    1818.852    1818.852\n",
       "ar.L1          1.0000   7.79e-05   1.28e+04      0.000       1.000       1.000\n",
       "ma.L1         -0.0749      0.004    -18.606      0.000      -0.083      -0.067\n",
       "sigma2       532.5699      2.777    191.778      0.000     527.127     538.013\n",
       "===================================================================================\n",
       "Ljung-Box (L1) (Q):                   0.06   Jarque-Bera (JB):            106334.12\n",
       "Prob(Q):                              0.80   Prob(JB):                         0.00\n",
       "Heteroskedasticity (H):               8.60   Skew:                            -0.82\n",
       "Prob(H) (two-sided):                  0.00   Kurtosis:                        20.79\n",
       "===================================================================================\n",
       "\n",
       "Warnings:\n",
       "[1] Covariance matrix calculated using the outer product of gradients (complex-step).\n",
       "[2] Covariance matrix is singular or near-singular, with condition number 5.61e+20. Standard errors may be unstable.\n",
       "\"\"\""
      ]
     },
     "execution_count": 122,
     "metadata": {},
     "output_type": "execute_result"
    }
   ],
   "source": [
    "yfinance_results_ar_1_ma_1.summary()"
   ]
  },
  {
   "cell_type": "markdown",
   "id": "819ec40b",
   "metadata": {},
   "source": [
    "### Modelos ARMA de mayor complejidad"
   ]
  },
  {
   "cell_type": "code",
   "execution_count": 123,
   "id": "7ed3cca1",
   "metadata": {},
   "outputs": [],
   "source": [
    "yfinance_model_ar_1_ma_10 = ARIMA(df_yfinance['spx'], order=(1,0,10))"
   ]
  },
  {
   "cell_type": "code",
   "execution_count": 124,
   "id": "238f9249",
   "metadata": {},
   "outputs": [
    {
     "name": "stderr",
     "output_type": "stream",
     "text": [
      "C:\\ProgramData\\Anaconda3\\lib\\site-packages\\statsmodels\\tsa\\statespace\\sarimax.py:966: UserWarning: Non-stationary starting autoregressive parameters found. Using zeros as starting parameters.\n",
      "  warn('Non-stationary starting autoregressive parameters'\n"
     ]
    }
   ],
   "source": [
    "yfinance_results_ar_1_ma_10 = yfinance_model_ar_1_ma_10.fit()"
   ]
  },
  {
   "cell_type": "code",
   "execution_count": 125,
   "id": "e2cac169",
   "metadata": {},
   "outputs": [
    {
     "data": {
      "text/html": [
       "<table class=\"simpletable\">\n",
       "<caption>SARIMAX Results</caption>\n",
       "<tr>\n",
       "  <th>Dep. Variable:</th>          <td>spx</td>       <th>  No. Observations:  </th>    <td>7992</td>   \n",
       "</tr>\n",
       "<tr>\n",
       "  <th>Model:</th>            <td>ARIMA(1, 0, 10)</td> <th>  Log Likelihood     </th> <td>-36351.318</td>\n",
       "</tr>\n",
       "<tr>\n",
       "  <th>Date:</th>            <td>Wed, 18 Sep 2024</td> <th>  AIC                </th>  <td>72728.636</td>\n",
       "</tr>\n",
       "<tr>\n",
       "  <th>Time:</th>                <td>17:56:36</td>     <th>  BIC                </th>  <td>72819.456</td>\n",
       "</tr>\n",
       "<tr>\n",
       "  <th>Sample:</th>             <td>01-07-1994</td>    <th>  HQIC               </th>  <td>72759.724</td>\n",
       "</tr>\n",
       "<tr>\n",
       "  <th></th>                   <td>- 08-26-2024</td>   <th>                     </th>      <td> </td>    \n",
       "</tr>\n",
       "<tr>\n",
       "  <th>Covariance Type:</th>        <td>opg</td>       <th>                     </th>      <td> </td>    \n",
       "</tr>\n",
       "</table>\n",
       "<table class=\"simpletable\">\n",
       "<tr>\n",
       "     <td></td>       <th>coef</th>     <th>std err</th>      <th>z</th>      <th>P>|z|</th>  <th>[0.025</th>    <th>0.975]</th>  \n",
       "</tr>\n",
       "<tr>\n",
       "  <th>const</th>  <td> 1818.8105</td> <td> 3.45e-05</td> <td> 5.27e+07</td> <td> 0.000</td> <td> 1818.810</td> <td> 1818.811</td>\n",
       "</tr>\n",
       "<tr>\n",
       "  <th>ar.L1</th>  <td>    1.0000</td> <td> 7.72e-05</td> <td> 1.29e+04</td> <td> 0.000</td> <td>    1.000</td> <td>    1.000</td>\n",
       "</tr>\n",
       "<tr>\n",
       "  <th>ma.L1</th>  <td>   -0.0623</td> <td>    0.005</td> <td>  -13.317</td> <td> 0.000</td> <td>   -0.071</td> <td>   -0.053</td>\n",
       "</tr>\n",
       "<tr>\n",
       "  <th>ma.L2</th>  <td>    0.0168</td> <td>    0.004</td> <td>    3.784</td> <td> 0.000</td> <td>    0.008</td> <td>    0.026</td>\n",
       "</tr>\n",
       "<tr>\n",
       "  <th>ma.L3</th>  <td>   -0.0193</td> <td>    0.005</td> <td>   -4.290</td> <td> 0.000</td> <td>   -0.028</td> <td>   -0.010</td>\n",
       "</tr>\n",
       "<tr>\n",
       "  <th>ma.L4</th>  <td>    0.0003</td> <td>    0.005</td> <td>    0.062</td> <td> 0.950</td> <td>   -0.010</td> <td>    0.010</td>\n",
       "</tr>\n",
       "<tr>\n",
       "  <th>ma.L5</th>  <td>   -0.0046</td> <td>    0.005</td> <td>   -0.960</td> <td> 0.337</td> <td>   -0.014</td> <td>    0.005</td>\n",
       "</tr>\n",
       "<tr>\n",
       "  <th>ma.L6</th>  <td>   -0.0479</td> <td>    0.005</td> <td>  -10.004</td> <td> 0.000</td> <td>   -0.057</td> <td>   -0.039</td>\n",
       "</tr>\n",
       "<tr>\n",
       "  <th>ma.L7</th>  <td>    0.0498</td> <td>    0.005</td> <td>    9.773</td> <td> 0.000</td> <td>    0.040</td> <td>    0.060</td>\n",
       "</tr>\n",
       "<tr>\n",
       "  <th>ma.L8</th>  <td>   -0.0414</td> <td>    0.005</td> <td>   -8.425</td> <td> 0.000</td> <td>   -0.051</td> <td>   -0.032</td>\n",
       "</tr>\n",
       "<tr>\n",
       "  <th>ma.L9</th>  <td>    0.1007</td> <td>    0.005</td> <td>   19.630</td> <td> 0.000</td> <td>    0.091</td> <td>    0.111</td>\n",
       "</tr>\n",
       "<tr>\n",
       "  <th>ma.L10</th> <td>   -0.0548</td> <td>    0.005</td> <td>  -10.673</td> <td> 0.000</td> <td>   -0.065</td> <td>   -0.045</td>\n",
       "</tr>\n",
       "<tr>\n",
       "  <th>sigma2</th> <td>  522.1624</td> <td>    3.224</td> <td>  161.947</td> <td> 0.000</td> <td>  515.843</td> <td>  528.482</td>\n",
       "</tr>\n",
       "</table>\n",
       "<table class=\"simpletable\">\n",
       "<tr>\n",
       "  <th>Ljung-Box (L1) (Q):</th>     <td>0.02</td> <th>  Jarque-Bera (JB):  </th> <td>81055.96</td>\n",
       "</tr>\n",
       "<tr>\n",
       "  <th>Prob(Q):</th>                <td>0.89</td> <th>  Prob(JB):          </th>   <td>0.00</td>  \n",
       "</tr>\n",
       "<tr>\n",
       "  <th>Heteroskedasticity (H):</th> <td>8.17</td> <th>  Skew:              </th>   <td>-0.83</td> \n",
       "</tr>\n",
       "<tr>\n",
       "  <th>Prob(H) (two-sided):</th>    <td>0.00</td> <th>  Kurtosis:          </th>   <td>18.51</td> \n",
       "</tr>\n",
       "</table><br/><br/>Warnings:<br/>[1] Covariance matrix calculated using the outer product of gradients (complex-step).<br/>[2] Covariance matrix is singular or near-singular, with condition number 3.79e+20. Standard errors may be unstable."
      ],
      "text/plain": [
       "<class 'statsmodels.iolib.summary.Summary'>\n",
       "\"\"\"\n",
       "                               SARIMAX Results                                \n",
       "==============================================================================\n",
       "Dep. Variable:                    spx   No. Observations:                 7992\n",
       "Model:                ARIMA(1, 0, 10)   Log Likelihood              -36351.318\n",
       "Date:                Wed, 18 Sep 2024   AIC                          72728.636\n",
       "Time:                        17:56:36   BIC                          72819.456\n",
       "Sample:                    01-07-1994   HQIC                         72759.724\n",
       "                         - 08-26-2024                                         \n",
       "Covariance Type:                  opg                                         \n",
       "==============================================================================\n",
       "                 coef    std err          z      P>|z|      [0.025      0.975]\n",
       "------------------------------------------------------------------------------\n",
       "const       1818.8105   3.45e-05   5.27e+07      0.000    1818.810    1818.811\n",
       "ar.L1          1.0000   7.72e-05   1.29e+04      0.000       1.000       1.000\n",
       "ma.L1         -0.0623      0.005    -13.317      0.000      -0.071      -0.053\n",
       "ma.L2          0.0168      0.004      3.784      0.000       0.008       0.026\n",
       "ma.L3         -0.0193      0.005     -4.290      0.000      -0.028      -0.010\n",
       "ma.L4          0.0003      0.005      0.062      0.950      -0.010       0.010\n",
       "ma.L5         -0.0046      0.005     -0.960      0.337      -0.014       0.005\n",
       "ma.L6         -0.0479      0.005    -10.004      0.000      -0.057      -0.039\n",
       "ma.L7          0.0498      0.005      9.773      0.000       0.040       0.060\n",
       "ma.L8         -0.0414      0.005     -8.425      0.000      -0.051      -0.032\n",
       "ma.L9          0.1007      0.005     19.630      0.000       0.091       0.111\n",
       "ma.L10        -0.0548      0.005    -10.673      0.000      -0.065      -0.045\n",
       "sigma2       522.1624      3.224    161.947      0.000     515.843     528.482\n",
       "===================================================================================\n",
       "Ljung-Box (L1) (Q):                   0.02   Jarque-Bera (JB):             81055.96\n",
       "Prob(Q):                              0.89   Prob(JB):                         0.00\n",
       "Heteroskedasticity (H):               8.17   Skew:                            -0.83\n",
       "Prob(H) (two-sided):                  0.00   Kurtosis:                        18.51\n",
       "===================================================================================\n",
       "\n",
       "Warnings:\n",
       "[1] Covariance matrix calculated using the outer product of gradients (complex-step).\n",
       "[2] Covariance matrix is singular or near-singular, with condition number 3.79e+20. Standard errors may be unstable.\n",
       "\"\"\""
      ]
     },
     "execution_count": 125,
     "metadata": {},
     "output_type": "execute_result"
    }
   ],
   "source": [
    "yfinance_results_ar_1_ma_10.summary()"
   ]
  },
  {
   "cell_type": "markdown",
   "id": "10b6609e",
   "metadata": {},
   "source": [
    "### Pruebas LLR"
   ]
  },
  {
   "cell_type": "code",
   "execution_count": 126,
   "id": "7d3150f1",
   "metadata": {},
   "outputs": [
    {
     "name": "stderr",
     "output_type": "stream",
     "text": [
      "C:\\ProgramData\\Anaconda3\\lib\\site-packages\\statsmodels\\tsa\\statespace\\sarimax.py:966: UserWarning: Non-stationary starting autoregressive parameters found. Using zeros as starting parameters.\n",
      "  warn('Non-stationary starting autoregressive parameters'\n",
      "C:\\ProgramData\\Anaconda3\\lib\\site-packages\\statsmodels\\tsa\\statespace\\sarimax.py:966: UserWarning: Non-stationary starting autoregressive parameters found. Using zeros as starting parameters.\n",
      "  warn('Non-stationary starting autoregressive parameters'\n"
     ]
    },
    {
     "name": "stdout",
     "output_type": "stream",
     "text": [
      "\n",
      "ARMA vs AR  3.035488024490658e-12\n"
     ]
    },
    {
     "name": "stderr",
     "output_type": "stream",
     "text": [
      "C:\\ProgramData\\Anaconda3\\lib\\site-packages\\statsmodels\\tsa\\statespace\\sarimax.py:966: UserWarning: Non-stationary starting autoregressive parameters found. Using zeros as starting parameters.\n",
      "  warn('Non-stationary starting autoregressive parameters'\n"
     ]
    },
    {
     "name": "stdout",
     "output_type": "stream",
     "text": [
      "\n",
      "ARMA vs MA  0.0\n"
     ]
    },
    {
     "name": "stderr",
     "output_type": "stream",
     "text": [
      "C:\\ProgramData\\Anaconda3\\lib\\site-packages\\statsmodels\\tsa\\statespace\\sarimax.py:966: UserWarning: Non-stationary starting autoregressive parameters found. Using zeros as starting parameters.\n",
      "  warn('Non-stationary starting autoregressive parameters'\n",
      "C:\\ProgramData\\Anaconda3\\lib\\site-packages\\statsmodels\\tsa\\statespace\\sarimax.py:966: UserWarning: Non-stationary starting autoregressive parameters found. Using zeros as starting parameters.\n",
      "  warn('Non-stationary starting autoregressive parameters'\n"
     ]
    },
    {
     "name": "stdout",
     "output_type": "stream",
     "text": [
      "\n",
      "ARMA vs ARMA(1,10)  1.9987439360996618e-29\n"
     ]
    }
   ],
   "source": [
    "print(\"\\nARMA vs AR \", LLR_test(yfinance_model_ar_1, yfinance_model_ar_1_ma_1))\n",
    "print(\"\\nARMA vs MA \", LLR_test(yfinance_model_ma_1, yfinance_model_ar_1_ma_1))\n",
    "print(\"\\nARMA vs ARMA(1,10) \", LLR_test(yfinance_model_ar_1_ma_1, yfinance_model_ar_1_ma_10,DF=9))"
   ]
  },
  {
   "cell_type": "markdown",
   "id": "840d8245",
   "metadata": {},
   "source": [
    "## Vuelos"
   ]
  },
  {
   "cell_type": "markdown",
   "id": "a49e43cf",
   "metadata": {},
   "source": [
    "### Modelo ARMA(1,1)"
   ]
  },
  {
   "cell_type": "code",
   "execution_count": 127,
   "id": "4ab49b2e",
   "metadata": {},
   "outputs": [
    {
     "name": "stderr",
     "output_type": "stream",
     "text": [
      "C:\\ProgramData\\Anaconda3\\lib\\site-packages\\statsmodels\\tsa\\base\\tsa_model.py:471: ValueWarning: No frequency information was provided, so inferred frequency MS will be used.\n",
      "  self._init_dates(dates, freq)\n",
      "C:\\ProgramData\\Anaconda3\\lib\\site-packages\\statsmodels\\tsa\\base\\tsa_model.py:471: ValueWarning: No frequency information was provided, so inferred frequency MS will be used.\n",
      "  self._init_dates(dates, freq)\n",
      "C:\\ProgramData\\Anaconda3\\lib\\site-packages\\statsmodels\\tsa\\base\\tsa_model.py:471: ValueWarning: No frequency information was provided, so inferred frequency MS will be used.\n",
      "  self._init_dates(dates, freq)\n"
     ]
    }
   ],
   "source": [
    "airline_model_ar_1_ma_1 = ARIMA(df_airline['Passengers'], order=(1,0,1))"
   ]
  },
  {
   "cell_type": "code",
   "execution_count": 128,
   "id": "bd1f5227",
   "metadata": {},
   "outputs": [],
   "source": [
    "airline_results_ar_1_ma_1 = airline_model_ar_1_ma_1.fit()"
   ]
  },
  {
   "cell_type": "code",
   "execution_count": 129,
   "id": "72d5f433",
   "metadata": {},
   "outputs": [
    {
     "data": {
      "text/html": [
       "<table class=\"simpletable\">\n",
       "<caption>SARIMAX Results</caption>\n",
       "<tr>\n",
       "  <th>Dep. Variable:</th>      <td>Passengers</td>    <th>  No. Observations:  </th>    <td>144</td>  \n",
       "</tr>\n",
       "<tr>\n",
       "  <th>Model:</th>            <td>ARIMA(1, 0, 1)</td>  <th>  Log Likelihood     </th> <td>-700.874</td>\n",
       "</tr>\n",
       "<tr>\n",
       "  <th>Date:</th>            <td>Wed, 18 Sep 2024</td> <th>  AIC                </th> <td>1409.749</td>\n",
       "</tr>\n",
       "<tr>\n",
       "  <th>Time:</th>                <td>17:58:21</td>     <th>  BIC                </th> <td>1421.628</td>\n",
       "</tr>\n",
       "<tr>\n",
       "  <th>Sample:</th>             <td>01-01-1949</td>    <th>  HQIC               </th> <td>1414.576</td>\n",
       "</tr>\n",
       "<tr>\n",
       "  <th></th>                   <td>- 12-01-1960</td>   <th>                     </th>     <td> </td>   \n",
       "</tr>\n",
       "<tr>\n",
       "  <th>Covariance Type:</th>        <td>opg</td>       <th>                     </th>     <td> </td>   \n",
       "</tr>\n",
       "</table>\n",
       "<table class=\"simpletable\">\n",
       "<tr>\n",
       "     <td></td>       <th>coef</th>     <th>std err</th>      <th>z</th>      <th>P>|z|</th>  <th>[0.025</th>    <th>0.975]</th>  \n",
       "</tr>\n",
       "<tr>\n",
       "  <th>const</th>  <td>  280.3009</td> <td>   56.644</td> <td>    4.948</td> <td> 0.000</td> <td>  169.281</td> <td>  391.321</td>\n",
       "</tr>\n",
       "<tr>\n",
       "  <th>ar.L1</th>  <td>    0.9373</td> <td>    0.028</td> <td>   34.009</td> <td> 0.000</td> <td>    0.883</td> <td>    0.991</td>\n",
       "</tr>\n",
       "<tr>\n",
       "  <th>ma.L1</th>  <td>    0.4264</td> <td>    0.076</td> <td>    5.642</td> <td> 0.000</td> <td>    0.278</td> <td>    0.574</td>\n",
       "</tr>\n",
       "<tr>\n",
       "  <th>sigma2</th> <td>  968.4365</td> <td>  112.711</td> <td>    8.592</td> <td> 0.000</td> <td>  747.527</td> <td> 1189.346</td>\n",
       "</tr>\n",
       "</table>\n",
       "<table class=\"simpletable\">\n",
       "<tr>\n",
       "  <th>Ljung-Box (L1) (Q):</th>     <td>0.04</td> <th>  Jarque-Bera (JB):  </th> <td>1.89</td>\n",
       "</tr>\n",
       "<tr>\n",
       "  <th>Prob(Q):</th>                <td>0.84</td> <th>  Prob(JB):          </th> <td>0.39</td>\n",
       "</tr>\n",
       "<tr>\n",
       "  <th>Heteroskedasticity (H):</th> <td>6.81</td> <th>  Skew:              </th> <td>0.26</td>\n",
       "</tr>\n",
       "<tr>\n",
       "  <th>Prob(H) (two-sided):</th>    <td>0.00</td> <th>  Kurtosis:          </th> <td>3.18</td>\n",
       "</tr>\n",
       "</table><br/><br/>Warnings:<br/>[1] Covariance matrix calculated using the outer product of gradients (complex-step)."
      ],
      "text/plain": [
       "<class 'statsmodels.iolib.summary.Summary'>\n",
       "\"\"\"\n",
       "                               SARIMAX Results                                \n",
       "==============================================================================\n",
       "Dep. Variable:             Passengers   No. Observations:                  144\n",
       "Model:                 ARIMA(1, 0, 1)   Log Likelihood                -700.874\n",
       "Date:                Wed, 18 Sep 2024   AIC                           1409.749\n",
       "Time:                        17:58:21   BIC                           1421.628\n",
       "Sample:                    01-01-1949   HQIC                          1414.576\n",
       "                         - 12-01-1960                                         \n",
       "Covariance Type:                  opg                                         \n",
       "==============================================================================\n",
       "                 coef    std err          z      P>|z|      [0.025      0.975]\n",
       "------------------------------------------------------------------------------\n",
       "const        280.3009     56.644      4.948      0.000     169.281     391.321\n",
       "ar.L1          0.9373      0.028     34.009      0.000       0.883       0.991\n",
       "ma.L1          0.4264      0.076      5.642      0.000       0.278       0.574\n",
       "sigma2       968.4365    112.711      8.592      0.000     747.527    1189.346\n",
       "===================================================================================\n",
       "Ljung-Box (L1) (Q):                   0.04   Jarque-Bera (JB):                 1.89\n",
       "Prob(Q):                              0.84   Prob(JB):                         0.39\n",
       "Heteroskedasticity (H):               6.81   Skew:                             0.26\n",
       "Prob(H) (two-sided):                  0.00   Kurtosis:                         3.18\n",
       "===================================================================================\n",
       "\n",
       "Warnings:\n",
       "[1] Covariance matrix calculated using the outer product of gradients (complex-step).\n",
       "\"\"\""
      ]
     },
     "execution_count": 129,
     "metadata": {},
     "output_type": "execute_result"
    }
   ],
   "source": [
    "airline_results_ar_1_ma_1.summary()"
   ]
  },
  {
   "cell_type": "markdown",
   "id": "e955ada5",
   "metadata": {},
   "source": [
    "### Modelos ARMA de mayor complejidad"
   ]
  },
  {
   "cell_type": "code",
   "execution_count": 130,
   "id": "b54cf34e",
   "metadata": {},
   "outputs": [
    {
     "name": "stderr",
     "output_type": "stream",
     "text": [
      "C:\\ProgramData\\Anaconda3\\lib\\site-packages\\statsmodels\\tsa\\base\\tsa_model.py:471: ValueWarning: No frequency information was provided, so inferred frequency MS will be used.\n",
      "  self._init_dates(dates, freq)\n",
      "C:\\ProgramData\\Anaconda3\\lib\\site-packages\\statsmodels\\tsa\\base\\tsa_model.py:471: ValueWarning: No frequency information was provided, so inferred frequency MS will be used.\n",
      "  self._init_dates(dates, freq)\n",
      "C:\\ProgramData\\Anaconda3\\lib\\site-packages\\statsmodels\\tsa\\base\\tsa_model.py:471: ValueWarning: No frequency information was provided, so inferred frequency MS will be used.\n",
      "  self._init_dates(dates, freq)\n"
     ]
    }
   ],
   "source": [
    "airline_model_ar_2_ma_14 = ARIMA(df_airline['Passengers'], order=(2,0,14))"
   ]
  },
  {
   "cell_type": "code",
   "execution_count": 131,
   "id": "f2f5b272",
   "metadata": {},
   "outputs": [
    {
     "name": "stderr",
     "output_type": "stream",
     "text": [
      "C:\\ProgramData\\Anaconda3\\lib\\site-packages\\statsmodels\\tsa\\statespace\\sarimax.py:978: UserWarning: Non-invertible starting MA parameters found. Using zeros as starting parameters.\n",
      "  warn('Non-invertible starting MA parameters found.'\n",
      "C:\\ProgramData\\Anaconda3\\lib\\site-packages\\statsmodels\\base\\model.py:604: ConvergenceWarning: Maximum Likelihood optimization failed to converge. Check mle_retvals\n",
      "  warnings.warn(\"Maximum Likelihood optimization failed to \"\n"
     ]
    }
   ],
   "source": [
    "airline_results_ar_2_ma_14=airline_model_ar_2_ma_14.fit()"
   ]
  },
  {
   "cell_type": "code",
   "execution_count": 132,
   "id": "57f26c57",
   "metadata": {},
   "outputs": [
    {
     "data": {
      "text/html": [
       "<table class=\"simpletable\">\n",
       "<caption>SARIMAX Results</caption>\n",
       "<tr>\n",
       "  <th>Dep. Variable:</th>      <td>Passengers</td>    <th>  No. Observations:  </th>    <td>144</td>  \n",
       "</tr>\n",
       "<tr>\n",
       "  <th>Model:</th>            <td>ARIMA(2, 0, 14)</td> <th>  Log Likelihood     </th> <td>-639.192</td>\n",
       "</tr>\n",
       "<tr>\n",
       "  <th>Date:</th>            <td>Wed, 18 Sep 2024</td> <th>  AIC                </th> <td>1314.384</td>\n",
       "</tr>\n",
       "<tr>\n",
       "  <th>Time:</th>                <td>17:58:24</td>     <th>  BIC                </th> <td>1367.841</td>\n",
       "</tr>\n",
       "<tr>\n",
       "  <th>Sample:</th>             <td>01-01-1949</td>    <th>  HQIC               </th> <td>1336.106</td>\n",
       "</tr>\n",
       "<tr>\n",
       "  <th></th>                   <td>- 12-01-1960</td>   <th>                     </th>     <td> </td>   \n",
       "</tr>\n",
       "<tr>\n",
       "  <th>Covariance Type:</th>        <td>opg</td>       <th>                     </th>     <td> </td>   \n",
       "</tr>\n",
       "</table>\n",
       "<table class=\"simpletable\">\n",
       "<tr>\n",
       "     <td></td>       <th>coef</th>     <th>std err</th>      <th>z</th>      <th>P>|z|</th>  <th>[0.025</th>    <th>0.975]</th>  \n",
       "</tr>\n",
       "<tr>\n",
       "  <th>const</th>  <td>  280.3019</td> <td> 2388.853</td> <td>    0.117</td> <td> 0.907</td> <td>-4401.764</td> <td> 4962.368</td>\n",
       "</tr>\n",
       "<tr>\n",
       "  <th>ar.L1</th>  <td>    0.1277</td> <td>    0.191</td> <td>    0.668</td> <td> 0.504</td> <td>   -0.247</td> <td>    0.502</td>\n",
       "</tr>\n",
       "<tr>\n",
       "  <th>ar.L2</th>  <td>    0.8703</td> <td>    0.188</td> <td>    4.635</td> <td> 0.000</td> <td>    0.502</td> <td>    1.238</td>\n",
       "</tr>\n",
       "<tr>\n",
       "  <th>ma.L1</th>  <td>    1.0317</td> <td>  145.308</td> <td>    0.007</td> <td> 0.994</td> <td> -283.766</td> <td>  285.830</td>\n",
       "</tr>\n",
       "<tr>\n",
       "  <th>ma.L2</th>  <td>    0.0140</td> <td>  232.579</td> <td> 6.02e-05</td> <td> 1.000</td> <td> -455.832</td> <td>  455.860</td>\n",
       "</tr>\n",
       "<tr>\n",
       "  <th>ma.L3</th>  <td>   -0.2208</td> <td>   98.978</td> <td>   -0.002</td> <td> 0.998</td> <td> -194.213</td> <td>  193.772</td>\n",
       "</tr>\n",
       "<tr>\n",
       "  <th>ma.L4</th>  <td>   -0.3226</td> <td>  135.177</td> <td>   -0.002</td> <td> 0.998</td> <td> -265.264</td> <td>  264.619</td>\n",
       "</tr>\n",
       "<tr>\n",
       "  <th>ma.L5</th>  <td>   -0.2962</td> <td>   97.266</td> <td>   -0.003</td> <td> 0.998</td> <td> -190.933</td> <td>  190.341</td>\n",
       "</tr>\n",
       "<tr>\n",
       "  <th>ma.L6</th>  <td>   -0.1556</td> <td>   53.742</td> <td>   -0.003</td> <td> 0.998</td> <td> -105.487</td> <td>  105.176</td>\n",
       "</tr>\n",
       "<tr>\n",
       "  <th>ma.L7</th>  <td>   -0.0830</td> <td>   49.870</td> <td>   -0.002</td> <td> 0.999</td> <td>  -97.827</td> <td>   97.661</td>\n",
       "</tr>\n",
       "<tr>\n",
       "  <th>ma.L8</th>  <td>   -0.2737</td> <td>   52.794</td> <td>   -0.005</td> <td> 0.996</td> <td> -103.749</td> <td>  103.202</td>\n",
       "</tr>\n",
       "<tr>\n",
       "  <th>ma.L9</th>  <td>   -0.3246</td> <td>  135.959</td> <td>   -0.002</td> <td> 0.998</td> <td> -266.800</td> <td>  266.150</td>\n",
       "</tr>\n",
       "<tr>\n",
       "  <th>ma.L10</th> <td>   -0.2346</td> <td>   82.480</td> <td>   -0.003</td> <td> 0.998</td> <td> -161.892</td> <td>  161.423</td>\n",
       "</tr>\n",
       "<tr>\n",
       "  <th>ma.L11</th> <td>   -0.2702</td> <td>  201.446</td> <td>   -0.001</td> <td> 0.999</td> <td> -395.098</td> <td>  394.557</td>\n",
       "</tr>\n",
       "<tr>\n",
       "  <th>ma.L12</th> <td>    0.6886</td> <td>  199.405</td> <td>    0.003</td> <td> 0.997</td> <td> -390.138</td> <td>  391.515</td>\n",
       "</tr>\n",
       "<tr>\n",
       "  <th>ma.L13</th> <td>    1.1910</td> <td>   46.412</td> <td>    0.026</td> <td> 0.980</td> <td>  -89.775</td> <td>   92.157</td>\n",
       "</tr>\n",
       "<tr>\n",
       "  <th>ma.L14</th> <td>    0.3189</td> <td>    0.191</td> <td>    1.668</td> <td> 0.095</td> <td>   -0.056</td> <td>    0.694</td>\n",
       "</tr>\n",
       "<tr>\n",
       "  <th>sigma2</th> <td>  338.3252</td> <td>    2.745</td> <td>  123.274</td> <td> 0.000</td> <td>  332.946</td> <td>  343.704</td>\n",
       "</tr>\n",
       "</table>\n",
       "<table class=\"simpletable\">\n",
       "<tr>\n",
       "  <th>Ljung-Box (L1) (Q):</th>     <td>0.00</td> <th>  Jarque-Bera (JB):  </th> <td>12.42</td>\n",
       "</tr>\n",
       "<tr>\n",
       "  <th>Prob(Q):</th>                <td>0.99</td> <th>  Prob(JB):          </th> <td>0.00</td> \n",
       "</tr>\n",
       "<tr>\n",
       "  <th>Heteroskedasticity (H):</th> <td>6.64</td> <th>  Skew:              </th> <td>-0.03</td>\n",
       "</tr>\n",
       "<tr>\n",
       "  <th>Prob(H) (two-sided):</th>    <td>0.00</td> <th>  Kurtosis:          </th> <td>4.44</td> \n",
       "</tr>\n",
       "</table><br/><br/>Warnings:<br/>[1] Covariance matrix calculated using the outer product of gradients (complex-step).<br/>[2] Covariance matrix is singular or near-singular, with condition number 1.07e+21. Standard errors may be unstable."
      ],
      "text/plain": [
       "<class 'statsmodels.iolib.summary.Summary'>\n",
       "\"\"\"\n",
       "                               SARIMAX Results                                \n",
       "==============================================================================\n",
       "Dep. Variable:             Passengers   No. Observations:                  144\n",
       "Model:                ARIMA(2, 0, 14)   Log Likelihood                -639.192\n",
       "Date:                Wed, 18 Sep 2024   AIC                           1314.384\n",
       "Time:                        17:58:24   BIC                           1367.841\n",
       "Sample:                    01-01-1949   HQIC                          1336.106\n",
       "                         - 12-01-1960                                         \n",
       "Covariance Type:                  opg                                         \n",
       "==============================================================================\n",
       "                 coef    std err          z      P>|z|      [0.025      0.975]\n",
       "------------------------------------------------------------------------------\n",
       "const        280.3019   2388.853      0.117      0.907   -4401.764    4962.368\n",
       "ar.L1          0.1277      0.191      0.668      0.504      -0.247       0.502\n",
       "ar.L2          0.8703      0.188      4.635      0.000       0.502       1.238\n",
       "ma.L1          1.0317    145.308      0.007      0.994    -283.766     285.830\n",
       "ma.L2          0.0140    232.579   6.02e-05      1.000    -455.832     455.860\n",
       "ma.L3         -0.2208     98.978     -0.002      0.998    -194.213     193.772\n",
       "ma.L4         -0.3226    135.177     -0.002      0.998    -265.264     264.619\n",
       "ma.L5         -0.2962     97.266     -0.003      0.998    -190.933     190.341\n",
       "ma.L6         -0.1556     53.742     -0.003      0.998    -105.487     105.176\n",
       "ma.L7         -0.0830     49.870     -0.002      0.999     -97.827      97.661\n",
       "ma.L8         -0.2737     52.794     -0.005      0.996    -103.749     103.202\n",
       "ma.L9         -0.3246    135.959     -0.002      0.998    -266.800     266.150\n",
       "ma.L10        -0.2346     82.480     -0.003      0.998    -161.892     161.423\n",
       "ma.L11        -0.2702    201.446     -0.001      0.999    -395.098     394.557\n",
       "ma.L12         0.6886    199.405      0.003      0.997    -390.138     391.515\n",
       "ma.L13         1.1910     46.412      0.026      0.980     -89.775      92.157\n",
       "ma.L14         0.3189      0.191      1.668      0.095      -0.056       0.694\n",
       "sigma2       338.3252      2.745    123.274      0.000     332.946     343.704\n",
       "===================================================================================\n",
       "Ljung-Box (L1) (Q):                   0.00   Jarque-Bera (JB):                12.42\n",
       "Prob(Q):                              0.99   Prob(JB):                         0.00\n",
       "Heteroskedasticity (H):               6.64   Skew:                            -0.03\n",
       "Prob(H) (two-sided):                  0.00   Kurtosis:                         4.44\n",
       "===================================================================================\n",
       "\n",
       "Warnings:\n",
       "[1] Covariance matrix calculated using the outer product of gradients (complex-step).\n",
       "[2] Covariance matrix is singular or near-singular, with condition number 1.07e+21. Standard errors may be unstable.\n",
       "\"\"\""
      ]
     },
     "execution_count": 132,
     "metadata": {},
     "output_type": "execute_result"
    }
   ],
   "source": [
    "airline_results_ar_2_ma_14.summary()"
   ]
  },
  {
   "cell_type": "markdown",
   "id": "87f4d192",
   "metadata": {},
   "source": [
    "### Pruebas LLR"
   ]
  },
  {
   "cell_type": "code",
   "execution_count": 133,
   "id": "22b24326",
   "metadata": {},
   "outputs": [
    {
     "name": "stdout",
     "output_type": "stream",
     "text": [
      "\n",
      "ARMA vs AR  6.1794137348884034e-06\n"
     ]
    },
    {
     "name": "stderr",
     "output_type": "stream",
     "text": [
      "C:\\ProgramData\\Anaconda3\\lib\\site-packages\\statsmodels\\tsa\\statespace\\sarimax.py:978: UserWarning: Non-invertible starting MA parameters found. Using zeros as starting parameters.\n",
      "  warn('Non-invertible starting MA parameters found.'\n"
     ]
    },
    {
     "name": "stdout",
     "output_type": "stream",
     "text": [
      "\n",
      "ARMA vs MA  7.8499746710177e-48\n"
     ]
    },
    {
     "name": "stderr",
     "output_type": "stream",
     "text": [
      "C:\\ProgramData\\Anaconda3\\lib\\site-packages\\statsmodels\\tsa\\statespace\\sarimax.py:978: UserWarning: Non-invertible starting MA parameters found. Using zeros as starting parameters.\n",
      "  warn('Non-invertible starting MA parameters found.'\n"
     ]
    },
    {
     "name": "stdout",
     "output_type": "stream",
     "text": [
      "\n",
      "ARMA vs ARMA(2,14)  4.3469021857930366e-20\n"
     ]
    },
    {
     "name": "stderr",
     "output_type": "stream",
     "text": [
      "C:\\ProgramData\\Anaconda3\\lib\\site-packages\\statsmodels\\base\\model.py:604: ConvergenceWarning: Maximum Likelihood optimization failed to converge. Check mle_retvals\n",
      "  warnings.warn(\"Maximum Likelihood optimization failed to \"\n"
     ]
    }
   ],
   "source": [
    "print(\"\\nARMA vs AR \", LLR_test(airline_model_ar_1, airline_model_ar_1_ma_1))\n",
    "print(\"\\nARMA vs MA \", LLR_test(airline_model_ma_1, airline_model_ar_1_ma_1))\n",
    "print(\"\\nARMA vs ARMA(2,14) \", LLR_test(airline_model_ar_1_ma_1, airline_model_ar_2_ma_14,DF=13))"
   ]
  },
  {
   "cell_type": "markdown",
   "id": "8297017b",
   "metadata": {},
   "source": [
    "## Ventas"
   ]
  },
  {
   "cell_type": "markdown",
   "id": "c23b92b8",
   "metadata": {},
   "source": [
    "### Modelo ARMA (1,1)"
   ]
  },
  {
   "cell_type": "code",
   "execution_count": 134,
   "id": "971e4499",
   "metadata": {},
   "outputs": [
    {
     "name": "stderr",
     "output_type": "stream",
     "text": [
      "C:\\ProgramData\\Anaconda3\\lib\\site-packages\\statsmodels\\tsa\\base\\tsa_model.py:471: ValueWarning: No frequency information was provided, so inferred frequency D will be used.\n",
      "  self._init_dates(dates, freq)\n",
      "C:\\ProgramData\\Anaconda3\\lib\\site-packages\\statsmodels\\tsa\\base\\tsa_model.py:471: ValueWarning: No frequency information was provided, so inferred frequency D will be used.\n",
      "  self._init_dates(dates, freq)\n",
      "C:\\ProgramData\\Anaconda3\\lib\\site-packages\\statsmodels\\tsa\\base\\tsa_model.py:471: ValueWarning: No frequency information was provided, so inferred frequency D will be used.\n",
      "  self._init_dates(dates, freq)\n"
     ]
    }
   ],
   "source": [
    "ventas_model_ar_1_ma_1 = ARIMA(df_ventas['Ventas'], order=(1,0,1))"
   ]
  },
  {
   "cell_type": "code",
   "execution_count": 135,
   "id": "5c933e0b",
   "metadata": {},
   "outputs": [],
   "source": [
    "ventas_results_ar_1_ma_1 = ventas_model_ar_1_ma_1.fit()"
   ]
  },
  {
   "cell_type": "code",
   "execution_count": 136,
   "id": "7227c969",
   "metadata": {},
   "outputs": [
    {
     "data": {
      "text/html": [
       "<table class=\"simpletable\">\n",
       "<caption>SARIMAX Results</caption>\n",
       "<tr>\n",
       "  <th>Dep. Variable:</th>        <td>Ventas</td>      <th>  No. Observations:  </th>    <td>365</td>   \n",
       "</tr>\n",
       "<tr>\n",
       "  <th>Model:</th>            <td>ARIMA(1, 0, 1)</td>  <th>  Log Likelihood     </th> <td>-3400.992</td>\n",
       "</tr>\n",
       "<tr>\n",
       "  <th>Date:</th>            <td>Wed, 18 Sep 2024</td> <th>  AIC                </th> <td>6809.984</td> \n",
       "</tr>\n",
       "<tr>\n",
       "  <th>Time:</th>                <td>17:58:28</td>     <th>  BIC                </th> <td>6825.583</td> \n",
       "</tr>\n",
       "<tr>\n",
       "  <th>Sample:</th>             <td>01-01-2023</td>    <th>  HQIC               </th> <td>6816.183</td> \n",
       "</tr>\n",
       "<tr>\n",
       "  <th></th>                   <td>- 12-31-2023</td>   <th>                     </th>     <td> </td>    \n",
       "</tr>\n",
       "<tr>\n",
       "  <th>Covariance Type:</th>        <td>opg</td>       <th>                     </th>     <td> </td>    \n",
       "</tr>\n",
       "</table>\n",
       "<table class=\"simpletable\">\n",
       "<tr>\n",
       "     <td></td>       <th>coef</th>     <th>std err</th>      <th>z</th>      <th>P>|z|</th>  <th>[0.025</th>    <th>0.975]</th>  \n",
       "</tr>\n",
       "<tr>\n",
       "  <th>const</th>  <td> 1.883e+04</td> <td>  269.040</td> <td>   69.995</td> <td> 0.000</td> <td> 1.83e+04</td> <td> 1.94e+04</td>\n",
       "</tr>\n",
       "<tr>\n",
       "  <th>ar.L1</th>  <td>    0.4446</td> <td>    0.104</td> <td>    4.259</td> <td> 0.000</td> <td>    0.240</td> <td>    0.649</td>\n",
       "</tr>\n",
       "<tr>\n",
       "  <th>ma.L1</th>  <td>    0.0436</td> <td>    0.120</td> <td>    0.362</td> <td> 0.717</td> <td>   -0.192</td> <td>    0.279</td>\n",
       "</tr>\n",
       "<tr>\n",
       "  <th>sigma2</th> <td> 7.254e+06</td> <td> 5.19e+05</td> <td>   13.964</td> <td> 0.000</td> <td> 6.24e+06</td> <td> 8.27e+06</td>\n",
       "</tr>\n",
       "</table>\n",
       "<table class=\"simpletable\">\n",
       "<tr>\n",
       "  <th>Ljung-Box (L1) (Q):</th>     <td>0.00</td> <th>  Jarque-Bera (JB):  </th> <td>6.34</td> \n",
       "</tr>\n",
       "<tr>\n",
       "  <th>Prob(Q):</th>                <td>0.98</td> <th>  Prob(JB):          </th> <td>0.04</td> \n",
       "</tr>\n",
       "<tr>\n",
       "  <th>Heteroskedasticity (H):</th> <td>0.95</td> <th>  Skew:              </th> <td>-0.30</td>\n",
       "</tr>\n",
       "<tr>\n",
       "  <th>Prob(H) (two-sided):</th>    <td>0.78</td> <th>  Kurtosis:          </th> <td>3.25</td> \n",
       "</tr>\n",
       "</table><br/><br/>Warnings:<br/>[1] Covariance matrix calculated using the outer product of gradients (complex-step)."
      ],
      "text/plain": [
       "<class 'statsmodels.iolib.summary.Summary'>\n",
       "\"\"\"\n",
       "                               SARIMAX Results                                \n",
       "==============================================================================\n",
       "Dep. Variable:                 Ventas   No. Observations:                  365\n",
       "Model:                 ARIMA(1, 0, 1)   Log Likelihood               -3400.992\n",
       "Date:                Wed, 18 Sep 2024   AIC                           6809.984\n",
       "Time:                        17:58:28   BIC                           6825.583\n",
       "Sample:                    01-01-2023   HQIC                          6816.183\n",
       "                         - 12-31-2023                                         \n",
       "Covariance Type:                  opg                                         \n",
       "==============================================================================\n",
       "                 coef    std err          z      P>|z|      [0.025      0.975]\n",
       "------------------------------------------------------------------------------\n",
       "const       1.883e+04    269.040     69.995      0.000    1.83e+04    1.94e+04\n",
       "ar.L1          0.4446      0.104      4.259      0.000       0.240       0.649\n",
       "ma.L1          0.0436      0.120      0.362      0.717      -0.192       0.279\n",
       "sigma2      7.254e+06   5.19e+05     13.964      0.000    6.24e+06    8.27e+06\n",
       "===================================================================================\n",
       "Ljung-Box (L1) (Q):                   0.00   Jarque-Bera (JB):                 6.34\n",
       "Prob(Q):                              0.98   Prob(JB):                         0.04\n",
       "Heteroskedasticity (H):               0.95   Skew:                            -0.30\n",
       "Prob(H) (two-sided):                  0.78   Kurtosis:                         3.25\n",
       "===================================================================================\n",
       "\n",
       "Warnings:\n",
       "[1] Covariance matrix calculated using the outer product of gradients (complex-step).\n",
       "\"\"\""
      ]
     },
     "execution_count": 136,
     "metadata": {},
     "output_type": "execute_result"
    }
   ],
   "source": [
    "ventas_results_ar_1_ma_1.summary()"
   ]
  },
  {
   "cell_type": "markdown",
   "id": "e873c4d5",
   "metadata": {},
   "source": [
    "### Modelos ARMA de mayor complejidad"
   ]
  },
  {
   "cell_type": "code",
   "execution_count": 137,
   "id": "307ba81c",
   "metadata": {},
   "outputs": [
    {
     "name": "stderr",
     "output_type": "stream",
     "text": [
      "C:\\ProgramData\\Anaconda3\\lib\\site-packages\\statsmodels\\tsa\\base\\tsa_model.py:471: ValueWarning: No frequency information was provided, so inferred frequency D will be used.\n",
      "  self._init_dates(dates, freq)\n",
      "C:\\ProgramData\\Anaconda3\\lib\\site-packages\\statsmodels\\tsa\\base\\tsa_model.py:471: ValueWarning: No frequency information was provided, so inferred frequency D will be used.\n",
      "  self._init_dates(dates, freq)\n",
      "C:\\ProgramData\\Anaconda3\\lib\\site-packages\\statsmodels\\tsa\\base\\tsa_model.py:471: ValueWarning: No frequency information was provided, so inferred frequency D will be used.\n",
      "  self._init_dates(dates, freq)\n"
     ]
    }
   ],
   "source": [
    "ventas_model_ar_1_ma_7 = ARIMA(df_ventas['Ventas'], order=(1,0,7))"
   ]
  },
  {
   "cell_type": "code",
   "execution_count": 138,
   "id": "82103f50",
   "metadata": {},
   "outputs": [],
   "source": [
    "ventas_results_ar_1_ma_7 = ventas_model_ar_1_ma_7.fit()"
   ]
  },
  {
   "cell_type": "code",
   "execution_count": 139,
   "id": "80a34b4d",
   "metadata": {},
   "outputs": [
    {
     "data": {
      "text/html": [
       "<table class=\"simpletable\">\n",
       "<caption>SARIMAX Results</caption>\n",
       "<tr>\n",
       "  <th>Dep. Variable:</th>        <td>Ventas</td>      <th>  No. Observations:  </th>    <td>365</td>   \n",
       "</tr>\n",
       "<tr>\n",
       "  <th>Model:</th>            <td>ARIMA(1, 0, 7)</td>  <th>  Log Likelihood     </th> <td>-3374.416</td>\n",
       "</tr>\n",
       "<tr>\n",
       "  <th>Date:</th>            <td>Wed, 18 Sep 2024</td> <th>  AIC                </th> <td>6768.831</td> \n",
       "</tr>\n",
       "<tr>\n",
       "  <th>Time:</th>                <td>17:58:29</td>     <th>  BIC                </th> <td>6807.830</td> \n",
       "</tr>\n",
       "<tr>\n",
       "  <th>Sample:</th>             <td>01-01-2023</td>    <th>  HQIC               </th> <td>6784.330</td> \n",
       "</tr>\n",
       "<tr>\n",
       "  <th></th>                   <td>- 12-31-2023</td>   <th>                     </th>     <td> </td>    \n",
       "</tr>\n",
       "<tr>\n",
       "  <th>Covariance Type:</th>        <td>opg</td>       <th>                     </th>     <td> </td>    \n",
       "</tr>\n",
       "</table>\n",
       "<table class=\"simpletable\">\n",
       "<tr>\n",
       "     <td></td>       <th>coef</th>     <th>std err</th>      <th>z</th>      <th>P>|z|</th>  <th>[0.025</th>    <th>0.975]</th>  \n",
       "</tr>\n",
       "<tr>\n",
       "  <th>const</th>  <td> 1.883e+04</td> <td>  412.390</td> <td>   45.664</td> <td> 0.000</td> <td>  1.8e+04</td> <td> 1.96e+04</td>\n",
       "</tr>\n",
       "<tr>\n",
       "  <th>ar.L1</th>  <td>    0.8355</td> <td>    0.065</td> <td>   12.930</td> <td> 0.000</td> <td>    0.709</td> <td>    0.962</td>\n",
       "</tr>\n",
       "<tr>\n",
       "  <th>ma.L1</th>  <td>   -0.4519</td> <td>    0.087</td> <td>   -5.180</td> <td> 0.000</td> <td>   -0.623</td> <td>   -0.281</td>\n",
       "</tr>\n",
       "<tr>\n",
       "  <th>ma.L2</th>  <td>   -0.1416</td> <td>    0.059</td> <td>   -2.408</td> <td> 0.016</td> <td>   -0.257</td> <td>   -0.026</td>\n",
       "</tr>\n",
       "<tr>\n",
       "  <th>ma.L3</th>  <td>   -0.1753</td> <td>    0.061</td> <td>   -2.875</td> <td> 0.004</td> <td>   -0.295</td> <td>   -0.056</td>\n",
       "</tr>\n",
       "<tr>\n",
       "  <th>ma.L4</th>  <td>   -0.0313</td> <td>    0.053</td> <td>   -0.594</td> <td> 0.553</td> <td>   -0.135</td> <td>    0.072</td>\n",
       "</tr>\n",
       "<tr>\n",
       "  <th>ma.L5</th>  <td>    0.0779</td> <td>    0.063</td> <td>    1.237</td> <td> 0.216</td> <td>   -0.045</td> <td>    0.201</td>\n",
       "</tr>\n",
       "<tr>\n",
       "  <th>ma.L6</th>  <td>    0.1331</td> <td>    0.065</td> <td>    2.058</td> <td> 0.040</td> <td>    0.006</td> <td>    0.260</td>\n",
       "</tr>\n",
       "<tr>\n",
       "  <th>ma.L7</th>  <td>    0.1082</td> <td>    0.066</td> <td>    1.641</td> <td> 0.101</td> <td>   -0.021</td> <td>    0.237</td>\n",
       "</tr>\n",
       "<tr>\n",
       "  <th>sigma2</th> <td> 6.292e+06</td> <td> 4.57e+05</td> <td>   13.756</td> <td> 0.000</td> <td>  5.4e+06</td> <td> 7.19e+06</td>\n",
       "</tr>\n",
       "</table>\n",
       "<table class=\"simpletable\">\n",
       "<tr>\n",
       "  <th>Ljung-Box (L1) (Q):</th>     <td>0.03</td> <th>  Jarque-Bera (JB):  </th> <td>4.24</td> \n",
       "</tr>\n",
       "<tr>\n",
       "  <th>Prob(Q):</th>                <td>0.86</td> <th>  Prob(JB):          </th> <td>0.12</td> \n",
       "</tr>\n",
       "<tr>\n",
       "  <th>Heteroskedasticity (H):</th> <td>0.97</td> <th>  Skew:              </th> <td>-0.22</td>\n",
       "</tr>\n",
       "<tr>\n",
       "  <th>Prob(H) (two-sided):</th>    <td>0.86</td> <th>  Kurtosis:          </th> <td>3.29</td> \n",
       "</tr>\n",
       "</table><br/><br/>Warnings:<br/>[1] Covariance matrix calculated using the outer product of gradients (complex-step).<br/>[2] Covariance matrix is singular or near-singular, with condition number 6.36e+14. Standard errors may be unstable."
      ],
      "text/plain": [
       "<class 'statsmodels.iolib.summary.Summary'>\n",
       "\"\"\"\n",
       "                               SARIMAX Results                                \n",
       "==============================================================================\n",
       "Dep. Variable:                 Ventas   No. Observations:                  365\n",
       "Model:                 ARIMA(1, 0, 7)   Log Likelihood               -3374.416\n",
       "Date:                Wed, 18 Sep 2024   AIC                           6768.831\n",
       "Time:                        17:58:29   BIC                           6807.830\n",
       "Sample:                    01-01-2023   HQIC                          6784.330\n",
       "                         - 12-31-2023                                         \n",
       "Covariance Type:                  opg                                         \n",
       "==============================================================================\n",
       "                 coef    std err          z      P>|z|      [0.025      0.975]\n",
       "------------------------------------------------------------------------------\n",
       "const       1.883e+04    412.390     45.664      0.000     1.8e+04    1.96e+04\n",
       "ar.L1          0.8355      0.065     12.930      0.000       0.709       0.962\n",
       "ma.L1         -0.4519      0.087     -5.180      0.000      -0.623      -0.281\n",
       "ma.L2         -0.1416      0.059     -2.408      0.016      -0.257      -0.026\n",
       "ma.L3         -0.1753      0.061     -2.875      0.004      -0.295      -0.056\n",
       "ma.L4         -0.0313      0.053     -0.594      0.553      -0.135       0.072\n",
       "ma.L5          0.0779      0.063      1.237      0.216      -0.045       0.201\n",
       "ma.L6          0.1331      0.065      2.058      0.040       0.006       0.260\n",
       "ma.L7          0.1082      0.066      1.641      0.101      -0.021       0.237\n",
       "sigma2      6.292e+06   4.57e+05     13.756      0.000     5.4e+06    7.19e+06\n",
       "===================================================================================\n",
       "Ljung-Box (L1) (Q):                   0.03   Jarque-Bera (JB):                 4.24\n",
       "Prob(Q):                              0.86   Prob(JB):                         0.12\n",
       "Heteroskedasticity (H):               0.97   Skew:                            -0.22\n",
       "Prob(H) (two-sided):                  0.86   Kurtosis:                         3.29\n",
       "===================================================================================\n",
       "\n",
       "Warnings:\n",
       "[1] Covariance matrix calculated using the outer product of gradients (complex-step).\n",
       "[2] Covariance matrix is singular or near-singular, with condition number 6.36e+14. Standard errors may be unstable.\n",
       "\"\"\""
      ]
     },
     "execution_count": 139,
     "metadata": {},
     "output_type": "execute_result"
    }
   ],
   "source": [
    "ventas_results_ar_1_ma_7.summary()"
   ]
  },
  {
   "cell_type": "markdown",
   "id": "14ee7d59",
   "metadata": {},
   "source": [
    "### Pruebas LLR"
   ]
  },
  {
   "cell_type": "code",
   "execution_count": 140,
   "id": "b67b5140",
   "metadata": {},
   "outputs": [
    {
     "name": "stdout",
     "output_type": "stream",
     "text": [
      "\n",
      "ARMA vs AR  0.6243078781746039\n",
      "\n",
      "ARMA vs MA  1.7117539232796553e-05\n",
      "\n",
      "ARMA vs ARMA(1,7)  1.0076089386041563e-08\n"
     ]
    }
   ],
   "source": [
    "print(\"\\nARMA vs AR \", LLR_test(ventas_model_ar_1, ventas_model_ar_1_ma_1))\n",
    "print(\"\\nARMA vs MA \", LLR_test(ventas_model_ma_1, ventas_model_ar_1_ma_1))\n",
    "print(\"\\nARMA vs ARMA(1,7) \", LLR_test(ventas_model_ar_1_ma_1, ventas_model_ar_1_ma_7,DF=8))"
   ]
  },
  {
   "cell_type": "markdown",
   "id": "6efdb66e",
   "metadata": {},
   "source": [
    "## Datos macroeconómicos de EEUU: PBI real"
   ]
  },
  {
   "cell_type": "markdown",
   "id": "f71b2514",
   "metadata": {},
   "source": [
    "### Modelo ARMA(1,1)"
   ]
  },
  {
   "cell_type": "code",
   "execution_count": 141,
   "id": "07a2df26",
   "metadata": {},
   "outputs": [
    {
     "name": "stderr",
     "output_type": "stream",
     "text": [
      "C:\\ProgramData\\Anaconda3\\lib\\site-packages\\statsmodels\\tsa\\base\\tsa_model.py:471: ValueWarning: No frequency information was provided, so inferred frequency Q-DEC will be used.\n",
      "  self._init_dates(dates, freq)\n",
      "C:\\ProgramData\\Anaconda3\\lib\\site-packages\\statsmodels\\tsa\\base\\tsa_model.py:471: ValueWarning: No frequency information was provided, so inferred frequency Q-DEC will be used.\n",
      "  self._init_dates(dates, freq)\n",
      "C:\\ProgramData\\Anaconda3\\lib\\site-packages\\statsmodels\\tsa\\base\\tsa_model.py:471: ValueWarning: No frequency information was provided, so inferred frequency Q-DEC will be used.\n",
      "  self._init_dates(dates, freq)\n"
     ]
    }
   ],
   "source": [
    "realgdp_model_ar_1_ma_1 = ARIMA(df_macrodata['realgdp'], order=(1,0,1))"
   ]
  },
  {
   "cell_type": "code",
   "execution_count": 142,
   "id": "86fb76f8",
   "metadata": {},
   "outputs": [
    {
     "name": "stderr",
     "output_type": "stream",
     "text": [
      "C:\\ProgramData\\Anaconda3\\lib\\site-packages\\statsmodels\\tsa\\statespace\\sarimax.py:966: UserWarning: Non-stationary starting autoregressive parameters found. Using zeros as starting parameters.\n",
      "  warn('Non-stationary starting autoregressive parameters'\n"
     ]
    }
   ],
   "source": [
    "realgdp_results_ar_1_ma_1 = realgdp_model_ar_1_ma_1.fit()"
   ]
  },
  {
   "cell_type": "code",
   "execution_count": 143,
   "id": "786bebdc",
   "metadata": {},
   "outputs": [
    {
     "data": {
      "text/html": [
       "<table class=\"simpletable\">\n",
       "<caption>SARIMAX Results</caption>\n",
       "<tr>\n",
       "  <th>Dep. Variable:</th>        <td>realgdp</td>     <th>  No. Observations:  </th>    <td>203</td>   \n",
       "</tr>\n",
       "<tr>\n",
       "  <th>Model:</th>            <td>ARIMA(1, 0, 1)</td>  <th>  Log Likelihood     </th> <td>-1148.197</td>\n",
       "</tr>\n",
       "<tr>\n",
       "  <th>Date:</th>            <td>Wed, 18 Sep 2024</td> <th>  AIC                </th> <td>2304.394</td> \n",
       "</tr>\n",
       "<tr>\n",
       "  <th>Time:</th>                <td>17:58:31</td>     <th>  BIC                </th> <td>2317.647</td> \n",
       "</tr>\n",
       "<tr>\n",
       "  <th>Sample:</th>             <td>03-31-1959</td>    <th>  HQIC               </th> <td>2309.755</td> \n",
       "</tr>\n",
       "<tr>\n",
       "  <th></th>                   <td>- 09-30-2009</td>   <th>                     </th>     <td> </td>    \n",
       "</tr>\n",
       "<tr>\n",
       "  <th>Covariance Type:</th>        <td>opg</td>       <th>                     </th>     <td> </td>    \n",
       "</tr>\n",
       "</table>\n",
       "<table class=\"simpletable\">\n",
       "<tr>\n",
       "     <td></td>       <th>coef</th>     <th>std err</th>      <th>z</th>      <th>P>|z|</th>  <th>[0.025</th>    <th>0.975]</th>  \n",
       "</tr>\n",
       "<tr>\n",
       "  <th>const</th>  <td> 7221.1945</td> <td> 1.03e+04</td> <td>    0.698</td> <td> 0.485</td> <td> -1.3e+04</td> <td> 2.75e+04</td>\n",
       "</tr>\n",
       "<tr>\n",
       "  <th>ar.L1</th>  <td>    0.9998</td> <td>    0.002</td> <td>  471.725</td> <td> 0.000</td> <td>    0.996</td> <td>    1.004</td>\n",
       "</tr>\n",
       "<tr>\n",
       "  <th>ma.L1</th>  <td>    0.4169</td> <td>    0.061</td> <td>    6.811</td> <td> 0.000</td> <td>    0.297</td> <td>    0.537</td>\n",
       "</tr>\n",
       "<tr>\n",
       "  <th>sigma2</th> <td> 4586.3388</td> <td>  449.972</td> <td>   10.193</td> <td> 0.000</td> <td> 3704.410</td> <td> 5468.268</td>\n",
       "</tr>\n",
       "</table>\n",
       "<table class=\"simpletable\">\n",
       "<tr>\n",
       "  <th>Ljung-Box (L1) (Q):</th>     <td>2.09</td> <th>  Jarque-Bera (JB):  </th> <td>19.03</td>\n",
       "</tr>\n",
       "<tr>\n",
       "  <th>Prob(Q):</th>                <td>0.15</td> <th>  Prob(JB):          </th> <td>0.00</td> \n",
       "</tr>\n",
       "<tr>\n",
       "  <th>Heteroskedasticity (H):</th> <td>3.14</td> <th>  Skew:              </th> <td>-0.34</td>\n",
       "</tr>\n",
       "<tr>\n",
       "  <th>Prob(H) (two-sided):</th>    <td>0.00</td> <th>  Kurtosis:          </th> <td>4.33</td> \n",
       "</tr>\n",
       "</table><br/><br/>Warnings:<br/>[1] Covariance matrix calculated using the outer product of gradients (complex-step)."
      ],
      "text/plain": [
       "<class 'statsmodels.iolib.summary.Summary'>\n",
       "\"\"\"\n",
       "                               SARIMAX Results                                \n",
       "==============================================================================\n",
       "Dep. Variable:                realgdp   No. Observations:                  203\n",
       "Model:                 ARIMA(1, 0, 1)   Log Likelihood               -1148.197\n",
       "Date:                Wed, 18 Sep 2024   AIC                           2304.394\n",
       "Time:                        17:58:31   BIC                           2317.647\n",
       "Sample:                    03-31-1959   HQIC                          2309.755\n",
       "                         - 09-30-2009                                         \n",
       "Covariance Type:                  opg                                         \n",
       "==============================================================================\n",
       "                 coef    std err          z      P>|z|      [0.025      0.975]\n",
       "------------------------------------------------------------------------------\n",
       "const       7221.1945   1.03e+04      0.698      0.485    -1.3e+04    2.75e+04\n",
       "ar.L1          0.9998      0.002    471.725      0.000       0.996       1.004\n",
       "ma.L1          0.4169      0.061      6.811      0.000       0.297       0.537\n",
       "sigma2      4586.3388    449.972     10.193      0.000    3704.410    5468.268\n",
       "===================================================================================\n",
       "Ljung-Box (L1) (Q):                   2.09   Jarque-Bera (JB):                19.03\n",
       "Prob(Q):                              0.15   Prob(JB):                         0.00\n",
       "Heteroskedasticity (H):               3.14   Skew:                            -0.34\n",
       "Prob(H) (two-sided):                  0.00   Kurtosis:                         4.33\n",
       "===================================================================================\n",
       "\n",
       "Warnings:\n",
       "[1] Covariance matrix calculated using the outer product of gradients (complex-step).\n",
       "\"\"\""
      ]
     },
     "execution_count": 143,
     "metadata": {},
     "output_type": "execute_result"
    }
   ],
   "source": [
    "realgdp_results_ar_1_ma_1.summary()"
   ]
  },
  {
   "cell_type": "markdown",
   "id": "0064f185",
   "metadata": {},
   "source": [
    "### Modelos ARMA de mayor complejidad"
   ]
  },
  {
   "cell_type": "code",
   "execution_count": 144,
   "id": "f5b52cab",
   "metadata": {},
   "outputs": [
    {
     "name": "stderr",
     "output_type": "stream",
     "text": [
      "C:\\ProgramData\\Anaconda3\\lib\\site-packages\\statsmodels\\tsa\\base\\tsa_model.py:471: ValueWarning: No frequency information was provided, so inferred frequency Q-DEC will be used.\n",
      "  self._init_dates(dates, freq)\n",
      "C:\\ProgramData\\Anaconda3\\lib\\site-packages\\statsmodels\\tsa\\base\\tsa_model.py:471: ValueWarning: No frequency information was provided, so inferred frequency Q-DEC will be used.\n",
      "  self._init_dates(dates, freq)\n",
      "C:\\ProgramData\\Anaconda3\\lib\\site-packages\\statsmodels\\tsa\\base\\tsa_model.py:471: ValueWarning: No frequency information was provided, so inferred frequency Q-DEC will be used.\n",
      "  self._init_dates(dates, freq)\n"
     ]
    }
   ],
   "source": [
    "realgdp_model_ar_1_ma_19 = ARIMA(df_macrodata['realgdp'], order=(1,0,19))"
   ]
  },
  {
   "cell_type": "code",
   "execution_count": 145,
   "id": "d32cbe41",
   "metadata": {},
   "outputs": [
    {
     "name": "stderr",
     "output_type": "stream",
     "text": [
      "C:\\ProgramData\\Anaconda3\\lib\\site-packages\\statsmodels\\tsa\\statespace\\sarimax.py:966: UserWarning: Non-stationary starting autoregressive parameters found. Using zeros as starting parameters.\n",
      "  warn('Non-stationary starting autoregressive parameters'\n",
      "C:\\ProgramData\\Anaconda3\\lib\\site-packages\\statsmodels\\base\\model.py:604: ConvergenceWarning: Maximum Likelihood optimization failed to converge. Check mle_retvals\n",
      "  warnings.warn(\"Maximum Likelihood optimization failed to \"\n"
     ]
    }
   ],
   "source": [
    "realgdp_results_ar_1_ma_19 = realgdp_model_ar_1_ma_19.fit()"
   ]
  },
  {
   "cell_type": "code",
   "execution_count": 146,
   "id": "7f7f546f",
   "metadata": {},
   "outputs": [
    {
     "data": {
      "text/html": [
       "<table class=\"simpletable\">\n",
       "<caption>SARIMAX Results</caption>\n",
       "<tr>\n",
       "  <th>Dep. Variable:</th>        <td>realgdp</td>     <th>  No. Observations:  </th>    <td>203</td>   \n",
       "</tr>\n",
       "<tr>\n",
       "  <th>Model:</th>            <td>ARIMA(1, 0, 19)</td> <th>  Log Likelihood     </th> <td>-1105.437</td>\n",
       "</tr>\n",
       "<tr>\n",
       "  <th>Date:</th>            <td>Wed, 18 Sep 2024</td> <th>  AIC                </th> <td>2254.875</td> \n",
       "</tr>\n",
       "<tr>\n",
       "  <th>Time:</th>                <td>17:58:38</td>     <th>  BIC                </th> <td>2327.765</td> \n",
       "</tr>\n",
       "<tr>\n",
       "  <th>Sample:</th>             <td>03-31-1959</td>    <th>  HQIC               </th> <td>2284.363</td> \n",
       "</tr>\n",
       "<tr>\n",
       "  <th></th>                   <td>- 09-30-2009</td>   <th>                     </th>     <td> </td>    \n",
       "</tr>\n",
       "<tr>\n",
       "  <th>Covariance Type:</th>        <td>opg</td>       <th>                     </th>     <td> </td>    \n",
       "</tr>\n",
       "</table>\n",
       "<table class=\"simpletable\">\n",
       "<tr>\n",
       "     <td></td>       <th>coef</th>     <th>std err</th>      <th>z</th>      <th>P>|z|</th>  <th>[0.025</th>    <th>0.975]</th>  \n",
       "</tr>\n",
       "<tr>\n",
       "  <th>const</th>  <td> 7221.1723</td> <td> 6714.386</td> <td>    1.075</td> <td> 0.282</td> <td>-5938.782</td> <td> 2.04e+04</td>\n",
       "</tr>\n",
       "<tr>\n",
       "  <th>ar.L1</th>  <td>    0.9980</td> <td>    0.011</td> <td>   88.905</td> <td> 0.000</td> <td>    0.976</td> <td>    1.020</td>\n",
       "</tr>\n",
       "<tr>\n",
       "  <th>ma.L1</th>  <td>    0.4852</td> <td>    0.793</td> <td>    0.612</td> <td> 0.540</td> <td>   -1.068</td> <td>    2.039</td>\n",
       "</tr>\n",
       "<tr>\n",
       "  <th>ma.L2</th>  <td>    0.4720</td> <td>    0.179</td> <td>    2.633</td> <td> 0.008</td> <td>    0.121</td> <td>    0.823</td>\n",
       "</tr>\n",
       "<tr>\n",
       "  <th>ma.L3</th>  <td>    0.2015</td> <td>    0.194</td> <td>    1.038</td> <td> 0.299</td> <td>   -0.179</td> <td>    0.582</td>\n",
       "</tr>\n",
       "<tr>\n",
       "  <th>ma.L4</th>  <td>    0.3438</td> <td>    0.676</td> <td>    0.509</td> <td> 0.611</td> <td>   -0.981</td> <td>    1.668</td>\n",
       "</tr>\n",
       "<tr>\n",
       "  <th>ma.L5</th>  <td>    0.1777</td> <td>    0.573</td> <td>    0.310</td> <td> 0.757</td> <td>   -0.946</td> <td>    1.302</td>\n",
       "</tr>\n",
       "<tr>\n",
       "  <th>ma.L6</th>  <td>    0.3244</td> <td>    0.628</td> <td>    0.517</td> <td> 0.605</td> <td>   -0.906</td> <td>    1.554</td>\n",
       "</tr>\n",
       "<tr>\n",
       "  <th>ma.L7</th>  <td>    0.1898</td> <td>    0.205</td> <td>    0.928</td> <td> 0.353</td> <td>   -0.211</td> <td>    0.591</td>\n",
       "</tr>\n",
       "<tr>\n",
       "  <th>ma.L8</th>  <td>    0.0536</td> <td>    0.212</td> <td>    0.253</td> <td> 0.800</td> <td>   -0.362</td> <td>    0.469</td>\n",
       "</tr>\n",
       "<tr>\n",
       "  <th>ma.L9</th>  <td>    0.2866</td> <td>    0.436</td> <td>    0.657</td> <td> 0.511</td> <td>   -0.569</td> <td>    1.142</td>\n",
       "</tr>\n",
       "<tr>\n",
       "  <th>ma.L10</th> <td>    0.3519</td> <td>    0.341</td> <td>    1.033</td> <td> 0.302</td> <td>   -0.316</td> <td>    1.020</td>\n",
       "</tr>\n",
       "<tr>\n",
       "  <th>ma.L11</th> <td>    0.3497</td> <td>    0.632</td> <td>    0.553</td> <td> 0.580</td> <td>   -0.890</td> <td>    1.589</td>\n",
       "</tr>\n",
       "<tr>\n",
       "  <th>ma.L12</th> <td>    0.0233</td> <td>    0.190</td> <td>    0.123</td> <td> 0.902</td> <td>   -0.350</td> <td>    0.396</td>\n",
       "</tr>\n",
       "<tr>\n",
       "  <th>ma.L13</th> <td>    0.1403</td> <td>    0.251</td> <td>    0.560</td> <td> 0.576</td> <td>   -0.351</td> <td>    0.631</td>\n",
       "</tr>\n",
       "<tr>\n",
       "  <th>ma.L14</th> <td>    0.1246</td> <td>    0.454</td> <td>    0.274</td> <td> 0.784</td> <td>   -0.765</td> <td>    1.015</td>\n",
       "</tr>\n",
       "<tr>\n",
       "  <th>ma.L15</th> <td>   -0.1373</td> <td>    0.392</td> <td>   -0.350</td> <td> 0.726</td> <td>   -0.906</td> <td>    0.632</td>\n",
       "</tr>\n",
       "<tr>\n",
       "  <th>ma.L16</th> <td>    0.1808</td> <td>    0.212</td> <td>    0.855</td> <td> 0.393</td> <td>   -0.234</td> <td>    0.596</td>\n",
       "</tr>\n",
       "<tr>\n",
       "  <th>ma.L17</th> <td>    0.1831</td> <td>    0.249</td> <td>    0.735</td> <td> 0.463</td> <td>   -0.305</td> <td>    0.671</td>\n",
       "</tr>\n",
       "<tr>\n",
       "  <th>ma.L18</th> <td>    0.0413</td> <td>    0.187</td> <td>    0.221</td> <td> 0.825</td> <td>   -0.325</td> <td>    0.407</td>\n",
       "</tr>\n",
       "<tr>\n",
       "  <th>ma.L19</th> <td>    0.1140</td> <td>    0.207</td> <td>    0.550</td> <td> 0.582</td> <td>   -0.292</td> <td>    0.520</td>\n",
       "</tr>\n",
       "<tr>\n",
       "  <th>sigma2</th> <td> 4436.5712</td> <td> 4250.823</td> <td>    1.044</td> <td> 0.297</td> <td>-3894.888</td> <td> 1.28e+04</td>\n",
       "</tr>\n",
       "</table>\n",
       "<table class=\"simpletable\">\n",
       "<tr>\n",
       "  <th>Ljung-Box (L1) (Q):</th>     <td>0.22</td> <th>  Jarque-Bera (JB):  </th> <td>0.33</td>\n",
       "</tr>\n",
       "<tr>\n",
       "  <th>Prob(Q):</th>                <td>0.64</td> <th>  Prob(JB):          </th> <td>0.85</td>\n",
       "</tr>\n",
       "<tr>\n",
       "  <th>Heteroskedasticity (H):</th> <td>2.12</td> <th>  Skew:              </th> <td>0.03</td>\n",
       "</tr>\n",
       "<tr>\n",
       "  <th>Prob(H) (two-sided):</th>    <td>0.00</td> <th>  Kurtosis:          </th> <td>3.19</td>\n",
       "</tr>\n",
       "</table><br/><br/>Warnings:<br/>[1] Covariance matrix calculated using the outer product of gradients (complex-step)."
      ],
      "text/plain": [
       "<class 'statsmodels.iolib.summary.Summary'>\n",
       "\"\"\"\n",
       "                               SARIMAX Results                                \n",
       "==============================================================================\n",
       "Dep. Variable:                realgdp   No. Observations:                  203\n",
       "Model:                ARIMA(1, 0, 19)   Log Likelihood               -1105.437\n",
       "Date:                Wed, 18 Sep 2024   AIC                           2254.875\n",
       "Time:                        17:58:38   BIC                           2327.765\n",
       "Sample:                    03-31-1959   HQIC                          2284.363\n",
       "                         - 09-30-2009                                         \n",
       "Covariance Type:                  opg                                         \n",
       "==============================================================================\n",
       "                 coef    std err          z      P>|z|      [0.025      0.975]\n",
       "------------------------------------------------------------------------------\n",
       "const       7221.1723   6714.386      1.075      0.282   -5938.782    2.04e+04\n",
       "ar.L1          0.9980      0.011     88.905      0.000       0.976       1.020\n",
       "ma.L1          0.4852      0.793      0.612      0.540      -1.068       2.039\n",
       "ma.L2          0.4720      0.179      2.633      0.008       0.121       0.823\n",
       "ma.L3          0.2015      0.194      1.038      0.299      -0.179       0.582\n",
       "ma.L4          0.3438      0.676      0.509      0.611      -0.981       1.668\n",
       "ma.L5          0.1777      0.573      0.310      0.757      -0.946       1.302\n",
       "ma.L6          0.3244      0.628      0.517      0.605      -0.906       1.554\n",
       "ma.L7          0.1898      0.205      0.928      0.353      -0.211       0.591\n",
       "ma.L8          0.0536      0.212      0.253      0.800      -0.362       0.469\n",
       "ma.L9          0.2866      0.436      0.657      0.511      -0.569       1.142\n",
       "ma.L10         0.3519      0.341      1.033      0.302      -0.316       1.020\n",
       "ma.L11         0.3497      0.632      0.553      0.580      -0.890       1.589\n",
       "ma.L12         0.0233      0.190      0.123      0.902      -0.350       0.396\n",
       "ma.L13         0.1403      0.251      0.560      0.576      -0.351       0.631\n",
       "ma.L14         0.1246      0.454      0.274      0.784      -0.765       1.015\n",
       "ma.L15        -0.1373      0.392     -0.350      0.726      -0.906       0.632\n",
       "ma.L16         0.1808      0.212      0.855      0.393      -0.234       0.596\n",
       "ma.L17         0.1831      0.249      0.735      0.463      -0.305       0.671\n",
       "ma.L18         0.0413      0.187      0.221      0.825      -0.325       0.407\n",
       "ma.L19         0.1140      0.207      0.550      0.582      -0.292       0.520\n",
       "sigma2      4436.5712   4250.823      1.044      0.297   -3894.888    1.28e+04\n",
       "===================================================================================\n",
       "Ljung-Box (L1) (Q):                   0.22   Jarque-Bera (JB):                 0.33\n",
       "Prob(Q):                              0.64   Prob(JB):                         0.85\n",
       "Heteroskedasticity (H):               2.12   Skew:                             0.03\n",
       "Prob(H) (two-sided):                  0.00   Kurtosis:                         3.19\n",
       "===================================================================================\n",
       "\n",
       "Warnings:\n",
       "[1] Covariance matrix calculated using the outer product of gradients (complex-step).\n",
       "\"\"\""
      ]
     },
     "execution_count": 146,
     "metadata": {},
     "output_type": "execute_result"
    }
   ],
   "source": [
    "realgdp_results_ar_1_ma_19.summary()"
   ]
  },
  {
   "cell_type": "markdown",
   "id": "acf93c73",
   "metadata": {},
   "source": [
    "### Pruebas LLR"
   ]
  },
  {
   "cell_type": "code",
   "execution_count": 147,
   "id": "7388b6f6",
   "metadata": {},
   "outputs": [
    {
     "name": "stderr",
     "output_type": "stream",
     "text": [
      "C:\\ProgramData\\Anaconda3\\lib\\site-packages\\statsmodels\\tsa\\statespace\\sarimax.py:966: UserWarning: Non-stationary starting autoregressive parameters found. Using zeros as starting parameters.\n",
      "  warn('Non-stationary starting autoregressive parameters'\n",
      "C:\\ProgramData\\Anaconda3\\lib\\site-packages\\statsmodels\\tsa\\statespace\\sarimax.py:966: UserWarning: Non-stationary starting autoregressive parameters found. Using zeros as starting parameters.\n",
      "  warn('Non-stationary starting autoregressive parameters'\n"
     ]
    },
    {
     "name": "stdout",
     "output_type": "stream",
     "text": [
      "\n",
      "ARMA vs AR  1.009098381428772e-14\n"
     ]
    },
    {
     "name": "stderr",
     "output_type": "stream",
     "text": [
      "C:\\ProgramData\\Anaconda3\\lib\\site-packages\\statsmodels\\tsa\\statespace\\sarimax.py:966: UserWarning: Non-stationary starting autoregressive parameters found. Using zeros as starting parameters.\n",
      "  warn('Non-stationary starting autoregressive parameters'\n"
     ]
    },
    {
     "name": "stdout",
     "output_type": "stream",
     "text": [
      "\n",
      "ARMA vs MA  2.0894561306201366e-281\n"
     ]
    },
    {
     "name": "stderr",
     "output_type": "stream",
     "text": [
      "C:\\ProgramData\\Anaconda3\\lib\\site-packages\\statsmodels\\tsa\\statespace\\sarimax.py:966: UserWarning: Non-stationary starting autoregressive parameters found. Using zeros as starting parameters.\n",
      "  warn('Non-stationary starting autoregressive parameters'\n",
      "C:\\ProgramData\\Anaconda3\\lib\\site-packages\\statsmodels\\tsa\\statespace\\sarimax.py:966: UserWarning: Non-stationary starting autoregressive parameters found. Using zeros as starting parameters.\n",
      "  warn('Non-stationary starting autoregressive parameters'\n"
     ]
    },
    {
     "name": "stdout",
     "output_type": "stream",
     "text": [
      "\n",
      "ARMA vs ARMA(1,19)  9.115909176206802e-11\n"
     ]
    },
    {
     "name": "stderr",
     "output_type": "stream",
     "text": [
      "C:\\ProgramData\\Anaconda3\\lib\\site-packages\\statsmodels\\base\\model.py:604: ConvergenceWarning: Maximum Likelihood optimization failed to converge. Check mle_retvals\n",
      "  warnings.warn(\"Maximum Likelihood optimization failed to \"\n"
     ]
    }
   ],
   "source": [
    "print(\"\\nARMA vs AR \", LLR_test(realgdp_model_ar_1, realgdp_model_ar_1_ma_1))\n",
    "print(\"\\nARMA vs MA \", LLR_test(realgdp_model_ma_1, realgdp_model_ar_1_ma_1))\n",
    "print(\"\\nARMA vs ARMA(1,19) \", LLR_test(realgdp_model_ar_1_ma_1, realgdp_model_ar_1_ma_19,DF=18))"
   ]
  },
  {
   "cell_type": "markdown",
   "id": "aa0204ed",
   "metadata": {},
   "source": [
    "## Datos macroeconómicos de EEUU: Inflación"
   ]
  },
  {
   "cell_type": "markdown",
   "id": "19db2725",
   "metadata": {},
   "source": [
    "## Modelo ARMA(1,1)"
   ]
  },
  {
   "cell_type": "code",
   "execution_count": 148,
   "id": "f7fddd80",
   "metadata": {},
   "outputs": [
    {
     "name": "stderr",
     "output_type": "stream",
     "text": [
      "C:\\ProgramData\\Anaconda3\\lib\\site-packages\\statsmodels\\tsa\\base\\tsa_model.py:471: ValueWarning: No frequency information was provided, so inferred frequency Q-DEC will be used.\n",
      "  self._init_dates(dates, freq)\n",
      "C:\\ProgramData\\Anaconda3\\lib\\site-packages\\statsmodels\\tsa\\base\\tsa_model.py:471: ValueWarning: No frequency information was provided, so inferred frequency Q-DEC will be used.\n",
      "  self._init_dates(dates, freq)\n",
      "C:\\ProgramData\\Anaconda3\\lib\\site-packages\\statsmodels\\tsa\\base\\tsa_model.py:471: ValueWarning: No frequency information was provided, so inferred frequency Q-DEC will be used.\n",
      "  self._init_dates(dates, freq)\n"
     ]
    }
   ],
   "source": [
    "inflation_model_ar_1_ma_1 = ARIMA(df_macrodata['infl'], order=(1,0,1))"
   ]
  },
  {
   "cell_type": "code",
   "execution_count": 149,
   "id": "ef5ae068",
   "metadata": {},
   "outputs": [],
   "source": [
    "inflation_results_ar_1_ma_1 = inflation_model_ar_1_ma_1.fit()"
   ]
  },
  {
   "cell_type": "code",
   "execution_count": 150,
   "id": "13b4c164",
   "metadata": {},
   "outputs": [
    {
     "data": {
      "text/html": [
       "<table class=\"simpletable\">\n",
       "<caption>SARIMAX Results</caption>\n",
       "<tr>\n",
       "  <th>Dep. Variable:</th>         <td>infl</td>       <th>  No. Observations:  </th>    <td>203</td>  \n",
       "</tr>\n",
       "<tr>\n",
       "  <th>Model:</th>            <td>ARIMA(1, 0, 1)</td>  <th>  Log Likelihood     </th> <td>-456.076</td>\n",
       "</tr>\n",
       "<tr>\n",
       "  <th>Date:</th>            <td>Wed, 18 Sep 2024</td> <th>  AIC                </th>  <td>920.151</td>\n",
       "</tr>\n",
       "<tr>\n",
       "  <th>Time:</th>                <td>17:58:45</td>     <th>  BIC                </th>  <td>933.404</td>\n",
       "</tr>\n",
       "<tr>\n",
       "  <th>Sample:</th>             <td>03-31-1959</td>    <th>  HQIC               </th>  <td>925.513</td>\n",
       "</tr>\n",
       "<tr>\n",
       "  <th></th>                   <td>- 09-30-2009</td>   <th>                     </th>     <td> </td>   \n",
       "</tr>\n",
       "<tr>\n",
       "  <th>Covariance Type:</th>        <td>opg</td>       <th>                     </th>     <td> </td>   \n",
       "</tr>\n",
       "</table>\n",
       "<table class=\"simpletable\">\n",
       "<tr>\n",
       "     <td></td>       <th>coef</th>     <th>std err</th>      <th>z</th>      <th>P>|z|</th>  <th>[0.025</th>    <th>0.975]</th>  \n",
       "</tr>\n",
       "<tr>\n",
       "  <th>const</th>  <td>    3.6931</td> <td>    1.121</td> <td>    3.294</td> <td> 0.001</td> <td>    1.496</td> <td>    5.891</td>\n",
       "</tr>\n",
       "<tr>\n",
       "  <th>ar.L1</th>  <td>    0.9340</td> <td>    0.030</td> <td>   31.178</td> <td> 0.000</td> <td>    0.875</td> <td>    0.993</td>\n",
       "</tr>\n",
       "<tr>\n",
       "  <th>ma.L1</th>  <td>   -0.5754</td> <td>    0.055</td> <td>  -10.555</td> <td> 0.000</td> <td>   -0.682</td> <td>   -0.469</td>\n",
       "</tr>\n",
       "<tr>\n",
       "  <th>sigma2</th> <td>    5.2119</td> <td>    0.316</td> <td>   16.513</td> <td> 0.000</td> <td>    4.593</td> <td>    5.831</td>\n",
       "</tr>\n",
       "</table>\n",
       "<table class=\"simpletable\">\n",
       "<tr>\n",
       "  <th>Ljung-Box (L1) (Q):</th>     <td>0.08</td> <th>  Jarque-Bera (JB):  </th> <td>178.46</td>\n",
       "</tr>\n",
       "<tr>\n",
       "  <th>Prob(Q):</th>                <td>0.78</td> <th>  Prob(JB):          </th>  <td>0.00</td> \n",
       "</tr>\n",
       "<tr>\n",
       "  <th>Heteroskedasticity (H):</th> <td>1.71</td> <th>  Skew:              </th>  <td>-0.82</td>\n",
       "</tr>\n",
       "<tr>\n",
       "  <th>Prob(H) (two-sided):</th>    <td>0.03</td> <th>  Kurtosis:          </th>  <td>7.29</td> \n",
       "</tr>\n",
       "</table><br/><br/>Warnings:<br/>[1] Covariance matrix calculated using the outer product of gradients (complex-step)."
      ],
      "text/plain": [
       "<class 'statsmodels.iolib.summary.Summary'>\n",
       "\"\"\"\n",
       "                               SARIMAX Results                                \n",
       "==============================================================================\n",
       "Dep. Variable:                   infl   No. Observations:                  203\n",
       "Model:                 ARIMA(1, 0, 1)   Log Likelihood                -456.076\n",
       "Date:                Wed, 18 Sep 2024   AIC                            920.151\n",
       "Time:                        17:58:45   BIC                            933.404\n",
       "Sample:                    03-31-1959   HQIC                           925.513\n",
       "                         - 09-30-2009                                         \n",
       "Covariance Type:                  opg                                         \n",
       "==============================================================================\n",
       "                 coef    std err          z      P>|z|      [0.025      0.975]\n",
       "------------------------------------------------------------------------------\n",
       "const          3.6931      1.121      3.294      0.001       1.496       5.891\n",
       "ar.L1          0.9340      0.030     31.178      0.000       0.875       0.993\n",
       "ma.L1         -0.5754      0.055    -10.555      0.000      -0.682      -0.469\n",
       "sigma2         5.2119      0.316     16.513      0.000       4.593       5.831\n",
       "===================================================================================\n",
       "Ljung-Box (L1) (Q):                   0.08   Jarque-Bera (JB):               178.46\n",
       "Prob(Q):                              0.78   Prob(JB):                         0.00\n",
       "Heteroskedasticity (H):               1.71   Skew:                            -0.82\n",
       "Prob(H) (two-sided):                  0.03   Kurtosis:                         7.29\n",
       "===================================================================================\n",
       "\n",
       "Warnings:\n",
       "[1] Covariance matrix calculated using the outer product of gradients (complex-step).\n",
       "\"\"\""
      ]
     },
     "execution_count": 150,
     "metadata": {},
     "output_type": "execute_result"
    }
   ],
   "source": [
    "inflation_results_ar_1_ma_1.summary()"
   ]
  },
  {
   "cell_type": "markdown",
   "id": "d59efa33",
   "metadata": {},
   "source": [
    "### Modelos ARMA de mayor complejidad"
   ]
  },
  {
   "cell_type": "code",
   "execution_count": 151,
   "id": "c9851e73",
   "metadata": {},
   "outputs": [
    {
     "data": {
      "text/html": [
       "<table class=\"simpletable\">\n",
       "<caption>SARIMAX Results</caption>\n",
       "<tr>\n",
       "  <th>Dep. Variable:</th>        <td>Ventas</td>      <th>  No. Observations:  </th>    <td>365</td>   \n",
       "</tr>\n",
       "<tr>\n",
       "  <th>Model:</th>            <td>ARIMA(0, 0, 7)</td>  <th>  Log Likelihood     </th> <td>-3383.598</td>\n",
       "</tr>\n",
       "<tr>\n",
       "  <th>Date:</th>            <td>Wed, 18 Sep 2024</td> <th>  AIC                </th> <td>6785.197</td> \n",
       "</tr>\n",
       "<tr>\n",
       "  <th>Time:</th>                <td>17:58:45</td>     <th>  BIC                </th> <td>6820.296</td> \n",
       "</tr>\n",
       "<tr>\n",
       "  <th>Sample:</th>             <td>01-01-2023</td>    <th>  HQIC               </th> <td>6799.145</td> \n",
       "</tr>\n",
       "<tr>\n",
       "  <th></th>                   <td>- 12-31-2023</td>   <th>                     </th>     <td> </td>    \n",
       "</tr>\n",
       "<tr>\n",
       "  <th>Covariance Type:</th>        <td>opg</td>       <th>                     </th>     <td> </td>    \n",
       "</tr>\n",
       "</table>\n",
       "<table class=\"simpletable\">\n",
       "<tr>\n",
       "     <td></td>       <th>coef</th>     <th>std err</th>      <th>z</th>      <th>P>|z|</th>  <th>[0.025</th>    <th>0.975]</th>  \n",
       "</tr>\n",
       "<tr>\n",
       "  <th>const</th>  <td> 1.883e+04</td> <td>  337.588</td> <td>   55.782</td> <td> 0.000</td> <td> 1.82e+04</td> <td> 1.95e+04</td>\n",
       "</tr>\n",
       "<tr>\n",
       "  <th>ma.L1</th>  <td>    0.3365</td> <td>    0.060</td> <td>    5.602</td> <td> 0.000</td> <td>    0.219</td> <td>    0.454</td>\n",
       "</tr>\n",
       "<tr>\n",
       "  <th>ma.L2</th>  <td>    0.1060</td> <td>    0.066</td> <td>    1.597</td> <td> 0.110</td> <td>   -0.024</td> <td>    0.236</td>\n",
       "</tr>\n",
       "<tr>\n",
       "  <th>ma.L3</th>  <td>   -0.0460</td> <td>    0.065</td> <td>   -0.705</td> <td> 0.481</td> <td>   -0.174</td> <td>    0.082</td>\n",
       "</tr>\n",
       "<tr>\n",
       "  <th>ma.L4</th>  <td>   -0.0028</td> <td>    0.060</td> <td>   -0.046</td> <td> 0.963</td> <td>   -0.120</td> <td>    0.115</td>\n",
       "</tr>\n",
       "<tr>\n",
       "  <th>ma.L5</th>  <td>    0.1591</td> <td>    0.066</td> <td>    2.409</td> <td> 0.016</td> <td>    0.030</td> <td>    0.289</td>\n",
       "</tr>\n",
       "<tr>\n",
       "  <th>ma.L6</th>  <td>    0.2743</td> <td>    0.070</td> <td>    3.940</td> <td> 0.000</td> <td>    0.138</td> <td>    0.411</td>\n",
       "</tr>\n",
       "<tr>\n",
       "  <th>ma.L7</th>  <td>    0.2532</td> <td>    0.055</td> <td>    4.635</td> <td> 0.000</td> <td>    0.146</td> <td>    0.360</td>\n",
       "</tr>\n",
       "<tr>\n",
       "  <th>sigma2</th> <td> 7.828e+06</td> <td> 7.09e+05</td> <td>   11.034</td> <td> 0.000</td> <td> 6.44e+06</td> <td> 9.22e+06</td>\n",
       "</tr>\n",
       "</table>\n",
       "<table class=\"simpletable\">\n",
       "<tr>\n",
       "  <th>Ljung-Box (L1) (Q):</th>     <td>0.63</td> <th>  Jarque-Bera (JB):  </th> <td>2.77</td> \n",
       "</tr>\n",
       "<tr>\n",
       "  <th>Prob(Q):</th>                <td>0.43</td> <th>  Prob(JB):          </th> <td>0.25</td> \n",
       "</tr>\n",
       "<tr>\n",
       "  <th>Heteroskedasticity (H):</th> <td>0.92</td> <th>  Skew:              </th> <td>-0.21</td>\n",
       "</tr>\n",
       "<tr>\n",
       "  <th>Prob(H) (two-sided):</th>    <td>0.63</td> <th>  Kurtosis:          </th> <td>3.08</td> \n",
       "</tr>\n",
       "</table><br/><br/>Warnings:<br/>[1] Covariance matrix calculated using the outer product of gradients (complex-step)."
      ],
      "text/plain": [
       "<class 'statsmodels.iolib.summary.Summary'>\n",
       "\"\"\"\n",
       "                               SARIMAX Results                                \n",
       "==============================================================================\n",
       "Dep. Variable:                 Ventas   No. Observations:                  365\n",
       "Model:                 ARIMA(0, 0, 7)   Log Likelihood               -3383.598\n",
       "Date:                Wed, 18 Sep 2024   AIC                           6785.197\n",
       "Time:                        17:58:45   BIC                           6820.296\n",
       "Sample:                    01-01-2023   HQIC                          6799.145\n",
       "                         - 12-31-2023                                         \n",
       "Covariance Type:                  opg                                         \n",
       "==============================================================================\n",
       "                 coef    std err          z      P>|z|      [0.025      0.975]\n",
       "------------------------------------------------------------------------------\n",
       "const       1.883e+04    337.588     55.782      0.000    1.82e+04    1.95e+04\n",
       "ma.L1          0.3365      0.060      5.602      0.000       0.219       0.454\n",
       "ma.L2          0.1060      0.066      1.597      0.110      -0.024       0.236\n",
       "ma.L3         -0.0460      0.065     -0.705      0.481      -0.174       0.082\n",
       "ma.L4         -0.0028      0.060     -0.046      0.963      -0.120       0.115\n",
       "ma.L5          0.1591      0.066      2.409      0.016       0.030       0.289\n",
       "ma.L6          0.2743      0.070      3.940      0.000       0.138       0.411\n",
       "ma.L7          0.2532      0.055      4.635      0.000       0.146       0.360\n",
       "sigma2      7.828e+06   7.09e+05     11.034      0.000    6.44e+06    9.22e+06\n",
       "===================================================================================\n",
       "Ljung-Box (L1) (Q):                   0.63   Jarque-Bera (JB):                 2.77\n",
       "Prob(Q):                              0.43   Prob(JB):                         0.25\n",
       "Heteroskedasticity (H):               0.92   Skew:                            -0.21\n",
       "Prob(H) (two-sided):                  0.63   Kurtosis:                         3.08\n",
       "===================================================================================\n",
       "\n",
       "Warnings:\n",
       "[1] Covariance matrix calculated using the outer product of gradients (complex-step).\n",
       "\"\"\""
      ]
     },
     "execution_count": 151,
     "metadata": {},
     "output_type": "execute_result"
    }
   ],
   "source": [
    "ventas_results_ma_7.summary()"
   ]
  },
  {
   "cell_type": "code",
   "execution_count": 152,
   "id": "15078253",
   "metadata": {},
   "outputs": [
    {
     "ename": "NameError",
     "evalue": "name 'inflation_model_ar_3_ma_10' is not defined",
     "output_type": "error",
     "traceback": [
      "\u001b[1;31m---------------------------------------------------------------------------\u001b[0m",
      "\u001b[1;31mNameError\u001b[0m                                 Traceback (most recent call last)",
      "\u001b[1;32m~\\AppData\\Local\\Temp\\ipykernel_21892\\2279483734.py\u001b[0m in \u001b[0;36m<module>\u001b[1;34m\u001b[0m\n\u001b[1;32m----> 1\u001b[1;33m \u001b[0minflation_results_ar_3_ma_10\u001b[0m \u001b[1;33m=\u001b[0m \u001b[0minflation_model_ar_3_ma_10\u001b[0m\u001b[1;33m.\u001b[0m\u001b[0mfit\u001b[0m\u001b[1;33m(\u001b[0m\u001b[1;33m)\u001b[0m\u001b[1;33m\u001b[0m\u001b[1;33m\u001b[0m\u001b[0m\n\u001b[0m",
      "\u001b[1;31mNameError\u001b[0m: name 'inflation_model_ar_3_ma_10' is not defined"
     ]
    }
   ],
   "source": [
    "inflation_results_ar_3_ma_10 = inflation_model_ar_3_ma_10.fit()"
   ]
  },
  {
   "cell_type": "code",
   "execution_count": null,
   "id": "3e1aebe5",
   "metadata": {},
   "outputs": [],
   "source": [
    "inflation_results_ar_3_ma_10.summary()"
   ]
  },
  {
   "cell_type": "code",
   "execution_count": null,
   "id": "4f365ad6",
   "metadata": {},
   "outputs": [],
   "source": []
  },
  {
   "cell_type": "code",
   "execution_count": null,
   "id": "b4547342",
   "metadata": {},
   "outputs": [],
   "source": []
  },
  {
   "cell_type": "code",
   "execution_count": null,
   "id": "65ae8f81",
   "metadata": {},
   "outputs": [],
   "source": []
  },
  {
   "cell_type": "code",
   "execution_count": null,
   "id": "97d2da4c",
   "metadata": {},
   "outputs": [],
   "source": []
  }
 ],
 "metadata": {
  "kernelspec": {
   "display_name": "Python 3 (ipykernel)",
   "language": "python",
   "name": "python3"
  },
  "language_info": {
   "codemirror_mode": {
    "name": "ipython",
    "version": 3
   },
   "file_extension": ".py",
   "mimetype": "text/x-python",
   "name": "python",
   "nbconvert_exporter": "python",
   "pygments_lexer": "ipython3",
   "version": "3.9.13"
  }
 },
 "nbformat": 4,
 "nbformat_minor": 5
}
